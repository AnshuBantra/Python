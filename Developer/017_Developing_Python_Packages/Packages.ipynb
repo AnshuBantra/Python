{
 "cells": [
  {
   "cell_type": "markdown",
   "metadata": {},
   "source": [
    "# Developing Python Packages"
   ]
  },
  {
   "cell_type": "markdown",
   "metadata": {},
   "source": [
    "## From Loose Code to Local Package"
   ]
  },
  {
   "cell_type": "code",
   "execution_count": 55,
   "metadata": {},
   "outputs": [],
   "source": [
    "def count_words(filepath, words_list):\n",
    "  # Open the text file\n",
    "  with open(filepath) as file:\n",
    "    text = file.read()\n",
    "\n",
    "  wrd_count = []\n",
    "\n",
    "  lst = text.lower().split()\n",
    "  for _ in words_list:\n",
    "    wrd_count.append((_, lst.count(_)))\n",
    "  # return lst.count('cats')\n",
    "  return wrd_count"
   ]
  },
  {
   "cell_type": "code",
   "execution_count": 56,
   "metadata": {},
   "outputs": [
    {
     "data": {
      "text/plain": [
       "[('cat', 0), ('cats', 3)]"
      ]
     },
     "execution_count": 56,
     "metadata": {},
     "output_type": "execute_result"
    }
   ],
   "source": [
    "count_words('alice_ch1.txt', ['cat', 'cats'])"
   ]
  },
  {
   "cell_type": "code",
   "execution_count": 57,
   "metadata": {},
   "outputs": [
    {
     "data": {
      "text/plain": [
       "[('cat', 0), ('cats', 3)]"
      ]
     },
     "execution_count": 57,
     "metadata": {},
     "output_type": "execute_result"
    }
   ],
   "source": [
    "import textanalysis.textanalysis as ta\n",
    "ta.count_words('alice_ch1.txt', ['cat', 'cats'])"
   ]
  },
  {
   "cell_type": "code",
   "execution_count": 1,
   "metadata": {},
   "outputs": [],
   "source": [
    "def some(lst:list, wrds:str) -> dict:\n",
    "  '''\n",
    "  some _summary_\n",
    "\n",
    "  Parameters\n",
    "  ----------\n",
    "  lst : list\n",
    "      _description_\n",
    "  wrds : str\n",
    "      _description_\n",
    "\n",
    "  Returns\n",
    "  -------\n",
    "  dict\n",
    "      _description_\n",
    "  '''"
   ]
  },
  {
   "cell_type": "code",
   "execution_count": null,
   "metadata": {},
   "outputs": [],
   "source": [
    "Structuring imports"
   ]
  }
 ],
 "metadata": {
  "kernelspec": {
   "display_name": "Python 3",
   "language": "python",
   "name": "python3"
  },
  "language_info": {
   "codemirror_mode": {
    "name": "ipython",
    "version": 3
   },
   "file_extension": ".py",
   "mimetype": "text/x-python",
   "name": "python",
   "nbconvert_exporter": "python",
   "pygments_lexer": "ipython3",
   "version": "3.11.5"
  }
 },
 "nbformat": 4,
 "nbformat_minor": 2
}
