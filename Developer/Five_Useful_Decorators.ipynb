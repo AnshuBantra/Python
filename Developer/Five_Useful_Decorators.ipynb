{
 "cells": [
  {
   "cell_type": "code",
   "execution_count": 2,
   "metadata": {},
   "outputs": [
    {
     "name": "stdout",
     "output_type": "stream",
     "text": [
      "Running (1): connect()\n",
      "Error: Exception('Could not connect to internet...') -> Retrying...\n",
      "Running (2): connect()\n",
      "Error: Exception('Could not connect to internet...') -> Retrying...\n",
      "Running (3): connect()\n",
      "Error: Exception('Could not connect to internet...').\n",
      "\"connect()\" failed after 3 retries.\n"
     ]
    }
   ],
   "source": [
    "import time\n",
    "from functools import wraps\n",
    "from typing import Callable, Any\n",
    "from time import sleep\n",
    "\n",
    "\n",
    "def retry(retries: int = 3, delay: float = 1) -> Callable:\n",
    "    \"\"\"\n",
    "    Attempt to call a function, if it fails, try again with a specified delay.\n",
    "\n",
    "    :param retries: The max amount of retries you want for the function call\n",
    "    :param delay: The delay (in seconds) between each function retry\n",
    "    :return:\n",
    "    \"\"\"\n",
    "\n",
    "    # Don't let the user use this decorator if they are high\n",
    "    if retries < 1 or delay <= 0:\n",
    "        raise ValueError('Are you high, mate?')\n",
    "\n",
    "    def decorator(func: Callable) -> Callable:\n",
    "        @wraps(func)\n",
    "        def wrapper(*args, **kwargs) -> Any:\n",
    "            for i in range(1, retries + 1):  # 1 to retries + 1 since upper bound is exclusive\n",
    "\n",
    "                try:\n",
    "                    print(f'Running ({i}): {func.__name__}()')\n",
    "                    return func(*args, **kwargs)\n",
    "                except Exception as e:\n",
    "                    # Break out of the loop if the max amount of retries is exceeded\n",
    "                    if i == retries:\n",
    "                        print(f'Error: {repr(e)}.')\n",
    "                        print(f'\"{func.__name__}()\" failed after {retries} retries.')\n",
    "                        break\n",
    "                    else:\n",
    "                        print(f'Error: {repr(e)} -> Retrying...')\n",
    "                        sleep(delay)  # Add a delay before running the next iteration\n",
    "\n",
    "        return wrapper\n",
    "\n",
    "    return decorator\n",
    "\n",
    "\n",
    "@retry(retries=3, delay=1)\n",
    "def connect() -> None:\n",
    "    time.sleep(1)\n",
    "    raise Exception('Could not connect to internet...')\n",
    "\n",
    "\n",
    "def main() -> None:\n",
    "    connect()\n",
    "\n",
    "\n",
    "if __name__ == '__main__':\n",
    "    main()"
   ]
  },
  {
   "cell_type": "code",
   "execution_count": 1,
   "metadata": {},
   "outputs": [],
   "source": [
    "import time \n",
    "def connect()-> None:\n",
    "    time.sleep(1)\n",
    "    raise Exception('Could not connect ... ')"
   ]
  },
  {
   "cell_type": "code",
   "execution_count": null,
   "metadata": {},
   "outputs": [],
   "source": []
  }
 ],
 "metadata": {
  "kernelspec": {
   "display_name": "venv",
   "language": "python",
   "name": "python3"
  },
  "language_info": {
   "codemirror_mode": {
    "name": "ipython",
    "version": 3
   },
   "file_extension": ".py",
   "mimetype": "text/x-python",
   "name": "python",
   "nbconvert_exporter": "python",
   "pygments_lexer": "ipython3",
   "version": "3.11.5"
  }
 },
 "nbformat": 4,
 "nbformat_minor": 2
}
