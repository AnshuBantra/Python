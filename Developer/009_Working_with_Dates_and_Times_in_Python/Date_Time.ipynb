{
 "cells": [
  {
   "cell_type": "markdown",
   "metadata": {},
   "source": [
    "# Dates & Calendars"
   ]
  },
  {
   "cell_type": "markdown",
   "metadata": {},
   "source": [
    "## Dates in Python"
   ]
  },
  {
   "cell_type": "code",
   "execution_count": 1,
   "metadata": {},
   "outputs": [],
   "source": [
    "import datetime as dt"
   ]
  },
  {
   "cell_type": "code",
   "execution_count": 2,
   "metadata": {},
   "outputs": [
    {
     "name": "stdout",
     "output_type": "stream",
     "text": [
      "[datetime.date(2016, 10, 7), datetime.date(2017, 6, 21)]\n"
     ]
    }
   ],
   "source": [
    "two_dates = [dt.date(2016,10,7), dt.date(2017,6,21)]\n",
    "print(two_dates)"
   ]
  },
  {
   "cell_type": "code",
   "execution_count": 5,
   "metadata": {},
   "outputs": [
    {
     "name": "stdout",
     "output_type": "stream",
     "text": [
      "Year => 2016\n",
      "Month => 10\n",
      "Day => 7\n",
      "Weekday => 4\n",
      "Year => 2017\n",
      "Month => 6\n",
      "Day => 21\n",
      "Weekday => 2\n"
     ]
    }
   ],
   "source": [
    "for _ in two_dates:\n",
    "    print(f'Year => {_.year}')\n",
    "    print(f'Month => {_.month}')\n",
    "    print(f'Day => {_.day}')\n",
    "    print(f'Weekday => {_.weekday()}')"
   ]
  },
  {
   "cell_type": "markdown",
   "metadata": {},
   "source": [
    "## Date Maths"
   ]
  },
  {
   "cell_type": "code",
   "execution_count": 49,
   "metadata": {},
   "outputs": [
    {
     "name": "stdout",
     "output_type": "stream",
     "text": [
      "218\n"
     ]
    }
   ],
   "source": [
    "# Import datetime\n",
    "import datetime as dt\n",
    "\n",
    "# Create a date object for May 9th, 2007\n",
    "start = dt.date(2007, 5, 9)\n",
    "\n",
    "# Create a date object for December 13th, 2007\n",
    "end = dt.date(2007, 12, 13)\n",
    "\n",
    "# Subtract the two dates and print the number of days\n",
    "print((end - start).days)"
   ]
  },
  {
   "cell_type": "code",
   "execution_count": 12,
   "metadata": {},
   "outputs": [
    {
     "name": "stdout",
     "output_type": "stream",
     "text": [
      "{1: 0, 2: 1, 3: 0, 4: 1, 5: 8, 6: 32, 7: 21, 8: 49, 9: 70, 10: 43, 11: 9, 12: 1}\n"
     ]
    }
   ],
   "source": [
    "florida_hurricane_dates = [dt.date(1950, 8, 31),\n",
    " dt.date(1950, 9, 5),\n",
    " dt.date(1950, 10, 18),\n",
    " dt.date(1950, 10, 21),\n",
    " dt.date(1951, 5, 18),\n",
    " dt.date(1951, 10, 2),\n",
    " dt.date(1952, 2, 3),\n",
    " dt.date(1952, 8, 30),\n",
    " dt.date(1953, 6, 6),\n",
    " dt.date(1953, 8, 29),\n",
    " dt.date(1953, 9, 20),\n",
    " dt.date(1953, 9, 26),\n",
    " dt.date(1953, 10, 9),\n",
    " dt.date(1955, 8, 21),\n",
    " dt.date(1956, 7, 6),\n",
    " dt.date(1956, 9, 24),\n",
    " dt.date(1956, 10, 15),\n",
    " dt.date(1957, 6, 8),\n",
    " dt.date(1957, 9, 8),\n",
    " dt.date(1958, 9, 4),\n",
    " dt.date(1959, 6, 18),\n",
    " dt.date(1959, 10, 8),\n",
    " dt.date(1959, 10, 18),\n",
    " dt.date(1960, 7, 29),\n",
    " dt.date(1960, 9, 10),\n",
    " dt.date(1960, 9, 15),\n",
    " dt.date(1960, 9, 23),\n",
    " dt.date(1961, 9, 11),\n",
    " dt.date(1961, 10, 29),\n",
    " dt.date(1962, 8, 26),\n",
    " dt.date(1963, 10, 21),\n",
    " dt.date(1964, 6, 6),\n",
    " dt.date(1964, 8, 27),\n",
    " dt.date(1964, 9, 10),\n",
    " dt.date(1964, 9, 20),\n",
    " dt.date(1964, 10, 5),\n",
    " dt.date(1964, 10, 14),\n",
    " dt.date(1965, 6, 15),\n",
    " dt.date(1965, 9, 8),\n",
    " dt.date(1965, 9, 30),\n",
    " dt.date(1966, 6, 9),\n",
    " dt.date(1966, 6, 30),\n",
    " dt.date(1966, 7, 24),\n",
    " dt.date(1966, 10, 4),\n",
    " dt.date(1968, 6, 4),\n",
    " dt.date(1968, 6, 18),\n",
    " dt.date(1968, 7, 5),\n",
    " dt.date(1968, 8, 10),\n",
    " dt.date(1968, 8, 28),\n",
    " dt.date(1968, 9, 26),\n",
    " dt.date(1968, 10, 19),\n",
    " dt.date(1969, 6, 9),\n",
    " dt.date(1969, 8, 18),\n",
    " dt.date(1969, 8, 29),\n",
    " dt.date(1969, 9, 7),\n",
    " dt.date(1969, 9, 21),\n",
    " dt.date(1969, 10, 1),\n",
    " dt.date(1969, 10, 2),\n",
    " dt.date(1969, 10, 21),\n",
    " dt.date(1970, 5, 25),\n",
    " dt.date(1970, 7, 22),\n",
    " dt.date(1970, 8, 6),\n",
    " dt.date(1970, 9, 13),\n",
    " dt.date(1970, 9, 27),\n",
    " dt.date(1971, 8, 10),\n",
    " dt.date(1971, 8, 13),\n",
    " dt.date(1971, 8, 29),\n",
    " dt.date(1971, 9, 1),\n",
    " dt.date(1971, 9, 16),\n",
    " dt.date(1971, 10, 13),\n",
    " dt.date(1972, 5, 28),\n",
    " dt.date(1972, 6, 19),\n",
    " dt.date(1972, 9, 5),\n",
    " dt.date(1973, 6, 7),\n",
    " dt.date(1973, 6, 23),\n",
    " dt.date(1973, 9, 3),\n",
    " dt.date(1973, 9, 25),\n",
    " dt.date(1974, 6, 25),\n",
    " dt.date(1974, 9, 8),\n",
    " dt.date(1974, 9, 27),\n",
    " dt.date(1974, 10, 7),\n",
    " dt.date(1975, 6, 27),\n",
    " dt.date(1975, 7, 29),\n",
    " dt.date(1975, 9, 23),\n",
    " dt.date(1975, 10, 1),\n",
    " dt.date(1975, 10, 16),\n",
    " dt.date(1976, 5, 23),\n",
    " dt.date(1976, 6, 11),\n",
    " dt.date(1976, 8, 19),\n",
    " dt.date(1976, 9, 13),\n",
    " dt.date(1977, 8, 27),\n",
    " dt.date(1977, 9, 5),\n",
    " dt.date(1978, 6, 22),\n",
    " dt.date(1979, 7, 11),\n",
    " dt.date(1979, 9, 3),\n",
    " dt.date(1979, 9, 12),\n",
    " dt.date(1979, 9, 24),\n",
    " dt.date(1980, 8, 7),\n",
    " dt.date(1980, 11, 18),\n",
    " dt.date(1981, 8, 17),\n",
    " dt.date(1982, 6, 18),\n",
    " dt.date(1982, 9, 11),\n",
    " dt.date(1983, 8, 28),\n",
    " dt.date(1984, 9, 9),\n",
    " dt.date(1984, 9, 27),\n",
    " dt.date(1984, 10, 26),\n",
    " dt.date(1985, 7, 23),\n",
    " dt.date(1985, 8, 15),\n",
    " dt.date(1985, 10, 10),\n",
    " dt.date(1985, 11, 21),\n",
    " dt.date(1986, 6, 26),\n",
    " dt.date(1986, 8, 13),\n",
    " dt.date(1987, 8, 14),\n",
    " dt.date(1987, 9, 7),\n",
    " dt.date(1987, 10, 12),\n",
    " dt.date(1987, 11, 4),\n",
    " dt.date(1988, 5, 30),\n",
    " dt.date(1988, 8, 4),\n",
    " dt.date(1988, 8, 13),\n",
    " dt.date(1988, 8, 23),\n",
    " dt.date(1988, 9, 4),\n",
    " dt.date(1988, 9, 10),\n",
    " dt.date(1988, 9, 13),\n",
    " dt.date(1988, 11, 23),\n",
    " dt.date(1989, 9, 22),\n",
    " dt.date(1990, 5, 25),\n",
    " dt.date(1990, 10, 9),\n",
    " dt.date(1990, 10, 12),\n",
    " dt.date(1991, 6, 30),\n",
    " dt.date(1991, 10, 16),\n",
    " dt.date(1992, 6, 25),\n",
    " dt.date(1992, 8, 24),\n",
    " dt.date(1992, 9, 29),\n",
    " dt.date(1993, 6, 1),\n",
    " dt.date(1994, 7, 3),\n",
    " dt.date(1994, 8, 15),\n",
    " dt.date(1994, 10, 2),\n",
    " dt.date(1994, 11, 16),\n",
    " dt.date(1995, 6, 5),\n",
    " dt.date(1995, 7, 27),\n",
    " dt.date(1995, 8, 2),\n",
    " dt.date(1995, 8, 23),\n",
    " dt.date(1995, 10, 4),\n",
    " dt.date(1996, 7, 11),\n",
    " dt.date(1996, 9, 2),\n",
    " dt.date(1996, 10, 8),\n",
    " dt.date(1996, 10, 18),\n",
    " dt.date(1997, 7, 19),\n",
    " dt.date(1998, 9, 3),\n",
    " dt.date(1998, 9, 20),\n",
    " dt.date(1998, 9, 25),\n",
    " dt.date(1998, 11, 5),\n",
    " dt.date(1999, 8, 29),\n",
    " dt.date(1999, 9, 15),\n",
    " dt.date(1999, 9, 21),\n",
    " dt.date(1999, 10, 15),\n",
    " dt.date(2000, 8, 23),\n",
    " dt.date(2000, 9, 9),\n",
    " dt.date(2000, 9, 18),\n",
    " dt.date(2000, 9, 22),\n",
    " dt.date(2000, 10, 3),\n",
    " dt.date(2001, 6, 12),\n",
    " dt.date(2001, 8, 6),\n",
    " dt.date(2001, 9, 14),\n",
    " dt.date(2001, 11, 5),\n",
    " dt.date(2002, 7, 13),\n",
    " dt.date(2002, 8, 4),\n",
    " dt.date(2002, 9, 4),\n",
    " dt.date(2002, 9, 14),\n",
    " dt.date(2002, 9, 26),\n",
    " dt.date(2002, 10, 3),\n",
    " dt.date(2002, 10, 11),\n",
    " dt.date(2003, 4, 20),\n",
    " dt.date(2003, 6, 30),\n",
    " dt.date(2003, 7, 25),\n",
    " dt.date(2003, 8, 14),\n",
    " dt.date(2003, 8, 30),\n",
    " dt.date(2003, 9, 6),\n",
    " dt.date(2003, 9, 13),\n",
    " dt.date(2004, 8, 12),\n",
    " dt.date(2004, 8, 13),\n",
    " dt.date(2004, 9, 5),\n",
    " dt.date(2004, 9, 13),\n",
    " dt.date(2004, 9, 16),\n",
    " dt.date(2004, 10, 10),\n",
    " dt.date(2005, 6, 11),\n",
    " dt.date(2005, 7, 6),\n",
    " dt.date(2005, 7, 10),\n",
    " dt.date(2005, 8, 25),\n",
    " dt.date(2005, 9, 12),\n",
    " dt.date(2005, 9, 20),\n",
    " dt.date(2005, 10, 5),\n",
    " dt.date(2005, 10, 24),\n",
    " dt.date(2006, 6, 13),\n",
    " dt.date(2006, 8, 30),\n",
    " dt.date(2007, 5, 9),\n",
    " dt.date(2007, 6, 2),\n",
    " dt.date(2007, 8, 23),\n",
    " dt.date(2007, 9, 8),\n",
    " dt.date(2007, 9, 13),\n",
    " dt.date(2007, 9, 22),\n",
    " dt.date(2007, 10, 31),\n",
    " dt.date(2007, 12, 13),\n",
    " dt.date(2008, 7, 16),\n",
    " dt.date(2008, 7, 22),\n",
    " dt.date(2008, 8, 18),\n",
    " dt.date(2008, 8, 31),\n",
    " dt.date(2008, 9, 2),\n",
    " dt.date(2009, 8, 16),\n",
    " dt.date(2009, 8, 21),\n",
    " dt.date(2009, 11, 9),\n",
    " dt.date(2010, 6, 30),\n",
    " dt.date(2010, 7, 23),\n",
    " dt.date(2010, 8, 10),\n",
    " dt.date(2010, 8, 31),\n",
    " dt.date(2010, 9, 29),\n",
    " dt.date(2011, 7, 18),\n",
    " dt.date(2011, 8, 25),\n",
    " dt.date(2011, 9, 3),\n",
    " dt.date(2011, 10, 28),\n",
    " dt.date(2011, 11, 9),\n",
    " dt.date(2012, 5, 28),\n",
    " dt.date(2012, 6, 23),\n",
    " dt.date(2012, 8, 25),\n",
    " dt.date(2012, 10, 25),\n",
    " dt.date(2015, 8, 30),\n",
    " dt.date(2015, 10, 1),\n",
    " dt.date(2016, 6, 6),\n",
    " dt.date(2016, 9, 1),\n",
    " dt.date(2016, 9, 14),\n",
    " dt.date(2016, 10, 7),\n",
    " dt.date(2017, 6, 21),\n",
    " dt.date(2017, 7, 31),\n",
    " dt.date(2017, 9, 10),\n",
    " dt.date(2017, 10, 29)\n",
    " ]\n",
    "# A dictionary to count hurricanes per calendar month\n",
    "hurricanes_each_month = {1: 0, 2: 0, 3: 0, 4: 0, 5: 0, 6:0, 7: 0, 8:0, 9:0, 10:0, 11:0, 12:0}\n",
    "\n",
    "# Loop over all hurricanes\n",
    "for hurricane in florida_hurricane_dates:\n",
    "\t# Pull out the month\n",
    "\tmonth = hurricane.month\n",
    "  # Increment the count in your dictionary by one\n",
    "\thurricanes_each_month[month] += 1\n",
    "  \n",
    "print(hurricanes_each_month)"
   ]
  },
  {
   "cell_type": "code",
   "execution_count": 13,
   "metadata": {},
   "outputs": [
    {
     "name": "stdout",
     "output_type": "stream",
     "text": [
      "1988-08-04\n",
      "2011-07-18\n"
     ]
    }
   ],
   "source": [
    "dates_scrambled = [dt.date(1988, 8, 4),\n",
    " dt.date(1990, 10, 12),\n",
    " dt.date(2003, 4, 20),\n",
    " dt.date(1971, 9, 1),\n",
    " dt.date(1988, 8, 23),\n",
    " dt.date(1994, 8, 15),\n",
    " dt.date(2002, 8, 4),\n",
    " dt.date(1988, 5, 30),\n",
    " dt.date(2003, 9, 13),\n",
    " dt.date(2009, 8, 21),\n",
    " dt.date(1978, 6, 22),\n",
    " dt.date(1969, 6, 9),\n",
    " dt.date(1976, 6, 11),\n",
    " dt.date(1976, 8, 19),\n",
    " dt.date(1966, 6, 9),\n",
    " dt.date(1968, 7, 5),\n",
    " dt.date(1987, 11, 4),\n",
    " dt.date(1988, 8, 13),\n",
    " dt.date(2007, 12, 13),\n",
    " dt.date(1994, 11, 16),\n",
    " dt.date(2003, 9, 6),\n",
    " dt.date(1971, 8, 13),\n",
    " dt.date(1981, 8, 17),\n",
    " dt.date(1998, 9, 25),\n",
    " dt.date(1968, 9, 26),\n",
    " dt.date(1968, 6, 4),\n",
    " dt.date(1998, 11, 5),\n",
    " dt.date(2008, 8, 18),\n",
    " dt.date(1987, 8, 14),\n",
    " dt.date(1988, 11, 23),\n",
    " dt.date(2010, 9, 29),\n",
    " dt.date(1985, 7, 23),\n",
    " dt.date(2017, 7, 31),\n",
    " dt.date(1955, 8, 21),\n",
    " dt.date(1986, 6, 26),\n",
    " dt.date(1963, 10, 21),\n",
    " dt.date(2011, 10, 28),\n",
    " dt.date(2011, 11, 9),\n",
    " dt.date(1997, 7, 19),\n",
    " dt.date(2007, 6, 2),\n",
    " dt.date(2002, 9, 14),\n",
    " dt.date(1992, 9, 29),\n",
    " dt.date(1971, 10, 13),\n",
    " dt.date(1962, 8, 26),\n",
    " dt.date(1964, 8, 27),\n",
    " dt.date(1984, 9, 27),\n",
    " dt.date(1973, 9, 25),\n",
    " dt.date(1969, 10, 21),\n",
    " dt.date(1994, 7, 3),\n",
    " dt.date(1958, 9, 4),\n",
    " dt.date(1985, 11, 21),\n",
    " dt.date(2011, 9, 3),\n",
    " dt.date(1972, 6, 19),\n",
    " dt.date(1991, 6, 30),\n",
    " dt.date(2004, 8, 12),\n",
    " dt.date(2007, 9, 8),\n",
    " dt.date(1952, 2, 3),\n",
    " dt.date(1965, 9, 30),\n",
    " dt.date(2000, 9, 22),\n",
    " dt.date(2002, 9, 26),\n",
    " dt.date(1950, 9, 5),\n",
    " dt.date(1966, 10, 4),\n",
    " dt.date(1970, 5, 25),\n",
    " dt.date(1979, 9, 24),\n",
    " dt.date(1960, 9, 23),\n",
    " dt.date(2007, 8, 23),\n",
    " dt.date(2009, 8, 16),\n",
    " dt.date(1996, 10, 18),\n",
    " dt.date(2012, 10, 25),\n",
    " dt.date(2011, 8, 25),\n",
    " dt.date(1951, 5, 18),\n",
    " dt.date(1980, 8, 7),\n",
    " dt.date(1979, 9, 3),\n",
    " dt.date(1953, 9, 26),\n",
    " dt.date(1968, 10, 19),\n",
    " dt.date(2009, 11, 9),\n",
    " dt.date(1999, 8, 29),\n",
    " dt.date(2015, 10, 1),\n",
    " dt.date(2008, 9, 2),\n",
    " dt.date(2004, 10, 10),\n",
    " dt.date(2004, 9, 16),\n",
    " dt.date(1992, 8, 24),\n",
    " dt.date(2000, 9, 9),\n",
    " dt.date(1971, 9, 16),\n",
    " dt.date(1996, 9, 2),\n",
    " dt.date(1998, 9, 3),\n",
    " dt.date(1951, 10, 2),\n",
    " dt.date(1979, 9, 12),\n",
    " dt.date(2007, 10, 31),\n",
    " dt.date(1953, 10, 9),\n",
    " dt.date(1952, 8, 30),\n",
    " dt.date(1969, 9, 7),\n",
    " dt.date(2015, 8, 30),\n",
    " dt.date(1959, 10, 8),\n",
    " dt.date(2002, 7, 13),\n",
    " dt.date(1961, 10, 29),\n",
    " dt.date(2007, 5, 9),\n",
    " dt.date(2016, 10, 7),\n",
    " dt.date(1964, 9, 20),\n",
    " dt.date(1979, 7, 11),\n",
    " dt.date(1950, 10, 18),\n",
    " dt.date(2008, 8, 31),\n",
    " dt.date(2012, 8, 25),\n",
    " dt.date(1966, 7, 24),\n",
    " dt.date(2010, 8, 10),\n",
    " dt.date(2005, 8, 25),\n",
    " dt.date(2003, 6, 30),\n",
    " dt.date(1956, 7, 6),\n",
    " dt.date(1974, 9, 8),\n",
    " dt.date(1966, 6, 30),\n",
    " dt.date(2016, 9, 14),\n",
    " dt.date(1968, 6, 18),\n",
    " dt.date(1982, 9, 11),\n",
    " dt.date(1976, 9, 13),\n",
    " dt.date(1975, 7, 29),\n",
    " dt.date(2007, 9, 13),\n",
    " dt.date(1970, 9, 27),\n",
    " dt.date(1969, 10, 2),\n",
    " dt.date(2010, 8, 31),\n",
    " dt.date(1995, 10, 4),\n",
    " dt.date(1969, 8, 29),\n",
    " dt.date(1984, 10, 26),\n",
    " dt.date(1973, 9, 3),\n",
    " dt.date(1976, 5, 23),\n",
    " dt.date(2001, 11, 5),\n",
    " dt.date(2010, 6, 30),\n",
    " dt.date(1985, 10, 10),\n",
    " dt.date(1970, 7, 22),\n",
    " dt.date(1972, 5, 28),\n",
    " dt.date(1982, 6, 18),\n",
    " dt.date(2001, 8, 6),\n",
    " dt.date(1953, 8, 29),\n",
    " dt.date(1965, 9, 8),\n",
    " dt.date(1964, 9, 10),\n",
    " dt.date(1959, 10, 18),\n",
    " dt.date(1957, 6, 8),\n",
    " dt.date(1988, 9, 10),\n",
    " dt.date(2005, 6, 11),\n",
    " dt.date(1953, 6, 6),\n",
    " dt.date(2003, 8, 30),\n",
    " dt.date(2002, 10, 3),\n",
    " dt.date(1968, 8, 10),\n",
    " dt.date(1999, 10, 15),\n",
    " dt.date(2002, 9, 4),\n",
    " dt.date(2001, 6, 12),\n",
    " dt.date(2017, 9, 10),\n",
    " dt.date(2005, 10, 5),\n",
    " dt.date(2005, 7, 10),\n",
    " dt.date(1973, 6, 7),\n",
    " dt.date(1999, 9, 15),\n",
    " dt.date(2005, 9, 20),\n",
    " dt.date(1995, 6, 5),\n",
    " dt.date(2003, 7, 25),\n",
    " dt.date(2004, 9, 13),\n",
    " dt.date(1964, 6, 6),\n",
    " dt.date(1973, 6, 23),\n",
    " dt.date(2005, 9, 12),\n",
    " dt.date(2012, 6, 23),\n",
    " dt.date(1961, 9, 11),\n",
    " dt.date(1990, 5, 25),\n",
    " dt.date(2017, 6, 21),\n",
    " dt.date(1975, 6, 27),\n",
    " dt.date(1959, 6, 18),\n",
    " dt.date(2004, 9, 5),\n",
    " dt.date(1987, 10, 12),\n",
    " dt.date(1995, 7, 27),\n",
    " dt.date(1964, 10, 14),\n",
    " dt.date(1970, 8, 6),\n",
    " dt.date(1969, 10, 1),\n",
    " dt.date(1996, 10, 8),\n",
    " dt.date(1968, 8, 28),\n",
    " dt.date(1956, 10, 15),\n",
    " dt.date(1975, 9, 23),\n",
    " dt.date(1970, 9, 13),\n",
    " dt.date(1975, 10, 16),\n",
    " dt.date(1990, 10, 9),\n",
    " dt.date(2005, 10, 24),\n",
    " dt.date(1950, 8, 31),\n",
    " dt.date(2000, 10, 3),\n",
    " dt.date(2002, 10, 11),\n",
    " dt.date(1983, 8, 28),\n",
    " dt.date(1960, 7, 29),\n",
    " dt.date(1950, 10, 21),\n",
    " dt.date(1995, 8, 2),\n",
    " dt.date(1956, 9, 24),\n",
    " dt.date(2016, 9, 1),\n",
    " dt.date(1993, 6, 1),\n",
    " dt.date(1987, 9, 7),\n",
    " dt.date(2012, 5, 28),\n",
    " dt.date(1995, 8, 23),\n",
    " dt.date(1969, 8, 18),\n",
    " dt.date(2001, 9, 14),\n",
    " dt.date(2000, 8, 23),\n",
    " dt.date(1974, 10, 7),\n",
    " dt.date(1986, 8, 13),\n",
    " dt.date(1977, 8, 27),\n",
    " dt.date(2008, 7, 16),\n",
    " dt.date(1996, 7, 11),\n",
    " dt.date(1988, 9, 4),\n",
    " dt.date(1975, 10, 1),\n",
    " dt.date(2003, 8, 14),\n",
    " dt.date(1957, 9, 8),\n",
    " dt.date(2005, 7, 6),\n",
    " dt.date(1960, 9, 15),\n",
    " dt.date(1974, 9, 27),\n",
    " dt.date(1965, 6, 15),\n",
    " dt.date(1999, 9, 21),\n",
    " dt.date(2004, 8, 13),\n",
    " dt.date(1994, 10, 2),\n",
    " dt.date(1971, 8, 10),\n",
    " dt.date(2008, 7, 22),\n",
    " dt.date(2000, 9, 18),\n",
    " dt.date(1960, 9, 10),\n",
    " dt.date(2006, 6, 13),\n",
    " dt.date(2017, 10, 29),\n",
    " dt.date(1972, 9, 5),\n",
    " dt.date(1964, 10, 5),\n",
    " dt.date(1991, 10, 16),\n",
    " dt.date(1969, 9, 21),\n",
    " dt.date(1998, 9, 20),\n",
    " dt.date(1977, 9, 5),\n",
    " dt.date(1988, 9, 13),\n",
    " dt.date(1974, 6, 25),\n",
    " dt.date(2010, 7, 23),\n",
    " dt.date(2007, 9, 22),\n",
    " dt.date(1984, 9, 9),\n",
    " dt.date(1989, 9, 22),\n",
    " dt.date(1992, 6, 25),\n",
    " dt.date(1971, 8, 29),\n",
    " dt.date(1953, 9, 20),\n",
    " dt.date(1985, 8, 15),\n",
    " dt.date(2016, 6, 6),\n",
    " dt.date(2006, 8, 30),\n",
    " dt.date(1980, 11, 18),\n",
    " dt.date(2011, 7, 18)]\n",
    "\n",
    "print(dates_scrambled[0])\n",
    "print(dates_scrambled[-1])"
   ]
  },
  {
   "cell_type": "code",
   "execution_count": 14,
   "metadata": {},
   "outputs": [
    {
     "name": "stdout",
     "output_type": "stream",
     "text": [
      "1950-08-31\n",
      "2017-10-29\n"
     ]
    }
   ],
   "source": [
    "# Put the dates in order\n",
    "dates_ordered = sorted(dates_scrambled)\n",
    "\n",
    "# Print the first and last ordered dates\n",
    "print(dates_ordered[0])\n",
    "print(dates_ordered[-1])"
   ]
  },
  {
   "cell_type": "markdown",
   "metadata": {},
   "source": [
    "## Turning dates into strings"
   ]
  },
  {
   "cell_type": "code",
   "execution_count": 34,
   "metadata": {},
   "outputs": [
    {
     "name": "stdout",
     "output_type": "stream",
     "text": [
      "1950-09-05\n",
      "datetime.IsoCalendarDate(year=1950, week=36, weekday=2)\n",
      "2\n"
     ]
    }
   ],
   "source": [
    "print(dates_ordered[1].isoformat())\n",
    "print(dates_ordered[1].isocalendar())\n",
    "print(dates_ordered[1].isoweekday())"
   ]
  },
  {
   "cell_type": "code",
   "execution_count": 16,
   "metadata": {},
   "outputs": [
    {
     "name": "stdout",
     "output_type": "stream",
     "text": [
      "['1999-12-31', '2000-01-01']\n"
     ]
    }
   ],
   "source": [
    "# A few dates that computers had trouble with once\n",
    "some_dates = ['2000-01-01', '1999-12-31']\n",
    "print(sorted(some_dates))"
   ]
  },
  {
   "cell_type": "code",
   "execution_count": 39,
   "metadata": {},
   "outputs": [
    {
     "name": "stdout",
     "output_type": "stream",
     "text": [
      "1950\n",
      "Year is 1950\n"
     ]
    }
   ],
   "source": [
    "print(dates_ordered[1].strftime('%Y'))\n",
    "print(dates_ordered[1].strftime('Year is %Y'))"
   ]
  },
  {
   "cell_type": "code",
   "execution_count": 41,
   "metadata": {},
   "outputs": [
    {
     "name": "stdout",
     "output_type": "stream",
     "text": [
      "With Y 1950\n",
      "With y 50\n",
      "With B September\n",
      "With m 09\n",
      "With D 09/05/50\n",
      "With d 05\n"
     ]
    }
   ],
   "source": [
    "print(dates_ordered[1].strftime('With Y %Y'))\n",
    "print(dates_ordered[1].strftime('With y %y'))\n",
    "print(dates_ordered[1].strftime('With B %B'))\n",
    "print(dates_ordered[1].strftime('With m %m'))\n",
    "print(dates_ordered[1].strftime('With D %D'))\n",
    "print(dates_ordered[1].strftime('With d %d'))"
   ]
  },
  {
   "cell_type": "code",
   "execution_count": 40,
   "metadata": {},
   "outputs": [
    {
     "name": "stdout",
     "output_type": "stream",
     "text": [
      "ISO: Our earliest hurricane date: 1950-08-31\n",
      "US: Our earliest hurricane date: 08/31/1950\n"
     ]
    }
   ],
   "source": [
    "# Assign the earliest date to first_date\n",
    "first_date = min(florida_hurricane_dates)\n",
    "\n",
    "# Convert to ISO and US formats\n",
    "iso = \"Our earliest hurricane date: \" + first_date.isoformat()\n",
    "us = \"Our earliest hurricane date: \" + first_date.strftime(\"%m/%d/%Y\")\n",
    "\n",
    "print(\"ISO: \" + iso)\n",
    "print(\"US: \" + us)"
   ]
  },
  {
   "cell_type": "code",
   "execution_count": 43,
   "metadata": {},
   "outputs": [
    {
     "name": "stdout",
     "output_type": "stream",
     "text": [
      "August (1992)\n",
      "1992-239\n"
     ]
    }
   ],
   "source": [
    "# Create a date object\n",
    "andrew = dt.date(1992, 8, 26)\n",
    "\n",
    "# Print the date in the format 'MONTH (YYYY)'\n",
    "print(andrew.strftime('%B (%Y)'))\n",
    "print(andrew.strftime('%Y-%j'))"
   ]
  },
  {
   "cell_type": "markdown",
   "metadata": {},
   "source": [
    "## Dates and times"
   ]
  },
  {
   "cell_type": "markdown",
   "metadata": {},
   "source": [
    "### Creating Datetime by Hand"
   ]
  },
  {
   "cell_type": "code",
   "execution_count": 44,
   "metadata": {},
   "outputs": [
    {
     "name": "stdout",
     "output_type": "stream",
     "text": [
      "2014-10-20 11:55:55\n"
     ]
    }
   ],
   "source": [
    "dt_ = dt.datetime(2014, 10, 20, 11, 55, 55)\n",
    "print(dt_)"
   ]
  },
  {
   "cell_type": "code",
   "execution_count": 46,
   "metadata": {},
   "outputs": [
    {
     "name": "stdout",
     "output_type": "stream",
     "text": [
      "2014-10-20 11:55:00\n"
     ]
    }
   ],
   "source": [
    "dt_ = dt.replace(second=00)\n",
    "print(dt_)"
   ]
  },
  {
   "cell_type": "code",
   "execution_count": 50,
   "metadata": {},
   "outputs": [
    {
     "name": "stdout",
     "output_type": "stream",
     "text": [
      "2017-10-01T15:26:26\n"
     ]
    }
   ],
   "source": [
    "# Create a datetime object\n",
    "dt_ = dt.datetime(2017, 10, 1, 15, 26, 26)\n",
    "\n",
    "# Print the results in ISO 8601 format\n",
    "print(dt_.isoformat())"
   ]
  },
  {
   "cell_type": "code",
   "execution_count": 73,
   "metadata": {},
   "outputs": [],
   "source": [
    "import pandas as pd\n",
    "onebike_datetimes = pd.read_csv('./Datasets/capital-onebike.csv', parse_dates=['Start date', 'End date'])\n",
    "# Create dictionary to hold results\n",
    "trip_counts = {'AM': 0, 'PM': 0}"
   ]
  },
  {
   "cell_type": "code",
   "execution_count": 77,
   "metadata": {},
   "outputs": [],
   "source": [
    "onebike_datetimes.columns = onebike_datetimes.columns.str.replace(' ', '_')\n",
    "onebike_datetimes['Start_date'] = pd.to_datetime(onebike_datetimes['Start_date'])\n",
    "onebike_datetimes['End_date'] = pd.to_datetime(onebike_datetimes['End_date'])"
   ]
  },
  {
   "cell_type": "code",
   "execution_count": 78,
   "metadata": {},
   "outputs": [
    {
     "name": "stdout",
     "output_type": "stream",
     "text": [
      "Pandas(Index=0, Start_date=Timestamp('2017-10-01 15:23:25'), End_date=Timestamp('2017-10-01 15:26:26'), Start_station_number=31038, Start_station='Glebe Rd & 11th St N', End_station_number=31036, End_station='George Mason Dr & Wilson Blvd', Bike_number='W20529', Member_type='Member')\n",
      "Pandas(Index=1, Start_date=Timestamp('2017-10-01 15:42:57'), End_date=Timestamp('2017-10-01 17:49:59'), Start_station_number=31036, Start_station='George Mason Dr & Wilson Blvd', End_station_number=31036, End_station='George Mason Dr & Wilson Blvd', Bike_number='W20529', Member_type='Casual')\n",
      "Pandas(Index=2, Start_date=Timestamp('2017-10-02 06:37:10'), End_date=Timestamp('2017-10-02 06:42:53'), Start_station_number=31036, Start_station='George Mason Dr & Wilson Blvd', End_station_number=31037, End_station='Ballston Metro / N Stuart & 9th St N', Bike_number='W20529', Member_type='Member')\n",
      "Pandas(Index=3, Start_date=Timestamp('2017-10-02 08:56:45'), End_date=Timestamp('2017-10-02 09:18:03'), Start_station_number=31037, Start_station='Ballston Metro / N Stuart & 9th St N', End_station_number=31295, End_station='Potomac & M St NW', Bike_number='W20529', Member_type='Member')\n",
      "Pandas(Index=4, Start_date=Timestamp('2017-10-02 18:23:48'), End_date=Timestamp('2017-10-02 18:45:05'), Start_station_number=31295, Start_station='Potomac & M St NW', End_station_number=31230, End_station='Metro Center / 12th & G St NW', Bike_number='W20529', Member_type='Member')\n"
     ]
    }
   ],
   "source": [
    "for rec in onebike_datetimes[:5].itertuples():\n",
    "    print(rec)"
   ]
  },
  {
   "cell_type": "code",
   "execution_count": 80,
   "metadata": {},
   "outputs": [
    {
     "name": "stdout",
     "output_type": "stream",
     "text": [
      "{'AM': 94, 'PM': 196}\n"
     ]
    }
   ],
   "source": [
    "# Loop over all trips\n",
    "for trip in onebike_datetimes.itertuples():\n",
    "  # Check to see if the trip starts before noon\n",
    "  if trip.Start_date.hour < 12:\n",
    "    # Increment the counter for before noon\n",
    "    trip_counts['AM'] += 1\n",
    "  else:\n",
    "    # Increment the counter for after noon\n",
    "    trip_counts['PM'] += 1\n",
    "  \n",
    "print(trip_counts)"
   ]
  },
  {
   "cell_type": "markdown",
   "metadata": {},
   "source": [
    "### Printing and parsing datetimes"
   ]
  },
  {
   "cell_type": "code",
   "execution_count": 85,
   "metadata": {},
   "outputs": [
    {
     "name": "stdout",
     "output_type": "stream",
     "text": [
      "2017-10-01 15:26:26\n",
      "2017-10-01\n",
      "15:26:26\n",
      "2017-10-01T15:26:26\n"
     ]
    }
   ],
   "source": [
    "print(dt_)\n",
    "print(dt_.strftime('%Y-%m-%d'))\n",
    "print(dt_.strftime('%H:%M:%S'))\n",
    "print(dt_.isoformat())"
   ]
  },
  {
   "cell_type": "code",
   "execution_count": 88,
   "metadata": {},
   "outputs": [
    {
     "name": "stdout",
     "output_type": "stream",
     "text": [
      "2017-12-30 15:19:13\n",
      "2017-12-30T15:19:13\n",
      "<class 'datetime.datetime'>\n"
     ]
    }
   ],
   "source": [
    "dt_ = dt.datetime.strptime('12/30/2017 15:19:13', '%m/%d/%Y %H:%M:%S')\n",
    "print(dt_)\n",
    "print(dt_.isoformat())\n",
    "print(type(dt_))"
   ]
  },
  {
   "cell_type": "markdown",
   "metadata": {},
   "source": [
    "### Time Stamp"
   ]
  },
  {
   "cell_type": "code",
   "execution_count": 90,
   "metadata": {},
   "outputs": [
    {
     "name": "stdout",
     "output_type": "stream",
     "text": [
      "2017-12-31 07:19:13\n"
     ]
    }
   ],
   "source": [
    "ts = 1514665153.0 #UNIX Time Stamp days since 1/1/1970\n",
    "print(dt.datetime.fromtimestamp(ts))"
   ]
  },
  {
   "cell_type": "code",
   "execution_count": 91,
   "metadata": {},
   "outputs": [
    {
     "name": "stdout",
     "output_type": "stream",
     "text": [
      "2017-02-03 00:00:01\n"
     ]
    }
   ],
   "source": [
    "# Starting string, in YYYY-MM-DD HH:MM:SS format\n",
    "s = '2017-02-03 00:00:01'\n",
    "\n",
    "# Write a format string to parse s\n",
    "fmt = '%Y-%m-%d %H:%M:%S'\n",
    "\n",
    "# Create a datetime object d\n",
    "d = dt.datetime.strptime(s, fmt)\n",
    "\n",
    "# Print d\n",
    "print(d)"
   ]
  },
  {
   "cell_type": "markdown",
   "metadata": {},
   "source": [
    "### Working with durations"
   ]
  },
  {
   "cell_type": "code",
   "execution_count": 92,
   "metadata": {},
   "outputs": [],
   "source": [
    "import datetime as dt"
   ]
  },
  {
   "cell_type": "code",
   "execution_count": 94,
   "metadata": {},
   "outputs": [],
   "source": [
    "# Create example datetimes\n",
    "start = dt.datetime(2017, 10, 8, 23, 46, 47)\n",
    "end = dt.datetime(2017, 10, 9, 0, 10, 57)"
   ]
  },
  {
   "cell_type": "code",
   "execution_count": 99,
   "metadata": {},
   "outputs": [
    {
     "name": "stdout",
     "output_type": "stream",
     "text": [
      "Seconds between 2017-10-08 23:46:47 and 2017-10-09 00:10:57 = 1450.0\n",
      "Hours between 2017-10-08 23:46:47 and 2017-10-09 00:10:57 = 0\n"
     ]
    }
   ],
   "source": [
    "duration = end - start\n",
    "print(f'Seconds between {start} and {end} = {duration.total_seconds()}')\n",
    "print(f'Hours between {start} and {end} = {duration.days}')"
   ]
  },
  {
   "cell_type": "code",
   "execution_count": 100,
   "metadata": {},
   "outputs": [
    {
     "data": {
      "text/plain": [
       "datetime.datetime(2017, 10, 9, 0, 10, 58)"
      ]
     },
     "execution_count": 100,
     "metadata": {},
     "output_type": "execute_result"
    }
   ],
   "source": [
    "end + dt.timedelta(seconds=1)"
   ]
  },
  {
   "cell_type": "code",
   "execution_count": 101,
   "metadata": {},
   "outputs": [
    {
     "data": {
      "text/plain": [
       "datetime.datetime(2017, 10, 9, 23, 46, 57)"
      ]
     },
     "execution_count": 101,
     "metadata": {},
     "output_type": "execute_result"
    }
   ],
   "source": [
    "start + dt.timedelta(days=1, seconds=10)"
   ]
  },
  {
   "cell_type": "code",
   "execution_count": 103,
   "metadata": {},
   "outputs": [
    {
     "data": {
      "text/plain": [
       "datetime.datetime(2017, 10, 1, 23, 46, 47)"
      ]
     },
     "execution_count": 103,
     "metadata": {},
     "output_type": "execute_result"
    }
   ],
   "source": [
    "start + dt.timedelta(weeks=-1)"
   ]
  },
  {
   "cell_type": "code",
   "execution_count": 104,
   "metadata": {},
   "outputs": [
    {
     "data": {
      "text/html": [
       "<div>\n",
       "<style scoped>\n",
       "    .dataframe tbody tr th:only-of-type {\n",
       "        vertical-align: middle;\n",
       "    }\n",
       "\n",
       "    .dataframe tbody tr th {\n",
       "        vertical-align: top;\n",
       "    }\n",
       "\n",
       "    .dataframe thead th {\n",
       "        text-align: right;\n",
       "    }\n",
       "</style>\n",
       "<table border=\"1\" class=\"dataframe\">\n",
       "  <thead>\n",
       "    <tr style=\"text-align: right;\">\n",
       "      <th></th>\n",
       "      <th>Start_date</th>\n",
       "      <th>End_date</th>\n",
       "      <th>Start_station_number</th>\n",
       "      <th>Start_station</th>\n",
       "      <th>End_station_number</th>\n",
       "      <th>End_station</th>\n",
       "      <th>Bike_number</th>\n",
       "      <th>Member_type</th>\n",
       "    </tr>\n",
       "  </thead>\n",
       "  <tbody>\n",
       "    <tr>\n",
       "      <th>0</th>\n",
       "      <td>2017-10-01 15:23:25</td>\n",
       "      <td>2017-10-01 15:26:26</td>\n",
       "      <td>31038</td>\n",
       "      <td>Glebe Rd &amp; 11th St N</td>\n",
       "      <td>31036</td>\n",
       "      <td>George Mason Dr &amp; Wilson Blvd</td>\n",
       "      <td>W20529</td>\n",
       "      <td>Member</td>\n",
       "    </tr>\n",
       "    <tr>\n",
       "      <th>1</th>\n",
       "      <td>2017-10-01 15:42:57</td>\n",
       "      <td>2017-10-01 17:49:59</td>\n",
       "      <td>31036</td>\n",
       "      <td>George Mason Dr &amp; Wilson Blvd</td>\n",
       "      <td>31036</td>\n",
       "      <td>George Mason Dr &amp; Wilson Blvd</td>\n",
       "      <td>W20529</td>\n",
       "      <td>Casual</td>\n",
       "    </tr>\n",
       "  </tbody>\n",
       "</table>\n",
       "</div>"
      ],
      "text/plain": [
       "           Start_date            End_date  Start_station_number  \\\n",
       "0 2017-10-01 15:23:25 2017-10-01 15:26:26                 31038   \n",
       "1 2017-10-01 15:42:57 2017-10-01 17:49:59                 31036   \n",
       "\n",
       "                   Start_station  End_station_number  \\\n",
       "0           Glebe Rd & 11th St N               31036   \n",
       "1  George Mason Dr & Wilson Blvd               31036   \n",
       "\n",
       "                     End_station Bike_number Member_type  \n",
       "0  George Mason Dr & Wilson Blvd      W20529      Member  \n",
       "1  George Mason Dr & Wilson Blvd      W20529      Casual  "
      ]
     },
     "execution_count": 104,
     "metadata": {},
     "output_type": "execute_result"
    }
   ],
   "source": [
    "onebike_datetimes.head(2)"
   ]
  },
  {
   "cell_type": "code",
   "execution_count": 130,
   "metadata": {},
   "outputs": [],
   "source": [
    "def calc_trip_duration(row) -> dt.timedelta :\n",
    "\tduration = row['End_date']-row['Start_date']\n",
    "\treturn duration.total_seconds()"
   ]
  },
  {
   "cell_type": "code",
   "execution_count": 133,
   "metadata": {},
   "outputs": [
    {
     "data": {
      "text/html": [
       "<div>\n",
       "<style scoped>\n",
       "    .dataframe tbody tr th:only-of-type {\n",
       "        vertical-align: middle;\n",
       "    }\n",
       "\n",
       "    .dataframe tbody tr th {\n",
       "        vertical-align: top;\n",
       "    }\n",
       "\n",
       "    .dataframe thead th {\n",
       "        text-align: right;\n",
       "    }\n",
       "</style>\n",
       "<table border=\"1\" class=\"dataframe\">\n",
       "  <thead>\n",
       "    <tr style=\"text-align: right;\">\n",
       "      <th></th>\n",
       "      <th>Start_date</th>\n",
       "      <th>End_date</th>\n",
       "      <th>Start_station_number</th>\n",
       "      <th>Start_station</th>\n",
       "      <th>End_station_number</th>\n",
       "      <th>End_station</th>\n",
       "      <th>Bike_number</th>\n",
       "      <th>Member_type</th>\n",
       "      <th>trip_duration</th>\n",
       "    </tr>\n",
       "  </thead>\n",
       "  <tbody>\n",
       "    <tr>\n",
       "      <th>0</th>\n",
       "      <td>2017-10-01 15:23:25</td>\n",
       "      <td>2017-10-01 15:26:26</td>\n",
       "      <td>31038</td>\n",
       "      <td>Glebe Rd &amp; 11th St N</td>\n",
       "      <td>31036</td>\n",
       "      <td>George Mason Dr &amp; Wilson Blvd</td>\n",
       "      <td>W20529</td>\n",
       "      <td>Member</td>\n",
       "      <td>181.0</td>\n",
       "    </tr>\n",
       "    <tr>\n",
       "      <th>1</th>\n",
       "      <td>2017-10-01 15:42:57</td>\n",
       "      <td>2017-10-01 17:49:59</td>\n",
       "      <td>31036</td>\n",
       "      <td>George Mason Dr &amp; Wilson Blvd</td>\n",
       "      <td>31036</td>\n",
       "      <td>George Mason Dr &amp; Wilson Blvd</td>\n",
       "      <td>W20529</td>\n",
       "      <td>Casual</td>\n",
       "      <td>7622.0</td>\n",
       "    </tr>\n",
       "    <tr>\n",
       "      <th>2</th>\n",
       "      <td>2017-10-02 06:37:10</td>\n",
       "      <td>2017-10-02 06:42:53</td>\n",
       "      <td>31036</td>\n",
       "      <td>George Mason Dr &amp; Wilson Blvd</td>\n",
       "      <td>31037</td>\n",
       "      <td>Ballston Metro / N Stuart &amp; 9th St N</td>\n",
       "      <td>W20529</td>\n",
       "      <td>Member</td>\n",
       "      <td>343.0</td>\n",
       "    </tr>\n",
       "    <tr>\n",
       "      <th>3</th>\n",
       "      <td>2017-10-02 08:56:45</td>\n",
       "      <td>2017-10-02 09:18:03</td>\n",
       "      <td>31037</td>\n",
       "      <td>Ballston Metro / N Stuart &amp; 9th St N</td>\n",
       "      <td>31295</td>\n",
       "      <td>Potomac &amp; M St NW</td>\n",
       "      <td>W20529</td>\n",
       "      <td>Member</td>\n",
       "      <td>1278.0</td>\n",
       "    </tr>\n",
       "    <tr>\n",
       "      <th>4</th>\n",
       "      <td>2017-10-02 18:23:48</td>\n",
       "      <td>2017-10-02 18:45:05</td>\n",
       "      <td>31295</td>\n",
       "      <td>Potomac &amp; M St NW</td>\n",
       "      <td>31230</td>\n",
       "      <td>Metro Center / 12th &amp; G St NW</td>\n",
       "      <td>W20529</td>\n",
       "      <td>Member</td>\n",
       "      <td>1277.0</td>\n",
       "    </tr>\n",
       "  </tbody>\n",
       "</table>\n",
       "</div>"
      ],
      "text/plain": [
       "           Start_date            End_date  Start_station_number  \\\n",
       "0 2017-10-01 15:23:25 2017-10-01 15:26:26                 31038   \n",
       "1 2017-10-01 15:42:57 2017-10-01 17:49:59                 31036   \n",
       "2 2017-10-02 06:37:10 2017-10-02 06:42:53                 31036   \n",
       "3 2017-10-02 08:56:45 2017-10-02 09:18:03                 31037   \n",
       "4 2017-10-02 18:23:48 2017-10-02 18:45:05                 31295   \n",
       "\n",
       "                          Start_station  End_station_number  \\\n",
       "0                  Glebe Rd & 11th St N               31036   \n",
       "1         George Mason Dr & Wilson Blvd               31036   \n",
       "2         George Mason Dr & Wilson Blvd               31037   \n",
       "3  Ballston Metro / N Stuart & 9th St N               31295   \n",
       "4                     Potomac & M St NW               31230   \n",
       "\n",
       "                            End_station Bike_number Member_type  trip_duration  \n",
       "0         George Mason Dr & Wilson Blvd      W20529      Member          181.0  \n",
       "1         George Mason Dr & Wilson Blvd      W20529      Casual         7622.0  \n",
       "2  Ballston Metro / N Stuart & 9th St N      W20529      Member          343.0  \n",
       "3                     Potomac & M St NW      W20529      Member         1278.0  \n",
       "4         Metro Center / 12th & G St NW      W20529      Member         1277.0  "
      ]
     },
     "execution_count": 133,
     "metadata": {},
     "output_type": "execute_result"
    }
   ],
   "source": [
    "onebike_datetimes['trip_duration'] = onebike_datetimes.apply(calc_trip_duration, axis=1)\n",
    "onebike_datetimes.head()"
   ]
  }
 ],
 "metadata": {
  "kernelspec": {
   "display_name": "venv",
   "language": "python",
   "name": "python3"
  },
  "language_info": {
   "codemirror_mode": {
    "name": "ipython",
    "version": 3
   },
   "file_extension": ".py",
   "mimetype": "text/x-python",
   "name": "python",
   "nbconvert_exporter": "python",
   "pygments_lexer": "ipython3",
   "version": "3.11.5"
  }
 },
 "nbformat": 4,
 "nbformat_minor": 2
}
