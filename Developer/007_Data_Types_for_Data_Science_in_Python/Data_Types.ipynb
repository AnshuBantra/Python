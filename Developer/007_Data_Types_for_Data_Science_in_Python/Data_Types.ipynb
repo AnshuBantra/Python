{
 "cells": [
  {
   "cell_type": "markdown",
   "metadata": {},
   "source": [
    "# Data Types for Data Science"
   ]
  },
  {
   "cell_type": "markdown",
   "metadata": {},
   "source": [
    "## Lists"
   ]
  },
  {
   "cell_type": "code",
   "execution_count": 1,
   "metadata": {},
   "outputs": [
    {
     "name": "stdout",
     "output_type": "stream",
     "text": [
      "['Ximena', 'Aliza', 'Ayden', 'Calvin', 'Sandeep']\n"
     ]
    }
   ],
   "source": [
    "# Create a list containing the names: baby_names\n",
    "baby_names = ['Ximena', 'Aliza', 'Ayden', 'Calvin']\n",
    "\n",
    "# Extend baby_names with 'Rowen' and 'Sandeep'\n",
    "baby_names.extend(['Rowen', 'Sandeep'])\n",
    "\n",
    "# Find the position of 'Rowen': position\n",
    "position = baby_names.index('Rowen')\n",
    "\n",
    "# Remove 'Rowen' from baby_names\n",
    "baby_names.pop(position)\n",
    "\n",
    "# Print baby_names\n",
    "print(baby_names)"
   ]
  },
  {
   "cell_type": "code",
   "execution_count": 2,
   "metadata": {},
   "outputs": [],
   "source": [
    "records = [['2014', 'F', '20799', 'Emma'],\n",
    " ['2014', 'F', '19674', 'Olivia'],\n",
    " ['2014', 'F', '18490', 'Sophia'],\n",
    " ['2014', 'F', '16950', 'Isabella'],\n",
    " ['2014', 'F', '15586', 'Ava'],\n",
    " ['2014', 'F', '13442', 'Mia'],\n",
    " ['2014', 'F', '12562', 'Emily'],\n",
    " ['2014', 'F', '11985', 'Abigail'],\n",
    " ['2014', 'F', '10247', 'Madison'],\n",
    " ['2014', 'F', '10048', 'Charlotte'],\n",
    " ['2014', 'F', '9564', 'Harper'],\n",
    " ['2014', 'F', '9542', 'Sofia'],\n",
    " ['2014', 'F', '9517', 'Avery'],\n",
    " ['2014', 'F', '9492', 'Elizabeth'],\n",
    " ['2014', 'F', '8727', 'Amelia'],\n",
    " ['2014', 'F', '8692', 'Evelyn'],\n",
    " ['2014', 'F', '8489', 'Ella'],\n",
    " ['2014', 'F', '8469', 'Chloe'],\n",
    " ['2014', 'F', '7955', 'Victoria'],\n",
    " ['2014', 'F', '7589', 'Aubrey'],\n",
    " ['2014', 'F', '7554', 'Grace'],\n",
    " ['2014', 'F', '7358', 'Zoey'],\n",
    " ['2014', 'F', '7061', 'Natalie'],\n",
    " ['2014', 'F', '6950', 'Addison'],\n",
    " ['2014', 'F', '6869', 'Lillian'],\n",
    " ['2014', 'F', '6767', 'Brooklyn']]"
   ]
  },
  {
   "cell_type": "code",
   "execution_count": 8,
   "metadata": {},
   "outputs": [
    {
     "name": "stdout",
     "output_type": "stream",
     "text": [
      "['Abigail', 'Addison', 'Amelia', 'Aubrey', 'Ava', 'Avery', 'Brooklyn', 'Charlotte', 'Chloe', 'Elizabeth', 'Ella', 'Emily', 'Emma', 'Evelyn', 'Grace', 'Harper', 'Isabella', 'Lillian', 'Madison', 'Mia', 'Natalie', 'Olivia', 'Sofia', 'Sophia', 'Victoria', 'Zoey']\n"
     ]
    }
   ],
   "source": [
    "# Create the list comprehension: baby_names\n",
    "baby_names = [record[3] for record in records]\n",
    "    \n",
    "# Print the sorted baby names in ascending alphabetical order\n",
    "print(sorted(baby_names))"
   ]
  },
  {
   "cell_type": "markdown",
   "metadata": {},
   "source": [
    "## Tuples"
   ]
  },
  {
   "cell_type": "code",
   "execution_count": 20,
   "metadata": {},
   "outputs": [],
   "source": [
    "girl_names = ['Jada', 'Emily', 'Ava', 'Serenity', 'Claire', 'Sophia', 'Sarah', 'Ashley', 'Chaya', 'Abigail', 'Zoe', 'Leah', 'Hailey', 'Ava', 'Olivia', 'Emma', 'Chloe', 'Sophia', 'Aaliyah', 'Angela', 'Camila', 'Savannah', 'Serenity', 'Chloe', 'Fatoumata']\n",
    "boy_names = ['Josiah', 'Ethan', 'David', 'Jayden', 'Mason', 'Ryan', 'Christian', 'Isaiah', 'Jayden', 'Michael', 'Noah', 'Samuel', 'Sebastian', 'Noah', 'Dylan', 'Lucas', 'Joshua','Angel', 'Jacob', 'Matthew', 'Josiah', 'Jacob', 'Muhammad', 'Alexander', 'Jason']"
   ]
  },
  {
   "cell_type": "code",
   "execution_count": 11,
   "metadata": {},
   "outputs": [
    {
     "name": "stdout",
     "output_type": "stream",
     "text": [
      "Rank 1: Jada and Josiah\n",
      "Rank 2: Emily and Ethan\n",
      "Rank 3: Ava and David\n",
      "Rank 4: Serenity and Jayden\n",
      "Rank 5: Claire and Mason\n",
      "Rank 6: Sophia and Ryan\n",
      "Rank 7: Sarah and Christian\n",
      "Rank 8: Ashley and Isaiah\n",
      "Rank 9: Chaya and Jayden\n",
      "Rank 10: Abigail and Michael\n",
      "Rank 11: Zoe and Noah\n",
      "Rank 12: Leah and Samuel\n",
      "Rank 13: Hailey and Sebastian\n",
      "Rank 14: Ava and Noah\n",
      "Rank 15: Olivia and Dylan\n",
      "Rank 16: Emma and Lucas\n",
      "Rank 17: Chloe and Joshua\n",
      "Rank 18: Sophia and Angel\n",
      "Rank 19: Aaliyah and Jacob\n",
      "Rank 20: Angela and Matthew\n",
      "Rank 21: Camila and Josiah\n",
      "Rank 22: Savannah and Jacob\n",
      "Rank 23: Serenity and Muhammad\n",
      "Rank 24: Chloe and Alexander\n",
      "Rank 25: Fatoumata and Jason\n"
     ]
    }
   ],
   "source": [
    "# Pair up the girl and boy names: pairs\n",
    "pairs = zip(girl_names, boy_names)\n",
    "\n",
    "# Iterate over pairs\n",
    "for rank, rec in enumerate(pairs):\n",
    "    # Unpack pair: girl_name, boy_name\n",
    "    girl_name, boy_name = rec\n",
    "    # Print the rank and names associated with each rank\n",
    "    print(f'Rank {rank+1}: {girl_name} and {boy_name}')"
   ]
  },
  {
   "cell_type": "code",
   "execution_count": 12,
   "metadata": {},
   "outputs": [
    {
     "name": "stdout",
     "output_type": "stream",
     "text": [
      "<class 'str'>\n",
      "<class 'tuple'>\n"
     ]
    }
   ],
   "source": [
    "# Create the normal variable: normal\n",
    "normal = 'simple'\n",
    "\n",
    "# Create the mistaken variable: error\n",
    "error = 'trailing comma', \n",
    "\n",
    "# Print the types of the variables\n",
    "print(type(normal))\n",
    "print(type(error))"
   ]
  },
  {
   "cell_type": "markdown",
   "metadata": {},
   "source": [
    "## Strings"
   ]
  },
  {
   "cell_type": "code",
   "execution_count": 21,
   "metadata": {},
   "outputs": [
    {
     "name": "stdout",
     "output_type": "stream",
     "text": [
      "Rank# 1 - Jada\n",
      "Rank# 2 - Emily\n",
      "Rank# 3 - Ava\n",
      "Rank# 4 - Serenity\n",
      "Rank# 5 - Claire\n",
      "Rank# 6 - Sophia\n",
      "Rank# 7 - Sarah\n",
      "Rank# 8 - Ashley\n",
      "Rank# 9 - Chaya\n",
      "Rank# 10 - Abigail\n"
     ]
    }
   ],
   "source": [
    "top_ten_girl_names = [(1, 'Jada'), (2, 'Emily'), (3, 'Ava'), (4, 'Serenity'), (5, 'Claire'), (6, 'Sophia'), (7, 'Sarah'), (8, 'Ashley'), (9, 'Chaya'), (10, 'Abigail')]\n",
    "for top_ten_rank, name in top_ten_girl_names:\n",
    "    print(f'Rank# {top_ten_rank} - {name}')"
   ]
  },
  {
   "cell_type": "code",
   "execution_count": 22,
   "metadata": {},
   "outputs": [
    {
     "name": "stdout",
     "output_type": "stream",
     "text": [
      "The top ten boy names are: Josiah, Ethan, David, Jayden, Mason, Ryan, Christian, Isaiah, Jayden, and Michael.\n"
     ]
    }
   ],
   "source": [
    "top_10_boy_names = boy_names[:10]\n",
    "# The top ten boy names are:  as preamble\n",
    "preamble = \"The top ten boy names are: \"\n",
    "\n",
    "# , and as conjunction\n",
    "conjunction = ', and'\n",
    "\n",
    "# Combines the first 9 names in boy_names with a comma and space as first_nine_names\n",
    "first_nine_names = \", \".join(top_10_boy_names[0:9])\n",
    "\n",
    "# Print f-string preamble, first_nine_names, conjunction, the final item in boy_names and a period\n",
    "print(f\"{preamble}{first_nine_names}{conjunction} {top_10_boy_names[-1]}.\")"
   ]
  },
  {
   "cell_type": "code",
   "execution_count": 24,
   "metadata": {},
   "outputs": [
    {
     "name": "stdout",
     "output_type": "stream",
     "text": [
      "['Serenity', 'Sophia', 'Sarah', 'Sophia', 'Savannah', 'Serenity']\n",
      "['Angela']\n"
     ]
    }
   ],
   "source": [
    "# Store a list of girl_names that start with s: names_with_s\n",
    "names_with_s = [name for name in girl_names if name.lower().startswith('s')]\n",
    "\n",
    "print(names_with_s)\n",
    "\n",
    "# Store a list of girl_names that contain angel: names_with_angel\n",
    "names_with_angel = [name for name in girl_names if 'angel' in name.lower()]\n",
    "\n",
    "print(names_with_angel)"
   ]
  },
  {
   "cell_type": "markdown",
   "metadata": {},
   "source": [
    "## Using dictionaries"
   ]
  },
  {
   "cell_type": "code",
   "execution_count": 25,
   "metadata": {},
   "outputs": [],
   "source": [
    "squirrels = [('Marcus Garvey Park', ('Black', 'Cinnamon', 'Cleaning', None)),\n",
    "             ('Highbridge Park', ('Gray', 'Cinnamon','Running, Eating', 'Runs From, watches us in short tree')),\n",
    "             ('Madison Square Park', ('Gray', None, 'Foraging', 'Indifferent')),\n",
    "             ('City Hall Park', ('Gray', 'Cinnamon', 'Eating', 'Approaches')),\n",
    "             ('J. Hood Wright Park', ('Gray', 'White', 'Running', 'Indifferent')),\n",
    "             ('Seward Park', ('Gray', 'Cinnamon', 'Eating', 'Indifferent')),\n",
    "             ('Union Square Park', ('Gray', 'Black', 'Climbing', None)),\n",
    "             ('Tompkins Square Park', ('Gray', 'Gray', 'Lounging', 'Approaches'))]"
   ]
  },
  {
   "cell_type": "code",
   "execution_count": 26,
   "metadata": {},
   "outputs": [
    {
     "name": "stdout",
     "output_type": "stream",
     "text": [
      "City Hall Park: ('Gray', 'Cinnamon', 'Eating', 'Approaches')\n",
      "Highbridge Park: ('Gray', 'Cinnamon', 'Running, Eating', 'Runs From, watches us in short tree')\n",
      "J. Hood Wright Park: ('Gray', 'White', 'Running', 'Indifferent')\n",
      "Madison Square Park: ('Gray', None, 'Foraging', 'Indifferent')\n",
      "Marcus Garvey Park: ('Black', 'Cinnamon', 'Cleaning', None)\n",
      "Seward Park: ('Gray', 'Cinnamon', 'Eating', 'Indifferent')\n",
      "Tompkins Square Park: ('Gray', 'Gray', 'Lounging', 'Approaches')\n",
      "Union Square Park: ('Gray', 'Black', 'Climbing', None)\n"
     ]
    }
   ],
   "source": [
    "# Create an empty dictionary: squirrels_by_park\n",
    "squirrels_by_park = {}\n",
    "\n",
    "# Loop over the squirrels list and unpack each tuple\n",
    "for park, squirrel_details in squirrels:\n",
    "    # Add each squirrel_details to the squirrels_by_park dictionary \n",
    "    squirrels_by_park[park] = squirrel_details\n",
    "    \n",
    "# Sort the squirrels_by_park dict alphabetically by park\n",
    "for park in sorted(squirrels_by_park):\n",
    "    # Print each park and its value in squirrels_by_park\n",
    "    print(f'{park}: {squirrels_by_park[park]}')"
   ]
  },
  {
   "cell_type": "code",
   "execution_count": 27,
   "metadata": {},
   "outputs": [
    {
     "name": "stdout",
     "output_type": "stream",
     "text": [
      "('Gray', 'Black', 'Climbing', None)\n",
      "<class 'NoneType'>\n",
      "Not Found\n"
     ]
    }
   ],
   "source": [
    "# Safely print 'Union Square Park' from the squirrels_by_park dictionary\n",
    "print(squirrels_by_park.get('Union Square Park'))\n",
    "\n",
    "# Safely print the type of 'Fort Tryon Park' from the squirrels_by_park dictionary\n",
    "print(type(squirrels_by_park.get('Fort Tryon Park')))\n",
    "\n",
    "# Safely print 'Central Park' from the squirrels_by_park dictionary or 'Not Found'\n",
    "print(squirrels_by_park.get('Central Park', 'Not Found'))"
   ]
  },
  {
   "cell_type": "code",
   "execution_count": 28,
   "metadata": {},
   "outputs": [
    {
     "data": {
      "text/plain": [
       "dict_keys(['Marcus Garvey Park', 'Highbridge Park', 'Madison Square Park', 'City Hall Park', 'J. Hood Wright Park', 'Seward Park', 'Union Square Park', 'Tompkins Square Park'])"
      ]
     },
     "execution_count": 28,
     "metadata": {},
     "output_type": "execute_result"
    }
   ],
   "source": [
    "squirrels_by_park.keys()"
   ]
  },
  {
   "cell_type": "code",
   "execution_count": 29,
   "metadata": {},
   "outputs": [],
   "source": [
    "squirrels_madison = [   {   'primary_fur_color': 'Gray',\n",
    "                            'highlights_in_fur_color': None,\n",
    "                            'activities': 'Sitting',\n",
    "                            'interactions_with_humans': 'Indifferent'},\n",
    "                        {   'primary_fur_color': 'Gray',\n",
    "                            'highlights_in_fur_color': 'Cinnamon',\n",
    "                            'activities': 'Foraging',\n",
    "                            'interactions_with_humans': 'Indifferent'},\n",
    "                        {   'primary_fur_color': 'Gray',\n",
    "                            'highlights_in_fur_color': None,\n",
    "                            'activities': 'Climbing, Foraging',\n",
    "                            'interactions_with_humans': 'Indifferent'}\n",
    "                    ]\n",
    "squirrels_union = ( 'Union Square Park',\n",
    "                    [   {   'primary_fur_color': 'Gray',\n",
    "                            'highlights_in_fur_color': None,\n",
    "                            'activities': 'Eating, Foraging',\n",
    "                            'interactions_with_humans': None},\n",
    "                        {   'primary_fur_color': 'Gray',\n",
    "                            'highlights_in_fur_color': 'Cinnamon',\n",
    "                            'activities': 'Climbing, Eating',\n",
    "                            'interactions_with_humans': None},\n",
    "                        {   'primary_fur_color': 'Cinnamon',\n",
    "                            'highlights_in_fur_color': None,\n",
    "                            'activities': 'Foraging',\n",
    "                            'interactions_with_humans': 'Indifferent'},\n",
    "                        {   'primary_fur_color': 'Gray',\n",
    "                            'highlights_in_fur_color': None,\n",
    "                            'activities': 'Running, Digging',\n",
    "                            'interactions_with_humans': 'Runs From'},\n",
    "                        {   'primary_fur_color': 'Gray',\n",
    "                            'highlights_in_fur_color': None,\n",
    "                            'activities': 'Digging',\n",
    "                            'interactions_with_humans': 'Indifferent'},\n",
    "                        {   'primary_fur_color': 'Gray',\n",
    "                            'highlights_in_fur_color': 'Black',\n",
    "                            'activities': 'Climbing',\n",
    "                            'interactions_with_humans': None},\n",
    "                        {   'primary_fur_color': 'Gray',\n",
    "                            'highlights_in_fur_color': None,\n",
    "                            'activities': 'Eating, Foraging',\n",
    "                            'interactions_with_humans': None}\n",
    "                ])"
   ]
  },
  {
   "cell_type": "code",
   "execution_count": 30,
   "metadata": {},
   "outputs": [
    {
     "data": {
      "text/plain": [
       "dict_keys([])"
      ]
     },
     "execution_count": 30,
     "metadata": {},
     "output_type": "execute_result"
    }
   ],
   "source": [
    "sq_dict = {}\n",
    "sq_dict.keys()"
   ]
  },
  {
   "cell_type": "code",
   "execution_count": 33,
   "metadata": {},
   "outputs": [
    {
     "data": {
      "text/plain": [
       "dict_keys(['Madison Square Park'])"
      ]
     },
     "execution_count": 33,
     "metadata": {},
     "output_type": "execute_result"
    }
   ],
   "source": [
    "sq_dict['Madison Square Park'] = squirrels_madison\n",
    "sq_dict.keys()"
   ]
  },
  {
   "cell_type": "code",
   "execution_count": 34,
   "metadata": {},
   "outputs": [
    {
     "data": {
      "text/plain": [
       "'Union Square Park'"
      ]
     },
     "execution_count": 34,
     "metadata": {},
     "output_type": "execute_result"
    }
   ],
   "source": [
    "squirrels_union[0]"
   ]
  },
  {
   "cell_type": "code",
   "execution_count": 35,
   "metadata": {},
   "outputs": [
    {
     "data": {
      "text/plain": [
       "[{'primary_fur_color': 'Gray',\n",
       "  'highlights_in_fur_color': None,\n",
       "  'activities': 'Eating, Foraging',\n",
       "  'interactions_with_humans': None},\n",
       " {'primary_fur_color': 'Gray',\n",
       "  'highlights_in_fur_color': 'Cinnamon',\n",
       "  'activities': 'Climbing, Eating',\n",
       "  'interactions_with_humans': None},\n",
       " {'primary_fur_color': 'Cinnamon',\n",
       "  'highlights_in_fur_color': None,\n",
       "  'activities': 'Foraging',\n",
       "  'interactions_with_humans': 'Indifferent'},\n",
       " {'primary_fur_color': 'Gray',\n",
       "  'highlights_in_fur_color': None,\n",
       "  'activities': 'Running, Digging',\n",
       "  'interactions_with_humans': 'Runs From'},\n",
       " {'primary_fur_color': 'Gray',\n",
       "  'highlights_in_fur_color': None,\n",
       "  'activities': 'Digging',\n",
       "  'interactions_with_humans': 'Indifferent'},\n",
       " {'primary_fur_color': 'Gray',\n",
       "  'highlights_in_fur_color': 'Black',\n",
       "  'activities': 'Climbing',\n",
       "  'interactions_with_humans': None},\n",
       " {'primary_fur_color': 'Gray',\n",
       "  'highlights_in_fur_color': None,\n",
       "  'activities': 'Eating, Foraging',\n",
       "  'interactions_with_humans': None}]"
      ]
     },
     "execution_count": 35,
     "metadata": {},
     "output_type": "execute_result"
    }
   ],
   "source": [
    "squirrels_union[1]"
   ]
  },
  {
   "cell_type": "code",
   "execution_count": 45,
   "metadata": {},
   "outputs": [
    {
     "name": "stdout",
     "output_type": "stream",
     "text": [
      "Madison Square Park ['Gray', 'Gray', 'Gray']\n",
      "Union Square Park ['Gray', 'Gray', 'Cinnamon', 'Gray', 'Gray', 'Gray', 'Gray']\n"
     ]
    }
   ],
   "source": [
    "for park_name in sq_dict:\n",
    "    # Safely print a list of the primary_fur_color for each squirrel in park_name\n",
    "    print(park_name, [squirrel.get('primary_fur_color', 'Not Found') for squirrel in sq_dict[park_name]])  "
   ]
  },
  {
   "cell_type": "code",
   "execution_count": 57,
   "metadata": {},
   "outputs": [
    {
     "name": "stdout",
     "output_type": "stream",
     "text": [
      "Madison Square Park ['Gray', 'Gray', 'Gray']\n",
      "Union Square Park ['Gray', 'Gray', 'Cinnamon', 'Gray', 'Gray', 'Gray', 'Gray']\n"
     ]
    }
   ],
   "source": [
    "squirrels_by_park={}\n",
    "# Assign squirrels_madison as the value to the 'Madison Square Park' key\n",
    "squirrels_by_park['Madison Square Park'] = squirrels_madison\n",
    "\n",
    "# Update squirrels_by_park with the squirrels_union tuple\n",
    "squirrels_by_park.update([squirrels_union])\n",
    "\n",
    "# Loop over the park_name in the squirrels_by_park dictionary \n",
    "for park_name in squirrels_by_park:\n",
    "    # Safely print a list of the primary_fur_color for each squirrel in park_name\n",
    "    print(park_name, [squirrel.get('primary_fur_color', 'N/A') for squirrel in squirrels_by_park[park_name]])"
   ]
  },
  {
   "cell_type": "code",
   "execution_count": 54,
   "metadata": {},
   "outputs": [
    {
     "name": "stdout",
     "output_type": "stream",
     "text": [
      "{}\n"
     ]
    }
   ],
   "source": [
    "# Remove \"Madison Square Park\" from squirrels_by_park\n",
    "squirrels_madison = squirrels_by_park.pop('Madison Square Park')\n",
    "\n",
    "# Safely remove \"City Hall Park\" from squirrels_by_park with an empty dictionary as the default\n",
    "squirrels_city_hall = squirrels_by_park.pop('City Hall Park', {})\n",
    "\n",
    "# Delete \"Union Square Park\" from squirrels_by_park\n",
    "del squirrels_by_park['Union Square Park']\n",
    "\n",
    "# Print squirrels_by_park\n",
    "print(squirrels_by_park)"
   ]
  },
  {
   "cell_type": "code",
   "execution_count": 60,
   "metadata": {},
   "outputs": [
    {
     "data": {
      "text/plain": [
       "dict_keys(['Madison Square Park', 'Union Square Park'])"
      ]
     },
     "execution_count": 60,
     "metadata": {},
     "output_type": "execute_result"
    }
   ],
   "source": [
    "squirrels_by_park.keys()"
   ]
  },
  {
   "cell_type": "code",
   "execution_count": 61,
   "metadata": {},
   "outputs": [
    {
     "name": "stdout",
     "output_type": "stream",
     "text": [
      "Found Madison Square Park\n",
      "Central Park missing\n"
     ]
    }
   ],
   "source": [
    "# Check to see if Tompkins Square Park is in squirrels_by_park\n",
    "if \"Madison Square Park\" in squirrels_by_park:\n",
    "    # Print 'Found Tompkins Square Park'\n",
    "    print('Found Madison Square Park')\n",
    "    \n",
    "# Check to see if Central Park is in squirrels_by_park\n",
    "if \"Central Park\" in squirrels_by_park:\n",
    "    # Print 'Found Central Park' if found\n",
    "    print('Found Central Park')\n",
    "else:\n",
    "    # Print 'Central Park missing' if not found\n",
    "    print('Central Park missing')"
   ]
  },
  {
   "cell_type": "code",
   "execution_count": 63,
   "metadata": {},
   "outputs": [
    {
     "name": "stdout",
     "output_type": "stream",
     "text": [
      "dict_keys(['Madison Square Park', 'Union Square Park'])\n"
     ]
    },
    {
     "ename": "AttributeError",
     "evalue": "'list' object has no attribute 'keys'",
     "output_type": "error",
     "traceback": [
      "\u001b[1;31m---------------------------------------------------------------------------\u001b[0m",
      "\u001b[1;31mAttributeError\u001b[0m                            Traceback (most recent call last)",
      "Cell \u001b[1;32mIn[63], line 5\u001b[0m\n\u001b[0;32m      2\u001b[0m \u001b[38;5;28mprint\u001b[39m(squirrels_by_park\u001b[38;5;241m.\u001b[39mkeys())\n\u001b[0;32m      4\u001b[0m \u001b[38;5;66;03m# Print the keys from the squirrels_by_park dictionary for 'Union Square Park'\u001b[39;00m\n\u001b[1;32m----> 5\u001b[0m \u001b[38;5;28mprint\u001b[39m(\u001b[43msquirrels_by_park\u001b[49m\u001b[43m[\u001b[49m\u001b[38;5;124;43m'\u001b[39;49m\u001b[38;5;124;43mUnion Square Park\u001b[39;49m\u001b[38;5;124;43m'\u001b[39;49m\u001b[43m]\u001b[49m\u001b[38;5;241;43m.\u001b[39;49m\u001b[43mkeys\u001b[49m())\n\u001b[0;32m      7\u001b[0m \u001b[38;5;66;03m# Loop over the dictionary\u001b[39;00m\n\u001b[0;32m      8\u001b[0m \u001b[38;5;28;01mfor\u001b[39;00m park_name \u001b[38;5;129;01min\u001b[39;00m squirrels_by_park:\n\u001b[0;32m      9\u001b[0m     \u001b[38;5;66;03m# Safely print the park_name and the highlights_in_fur_color or 'N/A'\u001b[39;00m\n",
      "\u001b[1;31mAttributeError\u001b[0m: 'list' object has no attribute 'keys'"
     ]
    }
   ],
   "source": [
    "# Print a list of keys from the squirrels_by_park dictionary\n",
    "print(squirrels_by_park.keys())\n",
    "\n",
    "# Print the keys from the squirrels_by_park dictionary for 'Union Square Park'\n",
    "print(squirrels_by_park['Union Square Park'].keys())\n",
    "\n",
    "# Loop over the dictionary\n",
    "for park_name in squirrels_by_park:\n",
    "    # Safely print the park_name and the highlights_in_fur_color or 'N/A'\n",
    "    print(park_name, squirrels_by_park[park_name].get('highlights_in_fur_color', 'N/A'))"
   ]
  },
  {
   "cell_type": "markdown",
   "metadata": {},
   "source": [
    "## Numeric Data Types"
   ]
  },
  {
   "cell_type": "code",
   "execution_count": 64,
   "metadata": {},
   "outputs": [
    {
     "name": "stdout",
     "output_type": "stream",
     "text": [
      "1.0\n",
      "2.0\n",
      "3.0\n",
      "2.000000\n",
      "3.000000\n",
      "3.0000000\n"
     ]
    }
   ],
   "source": [
    "# Print floats 1, 2, and 3\n",
    "print(float(1))\n",
    "print(float(2))\n",
    "print(float(3))\n",
    "\n",
    "# Print floats 2 and 3 using the f string formatter\n",
    "print(f\"{float(2):f}\")\n",
    "print(f\"{float(3):f}\")\n",
    "\n",
    "# Print float 3 with a 7 f string precision\n",
    "print(f\"{float(3):.7f}\")"
   ]
  },
  {
   "cell_type": "code",
   "execution_count": 65,
   "metadata": {},
   "outputs": [
    {
     "name": "stdout",
     "output_type": "stream",
     "text": [
      "2.0\n",
      "0.5\n",
      "2\n",
      "0\n",
      "<class 'float'>\n",
      "<class 'int'>\n"
     ]
    }
   ],
   "source": [
    "# Print the result of 2/1 and 1/2\n",
    "print(2/1)\n",
    "print(1/2)\n",
    "\n",
    "# Print the floored division result of 2//1 and 1//2\n",
    "print(2//1)\n",
    "print(1//2)\n",
    "\n",
    "# Print the type of 2/1 and 2//1\n",
    "print(type(2/1))\n",
    "print(type(2//1))"
   ]
  },
  {
   "cell_type": "markdown",
   "metadata": {},
   "source": [
    "## Boolean Data Types"
   ]
  },
  {
   "cell_type": "code",
   "execution_count": 66,
   "metadata": {},
   "outputs": [
    {
     "name": "stdout",
     "output_type": "stream",
     "text": [
      "False\n",
      "True\n"
     ]
    }
   ],
   "source": [
    "# Create an empty list\n",
    "my_list = []\n",
    "\n",
    "# Check the truthiness of my_list\n",
    "print(bool(my_list))\n",
    "\n",
    "# Append the string 'cookies' to my_list\n",
    "my_list.append('cookies')\n",
    "\n",
    "# Check the truthiness of my_list\n",
    "print(bool(my_list))"
   ]
  },
  {
   "cell_type": "code",
   "execution_count": 67,
   "metadata": {},
   "outputs": [],
   "source": [
    "penguins =  [\n",
    "    {'species': 'Adlie',\n",
    "     'flipper_length': 190.0,\n",
    "     'body_mass': 3050.0,\n",
    "     'sex': 'FEMALE'},\n",
    "    {'species': 'Adlie',\n",
    "     'flipper_length': 184.0,\n",
    "     'body_mass': 3325.0,\n",
    "     'sex': 'FEMALE'},\n",
    "    {'species': 'Gentoo',\n",
    "     'flipper_length': 209.0,\n",
    "     'body_mass': 4800.0,\n",
    "     'sex': 'FEMALE'},\n",
    "    {'species': 'Adlie',\n",
    "     'flipper_length': 193.0,\n",
    "     'body_mass': 4200.0,\n",
    "     'sex': 'MALE'},\n",
    "    {'species': 'Gentoo',\n",
    "     'flipper_length': 210.0,\n",
    "     'body_mass': 4400.0,\n",
    "     'sex': 'FEMALE'},\n",
    "    {'species': 'Gentoo',\n",
    "     'flipper_length': 213.0,\n",
    "     'body_mass': 4650.0,\n",
    "     'sex': 'FEMALE'},\n",
    "    {'species': 'Chinstrap',\n",
    "     'flipper_length': 193.0,\n",
    "     'body_mass': 3600.0,\n",
    "     'sex': 'FEMALE'},\n",
    "    {'species': 'Adlie',\n",
    "     'flipper_length': 193.0,\n",
    "     'body_mass': 3800.0,\n",
    "     'sex': 'MALE'},\n",
    "    {'species': 'Chinstrap',\n",
    "     'flipper_length': 199.0,\n",
    "     'body_mass': 3900.0,\n",
    "     'sex': 'FEMALE'},\n",
    "    {'species': 'Chinstrap',\n",
    "     'flipper_length': 195.0,\n",
    "     'body_mass': 3650.0,\n",
    "     'sex': 'FEMALE'},\n",
    "    {'species': 'Adlie',\n",
    "     'flipper_length': 185.0,\n",
    "     'body_mass': 3700.0,\n",
    "     'sex': 'FEMALE'},\n",
    "    {'species': 'Gentoo',\n",
    "     'flipper_length': 208.0,\n",
    "     'body_mass': 4575.0,\n",
    "     'sex': 'FEMALE'},\n",
    "    {'species': 'Adlie',\n",
    "     'flipper_length': 196.0,\n",
    "     'body_mass': 4350.0,\n",
    "     'sex': 'MALE'},\n",
    "    {'species': 'Adlie',\n",
    "     'flipper_length': 191.0,\n",
    "     'body_mass': 3700.0,\n",
    "     'sex': 'FEMALE'},\n",
    "    {'species': 'Chinstrap',\n",
    "     'flipper_length': 195.0,\n",
    "     'body_mass': 3300.0,\n",
    "     'sex': 'FEMALE'},\n",
    "    {'species': 'Adlie',\n",
    "     'flipper_length': 195.0,\n",
    "     'body_mass': 3450.0,\n",
    "     'sex': 'FEMALE'},\n",
    "    {'species': 'Gentoo',\n",
    "     'flipper_length': 217.0,\n",
    "     'body_mass': 4875.0,\n",
    "     'sex': '.'},\n",
    "    {'species': 'Gentoo',\n",
    "     'flipper_length': 212.0,\n",
    "     'body_mass': 4875.0,\n",
    "     'sex': 'FEMALE'},\n",
    "    {'species': 'Adlie',\n",
    "     'flipper_length': 205.0,\n",
    "     'body_mass': 4300.0,\n",
    "     'sex': 'MALE'},\n",
    "    {'species': 'Gentoo',\n",
    "     'flipper_length': 220.0,\n",
    "     'body_mass': 6000.0,\n",
    "     'sex': 'MALE'}]"
   ]
  },
  {
   "cell_type": "code",
   "execution_count": 69,
   "metadata": {},
   "outputs": [
    {
     "name": "stdout",
     "output_type": "stream",
     "text": [
      "Adlie - FEMALE\n",
      "Gentoo - FEMALE\n",
      "Adlie - MALE\n",
      "Gentoo - FEMALE\n",
      "Gentoo - FEMALE\n",
      "Chinstrap - FEMALE\n",
      "Adlie - MALE\n",
      "Chinstrap - FEMALE\n",
      "Chinstrap - FEMALE\n",
      "Adlie - FEMALE\n",
      "Gentoo - FEMALE\n",
      "Adlie - MALE\n",
      "Adlie - FEMALE\n",
      "Adlie - FEMALE\n",
      "Gentoo - .\n",
      "Gentoo - FEMALE\n",
      "Adlie - MALE\n",
      "Gentoo - MALE\n"
     ]
    }
   ],
   "source": [
    "# Use a for loop to iterate over the penguins list\n",
    "for penguin in penguins:\n",
    "  # Check the penguin entry for a body mass of more than 3300 grams\n",
    "  if penguin[\"body_mass\"] > 3300:\n",
    "  \t# Print the species and sex of the penguin if true\n",
    "    print(f\"{penguin['species']} - {penguin['sex']}\")"
   ]
  },
  {
   "cell_type": "code",
   "execution_count": 70,
   "metadata": {},
   "outputs": [
    {
     "name": "stdout",
     "output_type": "stream",
     "text": [
      "FEMALE: False\n",
      "True: True\n"
     ]
    }
   ],
   "source": [
    "penguin_305_details = { 'species': 'Adlie',\n",
    "                        'flipper_length': 190.0,\n",
    "                        'body_mass': 3050.0,\n",
    "                        'tracked': True,\n",
    "                        'sex': 'FEMALE'}\n",
    "\n",
    "# Check the truthiness of penguin_305_details sex key\n",
    "if penguin_305_details[\"sex\"]:\n",
    "\t# If true, check if sex is True and store it as sex_is_true\n",
    "    sex_is_true = penguin_305_details[\"sex\"] is True\n",
    "    # Print the sex key's value and sex_is_true\n",
    "    print(f\"{penguin_305_details['sex']}: {sex_is_true}\")\n",
    "\n",
    "# Check the truthiness of penguin_305_details tracked key\n",
    "if penguin_305_details[\"tracked\"]:\n",
    "\t# If true, check if tracked is True and store it as tracked_is_true\n",
    "    tracked_is_true = penguin_305_details[\"tracked\"] is True\n",
    "    # Print the tracked key and tracked_is_true\n",
    "    print(f\"{penguin_305_details['tracked']}: {tracked_is_true}\")"
   ]
  },
  {
   "cell_type": "markdown",
   "metadata": {},
   "source": [
    "## Sets"
   ]
  },
  {
   "cell_type": "code",
   "execution_count": 73,
   "metadata": {},
   "outputs": [
    {
     "name": "stdout",
     "output_type": "stream",
     "text": [
      "{'Chinstrap'}\n"
     ]
    }
   ],
   "source": [
    "# Use a list comprehension to iterate over each penguin in penguins saved as female_species_list\n",
    "# If the the sex of the penguin is 'FEMALE', return the species value\n",
    "female_species_list = [penguin[\"species\"] for penguin in penguins if penguin[\"sex\"] == 'FEMALE']\n",
    "\n",
    "# Create a set using the female_species_list as female_penguin_species\n",
    "female_penguin_species = set(female_species_list)\n",
    "\n",
    "# Find the difference between female_penguin_species and male_penguin_species. Store the result as differences\n",
    "male_penguin_species = set([penguin[\"species\"] for penguin in penguins if penguin[\"sex\"] == 'MALE'])\n",
    "differences = female_penguin_species.difference(male_penguin_species)\n",
    "\n",
    "# Print the differences\n",
    "print(differences)"
   ]
  },
  {
   "cell_type": "code",
   "execution_count": 74,
   "metadata": {},
   "outputs": [
    {
     "name": "stdout",
     "output_type": "stream",
     "text": [
      "{'Chinstrap', 'Gentoo', 'Adlie'}\n",
      "{'Gentoo', 'Adlie'}\n"
     ]
    }
   ],
   "source": [
    "# Find the union: all_species\n",
    "all_species = female_penguin_species.union(male_penguin_species)\n",
    "\n",
    "# Print the count of names in all_species\n",
    "print(all_species)\n",
    "\n",
    "# Find the intersection: overlapping_species\n",
    "overlapping_species = female_penguin_species.intersection(male_penguin_species)\n",
    "\n",
    "# Print the count of species in overlapping_species\n",
    "print(overlapping_species)"
   ]
  },
  {
   "cell_type": "markdown",
   "metadata": {},
   "source": [
    "## Collections Module"
   ]
  },
  {
   "cell_type": "markdown",
   "metadata": {},
   "source": [
    "### Counter"
   ]
  },
  {
   "cell_type": "code",
   "execution_count": 77,
   "metadata": {},
   "outputs": [
    {
     "name": "stdout",
     "output_type": "stream",
     "text": [
      "Counter({'FEMALE': 14, 'MALE': 5, '.': 1})\n"
     ]
    }
   ],
   "source": [
    "# Import the Counter object\n",
    "import collections as col\n",
    "\n",
    "# Create a Counter of the penguins sex using a list comp\n",
    "penguins_sex_counts = col.Counter([penguin['sex'] for penguin in penguins])\n",
    "\n",
    "# Print the penguins_sex_counts\n",
    "print(penguins_sex_counts)"
   ]
  },
  {
   "cell_type": "code",
   "execution_count": 78,
   "metadata": {},
   "outputs": [
    {
     "name": "stdout",
     "output_type": "stream",
     "text": [
      "[('Adlie', 9), ('Gentoo', 7), ('Chinstrap', 4)]\n"
     ]
    }
   ],
   "source": [
    "# Create a Counter of the penguins list: penguins_species_counts\n",
    "penguins_species_counts = col.Counter([penguin['species'] for penguin in penguins])\n",
    "\n",
    "# Find the 3 most common species counts\n",
    "print(penguins_species_counts.most_common(3))"
   ]
  },
  {
   "cell_type": "markdown",
   "metadata": {},
   "source": [
    "### Default Dict"
   ]
  },
  {
   "cell_type": "code",
   "execution_count": 82,
   "metadata": {},
   "outputs": [],
   "source": [
    "import collections as col\n",
    "penguin_species = col.defaultdict(list)\n",
    "for _ in penguins:\n",
    "    penguin_species[_['species']].append(_['sex'])"
   ]
  },
  {
   "cell_type": "code",
   "execution_count": 84,
   "metadata": {},
   "outputs": [
    {
     "name": "stdout",
     "output_type": "stream",
     "text": [
      "defaultdict(<class 'list'>,\n",
      "            {'Adlie': ['FEMALE',\n",
      "                       'FEMALE',\n",
      "                       'MALE',\n",
      "                       'MALE',\n",
      "                       'FEMALE',\n",
      "                       'MALE',\n",
      "                       'FEMALE',\n",
      "                       'FEMALE',\n",
      "                       'MALE'],\n",
      "             'Chinstrap': ['FEMALE', 'FEMALE', 'FEMALE', 'FEMALE'],\n",
      "             'Gentoo': ['FEMALE',\n",
      "                        'FEMALE',\n",
      "                        'FEMALE',\n",
      "                        'FEMALE',\n",
      "                        '.',\n",
      "                        'FEMALE',\n",
      "                        'MALE']})\n"
     ]
    }
   ],
   "source": [
    "pp.pprint(penguin_species)"
   ]
  },
  {
   "cell_type": "code",
   "execution_count": 86,
   "metadata": {},
   "outputs": [
    {
     "name": "stdout",
     "output_type": "stream",
     "text": [
      "{'Chinstrap': [('FEMALE', 3800.0)], 'Adlie': [('FEMALE', 3450.0), ('FEMALE', 3550.0), ('FEMALE', 3175.0)], 'Gentoo': [('FEMALE', 4300.0)]}\n"
     ]
    }
   ],
   "source": [
    "weight_log = [  ('Chinstrap', 'FEMALE', 3800.0),\n",
    "                ('Adlie', 'FEMALE', 3450.0),\n",
    "                ('Gentoo', 'FEMALE', 4300.0),\n",
    "                ('Adlie', 'FEMALE', 3550.0),\n",
    "                ('Adlie', 'FEMALE', 3175.0)]\n",
    "\n",
    "# Create an empty dictionary: female_penguin_weights\n",
    "female_penguin_weights = {}\n",
    "\n",
    "# Iterate over the weight_log entries\n",
    "for species, sex, body_mass in weight_log:\n",
    "    # Check to see if species is already in the dictionary\n",
    "    if species not in female_penguin_weights:\n",
    "        # Create an empty list for any missing species\n",
    "        female_penguin_weights[species] = []\n",
    "    # Append the sex and body_mass as a tuple to the species keys list\n",
    "    female_penguin_weights[species].append((sex, body_mass))\n",
    "    \n",
    "# Print the weights for 'Adlie'\n",
    "print(female_penguin_weights)"
   ]
  },
  {
   "cell_type": "code",
   "execution_count": 88,
   "metadata": {},
   "outputs": [
    {
     "name": "stdout",
     "output_type": "stream",
     "text": [
      "[('Chinstrap', [3800.0]), ('Adlie', [3450.0, 3550.0, 3175.0])]\n"
     ]
    }
   ],
   "source": [
    "# Create a defaultdict with a default type of list: male_penguin_weights\n",
    "male_penguin_weights = col.defaultdict(list)\n",
    "\n",
    "# Iterate over the weight_log entries\n",
    "for species, sex, body_mass in weight_log:\n",
    "    # Use the species as the key, and append the body_mass to it\n",
    "    male_penguin_weights[species].append(body_mass)\n",
    "    \n",
    "# Print the first 2 items of the ridership dictionary\n",
    "print(list(male_penguin_weights.items())[:2])"
   ]
  },
  {
   "cell_type": "code",
   "execution_count": 90,
   "metadata": {},
   "outputs": [
    {
     "data": {
      "text/plain": [
       "dict_items([('Chinstrap', [3800.0]), ('Adlie', [3450.0, 3550.0, 3175.0]), ('Gentoo', [4300.0])])"
      ]
     },
     "execution_count": 90,
     "metadata": {},
     "output_type": "execute_result"
    }
   ],
   "source": [
    "male_penguin_weights.items()"
   ]
  },
  {
   "cell_type": "markdown",
   "metadata": {},
   "source": [
    "### Named Tuple"
   ]
  },
  {
   "cell_type": "code",
   "execution_count": 92,
   "metadata": {},
   "outputs": [
    {
     "name": "stdout",
     "output_type": "stream",
     "text": [
      "[SpeciesDetails(species='Chinstrap', sex='FEMALE', body_mass=3800.0),\n",
      " SpeciesDetails(species='Adlie', sex='FEMALE', body_mass=3450.0),\n",
      " SpeciesDetails(species='Gentoo', sex='FEMALE', body_mass=4300.0),\n",
      " SpeciesDetails(species='Adlie', sex='FEMALE', body_mass=3550.0),\n",
      " SpeciesDetails(species='Adlie', sex='FEMALE', body_mass=3175.0)]\n"
     ]
    }
   ],
   "source": [
    "import collections\n",
    "\n",
    "# Create the namedtuple: SpeciesDetails\n",
    "SpeciesDetails = col.namedtuple('SpeciesDetails', ['species', 'sex', 'body_mass'])\n",
    "\n",
    "# Create the empty list: labeled_entries\n",
    "labeled_entries = []\n",
    "\n",
    "# Iterate over the weight_log entries\n",
    "for species, sex, body_mass in weight_log:\n",
    "    # Append a new SpeciesDetails namedtuple instance for each entry to labeled_entries\n",
    "    details = SpeciesDetails(\n",
    "        species\n",
    "    ,   sex\n",
    "    ,   body_mass\n",
    "    )\n",
    "    labeled_entries.append(details)\n",
    "    \n",
    "pp.pprint(labeled_entries[:5])"
   ]
  },
  {
   "cell_type": "code",
   "execution_count": 93,
   "metadata": {},
   "outputs": [
    {
     "name": "stdout",
     "output_type": "stream",
     "text": [
      "FEMALE:3800.0\n"
     ]
    }
   ],
   "source": [
    "# Iterate over the first twenty entries in labeled_entries\n",
    "for entry in labeled_entries[:20]:\n",
    "    # if the entry's species equals Chinstrap\n",
    "    if entry.species == 'Chinstrap':\n",
    "      # Print each entry's sex and body_mass seperated by a colon\n",
    "      print(f'{entry.sex}:{entry.body_mass}')"
   ]
  },
  {
   "cell_type": "markdown",
   "metadata": {},
   "source": [
    "### Data Class"
   ]
  },
  {
   "cell_type": "code",
   "execution_count": 97,
   "metadata": {},
   "outputs": [],
   "source": [
    "# Import dataclass\n",
    "import dataclasses as dc\n",
    "\n",
    "@dc.dataclass\n",
    "class WeightEntry:\n",
    "    # Define the fields on the class\n",
    "    species: str\n",
    "    flipper_length: int\n",
    "    body_mass: int\n",
    "    sex: str\n",
    "        \n",
    "    # Define a property that returns the body_mass / flipper_length\n",
    "    @property\n",
    "    def mass_to_flipper_length_ratio(self):\n",
    "        return self.body_mass / self.flipper_length"
   ]
  },
  {
   "cell_type": "code",
   "execution_count": 98,
   "metadata": {},
   "outputs": [],
   "source": [
    "weight_log =    [   ('Gentoo', 230.0, 5500.0, 'MALE'),\n",
    "                    ('Gentoo', 229.0, 5800.0, 'MALE'),\n",
    "                    ('Gentoo', 225.0, 5400.0, 'MALE'),\n",
    "                    ('Gentoo', 219.0, 5250.0, 'MALE'),\n",
    "                    ('Gentoo', 210.0, 4300.0, 'FEMALE'),\n",
    "                    ('Gentoo', 216.0, 4925.0, 'MALE')]"
   ]
  },
  {
   "cell_type": "code",
   "execution_count": 99,
   "metadata": {},
   "outputs": [
    {
     "name": "stdout",
     "output_type": "stream",
     "text": [
      "[23.91304347826087, 25.32751091703057, 24.0, 23.972602739726028, 20.476190476190474]\n"
     ]
    }
   ],
   "source": [
    "# Create the empty list: labeled_entries\n",
    "labeled_entries = []\n",
    "\n",
    "# Iterate over the weight_log entries\n",
    "for species, flipper_length, body_mass, sex in weight_log:\n",
    "    # Append a new WeightEntry instance to labeled_entries\n",
    "    labeled_entries.append(WeightEntry(species, flipper_length, body_mass, sex))\n",
    "    \n",
    "# Print a list of the first 5 mass_to_flipper_length_ratio values\n",
    "print([entry.mass_to_flipper_length_ratio for entry in labeled_entries[:5]])"
   ]
  },
  {
   "cell_type": "code",
   "execution_count": null,
   "metadata": {},
   "outputs": [],
   "source": []
  }
 ],
 "metadata": {
  "kernelspec": {
   "display_name": "venv",
   "language": "python",
   "name": "python3"
  },
  "language_info": {
   "codemirror_mode": {
    "name": "ipython",
    "version": 3
   },
   "file_extension": ".py",
   "mimetype": "text/x-python",
   "name": "python",
   "nbconvert_exporter": "python",
   "pygments_lexer": "ipython3",
   "version": "3.11.5"
  }
 },
 "nbformat": 4,
 "nbformat_minor": 2
}
