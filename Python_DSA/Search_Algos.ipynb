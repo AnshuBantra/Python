{
 "cells": [
  {
   "cell_type": "markdown",
   "metadata": {},
   "source": [
    "# Search Alogrithms"
   ]
  },
  {
   "cell_type": "markdown",
   "metadata": {},
   "source": [
    "## Binary Search"
   ]
  },
  {
   "cell_type": "code",
   "execution_count": null,
   "metadata": {},
   "outputs": [],
   "source": [
    "def binary_search(lst:list[int]) -> list[int]:\n",
    "    \"\"\"\n",
    "    This function takes a list of integers and returns a sorted list using binary search.\n",
    "    :param lst: List of integers\n",
    "    :return: Sorted list of integers\n",
    "    \"\"\"\n",
    "    if not lst:\n",
    "        return []\n",
    "\n",
    "    for pass_idx in range(1, len(lst)):\n",
    "        for ele_idx in range(pass_idx):\n",
    "            if lst[ele_idx] > lst[ele_idx + 1]:\n",
    "                lst[ele_idx], lst[ele_idx + 1] = lst[ele_idx + 1], lst[ele_idx]\n",
    "    return lst"
   ]
  },
  {
   "cell_type": "code",
   "execution_count": 8,
   "metadata": {},
   "outputs": [
    {
     "data": {
      "text/plain": [
       "[1, 2, 5, 5, 6, 9]"
      ]
     },
     "execution_count": 8,
     "metadata": {},
     "output_type": "execute_result"
    }
   ],
   "source": [
    "binary_search([5, 2, 9, 1, 5, 6])"
   ]
  },
  {
   "cell_type": "code",
   "execution_count": 9,
   "metadata": {},
   "outputs": [
    {
     "data": {
      "text/plain": [
       "7"
      ]
     },
     "execution_count": 9,
     "metadata": {},
     "output_type": "execute_result"
    }
   ],
   "source": [
    "def countNegatives(grid):\n",
    "    # Implement your solution here\n",
    "    negatives = 0\n",
    "    for row in grid:\n",
    "        for element in row:\n",
    "            if element < 0:\n",
    "                negatives += 1\n",
    "    return negatives\n",
    "\n",
    "countNegatives([[4,3,2,1], [3,2,1,-1], [1,1,-1,-2], [-1,-1,-2,-3]])"
   ]
  },
  {
   "cell_type": "code",
   "execution_count": 10,
   "metadata": {},
   "outputs": [
    {
     "data": {
      "text/plain": [
       "0"
      ]
     },
     "execution_count": 10,
     "metadata": {},
     "output_type": "execute_result"
    }
   ],
   "source": [
    "countNegatives([[3, 2], [1, 0]] )"
   ]
  },
  {
   "cell_type": "code",
   "execution_count": 16,
   "metadata": {},
   "outputs": [
    {
     "data": {
      "text/plain": [
       "'c'"
      ]
     },
     "execution_count": 16,
     "metadata": {},
     "output_type": "execute_result"
    }
   ],
   "source": [
    "def next_greatest_letter(letters, target):\n",
    "    \"\"\"\n",
    "    Return the smallest character in letters that is lexicographically greater than target.\n",
    "\n",
    "    Parameters:\n",
    "    letters (List[char]): Sorted array of characters.\n",
    "    target (char): The target character.\n",
    "\n",
    "    Returns:\n",
    "    char: The smallest character greater than target, or the first character if no such character exists.\n",
    "\n",
    "    examples:\n",
    "    Input:\n",
    "    letters = ['c', 'f', 'j']\n",
    "    target = 'k'\n",
    "    Output: 'c'\n",
    "    \n",
    "    Input:\n",
    "    letters = ['c', 'f', 'j']\n",
    "    target = 'c'\n",
    "    Output: 'f'\n",
    "    \n",
    "    Input:\n",
    "    letters = ['c', 'f', 'j']\n",
    "    target = 'a'\n",
    "    Output: 'c'\n",
    "\n",
    "    \"\"\"\n",
    "    # Implement the function logic\n",
    "    for i in range(len(letters)):\n",
    "        if letters[i] > target:\n",
    "            return letters[i]\n",
    "    else:\n",
    "        return letters[0]\n",
    "    \n",
    "    return letters[idx]\n",
    "\n",
    "next_greatest_letter(['c', 'f', 'j'], 'k')"
   ]
  },
  {
   "cell_type": "code",
   "execution_count": 17,
   "metadata": {},
   "outputs": [
    {
     "data": {
      "text/plain": [
       "'f'"
      ]
     },
     "execution_count": 17,
     "metadata": {},
     "output_type": "execute_result"
    }
   ],
   "source": [
    "next_greatest_letter(['c', 'f', 'j'], 'c')"
   ]
  },
  {
   "cell_type": "code",
   "execution_count": 18,
   "metadata": {},
   "outputs": [
    {
     "data": {
      "text/plain": [
       "'j'"
      ]
     },
     "execution_count": 18,
     "metadata": {},
     "output_type": "execute_result"
    }
   ],
   "source": [
    "next_greatest_letter(['c', 'f', 'j'], 'f')"
   ]
  },
  {
   "cell_type": "code",
   "execution_count": 24,
   "metadata": {},
   "outputs": [],
   "source": [
    "# Find First and Last Position of Element in Sorted Array\n",
    "def searchRange(nums, target):\n",
    "    # Implement your solution here\n",
    "    pos = []\n",
    "    for i in range(len(nums)):\n",
    "        if nums[i] == target:\n",
    "            pos.append(i)\n",
    "    if not pos:\n",
    "        return [-1,-1]\n",
    "    return [pos[0], pos[-1]]"
   ]
  },
  {
   "cell_type": "code",
   "execution_count": 26,
   "metadata": {},
   "outputs": [
    {
     "data": {
      "text/plain": [
       "[3, 4]"
      ]
     },
     "execution_count": 26,
     "metadata": {},
     "output_type": "execute_result"
    }
   ],
   "source": [
    "searchRange([5,7,7,8,8,10], 8)"
   ]
  },
  {
   "cell_type": "code",
   "execution_count": 27,
   "metadata": {},
   "outputs": [
    {
     "data": {
      "text/plain": [
       "[-1, -1]"
      ]
     },
     "execution_count": 27,
     "metadata": {},
     "output_type": "execute_result"
    }
   ],
   "source": [
    "searchRange([5,7,7,8,8,10], 9)"
   ]
  },
  {
   "cell_type": "code",
   "execution_count": 40,
   "metadata": {},
   "outputs": [],
   "source": [
    "''' Given a sorted array that has been rotated, find the minimum element in the array.\n",
    "    The array was originally sorted in ascending order and then rotated at some pivot.'\n",
    "    The problem can be solved using binary search.'\n",
    "'''\n",
    "def findMin(nums):\n",
    "    # Implement your solution here\n",
    "    for i in range(len(nums)-1):\n",
    "        if nums[i] > nums[i+1]:\n",
    "            return nums[i+1]\n",
    "    return nums[0]"
   ]
  },
  {
   "cell_type": "code",
   "execution_count": 41,
   "metadata": {},
   "outputs": [
    {
     "data": {
      "text/plain": [
       "1"
      ]
     },
     "execution_count": 41,
     "metadata": {},
     "output_type": "execute_result"
    }
   ],
   "source": [
    "findMin([3,4,5,1,2])"
   ]
  },
  {
   "cell_type": "code",
   "execution_count": 42,
   "metadata": {},
   "outputs": [
    {
     "data": {
      "text/plain": [
       "0"
      ]
     },
     "execution_count": 42,
     "metadata": {},
     "output_type": "execute_result"
    }
   ],
   "source": [
    "findMin([4, 5, 6, 7, 0, 1, 2] )"
   ]
  },
  {
   "cell_type": "code",
   "execution_count": 43,
   "metadata": {},
   "outputs": [
    {
     "data": {
      "text/plain": [
       "11"
      ]
     },
     "execution_count": 43,
     "metadata": {},
     "output_type": "execute_result"
    }
   ],
   "source": [
    "findMin([11, 13, 15, 17])"
   ]
  },
  {
   "cell_type": "code",
   "execution_count": 44,
   "metadata": {},
   "outputs": [
    {
     "data": {
      "text/plain": [
       "4"
      ]
     },
     "execution_count": 44,
     "metadata": {},
     "output_type": "execute_result"
    }
   ],
   "source": [
    "'''\n",
    "    Given a sorted array that has been rotated, find the index of a given target value.\n",
    "    The array was originally sorted in ascending order and then rotated at some pivot.\n",
    "'''\n",
    "def search(nums, target):\n",
    "    # Implement your solution here\n",
    "    for i in range(len(nums)):\n",
    "        if nums[i] == target:\n",
    "            return i\n",
    "    return -1\n",
    "search([4,5,6,7,0,1,2], 0)\n"
   ]
  },
  {
   "cell_type": "code",
   "execution_count": 45,
   "metadata": {},
   "outputs": [
    {
     "data": {
      "text/plain": [
       "-1"
      ]
     },
     "execution_count": 45,
     "metadata": {},
     "output_type": "execute_result"
    }
   ],
   "source": [
    "search([4,5,6,7,0,1,2], 3)"
   ]
  },
  {
   "cell_type": "markdown",
   "metadata": {},
   "source": [
    "# List / Array Practise Questions"
   ]
  },
  {
   "cell_type": "markdown",
   "metadata": {},
   "source": [
    "#### find_max_element"
   ]
  },
  {
   "cell_type": "code",
   "execution_count": 52,
   "metadata": {},
   "outputs": [
    {
     "data": {
      "text/plain": [
       "7"
      ]
     },
     "execution_count": 52,
     "metadata": {},
     "output_type": "execute_result"
    }
   ],
   "source": [
    "def find_max_element(lst):\n",
    "    \"\"\"\n",
    "    Function to find the maximum element in a list.\n",
    "    :param lst: List[int] -> List of integers\n",
    "    :return: int -> The maximum element in the list\n",
    "    \"\"\"\n",
    "    num = lst[0]\n",
    "    for i in range(1, len(lst)):\n",
    "        if lst[i] > num:\n",
    "            num = lst[i]\n",
    "    return num\n",
    "find_max_element([3,4,5,6,2,7])\n"
   ]
  },
  {
   "cell_type": "code",
   "execution_count": 53,
   "metadata": {},
   "outputs": [
    {
     "data": {
      "text/plain": [
       "5"
      ]
     },
     "execution_count": 53,
     "metadata": {},
     "output_type": "execute_result"
    }
   ],
   "source": [
    "find_max_element([1, 2, 3, 4, 5]) # Expected output: 5"
   ]
  },
  {
   "cell_type": "code",
   "execution_count": 54,
   "metadata": {},
   "outputs": [
    {
     "data": {
      "text/plain": [
       "-1"
      ]
     },
     "execution_count": 54,
     "metadata": {},
     "output_type": "execute_result"
    }
   ],
   "source": [
    "find_max_element([-1, -2, -3, -4]) # Expected output: -1"
   ]
  },
  {
   "cell_type": "code",
   "execution_count": 55,
   "metadata": {},
   "outputs": [
    {
     "data": {
      "text/plain": [
       "7"
      ]
     },
     "execution_count": 55,
     "metadata": {},
     "output_type": "execute_result"
    }
   ],
   "source": [
    "find_max_element([7])"
   ]
  },
  {
   "cell_type": "markdown",
   "metadata": {},
   "source": [
    "#### Sum a list"
   ]
  },
  {
   "cell_type": "code",
   "execution_count": 58,
   "metadata": {},
   "outputs": [],
   "source": [
    "def sum_of_elements(lst):\n",
    "    \"\"\"\n",
    "    Function to find the sum of all elements in the list.\n",
    "    :param lst: List[int] -> List of integers\n",
    "    :return: int -> The sum of all elements in the list\n",
    "    \"\"\"\n",
    "    # TODO: Implement this function\n",
    "    return sum([i for i in lst])"
   ]
  },
  {
   "cell_type": "code",
   "execution_count": 59,
   "metadata": {},
   "outputs": [
    {
     "data": {
      "text/plain": [
       "7"
      ]
     },
     "execution_count": 59,
     "metadata": {},
     "output_type": "execute_result"
    }
   ],
   "source": [
    "sum_of_elements([7])"
   ]
  },
  {
   "cell_type": "code",
   "execution_count": 60,
   "metadata": {},
   "outputs": [
    {
     "data": {
      "text/plain": [
       "-10"
      ]
     },
     "execution_count": 60,
     "metadata": {},
     "output_type": "execute_result"
    }
   ],
   "source": [
    "sum_of_elements([-1, -2, -3, -4]) # Expected output: -10"
   ]
  },
  {
   "cell_type": "code",
   "execution_count": 68,
   "metadata": {},
   "outputs": [],
   "source": [
    "def is_palindrome(lst):\n",
    "    \"\"\"\n",
    "    Function to check if a list is a palindrome.\n",
    "    :param lst: List[int] -> List of integers\n",
    "    :return: bool -> True if the list is a palindrome, False otherwise\n",
    "    \"\"\"\n",
    "    # TODO: Implement this function\n",
    "    # return lst == lst[::-1]\n",
    "    for i in range(len(lst)):\n",
    "        if lst[i] != lst[-i-1]:\n",
    "            return False\n",
    "    return True\n"
   ]
  },
  {
   "cell_type": "code",
   "execution_count": 69,
   "metadata": {},
   "outputs": [
    {
     "data": {
      "text/plain": [
       "True"
      ]
     },
     "execution_count": 69,
     "metadata": {},
     "output_type": "execute_result"
    }
   ],
   "source": [
    "lst = [7,8,9,8,7]\n",
    "# def\n",
    "# for i in range(len(lst)):\n",
    "#     if lst[i] != lst[-i-1]:\n",
    "#         return False\n",
    "# return True\n",
    "is_palindrome(lst) # Expected output: True"
   ]
  },
  {
   "cell_type": "code",
   "execution_count": 70,
   "metadata": {},
   "outputs": [
    {
     "data": {
      "text/plain": [
       "False"
      ]
     },
     "execution_count": 70,
     "metadata": {},
     "output_type": "execute_result"
    }
   ],
   "source": [
    "is_palindrome([1, 2, 3, 4]) # Expected output: False"
   ]
  },
  {
   "cell_type": "code",
   "execution_count": 71,
   "metadata": {},
   "outputs": [],
   "source": [
    "def reverse_list(lst):\n",
    "    \"\"\"\n",
    "    Function to reverse the order of elements in a list.\n",
    "    :param lst: List[int] -> List of integers\n",
    "    :return: List[int] -> The list with elements in reversed order\n",
    "    \"\"\"\n",
    "    for i in range(len(lst)//2):\n",
    "        lst[i], lst[-i-1] = lst[-i-1], lst[i]\n",
    "    return lst"
   ]
  },
  {
   "cell_type": "code",
   "execution_count": 72,
   "metadata": {},
   "outputs": [
    {
     "data": {
      "text/plain": [
       "[4, 3, 2, 1]"
      ]
     },
     "execution_count": 72,
     "metadata": {},
     "output_type": "execute_result"
    }
   ],
   "source": [
    "reverse_list([1, 2, 3, 4]) # Expected output: [4, 3, 2, 1]"
   ]
  },
  {
   "cell_type": "code",
   "execution_count": 74,
   "metadata": {},
   "outputs": [
    {
     "data": {
      "text/plain": [
       "[12, 11, 10, 8, 7]"
      ]
     },
     "execution_count": 74,
     "metadata": {},
     "output_type": "execute_result"
    }
   ],
   "source": [
    "reverse_list([7, 8, 10, 11, 12]) # Expected output: [7, 8, 9, 8, 7]"
   ]
  },
  {
   "cell_type": "code",
   "execution_count": 75,
   "metadata": {},
   "outputs": [
    {
     "data": {
      "text/plain": [
       "2"
      ]
     },
     "execution_count": 75,
     "metadata": {},
     "output_type": "execute_result"
    }
   ],
   "source": [
    "5//2"
   ]
  },
  {
   "cell_type": "code",
   "execution_count": 85,
   "metadata": {},
   "outputs": [],
   "source": [
    "def rotate_left(ARR, D):\n",
    "    \"\"\"\n",
    "    Function to rotate the list to the left by D positions.\n",
    "    :param ARR: List[int] -> The list of integers\n",
    "    :param D: int -> The number of positions to rotate\n",
    "    :return: List[int] -> The list after rotation\n",
    "    \"\"\"\n",
    "    # TODO: Implement this function\n",
    "    D = D % len(ARR)\n",
    "    return ARR[D:] + ARR[:D]"
   ]
  },
  {
   "cell_type": "code",
   "execution_count": 86,
   "metadata": {},
   "outputs": [
    {
     "data": {
      "text/plain": [
       "[3, 4, 5, 1, 2]"
      ]
     },
     "execution_count": 86,
     "metadata": {},
     "output_type": "execute_result"
    }
   ],
   "source": [
    "rotate_left(ARR = [1, 2, 3, 4, 5], D = 2)   # Expected output: [3, 4, 5, 1, 2]"
   ]
  },
  {
   "cell_type": "code",
   "execution_count": 87,
   "metadata": {},
   "outputs": [
    {
     "data": {
      "text/plain": [
       "[10, 11, 7, 8, 9]"
      ]
     },
     "execution_count": 87,
     "metadata": {},
     "output_type": "execute_result"
    }
   ],
   "source": [
    "rotate_left(ARR = [7, 8, 9, 10, 11], D = 3) # Expected output: [10, 11, 7, 8, 9]"
   ]
  },
  {
   "cell_type": "code",
   "execution_count": 7,
   "metadata": {},
   "outputs": [
    {
     "name": "stdout",
     "output_type": "stream",
     "text": [
      "[4, 3, 2, 2]\n"
     ]
    }
   ],
   "source": [
    "def plus_one(digits):\n",
    "    \"\"\"\n",
    "    Function to increment a large integer represented as a list of digits by one.\n",
    "    :param digits: List[int] -> List of digits representing the large integer\n",
    "    :return: List[int] -> The list representing the integer after incrementing\n",
    "    \"\"\"\n",
    "    # TODO: Implement this function\n",
    "    s = ''.join([str(i) for i in digits])\n",
    "    s = [int(i) for i in str(int(s) + 1)]\n",
    "    return s\n",
    "    \n",
    "print(plus_one([4,3,2,1]))"
   ]
  },
  {
   "cell_type": "code",
   "execution_count": 2,
   "metadata": {},
   "outputs": [
    {
     "data": {
      "text/plain": [
       "'45'"
      ]
     },
     "execution_count": 2,
     "metadata": {},
     "output_type": "execute_result"
    }
   ],
   "source": [
    "str(45)"
   ]
  },
  {
   "cell_type": "code",
   "execution_count": 15,
   "metadata": {},
   "outputs": [
    {
     "data": {
      "text/plain": [
       "2"
      ]
     },
     "execution_count": 15,
     "metadata": {},
     "output_type": "execute_result"
    }
   ],
   "source": [
    "def find_missing_number(nums):\n",
    "    \"\"\"\n",
    "    Function to find the missing number in the array.\n",
    "    :param nums: List[int] -> A list of distinct integers in the range [0, n]\n",
    "    :return: int -> The missing number in the range\n",
    "    :Example:\n",
    "        Input: nums = [3, 0, 1]\n",
    "        Output: 2\n",
    "        \n",
    "        Input: nums = [0, 1]\n",
    "        Output: 2\n",
    "        \n",
    "        Input: nums = [8, 7, 6, 4, 3, 2, 0, 1]\n",
    "        Output: 5\n",
    "    \"\"\"\n",
    "    # TODO: Implement this function\n",
    "    for num in range(1, len(nums)+1):\n",
    "        if num not in nums:\n",
    "            return num\n",
    "    return -1\n",
    "\n",
    "find_missing_number([3, 0, 1]) # Expected output: 2\n"
   ]
  },
  {
   "cell_type": "code",
   "execution_count": 16,
   "metadata": {},
   "outputs": [
    {
     "data": {
      "text/plain": [
       "2"
      ]
     },
     "execution_count": 16,
     "metadata": {},
     "output_type": "execute_result"
    }
   ],
   "source": [
    "find_missing_number([0, 1]) # Expected output: 2"
   ]
  },
  {
   "cell_type": "code",
   "execution_count": 17,
   "metadata": {},
   "outputs": [
    {
     "data": {
      "text/plain": [
       "5"
      ]
     },
     "execution_count": 17,
     "metadata": {},
     "output_type": "execute_result"
    }
   ],
   "source": [
    "find_missing_number([8, 7, 6, 4, 3, 2, 0, 1]) # Expected output: 5"
   ]
  },
  {
   "cell_type": "code",
   "execution_count": 19,
   "metadata": {},
   "outputs": [
    {
     "data": {
      "text/plain": [
       "False"
      ]
     },
     "execution_count": 19,
     "metadata": {},
     "output_type": "execute_result"
    }
   ],
   "source": [
    "[1, 2, 3] == [1,2,1]"
   ]
  },
  {
   "cell_type": "code",
   "execution_count": 26,
   "metadata": {},
   "outputs": [],
   "source": [
    "def is_sorted(arr):\n",
    "    \"\"\"\n",
    "    Function to check if the given array is sorted in non-decreasing order.\n",
    "    :param arr: List[int] -> A list of integers\n",
    "    :return: bool -> True if the array is sorted, False otherwise\n",
    "    \"\"\"\n",
    "    for idx in range(len(arr)-1, 0, -1):\n",
    "        if arr[idx] < arr[idx-1]:\n",
    "            return False\n",
    "    return True"
   ]
  },
  {
   "cell_type": "code",
   "execution_count": 27,
   "metadata": {},
   "outputs": [
    {
     "data": {
      "text/plain": [
       "True"
      ]
     },
     "execution_count": 27,
     "metadata": {},
     "output_type": "execute_result"
    }
   ],
   "source": [
    "is_sorted([1, 2, 3, 4, 5])"
   ]
  },
  {
   "cell_type": "code",
   "execution_count": null,
   "metadata": {},
   "outputs": [],
   "source": [
    "def move_zeroes(nums):\n",
    "    \"\"\"\n",
    "    Function to move all 0's to the end of the array while maintaining the order of non-zero elements.\n",
    "    :param nums: List[int] -> A list of integers\n",
    "    :return: None -> The list is modified in place\n",
    "    \"\"\"\n",
    "    # TODO: Implement this function\n",
    "    for num in nums:\n",
    "        if num == 0:\n",
    "            nums.remove(num)\n",
    "            nums.append(0)\n",
    "    return nums"
   ]
  },
  {
   "cell_type": "code",
   "execution_count": 34,
   "metadata": {},
   "outputs": [
    {
     "data": {
      "text/plain": [
       "[1, 2, 3, 6, 7, 8, 0, 0]"
      ]
     },
     "execution_count": 34,
     "metadata": {},
     "output_type": "execute_result"
    }
   ],
   "source": [
    "lst = [1, 2, 3, 5, 6, 5, 7, 8]\n",
    "for num in lst:\n",
    "    if num == 5:\n",
    "        lst.remove(num)\n",
    "        lst.append(0)\n",
    "lst"
   ]
  },
  {
   "cell_type": "code",
   "execution_count": 38,
   "metadata": {},
   "outputs": [
    {
     "name": "stdout",
     "output_type": "stream",
     "text": [
      "[2]\n",
      "[9, 4]\n",
      "[]\n",
      "[9, 4]\n"
     ]
    }
   ],
   "source": [
    "def intersection(nums1, nums2):\n",
    "    \"\"\"\n",
    "    Function to find the intersection of two integer arrays.\n",
    "    :param nums1: List[int] -> First array of integers\n",
    "    :param nums2: List[int] -> Second array of integers\n",
    "    :return: List[int] -> An array of unique integers present in both arrays\n",
    "    \"\"\"\n",
    "    if len(nums1) > len(nums2):\n",
    "        nums1, nums2 = nums2, nums1\n",
    "    intersection = []\n",
    "    for num in nums2:\n",
    "        if num in nums1 and num not in intersection:\n",
    "            intersection.append(num)\n",
    "    return intersection\n",
    "\n",
    "print(intersection([1,2,2,1], [2,2])) # Expected output: [2]\n",
    "print(intersection([4,9,5], [9,4,9,8,4])) # Expected output: [4, 9]\n",
    "print(intersection([1,2,3], [4,5,6])) # Expected output: []\n",
    "print(intersection(nums1 = [4, 9, 5], nums2 = [9, 4, 9, 8, 4])) # Expected output: [9, 4]"
   ]
  },
  {
   "cell_type": "code",
   "execution_count": 39,
   "metadata": {},
   "outputs": [
    {
     "data": {
      "text/plain": [
       "[9, 4]"
      ]
     },
     "execution_count": 39,
     "metadata": {},
     "output_type": "execute_result"
    }
   ],
   "source": [
    "intersection([9,4,8], [9,4])"
   ]
  },
  {
   "cell_type": "code",
   "execution_count": 52,
   "metadata": {},
   "outputs": [
    {
     "name": "stdout",
     "output_type": "stream",
     "text": [
      "3\n"
     ]
    }
   ],
   "source": [
    "def find_max_consecutive_ones(nums):\n",
    "    \"\"\"\n",
    "    Function to find the maximum number of consecutive 1's in a binary array.\n",
    "    :param nums: List[int] -> A binary array where each element is either 0 or 1\n",
    "    :return: int -> The maximum number of consecutive 1's\n",
    "    \"\"\"\n",
    "    max_ones = 0\n",
    "    ones = 0\n",
    "    for num in nums:\n",
    "        if num == 1:\n",
    "            ones += 1\n",
    "        else:\n",
    "            max_ones = max(max_ones, ones)\n",
    "            ones = 0\n",
    "    return max(max_ones, ones)\n",
    "\n",
    "print(find_max_consecutive_ones([1,1,0,1,1,1,0])) # Expected output: 3\n"
   ]
  },
  {
   "cell_type": "code",
   "execution_count": 53,
   "metadata": {},
   "outputs": [
    {
     "name": "stdout",
     "output_type": "stream",
     "text": [
      "0\n",
      "4\n",
      "3\n"
     ]
    }
   ],
   "source": [
    "print(find_max_consecutive_ones([0, 0, 0, 0]))                      # Output: 0\n",
    "print(find_max_consecutive_ones([1, 0, 1, 1, 0, 1, 1, 1, 1]))       # Output: 4\n",
    "print(find_max_consecutive_ones([1, 1, 0, 1, 1, 1]))                # Output: 3"
   ]
  },
  {
   "cell_type": "code",
   "execution_count": 70,
   "metadata": {},
   "outputs": [],
   "source": [
    "def max_subarray_sum(arr):\n",
    "    \"\"\"\n",
    "    Given an array of integers, find the maximum sum of any subarray using Kadane's Algorithm.\n",
    "    Parameters:\n",
    "    arr (List[int]): List of integers.\n",
    "    Returns:\n",
    "    int: Maximum sum of any subarray.\n",
    "    \"\"\"\n",
    "    if not arr:\n",
    "        return 0\n",
    "\n",
    "    # Initialize variables\n",
    "    max_ending_here = 0\n",
    "    max_so_far = float('-inf')\n",
    "\n",
    "    # Iterate through the array\n",
    "    for x in arr:\n",
    "        # Update max_ending_here to include current element\n",
    "        max_ending_here = max(x, max_ending_here + x)\n",
    "        # Update max_so_far to the maximum value found so far\n",
    "        max_so_far = max(max_so_far, max_ending_here)\n",
    "        print(f'{x= } \\t, {max_ending_here= }\\t , {max_so_far= }')\n",
    "\n",
    "    return max_so_far"
   ]
  },
  {
   "cell_type": "code",
   "execution_count": 71,
   "metadata": {},
   "outputs": [
    {
     "name": "stdout",
     "output_type": "stream",
     "text": [
      "x= -2 \t, max_ending_here= -2\t , max_so_far= -2\n",
      "x= 1 \t, max_ending_here= 1\t , max_so_far= 1\n",
      "x= -3 \t, max_ending_here= -2\t , max_so_far= 1\n",
      "x= 4 \t, max_ending_here= 4\t , max_so_far= 4\n",
      "x= -1 \t, max_ending_here= 3\t , max_so_far= 4\n",
      "x= 2 \t, max_ending_here= 5\t , max_so_far= 5\n",
      "x= 1 \t, max_ending_here= 6\t , max_so_far= 6\n",
      "x= -5 \t, max_ending_here= 1\t , max_so_far= 6\n",
      "x= 4 \t, max_ending_here= 5\t , max_so_far= 6\n"
     ]
    },
    {
     "data": {
      "text/plain": [
       "6"
      ]
     },
     "execution_count": 71,
     "metadata": {},
     "output_type": "execute_result"
    }
   ],
   "source": [
    "max_subarray_sum([-2,1,-3,4,-1,2,1,-5,4]) # Expected output: 6"
   ]
  },
  {
   "cell_type": "code",
   "execution_count": 124,
   "metadata": {},
   "outputs": [],
   "source": [
    "def generate_(numRows):\n",
    "    \"\"\"\n",
    "    Function to generate the first numRows of Pascal's triangle.\n",
    "    :param numRows: int -> Number of rows of Pascal's triangle to generate\n",
    "    :return: List[List[int]] -> The first numRows of Pascal's triangle\n",
    "    \"\"\"\n",
    "    triangle = []\n",
    "    for i in range(numRows):\n",
    "        print(f'{i= }')\n",
    "        row = [1] * (i + 1)\n",
    "        for j in range(1, i):\n",
    "            print(f'{j= }')\n",
    "            row[j] = triangle[i-1][j-1] + triangle[i-1][j]\n",
    "        triangle.append(row)\n",
    "    return triangle"
   ]
  },
  {
   "cell_type": "code",
   "execution_count": 126,
   "metadata": {},
   "outputs": [
    {
     "name": "stdout",
     "output_type": "stream",
     "text": [
      "i= 0\n",
      "i= 1\n",
      "i= 2\n",
      "j= 1\n"
     ]
    },
    {
     "data": {
      "text/plain": [
       "[[1], [1, 1], [1, 2, 1]]"
      ]
     },
     "execution_count": 126,
     "metadata": {},
     "output_type": "execute_result"
    }
   ],
   "source": [
    "generate_(3) # Expected output: [[1], [1, 1], [1, 2, 1], [1, 3, 3, 1], [1, 4, 6, 4, 1]]"
   ]
  },
  {
   "cell_type": "code",
   "execution_count": 127,
   "metadata": {},
   "outputs": [],
   "source": [
    "def rotate(matrix):\n",
    "    \"\"\"\n",
    "    Function to rotate the matrix 90 degrees clockwise.\n",
    "    :param matrix: List[List[int]] -> 2D list representing the matrix\n",
    "    :return: None -> Modifies the matrix in-place\n",
    "    \"\"\"\n",
    "    # TODO: Implement this function\n",
    "    pass"
   ]
  },
  {
   "cell_type": "code",
   "execution_count": 181,
   "metadata": {},
   "outputs": [],
   "source": [
    "arr = \\\n",
    "[   [5, 1, 9, 11],\n",
    "    [2, 4, 8, 10],\n",
    "    [13, 3, 6, 7],\n",
    "    [15, 14, 12, 16]\n",
    "]"
   ]
  },
  {
   "cell_type": "code",
   "execution_count": 182,
   "metadata": {},
   "outputs": [],
   "source": [
    "for row in range(len(arr)):\n",
    "    # print(arr[row])\n",
    "    for col in range(len(arr)):\n",
    "        # rev = col*-1+-1\n",
    "#         print(f'''{row= } , {col= }, {arr[row][col]=}\n",
    "# {row= } , {rev = }, {arr[rev][row]=}\n",
    "# ''')\n",
    "        arr[row][col], arr[col][row] = arr[col][row], arr[row][col]\n",
    "        # print(arr[row])\n",
    "        # break\n",
    "# print(arr)"
   ]
  },
  {
   "cell_type": "code",
   "execution_count": 183,
   "metadata": {},
   "outputs": [
    {
     "data": {
      "text/plain": [
       "[[5, 1, 9, 11], [2, 4, 8, 10], [13, 3, 6, 7], [15, 14, 12, 16]]"
      ]
     },
     "execution_count": 183,
     "metadata": {},
     "output_type": "execute_result"
    }
   ],
   "source": [
    "arr"
   ]
  },
  {
   "cell_type": "code",
   "execution_count": 184,
   "metadata": {},
   "outputs": [],
   "source": [
    "def rotate(matrix):\n",
    "    \"\"\"\n",
    "    Function to rotate the matrix 90 degrees clockwise.\n",
    "    :param matrix: List[List[int]] -> 2D list representing the matrix\n",
    "    :return: None -> Modifies the matrix in-place\n",
    "    \"\"\"\n",
    "    # Step 1: Transpose the matrix (swap rows and columns)\n",
    "    n = len(matrix)\n",
    "    for i in range(n):\n",
    "        for j in range(i, n):\n",
    "            # Swap matrix[i][j] and matrix[j][i]\n",
    "            matrix[i][j], matrix[j][i] = matrix[j][i], matrix[i][j]\n",
    " \n",
    "    # Step 2: Reverse each row of the matrix\n",
    "    for i in range(n):\n",
    "        matrix[i].reverse()\n",
    " \n",
    "# Helper function to display the result (for debugging)\n",
    "def display_result(matrix):\n",
    "    rotate(matrix)\n",
    "    for row in matrix:\n",
    "        print(row)"
   ]
  },
  {
   "cell_type": "code",
   "execution_count": 189,
   "metadata": {},
   "outputs": [],
   "source": [
    "arr = \\\n",
    "[   [5, 1, 9, 11],\n",
    "    [2, 4, 8, 10],\n",
    "    [13, 3, 6, 7],\n",
    "    [15, 14, 12, 16]\n",
    "]"
   ]
  },
  {
   "cell_type": "code",
   "execution_count": 193,
   "metadata": {},
   "outputs": [
    {
     "name": "stdout",
     "output_type": "stream",
     "text": [
      "[5, 1, 9, 11]\n",
      "[2, 4, 8, 10]\n",
      "[13, 3, 6, 7]\n",
      "[15, 14, 12, 16]\n"
     ]
    }
   ],
   "source": [
    "display_result(arr)"
   ]
  },
  {
   "cell_type": "code",
   "execution_count": 209,
   "metadata": {},
   "outputs": [],
   "source": [
    "def can_be_rotated(mat, target):\n",
    "    \"\"\"\n",
    "    Function to check if mat can be rotated to match target.\n",
    "    :param mat: List[List[int]] -> The original matrix\n",
    "    :param target: List[List[int]] -> The target matrix\n",
    "    :return: bool -> True if mat can be rotated to match target, otherwise False\n",
    "    \"\"\"\n",
    "    # TODO: Implement this function\n",
    "    n = len(mat)\n",
    "    matched = False\n",
    "    rotation = 0\n",
    "\n",
    "    if mat == target:\n",
    "        matched = True\n",
    "\n",
    "    while rotation <= 2 and not matched:\n",
    "        for row in range(n):\n",
    "            for col in range(row, n):\n",
    "                mat[row][col], mat[col][row] = mat[col][row], mat[row][col]\n",
    "\n",
    "        for i in range(n):\n",
    "            mat[i].reverse()\n",
    "        \n",
    "        matched = mat == target\n",
    "        rotation += 1\n",
    "\n",
    "    return matched"
   ]
  },
  {
   "cell_type": "code",
   "execution_count": 210,
   "metadata": {},
   "outputs": [
    {
     "data": {
      "text/plain": [
       "True"
      ]
     },
     "execution_count": 210,
     "metadata": {},
     "output_type": "execute_result"
    }
   ],
   "source": [
    "can_be_rotated(mat = [[0, 0, 0], [0, 1, 0], [1, 1, 1]], target = [[1, 1, 1], [0, 1, 0], [0, 0, 0]])"
   ]
  },
  {
   "cell_type": "code",
   "execution_count": 211,
   "metadata": {},
   "outputs": [
    {
     "data": {
      "text/plain": [
       "False"
      ]
     },
     "execution_count": 211,
     "metadata": {},
     "output_type": "execute_result"
    }
   ],
   "source": [
    "can_be_rotated(mat = [[0, 1], [1, 1]], target = [[1, 0], [0, 1]])"
   ]
  },
  {
   "cell_type": "code",
   "execution_count": null,
   "metadata": {},
   "outputs": [],
   "source": [
    "def spiral_order(matrix):\n",
    "    \"\"\"\n",
    "    Function to return the elements of the matrix in spiral order.\n",
    "    :param matrix: List[List[int]] -> The input matrix\n",
    "    :return: List[int] -> The elements in spiral order\n",
    "    :Example:\n",
    "        Input: matrix = [ [1, 2, 3, 4], [5, 6, 7, 8], [9, 10, 11, 12] ]\n",
    "        Output: [1, 2, 3, 4, 8, 12, 11, 10, 9, 5, 6, 7]\n",
    "        \n",
    "        Input: matrix = [[1, 2, 3], \n",
    "                        [4, 5, 6], \n",
    "                        [7, 8, 9]]\n",
    "        Output: [1, 2, 3, 6, 9, 8, 7, 4, 5]\n",
    "    \"\"\"\n",
    "    n = len(matrix)\n",
    "\n"
   ]
  },
  {
   "cell_type": "code",
   "execution_count": 218,
   "metadata": {},
   "outputs": [
    {
     "name": "stdout",
     "output_type": "stream",
     "text": [
      "0,0==>1  0,1==>2  0,2==>3  1,2==>6  2,2==>9  "
     ]
    }
   ],
   "source": [
    "matrix = \\\n",
    "[   [1, 2, 3],\n",
    "    [4, 5, 6],\n",
    "    [7, 8, 9]\n",
    "]\n",
    "max_col = 0\n",
    "for row in range(3):\n",
    "    for col in range(max_col, 3):\n",
    "        print(f'{row},{col}==>{matrix[row][col]}', end='  ')\n",
    "        max_col = col"
   ]
  },
  {
   "cell_type": "code",
   "execution_count": 219,
   "metadata": {},
   "outputs": [],
   "source": [
    "def spiral_order(matrix):\n",
    "    \"\"\"\n",
    "    Function to return the elements of the matrix in spiral order.\n",
    "    :param matrix: List[List[int]] -> The input matrix\n",
    "    :return: List[int] -> The elements in spiral order\n",
    "    \"\"\"\n",
    "    result = []\n",
    "    \n",
    "    # Define the boundaries for traversal\n",
    "    top, bottom = 0, len(matrix) - 1\n",
    "    left, right = 0, len(matrix[0]) - 1\n",
    "    \n",
    "    while top <= bottom and left <= right:\n",
    "        # Traverse from left to right along the top row\n",
    "        for i in range(left, right + 1):\n",
    "            result.append(matrix[top][i])\n",
    "        top += 1  # Move the top boundary down\n",
    "        \n",
    "        # Traverse from top to bottom along the right column\n",
    "        for i in range(top, bottom + 1):\n",
    "            result.append(matrix[i][right])\n",
    "        right -= 1  # Move the right boundary to the left\n",
    "        \n",
    "        if top <= bottom:\n",
    "            # Traverse from right to left along the bottom row\n",
    "            for i in range(right, left - 1, -1):\n",
    "                result.append(matrix[bottom][i])\n",
    "            bottom -= 1  # Move the bottom boundary up\n",
    "        \n",
    "        if left <= right:\n",
    "            # Traverse from bottom to top along the left column\n",
    "            for i in range(bottom, top - 1, -1):\n",
    "                result.append(matrix[i][left])\n",
    "            left += 1  # Move the left boundary to the right\n",
    "    \n",
    "    return result\n",
    " \n",
    "# Helper function to display the result (for debugging)\n",
    "def display_result(matrix):\n",
    "    result = spiral_order(matrix)\n",
    "    print(result)\n",
    " \n",
    "# Example usage (can be removed)\n",
    "# matrix = [[1, 2, 3], [4, 5, 6], [7, 8, 9]]\n",
    "# display_result(matrix)  # Output should be [1, 2, 3, 6, 9, 8, 7, 4, 5]"
   ]
  },
  {
   "cell_type": "code",
   "execution_count": 222,
   "metadata": {},
   "outputs": [
    {
     "name": "stdout",
     "output_type": "stream",
     "text": [
      "[1, 2, 3, 6, 9, 12, 15, 14, 13, 10, 7, 4, 5, 8, 11]\n"
     ]
    }
   ],
   "source": [
    "matrix = [  [1, 2, 3],\n",
    "            [4, 5, 6],\n",
    "            [7, 8, 9],\n",
    "            [10, 11, 12],\n",
    "            [13, 14, 15]\n",
    "]\n",
    "display_result(matrix) "
   ]
  },
  {
   "cell_type": "code",
   "execution_count": 227,
   "metadata": {},
   "outputs": [],
   "source": [
    "def spiral_order(matrix):\n",
    "    \"\"\"\n",
    "    Function to return the elements of the matrix in spiral order.\n",
    "    :param matrix: List[List[int]] -> The input matrix\n",
    "    :return: List[int] -> The elements in spiral order\n",
    "    \"\"\"\n",
    "    # TODO: Implement this function\n",
    "    result = []\n",
    "     \n",
    "    top, bottom = 0, len(matrix)-1\n",
    "    left, right = 0, len(matrix[0])-1\n",
    "     \n",
    "    while top <= bottom and left <= right:\n",
    "         \n",
    "        for i in range(left, right+1):\n",
    "            result.append(matrix[top][i])\n",
    "        top += 1\n",
    "         \n",
    "        for i in range(top, bottom+1):\n",
    "            result.append(matrix[i][right])\n",
    "        right -= 1\n",
    "         \n",
    "        if top <= bottom:\n",
    "            for i in range(right, left-1, -1):\n",
    "                result.append(matrix[bottom][i])\n",
    "            bottom -= 1\n",
    "         \n",
    "        if left <= right:\n",
    "            for i in range(bottom, top-1, -1):\n",
    "                result.append(matrix[i][left])\n",
    "            left += 1\n",
    "        \n",
    "        return result"
   ]
  },
  {
   "cell_type": "code",
   "execution_count": 229,
   "metadata": {},
   "outputs": [
    {
     "name": "stdout",
     "output_type": "stream",
     "text": [
      "[1, 2, 3, 6, 9, 8, 7, 4]\n"
     ]
    }
   ],
   "source": [
    "display_result([[1, 2, 3], [4, 5, 6], [7, 8, 9]]) "
   ]
  },
  {
   "cell_type": "code",
   "execution_count": 230,
   "metadata": {},
   "outputs": [],
   "source": [
    "def search_matrix(matrix, target):\n",
    "    \"\"\"\n",
    "    Function to search for a target in the matrix.\n",
    "    :param matrix: List[List[int]] -> The input matrix\n",
    "    :param target: int -> The target value to search for\n",
    "    :return: bool -> True if target is found, False otherwise\n",
    "    \"\"\"\n",
    "    # TODO: Implement this function\n",
    "    for i in range(len(matrix)):\n",
    "        for j in range(len(matrix[0])):\n",
    "            if matrix[i][j] == target:\n",
    "                return True\n",
    "            elif matrix[i][j] > target:\n",
    "                return False\n"
   ]
  },
  {
   "cell_type": "code",
   "execution_count": 232,
   "metadata": {},
   "outputs": [
    {
     "data": {
      "text/plain": [
       "True"
      ]
     },
     "execution_count": 232,
     "metadata": {},
     "output_type": "execute_result"
    }
   ],
   "source": [
    "search_matrix(matrix = [[1, 3, 5, 7],  [10, 11, 16, 20],  [23, 30, 34, 60]], target = 10)"
   ]
  },
  {
   "cell_type": "code",
   "execution_count": 375,
   "metadata": {},
   "outputs": [],
   "source": [
    "def matrix_reshape(mat, r, c):\n",
    "    \"\"\"\n",
    "    Function to reshape a matrix.\n",
    "    :param mat: List[List[int]] -> The original matrix\n",
    "    :param r: int -> Number of rows in reshaped matrix\n",
    "    :param c: int -> Number of columns in reshaped matrix\n",
    "    :return: List[List[int]] -> The reshaped matrix or original matrix if not possible\n",
    "    \"\"\"\n",
    "    # TODO: Implement this function\n",
    "    row = len(mat)\n",
    "    col = len(mat[0])\n",
    "    if (row*col) != (r*c):\n",
    "        return mat\n",
    "    \n",
    "    flat = [mat[i][j] for i in range(row) for j in range(col)]\n",
    "    counter = 0\n",
    "    re_shp= []\n",
    "    for i in range(r):\n",
    "        tmp = []\n",
    "        for j in range(c):\n",
    "            # print(f'{i+1}*{j+1}=={(i+1)*(j+1)}=={flat[((i+1)*(j+1))-1]}')\n",
    "            tmp.append(flat[counter])\n",
    "            counter += 1\n",
    "            # test.append(f'{i+1}*{j+1}=={(i+1)*(j+1)}=={flat[((i+1)*(j+1))-1]}')\n",
    "        re_shp.append(tmp)\n",
    "    return flat, re_shp\n"
   ]
  },
  {
   "cell_type": "code",
   "execution_count": 377,
   "metadata": {},
   "outputs": [
    {
     "name": "stdout",
     "output_type": "stream",
     "text": [
      "1\n",
      "2\n",
      "3\n",
      "4\n",
      "5\n",
      "6\n",
      "7\n",
      "8\n",
      "9\n",
      "10\n",
      "11\n",
      "12\n",
      "13\n",
      "14\n",
      "15\n",
      "16\n"
     ]
    }
   ],
   "source": [
    "flat = [*range(1,17)]\n",
    "counter = 1\n",
    "for i in range(4):\n",
    "    for j in range(4):\n",
    "        # print(f'{i}+{j+1}=={(i+1)+i+(j+1)}=={flat[((i+1)*(j+1))-1]}')\n",
    "        print(f'{counter}'); counter += 1"
   ]
  },
  {
   "cell_type": "code",
   "execution_count": 378,
   "metadata": {},
   "outputs": [
    {
     "name": "stdout",
     "output_type": "stream",
     "text": [
      "([1, 2, 3, 4, 5, 6, 7, 8, 9, 10, 11, 12, 13, 14, 15, 16], [[1, 2, 3, 4, 5, 6, 7, 8, 9, 10, 11, 12, 13, 14, 15, 16]])\n"
     ]
    }
   ],
   "source": [
    "mat = [[1, 2], [3, 4], [5, 6], [7, 8], [9, 10], [11, 12], [13, 14], [15, 16]]\n",
    "print(matrix_reshape(mat, 1, 16))"
   ]
  },
  {
   "cell_type": "code",
   "execution_count": 379,
   "metadata": {},
   "outputs": [
    {
     "data": {
      "text/plain": [
       "([1, 2, 3, 2, 4, 6], [[1, 2, 3], [2, 4, 6]])"
      ]
     },
     "execution_count": 379,
     "metadata": {},
     "output_type": "execute_result"
    }
   ],
   "source": [
    "matrix_reshape([[1,2,3],[2,4,6]],2,3)"
   ]
  },
  {
   "cell_type": "markdown",
   "metadata": {},
   "source": [
    "# Recursion"
   ]
  },
  {
   "cell_type": "code",
   "execution_count": 383,
   "metadata": {},
   "outputs": [],
   "source": [
    "def factorial(n: int) -> int:\n",
    "    if not isinstance(n, int):\n",
    "        return -1\n",
    "    if n==0 or n==1:\n",
    "        return 1\n",
    "    else:\n",
    "        return n * factorial(n-1)"
   ]
  },
  {
   "cell_type": "code",
   "execution_count": 384,
   "metadata": {},
   "outputs": [
    {
     "data": {
      "text/plain": [
       "-1"
      ]
     },
     "execution_count": 384,
     "metadata": {},
     "output_type": "execute_result"
    }
   ],
   "source": [
    "factorial('w')"
   ]
  },
  {
   "cell_type": "code",
   "execution_count": 385,
   "metadata": {},
   "outputs": [
    {
     "data": {
      "text/plain": [
       "720"
      ]
     },
     "execution_count": 385,
     "metadata": {},
     "output_type": "execute_result"
    }
   ],
   "source": [
    "factorial(6)"
   ]
  },
  {
   "cell_type": "code",
   "execution_count": 394,
   "metadata": {},
   "outputs": [
    {
     "data": {
      "text/plain": [
       "6"
      ]
     },
     "execution_count": 394,
     "metadata": {},
     "output_type": "execute_result"
    }
   ],
   "source": [
    "3*2*1"
   ]
  },
  {
   "cell_type": "code",
   "execution_count": 386,
   "metadata": {},
   "outputs": [
    {
     "data": {
      "text/plain": [
       "6"
      ]
     },
     "execution_count": 386,
     "metadata": {},
     "output_type": "execute_result"
    }
   ],
   "source": [
    "factorial(3)"
   ]
  },
  {
   "cell_type": "code",
   "execution_count": 402,
   "metadata": {},
   "outputs": [],
   "source": [
    "def fibonacci(n: int):\n",
    "    if n==0 or n==1:\n",
    "        return n\n",
    "    else:\n",
    "        return n+fibonacci(n-1)"
   ]
  },
  {
   "cell_type": "code",
   "execution_count": 403,
   "metadata": {},
   "outputs": [
    {
     "data": {
      "text/plain": [
       "55"
      ]
     },
     "execution_count": 403,
     "metadata": {},
     "output_type": "execute_result"
    }
   ],
   "source": [
    "9+8+7+6+5+4+3+2+1+10"
   ]
  },
  {
   "cell_type": "code",
   "execution_count": 404,
   "metadata": {},
   "outputs": [
    {
     "data": {
      "text/plain": [
       "55"
      ]
     },
     "execution_count": 404,
     "metadata": {},
     "output_type": "execute_result"
    }
   ],
   "source": [
    "fibonacci(10)"
   ]
  },
  {
   "cell_type": "code",
   "execution_count": null,
   "metadata": {},
   "outputs": [],
   "source": []
  }
 ],
 "metadata": {
  "kernelspec": {
   "display_name": "env",
   "language": "python",
   "name": "python3"
  },
  "language_info": {
   "codemirror_mode": {
    "name": "ipython",
    "version": 3
   },
   "file_extension": ".py",
   "mimetype": "text/x-python",
   "name": "python",
   "nbconvert_exporter": "python",
   "pygments_lexer": "ipython3",
   "version": "3.13.1"
  }
 },
 "nbformat": 4,
 "nbformat_minor": 2
}
