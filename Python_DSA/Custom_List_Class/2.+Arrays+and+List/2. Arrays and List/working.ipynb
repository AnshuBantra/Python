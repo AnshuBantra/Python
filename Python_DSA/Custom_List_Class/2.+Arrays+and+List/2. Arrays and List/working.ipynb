{
 "cells": [
  {
   "cell_type": "code",
   "execution_count": 1,
   "id": "fd57661b",
   "metadata": {},
   "outputs": [
    {
     "data": {
      "text/plain": [
       "'c:\\\\Users\\\\anshu\\\\OneDrive\\\\Code\\\\Python\\\\Python\\\\Python_DSA\\\\env'"
      ]
     },
     "execution_count": 1,
     "metadata": {},
     "output_type": "execute_result"
    }
   ],
   "source": [
    "import sys\n",
    "sys.prefix"
   ]
  },
  {
   "cell_type": "code",
   "execution_count": 8,
   "id": "8e44769f",
   "metadata": {},
   "outputs": [
    {
     "data": {
      "text/plain": [
       "56"
      ]
     },
     "execution_count": 8,
     "metadata": {},
     "output_type": "execute_result"
    }
   ],
   "source": [
    "l1 = []\n",
    "sys.getsizeof(l1)"
   ]
  },
  {
   "cell_type": "code",
   "execution_count": 9,
   "id": "b7779ea2",
   "metadata": {},
   "outputs": [
    {
     "name": "stdout",
     "output_type": "stream",
     "text": [
      "_=0, 88, \t addresses ==> element=140726941508488 list_element=140726941508488\n",
      "_=1, 88, \t addresses ==> element=140726941508520 list_element=140726941508520\n",
      "_=2, 88, \t addresses ==> element=140726941508552 list_element=140726941508552\n",
      "_=3, 88, \t addresses ==> element=140726941508584 list_element=140726941508584\n",
      "_=4, 120, \t addresses ==> element=140726941508616 list_element=140726941508616\n",
      "_=5, 120, \t addresses ==> element=140726941508648 list_element=140726941508648\n",
      "_=6, 120, \t addresses ==> element=140726941508680 list_element=140726941508680\n",
      "_=7, 120, \t addresses ==> element=140726941508712 list_element=140726941508712\n",
      "_=8, 184, \t addresses ==> element=140726941508744 list_element=140726941508744\n",
      "_=9, 184, \t addresses ==> element=140726941508776 list_element=140726941508776\n",
      "_=10, 184, \t addresses ==> element=140726941508808 list_element=140726941508808\n",
      "_=11, 184, \t addresses ==> element=140726941508840 list_element=140726941508840\n",
      "_=12, 184, \t addresses ==> element=140726941508872 list_element=140726941508872\n",
      "_=13, 184, \t addresses ==> element=140726941508904 list_element=140726941508904\n",
      "_=14, 184, \t addresses ==> element=140726941508936 list_element=140726941508936\n",
      "_=15, 184, \t addresses ==> element=140726941508968 list_element=140726941508968\n",
      "_=16, 248, \t addresses ==> element=140726941509000 list_element=140726941509000\n",
      "_=17, 248, \t addresses ==> element=140726941509032 list_element=140726941509032\n",
      "_=18, 248, \t addresses ==> element=140726941509064 list_element=140726941509064\n",
      "_=19, 248, \t addresses ==> element=140726941509096 list_element=140726941509096\n"
     ]
    }
   ],
   "source": [
    "for idx, _ in enumerate(range(20)):\n",
    "    l1.append(_)\n",
    "    print(f'{_=}, {sys.getsizeof(l1)}, \\t addresses ==> element={id(_)} list_element={id(l1[idx])}')"
   ]
  },
  {
   "cell_type": "code",
   "execution_count": null,
   "id": "9627b873",
   "metadata": {},
   "outputs": [],
   "source": []
  }
 ],
 "metadata": {
  "kernelspec": {
   "display_name": "env",
   "language": "python",
   "name": "python3"
  },
  "language_info": {
   "codemirror_mode": {
    "name": "ipython",
    "version": 3
   },
   "file_extension": ".py",
   "mimetype": "text/x-python",
   "name": "python",
   "nbconvert_exporter": "python",
   "pygments_lexer": "ipython3",
   "version": "3.13.0"
  }
 },
 "nbformat": 4,
 "nbformat_minor": 5
}
