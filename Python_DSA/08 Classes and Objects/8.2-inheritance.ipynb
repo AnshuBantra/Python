{
 "cells": [
  {
   "cell_type": "markdown",
   "metadata": {},
   "source": [
    "#### Inheritance In Python\n",
    "Inheritance is a fundamental concept in Object-Oriented Programming (OOP) that allows a class to inherit attributes and methods from another class. This lesson covers single inheritance and multiple inheritance, demonstrating how to create and use them in Python."
   ]
  },
  {
   "cell_type": "code",
   "execution_count": 1,
   "metadata": {},
   "outputs": [],
   "source": [
    "## Inheritance (Single Inheritance)\n",
    "## Parent class\n",
    "class Car:\n",
    "    def __init__(self,windows,doors,enginetype):\n",
    "        self.windows=windows\n",
    "        self.doors=doors\n",
    "        self.enginetype=enginetype\n",
    "    \n",
    "    def drive(self):\n",
    "        print(f\"The person will drive the {self.enginetype} car \")\n"
   ]
  },
  {
   "cell_type": "code",
   "execution_count": 3,
   "metadata": {},
   "outputs": [
    {
     "name": "stdout",
     "output_type": "stream",
     "text": [
      "The person will drive the petrol car \n"
     ]
    }
   ],
   "source": [
    "car1=Car(4,5,\"petrol\")\n",
    "car1.drive()"
   ]
  },
  {
   "cell_type": "code",
   "execution_count": 4,
   "metadata": {},
   "outputs": [],
   "source": [
    "class Tesla(Car):\n",
    "    def __init__(self,windows,doors,enginetype,is_selfdriving):\n",
    "        super().__init__(windows,doors,enginetype)\n",
    "        self.is_selfdriving=is_selfdriving\n",
    "\n",
    "    def selfdriving(self):\n",
    "        print(f\"Tesla supports self driving : {self.is_selfdriving}\")"
   ]
  },
  {
   "cell_type": "code",
   "execution_count": 6,
   "metadata": {},
   "outputs": [
    {
     "name": "stdout",
     "output_type": "stream",
     "text": [
      "Tesla supports self driving : True\n"
     ]
    }
   ],
   "source": [
    "tesla1=Tesla(4,5,\"electric\",True)\n",
    "tesla1.selfdriving()"
   ]
  },
  {
   "cell_type": "code",
   "execution_count": 7,
   "metadata": {},
   "outputs": [
    {
     "name": "stdout",
     "output_type": "stream",
     "text": [
      "The person will drive the electric car \n"
     ]
    }
   ],
   "source": [
    "tesla1.drive()"
   ]
  },
  {
   "cell_type": "code",
   "execution_count": 9,
   "metadata": {},
   "outputs": [
    {
     "name": "stdout",
     "output_type": "stream",
     "text": [
      "Buddy say woof\n",
      "Owner:Krish\n"
     ]
    }
   ],
   "source": [
    "### Multiple Inheritance\n",
    "## When a class inherits from more than one base class.\n",
    "## Base class 1\n",
    "class Animal:\n",
    "    def __init__(self,name):\n",
    "        self.name=name\n",
    "\n",
    "    def speak(self):\n",
    "        print(\"Subclass must implement this method\")\n",
    "\n",
    "## BAse class 2\n",
    "class Pet:\n",
    "    def __init__(self, owner):\n",
    "        self.owner = owner\n",
    "\n",
    "\n",
    "##Derived class\n",
    "class Dog(Animal,Pet):\n",
    "    def __init__(self,name,owner):\n",
    "        Animal.__init__(self,name)\n",
    "        Pet.__init__(self,owner)\n",
    "\n",
    "    def speak(self):\n",
    "        return f\"{self.name} say woof\"\n",
    "    \n",
    "\n",
    "## Create an object\n",
    "dog=Dog(\"Buddy\",\"Krish\")\n",
    "print(dog.speak())\n",
    "print(f\"Owner:{dog.owner}\")\n",
    "\n",
    "\n"
   ]
  },
  {
   "cell_type": "markdown",
   "metadata": {},
   "source": [
    "#### Conclusion\n",
    "Inheritance is a powerful feature in OOP that allows for code reuse and the creation of a more logical class structure. Single inheritance involves one base class, while multiple inheritance involves more than one base class. Understanding how to implement and use inheritance in Python will enable you to design more efficient and maintainable object-oriented programs."
   ]
  },
  {
   "cell_type": "code",
   "execution_count": null,
   "metadata": {},
   "outputs": [],
   "source": []
  },
  {
   "cell_type": "code",
   "execution_count": null,
   "metadata": {},
   "outputs": [],
   "source": []
  },
  {
   "cell_type": "code",
   "execution_count": null,
   "metadata": {},
   "outputs": [],
   "source": []
  },
  {
   "cell_type": "code",
   "execution_count": 1,
   "metadata": {},
   "outputs": [
    {
     "name": "stdout",
     "output_type": "stream",
     "text": [
      "     Name         Amounts\n",
      "0   Smith          30, 40\n",
      "1    Lisa  34, 89, 67, 12\n",
      "2  Robert                \n",
      "3  Sandra          12, 84\n"
     ]
    }
   ],
   "source": [
    "import pandas as pd\n",
    "\n",
    "# Step 1: Create the initial column of mixed names and numbers\n",
    "data = ['Smith', 30, 40, 'Lisa', 34, 89, 67, 12, 'Robert', 'Sandra', 12, 84]\n",
    "\n",
    "# Step 2: Initialize an empty dictionary to store the grouped results\n",
    "grouped_data = {}\n",
    "\n",
    "# Step 3: Keep track of the current name we’re assigning numbers to\n",
    "current_name = None\n",
    "\n",
    "# Step 4: Loop through the data\n",
    "for item in data:\n",
    "    if isinstance(item, str):  # If it's a name (a string)\n",
    "        current_name = item\n",
    "        grouped_data[current_name] = []\n",
    "    else:  # If it's a number\n",
    "        grouped_data[current_name].append(item)\n",
    "\n",
    "# Step 5: Convert the result dictionary to a DataFrame\n",
    "result_df = pd.DataFrame({\n",
    "    'Name': list(grouped_data.keys()),\n",
    "    'Amounts': [\", \".join(map(str, amounts)) for amounts in grouped_data.values()]\n",
    "})\n",
    "\n",
    "# Display the final result\n",
    "print(result_df)\n"
   ]
  },
  {
   "cell_type": "code",
   "execution_count": 14,
   "metadata": {},
   "outputs": [
    {
     "data": {
      "text/plain": [
       "{'Smith': [30, 40], 'Lisa': [34, 89, 67, 12], 'Robert': [], 'Sandra': [12, 84]}"
      ]
     },
     "execution_count": 14,
     "metadata": {},
     "output_type": "execute_result"
    }
   ],
   "source": [
    "data = ['Smith', 30, 40, 'Lisa', 34, 89, 67, 12, 'Robert', 'Sandra', 12, 84]\n",
    "data_dict = {}\n",
    "for item in data:\n",
    "    if isinstance(item, str):\n",
    "        name=item\n",
    "        data_dict[name]=[]\n",
    "    else:\n",
    "        data_dict[name].append(item)\n",
    "data_dict"
   ]
  },
  {
   "cell_type": "code",
   "execution_count": 11,
   "metadata": {},
   "outputs": [
    {
     "data": {
      "application/vnd.microsoft.datawrangler.viewer.v0+json": {
       "columns": [
        {
         "name": "index",
         "rawType": "int64",
         "type": "integer"
        },
        {
         "name": "Name",
         "rawType": "object",
         "type": "string"
        },
        {
         "name": "Amounts",
         "rawType": "object",
         "type": "string"
        }
       ],
       "conversionMethod": "pd.DataFrame",
       "ref": "346ef621-9bbb-4214-a41d-9ad8d7451af2",
       "rows": [
        [
         "0",
         "Smith",
         "30, 40"
        ],
        [
         "1",
         "Lisa",
         "34, 89, 67, 12"
        ],
        [
         "2",
         "Robert",
         ""
        ],
        [
         "3",
         "Sandra",
         "12, 84"
        ]
       ],
       "shape": {
        "columns": 2,
        "rows": 4
       }
      },
      "text/html": [
       "<div>\n",
       "<style scoped>\n",
       "    .dataframe tbody tr th:only-of-type {\n",
       "        vertical-align: middle;\n",
       "    }\n",
       "\n",
       "    .dataframe tbody tr th {\n",
       "        vertical-align: top;\n",
       "    }\n",
       "\n",
       "    .dataframe thead th {\n",
       "        text-align: right;\n",
       "    }\n",
       "</style>\n",
       "<table border=\"1\" class=\"dataframe\">\n",
       "  <thead>\n",
       "    <tr style=\"text-align: right;\">\n",
       "      <th></th>\n",
       "      <th>Name</th>\n",
       "      <th>Amounts</th>\n",
       "    </tr>\n",
       "  </thead>\n",
       "  <tbody>\n",
       "    <tr>\n",
       "      <th>0</th>\n",
       "      <td>Smith</td>\n",
       "      <td>30, 40</td>\n",
       "    </tr>\n",
       "    <tr>\n",
       "      <th>1</th>\n",
       "      <td>Lisa</td>\n",
       "      <td>34, 89, 67, 12</td>\n",
       "    </tr>\n",
       "    <tr>\n",
       "      <th>2</th>\n",
       "      <td>Robert</td>\n",
       "      <td></td>\n",
       "    </tr>\n",
       "    <tr>\n",
       "      <th>3</th>\n",
       "      <td>Sandra</td>\n",
       "      <td>12, 84</td>\n",
       "    </tr>\n",
       "  </tbody>\n",
       "</table>\n",
       "</div>"
      ],
      "text/plain": [
       "     Name         Amounts\n",
       "0   Smith          30, 40\n",
       "1    Lisa  34, 89, 67, 12\n",
       "2  Robert                \n",
       "3  Sandra          12, 84"
      ]
     },
     "execution_count": 11,
     "metadata": {},
     "output_type": "execute_result"
    }
   ],
   "source": [
    "pd.DataFrame(\n",
    "    {   'Name': data_dict.keys(),\n",
    "        'Amounts': [', '.join(map(str, amounts)) for amounts in data_dict.values()]\n",
    "    }\n",
    ")"
   ]
  },
  {
   "cell_type": "code",
   "execution_count": 15,
   "metadata": {},
   "outputs": [
    {
     "name": "stdout",
     "output_type": "stream",
     "text": [
      "     Name         Amounts\n",
      "0   Smith          30, 40\n",
      "1    Lisa  34, 89, 67, 12\n",
      "2  Robert                \n",
      "3  Sandra          12, 84\n"
     ]
    }
   ],
   "source": [
    "import pandas as pd\n",
    "\n",
    "# Sample input as a list simulating the Excel column in Image 1\n",
    "data = ['Smith', 30, 40, 'Lisa', 34, 89, 67, 12, 'Robert', 'Sandra', 12, 84]\n",
    "\n",
    "# Initialize containers\n",
    "current_name = None\n",
    "result = {}\n",
    "\n",
    "# Iterate over each entry\n",
    "for item in data:\n",
    "    if isinstance(item, str):  # It's a name\n",
    "        current_name = item\n",
    "        if current_name not in result:\n",
    "            result[current_name] = []\n",
    "    else:  # It's a number\n",
    "        result[current_name].append(item)\n",
    "\n",
    "# Convert the dictionary into a DataFrame\n",
    "output_df = pd.DataFrame({\n",
    "    'Name': result.keys(),\n",
    "    'Amounts': [', '.join(map(str, amounts)) for amounts in result.values()]\n",
    "})\n",
    "\n",
    "print(output_df)"
   ]
  }
 ],
 "metadata": {
  "kernelspec": {
   "display_name": "env",
   "language": "python",
   "name": "python3"
  },
  "language_info": {
   "codemirror_mode": {
    "name": "ipython",
    "version": 3
   },
   "file_extension": ".py",
   "mimetype": "text/x-python",
   "name": "python",
   "nbconvert_exporter": "python",
   "pygments_lexer": "ipython3",
   "version": "3.13.1"
  }
 },
 "nbformat": 4,
 "nbformat_minor": 2
}
