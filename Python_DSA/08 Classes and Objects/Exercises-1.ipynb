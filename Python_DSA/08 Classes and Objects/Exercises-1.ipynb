{
 "cells": [
  {
   "cell_type": "markdown",
   "id": "a9bf6837",
   "metadata": {},
   "source": [
    "# Bank Account System"
   ]
  },
  {
   "cell_type": "markdown",
   "id": "16e89c36",
   "metadata": {},
   "source": [
    "### Question 0: Class for Bank Account \"\"\" Design a Python class named `BankAccount` to represent bank accounts. Theory: A bank account typically includes attributes such as account number, balance, and account holder name. The class should handle operations such as deposit, withdrawal, and transfer of funds between accounts. \n",
    "\n",
    "#### Operations: \n",
    "1. Deposit: Add funds to the account \n",
    "2. Withdrawal: Subtract funds from the account \n",
    "3. Transfer: Transfer funds from one account to another Test Cases: \n",
    "\n",
    "#### Test Case\n",
    "1. acc1 = BankAccount(\"John Doe\", 1000) acc2 = BankAccount(\"Jane Smith\", 2000) assert acc1.balance == 1000 assert acc2.balance == 2000 acc1.deposit(500) acc2.withdraw(100) acc1.transfer(acc2, 200) assert acc1.balance == 1300 assert acc2.balance == 2300\n",
    "2. acc3 = BankAccount(\"Alice Johnson\", 500) acc4 = BankAccount(\"Bob Brown\", 1500) assert acc3.balance == 500 assert acc4.balance == 1500 acc3.deposit(100) acc4.withdraw(200) acc3.transfer(acc4, 300) assert acc3.balance == 400 assert acc4.balance == 1800"
   ]
  },
  {
   "cell_type": "code",
   "execution_count": null,
   "id": "b3f1bd33",
   "metadata": {},
   "outputs": [],
   "source": [
    "class BankAccount:\n",
    "    def __init__(self, account_holder, initial_balance):\n",
    "        self.account_holder = account_holder\n",
    "        self.balance = initial_balance\n",
    "    \n",
    "    def deposit(self, amount):\n",
    "        if amount > 0:\n",
    "            self.balance += amount\n",
    "            print(f\"{self.account_holder} ==> Deposited: ${amount:.2f}, Updated Balance: ${self.balance:.2f}\")\n",
    "        else:\n",
    "            print(\"Deposit amount must be positive.\")\n",
    "    \n",
    "    def withdraw(self, amount): \n",
    "        if 0 < amount <= self.balance:\n",
    "            self.balance -= amount\n",
    "            print(f\"{self.account_holder} ==> Withdrew: ${amount:.2f}, Updated Balance: ${self.balance:.2f}\")\n",
    "        else:\n",
    "            print(\"Withdrawal amount must be positive and less than or equal to the balance.\")\n",
    "\n",
    "    def get_balance(self):\n",
    "        return self.balance\n",
    "    \n",
    "    def transfer(self, other_account, amount):\n",
    "        if isinstance(other_account, BankAccount):\n",
    "            if  0 < amount <= self.balance:\n",
    "                self.withdraw(amount)\n",
    "                other_account.deposit(amount)\n",
    "                print(f\"{self.account_holder} ==> Transferred: ${amount:.2f} to {other_account.account_holder}. Updated Balance: ${self.balance:.2f}\")\n",
    "        else:\n",
    "            print(\"The recipient must be a valid account.\")\n",
    "\n",
    "\n",
    "    def __str__(self):\n",
    "        return f\"Account Holder: {self.account_holder}, Balance: ${self.balance:.2f}\"\n",
    "    \n",
    "    def __repr__(self):\n",
    "        return f\"BankAccount({self.account_holder!r}, {self.balance})\""
   ]
  },
  {
   "cell_type": "code",
   "execution_count": 47,
   "id": "73b890ca",
   "metadata": {},
   "outputs": [
    {
     "data": {
      "text/plain": [
       "BankAccount('John Doe', 1300)"
      ]
     },
     "execution_count": 47,
     "metadata": {},
     "output_type": "execute_result"
    }
   ],
   "source": [
    "acc1"
   ]
  },
  {
   "cell_type": "code",
   "execution_count": 34,
   "id": "370794b3",
   "metadata": {},
   "outputs": [
    {
     "name": "stdout",
     "output_type": "stream",
     "text": [
      "Account Holder: John Doe, Balance: $1000.00 \n",
      " Account Holder: Jane Smith, Balance: $2000.00\n"
     ]
    }
   ],
   "source": [
    "acc1 = BankAccount(\"John Doe\", 1000)\n",
    "acc2 = BankAccount(\"Jane Smith\", 2000)\n",
    "\n",
    "print(acc1,'\\n',acc2)"
   ]
  },
  {
   "cell_type": "code",
   "execution_count": 35,
   "id": "c3a4acf3",
   "metadata": {},
   "outputs": [],
   "source": [
    "assert acc1.balance == 1000\n",
    "assert acc2.balance == 2000"
   ]
  },
  {
   "cell_type": "code",
   "execution_count": 36,
   "id": "d07aeba5",
   "metadata": {},
   "outputs": [
    {
     "name": "stdout",
     "output_type": "stream",
     "text": [
      "John Doe ==> Deposited: $500.00, Updated Balance: $1500.00\n",
      "Jane Smith ==> Withdrew: $100.00, Updated Balance: $1900.00\n"
     ]
    }
   ],
   "source": [
    "acc1.deposit(500)\n",
    "acc2.withdraw(100)"
   ]
  },
  {
   "cell_type": "code",
   "execution_count": 37,
   "id": "8cff3686",
   "metadata": {},
   "outputs": [
    {
     "name": "stdout",
     "output_type": "stream",
     "text": [
      "Account Holder: John Doe, Balance: $1500.00\n",
      "Account Holder: Jane Smith, Balance: $1900.00\n"
     ]
    }
   ],
   "source": [
    "print(acc1)\n",
    "print(acc2)"
   ]
  },
  {
   "cell_type": "code",
   "execution_count": 38,
   "id": "f08b7535",
   "metadata": {},
   "outputs": [
    {
     "name": "stdout",
     "output_type": "stream",
     "text": [
      "John Doe ==> Withdrew: $200.00, Updated Balance: $1300.00\n",
      "Jane Smith ==> Deposited: $200.00, Updated Balance: $2100.00\n",
      "Transferred: $200.00 to Jane Smith\n"
     ]
    }
   ],
   "source": [
    "acc1.transfer(acc2, 200)"
   ]
  },
  {
   "cell_type": "code",
   "execution_count": 39,
   "id": "729126b3",
   "metadata": {},
   "outputs": [
    {
     "name": "stdout",
     "output_type": "stream",
     "text": [
      "Account Holder: John Doe, Balance: $1300.00\n",
      "Account Holder: Jane Smith, Balance: $2100.00\n"
     ]
    }
   ],
   "source": [
    "print(acc1)\n",
    "print(acc2)"
   ]
  },
  {
   "cell_type": "code",
   "execution_count": 40,
   "id": "ac4704be",
   "metadata": {},
   "outputs": [],
   "source": [
    "assert acc1.balance == 1300\n",
    "assert acc2.balance == 2100"
   ]
  },
  {
   "cell_type": "code",
   "execution_count": 46,
   "id": "bba09a38",
   "metadata": {},
   "outputs": [
    {
     "name": "stdout",
     "output_type": "stream",
     "text": [
      "Alice Johnson ==> Deposited: $100.00, Updated Balance: $600.00\n",
      "Bob Brown ==> Withdrew: $200.00, Updated Balance: $1300.00\n",
      "Alice Johnson ==> Withdrew: $300.00, Updated Balance: $300.00\n",
      "Bob Brown ==> Deposited: $300.00, Updated Balance: $1600.00\n",
      "Alice Johnson ==> Transferred: $300.00 to Bob Brown. Updated Balance: $300.00\n"
     ]
    }
   ],
   "source": [
    "acc3 = BankAccount(\"Alice Johnson\", 500)\n",
    "acc4 = BankAccount(\"Bob Brown\", 1500)\n",
    "assert acc3.balance == 500\n",
    "assert acc4.balance == 1500\n",
    "acc3.deposit(100)\n",
    "acc4.withdraw(200)\n",
    "acc3.transfer(acc4, 300)\n",
    "assert acc3.balance == 300\n",
    "assert acc4.balance == 1600"
   ]
  },
  {
   "cell_type": "markdown",
   "id": "6a792f63",
   "metadata": {},
   "source": [
    "# Calculator"
   ]
  },
  {
   "cell_type": "markdown",
   "id": "d5a10ec6",
   "metadata": {},
   "source": [
    "1. Constructor Method (__init__): Initializes two attributes, num1 and num2.\n",
    "2. Method add: Takes no arguments and returns the sum of num1 and num2.\n",
    "3. Method subtract: Takes no arguments and returns the result of subtracting num2 from num1.\n",
    "4. Method multiply: Takes a single argument factor and returns the product of num1 and factor.\n",
    "5. Method divide: Takes a single argument divisor and returns the result of dividing num1 by divisor. If divisor is zero, print an error message and return None."
   ]
  },
  {
   "cell_type": "code",
   "execution_count": 53,
   "id": "8a03e3b0",
   "metadata": {},
   "outputs": [],
   "source": [
    "class Calculator:\n",
    "    def __init__(self, num1, num2):\n",
    "        # Initialize the attributes num1 and num2\n",
    "        self.num1 = num1\n",
    "        self.num2 = num2\n",
    "\n",
    "    def add(self):\n",
    "        # Return the sum of num1 and num2\n",
    "        return self.num1 + self.num2\n",
    "\n",
    "    def subtract(self):\n",
    "        # Return the result of subtracting num2 from num1\n",
    "        return self.num1 - self.num2\n",
    "\n",
    "    def multiply(self, factor):\n",
    "        # Return the product of num1 and factor\n",
    "        return self.num1 * factor\n",
    "\n",
    "    def divide(self, divisor):\n",
    "        # Return the result of dividing num1 by divisor\n",
    "        # If divisor is zero, print an error message and return None\n",
    "        try:\n",
    "            result = self.num1 / divisor\n",
    "        except ZeroDivisionError:\n",
    "            print('Error: Division by zero.')\n",
    "            return None\n",
    "        if divisor == 0:\n",
    "            print('Error: Division resulted in zsro.')\n",
    "        else:\n",
    "            return result"
   ]
  },
  {
   "cell_type": "code",
   "execution_count": 54,
   "id": "24addf6a",
   "metadata": {},
   "outputs": [
    {
     "name": "stdout",
     "output_type": "stream",
     "text": [
      "Addition Result: 15\n",
      "Subtraction Result: 5\n",
      "Multiplication Result: 30\n",
      "Division Result: 5.0\n",
      "Error: Division by zero.\n",
      "Division Result: None\n"
     ]
    }
   ],
   "source": [
    "# Creating an instance of the Calculator class\n",
    "calculator = Calculator(10, 5)\n",
    "\n",
    "# Testing the add method\n",
    "print(\"Addition Result:\", calculator.add())  # Output: 15\n",
    " \n",
    "# Testing the subtract method\n",
    "print(\"Subtraction Result:\", calculator.subtract())  # Output: 5\n",
    " \n",
    "# Testing the multiply method\n",
    "print(\"Multiplication Result:\", calculator.multiply(3))  # Output: 30\n",
    " \n",
    "# Testing the divide method\n",
    "print(\"Division Result:\", calculator.divide(2))  # Output: 5.0\n",
    "print(\"Division Result:\", calculator.divide(0))  # Output: Error: Cannot divide by zero"
   ]
  },
  {
   "cell_type": "markdown",
   "id": "a66ec7f1",
   "metadata": {},
   "source": [
    "# ComplexNumber"
   ]
  },
  {
   "cell_type": "code",
   "execution_count": null,
   "id": "899254a5",
   "metadata": {},
   "outputs": [],
   "source": []
  },
  {
   "cell_type": "markdown",
   "id": "af7717e9",
   "metadata": {},
   "source": [
    "# Fraction Class"
   ]
  },
  {
   "cell_type": "code",
   "execution_count": null,
   "id": "0f26a609",
   "metadata": {},
   "outputs": [],
   "source": [
    "class Fraction:\n",
    "    def __init__(self, numerator, denominator):\n",
    "        if denominator == 0:\n",
    "            raise ValueError(\"Denominator cannot be zero\")\n",
    "        self.numerator = numerator\n",
    "        self.denominator = denominator\n",
    "        self._simplify()  # Simplify the fraction upon initialization\n",
    "    \n",
    "    def _find_gcd(self, a, b):\n",
    "        # Basic method to find GCD without recursion or imported functions\n",
    "        for i in range(min(a, b), 0, -1):\n",
    "            if a % i == 0 and b % i == 0:\n",
    "                return i\n",
    "        return 1\n",
    "    \n",
    "    def _simplify(self):\n",
    "        common_divisor = self._find_gcd(abs(self.numerator), abs(self.denominator))\n",
    "        self.numerator //= common_divisor\n",
    "        self.denominator //= common_divisor\n",
    "        if self.denominator < 0:  # Handle negative denominator\n",
    "            self.numerator = -self.numerator\n",
    "            self.denominator = -self.denominator\n",
    "    \n",
    "    def add(self, other):\n",
    "        new_numerator = (self.numerator * other.denominator) + (other.numerator * self.denominator)\n",
    "        new_denominator = self.denominator * other.denominator\n",
    "        return Fraction(new_numerator, new_denominator)\n",
    "    \n",
    "    def subtract(self, other):\n",
    "        new_numerator = (self.numerator * other.denominator) - (other.numerator * self.denominator)\n",
    "        new_denominator = self.denominator * other.denominator\n",
    "        return Fraction(new_numerator, new_denominator)\n",
    "    \n",
    "    def multiply(self, other):\n",
    "        new_numerator = self.numerator * other.numerator\n",
    "        new_denominator = self.denominator * other.denominator\n",
    "        return Fraction(new_numerator, new_denominator)\n",
    "    \n",
    "    def divide(self, other):\n",
    "        if other.numerator == 0:\n",
    "            raise ValueError(\"Cannot divide by zero\")\n",
    "        new_numerator = self.numerator * other.denominator\n",
    "        new_denominator = self.denominator * other.numerator\n",
    "        return Fraction(new_numerator, new_denominator)\n",
    "    \n",
    "    def __eq__(self, other):\n",
    "        return (self.numerator == other.numerator) and (self.denominator == other.denominator)\n",
    "    \n",
    "    def __str__(self):\n",
    "        return f\"{self.numerator}/{self.denominator}\"\n",
    "    \n",
    "    def __repr__(self):\n",
    "        return f\"Fraction({self.numerator}, {self.denominator})\""
   ]
  }
 ],
 "metadata": {
  "kernelspec": {
   "display_name": "env",
   "language": "python",
   "name": "python3"
  },
  "language_info": {
   "codemirror_mode": {
    "name": "ipython",
    "version": 3
   },
   "file_extension": ".py",
   "mimetype": "text/x-python",
   "name": "python",
   "nbconvert_exporter": "python",
   "pygments_lexer": "ipython3",
   "version": "3.13.0"
  }
 },
 "nbformat": 4,
 "nbformat_minor": 5
}
