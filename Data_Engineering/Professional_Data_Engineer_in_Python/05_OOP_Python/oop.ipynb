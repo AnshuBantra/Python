{
 "cells": [
  {
   "cell_type": "markdown",
   "metadata": {},
   "source": [
    "# Misc"
   ]
  },
  {
   "cell_type": "code",
   "execution_count": null,
   "metadata": {},
   "outputs": [
    {
     "name": "stdout",
     "output_type": "stream",
     "text": [
      "0\n",
      "1\n",
      "2\n",
      "3\n",
      "4\n",
      "5\n",
      "6\n",
      "7\n",
      "8\n",
      "9\n"
     ]
    }
   ],
   "source": [
    "for _ in list(range(10)):\n",
    "    print(_)"
   ]
  },
  {
   "cell_type": "code",
   "execution_count": null,
   "metadata": {},
   "outputs": [],
   "source": [
    "lst = None\n",
    "for _ in lst or []:\n",
    "    print(_)"
   ]
  },
  {
   "cell_type": "code",
   "execution_count": null,
   "metadata": {},
   "outputs": [
    {
     "data": {
      "text/plain": [
       "\"SELECT * FROM products where\\n     performance = 'average' \\n    \""
      ]
     },
     "metadata": {},
     "output_type": "display_data"
    }
   ],
   "source": [
    "https://rajansahu713.medium.com/dynamic-sql-query-formation-with-jinja-template-113b2ef28134\n",
    "\n",
    "from jinja2 import Template\n",
    "\n",
    "query_str = \"\"\"SELECT * FROM products where\n",
    "    {% if product_stock >= 1000 %} performance = 'bad' \n",
    "    {% elif product_stock >= 300 and product_stock < 1000 %} performance = 'average' \n",
    "    {% else %} performance = 'good'\n",
    "    {% endif %}\n",
    "\"\"\"\n",
    "template = Template(query_str)\n",
    "query = template.render(product_stock=999)\n",
    "query"
   ]
  },
  {
   "cell_type": "code",
   "execution_count": null,
   "metadata": {},
   "outputs": [
    {
     "data": {
      "text/plain": [
       "'SELECT * FROM users WHERE adult >= True ;'"
      ]
     },
     "metadata": {},
     "output_type": "display_data"
    }
   ],
   "source": [
    "from jinja2 import Template\n",
    "\n",
    "query_str = \"\"\"SELECT * FROM users WHERE{% if user_age >= 18 %} adult >= True {% else %} adult = False {% endif %};\"\"\"\n",
    "template = Template(query_str)\n",
    "query = template.render(user_age=30)\n",
    "query"
   ]
  },
  {
   "cell_type": "code",
   "execution_count": null,
   "metadata": {},
   "outputs": [
    {
     "name": "stdout",
     "output_type": "stream",
     "text": [
      "SELECT *\n",
      "        FROM products where \n",
      "        \n",
      "            product_category = 'Electronics'\n",
      "            \n",
      "                product_type = 'normal'\n",
      "            \n",
      "        \n"
     ]
    }
   ],
   "source": [
    "from jinja2 import Template\n",
    "\n",
    "query_str = \"\"\"SELECT *\n",
    "        FROM products where \n",
    "        {% if product_category == \"Electronics\" %}\n",
    "            product_category = '{{product_category}}'\n",
    "            {% if product_price > 500 %}\n",
    "                product_type = 'expensive' \n",
    "            {% else %}\n",
    "                product_type = 'normal'\n",
    "            {% endif %}\n",
    "        {% else %}\n",
    "            product_category = 'Others'\n",
    "        {% endif %}\n",
    "\"\"\"\n",
    "template = Template(query_str)\n",
    "query = template.render(product_category=\"Electronics\", product_price=450)\n",
    "print(query)"
   ]
  },
  {
   "cell_type": "code",
   "execution_count": null,
   "metadata": {},
   "outputs": [
    {
     "name": "stdout",
     "output_type": "stream",
     "text": [
      "SELECT *\n",
      "        FROM orders\n",
      "        WHERE order_id IN (\n",
      "        \n",
      "            1234,\n",
      "        \n",
      "            5678,\n",
      "        \n",
      "            9012,\n",
      "        \n",
      "        )\n"
     ]
    }
   ],
   "source": [
    "from jinja2 import Template\n",
    "query_str = \"\"\"SELECT *\n",
    "        FROM orders\n",
    "        WHERE order_id IN (\n",
    "        {% for order_id in order_ids %}\n",
    "            {{ order_id }},\n",
    "        {% endfor %}\n",
    "        )\n",
    "\"\"\"\n",
    "\n",
    "template = Template(query_str)\n",
    "query = template.render(order_ids=[1234, 5678, 9012])\n",
    "print(query)"
   ]
  },
  {
   "cell_type": "code",
   "execution_count": null,
   "metadata": {},
   "outputs": [
    {
     "name": "stdout",
     "output_type": "stream",
     "text": [
      "     Birds  New York  Los Angeles  Chicago  Houston  Philadelphia\n",
      "0     Dove        87           66       95       50            76\n",
      "1     Duck        42           68       77       91            94\n",
      "2    Eagle        53           83       70       70            99\n",
      "3      Hen        42           47       95       28            96\n",
      "4   Parrot        74           34       76       47            67\n",
      "5  Peacock        10           91       62       20            77\n",
      "6    Stork        85           68       27       36            99\n",
      "7     Swan        54           80       94       36            99\n"
     ]
    }
   ],
   "source": [
    "import pandas as pd\n",
    "\n",
    "# Define the data\n",
    "data = {\n",
    "    \"Birds\": [\"Dove\", \"Duck\", \"Eagle\", \"Hen\", \"Parrot\", \"Peacock\", \"Stork\", \"Swan\"],\n",
    "    \"New York\": [87, 42, 53, 42, 74, 10, 85, 54],\n",
    "    \"Los Angeles\": [66, 68, 83, 47, 34, 91, 68, 80],\n",
    "    \"Chicago\": [95, 77, 70, 95, 76, 62, 27, 94],\n",
    "    \"Houston\": [50, 91, 70, 28, 47, 20, 36, 36],\n",
    "    \"Philadelphia\": [76, 94, 99, 96, 67, 77, 99, 99]\n",
    "}\n",
    "\n",
    "# Create a dataframe\n",
    "df = pd.DataFrame(data)\n",
    "\n",
    "# Display the dataframe\n",
    "print(df)"
   ]
  },
  {
   "cell_type": "code",
   "execution_count": null,
   "metadata": {},
   "outputs": [
    {
     "data": {
      "text/plain": [
       "['Dove', 'Peacock', 'Dove, Hen', 'Duck', 'Eagle, Stork, Swan']"
      ]
     },
     "metadata": {},
     "output_type": "display_data"
    }
   ],
   "source": [
    "[', '.join(list(df[df.iloc[:,_] == df.iloc[:,_].max()]['Birds'].values)) for _ in range(1, len(list(df)))]\n",
    "    "
   ]
  },
  {
   "cell_type": "code",
   "execution_count": null,
   "metadata": {},
   "outputs": [
    {
     "data": {
      "text/html": [
       "<div>\n",
       "<style scoped>\n",
       "    .dataframe tbody tr th:only-of-type {\n",
       "        vertical-align: middle;\n",
       "    }\n",
       "\n",
       "    .dataframe tbody tr th {\n",
       "        vertical-align: top;\n",
       "    }\n",
       "\n",
       "    .dataframe thead th {\n",
       "        text-align: right;\n",
       "    }\n",
       "</style>\n",
       "<table border=\"1\" class=\"dataframe\">\n",
       "  <thead>\n",
       "    <tr style=\"text-align: right;\">\n",
       "      <th></th>\n",
       "      <th>City</th>\n",
       "      <th>Max</th>\n",
       "    </tr>\n",
       "  </thead>\n",
       "  <tbody>\n",
       "    <tr>\n",
       "      <th>0</th>\n",
       "      <td>New York</td>\n",
       "      <td>[Dove]</td>\n",
       "    </tr>\n",
       "    <tr>\n",
       "      <th>1</th>\n",
       "      <td>Los Angeles</td>\n",
       "      <td>[Peacock]</td>\n",
       "    </tr>\n",
       "    <tr>\n",
       "      <th>2</th>\n",
       "      <td>Chicago</td>\n",
       "      <td>[Dove, Hen]</td>\n",
       "    </tr>\n",
       "    <tr>\n",
       "      <th>3</th>\n",
       "      <td>Houston</td>\n",
       "      <td>[Duck]</td>\n",
       "    </tr>\n",
       "    <tr>\n",
       "      <th>4</th>\n",
       "      <td>Philadelphia</td>\n",
       "      <td>[Eagle, Stork, Swan]</td>\n",
       "    </tr>\n",
       "  </tbody>\n",
       "</table>\n",
       "</div>"
      ],
      "text/plain": [
       "           City                   Max\n",
       "0      New York                [Dove]\n",
       "1   Los Angeles             [Peacock]\n",
       "2       Chicago           [Dove, Hen]\n",
       "3       Houston                [Duck]\n",
       "4  Philadelphia  [Eagle, Stork, Swan]"
      ]
     },
     "metadata": {},
     "output_type": "display_data"
    }
   ],
   "source": [
    "pd.DataFrame(\n",
    "    {\n",
    "        'City': list(df.columns)[1:]\n",
    "        , 'Max':[list(df[df.iloc[:,_] == df.iloc[:,_].max()]['Birds'].values) for _ in range(1, len(list(df)))]\n",
    "    }\n",
    ")\n"
   ]
  },
  {
   "cell_type": "markdown",
   "metadata": {},
   "source": [
    "# What is OOP?"
   ]
  },
  {
   "cell_type": "markdown",
   "metadata": {},
   "source": [
    "### Cheat Sheet\n",
    "| **Term** | **Definition** |\n",
    "|--------|---------------|\n",
    "Class | A blueprint / temnplate used to build objects\n",
    "Object | A combination of data and functionality; An instance of a class\n",
    "State | Data associated with an object, assigned through attributes\n",
    "Behaviour | An object's functionality, defined through methods"
   ]
  },
  {
   "cell_type": "markdown",
   "metadata": {},
   "source": [
    "## Class Anatomy"
   ]
  },
  {
   "cell_type": "markdown",
   "metadata": {},
   "source": [
    "### Attributes and Methods"
   ]
  },
  {
   "cell_type": "code",
   "execution_count": 5,
   "metadata": {},
   "outputs": [],
   "source": [
    "class Customer:\n",
    "    # Code for class goes here\n",
    "    def set_name(self, name):\n",
    "        self.name = name\n",
    "\n",
    "    def identify(self):\n",
    "        print(f'I am Customer {self.name}')"
   ]
  },
  {
   "cell_type": "code",
   "execution_count": 7,
   "metadata": {},
   "outputs": [
    {
     "name": "stdout",
     "output_type": "stream",
     "text": [
      "I am Customer Laura\n",
      "I am Customer Tom\n"
     ]
    }
   ],
   "source": [
    "c_one = Customer()\n",
    "c_one.set_name('Laura')\n",
    "c_one.identify()\n",
    "c_two = Customer()\n",
    "c_two.set_name('Tom')\n",
    "c_two.identify()"
   ]
  },
  {
   "cell_type": "code",
   "execution_count": 8,
   "metadata": {},
   "outputs": [
    {
     "name": "stdout",
     "output_type": "stream",
     "text": [
      "50000\n"
     ]
    }
   ],
   "source": [
    "class Employee:\n",
    "    def set_name(self, new_name):\n",
    "        self.name = new_name\n",
    "    \n",
    "    # Add set_salary() method  \n",
    "    def set_salary(self, new_salary):\n",
    "        self.salary = new_salary\n",
    "\n",
    "emp = Employee()\n",
    "\n",
    "# Use set_name to set the name of emp to 'Korel Rossi'\n",
    "emp.set_name('Korel Rossi')\n",
    "\n",
    "# Set the salary of emp to 50000\n",
    "emp.set_salary(50000)\n",
    "\n",
    "# Print the emp object's salary\n",
    "print(emp.salary)"
   ]
  },
  {
   "cell_type": "code",
   "execution_count": 9,
   "metadata": {},
   "outputs": [
    {
     "name": "stdout",
     "output_type": "stream",
     "text": [
      "50000\n",
      "51500\n"
     ]
    }
   ],
   "source": [
    "class Employee:\n",
    "    def set_name(self, new_name):\n",
    "        self.name = new_name\n",
    "\n",
    "    def set_salary(self, new_salary):\n",
    "        self.salary = new_salary \n",
    "\n",
    "    # Add a give_raise() method with amount as an argument\n",
    "    def give_raise(self, amount):\n",
    "        self.salary = self.salary + amount\n",
    "\n",
    "# Create the emp object\n",
    "emp = Employee()\n",
    "emp.set_name('Korel Rossi')\n",
    "emp.set_salary(50000)\n",
    "\n",
    "# Print the salary\n",
    "print(emp.salary)\n",
    "\n",
    "# Give emp a raise of 1500\n",
    "emp.give_raise(1500)\n",
    "print(emp.salary)"
   ]
  },
  {
   "cell_type": "markdown",
   "metadata": {},
   "source": [
    "### the __init__ constructor"
   ]
  },
  {
   "cell_type": "code",
   "execution_count": null,
   "metadata": {},
   "outputs": [],
   "source": [
    "class Customer:\n",
    "    '''\n",
    "        Customer class\n",
    "    '''\n",
    "    def __init__(self, name, balance = 0) -> None:\n",
    "        self.name = name\n",
    "        self.balance = balance"
   ]
  },
  {
   "cell_type": "code",
   "execution_count": 11,
   "metadata": {},
   "outputs": [
    {
     "name": "stdout",
     "output_type": "stream",
     "text": [
      "Lara Croft\n"
     ]
    }
   ],
   "source": [
    "cust = Customer('Lara Croft')\n",
    "print(cust.name)"
   ]
  },
  {
   "cell_type": "code",
   "execution_count": 12,
   "metadata": {},
   "outputs": [],
   "source": [
    "# Define and initialize the Calculator class\n",
    "class Calculator:\n",
    "    def __init__(self, num_one, num_two):\n",
    "        self.num_one = num_one\n",
    "        self.num_two = num_two\n",
    "    \n",
    "    # Create the addition method\n",
    "    def addition(self):\n",
    "        return self.num_one + self.num_two\n",
    "    \n",
    "    # Create the subtraction method\n",
    "    def subtraction(self):\n",
    "        return self.num_one - self.num_two\n",
    "    \n",
    "    # Create the multiplication method\n",
    "    def multiplication(self):\n",
    "        return self.num_one * self.num_two"
   ]
  },
  {
   "cell_type": "code",
   "execution_count": 13,
   "metadata": {},
   "outputs": [
    {
     "name": "stdout",
     "output_type": "stream",
     "text": [
      "5\n"
     ]
    }
   ],
   "source": [
    "calc = Calculator(2, 3)\n",
    "print(calc.addition())"
   ]
  },
  {
   "cell_type": "code",
   "execution_count": 14,
   "metadata": {},
   "outputs": [
    {
     "name": "stdout",
     "output_type": "stream",
     "text": [
      "6\n"
     ]
    }
   ],
   "source": [
    "print(calc.multiplication())"
   ]
  },
  {
   "cell_type": "markdown",
   "metadata": {},
   "source": [
    "## Inheritance and Polymorphism"
   ]
  },
  {
   "cell_type": "markdown",
   "metadata": {},
   "source": [
    "#### Class vs Instance Attributes"
   ]
  },
  {
   "cell_type": "code",
   "execution_count": 16,
   "metadata": {},
   "outputs": [
    {
     "name": "stdout",
     "output_type": "stream",
     "text": [
      "Employee E1 has a salary of 30000\n"
     ]
    }
   ],
   "source": [
    "class Employee:\n",
    "    '''\n",
    "        Employee Class\n",
    "    '''\n",
    "    MIN_SALARY = 30000\n",
    "\n",
    "    def __init__(self, name, salary) -> None:\n",
    "        self.name = name\n",
    "        self.salary = salary if salary > Employee.MIN_SALARY else Employee.MIN_SALARY\n",
    "\n",
    "emp1 = Employee('E1', 234)\n",
    "print(f'Employee {emp1.name} has a salary of {emp1.salary}')\n"
   ]
  },
  {
   "cell_type": "code",
   "execution_count": 17,
   "metadata": {},
   "outputs": [
    {
     "name": "stdout",
     "output_type": "stream",
     "text": [
      "10\n"
     ]
    }
   ],
   "source": [
    "class Player:\n",
    "    MAX_POSITION = 10\n",
    "    \n",
    "    # Define a constructor\n",
    "    def __init__(self, position):\n",
    "        \n",
    "        # Check if position is less than the class-level attribute value\n",
    "        self.position = position if position <= Player.MAX_POSITION else Player.MAX_POSITION\n",
    "\n",
    "# Create a Player object, p, and print its MAX_POSITITON\n",
    "p = Player(6)\n",
    "print(p.MAX_POSITION)"
   ]
  },
  {
   "cell_type": "code",
   "execution_count": 18,
   "metadata": {},
   "outputs": [
    {
     "name": "stdout",
     "output_type": "stream",
     "text": [
      "MAX_POSITION of p1 and p2 before assignment:\n",
      "10\n",
      "10\n",
      "MAX_POSITION of p1 and p2 after assignment:\n",
      "7\n",
      "10\n"
     ]
    }
   ],
   "source": [
    "# Create Players p1 and p2\n",
    "p1 = Player(9)\n",
    "p2 = Player(5)\n",
    "\n",
    "print(\"MAX_POSITION of p1 and p2 before assignment:\")\n",
    "# Print p1.MAX_POSITION and p2.MAX_POSITION\n",
    "print(p1.MAX_POSITION)\n",
    "print(p2.MAX_POSITION)\n",
    "\n",
    "# Assign 7 to p1.MAX_POSITION\n",
    "p1.MAX_POSITION = 7\n",
    "\n",
    "print(\"MAX_POSITION of p1 and p2 after assignment:\")\n",
    "# Print p1.MAX_POSITION and p2.MAX_POSITION\n",
    "print(p1.MAX_POSITION)\n",
    "print(p2.MAX_POSITION)"
   ]
  },
  {
   "cell_type": "markdown",
   "metadata": {},
   "source": [
    "#### Class Methods"
   ]
  },
  {
   "cell_type": "code",
   "execution_count": 19,
   "metadata": {},
   "outputs": [
    {
     "name": "stdout",
     "output_type": "stream",
     "text": [
      "Bob 34\n"
     ]
    }
   ],
   "source": [
    "class Person:\n",
    "    CURRENT_YEAR = 2024\n",
    "    def __init__(self, name, age):\n",
    "        self.name = name\n",
    "        self.age = age\n",
    "    \n",
    "    # Add a class method decorator\n",
    "    @classmethod\n",
    "    # Define the from_birth_year method\n",
    "    def from_birth_year(cls, name, birth_year):\n",
    "        # Create age\n",
    "        age = cls.CURRENT_YEAR - birth_year\n",
    "        # Return the name and age\n",
    "        return cls(name, age)\n",
    "\n",
    "bob = Person.from_birth_year(\"Bob\", 1990)\n",
    "print(bob.name, bob.age)"
   ]
  },
  {
   "cell_type": "code",
   "execution_count": 62,
   "metadata": {},
   "outputs": [],
   "source": [
    "class Employee:\n",
    "    def __init__(self, name, salary):\n",
    "        self.name = name\n",
    "        self.salary = salary\n",
    "        \n",
    "    @classmethod\n",
    "    def from_file(cls, filename):\n",
    "        with open(filename, \"r\") as f:\n",
    "            while True:\n",
    "                name = f.readline().strip()\n",
    "                salary = f.readline().strip()\n",
    "                if not name or not salary: break\n",
    "                yield cls(name, int(salary)) "
   ]
  },
  {
   "cell_type": "code",
   "execution_count": 63,
   "metadata": {},
   "outputs": [
    {
     "name": "stdout",
     "output_type": "stream",
     "text": [
      "John Smith has a salary of 40000\n",
      "John Tri-Volta has a salary of 60000\n"
     ]
    }
   ],
   "source": [
    "for employee in Employee.from_file('Employee.txt'):\n",
    "    print(f'{employee.name} has a salary of {employee.salary}')"
   ]
  },
  {
   "cell_type": "code",
   "execution_count": 64,
   "metadata": {},
   "outputs": [
    {
     "data": {
      "text/plain": [
       "2"
      ]
     },
     "execution_count": 64,
     "metadata": {},
     "output_type": "execute_result"
    }
   ],
   "source": [
    "emp_lst = [employee for employee in Employee.from_file('Employee.txt')]\n",
    "len(emp_lst)"
   ]
  },
  {
   "cell_type": "code",
   "execution_count": 65,
   "metadata": {},
   "outputs": [
    {
     "data": {
      "text/plain": [
       "'John Tri-Volta'"
      ]
     },
     "execution_count": 65,
     "metadata": {},
     "output_type": "execute_result"
    }
   ],
   "source": [
    "emp_lst[1].name"
   ]
  },
  {
   "cell_type": "code",
   "execution_count": 37,
   "metadata": {},
   "outputs": [
    {
     "name": "stdout",
     "output_type": "stream",
     "text": [
      "2024\n",
      "12\n",
      "25\n"
     ]
    }
   ],
   "source": [
    "class BetterDate:\n",
    "    def __init__(self, year, month, day):\n",
    "        self.year, self.month, self.day = year, month, day\n",
    "        \n",
    "    # Define a class method from_str\n",
    "    @classmethod\n",
    "    def from_str(cls, datestr):\n",
    "        # Split the string at \"-\"\n",
    "        parts = datestr.split(\"-\")\n",
    "        year, month, day = int(parts[0]), int(parts[1]), int(parts[2])\n",
    "        # Return the class instance\n",
    "        return cls(year, month, day)\n",
    "\n",
    "# Create the xmas object      \n",
    "xmas = BetterDate.from_str(\"2024-12-25\")   \n",
    "print(xmas.year)\n",
    "print(xmas.month)\n",
    "print(xmas.day)"
   ]
  },
  {
   "cell_type": "markdown",
   "metadata": {},
   "source": [
    "#### Inheritance"
   ]
  },
  {
   "cell_type": "code",
   "execution_count": 66,
   "metadata": {},
   "outputs": [
    {
     "name": "stdout",
     "output_type": "stream",
     "text": [
      "Debbie Lashko\n"
     ]
    }
   ],
   "source": [
    "class Employee:\n",
    "    MIN_SALARY = 30000    \n",
    "\n",
    "    def __init__(self, name, salary=MIN_SALARY):\n",
    "        self.name = name\n",
    "        if salary >= Employee.MIN_SALARY:\n",
    "            self.salary = salary\n",
    "        else:\n",
    "            self.salary = Employee.MIN_SALARY\n",
    "            \n",
    "    def give_raise(self, amount):\n",
    "        self.salary += amount      \n",
    "        \n",
    "# Define a new class Manager inheriting from Employee\n",
    "class Manager(Employee):\n",
    "    # Add a keyword to leave this class empty\n",
    "    pass\n",
    "\n",
    "# Define a Manager object\n",
    "mng = Manager('Debbie Lashko', 86500)\n",
    "\n",
    "# Print mng's name\n",
    "print(mng.name)"
   ]
  },
  {
   "cell_type": "code",
   "execution_count": 67,
   "metadata": {},
   "outputs": [],
   "source": [
    "class Employee:\n",
    "    def __init__(self, name, salary=30000):\n",
    "        self.name = name\n",
    "        self.salary = salary\n",
    "\n",
    "    def give_raise(self, amount):\n",
    "        self.salary += amount\n",
    "\n",
    "class Manager(Employee):\n",
    "    # Add a constructor \n",
    "    def __init__(self, name, salary=50000, project=None):\n",
    "        \n",
    "        # Call the parent's constructor   \n",
    "        Employee.__init__(self, name, salary)\n",
    "        \n",
    "        # Assign project attribute\n",
    "        self.project = project\n",
    "\n",
    "    def display(self):\n",
    "        print(\"Manager \", self.name)"
   ]
  },
  {
   "cell_type": "code",
   "execution_count": null,
   "metadata": {},
   "outputs": [
    {
     "name": "stdout",
     "output_type": "stream",
     "text": [
      "80560.0\n"
     ]
    }
   ],
   "source": [
    "class Employee:\n",
    "    def __init__(self, name, salary=30000):\n",
    "        self.name = name\n",
    "        self.salary = salary\n",
    "\n",
    "    def give_raise(self, amount):\n",
    "        self.salary += amount\n",
    "\n",
    "class Manager(Employee):\n",
    "    def display(self):\n",
    "        print(\"Manager \", self.name)\n",
    "\n",
    "    def __init__(self, name, salary=50000, project=None):\n",
    "        Employee.__init__(self, name, salary)\n",
    "        self.project = project\n",
    "\n",
    "    # Add a give_raise method\n",
    "    def give_raise(self, amount, bonus=1.05):\n",
    "        new_amount = amount * bonus\n",
    "        Employee.give_raise(self, new_amount)\n",
    "    \n",
    "mngr = Manager(\"Ashta Dunbar\", 78500)\n",
    "mngr.give_raise(2000, bonus=1.03)\n",
    "print(mngr.salary)"
   ]
  },
  {
   "cell_type": "code",
   "execution_count": 73,
   "metadata": {},
   "outputs": [
    {
     "name": "stdout",
     "output_type": "stream",
     "text": [
      "p.MAX_POSITION =  10\n",
      "r.MAX_POSITION =  10\n"
     ]
    }
   ],
   "source": [
    "class Player:\n",
    "    MAX_POSITION = 10\n",
    "\n",
    "    def __init__(self):\n",
    "        self.position = 0\n",
    "\n",
    "    def move(self, steps):\n",
    "        if self.position + steps < Player.MAX_POSITION:\n",
    "            self.position += steps \n",
    "        else:\n",
    "            self.position = Player.MAX_POSITION  \n",
    "\n",
    "# Create a Racer class inheriting from Player\n",
    "class Racer(Player):\n",
    "    # Create MAX_POSITION with a value of 15\n",
    "    # MAX_POSITION = 15\n",
    "    pass\n",
    "\n",
    "# Create a Player and a Racer objects\n",
    "p = Player()\n",
    "r = Racer()\n",
    "\n",
    "print(\"p.MAX_POSITION = \", p.MAX_POSITION)\n",
    "print(\"r.MAX_POSITION = \", r.MAX_POSITION)"
   ]
  },
  {
   "cell_type": "markdown",
   "metadata": {},
   "source": [
    "## Integrating with Standard Python"
   ]
  },
  {
   "cell_type": "markdown",
   "metadata": {},
   "source": [
    "### Operator Overloading"
   ]
  },
  {
   "cell_type": "code",
   "execution_count": 74,
   "metadata": {},
   "outputs": [],
   "source": [
    "class Customer:\n",
    "    def __init__(self, name, balance, acc_id) -> None:\n",
    "        self.name = name\n",
    "        self.balance = balance\n",
    "        self.acc_id = acc_id\n",
    "\n",
    "c1 = Customer('John Smith', 3000, 123)\n",
    "c2 = Customer('John Smith', 3000, 123)"
   ]
  },
  {
   "cell_type": "code",
   "execution_count": 76,
   "metadata": {},
   "outputs": [
    {
     "name": "stdout",
     "output_type": "stream",
     "text": [
      "c1 = <__main__.Customer object at 0x000001B903B18590>\n",
      "c2 = <__main__.Customer object at 0x000001B90315B890>\n"
     ]
    },
    {
     "data": {
      "text/plain": [
       "False"
      ]
     },
     "execution_count": 76,
     "metadata": {},
     "output_type": "execute_result"
    }
   ],
   "source": [
    "print(f'c1 = {c1}')\n",
    "print(f'c2 = {c2}')\n",
    "c1 == c2"
   ]
  },
  {
   "cell_type": "code",
   "execution_count": 77,
   "metadata": {},
   "outputs": [
    {
     "data": {
      "text/plain": [
       "True"
      ]
     },
     "execution_count": 77,
     "metadata": {},
     "output_type": "execute_result"
    }
   ],
   "source": [
    "lst_1 = [1, 2, 3]\n",
    "lst_2 = [1, 2, 3]\n",
    "lst_1 == lst_2"
   ]
  },
  {
   "cell_type": "code",
   "execution_count": 89,
   "metadata": {},
   "outputs": [],
   "source": [
    "class Customer:\n",
    "    def __init__(self, name, balance, acc_id) -> None:\n",
    "        self.name = name\n",
    "        self.balance = balance\n",
    "        self.acc_id = acc_id\n",
    "    \n",
    "    def __eq__(self, other) -> bool:\n",
    "        return (self.acc_id == other.acc_id) and (self.name == other.name) and (type(self) == type(other))\n",
    "\n",
    "c1 = Customer('John Smith', 3000, 123)\n",
    "c2 = Customer('John Smith', 3000, 123)\n",
    "c3 = Customer('John Smith', 3000, 127)"
   ]
  },
  {
   "cell_type": "code",
   "execution_count": 86,
   "metadata": {},
   "outputs": [
    {
     "data": {
      "text/plain": [
       "True"
      ]
     },
     "execution_count": 86,
     "metadata": {},
     "output_type": "execute_result"
    }
   ],
   "source": [
    "c1 == c2"
   ]
  },
  {
   "cell_type": "code",
   "execution_count": 87,
   "metadata": {},
   "outputs": [
    {
     "data": {
      "text/plain": [
       "False"
      ]
     },
     "execution_count": 87,
     "metadata": {},
     "output_type": "execute_result"
    }
   ],
   "source": [
    "c1 == c3"
   ]
  },
  {
   "cell_type": "code",
   "execution_count": 88,
   "metadata": {},
   "outputs": [
    {
     "ename": "AttributeError",
     "evalue": "'int' object has no attribute 'acc_id'",
     "output_type": "error",
     "traceback": [
      "\u001b[1;31m---------------------------------------------------------------------------\u001b[0m",
      "\u001b[1;31mAttributeError\u001b[0m                            Traceback (most recent call last)",
      "Cell \u001b[1;32mIn[88], line 1\u001b[0m\n\u001b[1;32m----> 1\u001b[0m \u001b[43mc1\u001b[49m\u001b[43m \u001b[49m\u001b[38;5;241;43m==\u001b[39;49m\u001b[43m \u001b[49m\u001b[38;5;241;43m123\u001b[39;49m\n",
      "Cell \u001b[1;32mIn[85], line 8\u001b[0m, in \u001b[0;36mCustomer.__eq__\u001b[1;34m(self, other)\u001b[0m\n\u001b[0;32m      7\u001b[0m \u001b[38;5;28;01mdef\u001b[39;00m \u001b[38;5;21m__eq__\u001b[39m(\u001b[38;5;28mself\u001b[39m, other) \u001b[38;5;241m-\u001b[39m\u001b[38;5;241m>\u001b[39m \u001b[38;5;28mbool\u001b[39m:\n\u001b[1;32m----> 8\u001b[0m     \u001b[38;5;28;01mreturn\u001b[39;00m (\u001b[38;5;28mself\u001b[39m\u001b[38;5;241m.\u001b[39macc_id \u001b[38;5;241m==\u001b[39m \u001b[43mother\u001b[49m\u001b[38;5;241;43m.\u001b[39;49m\u001b[43macc_id\u001b[49m) \u001b[38;5;129;01mand\u001b[39;00m (\u001b[38;5;28mself\u001b[39m\u001b[38;5;241m.\u001b[39mname \u001b[38;5;241m==\u001b[39m other\u001b[38;5;241m.\u001b[39mname)\n",
      "\u001b[1;31mAttributeError\u001b[0m: 'int' object has no attribute 'acc_id'"
     ]
    }
   ],
   "source": [
    "c1 == 123"
   ]
  },
  {
   "cell_type": "markdown",
   "metadata": {},
   "source": [
    "Operator | Method\n",
    "---------|---------\n",
    "== | __eq__\n",
    "!= | __ne__\n",
    "\\>= | __ge__\n",
    "\\<= | __le__\n",
    "\\> | __gt__\n",
    "< | __lt__"
   ]
  },
  {
   "cell_type": "code",
   "execution_count": 90,
   "metadata": {},
   "outputs": [
    {
     "name": "stdout",
     "output_type": "stream",
     "text": [
      "False\n"
     ]
    }
   ],
   "source": [
    "class BankAccount:\n",
    "    def __init__(self, number, balance=0):\n",
    "        self.number, self.balance = number, balance\n",
    "        \n",
    "    def withdraw(self, amount):\n",
    "        self.balance -= amount \n",
    "\n",
    "    # Modify to add a check for the class type\n",
    "    def __eq__(self, other):\n",
    "        return (self.number == other.number) and (type(self) == type(other))\n",
    "\n",
    "class Phone:\n",
    "    def __init__(self, number) -> None:\n",
    "        self.number = number\n",
    "\n",
    "acct = BankAccount(873555333)\n",
    "pn = Phone(873555333)\n",
    "\n",
    "# Check if the two objects are equal\n",
    "print(acct == pn)"
   ]
  },
  {
   "cell_type": "markdown",
   "metadata": {},
   "source": [
    "### Inheritance comparison and string representation"
   ]
  },
  {
   "cell_type": "code",
   "execution_count": 97,
   "metadata": {},
   "outputs": [],
   "source": [
    "class Customer:\n",
    "    def __init__(self, name, balance, acc_id) -> None:\n",
    "        self.name = name\n",
    "        self.balance = balance\n",
    "        self.acc_id = acc_id\n",
    "    \n",
    "    def __repr__(self) -> str:\n",
    "        return f\"Customer('{self.name}, {self.balance})\"\n",
    "\n",
    "    def __str__(self) -> str:\n",
    "        return f\"\"\"Customer ==>\n",
    "            name = {self.name}\n",
    "            balance = {self.balance}\"\"\""
   ]
  },
  {
   "cell_type": "code",
   "execution_count": 98,
   "metadata": {},
   "outputs": [],
   "source": [
    "c1 = Customer('John Smith', 30000, 123)"
   ]
  },
  {
   "cell_type": "code",
   "execution_count": 99,
   "metadata": {},
   "outputs": [
    {
     "data": {
      "text/plain": [
       "Customer('John Smith, 30000)"
      ]
     },
     "execution_count": 99,
     "metadata": {},
     "output_type": "execute_result"
    }
   ],
   "source": [
    "c1"
   ]
  },
  {
   "cell_type": "code",
   "execution_count": 100,
   "metadata": {},
   "outputs": [
    {
     "name": "stdout",
     "output_type": "stream",
     "text": [
      "Customer ==>\n",
      "            name = John Smith\n",
      "            balance = 30000\n"
     ]
    }
   ],
   "source": [
    "print(c1)"
   ]
  },
  {
   "cell_type": "markdown",
   "metadata": {},
   "source": [
    "### Exceptions"
   ]
  },
  {
   "cell_type": "code",
   "execution_count": 101,
   "metadata": {},
   "outputs": [
    {
     "ename": "TypeError",
     "evalue": "unsupported operand type(s) for +: 'int' and 'str'",
     "output_type": "error",
     "traceback": [
      "\u001b[1;31m---------------------------------------------------------------------------\u001b[0m",
      "\u001b[1;31mTypeError\u001b[0m                                 Traceback (most recent call last)",
      "Cell \u001b[1;32mIn[101], line 1\u001b[0m\n\u001b[1;32m----> 1\u001b[0m \u001b[38;5;241;43m5\u001b[39;49m\u001b[43m \u001b[49m\u001b[38;5;241;43m+\u001b[39;49m\u001b[43m \u001b[49m\u001b[38;5;124;43m'\u001b[39;49m\u001b[38;5;124;43ma\u001b[39;49m\u001b[38;5;124;43m'\u001b[39;49m\n",
      "\u001b[1;31mTypeError\u001b[0m: unsupported operand type(s) for +: 'int' and 'str'"
     ]
    }
   ],
   "source": [
    "5 + 'a'"
   ]
  },
  {
   "cell_type": "code",
   "execution_count": 102,
   "metadata": {},
   "outputs": [
    {
     "name": "stdout",
     "output_type": "stream",
     "text": [
      "Different types cannot be added\n",
      "It's done!\n"
     ]
    }
   ],
   "source": [
    "try:\n",
    "    5 + 'a'\n",
    "except TypeError:\n",
    "    print('Different types cannot be added')\n",
    "except ZeroDivisionError:\n",
    "    print('Cannot be divided by 0')\n",
    "finally:\n",
    "    print('It\\'s done!')"
   ]
  },
  {
   "cell_type": "code",
   "execution_count": 103,
   "metadata": {},
   "outputs": [],
   "source": [
    "class BalanceError(Exception):\n",
    "    pass\n"
   ]
  },
  {
   "cell_type": "code",
   "execution_count": 104,
   "metadata": {},
   "outputs": [],
   "source": [
    "class Customer:\n",
    "    def __init__(self, name, balance, acc_id) -> None:\n",
    "        self.name = name\n",
    "        if balance < 0:\n",
    "            raise(BalanceError)\n",
    "        else:\n",
    "            self.balance = balance\n",
    "        self.acc_id = acc_id\n",
    "    \n",
    "    def __repr__(self) -> str:\n",
    "        return f\"Customer('{self.name}, {self.balance})\"\n",
    "\n",
    "    def __str__(self) -> str:\n",
    "        return f\"\"\"Customer ==>\n",
    "            name = {self.name}\n",
    "            balance = {self.balance}\"\"\""
   ]
  },
  {
   "cell_type": "code",
   "execution_count": 107,
   "metadata": {},
   "outputs": [
    {
     "ename": "BalanceError",
     "evalue": "",
     "output_type": "error",
     "traceback": [
      "\u001b[1;31m---------------------------------------------------------------------------\u001b[0m",
      "\u001b[1;31mBalanceError\u001b[0m                              Traceback (most recent call last)",
      "Cell \u001b[1;32mIn[107], line 1\u001b[0m\n\u001b[1;32m----> 1\u001b[0m cust_1 \u001b[38;5;241m=\u001b[39m \u001b[43mCustomer\u001b[49m\u001b[43m(\u001b[49m\u001b[38;5;124;43m'\u001b[39;49m\u001b[38;5;124;43mJohn Smith\u001b[39;49m\u001b[38;5;124;43m'\u001b[39;49m\u001b[43m,\u001b[49m\u001b[43m \u001b[49m\u001b[38;5;241;43m-\u001b[39;49m\u001b[38;5;241;43m90\u001b[39;49m\u001b[43m,\u001b[49m\u001b[43m \u001b[49m\u001b[38;5;241;43m123\u001b[39;49m\u001b[43m)\u001b[49m\n",
      "Cell \u001b[1;32mIn[104], line 5\u001b[0m, in \u001b[0;36mCustomer.__init__\u001b[1;34m(self, name, balance, acc_id)\u001b[0m\n\u001b[0;32m      3\u001b[0m \u001b[38;5;28mself\u001b[39m\u001b[38;5;241m.\u001b[39mname \u001b[38;5;241m=\u001b[39m name\n\u001b[0;32m      4\u001b[0m \u001b[38;5;28;01mif\u001b[39;00m balance \u001b[38;5;241m<\u001b[39m \u001b[38;5;241m0\u001b[39m:\n\u001b[1;32m----> 5\u001b[0m     \u001b[38;5;28;01mraise\u001b[39;00m(BalanceError)\n\u001b[0;32m      6\u001b[0m \u001b[38;5;28;01melse\u001b[39;00m:\n\u001b[0;32m      7\u001b[0m     \u001b[38;5;28mself\u001b[39m\u001b[38;5;241m.\u001b[39mbalance \u001b[38;5;241m=\u001b[39m balance\n",
      "\u001b[1;31mBalanceError\u001b[0m: "
     ]
    }
   ],
   "source": [
    "cust_1 = Customer('John Smith', -90, 123)"
   ]
  },
  {
   "cell_type": "code",
   "execution_count": 108,
   "metadata": {},
   "outputs": [
    {
     "ename": "NameError",
     "evalue": "name 'cust_1' is not defined",
     "output_type": "error",
     "traceback": [
      "\u001b[1;31m---------------------------------------------------------------------------\u001b[0m",
      "\u001b[1;31mNameError\u001b[0m                                 Traceback (most recent call last)",
      "Cell \u001b[1;32mIn[108], line 1\u001b[0m\n\u001b[1;32m----> 1\u001b[0m \u001b[43mcust_1\u001b[49m\n",
      "\u001b[1;31mNameError\u001b[0m: name 'cust_1' is not defined"
     ]
    }
   ],
   "source": [
    "cust_1"
   ]
  },
  {
   "cell_type": "code",
   "execution_count": 109,
   "metadata": {},
   "outputs": [],
   "source": [
    "try:\n",
    "    cust_1 = Customer('John Smith', -90, 123)\n",
    "except BalanceError:\n",
    "    cust_1 = Customer('John Smith', 0, 123)"
   ]
  },
  {
   "cell_type": "code",
   "execution_count": null,
   "metadata": {},
   "outputs": [
    {
     "data": {
      "text/plain": [
       "0"
      ]
     },
     "execution_count": 110,
     "metadata": {},
     "output_type": "execute_result"
    }
   ],
   "source": [
    "cust_1.balance"
   ]
  },
  {
   "cell_type": "code",
   "execution_count": 113,
   "metadata": {},
   "outputs": [],
   "source": [
    "class SalaryError(ValueError): \n",
    "    pass\n",
    "class BonusError(SalaryError): \n",
    "    pass\n",
    "\n",
    "class Employee:\n",
    "    MIN_SALARY = 30000\n",
    "    MAX_BONUS = 5000\n",
    "\n",
    "    def __init__(self, name, salary = 30000):\n",
    "        self.name = name    \n",
    "        if salary < Employee.MIN_SALARY:\n",
    "            raise SalaryError(\"Salary is too low!\")      \n",
    "        self.salary = salary\n",
    "        \n",
    "    # Raise exceptions  \n",
    "    def give_bonus(self, amount):\n",
    "        if amount > Employee.MAX_BONUS:\n",
    "            raise BonusError(\"The bonus amount is too high!\")  \n",
    "            \n",
    "        elif self.salary + amount <  Employee.MIN_SALARY:\n",
    "            raise SalaryError(\"The salary after bonus is too low!\")\n",
    "        \n",
    "        self.salary += amount"
   ]
  },
  {
   "cell_type": "code",
   "execution_count": null,
   "metadata": {},
   "outputs": [],
   "source": []
  }
 ],
 "metadata": {
  "kernelspec": {
   "display_name": "Python 3",
   "language": "python",
   "name": "python3"
  },
  "language_info": {
   "codemirror_mode": {
    "name": "ipython",
    "version": 3
   },
   "file_extension": ".py",
   "mimetype": "text/x-python",
   "name": "python",
   "nbconvert_exporter": "python",
   "pygments_lexer": "ipython3",
   "version": "3.13.0"
  }
 },
 "nbformat": 4,
 "nbformat_minor": 2
}
