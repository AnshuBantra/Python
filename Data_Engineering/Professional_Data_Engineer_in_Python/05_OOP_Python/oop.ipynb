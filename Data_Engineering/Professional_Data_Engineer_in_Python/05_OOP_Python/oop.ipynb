{
 "cells": [
  {
   "cell_type": "markdown",
   "metadata": {},
   "source": [
    "# Misc"
   ]
  },
  {
   "cell_type": "code",
   "execution_count": null,
   "metadata": {},
   "outputs": [
    {
     "name": "stdout",
     "output_type": "stream",
     "text": [
      "0\n",
      "1\n",
      "2\n",
      "3\n",
      "4\n",
      "5\n",
      "6\n",
      "7\n",
      "8\n",
      "9\n"
     ]
    }
   ],
   "source": [
    "for _ in list(range(10)):\n",
    "    print(_)"
   ]
  },
  {
   "cell_type": "code",
   "execution_count": null,
   "metadata": {},
   "outputs": [],
   "source": [
    "lst = None\n",
    "for _ in lst or []:\n",
    "    print(_)"
   ]
  },
  {
   "cell_type": "code",
   "execution_count": null,
   "metadata": {},
   "outputs": [
    {
     "data": {
      "text/plain": [
       "\"SELECT * FROM products where\\n     performance = 'average' \\n    \""
      ]
     },
     "metadata": {},
     "output_type": "display_data"
    }
   ],
   "source": [
    "https://rajansahu713.medium.com/dynamic-sql-query-formation-with-jinja-template-113b2ef28134\n",
    "\n",
    "from jinja2 import Template\n",
    "\n",
    "query_str = \"\"\"SELECT * FROM products where\n",
    "    {% if product_stock >= 1000 %} performance = 'bad' \n",
    "    {% elif product_stock >= 300 and product_stock < 1000 %} performance = 'average' \n",
    "    {% else %} performance = 'good'\n",
    "    {% endif %}\n",
    "\"\"\"\n",
    "template = Template(query_str)\n",
    "query = template.render(product_stock=999)\n",
    "query"
   ]
  },
  {
   "cell_type": "code",
   "execution_count": null,
   "metadata": {},
   "outputs": [
    {
     "data": {
      "text/plain": [
       "'SELECT * FROM users WHERE adult >= True ;'"
      ]
     },
     "metadata": {},
     "output_type": "display_data"
    }
   ],
   "source": [
    "from jinja2 import Template\n",
    "\n",
    "query_str = \"\"\"SELECT * FROM users WHERE{% if user_age >= 18 %} adult >= True {% else %} adult = False {% endif %};\"\"\"\n",
    "template = Template(query_str)\n",
    "query = template.render(user_age=30)\n",
    "query"
   ]
  },
  {
   "cell_type": "code",
   "execution_count": null,
   "metadata": {},
   "outputs": [
    {
     "name": "stdout",
     "output_type": "stream",
     "text": [
      "SELECT *\n",
      "        FROM products where \n",
      "        \n",
      "            product_category = 'Electronics'\n",
      "            \n",
      "                product_type = 'normal'\n",
      "            \n",
      "        \n"
     ]
    }
   ],
   "source": [
    "from jinja2 import Template\n",
    "\n",
    "query_str = \"\"\"SELECT *\n",
    "        FROM products where \n",
    "        {% if product_category == \"Electronics\" %}\n",
    "            product_category = '{{product_category}}'\n",
    "            {% if product_price > 500 %}\n",
    "                product_type = 'expensive' \n",
    "            {% else %}\n",
    "                product_type = 'normal'\n",
    "            {% endif %}\n",
    "        {% else %}\n",
    "            product_category = 'Others'\n",
    "        {% endif %}\n",
    "\"\"\"\n",
    "template = Template(query_str)\n",
    "query = template.render(product_category=\"Electronics\", product_price=450)\n",
    "print(query)"
   ]
  },
  {
   "cell_type": "code",
   "execution_count": null,
   "metadata": {},
   "outputs": [
    {
     "name": "stdout",
     "output_type": "stream",
     "text": [
      "SELECT *\n",
      "        FROM orders\n",
      "        WHERE order_id IN (\n",
      "        \n",
      "            1234,\n",
      "        \n",
      "            5678,\n",
      "        \n",
      "            9012,\n",
      "        \n",
      "        )\n"
     ]
    }
   ],
   "source": [
    "from jinja2 import Template\n",
    "query_str = \"\"\"SELECT *\n",
    "        FROM orders\n",
    "        WHERE order_id IN (\n",
    "        {% for order_id in order_ids %}\n",
    "            {{ order_id }},\n",
    "        {% endfor %}\n",
    "        )\n",
    "\"\"\"\n",
    "\n",
    "template = Template(query_str)\n",
    "query = template.render(order_ids=[1234, 5678, 9012])\n",
    "print(query)"
   ]
  },
  {
   "cell_type": "code",
   "execution_count": null,
   "metadata": {},
   "outputs": [
    {
     "name": "stdout",
     "output_type": "stream",
     "text": [
      "     Birds  New York  Los Angeles  Chicago  Houston  Philadelphia\n",
      "0     Dove        87           66       95       50            76\n",
      "1     Duck        42           68       77       91            94\n",
      "2    Eagle        53           83       70       70            99\n",
      "3      Hen        42           47       95       28            96\n",
      "4   Parrot        74           34       76       47            67\n",
      "5  Peacock        10           91       62       20            77\n",
      "6    Stork        85           68       27       36            99\n",
      "7     Swan        54           80       94       36            99\n"
     ]
    }
   ],
   "source": [
    "import pandas as pd\n",
    "\n",
    "# Define the data\n",
    "data = {\n",
    "    \"Birds\": [\"Dove\", \"Duck\", \"Eagle\", \"Hen\", \"Parrot\", \"Peacock\", \"Stork\", \"Swan\"],\n",
    "    \"New York\": [87, 42, 53, 42, 74, 10, 85, 54],\n",
    "    \"Los Angeles\": [66, 68, 83, 47, 34, 91, 68, 80],\n",
    "    \"Chicago\": [95, 77, 70, 95, 76, 62, 27, 94],\n",
    "    \"Houston\": [50, 91, 70, 28, 47, 20, 36, 36],\n",
    "    \"Philadelphia\": [76, 94, 99, 96, 67, 77, 99, 99]\n",
    "}\n",
    "\n",
    "# Create a dataframe\n",
    "df = pd.DataFrame(data)\n",
    "\n",
    "# Display the dataframe\n",
    "print(df)"
   ]
  },
  {
   "cell_type": "code",
   "execution_count": null,
   "metadata": {},
   "outputs": [
    {
     "data": {
      "text/plain": [
       "['Dove', 'Peacock', 'Dove, Hen', 'Duck', 'Eagle, Stork, Swan']"
      ]
     },
     "metadata": {},
     "output_type": "display_data"
    }
   ],
   "source": [
    "[', '.join(list(df[df.iloc[:,_] == df.iloc[:,_].max()]['Birds'].values)) for _ in range(1, len(list(df)))]\n",
    "    "
   ]
  },
  {
   "cell_type": "code",
   "execution_count": null,
   "metadata": {},
   "outputs": [
    {
     "data": {
      "text/html": [
       "<div>\n",
       "<style scoped>\n",
       "    .dataframe tbody tr th:only-of-type {\n",
       "        vertical-align: middle;\n",
       "    }\n",
       "\n",
       "    .dataframe tbody tr th {\n",
       "        vertical-align: top;\n",
       "    }\n",
       "\n",
       "    .dataframe thead th {\n",
       "        text-align: right;\n",
       "    }\n",
       "</style>\n",
       "<table border=\"1\" class=\"dataframe\">\n",
       "  <thead>\n",
       "    <tr style=\"text-align: right;\">\n",
       "      <th></th>\n",
       "      <th>City</th>\n",
       "      <th>Max</th>\n",
       "    </tr>\n",
       "  </thead>\n",
       "  <tbody>\n",
       "    <tr>\n",
       "      <th>0</th>\n",
       "      <td>New York</td>\n",
       "      <td>[Dove]</td>\n",
       "    </tr>\n",
       "    <tr>\n",
       "      <th>1</th>\n",
       "      <td>Los Angeles</td>\n",
       "      <td>[Peacock]</td>\n",
       "    </tr>\n",
       "    <tr>\n",
       "      <th>2</th>\n",
       "      <td>Chicago</td>\n",
       "      <td>[Dove, Hen]</td>\n",
       "    </tr>\n",
       "    <tr>\n",
       "      <th>3</th>\n",
       "      <td>Houston</td>\n",
       "      <td>[Duck]</td>\n",
       "    </tr>\n",
       "    <tr>\n",
       "      <th>4</th>\n",
       "      <td>Philadelphia</td>\n",
       "      <td>[Eagle, Stork, Swan]</td>\n",
       "    </tr>\n",
       "  </tbody>\n",
       "</table>\n",
       "</div>"
      ],
      "text/plain": [
       "           City                   Max\n",
       "0      New York                [Dove]\n",
       "1   Los Angeles             [Peacock]\n",
       "2       Chicago           [Dove, Hen]\n",
       "3       Houston                [Duck]\n",
       "4  Philadelphia  [Eagle, Stork, Swan]"
      ]
     },
     "metadata": {},
     "output_type": "display_data"
    }
   ],
   "source": [
    "pd.DataFrame(\n",
    "    {\n",
    "        'City': list(df.columns)[1:]\n",
    "        , 'Max':[list(df[df.iloc[:,_] == df.iloc[:,_].max()]['Birds'].values) for _ in range(1, len(list(df)))]\n",
    "    }\n",
    ")\n"
   ]
  },
  {
   "cell_type": "markdown",
   "metadata": {},
   "source": [
    "# What is OOP?"
   ]
  },
  {
   "cell_type": "markdown",
   "metadata": {},
   "source": [
    "### Cheat Sheet\n",
    "| **Term** | **Definition** |\n",
    "|--------|---------------|\n",
    "Class | A blueprint / temnplate used to build objects\n",
    "Object | A combination of data and functionality; An instance of a class\n",
    "State | Data associated with an object, assigned through attributes\n",
    "Behaviour | An object's functionality, defined through methods"
   ]
  },
  {
   "cell_type": "markdown",
   "metadata": {},
   "source": [
    "## Class Anatomy"
   ]
  },
  {
   "cell_type": "markdown",
   "metadata": {},
   "source": [
    "### Attributes and Methods"
   ]
  },
  {
   "cell_type": "code",
   "execution_count": 5,
   "metadata": {},
   "outputs": [],
   "source": [
    "class Customer:\n",
    "    # Code for class goes here\n",
    "    def set_name(self, name):\n",
    "        self.name = name\n",
    "\n",
    "    def identify(self):\n",
    "        print(f'I am Customer {self.name}')"
   ]
  },
  {
   "cell_type": "code",
   "execution_count": 7,
   "metadata": {},
   "outputs": [
    {
     "name": "stdout",
     "output_type": "stream",
     "text": [
      "I am Customer Laura\n",
      "I am Customer Tom\n"
     ]
    }
   ],
   "source": [
    "c_one = Customer()\n",
    "c_one.set_name('Laura')\n",
    "c_one.identify()\n",
    "c_two = Customer()\n",
    "c_two.set_name('Tom')\n",
    "c_two.identify()"
   ]
  },
  {
   "cell_type": "code",
   "execution_count": 8,
   "metadata": {},
   "outputs": [
    {
     "name": "stdout",
     "output_type": "stream",
     "text": [
      "50000\n"
     ]
    }
   ],
   "source": [
    "class Employee:\n",
    "    def set_name(self, new_name):\n",
    "        self.name = new_name\n",
    "    \n",
    "    # Add set_salary() method  \n",
    "    def set_salary(self, new_salary):\n",
    "        self.salary = new_salary\n",
    "\n",
    "emp = Employee()\n",
    "\n",
    "# Use set_name to set the name of emp to 'Korel Rossi'\n",
    "emp.set_name('Korel Rossi')\n",
    "\n",
    "# Set the salary of emp to 50000\n",
    "emp.set_salary(50000)\n",
    "\n",
    "# Print the emp object's salary\n",
    "print(emp.salary)"
   ]
  },
  {
   "cell_type": "code",
   "execution_count": 9,
   "metadata": {},
   "outputs": [
    {
     "name": "stdout",
     "output_type": "stream",
     "text": [
      "50000\n",
      "51500\n"
     ]
    }
   ],
   "source": [
    "class Employee:\n",
    "    def set_name(self, new_name):\n",
    "        self.name = new_name\n",
    "\n",
    "    def set_salary(self, new_salary):\n",
    "        self.salary = new_salary \n",
    "\n",
    "    # Add a give_raise() method with amount as an argument\n",
    "    def give_raise(self, amount):\n",
    "        self.salary = self.salary + amount\n",
    "\n",
    "# Create the emp object\n",
    "emp = Employee()\n",
    "emp.set_name('Korel Rossi')\n",
    "emp.set_salary(50000)\n",
    "\n",
    "# Print the salary\n",
    "print(emp.salary)\n",
    "\n",
    "# Give emp a raise of 1500\n",
    "emp.give_raise(1500)\n",
    "print(emp.salary)"
   ]
  },
  {
   "cell_type": "markdown",
   "metadata": {},
   "source": [
    "### the __init__ constructor"
   ]
  },
  {
   "cell_type": "code",
   "execution_count": null,
   "metadata": {},
   "outputs": [],
   "source": [
    "class Customer:\n",
    "    '''\n",
    "        Customer class\n",
    "    '''\n",
    "    def __init__(self, name, balance = 0) -> None:\n",
    "        self.name = name\n",
    "        self.balance = balance"
   ]
  },
  {
   "cell_type": "code",
   "execution_count": 11,
   "metadata": {},
   "outputs": [
    {
     "name": "stdout",
     "output_type": "stream",
     "text": [
      "Lara Croft\n"
     ]
    }
   ],
   "source": [
    "cust = Customer('Lara Croft')\n",
    "print(cust.name)"
   ]
  },
  {
   "cell_type": "code",
   "execution_count": 12,
   "metadata": {},
   "outputs": [],
   "source": [
    "# Define and initialize the Calculator class\n",
    "class Calculator:\n",
    "    def __init__(self, num_one, num_two):\n",
    "        self.num_one = num_one\n",
    "        self.num_two = num_two\n",
    "    \n",
    "    # Create the addition method\n",
    "    def addition(self):\n",
    "        return self.num_one + self.num_two\n",
    "    \n",
    "    # Create the subtraction method\n",
    "    def subtraction(self):\n",
    "        return self.num_one - self.num_two\n",
    "    \n",
    "    # Create the multiplication method\n",
    "    def multiplication(self):\n",
    "        return self.num_one * self.num_two"
   ]
  },
  {
   "cell_type": "code",
   "execution_count": 13,
   "metadata": {},
   "outputs": [
    {
     "name": "stdout",
     "output_type": "stream",
     "text": [
      "5\n"
     ]
    }
   ],
   "source": [
    "calc = Calculator(2, 3)\n",
    "print(calc.addition())"
   ]
  },
  {
   "cell_type": "code",
   "execution_count": 14,
   "metadata": {},
   "outputs": [
    {
     "name": "stdout",
     "output_type": "stream",
     "text": [
      "6\n"
     ]
    }
   ],
   "source": [
    "print(calc.multiplication())"
   ]
  },
  {
   "cell_type": "markdown",
   "metadata": {},
   "source": [
    "## Inheritance and Polymorphism"
   ]
  },
  {
   "cell_type": "markdown",
   "metadata": {},
   "source": [
    "#### Class vs Instance Attributes"
   ]
  },
  {
   "cell_type": "code",
   "execution_count": 16,
   "metadata": {},
   "outputs": [
    {
     "name": "stdout",
     "output_type": "stream",
     "text": [
      "Employee E1 has a salary of 30000\n"
     ]
    }
   ],
   "source": [
    "class Employee:\n",
    "    '''\n",
    "        Employee Class\n",
    "    '''\n",
    "    MIN_SALARY = 30000\n",
    "\n",
    "    def __init__(self, name, salary) -> None:\n",
    "        self.name = name\n",
    "        self.salary = salary if salary > Employee.MIN_SALARY else Employee.MIN_SALARY\n",
    "\n",
    "emp1 = Employee('E1', 234)\n",
    "print(f'Employee {emp1.name} has a salary of {emp1.salary}')\n"
   ]
  },
  {
   "cell_type": "code",
   "execution_count": 17,
   "metadata": {},
   "outputs": [
    {
     "name": "stdout",
     "output_type": "stream",
     "text": [
      "10\n"
     ]
    }
   ],
   "source": [
    "class Player:\n",
    "    MAX_POSITION = 10\n",
    "    \n",
    "    # Define a constructor\n",
    "    def __init__(self, position):\n",
    "        \n",
    "        # Check if position is less than the class-level attribute value\n",
    "        self.position = position if position <= Player.MAX_POSITION else Player.MAX_POSITION\n",
    "\n",
    "# Create a Player object, p, and print its MAX_POSITITON\n",
    "p = Player(6)\n",
    "print(p.MAX_POSITION)"
   ]
  },
  {
   "cell_type": "code",
   "execution_count": 18,
   "metadata": {},
   "outputs": [
    {
     "name": "stdout",
     "output_type": "stream",
     "text": [
      "MAX_POSITION of p1 and p2 before assignment:\n",
      "10\n",
      "10\n",
      "MAX_POSITION of p1 and p2 after assignment:\n",
      "7\n",
      "10\n"
     ]
    }
   ],
   "source": [
    "# Create Players p1 and p2\n",
    "p1 = Player(9)\n",
    "p2 = Player(5)\n",
    "\n",
    "print(\"MAX_POSITION of p1 and p2 before assignment:\")\n",
    "# Print p1.MAX_POSITION and p2.MAX_POSITION\n",
    "print(p1.MAX_POSITION)\n",
    "print(p2.MAX_POSITION)\n",
    "\n",
    "# Assign 7 to p1.MAX_POSITION\n",
    "p1.MAX_POSITION = 7\n",
    "\n",
    "print(\"MAX_POSITION of p1 and p2 after assignment:\")\n",
    "# Print p1.MAX_POSITION and p2.MAX_POSITION\n",
    "print(p1.MAX_POSITION)\n",
    "print(p2.MAX_POSITION)"
   ]
  },
  {
   "cell_type": "markdown",
   "metadata": {},
   "source": [
    "#### Class Methods"
   ]
  },
  {
   "cell_type": "code",
   "execution_count": 19,
   "metadata": {},
   "outputs": [
    {
     "name": "stdout",
     "output_type": "stream",
     "text": [
      "Bob 34\n"
     ]
    }
   ],
   "source": [
    "class Person:\n",
    "    CURRENT_YEAR = 2024\n",
    "    def __init__(self, name, age):\n",
    "        self.name = name\n",
    "        self.age = age\n",
    "    \n",
    "    # Add a class method decorator\n",
    "    @classmethod\n",
    "    # Define the from_birth_year method\n",
    "    def from_birth_year(cls, name, birth_year):\n",
    "        # Create age\n",
    "        age = cls.CURRENT_YEAR - birth_year\n",
    "        # Return the name and age\n",
    "        return cls(name, age)\n",
    "\n",
    "bob = Person.from_birth_year(\"Bob\", 1990)\n",
    "print(bob.name, bob.age)"
   ]
  },
  {
   "cell_type": "code",
   "execution_count": 62,
   "metadata": {},
   "outputs": [],
   "source": [
    "class Employee:\n",
    "    def __init__(self, name, salary):\n",
    "        self.name = name\n",
    "        self.salary = salary\n",
    "        \n",
    "    @classmethod\n",
    "    def from_file(cls, filename):\n",
    "        with open(filename, \"r\") as f:\n",
    "            while True:\n",
    "                name = f.readline().strip()\n",
    "                salary = f.readline().strip()\n",
    "                if not name or not salary: break\n",
    "                yield cls(name, int(salary)) "
   ]
  },
  {
   "cell_type": "code",
   "execution_count": 63,
   "metadata": {},
   "outputs": [
    {
     "name": "stdout",
     "output_type": "stream",
     "text": [
      "John Smith has a salary of 40000\n",
      "John Tri-Volta has a salary of 60000\n"
     ]
    }
   ],
   "source": [
    "for employee in Employee.from_file('Employee.txt'):\n",
    "    print(f'{employee.name} has a salary of {employee.salary}')"
   ]
  },
  {
   "cell_type": "code",
   "execution_count": 64,
   "metadata": {},
   "outputs": [
    {
     "data": {
      "text/plain": [
       "2"
      ]
     },
     "execution_count": 64,
     "metadata": {},
     "output_type": "execute_result"
    }
   ],
   "source": [
    "emp_lst = [employee for employee in Employee.from_file('Employee.txt')]\n",
    "len(emp_lst)"
   ]
  },
  {
   "cell_type": "code",
   "execution_count": 65,
   "metadata": {},
   "outputs": [
    {
     "data": {
      "text/plain": [
       "'John Tri-Volta'"
      ]
     },
     "execution_count": 65,
     "metadata": {},
     "output_type": "execute_result"
    }
   ],
   "source": [
    "emp_lst[1].name"
   ]
  },
  {
   "cell_type": "code",
   "execution_count": 37,
   "metadata": {},
   "outputs": [
    {
     "name": "stdout",
     "output_type": "stream",
     "text": [
      "2024\n",
      "12\n",
      "25\n"
     ]
    }
   ],
   "source": [
    "class BetterDate:\n",
    "    def __init__(self, year, month, day):\n",
    "        self.year, self.month, self.day = year, month, day\n",
    "        \n",
    "    # Define a class method from_str\n",
    "    @classmethod\n",
    "    def from_str(cls, datestr):\n",
    "        # Split the string at \"-\"\n",
    "        parts = datestr.split(\"-\")\n",
    "        year, month, day = int(parts[0]), int(parts[1]), int(parts[2])\n",
    "        # Return the class instance\n",
    "        return cls(year, month, day)\n",
    "\n",
    "# Create the xmas object      \n",
    "xmas = BetterDate.from_str(\"2024-12-25\")   \n",
    "print(xmas.year)\n",
    "print(xmas.month)\n",
    "print(xmas.day)"
   ]
  },
  {
   "cell_type": "markdown",
   "metadata": {},
   "source": [
    "#### Inheritance"
   ]
  },
  {
   "cell_type": "code",
   "execution_count": 66,
   "metadata": {},
   "outputs": [
    {
     "name": "stdout",
     "output_type": "stream",
     "text": [
      "Debbie Lashko\n"
     ]
    }
   ],
   "source": [
    "class Employee:\n",
    "    MIN_SALARY = 30000    \n",
    "\n",
    "    def __init__(self, name, salary=MIN_SALARY):\n",
    "        self.name = name\n",
    "        if salary >= Employee.MIN_SALARY:\n",
    "            self.salary = salary\n",
    "        else:\n",
    "            self.salary = Employee.MIN_SALARY\n",
    "            \n",
    "    def give_raise(self, amount):\n",
    "        self.salary += amount      \n",
    "        \n",
    "# Define a new class Manager inheriting from Employee\n",
    "class Manager(Employee):\n",
    "    # Add a keyword to leave this class empty\n",
    "    pass\n",
    "\n",
    "# Define a Manager object\n",
    "mng = Manager('Debbie Lashko', 86500)\n",
    "\n",
    "# Print mng's name\n",
    "print(mng.name)"
   ]
  },
  {
   "cell_type": "code",
   "execution_count": 67,
   "metadata": {},
   "outputs": [],
   "source": [
    "class Employee:\n",
    "    def __init__(self, name, salary=30000):\n",
    "        self.name = name\n",
    "        self.salary = salary\n",
    "\n",
    "    def give_raise(self, amount):\n",
    "        self.salary += amount\n",
    "\n",
    "class Manager(Employee):\n",
    "    # Add a constructor \n",
    "    def __init__(self, name, salary=50000, project=None):\n",
    "        \n",
    "        # Call the parent's constructor   \n",
    "        Employee.__init__(self, name, salary)\n",
    "        \n",
    "        # Assign project attribute\n",
    "        self.project = project\n",
    "\n",
    "    def display(self):\n",
    "        print(\"Manager \", self.name)"
   ]
  },
  {
   "cell_type": "code",
   "execution_count": null,
   "metadata": {},
   "outputs": [
    {
     "name": "stdout",
     "output_type": "stream",
     "text": [
      "80560.0\n"
     ]
    }
   ],
   "source": [
    "class Employee:\n",
    "    def __init__(self, name, salary=30000):\n",
    "        self.name = name\n",
    "        self.salary = salary\n",
    "\n",
    "    def give_raise(self, amount):\n",
    "        self.salary += amount\n",
    "\n",
    "class Manager(Employee):\n",
    "    def display(self):\n",
    "        print(\"Manager \", self.name)\n",
    "\n",
    "    def __init__(self, name, salary=50000, project=None):\n",
    "        Employee.__init__(self, name, salary)\n",
    "        self.project = project\n",
    "\n",
    "    # Add a give_raise method\n",
    "    def give_raise(self, amount, bonus=1.05):\n",
    "        new_amount = amount * bonus\n",
    "        Employee.give_raise(self, new_amount)\n",
    "    \n",
    "mngr = Manager(\"Ashta Dunbar\", 78500)\n",
    "mngr.give_raise(2000, bonus=1.03)\n",
    "print(mngr.salary)"
   ]
  },
  {
   "cell_type": "code",
   "execution_count": 73,
   "metadata": {},
   "outputs": [
    {
     "name": "stdout",
     "output_type": "stream",
     "text": [
      "p.MAX_POSITION =  10\n",
      "r.MAX_POSITION =  10\n"
     ]
    }
   ],
   "source": [
    "class Player:\n",
    "    MAX_POSITION = 10\n",
    "\n",
    "    def __init__(self):\n",
    "        self.position = 0\n",
    "\n",
    "    def move(self, steps):\n",
    "        if self.position + steps < Player.MAX_POSITION:\n",
    "            self.position += steps \n",
    "        else:\n",
    "            self.position = Player.MAX_POSITION  \n",
    "\n",
    "# Create a Racer class inheriting from Player\n",
    "class Racer(Player):\n",
    "    # Create MAX_POSITION with a value of 15\n",
    "    # MAX_POSITION = 15\n",
    "    pass\n",
    "\n",
    "# Create a Player and a Racer objects\n",
    "p = Player()\n",
    "r = Racer()\n",
    "\n",
    "print(\"p.MAX_POSITION = \", p.MAX_POSITION)\n",
    "print(\"r.MAX_POSITION = \", r.MAX_POSITION)"
   ]
  },
  {
   "cell_type": "markdown",
   "metadata": {},
   "source": [
    "## Integrating with Standard Python"
   ]
  },
  {
   "cell_type": "code",
   "execution_count": null,
   "metadata": {},
   "outputs": [],
   "source": []
  }
 ],
 "metadata": {
  "kernelspec": {
   "display_name": "Python 3",
   "language": "python",
   "name": "python3"
  },
  "language_info": {
   "codemirror_mode": {
    "name": "ipython",
    "version": 3
   },
   "file_extension": ".py",
   "mimetype": "text/x-python",
   "name": "python",
   "nbconvert_exporter": "python",
   "pygments_lexer": "ipython3",
   "version": "3.13.0"
  }
 },
 "nbformat": 4,
 "nbformat_minor": 2
}
