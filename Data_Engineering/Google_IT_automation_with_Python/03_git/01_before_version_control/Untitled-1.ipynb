{
 "cells": [
  {
   "cell_type": "code",
   "execution_count": 7,
   "metadata": {},
   "outputs": [],
   "source": [
    "def is_even(num: int) -> bool:\n",
    "    return num%2 == 0\n",
    "\n",
    "def is_perfect_sq(num: int) -> bool:\n",
    "    sq_root = num**0.5\n",
    "    return  sq_root == int(sq_root)\n",
    "\n",
    "def num_reverse(num: int) -> bool:\n",
    "    return int(str(num)[::-1])\n",
    "\n",
    "def is_even_both_ways(num: int) -> bool:\n",
    "    return is_even(num) and is_even(num_reverse(num))\n",
    "\n",
    "def is_perfect_sq_both_ways(num: int) -> bool:\n",
    "    return is_perfect_sq(num) and is_perfect_sq(num_reverse(num))"
   ]
  },
  {
   "cell_type": "code",
   "execution_count": 69,
   "metadata": {},
   "outputs": [
    {
     "data": {
      "text/plain": [
       "generator"
      ]
     },
     "execution_count": 69,
     "metadata": {},
     "output_type": "execute_result"
    }
   ],
   "source": [
    "nums = (_ for _ in range(1, 1000000001))\n",
    "type(nums)"
   ]
  },
  {
   "cell_type": "code",
   "execution_count": 73,
   "metadata": {},
   "outputs": [
    {
     "data": {
      "text/plain": [
       "filter"
      ]
     },
     "execution_count": 73,
     "metadata": {},
     "output_type": "execute_result"
    }
   ],
   "source": [
    "def is_even(num):\n",
    "    return num%2==0\n",
    "\n",
    "def is_even_both_ways(num):\n",
    "    rev = int(str(num)[::-1])\n",
    "    return is_even(num) and is_even(rev)\n",
    "\n",
    "even_nums = filter(is_even_both_ways, nums)\n",
    "type(even_nums)"
   ]
  },
  {
   "cell_type": "code",
   "execution_count": 77,
   "metadata": {},
   "outputs": [],
   "source": [
    "def is_perfect_sq(num):\n",
    "    return int(num**0.5) == num**0.5\n",
    "\n",
    "def is_perfect_sq_both_ways(num):\n",
    "    rev = int(str(num)[::-1])\n",
    "    return is_perfect_sq(num) and is_perfect_sq(rev)\n",
    "\n",
    "perfect_sqs= filter(is_perfect_sq_both_ways, even_nums)"
   ]
  },
  {
   "cell_type": "code",
   "execution_count": 81,
   "metadata": {},
   "outputs": [],
   "source": [
    "import itertools as itt\n",
    "nums_50 = itt.islice(perfect_sqs, 50)"
   ]
  },
  {
   "cell_type": "code",
   "execution_count": 79,
   "metadata": {},
   "outputs": [
    {
     "data": {
      "text/plain": [
       "[400,\n",
       " 484,\n",
       " 676,\n",
       " 40000,\n",
       " 40804,\n",
       " 44100,\n",
       " 44944,\n",
       " 48400,\n",
       " 67600,\n",
       " 69696,\n",
       " 698896,\n",
       " 4000000,\n",
       " 4008004,\n",
       " 4040100,\n",
       " 4048144,\n",
       " 4080400,\n",
       " 4088484,\n",
       " 4410000,\n",
       " 4418404,\n",
       " 4452100,\n",
       " 4494400,\n",
       " 4840000,\n",
       " 4848804,\n",
       " 4884100,\n",
       " 6760000,\n",
       " 6948496,\n",
       " 6969600,\n",
       " 69889600,\n",
       " 400000000,\n",
       " 400080004,\n",
       " 400400100,\n",
       " 400480144,\n",
       " 400800400,\n",
       " 400880484,\n",
       " 404010000,\n",
       " 404090404,\n",
       " 404412100,\n",
       " 404492544,\n",
       " 404814400,\n",
       " 404894884,\n",
       " 408040000,\n",
       " 408444100,\n",
       " 408848400,\n",
       " 420578064,\n",
       " 441000000,\n",
       " 441084004,\n",
       " 441420100,\n",
       " 441840400,\n",
       " 445210000,\n",
       " 445294404]"
      ]
     },
     "execution_count": 79,
     "metadata": {},
     "output_type": "execute_result"
    }
   ],
   "source": [
    "[*nums_50]"
   ]
  },
  {
   "cell_type": "code",
   "execution_count": 82,
   "metadata": {},
   "outputs": [
    {
     "name": "stdout",
     "output_type": "stream",
     "text": [
      "           0\n",
      "0  445632100\n",
      "1  449440000\n",
      "2  449864100\n",
      "3  460875024\n",
      "4  484000000             0\n",
      "10  488852100\n",
      "11  617323716\n",
      "12  676000000\n",
      "13  694849600\n",
      "14  696960000\n"
     ]
    }
   ],
   "source": [
    "import pandas as pd\n",
    "df = pd.DataFrame(nums_50)\n",
    "print(df.head(), df.tail())"
   ]
  },
  {
   "cell_type": "code",
   "execution_count": 83,
   "metadata": {},
   "outputs": [
    {
     "name": "stdout",
     "output_type": "stream",
     "text": [
      "[4, 400, 484, 676, 40000, 40804, 44100, 44944, 48400, 67600, 69696, 698896, 4000000, 4008004, 4040100, 4048144, 4080400, 4088484, 4410000, 4418404, 4452100, 4494400, 4840000, 4848804, 4884100, 6760000, 6948496, 6969600, 69889600, 400000000, 400080004, 400400100, 400480144, 400800400, 400880484, 404010000, 404090404, 404412100, 404492544, 404814400, 404894884, 408040000, 408444100, 408848400, 420578064, 441000000, 441084004, 441420100, 441840400, 445210000]\n"
     ]
    }
   ],
   "source": [
    "def is_perfect_square(n):\n",
    "    root = int(n**0.5)\n",
    "    return root * root == n\n",
    "\n",
    "def is_even(n):\n",
    "    return n % 2 == 0\n",
    "\n",
    "def reverse_number(n):\n",
    "    return int(str(n)[::-1])\n",
    "\n",
    "def find_numbers(limit):\n",
    "    result = []\n",
    "    num = 1\n",
    "    while len(result) < limit:\n",
    "        if is_even(num) and is_perfect_square(num):\n",
    "            reversed_num = reverse_number(num)\n",
    "            if is_even(reversed_num) and is_perfect_square(reversed_num):\n",
    "                result.append(num)\n",
    "        num += 1\n",
    "    return result\n",
    "\n",
    "# Find the first 50 numbers\n",
    "first_50_numbers = find_numbers(50)\n",
    "print(first_50_numbers)"
   ]
  },
  {
   "cell_type": "code",
   "execution_count": 85,
   "metadata": {},
   "outputs": [
    {
     "name": "stdout",
     "output_type": "stream",
     "text": [
      "[0, 4, 400, 484, 676, 40000, 40804, 44100, 44944, 48400, 67600, 69696, 698896, 4000000, 4008004, 4040100, 4048144, 4080400, 4088484, 4410000, 4418404, 4452100, 4494400, 4840000, 4848804, 4884100, 6760000, 6948496, 6969600, 69889600, 400000000, 400080004, 400400100, 400480144, 400800400, 400880484, 404010000, 404090404, 404412100, 404492544, 404814400, 404894884, 408040000, 408444100, 408848400, 420578064, 441000000, 441084004, 441420100, 441840400]\n"
     ]
    }
   ],
   "source": [
    "def is_perfect_square(n):\n",
    "    root = int(n**0.5)\n",
    "    return root * root == n\n",
    "\n",
    "def find_numbers(limit):\n",
    "    result = []\n",
    "    num = 0  # Start with 0 as it is even\n",
    "    while len(result) < limit:\n",
    "        if is_perfect_square(num):\n",
    "            reversed_num = int(str(num)[::-1])\n",
    "            if is_perfect_square(reversed_num) and reversed_num % 2 == 0:\n",
    "                result.append(num)\n",
    "        num += 2  # Increment by 2 to ensure the number is even\n",
    "    return result\n",
    "\n",
    "# Find the first 50 numbers\n",
    "first_50_numbers = find_numbers(50)\n",
    "print(first_50_numbers)\n"
   ]
  },
  {
   "cell_type": "code",
   "execution_count": null,
   "metadata": {},
   "outputs": [],
   "source": []
  },
  {
   "cell_type": "code",
   "execution_count": 16,
   "metadata": {},
   "outputs": [
    {
     "name": "stdout",
     "output_type": "stream",
     "text": [
      "[0, 4, 400, 484, 676, 40000, 40804, 44100, 44944, 48400, 67600, 69696, 698896, 4000000, 4008004, 4040100, 4048144, 4080400, 4088484, 4410000, 4418404, 4452100, 4494400, 4840000, 4848804, 4884100, 6760000, 6948496, 6969600, 69889600, 400000000, 400080004, 400400100, 400480144, 400800400, 400880484, 404010000, 404090404, 404412100, 404492544, 404814400, 404894884, 408040000, 408444100, 408848400, 420578064, 441000000, 441084004, 441420100, 441840400]\n"
     ]
    }
   ],
   "source": [
    "import itertools\n",
    "\n",
    "def is_perfect_square(n):\n",
    "    root = int(n**0.5)\n",
    "    return root * root == n\n",
    "\n",
    "def generate_even_perfect_squares():\n",
    "    num = 0\n",
    "    while True:\n",
    "        if is_perfect_square(num):\n",
    "            yield num\n",
    "        num += 2  # Only consider even numbers\n",
    "\n",
    "def find_first_50():\n",
    "    results = []\n",
    "    generator = generate_even_perfect_squares()\n",
    "    for num in generator:\n",
    "        reversed_num = int(str(num)[::-1])\n",
    "        if is_perfect_square(reversed_num) and reversed_num % 2 == 0:\n",
    "            results.append(num)\n",
    "            if len(results) == 50:\n",
    "                break\n",
    "    return results\n",
    "\n",
    "# Find the first 50 numbers\n",
    "first_50_numbers = find_first_50()\n",
    "print(first_50_numbers)"
   ]
  },
  {
   "cell_type": "code",
   "execution_count": null,
   "metadata": {},
   "outputs": [],
   "source": []
  },
  {
   "cell_type": "code",
   "execution_count": 71,
   "metadata": {},
   "outputs": [],
   "source": [
    "import itertools as itt\n",
    "\n",
    "def generator_even_nums_and__squares() :\n",
    "    num = 4\n",
    "    while True:\n",
    "        num += 2\n",
    "        yield num, num**2\n",
    "        if num >= 100000000: break\n",
    "\n",
    "def is_even(num) -> bool:\n",
    "    return num%2 == 0\n",
    "\n",
    "def rev_num(num):\n",
    "    return int(str(num)[::-1])\n",
    "\n",
    "def is_perfect_square_both_ways(num) -> bool:\n",
    "    rev = rev_num(num)\n",
    "    root = int(num**0.5)\n",
    "    rev_root = int(rev**0.5)\n",
    "    return rev_root * rev_root == rev and root * root == num and is_even(rev)"
   ]
  },
  {
   "cell_type": "code",
   "execution_count": 72,
   "metadata": {},
   "outputs": [
    {
     "ename": "StopIteration",
     "evalue": "",
     "output_type": "error",
     "traceback": [
      "\u001b[1;31m---------------------------------------------------------------------------\u001b[0m",
      "\u001b[1;31mStopIteration\u001b[0m                             Traceback (most recent call last)",
      "Cell \u001b[1;32mIn[72], line 4\u001b[0m\n\u001b[0;32m      2\u001b[0m lst \u001b[38;5;241m=\u001b[39m []\n\u001b[0;32m      3\u001b[0m \u001b[38;5;28;01mwhile\u001b[39;00m \u001b[38;5;28mlen\u001b[39m(lst) \u001b[38;5;241m<\u001b[39m\u001b[38;5;241m=\u001b[39m \u001b[38;5;241m30\u001b[39m:\n\u001b[1;32m----> 4\u001b[0m     num \u001b[38;5;241m=\u001b[39m \u001b[38;5;28;43mnext\u001b[39;49m\u001b[43m(\u001b[49m\u001b[43mnums\u001b[49m\u001b[43m)\u001b[49m[\u001b[38;5;241m0\u001b[39m]\n\u001b[0;32m      5\u001b[0m     \u001b[38;5;28;01mif\u001b[39;00m is_perfect_square_both_ways(num):\n\u001b[0;32m      6\u001b[0m         \u001b[38;5;28;01mtry\u001b[39;00m:\n",
      "\u001b[1;31mStopIteration\u001b[0m: "
     ]
    }
   ],
   "source": [
    "nums = generator_even_nums_and__squares()\n",
    "lst = []\n",
    "while len(lst) <= 30:\n",
    "    num = next(nums)[0]\n",
    "    if is_perfect_square_both_ways(num):\n",
    "        try:\n",
    "            lst.append(num)\n",
    "        except StopIteration:\n",
    "            break"
   ]
  },
  {
   "cell_type": "code",
   "execution_count": 70,
   "metadata": {},
   "outputs": [
    {
     "name": "stdout",
     "output_type": "stream",
     "text": [
      "27\n"
     ]
    },
    {
     "data": {
      "text/plain": [
       "[400,\n",
       " 484,\n",
       " 676,\n",
       " 40000,\n",
       " 40804,\n",
       " 44100,\n",
       " 44944,\n",
       " 48400,\n",
       " 67600,\n",
       " 69696,\n",
       " 698896,\n",
       " 4000000,\n",
       " 4008004,\n",
       " 4040100,\n",
       " 4048144,\n",
       " 4080400,\n",
       " 4088484,\n",
       " 4410000,\n",
       " 4418404,\n",
       " 4452100,\n",
       " 4494400,\n",
       " 4840000,\n",
       " 4848804,\n",
       " 4884100,\n",
       " 6760000,\n",
       " 6948496,\n",
       " 6969600]"
      ]
     },
     "execution_count": 70,
     "metadata": {},
     "output_type": "execute_result"
    }
   ],
   "source": [
    "print(len(lst))\n",
    "lst"
   ]
  },
  {
   "cell_type": "code",
   "execution_count": 29,
   "metadata": {},
   "outputs": [
    {
     "data": {
      "text/plain": [
       "2"
      ]
     },
     "execution_count": 29,
     "metadata": {},
     "output_type": "execute_result"
    }
   ],
   "source": [
    "n1[0]"
   ]
  },
  {
   "cell_type": "code",
   "execution_count": 30,
   "metadata": {},
   "outputs": [
    {
     "data": {
      "text/html": [
       "<div>\n",
       "<style scoped>\n",
       "    .dataframe tbody tr th:only-of-type {\n",
       "        vertical-align: middle;\n",
       "    }\n",
       "\n",
       "    .dataframe tbody tr th {\n",
       "        vertical-align: top;\n",
       "    }\n",
       "\n",
       "    .dataframe thead th {\n",
       "        text-align: right;\n",
       "    }\n",
       "</style>\n",
       "<table border=\"1\" class=\"dataframe\">\n",
       "  <thead>\n",
       "    <tr style=\"text-align: right;\">\n",
       "      <th></th>\n",
       "      <th>String1</th>\n",
       "      <th>String2</th>\n",
       "    </tr>\n",
       "  </thead>\n",
       "  <tbody>\n",
       "    <tr>\n",
       "      <th>0</th>\n",
       "      <td>deedednesses</td>\n",
       "      <td>sssdde</td>\n",
       "    </tr>\n",
       "    <tr>\n",
       "      <th>1</th>\n",
       "      <td>nszszyyyyy</td>\n",
       "      <td>senselessness</td>\n",
       "    </tr>\n",
       "    <tr>\n",
       "      <th>2</th>\n",
       "      <td>reemergences</td>\n",
       "      <td>reeccccss</td>\n",
       "    </tr>\n",
       "    <tr>\n",
       "      <th>3</th>\n",
       "      <td>eelnnnn</td>\n",
       "      <td>statelessness</td>\n",
       "    </tr>\n",
       "    <tr>\n",
       "      <th>4</th>\n",
       "      <td>intermittent</td>\n",
       "      <td>inttttt</td>\n",
       "    </tr>\n",
       "    <tr>\n",
       "      <th>5</th>\n",
       "      <td>readdressed</td>\n",
       "      <td></td>\n",
       "    </tr>\n",
       "    <tr>\n",
       "      <th>6</th>\n",
       "      <td>xqdww</td>\n",
       "      <td>sweetnesses</td>\n",
       "    </tr>\n",
       "    <tr>\n",
       "      <th>7</th>\n",
       "      <td>dwqwqqq</td>\n",
       "      <td>deterrences</td>\n",
       "    </tr>\n",
       "    <tr>\n",
       "      <th>8</th>\n",
       "      <td>entitlements</td>\n",
       "      <td>msmsmm</td>\n",
       "    </tr>\n",
       "  </tbody>\n",
       "</table>\n",
       "</div>"
      ],
      "text/plain": [
       "        String1        String2\n",
       "0  deedednesses         sssdde\n",
       "1    nszszyyyyy  senselessness\n",
       "2  reemergences      reeccccss\n",
       "3       eelnnnn  statelessness\n",
       "4  intermittent        inttttt\n",
       "5   readdressed               \n",
       "6         xqdww    sweetnesses\n",
       "7       dwqwqqq    deterrences\n",
       "8  entitlements         msmsmm"
      ]
     },
     "execution_count": 30,
     "metadata": {},
     "output_type": "execute_result"
    }
   ],
   "source": [
    "import pandas as pd\n",
    "df = pd.DataFrame(\n",
    "    {   'String1': ['deedednesses', 'nszszyyyyy', 'reemergences', 'eelnnnn', 'intermittent', 'readdressed', 'xqdww', 'dwqwqqq', 'entitlements'],\n",
    "        'String2': ['sssdde', 'senselessness', 'reeccccss', 'statelessness', 'inttttt', '', 'sweetnesses', 'deterrences', 'msmsmm']}\n",
    ")\n",
    "df"
   ]
  },
  {
   "cell_type": "code",
   "execution_count": 55,
   "metadata": {},
   "outputs": [],
   "source": [
    "import collections as col\n",
    "\n",
    "def word_count(word: str):\n",
    "    word = list(word)\n",
    "    return dict(col.Counter(word))\n",
    "\n",
    "def dict_diff(dict_1: dict, dict_2: dict):\n",
    "    all_keys = set(dict_1) | set(dict_2)\n",
    "    dict_3 = {key: abs(dict_1.get(key, 0) - dict_2.get(key, 0)) for key in all_keys}\n",
    "    dict_3 = {key: value for key, value in dict_3.items() if value != 0}\n",
    "    return ''.join(f\"{key}{value}\" for key, value in dict(sorted(dict_3.items())).items()) "
   ]
  },
  {
   "cell_type": "code",
   "execution_count": 56,
   "metadata": {},
   "outputs": [
    {
     "data": {
      "text/plain": [
       "['d1e4n1',\n",
       " 'e4l1n1s4y5z2',\n",
       " 'c3e3g1m1n1r1s1',\n",
       " 'a1e1n3s5t2',\n",
       " 'e2i1m1n1r1t1',\n",
       " 'a1d3e3r2s2',\n",
       " 'd1e4n1q1s4t1w1x1',\n",
       " 'c1e4n1q4r2s1t1w2',\n",
       " 'e3i1l1m3n2s1t3']"
      ]
     },
     "execution_count": 56,
     "metadata": {},
     "output_type": "execute_result"
    }
   ],
   "source": [
    "answer = [dict_diff(word_count(df['String1'][idx]), word_count(df['String2'][idx])) for idx in range(len(df))]\n",
    "answer"
   ]
  },
  {
   "cell_type": "code",
   "execution_count": 2,
   "metadata": {},
   "outputs": [
    {
     "data": {
      "text/html": [
       "<div>\n",
       "<style scoped>\n",
       "    .dataframe tbody tr th:only-of-type {\n",
       "        vertical-align: middle;\n",
       "    }\n",
       "\n",
       "    .dataframe tbody tr th {\n",
       "        vertical-align: top;\n",
       "    }\n",
       "\n",
       "    .dataframe thead th {\n",
       "        text-align: right;\n",
       "    }\n",
       "</style>\n",
       "<table border=\"1\" class=\"dataframe\">\n",
       "  <thead>\n",
       "    <tr style=\"text-align: right;\">\n",
       "      <th></th>\n",
       "      <th>String</th>\n",
       "      <th>Numbers</th>\n",
       "    </tr>\n",
       "  </thead>\n",
       "  <tbody>\n",
       "    <tr>\n",
       "      <th>0</th>\n",
       "      <td>qrelm</td>\n",
       "      <td>[1, 2]</td>\n",
       "    </tr>\n",
       "    <tr>\n",
       "      <th>1</th>\n",
       "      <td>zelkor</td>\n",
       "      <td>[3, 1, 5, 4]</td>\n",
       "    </tr>\n",
       "    <tr>\n",
       "      <th>2</th>\n",
       "      <td>tralvion</td>\n",
       "      <td>[6, 2, 8, 1]</td>\n",
       "    </tr>\n",
       "    <tr>\n",
       "      <th>3</th>\n",
       "      <td>flaxior</td>\n",
       "      <td>[7, 7, 6, 2, 3, 1]</td>\n",
       "    </tr>\n",
       "    <tr>\n",
       "      <th>4</th>\n",
       "      <td>vorlentis</td>\n",
       "      <td>[1, 6, 4, 4, 8, 1]</td>\n",
       "    </tr>\n",
       "    <tr>\n",
       "      <th>5</th>\n",
       "      <td>crenovorth</td>\n",
       "      <td>[4, 5, 1, 8, 8, 4]</td>\n",
       "    </tr>\n",
       "    <tr>\n",
       "      <th>6</th>\n",
       "      <td>nexelvorium</td>\n",
       "      <td>[1, 7, 11, 8, 2, 3, 7, 6]</td>\n",
       "    </tr>\n",
       "    <tr>\n",
       "      <th>7</th>\n",
       "      <td>gordelvintrex</td>\n",
       "      <td>[1, 12, 11, 10, 3, 1]</td>\n",
       "    </tr>\n",
       "    <tr>\n",
       "      <th>8</th>\n",
       "      <td>stravonithelph</td>\n",
       "      <td>[14, 14, 6, 12, 5, 2, 6, 1]</td>\n",
       "    </tr>\n",
       "  </tbody>\n",
       "</table>\n",
       "</div>"
      ],
      "text/plain": [
       "           String                      Numbers\n",
       "0           qrelm                       [1, 2]\n",
       "1          zelkor                 [3, 1, 5, 4]\n",
       "2        tralvion                 [6, 2, 8, 1]\n",
       "3         flaxior           [7, 7, 6, 2, 3, 1]\n",
       "4       vorlentis           [1, 6, 4, 4, 8, 1]\n",
       "5      crenovorth           [4, 5, 1, 8, 8, 4]\n",
       "6     nexelvorium    [1, 7, 11, 8, 2, 3, 7, 6]\n",
       "7   gordelvintrex        [1, 12, 11, 10, 3, 1]\n",
       "8  stravonithelph  [14, 14, 6, 12, 5, 2, 6, 1]"
      ]
     },
     "execution_count": 2,
     "metadata": {},
     "output_type": "execute_result"
    }
   ],
   "source": [
    "import pandas as pd\n",
    "df = pd.DataFrame(\n",
    "    {\n",
    "        'String': ['qrelm', 'zelkor', 'tralvion', 'flaxior', 'vorlentis', 'crenovorth', 'nexelvorium', 'gordelvintrex', 'stravonithelph'],\n",
    "        'Numbers':[[1, 2], [3, 1, 5, 4], [6, 2, 8, 1], [7, 7, 6, 2, 3, 1], [1, 6, 4, 4, 8, 1], [4, 5, 1, 8, 8, 4], [1, 7, 11, 8, 2, 3, 7, 6], [1, 12, 11, 10, 3, 1], [14, 14, 6, 12, 5, 2, 6, 1]\n",
    "]\n",
    "    }\n",
    ")\n",
    "df"
   ]
  },
  {
   "cell_type": "code",
   "execution_count": 3,
   "metadata": {},
   "outputs": [
    {
     "data": {
      "text/plain": [
       "['rqelm',\n",
       " 'lezkor',\n",
       " 'lezokr',\n",
       " 'tialvron',\n",
       " 'nialvrot',\n",
       " 'flaxior',\n",
       " 'foaxilr',\n",
       " 'aofxilr',\n",
       " 'norlevtis',\n",
       " 'norlevtis',\n",
       " 'iorlevtns',\n",
       " 'creonvorth',\n",
       " 'rreonvocth',\n",
       " 'rrecnvooth',\n",
       " 'oexelvnrium',\n",
       " 'oexelvnmiur',\n",
       " 'oxeelvnmiur',\n",
       " 'oxeelnvmiur',\n",
       " 'eordelvintrgx',\n",
       " 'eordelvinrtgx',\n",
       " 'roedelvinrtgx',\n",
       " 'stravonithelph',\n",
       " 'stravlnitheoph',\n",
       " 'svratlnitheoph',\n",
       " 'lvratsnitheoph']"
      ]
     },
     "execution_count": 3,
     "metadata": {},
     "output_type": "execute_result"
    }
   ],
   "source": [
    "answer = []\n",
    "for df_idx, num_set in enumerate(df['Numbers']):\n",
    "    strg = [*df['String'][df_idx]]\n",
    "    for idx in range(0,len(num_set),2):\n",
    "        x, y = num_set[idx]-1, num_set[idx+1]-1\n",
    "        strg[x], strg[y] = strg[y], strg[x]\n",
    "    answer.append(''.join(strg))\n",
    "answer\n"
   ]
  },
  {
   "cell_type": "code",
   "execution_count": null,
   "metadata": {},
   "outputs": [],
   "source": []
  }
 ],
 "metadata": {
  "kernelspec": {
   "display_name": "Python 3",
   "language": "python",
   "name": "python3"
  },
  "language_info": {
   "codemirror_mode": {
    "name": "ipython",
    "version": 3
   },
   "file_extension": ".py",
   "mimetype": "text/x-python",
   "name": "python",
   "nbconvert_exporter": "python",
   "pygments_lexer": "ipython3",
   "version": "3.12.5"
  }
 },
 "nbformat": 4,
 "nbformat_minor": 2
}
