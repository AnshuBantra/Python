{
 "cells": [
  {
   "cell_type": "markdown",
   "id": "85392ad0",
   "metadata": {},
   "source": [
    "# Exp"
   ]
  },
  {
   "cell_type": "code",
   "execution_count": 1,
   "id": "f4ddcf1d",
   "metadata": {},
   "outputs": [
    {
     "data": {
      "text/html": [
       "<div>\n",
       "<style scoped>\n",
       "    .dataframe tbody tr th:only-of-type {\n",
       "        vertical-align: middle;\n",
       "    }\n",
       "\n",
       "    .dataframe tbody tr th {\n",
       "        vertical-align: top;\n",
       "    }\n",
       "\n",
       "    .dataframe thead th {\n",
       "        text-align: right;\n",
       "    }\n",
       "</style>\n",
       "<table border=\"1\" class=\"dataframe\">\n",
       "  <thead>\n",
       "    <tr style=\"text-align: right;\">\n",
       "      <th></th>\n",
       "      <th>Names</th>\n",
       "      <th>Q1</th>\n",
       "      <th>Q2</th>\n",
       "      <th>Q3</th>\n",
       "      <th>Q4</th>\n",
       "    </tr>\n",
       "  </thead>\n",
       "  <tbody>\n",
       "    <tr>\n",
       "      <th>0</th>\n",
       "      <td>Smith</td>\n",
       "      <td>2</td>\n",
       "      <td>0</td>\n",
       "      <td>3</td>\n",
       "      <td>3</td>\n",
       "    </tr>\n",
       "    <tr>\n",
       "      <th>1</th>\n",
       "      <td>Johnsn</td>\n",
       "      <td>1</td>\n",
       "      <td>1</td>\n",
       "      <td>0</td>\n",
       "      <td>0</td>\n",
       "    </tr>\n",
       "    <tr>\n",
       "      <th>2</th>\n",
       "      <td>Williams</td>\n",
       "      <td>2</td>\n",
       "      <td>0</td>\n",
       "      <td>1</td>\n",
       "      <td>0</td>\n",
       "    </tr>\n",
       "    <tr>\n",
       "      <th>3</th>\n",
       "      <td>Brown</td>\n",
       "      <td>0</td>\n",
       "      <td>0</td>\n",
       "      <td>2</td>\n",
       "      <td>1</td>\n",
       "    </tr>\n",
       "  </tbody>\n",
       "</table>\n",
       "</div>"
      ],
      "text/plain": [
       "      Names  Q1  Q2  Q3  Q4\n",
       "0     Smith   2   0   3   3\n",
       "1    Johnsn   1   1   0   0\n",
       "2  Williams   2   0   1   0\n",
       "3     Brown   0   0   2   1"
      ]
     },
     "execution_count": 1,
     "metadata": {},
     "output_type": "execute_result"
    }
   ],
   "source": [
    "import pandas as pd\n",
    "\n",
    "df = pd.DataFrame(\n",
    "    {\n",
    "        \"Names\": [\"Smith\", \"Johnsn\", \"Williams\", \"Brown\"],\n",
    "        \"Q1\":    [2, 1, 2, 0],\n",
    "        \"Q2\":    [0, 1, 0, 0],\n",
    "        \"Q3\":    [3, 0, 1, 2],\n",
    "        \"Q4\":    [3, 0, 0, 1],\n",
    "    }\n",
    ")\n",
    "\n",
    "df"
   ]
  },
  {
   "cell_type": "code",
   "execution_count": 49,
   "id": "bde2671c",
   "metadata": {},
   "outputs": [
    {
     "data": {
      "text/plain": [
       "[('Smith', 'Q1'),\n",
       " ('Smith', 'Q1'),\n",
       " ('Smith', 'Q3'),\n",
       " ('Smith', 'Q3'),\n",
       " ('Smith', 'Q3'),\n",
       " ('Smith', 'Q4'),\n",
       " ('Smith', 'Q4'),\n",
       " ('Smith', 'Q4'),\n",
       " ('Johnsn', 'Q1'),\n",
       " ('Johnsn', 'Q2'),\n",
       " ('Williams', 'Q1'),\n",
       " ('Williams', 'Q1'),\n",
       " ('Williams', 'Q3'),\n",
       " ('Brown', 'Q3'),\n",
       " ('Brown', 'Q3'),\n",
       " ('Brown', 'Q4')]"
      ]
     },
     "execution_count": 49,
     "metadata": {},
     "output_type": "execute_result"
    }
   ],
   "source": [
    "cols = df.columns\n",
    "lst = [ (df.iloc[row,0], cols[col])\\\n",
    "        for row in range(len(df))\\\n",
    "            for col in range(1, df.shape[1])\\\n",
    "                for _ in range(df.iloc[row,col])\n",
    "    ]\n",
    "lst"
   ]
  },
  {
   "cell_type": "markdown",
   "id": "08650b10",
   "metadata": {},
   "source": [
    "# Packages & OOPS"
   ]
  },
  {
   "cell_type": "markdown",
   "id": "082b711a",
   "metadata": {},
   "source": [
    "### Assignment"
   ]
  },
  {
   "cell_type": "code",
   "execution_count": 50,
   "id": "e8841d5d",
   "metadata": {},
   "outputs": [
    {
     "name": "stdout",
     "output_type": "stream",
     "text": [
      "\n",
      "Welcome to PySocial (OOP Version)!\n",
      "1. Signup\n",
      "2. Login\n",
      "3. Exit\n",
      "✅ Signup successful.\n",
      "\n",
      "Welcome to PySocial (OOP Version)!\n",
      "1. Signup\n",
      "2. Login\n",
      "3. Exit\n",
      "✅ Welcome back, abantra!\n",
      "\n",
      "Choose an option:\n",
      "a. Post something\n",
      "b. View your posts\n",
      "c. Logout\n",
      "✅ Post added!\n",
      "\n",
      "Choose an option:\n",
      "a. Post something\n",
      "b. View your posts\n",
      "c. Logout\n",
      "\n",
      "📋 abantra's Posts:\n",
      "1. OOPS\n",
      "\n",
      "Choose an option:\n",
      "a. Post something\n",
      "b. View your posts\n",
      "c. Logout\n",
      "❗ Invalid choice.\n",
      "\n",
      "Choose an option:\n",
      "a. Post something\n",
      "b. View your posts\n",
      "c. Logout\n",
      "❗ Invalid choice.\n",
      "\n",
      "Choose an option:\n",
      "a. Post something\n",
      "b. View your posts\n",
      "c. Logout\n",
      "👋 Logged out.\n",
      "\n",
      "Welcome to PySocial (OOP Version)!\n",
      "1. Signup\n",
      "2. Login\n",
      "3. Exit\n",
      "👋 Goodbye!\n"
     ]
    }
   ],
   "source": [
    "class User:\n",
    "    def __init__(self, username, password):\n",
    "        self.username = username\n",
    "        self.password = password\n",
    "        self.posts = []\n",
    "\n",
    "    def post_message(self, message):\n",
    "        self.posts.append(message)\n",
    "\n",
    "    def view_posts(self):\n",
    "        if not self.posts:\n",
    "            print(\"No posts yet.\")\n",
    "        else:\n",
    "            for idx, post in enumerate(self.posts, 1):\n",
    "                print(f\"{idx}. {post}\")\n",
    "\n",
    "class Platform:\n",
    "    def __init__(self):\n",
    "        self.users = {}  # Format: {username: User object}\n",
    "\n",
    "    def signup(self):\n",
    "        username = input(\"Choose a username: \")\n",
    "        if username in self.users:\n",
    "            print(\"❌ Username already exists.\")\n",
    "            return\n",
    "\n",
    "        password = input(\"Choose a password: \")\n",
    "        self.users[username] = User(username, password)\n",
    "        print(\"✅ Signup successful.\")\n",
    "\n",
    "    def login(self):\n",
    "        username = input(\"Enter your username: \")\n",
    "        password = input(\"Enter your password: \")\n",
    "\n",
    "        user = self.users.get(username)\n",
    "        if user and user.password == password:\n",
    "            print(f\"✅ Welcome back, {username}!\")\n",
    "            self.user_menu(user)\n",
    "        else:\n",
    "            print(\"❌ Invalid credentials.\")\n",
    "\n",
    "    def user_menu(self, user):\n",
    "        while True:\n",
    "            print(\"\\nChoose an option:\")\n",
    "            print(\"a. Post something\")\n",
    "            print(\"b. View your posts\")\n",
    "            print(\"c. Logout\")\n",
    "\n",
    "            choice = input(\"Your choice (a/b/c): \").lower()\n",
    "\n",
    "            if choice == \"a\":\n",
    "                post = input(\"What's on your mind? \")\n",
    "                user.post_message(post)\n",
    "                print(\"✅ Post added!\")\n",
    "\n",
    "            elif choice == \"b\":\n",
    "                print(f\"\\n📋 {user.username}'s Posts:\")\n",
    "                user.view_posts()\n",
    "\n",
    "            elif choice == \"c\":\n",
    "                print(\"👋 Logged out.\")\n",
    "                break\n",
    "\n",
    "            else:\n",
    "                print(\"❗ Invalid choice.\")\n",
    "\n",
    "# Entry point\n",
    "platform = Platform()\n",
    "\n",
    "while True:\n",
    "    print(\"\\nWelcome to PySocial (OOP Version)!\")\n",
    "    print(\"1. Signup\")\n",
    "    print(\"2. Login\")\n",
    "    print(\"3. Exit\")\n",
    "\n",
    "    main_choice = input(\"Choose an option (1/2/3): \")\n",
    "\n",
    "    if main_choice == \"1\":\n",
    "        platform.signup()\n",
    "    elif main_choice == \"2\":\n",
    "        platform.login()\n",
    "    elif main_choice == \"3\":\n",
    "        print(\"👋 Goodbye!\")\n",
    "        break\n",
    "    else:\n",
    "        print(\"❗ Please enter 1, 2 or 3.\")"
   ]
  },
  {
   "cell_type": "markdown",
   "id": "f4ffa32c",
   "metadata": {},
   "source": [
    "### 20250503"
   ]
  },
  {
   "cell_type": "code",
   "execution_count": 1,
   "id": "e8255686",
   "metadata": {},
   "outputs": [],
   "source": [
    "import dummy_test"
   ]
  },
  {
   "cell_type": "code",
   "execution_count": 2,
   "id": "46d73c9c",
   "metadata": {},
   "outputs": [
    {
     "name": "stdout",
     "output_type": "stream",
     "text": [
      "hello world\n"
     ]
    }
   ],
   "source": [
    "dummy_test.print_hello()"
   ]
  },
  {
   "cell_type": "markdown",
   "id": "5c0dcac7",
   "metadata": {},
   "source": [
    "Package: It is a collection of modules"
   ]
  },
  {
   "cell_type": "code",
   "execution_count": 1,
   "id": "b817328b",
   "metadata": {},
   "outputs": [
    {
     "name": "stdout",
     "output_type": "stream",
     "text": [
      "Checkup.py ==> print\n"
     ]
    }
   ],
   "source": [
    "from my_module import checkup\n",
    "\n",
    "checkup.print_checkup()"
   ]
  },
  {
   "cell_type": "code",
   "execution_count": 2,
   "id": "774abf64",
   "metadata": {},
   "outputs": [],
   "source": [
    "from my_module.sub_module import add"
   ]
  },
  {
   "cell_type": "code",
   "execution_count": 3,
   "id": "96b69133",
   "metadata": {},
   "outputs": [
    {
     "data": {
      "text/plain": [
       "10"
      ]
     },
     "execution_count": 3,
     "metadata": {},
     "output_type": "execute_result"
    }
   ],
   "source": [
    "add.add_two_numbers(5, 5)"
   ]
  },
  {
   "cell_type": "code",
   "execution_count": null,
   "id": "628d9235",
   "metadata": {},
   "outputs": [],
   "source": []
  }
 ],
 "metadata": {
  "kernelspec": {
   "display_name": "Python 3",
   "language": "python",
   "name": "python3"
  },
  "language_info": {
   "codemirror_mode": {
    "name": "ipython",
    "version": 3
   },
   "file_extension": ".py",
   "mimetype": "text/x-python",
   "name": "python",
   "nbconvert_exporter": "python",
   "pygments_lexer": "ipython3",
   "version": "3.12.0"
  }
 },
 "nbformat": 4,
 "nbformat_minor": 5
}
