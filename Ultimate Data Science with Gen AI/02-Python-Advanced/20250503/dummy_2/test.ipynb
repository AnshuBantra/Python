{
 "cells": [
  {
   "cell_type": "code",
   "execution_count": 5,
   "id": "5d960330",
   "metadata": {},
   "outputs": [
    {
     "ename": "ModuleNotFoundError",
     "evalue": "No module named 'hospital'",
     "output_type": "error",
     "traceback": [
      "\u001b[1;31m---------------------------------------------------------------------------\u001b[0m",
      "\u001b[1;31mModuleNotFoundError\u001b[0m                       Traceback (most recent call last)",
      "Cell \u001b[1;32mIn[5], line 1\u001b[0m\n\u001b[1;32m----> 1\u001b[0m \u001b[38;5;28;01mfrom\u001b[39;00m \u001b[38;5;21;01mhospital\u001b[39;00m\u001b[38;5;21;01m.\u001b[39;00m\u001b[38;5;21;01madmission\u001b[39;00m\u001b[38;5;21;01m.\u001b[39;00m\u001b[38;5;21;01mutils\u001b[39;00m \u001b[38;5;28;01mimport\u001b[39;00m add\n",
      "\u001b[1;31mModuleNotFoundError\u001b[0m: No module named 'hospital'"
     ]
    }
   ],
   "source": [
    "from hospital.admission.utils import add"
   ]
  },
  {
   "cell_type": "code",
   "execution_count": 12,
   "id": "127e44f0",
   "metadata": {},
   "outputs": [
    {
     "ename": "ImportError",
     "evalue": "attempted relative import with no known parent package",
     "output_type": "error",
     "traceback": [
      "\u001b[1;31m---------------------------------------------------------------------------\u001b[0m",
      "\u001b[1;31mImportError\u001b[0m                               Traceback (most recent call last)",
      "Cell \u001b[1;32mIn[12], line 1\u001b[0m\n\u001b[1;32m----> 1\u001b[0m \u001b[38;5;28;01mfrom\u001b[39;00m \u001b[38;5;21;01m.\u001b[39;00m\u001b[38;5;21;01m.\u001b[39;00m\u001b[38;5;21;01mhospital\u001b[39;00m\u001b[38;5;21;01m.\u001b[39;00m\u001b[38;5;21;01madmission\u001b[39;00m\u001b[38;5;21;01m.\u001b[39;00m\u001b[38;5;21;01mutils\u001b[39;00m \u001b[38;5;28;01mimport\u001b[39;00m add\n",
      "\u001b[1;31mImportError\u001b[0m: attempted relative import with no known parent package"
     ]
    }
   ],
   "source": [
    "from ..hospital.admission.utils import add"
   ]
  },
  {
   "cell_type": "code",
   "execution_count": 22,
   "id": "305cfac6",
   "metadata": {},
   "outputs": [],
   "source": [
    "import sys\n",
    "import os"
   ]
  },
  {
   "cell_type": "code",
   "execution_count": 23,
   "id": "2c29036c",
   "metadata": {},
   "outputs": [
    {
     "data": {
      "text/plain": [
       "'c:\\\\Users\\\\anshu\\\\OneDrive\\\\Code\\\\Python\\\\Python\\\\Ultimate Data Science with Gen AI\\\\02-Python-Advanced\\\\20250503'"
      ]
     },
     "execution_count": 23,
     "metadata": {},
     "output_type": "execute_result"
    }
   ],
   "source": [
    "os.path.abspath('../')"
   ]
  },
  {
   "cell_type": "code",
   "execution_count": 27,
   "id": "758277d5",
   "metadata": {},
   "outputs": [
    {
     "data": {
      "text/plain": [
       "'c:\\\\Users\\\\anshu\\\\OneDrive\\\\Code\\\\Python\\\\Python\\\\Ultimate Data Science with Gen AI\\\\02-Python-Advanced\\\\20250503'"
      ]
     },
     "execution_count": 27,
     "metadata": {},
     "output_type": "execute_result"
    }
   ],
   "source": [
    "os.path.abspath(\"..\") # go 1 level up"
   ]
  },
  {
   "cell_type": "code",
   "execution_count": 26,
   "id": "235d4273",
   "metadata": {},
   "outputs": [
    {
     "data": {
      "text/plain": [
       "'c:\\\\Users\\\\anshu\\\\OneDrive\\\\Code\\\\Python\\\\Python\\\\Ultimate Data Science with Gen AI\\\\02-Python-Advanced\\\\20250503\\\\dummy_2'"
      ]
     },
     "execution_count": 26,
     "metadata": {},
     "output_type": "execute_result"
    }
   ],
   "source": [
    "os.path.abspath(\".\")"
   ]
  },
  {
   "cell_type": "code",
   "execution_count": 10,
   "id": "3aa30163",
   "metadata": {},
   "outputs": [
    {
     "data": {
      "text/plain": [
       "'c:\\\\Users\\\\anshu\\\\OneDrive\\\\Code\\\\Python\\\\Python\\\\Ultimate Data Science with Gen AI\\\\02-Python-Advanced\\\\20250503'"
      ]
     },
     "execution_count": 10,
     "metadata": {},
     "output_type": "execute_result"
    }
   ],
   "source": [
    "os.path.abspath(\"..\") # go 1 level up"
   ]
  },
  {
   "cell_type": "code",
   "execution_count": 11,
   "id": "6a22cffb",
   "metadata": {},
   "outputs": [
    {
     "data": {
      "text/plain": [
       "'c:\\\\Users\\\\anshu\\\\OneDrive\\\\Code\\\\Python\\\\Python\\\\Ultimate Data Science with Gen AI\\\\02-Python-Advanced\\\\20250503'"
      ]
     },
     "execution_count": 11,
     "metadata": {},
     "output_type": "execute_result"
    }
   ],
   "source": [
    "os.path.abspath(\"../\") # go 1 level up"
   ]
  },
  {
   "cell_type": "code",
   "execution_count": 24,
   "id": "ad9b7fab",
   "metadata": {},
   "outputs": [],
   "source": [
    "sys.path.append(os.path.abspath('../'))"
   ]
  },
  {
   "cell_type": "code",
   "execution_count": 28,
   "id": "c844992b",
   "metadata": {},
   "outputs": [],
   "source": [
    "from hospital.admission.utils import add"
   ]
  },
  {
   "cell_type": "code",
   "execution_count": null,
   "id": "1a6b2d7e",
   "metadata": {},
   "outputs": [],
   "source": []
  }
 ],
 "metadata": {
  "kernelspec": {
   "display_name": "Ultimate_Data_Science_with_Gen_AI",
   "language": "python",
   "name": "python3"
  },
  "language_info": {
   "codemirror_mode": {
    "name": "ipython",
    "version": 3
   },
   "file_extension": ".py",
   "mimetype": "text/x-python",
   "name": "python",
   "nbconvert_exporter": "python",
   "pygments_lexer": "ipython3",
   "version": "3.12.9"
  }
 },
 "nbformat": 4,
 "nbformat_minor": 5
}
