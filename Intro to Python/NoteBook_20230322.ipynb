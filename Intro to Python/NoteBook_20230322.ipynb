{
 "cells": [
  {
   "cell_type": "code",
   "execution_count": 1,
   "id": "a6dc9f04",
   "metadata": {},
   "outputs": [
    {
     "data": {
      "text/plain": [
       "10"
      ]
     },
     "execution_count": 1,
     "metadata": {},
     "output_type": "execute_result"
    }
   ],
   "source": [
    "5+5"
   ]
  },
  {
   "cell_type": "code",
   "execution_count": 2,
   "id": "87ba7fa0",
   "metadata": {},
   "outputs": [
    {
     "data": {
      "text/plain": [
       "56"
      ]
     },
     "execution_count": 2,
     "metadata": {},
     "output_type": "execute_result"
    }
   ],
   "source": [
    "56"
   ]
  },
  {
   "cell_type": "code",
   "execution_count": 4,
   "id": "34974ef9",
   "metadata": {},
   "outputs": [
    {
     "data": {
      "text/plain": [
       "78"
      ]
     },
     "execution_count": 4,
     "metadata": {},
     "output_type": "execute_result"
    }
   ],
   "source": [
    "78"
   ]
  },
  {
   "cell_type": "code",
   "execution_count": 5,
   "id": "3db4e89f",
   "metadata": {},
   "outputs": [
    {
     "ename": "NameError",
     "evalue": "name 'Hello' is not defined",
     "output_type": "error",
     "traceback": [
      "\u001b[1;31m---------------------------------------------------------------------------\u001b[0m",
      "\u001b[1;31mNameError\u001b[0m                                 Traceback (most recent call last)",
      "\u001b[1;32m~\\AppData\\Local\\Temp\\ipykernel_26920\\101669370.py\u001b[0m in \u001b[0;36m<module>\u001b[1;34m\u001b[0m\n\u001b[1;32m----> 1\u001b[1;33m \u001b[0mHello\u001b[0m\u001b[1;33m\u001b[0m\u001b[1;33m\u001b[0m\u001b[0m\n\u001b[0m",
      "\u001b[1;31mNameError\u001b[0m: name 'Hello' is not defined"
     ]
    }
   ],
   "source": [
    "Hello"
   ]
  },
  {
   "cell_type": "code",
   "execution_count": 6,
   "id": "359ff743",
   "metadata": {},
   "outputs": [
    {
     "data": {
      "text/plain": [
       "'Hello'"
      ]
     },
     "execution_count": 6,
     "metadata": {},
     "output_type": "execute_result"
    }
   ],
   "source": [
    "'Hello'"
   ]
  },
  {
   "cell_type": "code",
   "execution_count": 7,
   "id": "46a70047",
   "metadata": {},
   "outputs": [
    {
     "data": {
      "text/plain": [
       "'Hello'"
      ]
     },
     "execution_count": 7,
     "metadata": {},
     "output_type": "execute_result"
    }
   ],
   "source": [
    "\"Hello\""
   ]
  },
  {
   "cell_type": "code",
   "execution_count": 8,
   "id": "e6a5a606",
   "metadata": {},
   "outputs": [
    {
     "name": "stdout",
     "output_type": "stream",
     "text": [
      "Hello World of Python\n"
     ]
    }
   ],
   "source": [
    "print('Hello World of Python')"
   ]
  },
  {
   "cell_type": "code",
   "execution_count": 10,
   "id": "9c9b5bd8",
   "metadata": {},
   "outputs": [
    {
     "data": {
      "text/plain": [
       "4"
      ]
     },
     "execution_count": 10,
     "metadata": {},
     "output_type": "execute_result"
    }
   ],
   "source": [
    "1+1\n",
    "2+2"
   ]
  },
  {
   "cell_type": "code",
   "execution_count": 11,
   "id": "e0aa2236",
   "metadata": {},
   "outputs": [
    {
     "name": "stdout",
     "output_type": "stream",
     "text": [
      "2 4\n"
     ]
    }
   ],
   "source": [
    "print(1+1, 2+2)"
   ]
  },
  {
   "cell_type": "code",
   "execution_count": 12,
   "id": "a897dca6",
   "metadata": {},
   "outputs": [
    {
     "name": "stdout",
     "output_type": "stream",
     "text": [
      "2 \n",
      " 4\n"
     ]
    }
   ],
   "source": [
    "print(1+1, '\\n', 2+2)"
   ]
  },
  {
   "cell_type": "code",
   "execution_count": 13,
   "id": "c076c6de",
   "metadata": {},
   "outputs": [
    {
     "ename": "SyntaxError",
     "evalue": "EOL while scanning string literal (2580813621.py, line 1)",
     "output_type": "error",
     "traceback": [
      "\u001b[1;36m  File \u001b[1;32m\"C:\\Users\\1270816\\AppData\\Local\\Temp\\ipykernel_26920\\2580813621.py\"\u001b[1;36m, line \u001b[1;32m1\u001b[0m\n\u001b[1;33m    'this is multiline\u001b[0m\n\u001b[1;37m                      ^\u001b[0m\n\u001b[1;31mSyntaxError\u001b[0m\u001b[1;31m:\u001b[0m EOL while scanning string literal\n"
     ]
    }
   ],
   "source": [
    "'this is multiline\n",
    "text'"
   ]
  },
  {
   "cell_type": "code",
   "execution_count": 14,
   "id": "626b2edd",
   "metadata": {},
   "outputs": [
    {
     "data": {
      "text/plain": [
       "'\\nThis \\n        is \\n                a \\nmultiline text\\n'"
      ]
     },
     "execution_count": 14,
     "metadata": {},
     "output_type": "execute_result"
    }
   ],
   "source": [
    "\"\"\"\n",
    "This \n",
    "        is \n",
    "                a \n",
    "multiline text\n",
    "\"\"\""
   ]
  },
  {
   "cell_type": "markdown",
   "id": "ecbf1ebf",
   "metadata": {},
   "source": [
    "This is a plain text"
   ]
  },
  {
   "cell_type": "markdown",
   "id": "e0a14108",
   "metadata": {},
   "source": [
    "# This is a header"
   ]
  },
  {
   "cell_type": "code",
   "execution_count": 15,
   "id": "f5e345e0",
   "metadata": {},
   "outputs": [],
   "source": [
    "# Variable"
   ]
  },
  {
   "cell_type": "code",
   "execution_count": 16,
   "id": "8ac2e549",
   "metadata": {},
   "outputs": [],
   "source": [
    "day = 22\n",
    "month = 'March'"
   ]
  },
  {
   "cell_type": "code",
   "execution_count": 17,
   "id": "7a389e1a",
   "metadata": {},
   "outputs": [
    {
     "name": "stdout",
     "output_type": "stream",
     "text": [
      "22 March\n"
     ]
    }
   ],
   "source": [
    "print(day, month)"
   ]
  },
  {
   "cell_type": "code",
   "execution_count": 18,
   "id": "d58c8a45",
   "metadata": {},
   "outputs": [
    {
     "data": {
      "text/plain": [
       "int"
      ]
     },
     "execution_count": 18,
     "metadata": {},
     "output_type": "execute_result"
    }
   ],
   "source": [
    "type(day)"
   ]
  },
  {
   "cell_type": "code",
   "execution_count": 19,
   "id": "04a004f6",
   "metadata": {},
   "outputs": [
    {
     "data": {
      "text/plain": [
       "str"
      ]
     },
     "execution_count": 19,
     "metadata": {},
     "output_type": "execute_result"
    }
   ],
   "source": [
    "type(month)"
   ]
  },
  {
   "cell_type": "code",
   "execution_count": 20,
   "id": "ce6c55f5",
   "metadata": {},
   "outputs": [],
   "source": [
    "val_1 = 78\n",
    "val_2 = 56"
   ]
  },
  {
   "cell_type": "code",
   "execution_count": 21,
   "id": "c3f28c23",
   "metadata": {},
   "outputs": [
    {
     "data": {
      "text/plain": [
       "False"
      ]
     },
     "execution_count": 21,
     "metadata": {},
     "output_type": "execute_result"
    }
   ],
   "source": [
    "val_1 == val_2"
   ]
  },
  {
   "cell_type": "code",
   "execution_count": 22,
   "id": "7e7764d3",
   "metadata": {},
   "outputs": [],
   "source": [
    "# What happens when we do math operations with strings (Non-Numbers / Alpha Numeric)"
   ]
  },
  {
   "cell_type": "code",
   "execution_count": 23,
   "id": "93b70be0",
   "metadata": {},
   "outputs": [
    {
     "name": "stdout",
     "output_type": "stream",
     "text": [
      "11\n"
     ]
    }
   ],
   "source": [
    "print(5+6)"
   ]
  },
  {
   "cell_type": "code",
   "execution_count": 24,
   "id": "c0ef20d4",
   "metadata": {},
   "outputs": [
    {
     "name": "stdout",
     "output_type": "stream",
     "text": [
      "30\n"
     ]
    }
   ],
   "source": [
    "print(5*6)"
   ]
  },
  {
   "cell_type": "code",
   "execution_count": 25,
   "id": "46773739",
   "metadata": {},
   "outputs": [
    {
     "name": "stdout",
     "output_type": "stream",
     "text": [
      "abcxyz\n"
     ]
    }
   ],
   "source": [
    "print('abc'+'xyz')"
   ]
  },
  {
   "cell_type": "code",
   "execution_count": 26,
   "id": "570ccdad",
   "metadata": {},
   "outputs": [
    {
     "name": "stdout",
     "output_type": "stream",
     "text": [
      "--------------------------------------------------\n"
     ]
    }
   ],
   "source": [
    "print('-'*50)"
   ]
  },
  {
   "cell_type": "code",
   "execution_count": 27,
   "id": "a478b8c0",
   "metadata": {},
   "outputs": [
    {
     "ename": "TypeError",
     "evalue": "unsupported operand type(s) for /: 'str' and 'int'",
     "output_type": "error",
     "traceback": [
      "\u001b[1;31m---------------------------------------------------------------------------\u001b[0m",
      "\u001b[1;31mTypeError\u001b[0m                                 Traceback (most recent call last)",
      "\u001b[1;32m~\\AppData\\Local\\Temp\\ipykernel_26920\\1916942044.py\u001b[0m in \u001b[0;36m<module>\u001b[1;34m\u001b[0m\n\u001b[1;32m----> 1\u001b[1;33m \u001b[1;34m'-'\u001b[0m\u001b[1;33m/\u001b[0m\u001b[1;36m10\u001b[0m\u001b[1;33m\u001b[0m\u001b[1;33m\u001b[0m\u001b[0m\n\u001b[0m",
      "\u001b[1;31mTypeError\u001b[0m: unsupported operand type(s) for /: 'str' and 'int'"
     ]
    }
   ],
   "source": [
    "'-'/10"
   ]
  },
  {
   "cell_type": "code",
   "execution_count": 29,
   "id": "9d497285",
   "metadata": {},
   "outputs": [],
   "source": [
    "# if <condition>:\n",
    "#     <What happen it True>\n",
    "# elif <condition>:\n",
    "#     <What happen it True>\n",
    "# else:\n",
    "#     <What happends if False>"
   ]
  },
  {
   "cell_type": "code",
   "execution_count": 31,
   "id": "e2641cda",
   "metadata": {},
   "outputs": [
    {
     "name": "stdout",
     "output_type": "stream",
     "text": [
      "Val1 > Val2\n"
     ]
    }
   ],
   "source": [
    "if val_1 == val_2:\n",
    "    print('Variales are equal')\n",
    "elif val_1>val_2:\n",
    "    print('Val1 > Val2')"
   ]
  },
  {
   "cell_type": "code",
   "execution_count": 36,
   "id": "938c4a56",
   "metadata": {},
   "outputs": [
    {
     "ename": "IndentationError",
     "evalue": "expected an indented block (3668597680.py, line 5)",
     "output_type": "error",
     "traceback": [
      "\u001b[1;36m  File \u001b[1;32m\"C:\\Users\\1270816\\AppData\\Local\\Temp\\ipykernel_26920\\3668597680.py\"\u001b[1;36m, line \u001b[1;32m5\u001b[0m\n\u001b[1;33m    print('Drive')\u001b[0m\n\u001b[1;37m    ^\u001b[0m\n\u001b[1;31mIndentationError\u001b[0m\u001b[1;31m:\u001b[0m expected an indented block\n"
     ]
    }
   ],
   "source": [
    "# Condition to Check Driving Capability\n",
    "age = 19\n",
    "\n",
    "if age >= 18:\n",
    "print('Drive')\n",
    "elif age >= 16:\n",
    "    print('Can get a Learners')\n",
    "else:\n",
    "    print('Cannot Drive')"
   ]
  },
  {
   "cell_type": "code",
   "execution_count": 37,
   "id": "a0426481",
   "metadata": {},
   "outputs": [
    {
     "name": "stdout",
     "output_type": "stream",
     "text": [
      "Cannot Drive without a License\n"
     ]
    }
   ],
   "source": [
    "age = 19\n",
    "has_a_license = False\n",
    "\n",
    "if age >= 18:\n",
    "    if has_a_license:\n",
    "        print('Drive')\n",
    "    else:\n",
    "        print('Cannot Drive without a License')\n",
    "elif age >= 16:\n",
    "    print('Can get a Learners')\n",
    "else:\n",
    "    print('Cannot Drive')"
   ]
  },
  {
   "cell_type": "code",
   "execution_count": 38,
   "id": "2be0ea6b",
   "metadata": {},
   "outputs": [],
   "source": [
    "# Loop\n",
    "#for <something> in <iterable>:"
   ]
  },
  {
   "cell_type": "code",
   "execution_count": 47,
   "id": "f02203b2",
   "metadata": {},
   "outputs": [],
   "source": [
    "etext = 'python'"
   ]
  },
  {
   "cell_type": "code",
   "execution_count": 42,
   "id": "3f7d35bf",
   "metadata": {},
   "outputs": [
    {
     "name": "stdout",
     "output_type": "stream",
     "text": [
      "P\n",
      "y\n",
      "t\n",
      "h\n",
      "o\n",
      "n\n"
     ]
    }
   ],
   "source": [
    "for x in etext:\n",
    "    print(x)"
   ]
  },
  {
   "cell_type": "code",
   "execution_count": 53,
   "id": "0a162a06",
   "metadata": {},
   "outputs": [],
   "source": [
    "# Strings"
   ]
  },
  {
   "cell_type": "code",
   "execution_count": 43,
   "id": "23905495",
   "metadata": {},
   "outputs": [
    {
     "data": {
      "text/plain": [
       "str"
      ]
     },
     "execution_count": 43,
     "metadata": {},
     "output_type": "execute_result"
    }
   ],
   "source": [
    "type(etext)"
   ]
  },
  {
   "cell_type": "code",
   "execution_count": 44,
   "id": "d3ae4c5e",
   "metadata": {},
   "outputs": [
    {
     "data": {
      "text/plain": [
       "'P'"
      ]
     },
     "execution_count": 44,
     "metadata": {},
     "output_type": "execute_result"
    }
   ],
   "source": [
    "etext[0]"
   ]
  },
  {
   "cell_type": "code",
   "execution_count": 45,
   "id": "52c4af38",
   "metadata": {},
   "outputs": [
    {
     "data": {
      "text/plain": [
       "'h'"
      ]
     },
     "execution_count": 45,
     "metadata": {},
     "output_type": "execute_result"
    }
   ],
   "source": [
    "etext[3]"
   ]
  },
  {
   "cell_type": "code",
   "execution_count": 48,
   "id": "1f5b0418",
   "metadata": {},
   "outputs": [
    {
     "data": {
      "text/plain": [
       "'python'"
      ]
     },
     "execution_count": 48,
     "metadata": {},
     "output_type": "execute_result"
    }
   ],
   "source": [
    "etext"
   ]
  },
  {
   "cell_type": "code",
   "execution_count": 49,
   "id": "2d286978",
   "metadata": {},
   "outputs": [
    {
     "data": {
      "text/plain": [
       "'Python'"
      ]
     },
     "execution_count": 49,
     "metadata": {},
     "output_type": "execute_result"
    }
   ],
   "source": [
    "etext.capitalize()"
   ]
  },
  {
   "cell_type": "code",
   "execution_count": 50,
   "id": "47737a5e",
   "metadata": {},
   "outputs": [
    {
     "data": {
      "text/plain": [
       "'PYTHON'"
      ]
     },
     "execution_count": 50,
     "metadata": {},
     "output_type": "execute_result"
    }
   ],
   "source": [
    "etext.upper()"
   ]
  },
  {
   "cell_type": "code",
   "execution_count": 52,
   "id": "8571a408",
   "metadata": {},
   "outputs": [
    {
     "data": {
      "text/plain": [
       "True"
      ]
     },
     "execution_count": 52,
     "metadata": {},
     "output_type": "execute_result"
    }
   ],
   "source": [
    "etext.startswith('p')"
   ]
  }
 ],
 "metadata": {
  "kernelspec": {
   "display_name": "Python 3 (ipykernel)",
   "language": "python",
   "name": "python3"
  },
  "language_info": {
   "codemirror_mode": {
    "name": "ipython",
    "version": 3
   },
   "file_extension": ".py",
   "mimetype": "text/x-python",
   "name": "python",
   "nbconvert_exporter": "python",
   "pygments_lexer": "ipython3",
   "version": "3.9.13"
  }
 },
 "nbformat": 4,
 "nbformat_minor": 5
}
