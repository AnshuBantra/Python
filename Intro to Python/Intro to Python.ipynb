{
 "cells": [
  {
   "cell_type": "code",
   "execution_count": 1,
   "id": "2e1b40d2",
   "metadata": {},
   "outputs": [
    {
     "data": {
      "text/plain": [
       "89"
      ]
     },
     "execution_count": 1,
     "metadata": {},
     "output_type": "execute_result"
    }
   ],
   "source": [
    "89"
   ]
  },
  {
   "cell_type": "code",
   "execution_count": 3,
   "id": "0bd6045b",
   "metadata": {},
   "outputs": [],
   "source": [
    "age = 89"
   ]
  },
  {
   "cell_type": "code",
   "execution_count": 4,
   "id": "aa376659",
   "metadata": {},
   "outputs": [
    {
     "name": "stdout",
     "output_type": "stream",
     "text": [
      "89\n"
     ]
    }
   ],
   "source": [
    "print(age)"
   ]
  },
  {
   "cell_type": "code",
   "execution_count": 5,
   "id": "470b6364",
   "metadata": {},
   "outputs": [
    {
     "name": "stdout",
     "output_type": "stream",
     "text": [
      "Anshu 800 Melbourne\n",
      "My name is Anshu  and I live in Melbourne\n"
     ]
    }
   ],
   "source": [
    "name = 'Anshu'\n",
    "age = '800'\n",
    "location = 'Melbourne'\n",
    "\n",
    "print(name, age, location)\n",
    "\n",
    "print('My name is', name, ' and I live in', location)"
   ]
  },
  {
   "cell_type": "code",
   "execution_count": 7,
   "id": "55e66213",
   "metadata": {},
   "outputs": [],
   "source": [
    "# I am going to talk about the below\n",
    "# Lists = [ ]\n",
    "# Dictionaries = { }"
   ]
  },
  {
   "cell_type": "code",
   "execution_count": null,
   "id": "a4a3e2c5",
   "metadata": {},
   "outputs": [],
   "source": [
    "person1 = 'abc'\n",
    "person1_score = 12\n",
    "\n",
    "person2='xyz'\n",
    "person2_score = 34"
   ]
  },
  {
   "cell_type": "code",
   "execution_count": 8,
   "id": "a8de836d",
   "metadata": {},
   "outputs": [],
   "source": [
    "name_list = ['abc', 'dfg', 'ghj', 'zys', 'xyz']"
   ]
  },
  {
   "cell_type": "code",
   "execution_count": 9,
   "id": "d92cb649",
   "metadata": {},
   "outputs": [
    {
     "name": "stdout",
     "output_type": "stream",
     "text": [
      "['abc', 'dfg', 'ghj', 'zys', 'xyz']\n"
     ]
    }
   ],
   "source": [
    "print(name_list)"
   ]
  },
  {
   "cell_type": "code",
   "execution_count": 10,
   "id": "62344005",
   "metadata": {},
   "outputs": [
    {
     "data": {
      "text/plain": [
       "'abc'"
      ]
     },
     "execution_count": 10,
     "metadata": {},
     "output_type": "execute_result"
    }
   ],
   "source": [
    "name_list[0]"
   ]
  },
  {
   "cell_type": "code",
   "execution_count": 11,
   "id": "7068118e",
   "metadata": {},
   "outputs": [],
   "source": [
    "emp_dict = {1001:'Ajay', 1002:'Dan', 1003:'Julia', 1004:'Sam'}"
   ]
  },
  {
   "cell_type": "code",
   "execution_count": 12,
   "id": "fd16f783",
   "metadata": {},
   "outputs": [
    {
     "name": "stdout",
     "output_type": "stream",
     "text": [
      "{1001: 'Ajay', 1002: 'Dan', 1003: 'Julia', 1004: 'Sam'}\n"
     ]
    }
   ],
   "source": [
    "print(emp_dict)"
   ]
  },
  {
   "cell_type": "code",
   "execution_count": 13,
   "id": "0aa888fe",
   "metadata": {},
   "outputs": [
    {
     "ename": "KeyError",
     "evalue": "0",
     "output_type": "error",
     "traceback": [
      "\u001b[1;31m---------------------------------------------------------------------------\u001b[0m",
      "\u001b[1;31mKeyError\u001b[0m                                  Traceback (most recent call last)",
      "Cell \u001b[1;32mIn [13], line 1\u001b[0m\n\u001b[1;32m----> 1\u001b[0m \u001b[43memp_dict\u001b[49m\u001b[43m[\u001b[49m\u001b[38;5;241;43m0\u001b[39;49m\u001b[43m]\u001b[49m\n",
      "\u001b[1;31mKeyError\u001b[0m: 0"
     ]
    }
   ],
   "source": [
    "emp_dict[0]"
   ]
  },
  {
   "cell_type": "code",
   "execution_count": 14,
   "id": "8734f9dd",
   "metadata": {},
   "outputs": [
    {
     "data": {
      "text/plain": [
       "'Sam'"
      ]
     },
     "execution_count": 14,
     "metadata": {},
     "output_type": "execute_result"
    }
   ],
   "source": [
    "emp_dict[1004]"
   ]
  },
  {
   "cell_type": "code",
   "execution_count": 15,
   "id": "2cd658c0",
   "metadata": {},
   "outputs": [
    {
     "name": "stdout",
     "output_type": "stream",
     "text": [
      "This person cannot drive\n"
     ]
    }
   ],
   "source": [
    "# use Age to access if the person can drive motor vehicle\n",
    "age = 14\n",
    "print('This person cannot drive')"
   ]
  },
  {
   "cell_type": "code",
   "execution_count": 16,
   "id": "7914bdea",
   "metadata": {},
   "outputs": [],
   "source": [
    "if age >= 18 :\n",
    "    print('This person can drive')"
   ]
  },
  {
   "cell_type": "code",
   "execution_count": 17,
   "id": "c9732b13",
   "metadata": {},
   "outputs": [
    {
     "name": "stdout",
     "output_type": "stream",
     "text": [
      "This person can drive\n"
     ]
    }
   ],
   "source": [
    "age = 34\n",
    "if age >= 18 :\n",
    "    print('This person can drive')"
   ]
  },
  {
   "cell_type": "code",
   "execution_count": 19,
   "id": "1827c18e",
   "metadata": {},
   "outputs": [
    {
     "name": "stdout",
     "output_type": "stream",
     "text": [
      "This person cannot drive\n"
     ]
    }
   ],
   "source": [
    "age = 14\n",
    "if age >= 18 :\n",
    "    print('This person can drive')\n",
    "else:\n",
    "    print('This person cannot drive')"
   ]
  },
  {
   "cell_type": "code",
   "execution_count": 21,
   "id": "d5f7922b",
   "metadata": {},
   "outputs": [
    {
     "name": "stdout",
     "output_type": "stream",
     "text": [
      "This person can drive\n",
      "---------------------\n",
      "*********************\n"
     ]
    }
   ],
   "source": [
    "age = 24\n",
    "if age >= 18 :\n",
    "    print('This person can drive')\n",
    "    print('---------------------')\n",
    "    print('*********************')\n",
    "else:\n",
    "    print('This person cannot drive')"
   ]
  },
  {
   "cell_type": "code",
   "execution_count": 22,
   "id": "3d4fe7eb",
   "metadata": {},
   "outputs": [
    {
     "name": "stdout",
     "output_type": "stream",
     "text": [
      "This person cannot drive\n"
     ]
    }
   ],
   "source": [
    "age = 4\n",
    "if age >= 18 :\n",
    "    print('This person can drive')\n",
    "    print('---------------------')\n",
    "    print('*********************')\n",
    "elif age >= 16 :\n",
    "    print('This person can drive, but not alone, only with an experienced driver')\n",
    "    print('---------------------')\n",
    "    print('*********************')\n",
    "else:\n",
    "    print('This person cannot drive')"
   ]
  },
  {
   "cell_type": "code",
   "execution_count": 23,
   "id": "53214c54",
   "metadata": {},
   "outputs": [
    {
     "name": "stdout",
     "output_type": "stream",
     "text": [
      "This person can drive, but not alone, only with an experienced driver\n",
      "---------------------\n",
      "*********************\n"
     ]
    }
   ],
   "source": [
    "age = 17\n",
    "if age >= 18 :\n",
    "    print('This person can drive')\n",
    "    print('---------------------')\n",
    "    print('*********************')\n",
    "elif age >= 16 :\n",
    "    print('This person can drive, but not alone, only with an experienced driver')\n",
    "    print('---------------------')\n",
    "    print('*********************')\n",
    "else:\n",
    "    print('This person cannot drive')"
   ]
  },
  {
   "cell_type": "code",
   "execution_count": 24,
   "id": "76c5e674",
   "metadata": {},
   "outputs": [
    {
     "name": "stdout",
     "output_type": "stream",
     "text": [
      "This person can drive\n",
      "---------------------\n",
      "*********************\n"
     ]
    }
   ],
   "source": [
    "age = 56\n",
    "if age >= 18 :\n",
    "    print('This person can drive')\n",
    "    print('---------------------')\n",
    "    print('*********************')\n",
    "elif age >= 16 :\n",
    "    print('This person can drive, but not alone, only with an experienced driver')\n",
    "    print('---------------------')\n",
    "    print('*********************')\n",
    "else:\n",
    "    print('This person cannot drive')"
   ]
  },
  {
   "cell_type": "code",
   "execution_count": 25,
   "id": "02362487",
   "metadata": {},
   "outputs": [],
   "source": [
    "num_list = [1, 34, 23, 4, 56, 78, 16, 10]"
   ]
  },
  {
   "cell_type": "code",
   "execution_count": 26,
   "id": "04d2ec26",
   "metadata": {},
   "outputs": [
    {
     "name": "stdout",
     "output_type": "stream",
     "text": [
      "[1, 34, 23, 4, 56, 78, 16, 10]\n"
     ]
    }
   ],
   "source": [
    "print(num_list)"
   ]
  },
  {
   "cell_type": "code",
   "execution_count": 27,
   "id": "773697e8",
   "metadata": {},
   "outputs": [
    {
     "ename": "TypeError",
     "evalue": "'>=' not supported between instances of 'list' and 'int'",
     "output_type": "error",
     "traceback": [
      "\u001b[1;31m---------------------------------------------------------------------------\u001b[0m",
      "\u001b[1;31mTypeError\u001b[0m                                 Traceback (most recent call last)",
      "Cell \u001b[1;32mIn [27], line 1\u001b[0m\n\u001b[1;32m----> 1\u001b[0m \u001b[38;5;28;01mif\u001b[39;00m \u001b[43mnum_list\u001b[49m\u001b[43m \u001b[49m\u001b[38;5;241;43m>\u001b[39;49m\u001b[38;5;241;43m=\u001b[39;49m\u001b[43m \u001b[49m\u001b[38;5;241;43m18\u001b[39;49m :\n\u001b[0;32m      2\u001b[0m     \u001b[38;5;28mprint\u001b[39m(\u001b[38;5;124m'\u001b[39m\u001b[38;5;124mThis person can drive\u001b[39m\u001b[38;5;124m'\u001b[39m)\n\u001b[0;32m      3\u001b[0m     \u001b[38;5;28mprint\u001b[39m(\u001b[38;5;124m'\u001b[39m\u001b[38;5;124m---------------------\u001b[39m\u001b[38;5;124m'\u001b[39m)\n",
      "\u001b[1;31mTypeError\u001b[0m: '>=' not supported between instances of 'list' and 'int'"
     ]
    }
   ],
   "source": [
    "if num_list >= 18 :\n",
    "    print('This person can drive')\n",
    "    print('---------------------')\n",
    "    print('*********************')\n",
    "elif num_list >= 16 :\n",
    "    print('This person can drive, but not alone, only with an experienced driver')\n",
    "    print('---------------------')\n",
    "    print('*********************')\n",
    "else:\n",
    "    print('This person cannot drive')"
   ]
  },
  {
   "cell_type": "code",
   "execution_count": 28,
   "id": "93d6e4ef",
   "metadata": {},
   "outputs": [],
   "source": [
    "#Loops"
   ]
  },
  {
   "cell_type": "code",
   "execution_count": 29,
   "id": "5f0cb341",
   "metadata": {},
   "outputs": [
    {
     "name": "stdout",
     "output_type": "stream",
     "text": [
      "1\n",
      "34\n",
      "23\n",
      "4\n",
      "56\n",
      "78\n",
      "16\n",
      "10\n"
     ]
    }
   ],
   "source": [
    "for x in num_list:\n",
    "    print(x)"
   ]
  },
  {
   "cell_type": "code",
   "execution_count": 30,
   "id": "d1b86738",
   "metadata": {},
   "outputs": [
    {
     "name": "stdout",
     "output_type": "stream",
     "text": [
      "1 This person cannot drive\n",
      "34 This person can drive\n",
      "23 This person can drive\n",
      "4 This person cannot drive\n",
      "56 This person can drive\n",
      "78 This person can drive\n",
      "16 This person can drive, but not alone, only with an experienced driver\n",
      "10 This person cannot drive\n"
     ]
    }
   ],
   "source": [
    "for num in num_list:\n",
    "    if num >= 18 :\n",
    "        print(num, 'This person can drive')\n",
    "    elif num >= 16 :\n",
    "        print(num, 'This person can drive, but not alone, only with an experienced driver')\n",
    "    else:\n",
    "        print(num, 'This person cannot drive')"
   ]
  },
  {
   "cell_type": "code",
   "execution_count": 31,
   "id": "5e2ae783",
   "metadata": {},
   "outputs": [
    {
     "name": "stdout",
     "output_type": "stream",
     "text": [
      "3\n"
     ]
    }
   ],
   "source": [
    "print(3)"
   ]
  },
  {
   "cell_type": "code",
   "execution_count": 32,
   "id": "cf81e141",
   "metadata": {},
   "outputs": [
    {
     "name": "stdout",
     "output_type": "stream",
     "text": [
      "[1, 34, 23, 4, 56, 78, 16, 10]\n"
     ]
    }
   ],
   "source": [
    "print(num_list)"
   ]
  },
  {
   "cell_type": "code",
   "execution_count": 34,
   "id": "1689d97a",
   "metadata": {},
   "outputs": [
    {
     "name": "stdout",
     "output_type": "stream",
     "text": [
      "I am  56 years old\n"
     ]
    }
   ],
   "source": [
    "print('I am ', age, 'years old' )"
   ]
  },
  {
   "cell_type": "code",
   "execution_count": 35,
   "id": "4a8c9261",
   "metadata": {},
   "outputs": [
    {
     "name": "stdout",
     "output_type": "stream",
     "text": [
      "1 This person cannot drive\n",
      "Person who is 34 years old can drive\n",
      "Person who is 23 years old can drive\n",
      "4 This person cannot drive\n",
      "Person who is 56 years old can drive\n",
      "Person who is 78 years old can drive\n",
      "16 This person can drive, but not alone, only with an experienced driver\n",
      "10 This person cannot drive\n"
     ]
    }
   ],
   "source": [
    "for num in num_list:\n",
    "    if num >= 18 :\n",
    "        print('Person who is', num, 'years old', 'can drive')\n",
    "    elif num >= 16 :\n",
    "        print(num, 'This person can drive, but not alone, only with an experienced driver')\n",
    "    else:\n",
    "        print(num, 'This person cannot drive')"
   ]
  },
  {
   "cell_type": "code",
   "execution_count": 36,
   "id": "93efa324",
   "metadata": {},
   "outputs": [
    {
     "data": {
      "text/plain": [
       "56"
      ]
     },
     "execution_count": 36,
     "metadata": {},
     "output_type": "execute_result"
    }
   ],
   "source": [
    "age"
   ]
  },
  {
   "cell_type": "code",
   "execution_count": 37,
   "id": "4aa4809b",
   "metadata": {},
   "outputs": [],
   "source": [
    "age = 24"
   ]
  },
  {
   "cell_type": "code",
   "execution_count": 38,
   "id": "0a348185",
   "metadata": {},
   "outputs": [
    {
     "data": {
      "text/plain": [
       "24"
      ]
     },
     "execution_count": 38,
     "metadata": {},
     "output_type": "execute_result"
    }
   ],
   "source": [
    "age"
   ]
  },
  {
   "cell_type": "code",
   "execution_count": 39,
   "id": "36584ca7",
   "metadata": {},
   "outputs": [
    {
     "name": "stdout",
     "output_type": "stream",
     "text": [
      "1\n",
      "34\n",
      "23\n",
      "4\n",
      "56\n",
      "78\n",
      "16\n",
      "10\n"
     ]
    }
   ],
   "source": [
    "for num in num_list:\n",
    "    print(num)"
   ]
  },
  {
   "cell_type": "code",
   "execution_count": 41,
   "id": "f277d534",
   "metadata": {},
   "outputs": [
    {
     "name": "stdout",
     "output_type": "stream",
     "text": [
      "1 11\n",
      "34 34\n",
      "23 23\n",
      "4 14\n",
      "56 56\n",
      "78 78\n",
      "16 16\n",
      "10 20\n"
     ]
    }
   ],
   "source": [
    "for age in num_list:\n",
    "    if age >= 18:\n",
    "        print(age, age)\n",
    "    elif age >= 16:\n",
    "        print(age, age)\n",
    "    else:\n",
    "        print(age, age+10)"
   ]
  },
  {
   "cell_type": "code",
   "execution_count": 42,
   "id": "bd2f3954",
   "metadata": {},
   "outputs": [
    {
     "data": {
      "text/plain": [
       "10"
      ]
     },
     "execution_count": 42,
     "metadata": {},
     "output_type": "execute_result"
    }
   ],
   "source": [
    "age"
   ]
  },
  {
   "cell_type": "code",
   "execution_count": 43,
   "id": "72bb09af",
   "metadata": {},
   "outputs": [],
   "source": [
    "age = ''"
   ]
  },
  {
   "cell_type": "code",
   "execution_count": 44,
   "id": "5638b453",
   "metadata": {},
   "outputs": [
    {
     "data": {
      "text/plain": [
       "''"
      ]
     },
     "execution_count": 44,
     "metadata": {},
     "output_type": "execute_result"
    }
   ],
   "source": [
    "age"
   ]
  },
  {
   "cell_type": "code",
   "execution_count": 45,
   "id": "eb7fe1cf",
   "metadata": {},
   "outputs": [
    {
     "name": "stdout",
     "output_type": "stream",
     "text": [
      "Hello everyone\n"
     ]
    }
   ],
   "source": [
    "print('Hello everyone')"
   ]
  },
  {
   "cell_type": "code",
   "execution_count": 46,
   "id": "3b688b8c",
   "metadata": {},
   "outputs": [
    {
     "data": {
      "text/plain": [
       "str"
      ]
     },
     "execution_count": 46,
     "metadata": {},
     "output_type": "execute_result"
    }
   ],
   "source": [
    "type(age)"
   ]
  },
  {
   "cell_type": "code",
   "execution_count": 47,
   "id": "2fa2420b",
   "metadata": {},
   "outputs": [
    {
     "data": {
      "text/plain": [
       "list"
      ]
     },
     "execution_count": 47,
     "metadata": {},
     "output_type": "execute_result"
    }
   ],
   "source": [
    "type(num_list)"
   ]
  },
  {
   "cell_type": "code",
   "execution_count": 48,
   "id": "dc4c234f",
   "metadata": {},
   "outputs": [],
   "source": [
    "age = 19"
   ]
  },
  {
   "cell_type": "code",
   "execution_count": 49,
   "id": "d8ac34bb",
   "metadata": {},
   "outputs": [
    {
     "data": {
      "text/plain": [
       "int"
      ]
     },
     "execution_count": 49,
     "metadata": {},
     "output_type": "execute_result"
    }
   ],
   "source": [
    "type(age)"
   ]
  },
  {
   "cell_type": "code",
   "execution_count": 50,
   "id": "493e2ab6",
   "metadata": {},
   "outputs": [],
   "source": [
    "def print_msg():\n",
    "    print('Hello all')"
   ]
  },
  {
   "cell_type": "code",
   "execution_count": 53,
   "id": "9fdaa76e",
   "metadata": {},
   "outputs": [
    {
     "name": "stdout",
     "output_type": "stream",
     "text": [
      "Hello all\n"
     ]
    }
   ],
   "source": [
    "print_msg()"
   ]
  },
  {
   "cell_type": "code",
   "execution_count": 54,
   "id": "f7698a2a",
   "metadata": {},
   "outputs": [],
   "source": [
    "def licence_age( age ):\n",
    "    print(age)"
   ]
  },
  {
   "cell_type": "code",
   "execution_count": 55,
   "id": "441513fe",
   "metadata": {},
   "outputs": [
    {
     "ename": "TypeError",
     "evalue": "licence_age() missing 1 required positional argument: 'age'",
     "output_type": "error",
     "traceback": [
      "\u001b[1;31m---------------------------------------------------------------------------\u001b[0m",
      "\u001b[1;31mTypeError\u001b[0m                                 Traceback (most recent call last)",
      "Cell \u001b[1;32mIn [55], line 1\u001b[0m\n\u001b[1;32m----> 1\u001b[0m \u001b[43mlicence_age\u001b[49m\u001b[43m(\u001b[49m\u001b[43m)\u001b[49m\n",
      "\u001b[1;31mTypeError\u001b[0m: licence_age() missing 1 required positional argument: 'age'"
     ]
    }
   ],
   "source": [
    "licence_age()"
   ]
  },
  {
   "cell_type": "code",
   "execution_count": 56,
   "id": "6b6350cf",
   "metadata": {},
   "outputs": [
    {
     "name": "stdout",
     "output_type": "stream",
     "text": [
      "56\n"
     ]
    }
   ],
   "source": [
    "licence_age(56)"
   ]
  },
  {
   "cell_type": "code",
   "execution_count": 57,
   "id": "d3ef9bbd",
   "metadata": {},
   "outputs": [
    {
     "name": "stdout",
     "output_type": "stream",
     "text": [
      "23\n"
     ]
    }
   ],
   "source": [
    "licence_age(23)"
   ]
  },
  {
   "cell_type": "code",
   "execution_count": 60,
   "id": "af27111a",
   "metadata": {},
   "outputs": [],
   "source": [
    "def licence_age( num ):\n",
    "    if num >= 18 :\n",
    "        print('Person who is', num, 'years old', 'can drive')\n",
    "    elif num >= 16 :\n",
    "        print(num, 'This person can drive, but not alone, only with an experienced driver')\n",
    "    else:\n",
    "        print(num, 'This person cannot drive')"
   ]
  },
  {
   "cell_type": "code",
   "execution_count": 61,
   "id": "d271a040",
   "metadata": {},
   "outputs": [
    {
     "name": "stdout",
     "output_type": "stream",
     "text": [
      "12 This person cannot drive\n"
     ]
    }
   ],
   "source": [
    "licence_age(12)"
   ]
  },
  {
   "cell_type": "code",
   "execution_count": 62,
   "id": "ff3f7f03",
   "metadata": {},
   "outputs": [
    {
     "name": "stdout",
     "output_type": "stream",
     "text": [
      "Person who is 24 years old can drive\n"
     ]
    }
   ],
   "source": [
    "licence_age(24)"
   ]
  },
  {
   "cell_type": "code",
   "execution_count": 63,
   "id": "6031199e",
   "metadata": {},
   "outputs": [
    {
     "name": "stdout",
     "output_type": "stream",
     "text": [
      "16 This person can drive, but not alone, only with an experienced driver\n"
     ]
    }
   ],
   "source": [
    "licence_age(16)"
   ]
  },
  {
   "cell_type": "code",
   "execution_count": 66,
   "id": "ae235323",
   "metadata": {},
   "outputs": [],
   "source": [
    "def int_calc( amount ):\n",
    "    print( amount * 0.05 )"
   ]
  },
  {
   "cell_type": "code",
   "execution_count": 67,
   "id": "ef0f4316",
   "metadata": {},
   "outputs": [
    {
     "name": "stdout",
     "output_type": "stream",
     "text": [
      "3.5\n"
     ]
    }
   ],
   "source": [
    "int_calc(70)"
   ]
  },
  {
   "cell_type": "code",
   "execution_count": 68,
   "id": "a1c05872",
   "metadata": {},
   "outputs": [],
   "source": [
    "def int_calc( amount, rate ):\n",
    "    print( amount * rate )"
   ]
  },
  {
   "cell_type": "code",
   "execution_count": 69,
   "id": "d897865e",
   "metadata": {},
   "outputs": [
    {
     "name": "stdout",
     "output_type": "stream",
     "text": [
      "60.0\n"
     ]
    }
   ],
   "source": [
    "int_calc( 2000, 0.03)"
   ]
  },
  {
   "cell_type": "code",
   "execution_count": 70,
   "id": "f1d121ed",
   "metadata": {},
   "outputs": [
    {
     "name": "stdout",
     "output_type": "stream",
     "text": [
      "60.0\n"
     ]
    }
   ],
   "source": [
    "var1 = int_calc( 2000, 0.03)"
   ]
  },
  {
   "cell_type": "code",
   "execution_count": 71,
   "id": "99373a70",
   "metadata": {},
   "outputs": [],
   "source": [
    "var1"
   ]
  },
  {
   "cell_type": "code",
   "execution_count": 72,
   "id": "f0b9fb74",
   "metadata": {},
   "outputs": [],
   "source": [
    "def int_calc_1( amount, rate ):\n",
    "    return( amount * rate )"
   ]
  },
  {
   "cell_type": "code",
   "execution_count": 73,
   "id": "e9d4d9e8",
   "metadata": {},
   "outputs": [
    {
     "data": {
      "text/plain": [
       "60.0"
      ]
     },
     "execution_count": 73,
     "metadata": {},
     "output_type": "execute_result"
    }
   ],
   "source": [
    "int_calc_1( 2000, 0.03)"
   ]
  },
  {
   "cell_type": "code",
   "execution_count": 74,
   "id": "27e3afdf",
   "metadata": {},
   "outputs": [],
   "source": [
    "var2 = int_calc_1( 2000, 0.03)"
   ]
  },
  {
   "cell_type": "code",
   "execution_count": 75,
   "id": "e41c401c",
   "metadata": {},
   "outputs": [
    {
     "data": {
      "text/plain": [
       "60.0"
      ]
     },
     "execution_count": 75,
     "metadata": {},
     "output_type": "execute_result"
    }
   ],
   "source": [
    "var2"
   ]
  },
  {
   "cell_type": "code",
   "execution_count": 76,
   "id": "eed224c1",
   "metadata": {},
   "outputs": [
    {
     "data": {
      "text/plain": [
       "[1, 34, 23, 4, 56, 78, 16, 10]"
      ]
     },
     "execution_count": 76,
     "metadata": {},
     "output_type": "execute_result"
    }
   ],
   "source": [
    "num_list"
   ]
  },
  {
   "cell_type": "code",
   "execution_count": 77,
   "id": "3cc9beb3",
   "metadata": {},
   "outputs": [
    {
     "data": {
      "text/plain": [
       "222"
      ]
     },
     "execution_count": 77,
     "metadata": {},
     "output_type": "execute_result"
    }
   ],
   "source": [
    "sum(num_list)"
   ]
  },
  {
   "cell_type": "code",
   "execution_count": 78,
   "id": "1c4bb960",
   "metadata": {},
   "outputs": [
    {
     "ename": "NameError",
     "evalue": "name 'mean' is not defined",
     "output_type": "error",
     "traceback": [
      "\u001b[1;31m---------------------------------------------------------------------------\u001b[0m",
      "\u001b[1;31mNameError\u001b[0m                                 Traceback (most recent call last)",
      "Cell \u001b[1;32mIn [78], line 1\u001b[0m\n\u001b[1;32m----> 1\u001b[0m \u001b[43mmean\u001b[49m(num_list)\n",
      "\u001b[1;31mNameError\u001b[0m: name 'mean' is not defined"
     ]
    }
   ],
   "source": [
    "mean(num_list)"
   ]
  },
  {
   "cell_type": "code",
   "execution_count": 79,
   "id": "53be9f06",
   "metadata": {},
   "outputs": [],
   "source": [
    "def avg( lst ):\n",
    "    return sum(lst ) / len(lst)"
   ]
  },
  {
   "cell_type": "code",
   "execution_count": 80,
   "id": "0e8ee05d",
   "metadata": {},
   "outputs": [
    {
     "data": {
      "text/plain": [
       "27.75"
      ]
     },
     "execution_count": 80,
     "metadata": {},
     "output_type": "execute_result"
    }
   ],
   "source": [
    "avg(num_list)"
   ]
  },
  {
   "cell_type": "code",
   "execution_count": 81,
   "id": "3f306ebc",
   "metadata": {},
   "outputs": [
    {
     "name": "stdout",
     "output_type": "stream",
     "text": [
      "Requirement already satisfied: numpy in c:\\users\\1270816\\anaconda3\\lib\\site-packages (1.21.5)\n"
     ]
    },
    {
     "name": "stderr",
     "output_type": "stream",
     "text": [
      "Error processing line 3 of C:\\Users\\1270816\\Anaconda3\\lib\\site-packages\\googleapis_common_protos-1.56.4-py3.10-nspkg.pth:\n",
      "\n",
      "  Traceback (most recent call last):\n",
      "    File \"C:\\Users\\1270816\\Anaconda3\\lib\\site.py\", line 169, in addpackage\n",
      "      exec(line)\n",
      "    File \"<string>\", line 1, in <module>\n",
      "    File \"<frozen importlib._bootstrap>\", line 562, in module_from_spec\n",
      "  AttributeError: 'NoneType' object has no attribute 'loader'\n",
      "\n",
      "Remainder of file ignored\n"
     ]
    }
   ],
   "source": [
    "!pip install numpy"
   ]
  },
  {
   "cell_type": "code",
   "execution_count": 82,
   "id": "8e07acad",
   "metadata": {},
   "outputs": [
    {
     "ename": "NameError",
     "evalue": "name 'numpy' is not defined",
     "output_type": "error",
     "traceback": [
      "\u001b[1;31m---------------------------------------------------------------------------\u001b[0m",
      "\u001b[1;31mNameError\u001b[0m                                 Traceback (most recent call last)",
      "Cell \u001b[1;32mIn [82], line 1\u001b[0m\n\u001b[1;32m----> 1\u001b[0m \u001b[43mnumpy\u001b[49m\n",
      "\u001b[1;31mNameError\u001b[0m: name 'numpy' is not defined"
     ]
    }
   ],
   "source": [
    "numpy"
   ]
  },
  {
   "cell_type": "code",
   "execution_count": 83,
   "id": "f2016bf5",
   "metadata": {},
   "outputs": [],
   "source": [
    "import numpy as np"
   ]
  },
  {
   "cell_type": "code",
   "execution_count": 84,
   "id": "b3b793fa",
   "metadata": {},
   "outputs": [
    {
     "data": {
      "text/plain": [
       "27.75"
      ]
     },
     "execution_count": 84,
     "metadata": {},
     "output_type": "execute_result"
    }
   ],
   "source": [
    "np.mean(num_list)"
   ]
  },
  {
   "cell_type": "code",
   "execution_count": 85,
   "id": "ec41f52e",
   "metadata": {},
   "outputs": [],
   "source": [
    "import pandas as pd"
   ]
  },
  {
   "cell_type": "code",
   "execution_count": 86,
   "id": "69bae59a",
   "metadata": {},
   "outputs": [
    {
     "data": {
      "text/plain": [
       "30.0"
      ]
     },
     "execution_count": 86,
     "metadata": {},
     "output_type": "execute_result"
    }
   ],
   "source": [
    "np.mean([20,30,40])"
   ]
  },
  {
   "cell_type": "code",
   "execution_count": 87,
   "id": "a3a96ddf",
   "metadata": {},
   "outputs": [],
   "source": [
    "path ='https://people.sc.fsu.edu/~jburkardt/data/csv/addresses.csv'"
   ]
  },
  {
   "cell_type": "code",
   "execution_count": 88,
   "id": "2e819cda",
   "metadata": {},
   "outputs": [],
   "source": [
    "address = pd.read_csv(path)"
   ]
  },
  {
   "cell_type": "code",
   "execution_count": 89,
   "id": "93edafaa",
   "metadata": {},
   "outputs": [
    {
     "data": {
      "text/html": [
       "<div>\n",
       "<style scoped>\n",
       "    .dataframe tbody tr th:only-of-type {\n",
       "        vertical-align: middle;\n",
       "    }\n",
       "\n",
       "    .dataframe tbody tr th {\n",
       "        vertical-align: top;\n",
       "    }\n",
       "\n",
       "    .dataframe thead th {\n",
       "        text-align: right;\n",
       "    }\n",
       "</style>\n",
       "<table border=\"1\" class=\"dataframe\">\n",
       "  <thead>\n",
       "    <tr style=\"text-align: right;\">\n",
       "      <th></th>\n",
       "      <th>John</th>\n",
       "      <th>Doe</th>\n",
       "      <th>120 jefferson st.</th>\n",
       "      <th>Riverside</th>\n",
       "      <th>NJ</th>\n",
       "      <th>08075</th>\n",
       "    </tr>\n",
       "  </thead>\n",
       "  <tbody>\n",
       "    <tr>\n",
       "      <th>0</th>\n",
       "      <td>Jack</td>\n",
       "      <td>McGinnis</td>\n",
       "      <td>220 hobo Av.</td>\n",
       "      <td>Phila</td>\n",
       "      <td>PA</td>\n",
       "      <td>9119</td>\n",
       "    </tr>\n",
       "    <tr>\n",
       "      <th>1</th>\n",
       "      <td>John \"Da Man\"</td>\n",
       "      <td>Repici</td>\n",
       "      <td>120 Jefferson St.</td>\n",
       "      <td>Riverside</td>\n",
       "      <td>NJ</td>\n",
       "      <td>8075</td>\n",
       "    </tr>\n",
       "    <tr>\n",
       "      <th>2</th>\n",
       "      <td>Stephen</td>\n",
       "      <td>Tyler</td>\n",
       "      <td>7452 Terrace \"At the Plaza\" road</td>\n",
       "      <td>SomeTown</td>\n",
       "      <td>SD</td>\n",
       "      <td>91234</td>\n",
       "    </tr>\n",
       "    <tr>\n",
       "      <th>3</th>\n",
       "      <td>NaN</td>\n",
       "      <td>Blankman</td>\n",
       "      <td>NaN</td>\n",
       "      <td>SomeTown</td>\n",
       "      <td>SD</td>\n",
       "      <td>298</td>\n",
       "    </tr>\n",
       "    <tr>\n",
       "      <th>4</th>\n",
       "      <td>Joan \"the bone\", Anne</td>\n",
       "      <td>Jet</td>\n",
       "      <td>9th, at Terrace plc</td>\n",
       "      <td>Desert City</td>\n",
       "      <td>CO</td>\n",
       "      <td>123</td>\n",
       "    </tr>\n",
       "  </tbody>\n",
       "</table>\n",
       "</div>"
      ],
      "text/plain": [
       "                    John       Doe                 120 jefferson st.  \\\n",
       "0                   Jack  McGinnis                      220 hobo Av.   \n",
       "1          John \"Da Man\"    Repici                 120 Jefferson St.   \n",
       "2                Stephen     Tyler  7452 Terrace \"At the Plaza\" road   \n",
       "3                    NaN  Blankman                               NaN   \n",
       "4  Joan \"the bone\", Anne       Jet               9th, at Terrace plc   \n",
       "\n",
       "     Riverside   NJ   08075  \n",
       "0        Phila   PA    9119  \n",
       "1    Riverside   NJ    8075  \n",
       "2     SomeTown   SD   91234  \n",
       "3     SomeTown   SD     298  \n",
       "4  Desert City   CO     123  "
      ]
     },
     "execution_count": 89,
     "metadata": {},
     "output_type": "execute_result"
    }
   ],
   "source": [
    "address"
   ]
  },
  {
   "cell_type": "code",
   "execution_count": 90,
   "id": "a2d61c87",
   "metadata": {},
   "outputs": [
    {
     "data": {
      "text/plain": [
       "Riverside\n",
       "SomeTown       2\n",
       "Desert City    1\n",
       "Phila          1\n",
       "Riverside      1\n",
       "dtype: int64"
      ]
     },
     "execution_count": 90,
     "metadata": {},
     "output_type": "execute_result"
    }
   ],
   "source": [
    "address.value_counts('Riverside')"
   ]
  },
  {
   "cell_type": "code",
   "execution_count": 91,
   "id": "0a691ffa",
   "metadata": {},
   "outputs": [
    {
     "data": {
      "text/plain": [
       "<AxesSubplot:xlabel='Riverside'>"
      ]
     },
     "execution_count": 91,
     "metadata": {},
     "output_type": "execute_result"
    },
    {
     "data": {
      "image/png": "[encoded data removed]",
      "text/plain": [
       "<Figure size 640x480 with 1 Axes>"
      ]
     },
     "metadata": {},
     "output_type": "display_data"
    }
   ],
   "source": [
    "address.value_counts('Riverside').plot(kind='bar')"
   ]
  },
  {
   "cell_type": "code",
   "execution_count": null,
   "id": "d3f11113",
   "metadata": {},
   "outputs": [],
   "source": []
  }
 ],
 "metadata": {
  "kernelspec": {
   "display_name": "Python 3 (ipykernel)",
   "language": "python",
   "name": "python3"
  },
  "language_info": {
   "codemirror_mode": {
    "name": "ipython",
    "version": 3
   },
   "file_extension": ".py",
   "mimetype": "text/x-python",
   "name": "python",
   "nbconvert_exporter": "python",
   "pygments_lexer": "ipython3",
   "version": "3.9.15"
  }
 },
 "nbformat": 4,
 "nbformat_minor": 5
}
