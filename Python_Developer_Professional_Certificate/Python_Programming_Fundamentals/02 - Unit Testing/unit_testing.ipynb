{
 "cells": [
  {
   "cell_type": "code",
   "execution_count": null,
   "metadata": {},
   "outputs": [],
   "source": [
    "import pytest \n",
    "\n",
    "def calculate_discount(price, percentage):\n",
    "  return price - (price * percentage / 100)\n",
    "\n",
    "class TestDiscountCalculation:\n",
    "    def test_ten_percent_discount(self):\n",
    "        result = calculate_discount(100, 10)\n",
    "        assert result == 90  # Assertion\n",
    "\n",
    "    def test_invalid_input(self):\n",
    "        with pytest.raises(TypeError):\n",
    "            calculate_discount(\"100\", 10)   # Test for incorrect input type\n",
    "\n",
    "    def test_negative_discount(self):\n",
    "        with pytest.raises(ValueError):\n",
    "            calculate_discount(100, -10)   # Test for negative discount\n",
    "\n",
    "            "
   ]
  },
  {
   "cell_type": "markdown",
   "metadata": {},
   "source": [
    "# pytest"
   ]
  },
  {
   "cell_type": "code",
   "execution_count": 1,
   "metadata": {},
   "outputs": [],
   "source": [
    "import pytest"
   ]
  },
  {
   "cell_type": "code",
   "execution_count": 2,
   "metadata": {},
   "outputs": [],
   "source": [
    "def add(x, y):\n",
    "    return x + y"
   ]
  },
  {
   "cell_type": "code",
   "execution_count": null,
   "metadata": {},
   "outputs": [],
   "source": [
    "import pytest\n",
    "\n",
    "class Product:\n",
    "    def __init__(self, name, price, quantity=1):\n",
    "        self.name = name\n",
    "        self.price = price\n",
    "        self.quantity = quantity\n",
    "\n",
    "class Cart:\n",
    "    def __init__(self):\n",
    "        self.items = []\n",
    "\n",
    "    def add_to_cart(self, product):\n",
    "        self.items.append(product)\n",
    "\n",
    "    def calculate_total_price(self, tax_rate=0.0, shipping_fee=0.0):\n",
    "        subtotal = sum(item.price * item.quantity for item in self.items)\n",
    "        tax = subtotal * tax_rate\n",
    "        total = subtotal + tax + shipping_fee\n",
    "        return total\n",
    "\n",
    "    def apply_discount(self, discount_percentage):\n",
    "        for item in self.items:\n",
    "            item.price *= (1 - discount_percentage / 100)\n",
    "\n",
    "    def checkout(self, payment_gateway):\n",
    "        total_price = self.calculate_total_price()\n",
    "        # In a real application, you'd interact with the payment_gateway here\n",
    "        if payment_gateway.process_payment(total_price):\n",
    "            # Place the order (logic not shown here)\n",
    "            return True\n",
    "        else:\n",
    "            return False\n",
    "\n",
    "class TestProductFunctions:\n",
    "    def test_add_to_cart_successful(self):\n",
    "        cart = Cart()\n",
    "        product = Product(\"Widget\", 10.0)\n",
    "        cart.add_to_cart(product)\n",
    "        assert len(cart.items) == 1\n",
    "        assert cart.items[0] == product\n",
    "\n",
    "    def test_calculate_total_price_accuracy(self):\n",
    "        cart = Cart()\n",
    "        cart.add_to_cart(Product(\"Widget A\", 15.0))\n",
    "        cart.add_to_cart(Product(\"Widget B\", 20.0, 2))  # 2 of these\n",
    "        total = cart.calculate_total_price(tax_rate=0.07, shipping_fee=5.0)\n",
    "        expected_total = (15.0 + 20.0 * 2) * 1.07 + 5.0\n",
    "        assert total == expected_total\n",
    "\n",
    "    def test_apply_discount_correctly(self):\n",
    "        cart = Cart()\n",
    "        cart.add_to_cart(Product(\"Discounted Item\", 50.0))\n",
    "        cart.apply_discount(20)  # 20% discount\n",
    "        assert cart.items[0].price == 40\n",
    "\n",
    "    def test_checkout_successful_payment(self, mocker):\n",
    "        # Mocking a payment gateway (would be a real integration in a production app)\n",
    "        mock_payment_gateway = mocker.Mock()\n",
    "        mock_payment_gateway.proces_payment.return_value = True\n",
    "\n",
    "        cart = Cart()\n",
    "        cart.add_to_cart(Product(\"Something\", 100.0))\n",
    "        result = cart.checkout(mock_payment_gateway)\n",
    "        assert result is True # Checkout should be successful"
   ]
  }
 ],
 "metadata": {
  "kernelspec": {
   "display_name": "venv",
   "language": "python",
   "name": "python3"
  },
  "language_info": {
   "codemirror_mode": {
    "name": "ipython",
    "version": 3
   },
   "file_extension": ".py",
   "mimetype": "text/x-python",
   "name": "python",
   "nbconvert_exporter": "python",
   "pygments_lexer": "ipython3",
   "version": "3.13.1"
  }
 },
 "nbformat": 4,
 "nbformat_minor": 2
}
