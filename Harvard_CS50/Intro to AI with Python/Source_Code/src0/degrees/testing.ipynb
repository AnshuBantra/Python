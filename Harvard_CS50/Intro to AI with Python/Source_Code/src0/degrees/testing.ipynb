{
 "cells": [
  {
   "cell_type": "code",
   "execution_count": 72,
   "metadata": {},
   "outputs": [],
   "source": [
    "import csv\n",
    "import sys\n",
    "import os\n",
    "import pprint as pp\n",
    "from util import Node, StackFrontier, QueueFrontier"
   ]
  },
  {
   "cell_type": "code",
   "execution_count": 2,
   "metadata": {},
   "outputs": [],
   "source": [
    "names = {}\n",
    "\n",
    "people = {}\n",
    "\n",
    "movies = {}"
   ]
  },
  {
   "cell_type": "code",
   "execution_count": 24,
   "metadata": {},
   "outputs": [],
   "source": [
    "def load_data(directory):\n",
    "    \"\"\"\n",
    "    Load data from CSV files into memory.\n",
    "    \"\"\"\n",
    "    # Load people\n",
    "    with open(f\"{directory}/people.csv\", encoding=\"utf-8\") as f:\n",
    "        reader = csv.DictReader(f)\n",
    "        for row in reader:\n",
    "            people[row[\"id\"]] = {\n",
    "                \"name\": row[\"name\"],\n",
    "                \"birth\": row[\"birth\"],\n",
    "                \"movies\": set()\n",
    "            }\n",
    "            if row[\"name\"].lower() not in names:\n",
    "                names[row[\"name\"].lower()] = {row[\"id\"]}\n",
    "            else:\n",
    "                names[row[\"name\"].lower()].add(row[\"id\"])\n",
    "\n",
    "    # Load movies\n",
    "    with open(f\"{directory}/movies.csv\", encoding=\"utf-8\") as f:\n",
    "        reader = csv.DictReader(f)\n",
    "        for row in reader:\n",
    "            movies[row[\"id\"]] = {\n",
    "                \"title\": row[\"title\"],\n",
    "                \"year\": row[\"year\"],\n",
    "                \"stars\": set()\n",
    "            }\n",
    "\n",
    "    # Load stars\n",
    "    with open(f\"{directory}/stars.csv\", encoding=\"utf-8\") as f:\n",
    "        reader = csv.DictReader(f)\n",
    "        for row in reader:\n",
    "            try:\n",
    "                people[row[\"person_id\"]][\"movies\"].add(row[\"movie_id\"])\n",
    "                movies[row[\"movie_id\"]][\"stars\"].add(row[\"person_id\"])\n",
    "            except KeyError:\n",
    "                pass"
   ]
  },
  {
   "cell_type": "code",
   "execution_count": 25,
   "metadata": {},
   "outputs": [],
   "source": [
    "dir_ = os.getcwd()+'\\\\small'\n",
    "load_data(dir_)"
   ]
  },
  {
   "cell_type": "code",
   "execution_count": 11,
   "metadata": {},
   "outputs": [],
   "source": [
    "\n",
    "def person_id_for_name(name):\n",
    "    \"\"\"\n",
    "    Returns the IMDB id for a person's name,\n",
    "    resolving ambiguities as needed.\n",
    "    \"\"\"\n",
    "    person_ids = list(names.get(name.lower(), set()))\n",
    "    if len(person_ids) == 0:\n",
    "        return None\n",
    "    elif len(person_ids) > 1:\n",
    "        print(f\"Which '{name}'?\")\n",
    "        for person_id in person_ids:\n",
    "            person = people[person_id]\n",
    "            name = person[\"name\"]\n",
    "            birth = person[\"birth\"]\n",
    "            print(f\"ID: {person_id}, Name: {name}, Birth: {birth}\")\n",
    "        try:\n",
    "            person_id = input(\"Intended Person ID: \")\n",
    "            if person_id in person_ids:\n",
    "                return person_id\n",
    "        except ValueError:\n",
    "            pass\n",
    "        return None\n",
    "    else:\n",
    "        return person_ids[0]"
   ]
  },
  {
   "cell_type": "code",
   "execution_count": 14,
   "metadata": {},
   "outputs": [],
   "source": [
    "def neighbors_for_person(person_id):\n",
    "    \"\"\"\n",
    "    Returns (movie_id, person_id) pairs for people\n",
    "    who starred with a given person.\n",
    "    \"\"\"\n",
    "    movie_ids = people[person_id][\"movies\"]\n",
    "    neighbors = set()\n",
    "    for movie_id in movie_ids:\n",
    "        for person_id in movies[movie_id][\"stars\"]:\n",
    "            neighbors.add((movie_id, person_id))\n",
    "    return neighbors"
   ]
  },
  {
   "cell_type": "code",
   "execution_count": 18,
   "metadata": {},
   "outputs": [],
   "source": [
    "def main():\n",
    "    # if len(sys.argv) > 2:\n",
    "    #     sys.exit(\"Usage: python degrees.py [directory]\")\n",
    "    # directory = sys.argv[1] if len(sys.argv) == 2 else \"large\"\n",
    "\n",
    "    # # Load data from files into memory\n",
    "    # print(\"Loading data...\")\n",
    "    # load_data(directory)\n",
    "    # print(\"Data loaded.\")\n",
    "\n",
    "    source = person_id_for_name(input(\"Name: \"))\n",
    "    if source is None:\n",
    "        sys.exit(\"Person not found.\")\n",
    "    target = person_id_for_name(input(\"Name: \"))\n",
    "    if target is None:\n",
    "        sys.exit(\"Person not found.\")\n",
    "\n",
    "    path = shortest_path(source, target)\n",
    "\n",
    "    if path is None:\n",
    "        print(\"Not connected.\")\n",
    "    else:\n",
    "        degrees = len(path)\n",
    "        print(f\"{degrees} degrees of separation.\")\n",
    "        path = [(None, source)] + path\n",
    "        for i in range(degrees):\n",
    "            person1 = people[path[i][1]][\"name\"]\n",
    "            person2 = people[path[i + 1][1]][\"name\"]\n",
    "            movie = movies[path[i + 1][0]][\"title\"]\n",
    "            print(f\"{i + 1}: {person1} and {person2} starred in {movie}\")\n",
    "\n"
   ]
  },
  {
   "cell_type": "code",
   "execution_count": 22,
   "metadata": {},
   "outputs": [
    {
     "data": {
      "text/plain": [
       "{'102': {'name': 'Kevin Bacon',\n",
       "  'birth': '1958',\n",
       "  'movies': {'104257', '112384'}},\n",
       " '129': {'name': 'Tom Cruise', 'birth': '1962', 'movies': {'104257', '95953'}},\n",
       " '144': {'name': 'Cary Elwes', 'birth': '1962', 'movies': {'93779'}},\n",
       " '158': {'name': 'Tom Hanks', 'birth': '1956', 'movies': {'109830', '112384'}},\n",
       " '1597': {'name': 'Mandy Patinkin', 'birth': '1952', 'movies': {'93779'}},\n",
       " '163': {'name': 'Dustin Hoffman', 'birth': '1937', 'movies': {'95953'}},\n",
       " '1697': {'name': 'Chris Sarandon', 'birth': '1942', 'movies': {'93779'}},\n",
       " '193': {'name': 'Demi Moore', 'birth': '1962', 'movies': {'104257'}},\n",
       " '197': {'name': 'Jack Nicholson', 'birth': '1937', 'movies': {'104257'}},\n",
       " '200': {'name': 'Bill Paxton', 'birth': '1955', 'movies': {'112384'}},\n",
       " '398': {'name': 'Sally Field', 'birth': '1946', 'movies': {'109830'}},\n",
       " '420': {'name': 'Valeria Golino', 'birth': '1965', 'movies': {'95953'}},\n",
       " '596520': {'name': 'Gerald R. Molen', 'birth': '1935', 'movies': {'95953'}},\n",
       " '641': {'name': 'Gary Sinise',\n",
       "  'birth': '1955',\n",
       "  'movies': {'109830', '112384'}},\n",
       " '705': {'name': 'Robin Wright',\n",
       "  'birth': '1966',\n",
       "  'movies': {'109830', '93779'}},\n",
       " '914612': {'name': 'Emma Watson', 'birth': '1990', 'movies': set()}}"
      ]
     },
     "execution_count": 22,
     "metadata": {},
     "output_type": "execute_result"
    }
   ],
   "source": [
    "people"
   ]
  },
  {
   "cell_type": "code",
   "execution_count": 84,
   "metadata": {},
   "outputs": [],
   "source": [
    "def shortest_path(source, target):\n",
    "  source_id = person_id_for_name(source)\n",
    "  target_id = person_id_for_name(target)\n",
    "  neighbors = neighbors_for_person(source_id)\n",
    "  movies = people[source_id]['movies']\n",
    "  movies_searched = []\n",
    "  for _ in neighbors:\n",
    "    print(f'_ ==> {source_id} in {source_id in _ } and {target_id} in {target_id in _}' )\n",
    "  # start = Node(state=self.start, parent=None, action=None)\n",
    "  # frontier = StackFrontier()\n",
    "  # frontier."
   ]
  },
  {
   "cell_type": "code",
   "execution_count": 85,
   "metadata": {},
   "outputs": [
    {
     "name": "stdout",
     "output_type": "stream",
     "text": [
      "_ ==> 102 in False and 129 in False\n",
      "_ ==> 102 in False and 129 in False\n",
      "_ ==> 102 in False and 129 in True\n",
      "_ ==> 102 in False and 129 in False\n",
      "_ ==> 102 in False and 129 in False\n",
      "_ ==> 102 in True and 129 in False\n",
      "_ ==> 102 in False and 129 in False\n",
      "_ ==> 102 in True and 129 in False\n"
     ]
    }
   ],
   "source": [
    "shortest_path('Kevin Bacon', 'Tom Cruise')"
   ]
  },
  {
   "cell_type": "code",
   "execution_count": 58,
   "metadata": {},
   "outputs": [
    {
     "name": "stdout",
     "output_type": "stream",
     "text": [
      "('112384', '200')\n",
      "('112384', '158')\n",
      "('104257', '129')\n",
      "('104257', '197')\n",
      "('112384', '641')\n",
      "('112384', '102')\n",
      "('104257', '193')\n",
      "('104257', '102')\n"
     ]
    }
   ],
   "source": [
    "# def shortest_path(source, target):\n",
    "source_id = person_id_for_name('Kevin Bacon') #source)\n",
    "target_id = person_id_for_name('Tom Cruise') #target)\n",
    "neighbors = neighbors_for_person(source_id)\n",
    "deg = 0\n",
    "for _ in neighbors:\n",
    "    print(_)"
   ]
  },
  {
   "cell_type": "code",
   "execution_count": 43,
   "metadata": {},
   "outputs": [
    {
     "data": {
      "text/plain": [
       "[('104257', '102'),\n",
       " ('104257', '129'),\n",
       " ('104257', '193'),\n",
       " ('104257', '197'),\n",
       " ('95953', '129'),\n",
       " ('95953', '163'),\n",
       " ('95953', '420'),\n",
       " ('95953', '596520')]"
      ]
     },
     "execution_count": 43,
     "metadata": {},
     "output_type": "execute_result"
    }
   ],
   "source": [
    "sorted(list(neighbors))"
   ]
  },
  {
   "cell_type": "code",
   "execution_count": 39,
   "metadata": {},
   "outputs": [
    {
     "data": {
      "text/plain": [
       "'200'"
      ]
     },
     "execution_count": 39,
     "metadata": {},
     "output_type": "execute_result"
    }
   ],
   "source": [
    "list(neighbors)[0][1]"
   ]
  },
  {
   "cell_type": "code",
   "execution_count": 29,
   "metadata": {},
   "outputs": [
    {
     "data": {
      "text/plain": [
       "'129'"
      ]
     },
     "execution_count": 29,
     "metadata": {},
     "output_type": "execute_result"
    }
   ],
   "source": [
    "person_id_for_name('Tom Cruise')"
   ]
  },
  {
   "cell_type": "code",
   "execution_count": 30,
   "metadata": {},
   "outputs": [
    {
     "data": {
      "text/plain": [
       "{('104257', '102'),\n",
       " ('104257', '129'),\n",
       " ('104257', '193'),\n",
       " ('104257', '197'),\n",
       " ('112384', '102'),\n",
       " ('112384', '158'),\n",
       " ('112384', '200'),\n",
       " ('112384', '641')}"
      ]
     },
     "execution_count": 30,
     "metadata": {},
     "output_type": "execute_result"
    }
   ],
   "source": [
    "neighbors_for_person('102')"
   ]
  },
  {
   "cell_type": "code",
   "execution_count": 34,
   "metadata": {},
   "outputs": [
    {
     "ename": "KeyError",
     "evalue": "None",
     "output_type": "error",
     "traceback": [
      "\u001b[1;31m---------------------------------------------------------------------------\u001b[0m",
      "\u001b[1;31mKeyError\u001b[0m                                  Traceback (most recent call last)",
      "Cell \u001b[1;32mIn[34], line 1\u001b[0m\n\u001b[1;32m----> 1\u001b[0m \u001b[43mmain\u001b[49m\u001b[43m(\u001b[49m\u001b[43m)\u001b[49m\n",
      "Cell \u001b[1;32mIn[18], line 18\u001b[0m, in \u001b[0;36mmain\u001b[1;34m()\u001b[0m\n\u001b[0;32m     15\u001b[0m \u001b[38;5;28;01mif\u001b[39;00m target \u001b[38;5;129;01mis\u001b[39;00m \u001b[38;5;28;01mNone\u001b[39;00m:\n\u001b[0;32m     16\u001b[0m     sys\u001b[38;5;241m.\u001b[39mexit(\u001b[38;5;124m\"\u001b[39m\u001b[38;5;124mPerson not found.\u001b[39m\u001b[38;5;124m\"\u001b[39m)\n\u001b[1;32m---> 18\u001b[0m path \u001b[38;5;241m=\u001b[39m \u001b[43mshortest_path\u001b[49m\u001b[43m(\u001b[49m\u001b[43msource\u001b[49m\u001b[43m,\u001b[49m\u001b[43m \u001b[49m\u001b[43mtarget\u001b[49m\u001b[43m)\u001b[49m\n\u001b[0;32m     20\u001b[0m \u001b[38;5;28;01mif\u001b[39;00m path \u001b[38;5;129;01mis\u001b[39;00m \u001b[38;5;28;01mNone\u001b[39;00m:\n\u001b[0;32m     21\u001b[0m     \u001b[38;5;28mprint\u001b[39m(\u001b[38;5;124m\"\u001b[39m\u001b[38;5;124mNot connected.\u001b[39m\u001b[38;5;124m\"\u001b[39m)\n",
      "Cell \u001b[1;32mIn[33], line 4\u001b[0m, in \u001b[0;36mshortest_path\u001b[1;34m(source, target)\u001b[0m\n\u001b[0;32m      2\u001b[0m source_id \u001b[38;5;241m=\u001b[39m person_id_for_name(source)\n\u001b[0;32m      3\u001b[0m target_id \u001b[38;5;241m=\u001b[39m person_id_for_name(target)\n\u001b[1;32m----> 4\u001b[0m neighbors \u001b[38;5;241m=\u001b[39m \u001b[43mneighbors_for_person\u001b[49m\u001b[43m(\u001b[49m\u001b[43msource_id\u001b[49m\u001b[43m)\u001b[49m\n\u001b[0;32m      5\u001b[0m \u001b[38;5;28;01mreturn\u001b[39;00m neighbors\n",
      "Cell \u001b[1;32mIn[14], line 6\u001b[0m, in \u001b[0;36mneighbors_for_person\u001b[1;34m(person_id)\u001b[0m\n\u001b[0;32m      1\u001b[0m \u001b[38;5;28;01mdef\u001b[39;00m \u001b[38;5;21mneighbors_for_person\u001b[39m(person_id):\n\u001b[0;32m      2\u001b[0m \u001b[38;5;250m    \u001b[39m\u001b[38;5;124;03m\"\"\"\u001b[39;00m\n\u001b[0;32m      3\u001b[0m \u001b[38;5;124;03m    Returns (movie_id, person_id) pairs for people\u001b[39;00m\n\u001b[0;32m      4\u001b[0m \u001b[38;5;124;03m    who starred with a given person.\u001b[39;00m\n\u001b[0;32m      5\u001b[0m \u001b[38;5;124;03m    \"\"\"\u001b[39;00m\n\u001b[1;32m----> 6\u001b[0m     movie_ids \u001b[38;5;241m=\u001b[39m \u001b[43mpeople\u001b[49m\u001b[43m[\u001b[49m\u001b[43mperson_id\u001b[49m\u001b[43m]\u001b[49m[\u001b[38;5;124m\"\u001b[39m\u001b[38;5;124mmovies\u001b[39m\u001b[38;5;124m\"\u001b[39m]\n\u001b[0;32m      7\u001b[0m     neighbors \u001b[38;5;241m=\u001b[39m \u001b[38;5;28mset\u001b[39m()\n\u001b[0;32m      8\u001b[0m     \u001b[38;5;28;01mfor\u001b[39;00m movie_id \u001b[38;5;129;01min\u001b[39;00m movie_ids:\n",
      "\u001b[1;31mKeyError\u001b[0m: None"
     ]
    }
   ],
   "source": [
    "main()"
   ]
  },
  {
   "cell_type": "code",
   "execution_count": 88,
   "metadata": {},
   "outputs": [],
   "source": [
    "def shortest_path(source, target):\n",
    "    \"\"\"Finds a solution to maze, if one exists.\"\"\"\n",
    "\n",
    "    # Keep track of number of states explored\n",
    "    num_explored = 0\n",
    "\n",
    "    # Initialize frontier to just the starting position\n",
    "    start = Node(state=source, parent=None, action=None)\n",
    "    frontier = StackFrontier()\n",
    "    frontier.add(start)\n",
    "\n",
    "    # Initialize an empty explored set\n",
    "    explored = set()\n",
    "\n",
    "    # Keep looping until solution found\n",
    "    while True:\n",
    "\n",
    "      # If nothing left in frontier, then no path\n",
    "      if frontier.empty():\n",
    "          raise Exception(\"no solution\")\n",
    "\n",
    "      # Choose a node from the frontier\n",
    "      node = frontier.remove()\n",
    "      num_explored += 1\n",
    "\n",
    "      # Mark node as explored\n",
    "      explored.add(node.state)\n",
    "\n",
    "      # Add neighbors to frontier\n",
    "      for movie_id, persion_id in neighbors_for_person(node.state):\n",
    "        if not frontier.contains_state(persion_id) and persion_id not in explored:\n",
    "          child = Node(state=persion_id, parent=node, action=movie_id)\n",
    "          # If node is the goal, then we have a solution\n",
    "          if child.state == target:\n",
    "            movies = []\n",
    "            people = []\n",
    "            solution = []\n",
    "            while child.parent is not None:\n",
    "              movies.append(child.action)\n",
    "              people.append(child.state)\n",
    "              child = child.parent\n",
    "            movies.reverse()\n",
    "            people.reverse()\n",
    "            for movie, person in zip(movies, people):\n",
    "               solution.append((movie, person))\n",
    "            return solution\n",
    "          \n",
    "          frontier.add(child)"
   ]
  },
  {
   "cell_type": "code",
   "execution_count": 89,
   "metadata": {},
   "outputs": [
    {
     "data": {
      "text/plain": [
       "<function __main__.main()>"
      ]
     },
     "execution_count": 89,
     "metadata": {},
     "output_type": "execute_result"
    }
   ],
   "source": [
    "main"
   ]
  },
  {
   "cell_type": "code",
   "execution_count": 90,
   "metadata": {},
   "outputs": [
    {
     "name": "stdout",
     "output_type": "stream",
     "text": [
      "1 degrees of separation.\n",
      "1: Kevin Bacon and Tom Cruise starred in A Few Good Men\n"
     ]
    }
   ],
   "source": [
    "main()"
   ]
  }
 ],
 "metadata": {
  "kernelspec": {
   "display_name": "Python 3",
   "language": "python",
   "name": "python3"
  },
  "language_info": {
   "codemirror_mode": {
    "name": "ipython",
    "version": 3
   },
   "file_extension": ".py",
   "mimetype": "text/x-python",
   "name": "python",
   "nbconvert_exporter": "python",
   "pygments_lexer": "ipython3",
   "version": "3.11.5"
  }
 },
 "nbformat": 4,
 "nbformat_minor": 2
}
