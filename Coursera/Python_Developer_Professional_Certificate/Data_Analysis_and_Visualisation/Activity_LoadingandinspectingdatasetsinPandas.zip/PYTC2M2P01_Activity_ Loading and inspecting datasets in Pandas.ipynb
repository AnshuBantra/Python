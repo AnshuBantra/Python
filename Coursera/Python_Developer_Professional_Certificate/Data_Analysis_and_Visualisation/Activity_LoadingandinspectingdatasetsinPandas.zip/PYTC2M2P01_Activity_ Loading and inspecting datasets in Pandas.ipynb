{
 "cells": [
  {
   "cell_type": "markdown",
   "id": "55601b3d-cd9f-4c13-9eda-8cd27f54202c",
   "metadata": {},
   "source": [
    "## How to Interact with this Jupyter Notebook\n",
    "\n",
    "In this activity, you will use a Jupyter Notebook, which integrates both text and code. The gray boxes contain executable code, which you will run in order to view its output. The text in between the code provides instructions."
   ]
  },
  {
   "cell_type": "markdown",
   "id": "f1af126b-b291-4ae1-8cf8-f3883f7195aa",
   "metadata": {},
   "source": [
    "## Scenario: Charting the Customer Journey with Pandas\n",
    "\n",
    "Imagine you're a Python developer at a rapidly growing e-commerce company. The marketing team is eager to understand customer behavior and preferences to tailor their campaigns and improve the overall shopping experience. They've provided you with a valuable dataset containing information about customers, their purchases, and demographics. \n",
    "\n",
    "Your task is to leverage your Python skills and the power of the Pandas library to load this dataset, explore its structure, and uncover preliminary insights that will guide further analysis. This initial exploration is crucial for understanding the data you're working with and making informed decisions about how to proceed with more in-depth analysis and visualization."
   ]
  },
  {
   "cell_type": "markdown",
   "id": "d0cc3f26",
   "metadata": {},
   "source": [
    "In the cell below, begin by importing the `pandas` library with the alias `pd`. Then, use `.read_csv()` to load the `customer_data_50.csv` file into a DataFrame named `customer_data`. \n",
    "\n",
    "Lastly, run the cell."
   ]
  },
  {
   "cell_type": "code",
   "execution_count": 1,
   "id": "cf7c8f01",
   "metadata": {},
   "outputs": [],
   "source": [
    "# Import the pandas library with the alias 'pd'\n",
    "\n",
    "# insert code here \n",
    "import pandas as pd\n",
    "\n",
    "# Load the CSV file 'customer_data_50.csv' into a DataFrame\n",
    "\n",
    "# insert code here \n",
    "customer_data = pd.read_csv('customer_data_50.csv')"
   ]
  },
  {
   "cell_type": "markdown",
   "id": "9c2f7a73-2b4e-4d4d-8018-c6ee38acab95",
   "metadata": {},
   "source": [
    "Run the following cell, which will check the dimensions of your DataFrame using the `.shape` attribute. This tells you how many rows and columns your data has – kind of like figuring out the size of a spreadsheet!"
   ]
  },
  {
   "cell_type": "code",
   "execution_count": 2,
   "id": "df0249d4-c0dd-4cba-8f4b-070130e8f12d",
   "metadata": {},
   "outputs": [
    {
     "name": "stdout",
     "output_type": "stream",
     "text": [
      "\n",
      "Shape of the DataFrame (rows, columns): (50, 13)\n"
     ]
    }
   ],
   "source": [
    "# Display the shape of the DataFrame (rows, columns)\n",
    "print(\"\\nShape of the DataFrame (rows, columns):\", customer_data.shape)"
   ]
  },
  {
   "cell_type": "markdown",
   "id": "a7982d00-92d7-4db5-b529-37aa53d03b0b",
   "metadata": {},
   "source": [
    "Next, you'll inspect the data using the `df.head()` function, which allows you to view the first few rows of the DataFrame. This gives you a quick look at the data's structure and content.\n",
    "\n",
    "In the cell below, use `df.head()`to display the first 5 rows of the `customer_data` DataFrame.  Then, run the cell and take a moment to observe the output. "
   ]
  },
  {
   "cell_type": "code",
   "execution_count": 4,
   "id": "0e941605",
   "metadata": {},
   "outputs": [
    {
     "name": "stdout",
     "output_type": "stream",
     "text": [
      "First 5 rows:\n",
      "\n"
     ]
    },
    {
     "data": {
      "text/html": [
       "<div>\n",
       "<style scoped>\n",
       "    .dataframe tbody tr th:only-of-type {\n",
       "        vertical-align: middle;\n",
       "    }\n",
       "\n",
       "    .dataframe tbody tr th {\n",
       "        vertical-align: top;\n",
       "    }\n",
       "\n",
       "    .dataframe thead th {\n",
       "        text-align: right;\n",
       "    }\n",
       "</style>\n",
       "<table border=\"1\" class=\"dataframe\">\n",
       "  <thead>\n",
       "    <tr style=\"text-align: right;\">\n",
       "      <th></th>\n",
       "      <th>customer_id</th>\n",
       "      <th>first_name</th>\n",
       "      <th>last_name</th>\n",
       "      <th>email</th>\n",
       "      <th>gender</th>\n",
       "      <th>age</th>\n",
       "      <th>city</th>\n",
       "      <th>state</th>\n",
       "      <th>country</th>\n",
       "      <th>purchase_count</th>\n",
       "      <th>total_spend</th>\n",
       "      <th>avg_order_value</th>\n",
       "      <th>last_purchase_date</th>\n",
       "    </tr>\n",
       "  </thead>\n",
       "  <tbody>\n",
       "    <tr>\n",
       "      <th>0</th>\n",
       "      <td>1001</td>\n",
       "      <td>Sophia</td>\n",
       "      <td>Smith</td>\n",
       "      <td>sophia.smith@example.com</td>\n",
       "      <td>M</td>\n",
       "      <td>54</td>\n",
       "      <td>San Antonio</td>\n",
       "      <td>TX</td>\n",
       "      <td>USA</td>\n",
       "      <td>5</td>\n",
       "      <td>965</td>\n",
       "      <td>193.0</td>\n",
       "      <td>2023-09-12 15:28:32.140488</td>\n",
       "    </tr>\n",
       "    <tr>\n",
       "      <th>1</th>\n",
       "      <td>1002</td>\n",
       "      <td>Joseph</td>\n",
       "      <td>Smith</td>\n",
       "      <td>joseph.smith@example.com</td>\n",
       "      <td>M</td>\n",
       "      <td>66</td>\n",
       "      <td>Los Angeles</td>\n",
       "      <td>CA</td>\n",
       "      <td>USA</td>\n",
       "      <td>7</td>\n",
       "      <td>1246</td>\n",
       "      <td>178.0</td>\n",
       "      <td>2023-08-25 15:28:32.140488</td>\n",
       "    </tr>\n",
       "    <tr>\n",
       "      <th>2</th>\n",
       "      <td>1003</td>\n",
       "      <td>John</td>\n",
       "      <td>Anderson</td>\n",
       "      <td>john.anderson@example.com</td>\n",
       "      <td>F</td>\n",
       "      <td>56</td>\n",
       "      <td>Phoenix</td>\n",
       "      <td>AZ</td>\n",
       "      <td>USA</td>\n",
       "      <td>1</td>\n",
       "      <td>199</td>\n",
       "      <td>199.0</td>\n",
       "      <td>2024-04-28 15:28:32.140488</td>\n",
       "    </tr>\n",
       "    <tr>\n",
       "      <th>3</th>\n",
       "      <td>1004</td>\n",
       "      <td>Emma</td>\n",
       "      <td>Hernandez</td>\n",
       "      <td>emma.hernandez@example.com</td>\n",
       "      <td>M</td>\n",
       "      <td>44</td>\n",
       "      <td>Los Angeles</td>\n",
       "      <td>CA</td>\n",
       "      <td>USA</td>\n",
       "      <td>14</td>\n",
       "      <td>3752</td>\n",
       "      <td>268.0</td>\n",
       "      <td>2024-01-01 15:28:32.140488</td>\n",
       "    </tr>\n",
       "    <tr>\n",
       "      <th>4</th>\n",
       "      <td>1005</td>\n",
       "      <td>Emily</td>\n",
       "      <td>Garcia</td>\n",
       "      <td>emily.garcia@example.com</td>\n",
       "      <td>F</td>\n",
       "      <td>25</td>\n",
       "      <td>Dallas</td>\n",
       "      <td>TX</td>\n",
       "      <td>USA</td>\n",
       "      <td>12</td>\n",
       "      <td>1620</td>\n",
       "      <td>135.0</td>\n",
       "      <td>2023-12-09 15:28:32.140488</td>\n",
       "    </tr>\n",
       "  </tbody>\n",
       "</table>\n",
       "</div>"
      ],
      "text/plain": [
       "   customer_id first_name  last_name                       email gender  age  \\\n",
       "0         1001     Sophia      Smith    sophia.smith@example.com      M   54   \n",
       "1         1002     Joseph      Smith    joseph.smith@example.com      M   66   \n",
       "2         1003       John   Anderson   john.anderson@example.com      F   56   \n",
       "3         1004       Emma  Hernandez  emma.hernandez@example.com      M   44   \n",
       "4         1005      Emily     Garcia    emily.garcia@example.com      F   25   \n",
       "\n",
       "          city state country  purchase_count  total_spend  avg_order_value  \\\n",
       "0  San Antonio    TX     USA               5          965            193.0   \n",
       "1  Los Angeles    CA     USA               7         1246            178.0   \n",
       "2      Phoenix    AZ     USA               1          199            199.0   \n",
       "3  Los Angeles    CA     USA              14         3752            268.0   \n",
       "4       Dallas    TX     USA              12         1620            135.0   \n",
       "\n",
       "           last_purchase_date  \n",
       "0  2023-09-12 15:28:32.140488  \n",
       "1  2023-08-25 15:28:32.140488  \n",
       "2  2024-04-28 15:28:32.140488  \n",
       "3  2024-01-01 15:28:32.140488  \n",
       "4  2023-12-09 15:28:32.140488  "
      ]
     },
     "metadata": {},
     "output_type": "display_data"
    }
   ],
   "source": [
    "# Display the first 5 rows\n",
    "print(\"First 5 rows:\\n\")\n",
    "\n",
    "# insert code here \n",
    "display(customer_data.head()) #delete this adeeb"
   ]
  },
  {
   "cell_type": "markdown",
   "id": "6b6d50c2-5e1e-46ee-b2f0-d43f2d631d8d",
   "metadata": {},
   "source": [
    "Now, you'll use the `df.info()` function, which provides a concise summary of the DataFrame, including the column names, their data types, and the number of non-null values.\n",
    "\n",
    "In the cell below, use `df.info()` to print information about the `customer_data` DataFrame  Then, run the cell and take a moment to observe the output. "
   ]
  },
  {
   "cell_type": "code",
   "execution_count": 5,
   "id": "933fbc95",
   "metadata": {},
   "outputs": [
    {
     "name": "stdout",
     "output_type": "stream",
     "text": [
      "\n",
      "Column names and their data types:\n",
      "\n",
      "<class 'pandas.core.frame.DataFrame'>\n",
      "RangeIndex: 50 entries, 0 to 49\n",
      "Data columns (total 13 columns):\n",
      " #   Column              Non-Null Count  Dtype  \n",
      "---  ------              --------------  -----  \n",
      " 0   customer_id         50 non-null     int64  \n",
      " 1   first_name          50 non-null     object \n",
      " 2   last_name           50 non-null     object \n",
      " 3   email               50 non-null     object \n",
      " 4   gender              50 non-null     object \n",
      " 5   age                 50 non-null     int64  \n",
      " 6   city                50 non-null     object \n",
      " 7   state               50 non-null     object \n",
      " 8   country             50 non-null     object \n",
      " 9   purchase_count      50 non-null     int64  \n",
      " 10  total_spend         50 non-null     int64  \n",
      " 11  avg_order_value     50 non-null     float64\n",
      " 12  last_purchase_date  50 non-null     object \n",
      "dtypes: float64(1), int64(4), object(8)\n",
      "memory usage: 5.2+ KB\n"
     ]
    },
    {
     "data": {
      "text/plain": [
       "None"
      ]
     },
     "metadata": {},
     "output_type": "display_data"
    }
   ],
   "source": [
    "# Print the column names and their data types\n",
    "print(\"\\nColumn names and their data types:\\n\")\n",
    "\n",
    "# insert code here \n",
    "display(customer_data.info()) "
   ]
  },
  {
   "cell_type": "markdown",
   "id": "3647fd7c-e95c-4647-9770-d08ae34f3f35",
   "metadata": {},
   "source": [
    "Next, you'll use the `df.describe()` function, which generates descriptive statistics for the numerical columns in the DataFrame.\n",
    "\n",
    "In the cell below, use `df.describe()` to display summary statistics for the numerical columns in the `customer_data` DataFrame."
   ]
  },
  {
   "cell_type": "code",
   "execution_count": 7,
   "id": "59033260",
   "metadata": {},
   "outputs": [
    {
     "name": "stdout",
     "output_type": "stream",
     "text": [
      "\n",
      "Descriptive statistics for numerical columns:\n",
      "\n"
     ]
    },
    {
     "data": {
      "text/html": [
       "<div>\n",
       "<style scoped>\n",
       "    .dataframe tbody tr th:only-of-type {\n",
       "        vertical-align: middle;\n",
       "    }\n",
       "\n",
       "    .dataframe tbody tr th {\n",
       "        vertical-align: top;\n",
       "    }\n",
       "\n",
       "    .dataframe thead th {\n",
       "        text-align: right;\n",
       "    }\n",
       "</style>\n",
       "<table border=\"1\" class=\"dataframe\">\n",
       "  <thead>\n",
       "    <tr style=\"text-align: right;\">\n",
       "      <th></th>\n",
       "      <th>customer_id</th>\n",
       "      <th>age</th>\n",
       "      <th>purchase_count</th>\n",
       "      <th>total_spend</th>\n",
       "      <th>avg_order_value</th>\n",
       "    </tr>\n",
       "  </thead>\n",
       "  <tbody>\n",
       "    <tr>\n",
       "      <th>count</th>\n",
       "      <td>50.00000</td>\n",
       "      <td>50.000000</td>\n",
       "      <td>50.00000</td>\n",
       "      <td>50.000000</td>\n",
       "      <td>50.000000</td>\n",
       "    </tr>\n",
       "    <tr>\n",
       "      <th>mean</th>\n",
       "      <td>1025.50000</td>\n",
       "      <td>43.440000</td>\n",
       "      <td>8.60000</td>\n",
       "      <td>1491.880000</td>\n",
       "      <td>179.920000</td>\n",
       "    </tr>\n",
       "    <tr>\n",
       "      <th>std</th>\n",
       "      <td>14.57738</td>\n",
       "      <td>14.833993</td>\n",
       "      <td>4.28095</td>\n",
       "      <td>968.697666</td>\n",
       "      <td>70.820221</td>\n",
       "    </tr>\n",
       "    <tr>\n",
       "      <th>min</th>\n",
       "      <td>1001.00000</td>\n",
       "      <td>19.000000</td>\n",
       "      <td>1.00000</td>\n",
       "      <td>199.000000</td>\n",
       "      <td>53.000000</td>\n",
       "    </tr>\n",
       "    <tr>\n",
       "      <th>25%</th>\n",
       "      <td>1013.25000</td>\n",
       "      <td>30.000000</td>\n",
       "      <td>5.00000</td>\n",
       "      <td>819.000000</td>\n",
       "      <td>125.750000</td>\n",
       "    </tr>\n",
       "    <tr>\n",
       "      <th>50%</th>\n",
       "      <td>1025.50000</td>\n",
       "      <td>44.500000</td>\n",
       "      <td>8.00000</td>\n",
       "      <td>1350.000000</td>\n",
       "      <td>180.000000</td>\n",
       "    </tr>\n",
       "    <tr>\n",
       "      <th>75%</th>\n",
       "      <td>1037.75000</td>\n",
       "      <td>54.000000</td>\n",
       "      <td>12.00000</td>\n",
       "      <td>1916.000000</td>\n",
       "      <td>237.500000</td>\n",
       "    </tr>\n",
       "    <tr>\n",
       "      <th>max</th>\n",
       "      <td>1050.00000</td>\n",
       "      <td>69.000000</td>\n",
       "      <td>15.00000</td>\n",
       "      <td>4440.000000</td>\n",
       "      <td>299.000000</td>\n",
       "    </tr>\n",
       "  </tbody>\n",
       "</table>\n",
       "</div>"
      ],
      "text/plain": [
       "       customer_id        age  purchase_count  total_spend  avg_order_value\n",
       "count     50.00000  50.000000        50.00000    50.000000        50.000000\n",
       "mean    1025.50000  43.440000         8.60000  1491.880000       179.920000\n",
       "std       14.57738  14.833993         4.28095   968.697666        70.820221\n",
       "min     1001.00000  19.000000         1.00000   199.000000        53.000000\n",
       "25%     1013.25000  30.000000         5.00000   819.000000       125.750000\n",
       "50%     1025.50000  44.500000         8.00000  1350.000000       180.000000\n",
       "75%     1037.75000  54.000000        12.00000  1916.000000       237.500000\n",
       "max     1050.00000  69.000000        15.00000  4440.000000       299.000000"
      ]
     },
     "metadata": {},
     "output_type": "display_data"
    }
   ],
   "source": [
    "# Display descriptive statistics for numerical columns\n",
    "print(\"\\nDescriptive statistics for numerical columns:\\n\")\n",
    "\n",
    "# insert code here \n",
    "display(customer_data.describe())"
   ]
  },
  {
   "cell_type": "markdown",
   "id": "f90ed4d5-9198-4bfd-a26f-e239c0246d0b",
   "metadata": {},
   "source": [
    "Finally, in the code cell below, you'll use the `.mean()` and `.median()` functions on the `'age'` column of your `customer_data` to calculate the average and median age of all your customers. \n",
    "\n",
    "The square brackets [] are used for column selection in Pandas. Within the brackets, you specify the name of the column you want to extract, which in this case is 'age'\n",
    "\n",
    "Run the cell to see the average and median age of your customers."
   ]
  },
  {
   "cell_type": "code",
   "execution_count": 10,
   "id": "e1c7951d-733d-4661-a012-4c020ba3d11f",
   "metadata": {},
   "outputs": [
    {
     "name": "stdout",
     "output_type": "stream",
     "text": [
      "\n",
      "Mean Age: 43.44\n",
      "\n",
      "Median Age: 44.5\n"
     ]
    }
   ],
   "source": [
    "# Calculate the mean of the 'age' column\n",
    "mean_age = customer_data['age'].mean() # insert code here \n",
    "\n",
    "# Print the mean age\n",
    "print(\"\\nMean Age:\", mean_age)\n",
    "\n",
    "# Calculate the median of the 'age' column\n",
    "median_age = customer_data['age'].median() # insert code here \n",
    "\n",
    "# Print the median age\n",
    "print(\"\\nMedian Age:\", median_age)"
   ]
  },
  {
   "cell_type": "markdown",
   "id": "0b3b7f55",
   "metadata": {},
   "source": [
    "## Activity Recap: Charting the Customer Journey with Pandas\n",
    "\n",
    "Congratulations! In this activity, you learned how to load a CSV file into a Pandas DataFrame and use various functions to inspect its structure and contents:\n",
    "\n",
    "* `pd.read_csv()` is used to load CSV data into a DataFrame.\n",
    "* `df.head()` shows the first few rows.\n",
    "* `df.info()` provides a summary of the DataFrame's structure.\n",
    "* `df.describe()` generates descriptive statistics for numerical columns."
   ]
  },
  {
   "cell_type": "code",
   "execution_count": 1,
   "id": "22d97744",
   "metadata": {},
   "outputs": [
    {
     "data": {
      "text/html": [
       "<div>\n",
       "<style scoped>\n",
       "    .dataframe tbody tr th:only-of-type {\n",
       "        vertical-align: middle;\n",
       "    }\n",
       "\n",
       "    .dataframe tbody tr th {\n",
       "        vertical-align: top;\n",
       "    }\n",
       "\n",
       "    .dataframe thead th {\n",
       "        text-align: right;\n",
       "    }\n",
       "</style>\n",
       "<table border=\"1\" class=\"dataframe\">\n",
       "  <thead>\n",
       "    <tr style=\"text-align: right;\">\n",
       "      <th></th>\n",
       "      <th>Name</th>\n",
       "      <th>Age</th>\n",
       "    </tr>\n",
       "  </thead>\n",
       "  <tbody>\n",
       "    <tr>\n",
       "      <th>0</th>\n",
       "      <td>Alice</td>\n",
       "      <td>25</td>\n",
       "    </tr>\n",
       "    <tr>\n",
       "      <th>1</th>\n",
       "      <td>Bob</td>\n",
       "      <td>30</td>\n",
       "    </tr>\n",
       "    <tr>\n",
       "      <th>2</th>\n",
       "      <td>Charlie</td>\n",
       "      <td>28</td>\n",
       "    </tr>\n",
       "  </tbody>\n",
       "</table>\n",
       "</div>"
      ],
      "text/plain": [
       "      Name  Age\n",
       "0    Alice   25\n",
       "1      Bob   30\n",
       "2  Charlie   28"
      ]
     },
     "execution_count": 1,
     "metadata": {},
     "output_type": "execute_result"
    }
   ],
   "source": [
    "import pandas as pd\n",
    "\n",
    "data = {'Name': ['Alice', 'Bob', 'Charlie'], 'Age': [25, 30, 28]}\n",
    "pd.DataFrame(data)"
   ]
  },
  {
   "cell_type": "code",
   "execution_count": 3,
   "id": "8fa22041",
   "metadata": {},
   "outputs": [
    {
     "data": {
      "text/html": [
       "<div>\n",
       "<style scoped>\n",
       "    .dataframe tbody tr th:only-of-type {\n",
       "        vertical-align: middle;\n",
       "    }\n",
       "\n",
       "    .dataframe tbody tr th {\n",
       "        vertical-align: top;\n",
       "    }\n",
       "\n",
       "    .dataframe thead th {\n",
       "        text-align: right;\n",
       "    }\n",
       "</style>\n",
       "<table border=\"1\" class=\"dataframe\">\n",
       "  <thead>\n",
       "    <tr style=\"text-align: right;\">\n",
       "      <th></th>\n",
       "      <th>Name</th>\n",
       "      <th>Age</th>\n",
       "    </tr>\n",
       "  </thead>\n",
       "  <tbody>\n",
       "    <tr>\n",
       "      <th>0</th>\n",
       "      <td>Alice</td>\n",
       "      <td>25</td>\n",
       "    </tr>\n",
       "    <tr>\n",
       "      <th>1</th>\n",
       "      <td>Bob</td>\n",
       "      <td>30</td>\n",
       "    </tr>\n",
       "    <tr>\n",
       "      <th>2</th>\n",
       "      <td>Charlie</td>\n",
       "      <td>28</td>\n",
       "    </tr>\n",
       "  </tbody>\n",
       "</table>\n",
       "</div>"
      ],
      "text/plain": [
       "      Name  Age\n",
       "0    Alice   25\n",
       "1      Bob   30\n",
       "2  Charlie   28"
      ]
     },
     "execution_count": 3,
     "metadata": {},
     "output_type": "execute_result"
    }
   ],
   "source": [
    "data = [['Alice', 25], ['Bob', 30], ['Charlie', 28]]\n",
    "df = pd.DataFrame(data, columns=['Name', 'Age'])\n",
    "pd.DataFrame(data, columns=['Name', 'Age'])"
   ]
  },
  {
   "cell_type": "code",
   "execution_count": 7,
   "id": "d047bb8e",
   "metadata": {},
   "outputs": [
    {
     "data": {
      "text/html": [
       "<div>\n",
       "<style scoped>\n",
       "    .dataframe tbody tr th:only-of-type {\n",
       "        vertical-align: middle;\n",
       "    }\n",
       "\n",
       "    .dataframe tbody tr th {\n",
       "        vertical-align: top;\n",
       "    }\n",
       "\n",
       "    .dataframe thead th {\n",
       "        text-align: right;\n",
       "    }\n",
       "</style>\n",
       "<table border=\"1\" class=\"dataframe\">\n",
       "  <thead>\n",
       "    <tr style=\"text-align: right;\">\n",
       "      <th></th>\n",
       "      <th>Name</th>\n",
       "      <th>Age</th>\n",
       "    </tr>\n",
       "  </thead>\n",
       "  <tbody>\n",
       "    <tr>\n",
       "      <th>1</th>\n",
       "      <td>Bob</td>\n",
       "      <td>30</td>\n",
       "    </tr>\n",
       "    <tr>\n",
       "      <th>2</th>\n",
       "      <td>Charlie</td>\n",
       "      <td>28</td>\n",
       "    </tr>\n",
       "  </tbody>\n",
       "</table>\n",
       "</div>"
      ],
      "text/plain": [
       "      Name  Age\n",
       "1      Bob   30\n",
       "2  Charlie   28"
      ]
     },
     "execution_count": 7,
     "metadata": {},
     "output_type": "execute_result"
    }
   ],
   "source": [
    "df.query('Age>25')"
   ]
  },
  {
   "cell_type": "code",
   "execution_count": 8,
   "id": "4356330c",
   "metadata": {},
   "outputs": [
    {
     "data": {
      "text/plain": [
       "pandas.core.frame.DataFrame"
      ]
     },
     "execution_count": 8,
     "metadata": {},
     "output_type": "execute_result"
    }
   ],
   "source": [
    "type(df.query('Age>25'))"
   ]
  },
  {
   "cell_type": "code",
   "execution_count": 9,
   "id": "0bb8ab57",
   "metadata": {},
   "outputs": [
    {
     "data": {
      "text/plain": [
       "1    30\n",
       "2    28\n",
       "Name: Age, dtype: int64"
      ]
     },
     "execution_count": 9,
     "metadata": {},
     "output_type": "execute_result"
    }
   ],
   "source": [
    "df.query('Age>25')['Age']"
   ]
  },
  {
   "cell_type": "code",
   "execution_count": 10,
   "id": "7d2f89b6",
   "metadata": {},
   "outputs": [
    {
     "data": {
      "text/html": [
       "<div>\n",
       "<style scoped>\n",
       "    .dataframe tbody tr th:only-of-type {\n",
       "        vertical-align: middle;\n",
       "    }\n",
       "\n",
       "    .dataframe tbody tr th {\n",
       "        vertical-align: top;\n",
       "    }\n",
       "\n",
       "    .dataframe thead th {\n",
       "        text-align: right;\n",
       "    }\n",
       "</style>\n",
       "<table border=\"1\" class=\"dataframe\">\n",
       "  <thead>\n",
       "    <tr style=\"text-align: right;\">\n",
       "      <th></th>\n",
       "      <th>Sequences</th>\n",
       "    </tr>\n",
       "  </thead>\n",
       "  <tbody>\n",
       "    <tr>\n",
       "      <th>0</th>\n",
       "      <td>[1, 4, 5, 8]</td>\n",
       "    </tr>\n",
       "    <tr>\n",
       "      <th>1</th>\n",
       "      <td>[9, 7, 6, 1, 0]</td>\n",
       "    </tr>\n",
       "    <tr>\n",
       "      <th>2</th>\n",
       "      <td>[8, 9, 3]</td>\n",
       "    </tr>\n",
       "    <tr>\n",
       "      <th>3</th>\n",
       "      <td>[5, 5, 5, 5, 5, 5]</td>\n",
       "    </tr>\n",
       "    <tr>\n",
       "      <th>4</th>\n",
       "      <td>[-19, -8, 0, 5, 8, 10]</td>\n",
       "    </tr>\n",
       "    <tr>\n",
       "      <th>5</th>\n",
       "      <td>[19, 8, 0, 5, 8, 10]</td>\n",
       "    </tr>\n",
       "    <tr>\n",
       "      <th>6</th>\n",
       "      <td>[19, 8, 0, -5, -8, -10, -12, -19]</td>\n",
       "    </tr>\n",
       "  </tbody>\n",
       "</table>\n",
       "</div>"
      ],
      "text/plain": [
       "                           Sequences\n",
       "0                       [1, 4, 5, 8]\n",
       "1                    [9, 7, 6, 1, 0]\n",
       "2                          [8, 9, 3]\n",
       "3                 [5, 5, 5, 5, 5, 5]\n",
       "4             [-19, -8, 0, 5, 8, 10]\n",
       "5               [19, 8, 0, 5, 8, 10]\n",
       "6  [19, 8, 0, -5, -8, -10, -12, -19]"
      ]
     },
     "execution_count": 10,
     "metadata": {},
     "output_type": "execute_result"
    }
   ],
   "source": [
    "df = pd.DataFrame({\n",
    "    'Sequences': [\n",
    "        [1, 4, 5, 8],\n",
    "        [9, 7, 6,  1, 0],\n",
    "        [8, 9, 3],\n",
    "        [5, 5, 5, 5, 5, 5],\n",
    "        [-19, -8, 0, 5, 8, 10],\n",
    "        [19, 8, 0, 5, 8, 10],\n",
    "        [19, 8, 0, -5, -8, -10, -12, -19]]\n",
    "})\n",
    "df"
   ]
  },
  {
   "cell_type": "code",
   "execution_count": 45,
   "id": "e1471428",
   "metadata": {},
   "outputs": [],
   "source": [
    "def lst_order(lst: list[int]) -> str:\n",
    "    order = []\n",
    "    for idx in range(len(lst)-1):\n",
    "        if lst[idx]>lst[idx+1]:\n",
    "            order.append('D')\n",
    "        elif lst[idx]<lst[idx+1]:\n",
    "            order.append('I')\n",
    "        else:\n",
    "            order.append('E')\n",
    "    order = set(order)\n",
    "    if len(order) == 1 & ('I' in order or 'D' in order):\n",
    "        return order.pop()\n",
    "    else:\n",
    "        return 'N'"
   ]
  },
  {
   "cell_type": "code",
   "execution_count": 46,
   "id": "e3660c4c",
   "metadata": {},
   "outputs": [],
   "source": [
    "df['Answer'] = df['Sequences'].apply(lst_order)"
   ]
  },
  {
   "cell_type": "code",
   "execution_count": 47,
   "id": "e8abd8bc",
   "metadata": {},
   "outputs": [
    {
     "data": {
      "text/html": [
       "<div>\n",
       "<style scoped>\n",
       "    .dataframe tbody tr th:only-of-type {\n",
       "        vertical-align: middle;\n",
       "    }\n",
       "\n",
       "    .dataframe tbody tr th {\n",
       "        vertical-align: top;\n",
       "    }\n",
       "\n",
       "    .dataframe thead th {\n",
       "        text-align: right;\n",
       "    }\n",
       "</style>\n",
       "<table border=\"1\" class=\"dataframe\">\n",
       "  <thead>\n",
       "    <tr style=\"text-align: right;\">\n",
       "      <th></th>\n",
       "      <th>Sequences</th>\n",
       "      <th>Answer</th>\n",
       "    </tr>\n",
       "  </thead>\n",
       "  <tbody>\n",
       "    <tr>\n",
       "      <th>0</th>\n",
       "      <td>[1, 4, 5, 8]</td>\n",
       "      <td>I</td>\n",
       "    </tr>\n",
       "    <tr>\n",
       "      <th>1</th>\n",
       "      <td>[9, 7, 6, 1, 0]</td>\n",
       "      <td>D</td>\n",
       "    </tr>\n",
       "    <tr>\n",
       "      <th>2</th>\n",
       "      <td>[8, 9, 3]</td>\n",
       "      <td>N</td>\n",
       "    </tr>\n",
       "    <tr>\n",
       "      <th>3</th>\n",
       "      <td>[5, 5, 5, 5, 5, 5]</td>\n",
       "      <td>N</td>\n",
       "    </tr>\n",
       "    <tr>\n",
       "      <th>4</th>\n",
       "      <td>[-19, -8, 0, 5, 8, 10]</td>\n",
       "      <td>I</td>\n",
       "    </tr>\n",
       "    <tr>\n",
       "      <th>5</th>\n",
       "      <td>[19, 8, 0, 5, 8, 10]</td>\n",
       "      <td>N</td>\n",
       "    </tr>\n",
       "    <tr>\n",
       "      <th>6</th>\n",
       "      <td>[19, 8, 0, -5, -8, -10, -12, -19]</td>\n",
       "      <td>D</td>\n",
       "    </tr>\n",
       "  </tbody>\n",
       "</table>\n",
       "</div>"
      ],
      "text/plain": [
       "                           Sequences Answer\n",
       "0                       [1, 4, 5, 8]      I\n",
       "1                    [9, 7, 6, 1, 0]      D\n",
       "2                          [8, 9, 3]      N\n",
       "3                 [5, 5, 5, 5, 5, 5]      N\n",
       "4             [-19, -8, 0, 5, 8, 10]      I\n",
       "5               [19, 8, 0, 5, 8, 10]      N\n",
       "6  [19, 8, 0, -5, -8, -10, -12, -19]      D"
      ]
     },
     "execution_count": 47,
     "metadata": {},
     "output_type": "execute_result"
    }
   ],
   "source": [
    "df"
   ]
  },
  {
   "cell_type": "code",
   "execution_count": 85,
   "id": "df166862",
   "metadata": {},
   "outputs": [
    {
     "data": {
      "text/html": [
       "<div>\n",
       "<style scoped>\n",
       "    .dataframe tbody tr th:only-of-type {\n",
       "        vertical-align: middle;\n",
       "    }\n",
       "\n",
       "    .dataframe tbody tr th {\n",
       "        vertical-align: top;\n",
       "    }\n",
       "\n",
       "    .dataframe thead th {\n",
       "        text-align: right;\n",
       "    }\n",
       "</style>\n",
       "<table border=\"1\" class=\"dataframe\">\n",
       "  <thead>\n",
       "    <tr style=\"text-align: right;\">\n",
       "      <th></th>\n",
       "      <th>Sequences</th>\n",
       "    </tr>\n",
       "  </thead>\n",
       "  <tbody>\n",
       "    <tr>\n",
       "      <th>0</th>\n",
       "      <td>1, 4, 5, 8</td>\n",
       "    </tr>\n",
       "    <tr>\n",
       "      <th>1</th>\n",
       "      <td>9, 7, 6,  1, 0</td>\n",
       "    </tr>\n",
       "    <tr>\n",
       "      <th>2</th>\n",
       "      <td>8, 9, 3</td>\n",
       "    </tr>\n",
       "    <tr>\n",
       "      <th>3</th>\n",
       "      <td>5, 5, 5, 5, 5, 5</td>\n",
       "    </tr>\n",
       "    <tr>\n",
       "      <th>4</th>\n",
       "      <td>-19, -8, 0, 5, 8, 10</td>\n",
       "    </tr>\n",
       "    <tr>\n",
       "      <th>5</th>\n",
       "      <td>19, 8, 0, 5, 8, 10</td>\n",
       "    </tr>\n",
       "    <tr>\n",
       "      <th>6</th>\n",
       "      <td>19, 8, 0, -5, -8, -10, -12, -19</td>\n",
       "    </tr>\n",
       "  </tbody>\n",
       "</table>\n",
       "</div>"
      ],
      "text/plain": [
       "                         Sequences\n",
       "0                       1, 4, 5, 8\n",
       "1                   9, 7, 6,  1, 0\n",
       "2                          8, 9, 3\n",
       "3                 5, 5, 5, 5, 5, 5\n",
       "4             -19, -8, 0, 5, 8, 10\n",
       "5               19, 8, 0, 5, 8, 10\n",
       "6  19, 8, 0, -5, -8, -10, -12, -19"
      ]
     },
     "execution_count": 85,
     "metadata": {},
     "output_type": "execute_result"
    }
   ],
   "source": [
    "df = pd.DataFrame({\n",
    "    'Sequences': [\n",
    "        '1, 4, 5, 8',\n",
    "        '9, 7, 6,  1, 0',\n",
    "        '8, 9, 3',\n",
    "        '5, 5, 5, 5, 5, 5',\n",
    "        '-19, -8, 0, 5, 8, 10',\n",
    "        '19, 8, 0, 5, 8, 10',\n",
    "        '19, 8, 0, -5, -8, -10, -12, -19']\n",
    "})\n",
    "df"
   ]
  },
  {
   "cell_type": "code",
   "execution_count": 86,
   "id": "e4ea09b7",
   "metadata": {},
   "outputs": [
    {
     "data": {
      "text/html": [
       "<div>\n",
       "<style scoped>\n",
       "    .dataframe tbody tr th:only-of-type {\n",
       "        vertical-align: middle;\n",
       "    }\n",
       "\n",
       "    .dataframe tbody tr th {\n",
       "        vertical-align: top;\n",
       "    }\n",
       "\n",
       "    .dataframe thead th {\n",
       "        text-align: right;\n",
       "    }\n",
       "</style>\n",
       "<table border=\"1\" class=\"dataframe\">\n",
       "  <thead>\n",
       "    <tr style=\"text-align: right;\">\n",
       "      <th></th>\n",
       "      <th>Sequences</th>\n",
       "      <th>Answer</th>\n",
       "    </tr>\n",
       "  </thead>\n",
       "  <tbody>\n",
       "    <tr>\n",
       "      <th>0</th>\n",
       "      <td>1, 4, 5, 8</td>\n",
       "      <td>[1, 4, 5, 8]</td>\n",
       "    </tr>\n",
       "    <tr>\n",
       "      <th>1</th>\n",
       "      <td>9, 7, 6,  1, 0</td>\n",
       "      <td>[9, 7, 6, 1, 0]</td>\n",
       "    </tr>\n",
       "    <tr>\n",
       "      <th>2</th>\n",
       "      <td>8, 9, 3</td>\n",
       "      <td>[8, 9, 3]</td>\n",
       "    </tr>\n",
       "    <tr>\n",
       "      <th>3</th>\n",
       "      <td>5, 5, 5, 5, 5, 5</td>\n",
       "      <td>[5, 5, 5, 5, 5, 5]</td>\n",
       "    </tr>\n",
       "    <tr>\n",
       "      <th>4</th>\n",
       "      <td>-19, -8, 0, 5, 8, 10</td>\n",
       "      <td>[-19, -8, 0, 5, 8, 10]</td>\n",
       "    </tr>\n",
       "    <tr>\n",
       "      <th>5</th>\n",
       "      <td>19, 8, 0, 5, 8, 10</td>\n",
       "      <td>[19, 8, 0, 5, 8, 10]</td>\n",
       "    </tr>\n",
       "    <tr>\n",
       "      <th>6</th>\n",
       "      <td>19, 8, 0, -5, -8, -10, -12, -19</td>\n",
       "      <td>[19, 8, 0, -5, -8, -10, -12, -19]</td>\n",
       "    </tr>\n",
       "  </tbody>\n",
       "</table>\n",
       "</div>"
      ],
      "text/plain": [
       "                         Sequences                             Answer\n",
       "0                       1, 4, 5, 8                       [1, 4, 5, 8]\n",
       "1                   9, 7, 6,  1, 0                    [9, 7, 6, 1, 0]\n",
       "2                          8, 9, 3                          [8, 9, 3]\n",
       "3                 5, 5, 5, 5, 5, 5                 [5, 5, 5, 5, 5, 5]\n",
       "4             -19, -8, 0, 5, 8, 10             [-19, -8, 0, 5, 8, 10]\n",
       "5               19, 8, 0, 5, 8, 10               [19, 8, 0, 5, 8, 10]\n",
       "6  19, 8, 0, -5, -8, -10, -12, -19  [19, 8, 0, -5, -8, -10, -12, -19]"
      ]
     },
     "execution_count": 86,
     "metadata": {},
     "output_type": "execute_result"
    }
   ],
   "source": [
    "df['Answer'] = df['Sequences'].apply(lambda x: [int(_) for _ in x.split(', ')])\n",
    "df"
   ]
  },
  {
   "cell_type": "code",
   "execution_count": 87,
   "id": "16fa4d74",
   "metadata": {},
   "outputs": [],
   "source": [
    "import numpy as np\n",
    "\n",
    "def get_list_element_diff(lst: list) -> str:\n",
    "    return np.diff(lst)\n",
    "\n",
    "def chk_sort_order(lst: list) -> str:\n",
    "    return  'I' if all(np.diff(lst)> 0) else\\\n",
    "            'D' if all(np.diff(lst)< 0) else\\\n",
    "            'N'"
   ]
  },
  {
   "cell_type": "code",
   "execution_count": 88,
   "id": "742071ad",
   "metadata": {},
   "outputs": [
    {
     "data": {
      "text/html": [
       "<div>\n",
       "<style scoped>\n",
       "    .dataframe tbody tr th:only-of-type {\n",
       "        vertical-align: middle;\n",
       "    }\n",
       "\n",
       "    .dataframe tbody tr th {\n",
       "        vertical-align: top;\n",
       "    }\n",
       "\n",
       "    .dataframe thead th {\n",
       "        text-align: right;\n",
       "    }\n",
       "</style>\n",
       "<table border=\"1\" class=\"dataframe\">\n",
       "  <thead>\n",
       "    <tr style=\"text-align: right;\">\n",
       "      <th></th>\n",
       "      <th>Sequences</th>\n",
       "      <th>Answer</th>\n",
       "    </tr>\n",
       "  </thead>\n",
       "  <tbody>\n",
       "    <tr>\n",
       "      <th>0</th>\n",
       "      <td>1, 4, 5, 8</td>\n",
       "      <td>I</td>\n",
       "    </tr>\n",
       "    <tr>\n",
       "      <th>1</th>\n",
       "      <td>9, 7, 6,  1, 0</td>\n",
       "      <td>D</td>\n",
       "    </tr>\n",
       "    <tr>\n",
       "      <th>2</th>\n",
       "      <td>8, 9, 3</td>\n",
       "      <td>N</td>\n",
       "    </tr>\n",
       "    <tr>\n",
       "      <th>3</th>\n",
       "      <td>5, 5, 5, 5, 5, 5</td>\n",
       "      <td>N</td>\n",
       "    </tr>\n",
       "    <tr>\n",
       "      <th>4</th>\n",
       "      <td>-19, -8, 0, 5, 8, 10</td>\n",
       "      <td>I</td>\n",
       "    </tr>\n",
       "    <tr>\n",
       "      <th>5</th>\n",
       "      <td>19, 8, 0, 5, 8, 10</td>\n",
       "      <td>N</td>\n",
       "    </tr>\n",
       "    <tr>\n",
       "      <th>6</th>\n",
       "      <td>19, 8, 0, -5, -8, -10, -12, -19</td>\n",
       "      <td>D</td>\n",
       "    </tr>\n",
       "  </tbody>\n",
       "</table>\n",
       "</div>"
      ],
      "text/plain": [
       "                         Sequences Answer\n",
       "0                       1, 4, 5, 8      I\n",
       "1                   9, 7, 6,  1, 0      D\n",
       "2                          8, 9, 3      N\n",
       "3                 5, 5, 5, 5, 5, 5      N\n",
       "4             -19, -8, 0, 5, 8, 10      I\n",
       "5               19, 8, 0, 5, 8, 10      N\n",
       "6  19, 8, 0, -5, -8, -10, -12, -19      D"
      ]
     },
     "execution_count": 88,
     "metadata": {},
     "output_type": "execute_result"
    }
   ],
   "source": [
    "df['Answer'] = df['Answer'].apply(chk_sort_order)\n",
    "df"
   ]
  },
  {
   "cell_type": "code",
   "execution_count": 90,
   "id": "3d95cad1",
   "metadata": {},
   "outputs": [],
   "source": [
    "arr_2d = np.array(\n",
    "    [[1, 2, 4],\n",
    "    [10, 20, 30]]\n",
    ")"
   ]
  },
  {
   "cell_type": "code",
   "execution_count": 91,
   "id": "83bec9e6",
   "metadata": {},
   "outputs": [
    {
     "data": {
      "text/plain": [
       "array([[ 1,  2],\n",
       "       [10, 10]])"
      ]
     },
     "execution_count": 91,
     "metadata": {},
     "output_type": "execute_result"
    }
   ],
   "source": [
    "np.diff(arr_2d)"
   ]
  },
  {
   "cell_type": "code",
   "execution_count": 92,
   "id": "8bf91f18",
   "metadata": {},
   "outputs": [
    {
     "data": {
      "text/plain": [
       "array([[ 1,  2],\n",
       "       [10, 10]])"
      ]
     },
     "execution_count": 92,
     "metadata": {},
     "output_type": "execute_result"
    }
   ],
   "source": [
    "np.diff(arr_2d, axis=1)"
   ]
  },
  {
   "cell_type": "code",
   "execution_count": 93,
   "id": "777611d2",
   "metadata": {},
   "outputs": [
    {
     "data": {
      "text/plain": [
       "array([[ 9, 18, 26]])"
      ]
     },
     "execution_count": 93,
     "metadata": {},
     "output_type": "execute_result"
    }
   ],
   "source": [
    "np.diff(arr_2d, axis=0)"
   ]
  },
  {
   "cell_type": "code",
   "execution_count": 96,
   "id": "a87b5a52",
   "metadata": {},
   "outputs": [
    {
     "data": {
      "text/html": [
       "<div>\n",
       "<style scoped>\n",
       "    .dataframe tbody tr th:only-of-type {\n",
       "        vertical-align: middle;\n",
       "    }\n",
       "\n",
       "    .dataframe tbody tr th {\n",
       "        vertical-align: top;\n",
       "    }\n",
       "\n",
       "    .dataframe thead th {\n",
       "        text-align: right;\n",
       "    }\n",
       "</style>\n",
       "<table border=\"1\" class=\"dataframe\">\n",
       "  <thead>\n",
       "    <tr style=\"text-align: right;\">\n",
       "      <th></th>\n",
       "      <th>Sequences</th>\n",
       "      <th>Answer</th>\n",
       "    </tr>\n",
       "  </thead>\n",
       "  <tbody>\n",
       "    <tr>\n",
       "      <th>0</th>\n",
       "      <td>True</td>\n",
       "      <td>True</td>\n",
       "    </tr>\n",
       "    <tr>\n",
       "      <th>1</th>\n",
       "      <td>True</td>\n",
       "      <td>True</td>\n",
       "    </tr>\n",
       "    <tr>\n",
       "      <th>2</th>\n",
       "      <td>True</td>\n",
       "      <td>True</td>\n",
       "    </tr>\n",
       "    <tr>\n",
       "      <th>3</th>\n",
       "      <td>True</td>\n",
       "      <td>True</td>\n",
       "    </tr>\n",
       "    <tr>\n",
       "      <th>4</th>\n",
       "      <td>True</td>\n",
       "      <td>True</td>\n",
       "    </tr>\n",
       "    <tr>\n",
       "      <th>5</th>\n",
       "      <td>True</td>\n",
       "      <td>True</td>\n",
       "    </tr>\n",
       "    <tr>\n",
       "      <th>6</th>\n",
       "      <td>True</td>\n",
       "      <td>True</td>\n",
       "    </tr>\n",
       "  </tbody>\n",
       "</table>\n",
       "</div>"
      ],
      "text/plain": [
       "   Sequences  Answer\n",
       "0       True    True\n",
       "1       True    True\n",
       "2       True    True\n",
       "3       True    True\n",
       "4       True    True\n",
       "5       True    True\n",
       "6       True    True"
      ]
     },
     "execution_count": 96,
     "metadata": {},
     "output_type": "execute_result"
    }
   ],
   "source": [
    "df.notnull()"
   ]
  },
  {
   "cell_type": "code",
   "execution_count": 98,
   "id": "34f75c7d",
   "metadata": {},
   "outputs": [],
   "source": [
    "iris = pd.read_csv('https://raw.githubusercontent.com/mwaskom/seaborn-data/master/iris.csv')"
   ]
  },
  {
   "cell_type": "code",
   "execution_count": 100,
   "id": "81ba5e9e",
   "metadata": {},
   "outputs": [
    {
     "data": {
      "text/html": [
       "<div>\n",
       "<style scoped>\n",
       "    .dataframe tbody tr th:only-of-type {\n",
       "        vertical-align: middle;\n",
       "    }\n",
       "\n",
       "    .dataframe tbody tr th {\n",
       "        vertical-align: top;\n",
       "    }\n",
       "\n",
       "    .dataframe thead th {\n",
       "        text-align: right;\n",
       "    }\n",
       "</style>\n",
       "<table border=\"1\" class=\"dataframe\">\n",
       "  <thead>\n",
       "    <tr style=\"text-align: right;\">\n",
       "      <th></th>\n",
       "      <th>sepal_length</th>\n",
       "      <th>sepal_width</th>\n",
       "      <th>petal_length</th>\n",
       "      <th>petal_width</th>\n",
       "      <th>species</th>\n",
       "    </tr>\n",
       "  </thead>\n",
       "  <tbody>\n",
       "    <tr>\n",
       "      <th>0</th>\n",
       "      <td>5.1</td>\n",
       "      <td>3.5</td>\n",
       "      <td>1.4</td>\n",
       "      <td>0.2</td>\n",
       "      <td>setosa</td>\n",
       "    </tr>\n",
       "    <tr>\n",
       "      <th>1</th>\n",
       "      <td>4.9</td>\n",
       "      <td>3.0</td>\n",
       "      <td>1.4</td>\n",
       "      <td>0.2</td>\n",
       "      <td>setosa</td>\n",
       "    </tr>\n",
       "    <tr>\n",
       "      <th>2</th>\n",
       "      <td>4.7</td>\n",
       "      <td>3.2</td>\n",
       "      <td>1.3</td>\n",
       "      <td>0.2</td>\n",
       "      <td>setosa</td>\n",
       "    </tr>\n",
       "    <tr>\n",
       "      <th>3</th>\n",
       "      <td>4.6</td>\n",
       "      <td>3.1</td>\n",
       "      <td>1.5</td>\n",
       "      <td>0.2</td>\n",
       "      <td>setosa</td>\n",
       "    </tr>\n",
       "    <tr>\n",
       "      <th>4</th>\n",
       "      <td>5.0</td>\n",
       "      <td>3.6</td>\n",
       "      <td>1.4</td>\n",
       "      <td>0.2</td>\n",
       "      <td>setosa</td>\n",
       "    </tr>\n",
       "  </tbody>\n",
       "</table>\n",
       "</div>"
      ],
      "text/plain": [
       "   sepal_length  sepal_width  petal_length  petal_width species\n",
       "0           5.1          3.5           1.4          0.2  setosa\n",
       "1           4.9          3.0           1.4          0.2  setosa\n",
       "2           4.7          3.2           1.3          0.2  setosa\n",
       "3           4.6          3.1           1.5          0.2  setosa\n",
       "4           5.0          3.6           1.4          0.2  setosa"
      ]
     },
     "execution_count": 100,
     "metadata": {},
     "output_type": "execute_result"
    }
   ],
   "source": [
    "iris.head()"
   ]
  },
  {
   "cell_type": "code",
   "execution_count": 101,
   "id": "67768bb1",
   "metadata": {},
   "outputs": [
    {
     "data": {
      "text/plain": [
       "np.float64(1.3)"
      ]
     },
     "execution_count": 101,
     "metadata": {},
     "output_type": "execute_result"
    }
   ],
   "source": [
    "iris['petal_width'].quantile()"
   ]
  },
  {
   "cell_type": "code",
   "execution_count": 102,
   "id": "85a60ff1",
   "metadata": {},
   "outputs": [
    {
     "data": {
      "text/plain": [
       "species\n",
       "setosa        0.2\n",
       "versicolor    1.3\n",
       "virginica     2.0\n",
       "Name: petal_width, dtype: float64"
      ]
     },
     "execution_count": 102,
     "metadata": {},
     "output_type": "execute_result"
    }
   ],
   "source": [
    "iris.groupby('species')['petal_width'].quantile()"
   ]
  },
  {
   "cell_type": "code",
   "execution_count": 111,
   "id": "d3f8e614",
   "metadata": {},
   "outputs": [
    {
     "data": {
      "text/plain": [
       "species         \n",
       "setosa      0.25    0.200\n",
       "            0.50    0.200\n",
       "            0.60    0.200\n",
       "            0.67    0.200\n",
       "            0.75    0.300\n",
       "            0.95    0.400\n",
       "versicolor  0.25    1.200\n",
       "            0.50    1.300\n",
       "            0.60    1.400\n",
       "            0.67    1.400\n",
       "            0.75    1.500\n",
       "            0.95    1.600\n",
       "virginica   0.25    1.800\n",
       "            0.50    2.000\n",
       "            0.60    2.100\n",
       "            0.67    2.183\n",
       "            0.75    2.300\n",
       "            0.95    2.455\n",
       "Name: petal_width, dtype: float64"
      ]
     },
     "execution_count": 111,
     "metadata": {},
     "output_type": "execute_result"
    }
   ],
   "source": [
    "iris.groupby('species')['petal_width'].quantile([0.25, 0.5, 0.6, 0.67, 0.75, 0.95])"
   ]
  },
  {
   "cell_type": "code",
   "execution_count": 115,
   "id": "a8bb3122",
   "metadata": {},
   "outputs": [
    {
     "name": "stdout",
     "output_type": "stream",
     "text": [
      "Missing value counts per column:\n",
      " Name    1\n",
      "Age     1\n",
      "City    1\n",
      "dtype: int64\n",
      "\n",
      "DataFrame after dropping rows with any missing value:\n",
      "     Name   Age      City\n",
      "0  Alice  25.0  New York\n",
      "3  David  35.0     Paris\n",
      "\n",
      "DataFrame after filling missing 'Age' with mean:\n",
      "     Name   Age      City\n",
      "0  Alice  25.0  New York\n",
      "1    Bob  30.0       NaN\n",
      "2    NaN  30.0    London\n",
      "3  David  35.0     Paris\n",
      "\n",
      "DataFrame after filling missing 'Age' with median:\n",
      "     Name   Age      City\n",
      "0  Alice  25.0  New York\n",
      "1    Bob  30.0       NaN\n",
      "2    NaN  30.0    London\n",
      "3  David  35.0     Paris\n",
      "\n",
      "DataFrame with 'Age' capped at 40:\n",
      "     Name   Age      City  Age_capped\n",
      "0  Alice  25.0  New York        25.0\n",
      "1    Bob  30.0       NaN        30.0\n",
      "2    NaN   NaN    London         NaN\n",
      "3  David  35.0     Paris        35.0\n",
      "\n",
      "Data types after conversion:\n",
      " Name           object\n",
      "Age           float64\n",
      "City           object\n",
      "Age_capped    float64\n",
      "dtype: object\n",
      "\n",
      "Descriptive statistics:\n",
      "         Age  Age_capped\n",
      "count   3.0         3.0\n",
      "mean   30.0        30.0\n",
      "std     5.0         5.0\n",
      "min    25.0        25.0\n",
      "25%    27.5        27.5\n",
      "50%    30.0        30.0\n",
      "75%    32.5        32.5\n",
      "max    35.0        35.0\n"
     ]
    },
    {
     "data": {
      "text/plain": [
       "'\\nAverage Age by City:\\n'"
      ]
     },
     "metadata": {},
     "output_type": "display_data"
    },
    {
     "data": {
      "text/plain": [
       "City\n",
       "London       NaN\n",
       "New York    25.0\n",
       "Paris       35.0\n",
       "Name: Age, dtype: float64"
      ]
     },
     "metadata": {},
     "output_type": "display_data"
    }
   ],
   "source": [
    "import pandas as pd\n",
    "import numpy as np\n",
    "\n",
    "# Sample DataFrame with missing values\n",
    "data = {'Name': ['Alice', 'Bob', np.nan, 'David'], \n",
    "        'Age': [25, 30, np.nan, 35], \n",
    "        'City': ['New York', np.nan, 'London', 'Paris']}\n",
    "df = pd.DataFrame(data)\n",
    "\n",
    "# 1. Identifying missing values\n",
    "print(\"Missing value counts per column:\\n\",df.isnull().sum())\n",
    "\n",
    "# 2. Removing missing values (dropna)\n",
    "df_dropped = df.dropna()\n",
    "print(\"\\nDataFrame after dropping rows with any missing value:\\n\", df_dropped)\n",
    "\n",
    "# 3. Imputing with mean (for numerical columns)\n",
    "df_filled_mean = df.fillna(df.mean(numeric_only=True))\n",
    "print(\"\\nDataFrame after filling missing 'Age' with mean:\\n\", df_filled_mean)\n",
    "\n",
    "# 3. Imputing with median (for numerical columns)\n",
    "df_filled_median = df.fillna(df.median(numeric_only=True))\n",
    "print(\"\\nDataFrame after filling missing 'Age' with median:\\n\", df_filled_median)\n",
    "\n",
    "# 4. Handling outliers (demonstration with 'Age')\n",
    "# Assuming we identify 40 as an outlier based on domain knowledge or visualization\n",
    "df['Age_capped'] = df['Age'].clip(upper=40)  # Cap values at 28\n",
    "print(\"\\nDataFrame with 'Age' capped at 40:\\n\", df)\n",
    "\n",
    "# 5. Data type conversion\n",
    "df['Age'] = pd.to_numeric(df['Age'], errors='coerce')  # Convert to numeric, handling errors\n",
    "print(\"\\nData types after conversion:\\n\", df.dtypes)\n",
    "\n",
    "# 6. Exploratory Data Analysis\n",
    "print(\"\\nDescriptive statistics:\\n\", df.describe())\n",
    "\n",
    "# Group by and aggregate\n",
    "grouped_data = df.groupby('City')['Age'].mean()\n",
    "display(\"\\nAverage Age by City:\\n\", grouped_data)"
   ]
  },
  {
   "cell_type": "code",
   "execution_count": 117,
   "id": "d3a7dd37",
   "metadata": {},
   "outputs": [
    {
     "name": "stdout",
     "output_type": "stream",
     "text": [
      "0     5\n",
      "1    15\n",
      "2    25\n",
      "3    35\n",
      "4    45\n",
      "dtype: int64\n",
      "0    10\n",
      "1    15\n",
      "2    25\n",
      "3    30\n",
      "4    30\n",
      "dtype: int64\n"
     ]
    }
   ],
   "source": [
    "import pandas as pd\n",
    "\n",
    "# Create a Pandas Series\n",
    "s = pd.Series([5, 15, 25, 35, 45])\n",
    "print(s)\n",
    "\n",
    "# Apply clip with lower=10 and upper=30\n",
    "clipped_s = s.clip(lower=10, upper=30)\n",
    "\n",
    "print(clipped_s)"
   ]
  },
  {
   "cell_type": "code",
   "execution_count": 118,
   "id": "fc4ec9d0",
   "metadata": {},
   "outputs": [
    {
     "data": {
      "text/plain": [
       "0    10\n",
       "1    15\n",
       "2    25\n",
       "3    30\n",
       "4    30\n",
       "dtype: int64"
      ]
     },
     "execution_count": 118,
     "metadata": {},
     "output_type": "execute_result"
    }
   ],
   "source": [
    "pd.Series([5, 15, 25, 35, 45]).clip(lower=10, upper=30)"
   ]
  },
  {
   "cell_type": "code",
   "execution_count": 119,
   "id": "cec5c95b",
   "metadata": {},
   "outputs": [
    {
     "data": {
      "text/html": [
       "<div>\n",
       "<style scoped>\n",
       "    .dataframe tbody tr th:only-of-type {\n",
       "        vertical-align: middle;\n",
       "    }\n",
       "\n",
       "    .dataframe tbody tr th {\n",
       "        vertical-align: top;\n",
       "    }\n",
       "\n",
       "    .dataframe thead th {\n",
       "        text-align: right;\n",
       "    }\n",
       "</style>\n",
       "<table border=\"1\" class=\"dataframe\">\n",
       "  <thead>\n",
       "    <tr style=\"text-align: right;\">\n",
       "      <th></th>\n",
       "      <th>Age</th>\n",
       "      <th>Age_capped</th>\n",
       "    </tr>\n",
       "  </thead>\n",
       "  <tbody>\n",
       "    <tr>\n",
       "      <th>count</th>\n",
       "      <td>3.0</td>\n",
       "      <td>3.0</td>\n",
       "    </tr>\n",
       "    <tr>\n",
       "      <th>mean</th>\n",
       "      <td>30.0</td>\n",
       "      <td>30.0</td>\n",
       "    </tr>\n",
       "    <tr>\n",
       "      <th>std</th>\n",
       "      <td>5.0</td>\n",
       "      <td>5.0</td>\n",
       "    </tr>\n",
       "    <tr>\n",
       "      <th>min</th>\n",
       "      <td>25.0</td>\n",
       "      <td>25.0</td>\n",
       "    </tr>\n",
       "    <tr>\n",
       "      <th>25%</th>\n",
       "      <td>27.5</td>\n",
       "      <td>27.5</td>\n",
       "    </tr>\n",
       "    <tr>\n",
       "      <th>50%</th>\n",
       "      <td>30.0</td>\n",
       "      <td>30.0</td>\n",
       "    </tr>\n",
       "    <tr>\n",
       "      <th>75%</th>\n",
       "      <td>32.5</td>\n",
       "      <td>32.5</td>\n",
       "    </tr>\n",
       "    <tr>\n",
       "      <th>max</th>\n",
       "      <td>35.0</td>\n",
       "      <td>35.0</td>\n",
       "    </tr>\n",
       "  </tbody>\n",
       "</table>\n",
       "</div>"
      ],
      "text/plain": [
       "        Age  Age_capped\n",
       "count   3.0         3.0\n",
       "mean   30.0        30.0\n",
       "std     5.0         5.0\n",
       "min    25.0        25.0\n",
       "25%    27.5        27.5\n",
       "50%    30.0        30.0\n",
       "75%    32.5        32.5\n",
       "max    35.0        35.0"
      ]
     },
     "execution_count": 119,
     "metadata": {},
     "output_type": "execute_result"
    }
   ],
   "source": [
    "df.describe()"
   ]
  },
  {
   "cell_type": "code",
   "execution_count": 120,
   "id": "33c3648b",
   "metadata": {},
   "outputs": [],
   "source": [
    "st = set([1,2, 3, 4])"
   ]
  },
  {
   "cell_type": "code",
   "execution_count": 121,
   "id": "04f6aa14",
   "metadata": {},
   "outputs": [
    {
     "data": {
      "text/html": [
       "<div>\n",
       "<style scoped>\n",
       "    .dataframe tbody tr th:only-of-type {\n",
       "        vertical-align: middle;\n",
       "    }\n",
       "\n",
       "    .dataframe tbody tr th {\n",
       "        vertical-align: top;\n",
       "    }\n",
       "\n",
       "    .dataframe thead th {\n",
       "        text-align: right;\n",
       "    }\n",
       "</style>\n",
       "<table border=\"1\" class=\"dataframe\">\n",
       "  <thead>\n",
       "    <tr style=\"text-align: right;\">\n",
       "      <th></th>\n",
       "      <th>Date</th>\n",
       "      <th>Stock</th>\n",
       "      <th>Open</th>\n",
       "      <th>Close</th>\n",
       "      <th>Volume</th>\n",
       "    </tr>\n",
       "  </thead>\n",
       "  <tbody>\n",
       "    <tr>\n",
       "      <th>0</th>\n",
       "      <td>2024-02-12</td>\n",
       "      <td>AAPL</td>\n",
       "      <td>182.5</td>\n",
       "      <td>185.2</td>\n",
       "      <td>5000000</td>\n",
       "    </tr>\n",
       "    <tr>\n",
       "      <th>1</th>\n",
       "      <td>2024-02-13</td>\n",
       "      <td>MSFT</td>\n",
       "      <td>410.2</td>\n",
       "      <td>415.8</td>\n",
       "      <td>3200000</td>\n",
       "    </tr>\n",
       "    <tr>\n",
       "      <th>2</th>\n",
       "      <td>2024-02-14</td>\n",
       "      <td>GOOGL</td>\n",
       "      <td>141.3</td>\n",
       "      <td>144.1</td>\n",
       "      <td>2100000</td>\n",
       "    </tr>\n",
       "    <tr>\n",
       "      <th>3</th>\n",
       "      <td>2024-02-15</td>\n",
       "      <td>TSLA</td>\n",
       "      <td>196.8</td>\n",
       "      <td>200.5</td>\n",
       "      <td>4800000</td>\n",
       "    </tr>\n",
       "    <tr>\n",
       "      <th>4</th>\n",
       "      <td>2024-02-16</td>\n",
       "      <td>AMZN</td>\n",
       "      <td>155.4</td>\n",
       "      <td>158.2</td>\n",
       "      <td>3900000</td>\n",
       "    </tr>\n",
       "  </tbody>\n",
       "</table>\n",
       "</div>"
      ],
      "text/plain": [
       "        Date  Stock   Open  Close   Volume\n",
       "0 2024-02-12   AAPL  182.5  185.2  5000000\n",
       "1 2024-02-13   MSFT  410.2  415.8  3200000\n",
       "2 2024-02-14  GOOGL  141.3  144.1  2100000\n",
       "3 2024-02-15   TSLA  196.8  200.5  4800000\n",
       "4 2024-02-16   AMZN  155.4  158.2  3900000"
      ]
     },
     "execution_count": 121,
     "metadata": {},
     "output_type": "execute_result"
    }
   ],
   "source": [
    "import pandas as pd\n",
    "\n",
    "# Create a sample dataset\n",
    "data = {\n",
    "    'Date': pd.date_range(start='2024-02-12', periods=5, freq='D'),\n",
    "    'Stock': ['AAPL', 'MSFT', 'GOOGL', 'TSLA', 'AMZN'],\n",
    "    'Open': [182.5, 410.2, 141.3, 196.8, 155.4],\n",
    "    'Close': [185.2, 415.8, 144.1, 200.5, 158.2],\n",
    "    'Volume': [5000000, 3200000, 2100000, 4800000, 3900000]\n",
    "}\n",
    "\n",
    "# Convert to DataFrame\n",
    "df = pd.DataFrame(data)\n",
    "\n",
    "# Display dataset\n",
    "df"
   ]
  },
  {
   "cell_type": "code",
   "execution_count": 130,
   "id": "e7ebf317",
   "metadata": {},
   "outputs": [
    {
     "data": {
      "text/html": [
       "<div>\n",
       "<style scoped>\n",
       "    .dataframe tbody tr th:only-of-type {\n",
       "        vertical-align: middle;\n",
       "    }\n",
       "\n",
       "    .dataframe tbody tr th {\n",
       "        vertical-align: top;\n",
       "    }\n",
       "\n",
       "    .dataframe thead th {\n",
       "        text-align: right;\n",
       "    }\n",
       "</style>\n",
       "<table border=\"1\" class=\"dataframe\">\n",
       "  <thead>\n",
       "    <tr style=\"text-align: right;\">\n",
       "      <th></th>\n",
       "      <th>Date</th>\n",
       "      <th>Stock</th>\n",
       "      <th>Close</th>\n",
       "      <th>7_day_avg</th>\n",
       "    </tr>\n",
       "  </thead>\n",
       "  <tbody>\n",
       "    <tr>\n",
       "      <th>0</th>\n",
       "      <td>2024-02-01</td>\n",
       "      <td>AAPL</td>\n",
       "      <td>188</td>\n",
       "      <td>NaN</td>\n",
       "    </tr>\n",
       "    <tr>\n",
       "      <th>1</th>\n",
       "      <td>2024-02-02</td>\n",
       "      <td>AAPL</td>\n",
       "      <td>178</td>\n",
       "      <td>NaN</td>\n",
       "    </tr>\n",
       "    <tr>\n",
       "      <th>2</th>\n",
       "      <td>2024-02-03</td>\n",
       "      <td>AAPL</td>\n",
       "      <td>164</td>\n",
       "      <td>NaN</td>\n",
       "    </tr>\n",
       "    <tr>\n",
       "      <th>3</th>\n",
       "      <td>2024-02-04</td>\n",
       "      <td>AAPL</td>\n",
       "      <td>192</td>\n",
       "      <td>NaN</td>\n",
       "    </tr>\n",
       "    <tr>\n",
       "      <th>4</th>\n",
       "      <td>2024-02-05</td>\n",
       "      <td>AAPL</td>\n",
       "      <td>157</td>\n",
       "      <td>NaN</td>\n",
       "    </tr>\n",
       "  </tbody>\n",
       "</table>\n",
       "</div>"
      ],
      "text/plain": [
       "        Date Stock  Close  7_day_avg\n",
       "0 2024-02-01  AAPL    188        NaN\n",
       "1 2024-02-02  AAPL    178        NaN\n",
       "2 2024-02-03  AAPL    164        NaN\n",
       "3 2024-02-04  AAPL    192        NaN\n",
       "4 2024-02-05  AAPL    157        NaN"
      ]
     },
     "execution_count": 130,
     "metadata": {},
     "output_type": "execute_result"
    }
   ],
   "source": [
    "import pandas as pd\n",
    "import numpy as np\n",
    "\n",
    "# Create a date range for 15 days\n",
    "dates = pd.date_range(start=\"2024-02-01\", periods=15, freq='D')\n",
    "\n",
    "# Generate sample stock prices\n",
    "np.random.seed(42)  # For reproducibility\n",
    "prices = np.random.randint(150, 200, size=15)  # Random prices between 150-200\n",
    "\n",
    "# Create the DataFrame\n",
    "df = pd.DataFrame({\n",
    "    'Date': dates,\n",
    "    'Stock': 'AAPL',  # Example stock symbol\n",
    "    'Close': prices  # Closing prices\n",
    "})\n",
    "\n",
    "# Calculate 7-day rolling average\n",
    "df['7_day_avg'] = df['Close'].rolling(window=7).mean().round(2)\n",
    "\n",
    "# Display dataset\n",
    "df.head()"
   ]
  },
  {
   "cell_type": "code",
   "execution_count": 128,
   "id": "baca1778",
   "metadata": {},
   "outputs": [
    {
     "data": {
      "text/plain": [
       "Rolling [window=7,center=False,axis=0,method=single]"
      ]
     },
     "execution_count": 128,
     "metadata": {},
     "output_type": "execute_result"
    }
   ],
   "source": [
    "df['Close'].rolling(window=7)"
   ]
  },
  {
   "cell_type": "code",
   "execution_count": 131,
   "id": "933ff6b6",
   "metadata": {},
   "outputs": [
    {
     "data": {
      "text/html": [
       "<div>\n",
       "<style scoped>\n",
       "    .dataframe tbody tr th:only-of-type {\n",
       "        vertical-align: middle;\n",
       "    }\n",
       "\n",
       "    .dataframe tbody tr th {\n",
       "        vertical-align: top;\n",
       "    }\n",
       "\n",
       "    .dataframe thead th {\n",
       "        text-align: right;\n",
       "    }\n",
       "</style>\n",
       "<table border=\"1\" class=\"dataframe\">\n",
       "  <thead>\n",
       "    <tr style=\"text-align: right;\">\n",
       "      <th></th>\n",
       "      <th>Date</th>\n",
       "      <th>Stock</th>\n",
       "      <th>Close</th>\n",
       "      <th>7_day_avg</th>\n",
       "    </tr>\n",
       "  </thead>\n",
       "  <tbody>\n",
       "    <tr>\n",
       "      <th>0</th>\n",
       "      <td>2024-02-01</td>\n",
       "      <td>AAPL</td>\n",
       "      <td>188</td>\n",
       "      <td>NaN</td>\n",
       "    </tr>\n",
       "    <tr>\n",
       "      <th>1</th>\n",
       "      <td>2024-02-02</td>\n",
       "      <td>AAPL</td>\n",
       "      <td>178</td>\n",
       "      <td>NaN</td>\n",
       "    </tr>\n",
       "    <tr>\n",
       "      <th>2</th>\n",
       "      <td>2024-02-03</td>\n",
       "      <td>AAPL</td>\n",
       "      <td>164</td>\n",
       "      <td>NaN</td>\n",
       "    </tr>\n",
       "    <tr>\n",
       "      <th>3</th>\n",
       "      <td>2024-02-04</td>\n",
       "      <td>AAPL</td>\n",
       "      <td>192</td>\n",
       "      <td>NaN</td>\n",
       "    </tr>\n",
       "    <tr>\n",
       "      <th>4</th>\n",
       "      <td>2024-02-05</td>\n",
       "      <td>AAPL</td>\n",
       "      <td>157</td>\n",
       "      <td>NaN</td>\n",
       "    </tr>\n",
       "    <tr>\n",
       "      <th>5</th>\n",
       "      <td>2024-02-06</td>\n",
       "      <td>AAPL</td>\n",
       "      <td>170</td>\n",
       "      <td>NaN</td>\n",
       "    </tr>\n",
       "    <tr>\n",
       "      <th>6</th>\n",
       "      <td>2024-02-07</td>\n",
       "      <td>AAPL</td>\n",
       "      <td>188</td>\n",
       "      <td>176.71</td>\n",
       "    </tr>\n",
       "    <tr>\n",
       "      <th>7</th>\n",
       "      <td>2024-02-08</td>\n",
       "      <td>AAPL</td>\n",
       "      <td>168</td>\n",
       "      <td>173.86</td>\n",
       "    </tr>\n",
       "    <tr>\n",
       "      <th>8</th>\n",
       "      <td>2024-02-09</td>\n",
       "      <td>AAPL</td>\n",
       "      <td>172</td>\n",
       "      <td>173.00</td>\n",
       "    </tr>\n",
       "    <tr>\n",
       "      <th>9</th>\n",
       "      <td>2024-02-10</td>\n",
       "      <td>AAPL</td>\n",
       "      <td>160</td>\n",
       "      <td>172.43</td>\n",
       "    </tr>\n",
       "    <tr>\n",
       "      <th>10</th>\n",
       "      <td>2024-02-11</td>\n",
       "      <td>AAPL</td>\n",
       "      <td>160</td>\n",
       "      <td>167.86</td>\n",
       "    </tr>\n",
       "    <tr>\n",
       "      <th>11</th>\n",
       "      <td>2024-02-12</td>\n",
       "      <td>AAPL</td>\n",
       "      <td>173</td>\n",
       "      <td>170.14</td>\n",
       "    </tr>\n",
       "    <tr>\n",
       "      <th>12</th>\n",
       "      <td>2024-02-13</td>\n",
       "      <td>AAPL</td>\n",
       "      <td>185</td>\n",
       "      <td>172.29</td>\n",
       "    </tr>\n",
       "    <tr>\n",
       "      <th>13</th>\n",
       "      <td>2024-02-14</td>\n",
       "      <td>AAPL</td>\n",
       "      <td>189</td>\n",
       "      <td>172.43</td>\n",
       "    </tr>\n",
       "    <tr>\n",
       "      <th>14</th>\n",
       "      <td>2024-02-15</td>\n",
       "      <td>AAPL</td>\n",
       "      <td>173</td>\n",
       "      <td>173.14</td>\n",
       "    </tr>\n",
       "  </tbody>\n",
       "</table>\n",
       "</div>"
      ],
      "text/plain": [
       "         Date Stock  Close  7_day_avg\n",
       "0  2024-02-01  AAPL    188        NaN\n",
       "1  2024-02-02  AAPL    178        NaN\n",
       "2  2024-02-03  AAPL    164        NaN\n",
       "3  2024-02-04  AAPL    192        NaN\n",
       "4  2024-02-05  AAPL    157        NaN\n",
       "5  2024-02-06  AAPL    170        NaN\n",
       "6  2024-02-07  AAPL    188     176.71\n",
       "7  2024-02-08  AAPL    168     173.86\n",
       "8  2024-02-09  AAPL    172     173.00\n",
       "9  2024-02-10  AAPL    160     172.43\n",
       "10 2024-02-11  AAPL    160     167.86\n",
       "11 2024-02-12  AAPL    173     170.14\n",
       "12 2024-02-13  AAPL    185     172.29\n",
       "13 2024-02-14  AAPL    189     172.43\n",
       "14 2024-02-15  AAPL    173     173.14"
      ]
     },
     "execution_count": 131,
     "metadata": {},
     "output_type": "execute_result"
    }
   ],
   "source": [
    "df"
   ]
  },
  {
   "cell_type": "code",
   "execution_count": 125,
   "id": "03b9f121",
   "metadata": {},
   "outputs": [
    {
     "data": {
      "text/plain": [
       "0            NaN\n",
       "1            NaN\n",
       "2            NaN\n",
       "3            NaN\n",
       "4            NaN\n",
       "5            NaN\n",
       "6     176.714286\n",
       "7     173.857143\n",
       "8     173.000000\n",
       "9     172.428571\n",
       "10    167.857143\n",
       "11    170.142857\n",
       "12    172.285714\n",
       "13    172.428571\n",
       "14    173.142857\n",
       "Name: 7_day_avg, dtype: float64"
      ]
     },
     "execution_count": 125,
     "metadata": {},
     "output_type": "execute_result"
    }
   ],
   "source": [
    "df['7_day_avg']"
   ]
  },
  {
   "cell_type": "code",
   "execution_count": 126,
   "id": "219bd614",
   "metadata": {},
   "outputs": [
    {
     "name": "stderr",
     "output_type": "stream",
     "text": [
      "/var/folders/56/qh58h1053xg7s3gj3196b3yr0000gn/T/ipykernel_92604/2414536142.py:1: FutureWarning: Series.fillna with 'method' is deprecated and will raise in a future version. Use obj.ffill() or obj.bfill() instead.\n",
      "  df['7_day_avg'].fillna(method='bfill')\n"
     ]
    },
    {
     "data": {
      "text/plain": [
       "0     176.714286\n",
       "1     176.714286\n",
       "2     176.714286\n",
       "3     176.714286\n",
       "4     176.714286\n",
       "5     176.714286\n",
       "6     176.714286\n",
       "7     173.857143\n",
       "8     173.000000\n",
       "9     172.428571\n",
       "10    167.857143\n",
       "11    170.142857\n",
       "12    172.285714\n",
       "13    172.428571\n",
       "14    173.142857\n",
       "Name: 7_day_avg, dtype: float64"
      ]
     },
     "execution_count": 126,
     "metadata": {},
     "output_type": "execute_result"
    }
   ],
   "source": [
    "df['7_day_avg'].fillna(method='bfill')"
   ]
  },
  {
   "cell_type": "code",
   "execution_count": null,
   "id": "624cbf88",
   "metadata": {},
   "outputs": [
    {
     "ename": "",
     "evalue": "",
     "output_type": "error",
     "traceback": [
      "\u001b[1;31mThe kernel failed to start as the Python Environment 'Python 3.13.1' is no longer available. Consider selecting another kernel or refreshing the list of Python Environments."
     ]
    }
   ],
   "source": [
    "import re\n",
    "\n",
    "def longest_alternating_substring(num):\n",
    "    num_str = str(num)  # Convert number to string\n",
    "    max_substr = \"\"\n",
    "    current_substr = num_str[0]\n",
    "\n",
    "    for i in range(1, len(num_str)):\n",
    "        if (int(num_str[i-1]) % 2 == 0 and int(num_str[i]) % 2 != 0) or \\\n",
    "           (int(num_str[i-1]) % 2 != 0 and int(num_str[i]) % 2 == 0):\n",
    "            current_substr += num_str[i]\n",
    "        else:\n",
    "            max_substr = max(max_substr, current_substr, key=len)\n",
    "            current_substr = num_str[i]\n",
    "\n",
    "    max_substr = max(max_substr, current_substr, key=len)\n",
    "    return max_substr\n",
    "\n",
    "# Example Usage\n",
    "num = 73568249123\n",
    "result = longest_alternating_substring(num)\n",
    "print(\"Longest alternating odd/even substring:\", result)"
   ]
  },
  {
   "cell_type": "code",
   "execution_count": 1,
   "id": "1762c623",
   "metadata": {},
   "outputs": [
    {
     "name": "stdout",
     "output_type": "stream",
     "text": [
      "Hi\n"
     ]
    }
   ],
   "source": [
    "print('Hi')"
   ]
  },
  {
   "cell_type": "code",
   "execution_count": 6,
   "id": "7976b74d",
   "metadata": {},
   "outputs": [
    {
     "name": "stdout",
     "output_type": "stream",
     "text": [
      "Longest alternating odd/even substring: 123\n"
     ]
    }
   ],
   "source": [
    "import re\n",
    "\n",
    "def longest_alternating_substring(num: int):\n",
    "    num_str = str(num)  # Convert number to string\n",
    "    max_substr = \"\"\n",
    "    current_substr = num_str[0]\n",
    "\n",
    "    for i in range(1, len(num_str)):\n",
    "        if (int(num_str[i-1]) % 2 == 0 and int(num_str[i]) % 2 != 0) or \\\n",
    "           (int(num_str[i-1]) % 2 != 0 and int(num_str[i]) % 2 == 0):\n",
    "            current_substr += num_str[i]\n",
    "        else:\n",
    "            max_substr = max(max_substr, current_substr, key=len)\n",
    "            current_substr = num_str[i]\n",
    "\n",
    "    max_substr = max(max_substr, current_substr, key=len)\n",
    "    return max_substr\n",
    "\n",
    "# Example Usage\n",
    "num = 73568249123\n",
    "result = longest_alternating_substring(num)\n",
    "print(\"Longest alternating odd/even substring:\", result)\n"
   ]
  },
  {
   "cell_type": "code",
   "execution_count": 58,
   "id": "8add474f",
   "metadata": {},
   "outputs": [
    {
     "data": {
      "text/plain": [
       "['1038', '2925', '7234', '7672']"
      ]
     },
     "execution_count": 58,
     "metadata": {},
     "output_type": "execute_result"
    }
   ],
   "source": [
    "num = '103822925723477672'\n",
    "num_str = str(num)\n",
    "\n",
    "# pattern = r'(?:(?=[13579][02468])+|(?=[02468][13579]))+'  #+(?:[0-9](?=[13579][02468]|[02468][13579]))+'\n",
    "# pattern = r\"(?3)?(([02468])([13579]))+(?2)?\"\n",
    "# pattern = r'(([13579][02468])+)|(([02468][13579])+)'\n",
    "# pattern = r'(?:(?:[02468][13579])|(?:[13579][02468]))+'\n",
    "pattern = r'(?:[02468][13579])+|(?:[13579][02468])+'\n",
    "\n",
    "lst = re.findall(pattern, num_str)\n",
    "# lst = [int(item) for tup in lst for item in tup if item != '']\n",
    "lst\n"
   ]
  },
  {
   "cell_type": "code",
   "execution_count": null,
   "id": "07530504",
   "metadata": {},
   "outputs": [],
   "source": []
  },
  {
   "cell_type": "code",
   "execution_count": null,
   "id": "6c8c5e60",
   "metadata": {},
   "outputs": [
    {
     "name": "stdout",
     "output_type": "stream",
     "text": [
      "Longest alternating substring: \n"
     ]
    }
   ],
   "source": [
    "\n"
   ]
  },
  {
   "cell_type": "code",
   "execution_count": 72,
   "id": "b06cbb89",
   "metadata": {},
   "outputs": [
    {
     "data": {
      "text/html": [
       "<div>\n",
       "<style scoped>\n",
       "    .dataframe tbody tr th:only-of-type {\n",
       "        vertical-align: middle;\n",
       "    }\n",
       "\n",
       "    .dataframe tbody tr th {\n",
       "        vertical-align: top;\n",
       "    }\n",
       "\n",
       "    .dataframe thead th {\n",
       "        text-align: right;\n",
       "    }\n",
       "</style>\n",
       "<table border=\"1\" class=\"dataframe\">\n",
       "  <thead>\n",
       "    <tr style=\"text-align: right;\">\n",
       "      <th></th>\n",
       "      <th>Numbers</th>\n",
       "    </tr>\n",
       "  </thead>\n",
       "  <tbody>\n",
       "    <tr>\n",
       "      <th>0</th>\n",
       "      <td>6579</td>\n",
       "    </tr>\n",
       "    <tr>\n",
       "      <th>1</th>\n",
       "      <td>142567</td>\n",
       "    </tr>\n",
       "    <tr>\n",
       "      <th>2</th>\n",
       "      <td>827810510</td>\n",
       "    </tr>\n",
       "    <tr>\n",
       "      <th>3</th>\n",
       "      <td>9961256799</td>\n",
       "    </tr>\n",
       "    <tr>\n",
       "      <th>4</th>\n",
       "      <td>826457676143</td>\n",
       "    </tr>\n",
       "    <tr>\n",
       "      <th>5</th>\n",
       "      <td>450193498396705</td>\n",
       "    </tr>\n",
       "    <tr>\n",
       "      <th>6</th>\n",
       "      <td>7772405857091285</td>\n",
       "    </tr>\n",
       "    <tr>\n",
       "      <th>7</th>\n",
       "      <td>103822925723477672</td>\n",
       "    </tr>\n",
       "    <tr>\n",
       "      <th>8</th>\n",
       "      <td>1234567890123456789</td>\n",
       "    </tr>\n",
       "  </tbody>\n",
       "</table>\n",
       "</div>"
      ],
      "text/plain": [
       "               Numbers\n",
       "0                 6579\n",
       "1               142567\n",
       "2            827810510\n",
       "3           9961256799\n",
       "4         826457676143\n",
       "5      450193498396705\n",
       "6     7772405857091285\n",
       "7   103822925723477672\n",
       "8  1234567890123456789"
      ]
     },
     "execution_count": 72,
     "metadata": {},
     "output_type": "execute_result"
    }
   ],
   "source": [
    "import pandas as pd\n",
    "df = pd.DataFrame(\n",
    "    {\n",
    "        'Numbers': ['6579', '142567', '827810510', '9961256799', '826457676143', '450193498396705', '7772405857091285', '103822925723477672', '1234567890123456789']\n",
    "    }\n",
    ")\n",
    "\n",
    "def extract_longest_alternating_substr(num: int) -> str:\n",
    "    pattern = r'(([13579][02468])+)|(([02468][13579])+)'\n",
    "    lst = re.findall(pattern, str(num))\n",
    "    lst = [int(item) for tup in lst for item in tup if item != '']\n",
    "    return max(lst)\n",
    "\n",
    "\n",
    "df"
   ]
  },
  {
   "cell_type": "code",
   "execution_count": 60,
   "id": "281a9f6b",
   "metadata": {},
   "outputs": [
    {
     "data": {
      "text/plain": [
       "0                     65\n",
       "1                   2567\n",
       "2                 278105\n",
       "3                9612567\n",
       "4                7676143\n",
       "5                  34983\n",
       "6                   0585\n",
       "7                  72347\n",
       "8    1234567890123456789\n",
       "Name: Numbers, dtype: object"
      ]
     },
     "execution_count": 60,
     "metadata": {},
     "output_type": "execute_result"
    }
   ],
   "source": [
    "df['Numbers'].apply(longest_alternating_substring)"
   ]
  },
  {
   "cell_type": "code",
   "execution_count": null,
   "id": "e4f2db23",
   "metadata": {},
   "outputs": [],
   "source": []
  },
  {
   "cell_type": "code",
   "execution_count": 59,
   "id": "5a2e5fad",
   "metadata": {},
   "outputs": [
    {
     "name": "stdout",
     "output_type": "stream",
     "text": [
      "Longest alternating odd/even substring: 123\n"
     ]
    }
   ],
   "source": [
    "import re\n",
    "\n",
    "def longest_alternating_substring(num: int):\n",
    "    num_str = str(num)  # Convert number to string\n",
    "    max_substr = \"\"\n",
    "    current_substr = num_str[0]\n",
    "\n",
    "    for i in range(1, len(num_str)):\n",
    "        if (int(num_str[i-1]) % 2 == 0 and int(num_str[i]) % 2 != 0) or \\\n",
    "           (int(num_str[i-1]) % 2 != 0 and int(num_str[i]) % 2 == 0):\n",
    "            current_substr += num_str[i]\n",
    "        else:\n",
    "            max_substr = max(max_substr, current_substr, key=len)\n",
    "            current_substr = num_str[i]\n",
    "\n",
    "    max_substr = max(max_substr, current_substr, key=len)\n",
    "    return max_substr\n",
    "\n",
    "\n",
    "# Example Usage\n",
    "num = 73568249123\n",
    "result = longest_alternating_substring(num)\n",
    "print(\"Longest alternating odd/even substring:\", result)"
   ]
  },
  {
   "cell_type": "code",
   "execution_count": 92,
   "id": "3f8a75b1",
   "metadata": {},
   "outputs": [],
   "source": [
    "\"\"\"Here's a comprehensive regex pattern to match alternating even/odd or odd/even substrings:\n",
    "\n",
    "```regex\n",
    "(?:[02468][13579])+|(?:[13579][02468])+\n",
    "```\n",
    "\n",
    "Breakdown:\n",
    "1. `[02468]` - matches any even digit\n",
    "2. `[13579]` - matches any odd digit\n",
    "3. `(?:[02468][13579])+` - matches even-odd sequences\n",
    "4. `(?:[13579][02468])+` - matches odd-even sequences\n",
    "5. `|` - alternation (matches either pattern)\n",
    "\n",
    "Example Python implementation:\n",
    "\n",
    "```python\"\"\"\n",
    "import re\n",
    "\n",
    "def find_longest_alternating(s):\n",
    "    pattern = r'(?:[02468][13579])+|(?:[13579][02468])+'\n",
    "    # pattern = r'(?:(?:[02468][13579])|(?:[13579][02468]))+'\n",
    "    # pattern = r'([02468]{1,}?:[13579]{1,}?:)*'\n",
    "    matches = re.finditer(pattern, s)\n",
    "    return max((m.group() for m in matches), key=len)\n",
    "\n",
    "# # Test cases\n",
    "# test_strings = [\n",
    "#     \"123456\",      # -> \"1234\" or \"3456\"\n",
    "#     \"2468\",        # -> \"\"\n",
    "#     \"14725"
   ]
  },
  {
   "cell_type": "code",
   "execution_count": 93,
   "id": "9f0a8eb2",
   "metadata": {},
   "outputs": [
    {
     "data": {
      "text/plain": [
       "'123456'"
      ]
     },
     "execution_count": 93,
     "metadata": {},
     "output_type": "execute_result"
    }
   ],
   "source": [
    "find_longest_alternating('123456')"
   ]
  },
  {
   "cell_type": "code",
   "execution_count": 94,
   "id": "14dde4ff",
   "metadata": {},
   "outputs": [
    {
     "data": {
      "text/plain": [
       "0                    65\n",
       "1                  2567\n",
       "2                278105\n",
       "3                961256\n",
       "4                767614\n",
       "5                  4501\n",
       "6                  0585\n",
       "7                  1038\n",
       "8    123456789012345678\n",
       "Name: Numbers, dtype: object"
      ]
     },
     "execution_count": 94,
     "metadata": {},
     "output_type": "execute_result"
    }
   ],
   "source": [
    "df['Numbers'].apply(find_longest_alternating)"
   ]
  },
  {
   "cell_type": "code",
   "execution_count": 101,
   "id": "8614f7b2",
   "metadata": {},
   "outputs": [
    {
     "data": {
      "text/html": [
       "<div>\n",
       "<style scoped>\n",
       "    .dataframe tbody tr th:only-of-type {\n",
       "        vertical-align: middle;\n",
       "    }\n",
       "\n",
       "    .dataframe tbody tr th {\n",
       "        vertical-align: top;\n",
       "    }\n",
       "\n",
       "    .dataframe thead th {\n",
       "        text-align: right;\n",
       "    }\n",
       "</style>\n",
       "<table border=\"1\" class=\"dataframe\">\n",
       "  <thead>\n",
       "    <tr style=\"text-align: right;\">\n",
       "      <th></th>\n",
       "      <th>0</th>\n",
       "      <th>1</th>\n",
       "    </tr>\n",
       "  </thead>\n",
       "  <tbody>\n",
       "    <tr>\n",
       "      <th>0</th>\n",
       "      <td>N</td>\n",
       "      <td>O</td>\n",
       "    </tr>\n",
       "    <tr>\n",
       "      <th>1</th>\n",
       "      <td>O</td>\n",
       "      <td>N</td>\n",
       "    </tr>\n",
       "  </tbody>\n",
       "</table>\n",
       "</div>"
      ],
      "text/plain": [
       "   0  1\n",
       "0  N  O\n",
       "1  O  N"
      ]
     },
     "execution_count": 101,
     "metadata": {},
     "output_type": "execute_result"
    }
   ],
   "source": [
    "df1 = pd.DataFrame( [['N', 'O'], ['O', 'N']])\n",
    "df1"
   ]
  },
  {
   "cell_type": "code",
   "execution_count": 98,
   "id": "fa33d6bc",
   "metadata": {},
   "outputs": [
    {
     "data": {
      "text/html": [
       "<div>\n",
       "<style scoped>\n",
       "    .dataframe tbody tr th:only-of-type {\n",
       "        vertical-align: middle;\n",
       "    }\n",
       "\n",
       "    .dataframe tbody tr th {\n",
       "        vertical-align: top;\n",
       "    }\n",
       "\n",
       "    .dataframe thead th {\n",
       "        text-align: right;\n",
       "    }\n",
       "</style>\n",
       "<table border=\"1\" class=\"dataframe\">\n",
       "  <thead>\n",
       "    <tr style=\"text-align: right;\">\n",
       "      <th></th>\n",
       "      <th>0</th>\n",
       "      <th>1</th>\n",
       "      <th>2</th>\n",
       "    </tr>\n",
       "  </thead>\n",
       "  <tbody>\n",
       "    <tr>\n",
       "      <th>0</th>\n",
       "      <td>B</td>\n",
       "      <td>I</td>\n",
       "      <td>T</td>\n",
       "    </tr>\n",
       "    <tr>\n",
       "      <th>1</th>\n",
       "      <td>I</td>\n",
       "      <td>C</td>\n",
       "      <td>E</td>\n",
       "    </tr>\n",
       "    <tr>\n",
       "      <th>2</th>\n",
       "      <td>T</td>\n",
       "      <td>I</td>\n",
       "      <td>N</td>\n",
       "    </tr>\n",
       "  </tbody>\n",
       "</table>\n",
       "</div>"
      ],
      "text/plain": [
       "   0  1  2\n",
       "0  B  I  T\n",
       "1  I  C  E\n",
       "2  T  I  N"
      ]
     },
     "execution_count": 98,
     "metadata": {},
     "output_type": "execute_result"
    }
   ],
   "source": [
    "df = pd.DataFrame( [['B', 'I', 'T'], ['I', 'C', 'E'],  ['T', 'I', 'N']])\n",
    "df"
   ]
  },
  {
   "cell_type": "code",
   "execution_count": 99,
   "id": "45f579f6",
   "metadata": {},
   "outputs": [
    {
     "data": {
      "text/html": [
       "<div>\n",
       "<style scoped>\n",
       "    .dataframe tbody tr th:only-of-type {\n",
       "        vertical-align: middle;\n",
       "    }\n",
       "\n",
       "    .dataframe tbody tr th {\n",
       "        vertical-align: top;\n",
       "    }\n",
       "\n",
       "    .dataframe thead th {\n",
       "        text-align: right;\n",
       "    }\n",
       "</style>\n",
       "<table border=\"1\" class=\"dataframe\">\n",
       "  <thead>\n",
       "    <tr style=\"text-align: right;\">\n",
       "      <th></th>\n",
       "      <th>0</th>\n",
       "      <th>1</th>\n",
       "      <th>2</th>\n",
       "    </tr>\n",
       "  </thead>\n",
       "  <tbody>\n",
       "    <tr>\n",
       "      <th>0</th>\n",
       "      <td>B</td>\n",
       "      <td>I</td>\n",
       "      <td>T</td>\n",
       "    </tr>\n",
       "    <tr>\n",
       "      <th>1</th>\n",
       "      <td>I</td>\n",
       "      <td>C</td>\n",
       "      <td>I</td>\n",
       "    </tr>\n",
       "    <tr>\n",
       "      <th>2</th>\n",
       "      <td>T</td>\n",
       "      <td>E</td>\n",
       "      <td>N</td>\n",
       "    </tr>\n",
       "  </tbody>\n",
       "</table>\n",
       "</div>"
      ],
      "text/plain": [
       "   0  1  2\n",
       "0  B  I  T\n",
       "1  I  C  I\n",
       "2  T  E  N"
      ]
     },
     "execution_count": 99,
     "metadata": {},
     "output_type": "execute_result"
    }
   ],
   "source": [
    "df.T"
   ]
  },
  {
   "cell_type": "code",
   "execution_count": 117,
   "id": "a1d618ff",
   "metadata": {},
   "outputs": [
    {
     "data": {
      "text/html": [
       "<div>\n",
       "<style scoped>\n",
       "    .dataframe tbody tr th:only-of-type {\n",
       "        vertical-align: middle;\n",
       "    }\n",
       "\n",
       "    .dataframe tbody tr th {\n",
       "        vertical-align: top;\n",
       "    }\n",
       "\n",
       "    .dataframe thead th {\n",
       "        text-align: right;\n",
       "    }\n",
       "</style>\n",
       "<table border=\"1\" class=\"dataframe\">\n",
       "  <thead>\n",
       "    <tr style=\"text-align: right;\">\n",
       "      <th></th>\n",
       "      <th>0</th>\n",
       "      <th>1</th>\n",
       "    </tr>\n",
       "  </thead>\n",
       "  <tbody>\n",
       "    <tr>\n",
       "      <th>0</th>\n",
       "      <td>True</td>\n",
       "      <td>True</td>\n",
       "    </tr>\n",
       "    <tr>\n",
       "      <th>1</th>\n",
       "      <td>True</td>\n",
       "      <td>True</td>\n",
       "    </tr>\n",
       "  </tbody>\n",
       "</table>\n",
       "</div>"
      ],
      "text/plain": [
       "      0     1\n",
       "0  True  True\n",
       "1  True  True"
      ]
     },
     "execution_count": 117,
     "metadata": {},
     "output_type": "execute_result"
    }
   ],
   "source": [
    "df1==df1.T"
   ]
  },
  {
   "cell_type": "code",
   "execution_count": 125,
   "id": "2a659330",
   "metadata": {},
   "outputs": [
    {
     "data": {
      "text/plain": [
       "'Yes'"
      ]
     },
     "execution_count": 125,
     "metadata": {},
     "output_type": "execute_result"
    }
   ],
   "source": [
    "import numpy as np\n",
    "'Yes' if np.all((df1==df1.T)) else 'No'"
   ]
  },
  {
   "cell_type": "code",
   "execution_count": 115,
   "id": "8b5eec06",
   "metadata": {},
   "outputs": [
    {
     "data": {
      "text/plain": [
       "np.True_"
      ]
     },
     "execution_count": 115,
     "metadata": {},
     "output_type": "execute_result"
    }
   ],
   "source": [
    "np.all((df1==df1.T).values)"
   ]
  },
  {
   "cell_type": "code",
   "execution_count": 110,
   "id": "abd93bd2",
   "metadata": {},
   "outputs": [
    {
     "data": {
      "text/plain": [
       "Series([], dtype: float64)"
      ]
     },
     "execution_count": 110,
     "metadata": {},
     "output_type": "execute_result"
    }
   ],
   "source": [
    "df1.compare(df1.T).isnull().sum()"
   ]
  },
  {
   "cell_type": "code",
   "execution_count": 111,
   "id": "40872ac9",
   "metadata": {},
   "outputs": [
    {
     "data": {
      "text/plain": [
       "1  self     1\n",
       "   other    1\n",
       "2  self     1\n",
       "   other    1\n",
       "dtype: int64"
      ]
     },
     "execution_count": 111,
     "metadata": {},
     "output_type": "execute_result"
    }
   ],
   "source": [
    "df.compare(df.T).isnull().sum()"
   ]
  },
  {
   "cell_type": "code",
   "execution_count": 23,
   "id": "6643c6a9",
   "metadata": {},
   "outputs": [],
   "source": [
    "import pandas as pd\n",
    "import numpy as py"
   ]
  },
  {
   "cell_type": "code",
   "execution_count": 40,
   "id": "39b1aec7",
   "metadata": {},
   "outputs": [],
   "source": [
    "lst = range(10,100000,1)"
   ]
  },
  {
   "cell_type": "code",
   "execution_count": 41,
   "id": "b1cea53f",
   "metadata": {},
   "outputs": [],
   "source": [
    "df = pd.DataFrame({'nums': lst}, columns=['nums'])"
   ]
  },
  {
   "cell_type": "code",
   "execution_count": 42,
   "id": "f407c41b",
   "metadata": {},
   "outputs": [],
   "source": [
    "df['cubes'] = df['nums'].apply(lambda x: x**3)\n",
    "df['cube_str'] = df['cubes'].apply(lambda x: [*str(x)])\n",
    "df['freq'] = df['cube_str'].apply(lambda x: {x.count(str(i)) for i in set(x)})\n",
    "df['filter'] = df['freq'].apply(lambda x: len(x)==1)"
   ]
  },
  {
   "cell_type": "code",
   "execution_count": 44,
   "id": "4df3b0c4",
   "metadata": {},
   "outputs": [
    {
     "data": {
      "text/plain": [
       "array([   11,    12,    13,    16,    17,    18,    19,    21,    22,\n",
       "          24,    27,    29,    32,    35,    38,    41,    59,    62,\n",
       "          66,    69,    73,    75,    76,    84,    88,    93,    97,\n",
       "         135,   145,   203,   289,   297,   302,   303,   319,   888,\n",
       "        1412,  1694,  2078,  4755,  5399,  6181,  6274,  6443,  9078,\n",
       "        9413,  9709, 22111, 22819, 23894, 24835, 26636, 26881, 28895,\n",
       "       29631, 30593, 32069, 32687, 32723, 32887, 34699, 35042, 36536,\n",
       "       36705, 36869, 37568, 40675, 41538, 41674, 42487, 42582, 44673,\n",
       "       45166, 45438, 45675, 56592, 58524, 65577, 70869, 78183])"
      ]
     },
     "execution_count": 44,
     "metadata": {},
     "output_type": "execute_result"
    }
   ],
   "source": [
    "df[df['filter']==True]['nums'].values"
   ]
  },
  {
   "cell_type": "code",
   "execution_count": null,
   "id": "fe2fe32d",
   "metadata": {},
   "outputs": [
    {
     "data": {
      "text/plain": [
       "0              {1, 3}\n",
       "1                 {2}\n",
       "2                 {1}\n",
       "3                 {1}\n",
       "4              {1, 2}\n",
       "             ...     \n",
       "99985    {1, 2, 3, 5}\n",
       "99986    {1, 2, 3, 6}\n",
       "99987       {1, 3, 7}\n",
       "99988    {8, 1, 2, 3}\n",
       "99989       {9, 4, 1}\n",
       "Name: freq, Length: 99990, dtype: object"
      ]
     },
     "execution_count": 45,
     "metadata": {},
     "output_type": "execute_result"
    }
   ],
   "source": [
    "df['freq'].apply(lambda x: len(x)==1)"
   ]
  },
  {
   "cell_type": "code",
   "execution_count": null,
   "id": "34dbf8c8",
   "metadata": {},
   "outputs": [],
   "source": []
  }
 ],
 "metadata": {
  "kernelspec": {
   "display_name": "env",
   "language": "python",
   "name": "python3"
  },
  "language_info": {
   "codemirror_mode": {
    "name": "ipython",
    "version": 3
   },
   "file_extension": ".py",
   "mimetype": "text/x-python",
   "name": "python",
   "nbconvert_exporter": "python",
   "pygments_lexer": "ipython3",
   "version": "3.13.1"
  }
 },
 "nbformat": 4,
 "nbformat_minor": 5
}
