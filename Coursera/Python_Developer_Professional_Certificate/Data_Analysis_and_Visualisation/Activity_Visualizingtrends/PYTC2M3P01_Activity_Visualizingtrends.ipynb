{
 "cells": [
  {
   "cell_type": "markdown",
   "id": "0f2969e7-5a7a-45f3-b9cf-b9174f69e862",
   "metadata": {},
   "source": [
    "# How to Interact with this Jupyter Notebook\n",
    "\n",
    "In this activity, you will use a Jupyter Notebook, which integrates both text and code. The gray boxes contain executable code, which you will run in order to view its output. The text in between the code provides instructions."
   ]
  },
  {
   "cell_type": "markdown",
   "id": "742bfba1",
   "metadata": {},
   "source": [
    "## Step 1: Installing required libraries\n",
    "\n",
    "Run the cell below, which installs all necessary libraries."
   ]
  },
  {
   "cell_type": "code",
   "execution_count": 1,
   "id": "6fc030a2",
   "metadata": {},
   "outputs": [
    {
     "name": "stdout",
     "output_type": "stream",
     "text": [
      "Requirement already satisfied: pandas in /Users/abantra/Documents/code/python/env/lib/python3.13/site-packages (2.2.3)\n",
      "Requirement already satisfied: matplotlib in /Users/abantra/Documents/code/python/env/lib/python3.13/site-packages (3.10.0)\n",
      "Requirement already satisfied: plotly.express in /Users/abantra/Documents/code/python/env/lib/python3.13/site-packages (0.4.1)\n",
      "Requirement already satisfied: numpy>=1.26.0 in /Users/abantra/Documents/code/python/env/lib/python3.13/site-packages (from pandas) (2.2.1)\n",
      "Requirement already satisfied: python-dateutil>=2.8.2 in /Users/abantra/Documents/code/python/env/lib/python3.13/site-packages (from pandas) (2.9.0.post0)\n",
      "Requirement already satisfied: pytz>=2020.1 in /Users/abantra/Documents/code/python/env/lib/python3.13/site-packages (from pandas) (2024.2)\n",
      "Requirement already satisfied: tzdata>=2022.7 in /Users/abantra/Documents/code/python/env/lib/python3.13/site-packages (from pandas) (2025.1)\n",
      "Requirement already satisfied: contourpy>=1.0.1 in /Users/abantra/Documents/code/python/env/lib/python3.13/site-packages (from matplotlib) (1.3.1)\n",
      "Requirement already satisfied: cycler>=0.10 in /Users/abantra/Documents/code/python/env/lib/python3.13/site-packages (from matplotlib) (0.12.1)\n",
      "Requirement already satisfied: fonttools>=4.22.0 in /Users/abantra/Documents/code/python/env/lib/python3.13/site-packages (from matplotlib) (4.56.0)\n",
      "Requirement already satisfied: kiwisolver>=1.3.1 in /Users/abantra/Documents/code/python/env/lib/python3.13/site-packages (from matplotlib) (1.4.8)\n",
      "Requirement already satisfied: packaging>=20.0 in /Users/abantra/Documents/code/python/env/lib/python3.13/site-packages (from matplotlib) (24.2)\n",
      "Requirement already satisfied: pillow>=8 in /Users/abantra/Documents/code/python/env/lib/python3.13/site-packages (from matplotlib) (11.1.0)\n",
      "Requirement already satisfied: pyparsing>=2.3.1 in /Users/abantra/Documents/code/python/env/lib/python3.13/site-packages (from matplotlib) (3.2.1)\n",
      "Requirement already satisfied: plotly>=4.1.0 in /Users/abantra/Documents/code/python/env/lib/python3.13/site-packages (from plotly.express) (6.0.0)\n",
      "Requirement already satisfied: statsmodels>=0.9.0 in /Users/abantra/Documents/code/python/env/lib/python3.13/site-packages (from plotly.express) (0.14.4)\n",
      "Requirement already satisfied: scipy>=0.18 in /Users/abantra/Documents/code/python/env/lib/python3.13/site-packages (from plotly.express) (1.15.2)\n",
      "Requirement already satisfied: patsy>=0.5 in /Users/abantra/Documents/code/python/env/lib/python3.13/site-packages (from plotly.express) (1.0.1)\n",
      "Requirement already satisfied: narwhals>=1.15.1 in /Users/abantra/Documents/code/python/env/lib/python3.13/site-packages (from plotly>=4.1.0->plotly.express) (1.28.0)\n",
      "Requirement already satisfied: six>=1.5 in /Users/abantra/Documents/code/python/env/lib/python3.13/site-packages (from python-dateutil>=2.8.2->pandas) (1.17.0)\n"
     ]
    }
   ],
   "source": [
    "!pip install pandas matplotlib plotly.express"
   ]
  },
  {
   "cell_type": "markdown",
   "id": "17bb8a5c",
   "metadata": {},
   "source": [
    "## Step 2: Loading and exploring the data\n",
    "\n",
    "Run the cell below, which imports all necessary libraries, loads `music_data.csv`, and displays the first 5 rows to get information about the columns. This cell does not change."
   ]
  },
  {
   "cell_type": "code",
   "execution_count": 2,
   "id": "668d52f4",
   "metadata": {
    "deletable": false,
    "editable": false,
    "trusted": true
   },
   "outputs": [
    {
     "name": "stdout",
     "output_type": "stream",
     "text": [
      "First 5 rows of the dataset:\n"
     ]
    },
    {
     "data": {
      "application/vnd.microsoft.datawrangler.viewer.v0+json": {
       "columns": [
        {
         "name": "index",
         "rawType": "int64",
         "type": "integer"
        },
        {
         "name": "song_id",
         "rawType": "int64",
         "type": "integer"
        },
        {
         "name": "artist_name",
         "rawType": "object",
         "type": "string"
        },
        {
         "name": "genre",
         "rawType": "object",
         "type": "string"
        },
        {
         "name": "release_year",
         "rawType": "int64",
         "type": "integer"
        },
        {
         "name": "duration_seconds",
         "rawType": "int64",
         "type": "integer"
        },
        {
         "name": "tempo",
         "rawType": "int64",
         "type": "integer"
        },
        {
         "name": "energy",
         "rawType": "float64",
         "type": "float"
        },
        {
         "name": "danceability",
         "rawType": "float64",
         "type": "float"
        },
        {
         "name": "valence",
         "rawType": "float64",
         "type": "float"
        },
        {
         "name": "acousticness",
         "rawType": "float64",
         "type": "float"
        },
        {
         "name": "popularity",
         "rawType": "int64",
         "type": "integer"
        },
        {
         "name": "listen_count",
         "rawType": "int64",
         "type": "integer"
        },
        {
         "name": "user_age",
         "rawType": "int64",
         "type": "integer"
        }
       ],
       "conversionMethod": "pd.DataFrame",
       "ref": "25c8685a-ed2d-48f7-8533-ed0e06f3b321",
       "rows": [
        [
         "0",
         "1",
         "Artist G",
         "Rock",
         "2011",
         "270",
         "172",
         "0.5044821241518107",
         "0.4782190429639893",
         "0.8174307279248095",
         "0.0918694597913628",
         "59",
         "43460",
         "23"
        ],
        [
         "1",
         "2",
         "Artist D",
         "Pop",
         "2000",
         "246",
         "146",
         "0.8584543953621389",
         "0.4120113368156317",
         "0.4791693122102979",
         "0.4884960339533061",
         "42",
         "91397",
         "54"
        ],
        [
         "2",
         "3",
         "Artist H",
         "Jazz",
         "2005",
         "274",
         "155",
         "0.8150476511058071",
         "0.5501936671105233",
         "0.6340461908168218",
         "0.2309044425922046",
         "75",
         "73847",
         "16"
        ],
        [
         "3",
         "4",
         "Artist E",
         "Jazz",
         "2022",
         "249",
         "105",
         "0.557396416425011",
         "0.2466407821789909",
         "0.2378558969613038",
         "0.4649905771380898",
         "99",
         "94607",
         "59"
        ],
        [
         "4",
         "5",
         "Artist G",
         "Classical",
         "1998",
         "136",
         "95",
         "0.7505226406748985",
         "0.7846368845997",
         "0.2538312150469366",
         "0.1234901722193618",
         "67",
         "90106",
         "39"
        ]
       ],
       "shape": {
        "columns": 13,
        "rows": 5
       }
      },
      "text/html": [
       "<div>\n",
       "<style scoped>\n",
       "    .dataframe tbody tr th:only-of-type {\n",
       "        vertical-align: middle;\n",
       "    }\n",
       "\n",
       "    .dataframe tbody tr th {\n",
       "        vertical-align: top;\n",
       "    }\n",
       "\n",
       "    .dataframe thead th {\n",
       "        text-align: right;\n",
       "    }\n",
       "</style>\n",
       "<table border=\"1\" class=\"dataframe\">\n",
       "  <thead>\n",
       "    <tr style=\"text-align: right;\">\n",
       "      <th></th>\n",
       "      <th>song_id</th>\n",
       "      <th>artist_name</th>\n",
       "      <th>genre</th>\n",
       "      <th>release_year</th>\n",
       "      <th>duration_seconds</th>\n",
       "      <th>tempo</th>\n",
       "      <th>energy</th>\n",
       "      <th>danceability</th>\n",
       "      <th>valence</th>\n",
       "      <th>acousticness</th>\n",
       "      <th>popularity</th>\n",
       "      <th>listen_count</th>\n",
       "      <th>user_age</th>\n",
       "    </tr>\n",
       "  </thead>\n",
       "  <tbody>\n",
       "    <tr>\n",
       "      <th>0</th>\n",
       "      <td>1</td>\n",
       "      <td>Artist G</td>\n",
       "      <td>Rock</td>\n",
       "      <td>2011</td>\n",
       "      <td>270</td>\n",
       "      <td>172</td>\n",
       "      <td>0.504482</td>\n",
       "      <td>0.478219</td>\n",
       "      <td>0.817431</td>\n",
       "      <td>0.091869</td>\n",
       "      <td>59</td>\n",
       "      <td>43460</td>\n",
       "      <td>23</td>\n",
       "    </tr>\n",
       "    <tr>\n",
       "      <th>1</th>\n",
       "      <td>2</td>\n",
       "      <td>Artist D</td>\n",
       "      <td>Pop</td>\n",
       "      <td>2000</td>\n",
       "      <td>246</td>\n",
       "      <td>146</td>\n",
       "      <td>0.858454</td>\n",
       "      <td>0.412011</td>\n",
       "      <td>0.479169</td>\n",
       "      <td>0.488496</td>\n",
       "      <td>42</td>\n",
       "      <td>91397</td>\n",
       "      <td>54</td>\n",
       "    </tr>\n",
       "    <tr>\n",
       "      <th>2</th>\n",
       "      <td>3</td>\n",
       "      <td>Artist H</td>\n",
       "      <td>Jazz</td>\n",
       "      <td>2005</td>\n",
       "      <td>274</td>\n",
       "      <td>155</td>\n",
       "      <td>0.815048</td>\n",
       "      <td>0.550194</td>\n",
       "      <td>0.634046</td>\n",
       "      <td>0.230904</td>\n",
       "      <td>75</td>\n",
       "      <td>73847</td>\n",
       "      <td>16</td>\n",
       "    </tr>\n",
       "    <tr>\n",
       "      <th>3</th>\n",
       "      <td>4</td>\n",
       "      <td>Artist E</td>\n",
       "      <td>Jazz</td>\n",
       "      <td>2022</td>\n",
       "      <td>249</td>\n",
       "      <td>105</td>\n",
       "      <td>0.557396</td>\n",
       "      <td>0.246641</td>\n",
       "      <td>0.237856</td>\n",
       "      <td>0.464991</td>\n",
       "      <td>99</td>\n",
       "      <td>94607</td>\n",
       "      <td>59</td>\n",
       "    </tr>\n",
       "    <tr>\n",
       "      <th>4</th>\n",
       "      <td>5</td>\n",
       "      <td>Artist G</td>\n",
       "      <td>Classical</td>\n",
       "      <td>1998</td>\n",
       "      <td>136</td>\n",
       "      <td>95</td>\n",
       "      <td>0.750523</td>\n",
       "      <td>0.784637</td>\n",
       "      <td>0.253831</td>\n",
       "      <td>0.123490</td>\n",
       "      <td>67</td>\n",
       "      <td>90106</td>\n",
       "      <td>39</td>\n",
       "    </tr>\n",
       "  </tbody>\n",
       "</table>\n",
       "</div>"
      ],
      "text/plain": [
       "   song_id artist_name      genre  release_year  duration_seconds  tempo  \\\n",
       "0        1    Artist G       Rock          2011               270    172   \n",
       "1        2    Artist D        Pop          2000               246    146   \n",
       "2        3    Artist H       Jazz          2005               274    155   \n",
       "3        4    Artist E       Jazz          2022               249    105   \n",
       "4        5    Artist G  Classical          1998               136     95   \n",
       "\n",
       "     energy  danceability   valence  acousticness  popularity  listen_count  \\\n",
       "0  0.504482      0.478219  0.817431      0.091869          59         43460   \n",
       "1  0.858454      0.412011  0.479169      0.488496          42         91397   \n",
       "2  0.815048      0.550194  0.634046      0.230904          75         73847   \n",
       "3  0.557396      0.246641  0.237856      0.464991          99         94607   \n",
       "4  0.750523      0.784637  0.253831      0.123490          67         90106   \n",
       "\n",
       "   user_age  \n",
       "0        23  \n",
       "1        54  \n",
       "2        16  \n",
       "3        59  \n",
       "4        39  "
      ]
     },
     "metadata": {},
     "output_type": "display_data"
    },
    {
     "name": "stdout",
     "output_type": "stream",
     "text": [
      "\n",
      "Column information:\n",
      "<class 'pandas.core.frame.DataFrame'>\n",
      "RangeIndex: 100 entries, 0 to 99\n",
      "Data columns (total 13 columns):\n",
      " #   Column            Non-Null Count  Dtype  \n",
      "---  ------            --------------  -----  \n",
      " 0   song_id           100 non-null    int64  \n",
      " 1   artist_name       100 non-null    object \n",
      " 2   genre             100 non-null    object \n",
      " 3   release_year      100 non-null    int64  \n",
      " 4   duration_seconds  100 non-null    int64  \n",
      " 5   tempo             100 non-null    int64  \n",
      " 6   energy            100 non-null    float64\n",
      " 7   danceability      100 non-null    float64\n",
      " 8   valence           100 non-null    float64\n",
      " 9   acousticness      100 non-null    float64\n",
      " 10  popularity        100 non-null    int64  \n",
      " 11  listen_count      100 non-null    int64  \n",
      " 12  user_age          100 non-null    int64  \n",
      "dtypes: float64(4), int64(7), object(2)\n",
      "memory usage: 10.3+ KB\n"
     ]
    },
    {
     "data": {
      "text/plain": [
       "None"
      ]
     },
     "metadata": {},
     "output_type": "display_data"
    }
   ],
   "source": [
    "import pandas as pd\n",
    "import matplotlib.pyplot as plt\n",
    "\n",
    "# Load the dataset\n",
    "music_data = pd.read_csv('music_data.csv')\n",
    "\n",
    "# Display the first 5 rows\n",
    "print(\"First 5 rows of the dataset:\")\n",
    "display(music_data.head())\n",
    "\n",
    "# Get information about the columns (data types and non-null values)\n",
    "print(\"\\nColumn information:\")\n",
    "display(music_data.info())"
   ]
  },
  {
   "cell_type": "markdown",
   "id": "c3170a9d-7b0c-4667-a26d-1394395404da",
   "metadata": {},
   "source": [
    "## Step 3: Generating a bar chart using Matplotlib's pyplot module\n",
    "\n",
    "Follow the steps in the instructions and run the cell below."
   ]
  },
  {
   "cell_type": "code",
   "execution_count": 3,
   "id": "8b06f041",
   "metadata": {},
   "outputs": [
    {
     "data": {
      "image/png": "[encoded data removed]",
      "text/plain": [
       "<Figure size 1000x600 with 1 Axes>"
      ]
     },
     "metadata": {},
     "output_type": "display_data"
    }
   ],
   "source": [
    "# Count the occurrences of each unique value in the `genre` column\n",
    "genre_counts = music_data['genre'].value_counts()   \n",
    "\n",
    "# Sort the genres by frequency in descending order and select the top 10 genres\n",
    "top_10_genres = genre_counts.head(10)\n",
    "\n",
    "# Create a bar chart to display the top 10 genres by frequency\n",
    "plt.figure(figsize=(10, 6)) \n",
    "top_10_genres.plot(kind='bar')\n",
    "\n",
    "# Add title and labels\n",
    "plt.title('Top 10 Genres by Frequency') # insert code here \n",
    "plt.xlabel('Genre') # insert code here \n",
    "plt.ylabel('Number of Songs') # insert code here \n",
    "\n",
    "# Display the plot using plt.show()\n",
    "# insert code here \n",
    "plt.show()"
   ]
  },
  {
   "cell_type": "markdown",
   "id": "f58394fa-bf2c-4717-a944-9d5a2639d6b9",
   "metadata": {},
   "source": [
    "## Step 4: Generating a histogram using Matplotlib's plt.figure()\n",
    "\n",
    "Follow the steps in the instructions and run the cell below."
   ]
  },
  {
   "cell_type": "code",
   "execution_count": 4,
   "metadata": {},
   "outputs": [
    {
     "data": {
      "text/plain": [
       "0    270\n",
       "1    246\n",
       "2    274\n",
       "3    249\n",
       "4    136\n",
       "Name: duration_seconds, dtype: int64"
      ]
     },
     "execution_count": 4,
     "metadata": {},
     "output_type": "execute_result"
    }
   ],
   "source": [
    "music_data['duration_seconds'].head()"
   ]
  },
  {
   "cell_type": "code",
   "execution_count": 5,
   "id": "baa856c4",
   "metadata": {},
   "outputs": [
    {
     "data": {
      "image/png": "[encoded data removed]",
      "text/plain": [
       "<Figure size 1000x600 with 1 Axes>"
      ]
     },
     "metadata": {},
     "output_type": "display_data"
    }
   ],
   "source": [
    "# Extract the duration_seconds column\n",
    "duration_seconds = music_data['duration_seconds'] # insert code here \n",
    "\n",
    "# Create a histogram to display the distribution of `duration_seconds`\n",
    "plt.figure(figsize = (10, 6)) # insert code here \n",
    "plt.hist(duration_seconds, bins=20, color='skyblue', edgecolor='black')\n",
    "\n",
    "# Add title and labels\n",
    "plt.title('Distribution of Song Durations')\n",
    "plt.xlabel('Duration (seconds)')\n",
    "plt.ylabel('Frequency')\n",
    "\n",
    "# Display the plot using plt.show()\n",
    "# insert code here \n",
    "plt.show()"
   ]
  },
  {
   "cell_type": "markdown",
   "id": "bf2f3cc0",
   "metadata": {},
   "source": [
    "## Step 5: Generating a histogram using Matplotlib's plt.hist()\n",
    "\n",
    "Follow the steps in the instructions and run the cell below."
   ]
  },
  {
   "cell_type": "code",
   "execution_count": null,
   "id": "6f083567",
   "metadata": {},
   "outputs": [
    {
     "data": {
      "image/png": "[encoded data removed]",
      "text/plain": [
       "<Figure size 800x500 with 1 Axes>"
      ]
     },
     "metadata": {},
     "output_type": "display_data"
    }
   ],
   "source": [
    "# Extract the popularity column\n",
    "popularity = music_data['duration_seconds'] # insert code here \n",
    "\n",
    "# Create a histogram to display the distribution of popularity \n",
    "plt.figure(figsize=(8, 5))  # Set the figure size for better readability\n",
    "\n",
    "# Plot the histogram with customized bins and colors\n",
    "plt.hist(popularity, color='orange', edgecolor='blue')  # insert code here\n",
    "\n",
    "# Add title and labels\n",
    "plt.title('Distribution of Song Popularity')\n",
    "plt.xlabel('Popularity')\n",
    "plt.ylabel('Frequency')\n",
    "plt.annotate\n",
    "# Display the plot using plt.show()\n",
    "# insert code here \n",
    "plt.show()"
   ]
  },
  {
   "cell_type": "markdown",
   "id": "3a3dfdbf",
   "metadata": {},
   "source": [
    "## Step 6: Generating heatmaps using Plotly\n",
    "\n",
    "Follow the steps outlined in your instructions document to complete the code below. Click run to see the results."
   ]
  },
  {
   "cell_type": "code",
   "execution_count": null,
   "metadata": {},
   "outputs": [],
   "source": [
    "!pip install --upgrade nbformat"
   ]
  },
  {
   "cell_type": "code",
   "execution_count": 7,
   "id": "b5bdda38",
   "metadata": {},
   "outputs": [
    {
     "data": {
      "application/vnd.plotly.v1+json": {
       "config": {
        "plotlyServerURL": "https://plot.ly"
       },
       "data": [
        {
         "coloraxis": "coloraxis",
         "hovertemplate": "x: %{x}<br>y: %{y}<br>color: %{z}<extra></extra>",
         "name": "0",
         "texttemplate": "%{z:.2f}",
         "type": "heatmap",
         "x": [
          "tempo",
          "energy",
          "danceability",
          "valence",
          "acousticness",
          "popularity"
         ],
         "xaxis": "x",
         "y": [
          "tempo",
          "energy",
          "danceability",
          "valence",
          "acousticness",
          "popularity"
         ],
         "yaxis": "y",
         "z": {
          "bdata": "AAAAAAAA8D/agRmzYFjDv6b8JKXBGaU/zD2x1Xgbub+tJ/DPLZWwv9O8JGuFv60/2oEZs2BYw78AAAAAAADwP2EqujLPfra/80qF7pxz0D8oqmuc5Va4P+A51RAI+6y/pvwkpcEZpT9hKroyz362vwAAAAAAAPA/aI4TI0BFob+9CcqkvS28v7RgcTYgM6u/zD2x1Xgbub/zSoXunHPQP2iOEyNARaG/AAAAAAAA8D9rl6zZ1ozDP7w17NHaDbk/rSfwzy2VsL8oqmuc5Va4P70JyqS9Lby/a5es2daMwz8AAAAAAADwP5IwxMF7krs/07wka4W/rT/gOdUQCPusv7RgcTYgM6u/vDXs0doNuT+SMMTBe5K7PwAAAAAAAPA/",
          "dtype": "f8",
          "shape": "6, 6"
         }
        }
       ],
       "layout": {
        "coloraxis": {
         "colorscale": [
          [
           0,
           "rgb(103,0,31)"
          ],
          [
           0.1,
           "rgb(178,24,43)"
          ],
          [
           0.2,
           "rgb(214,96,77)"
          ],
          [
           0.3,
           "rgb(244,165,130)"
          ],
          [
           0.4,
           "rgb(253,219,199)"
          ],
          [
           0.5,
           "rgb(247,247,247)"
          ],
          [
           0.6,
           "rgb(209,229,240)"
          ],
          [
           0.7,
           "rgb(146,197,222)"
          ],
          [
           0.8,
           "rgb(67,147,195)"
          ],
          [
           0.9,
           "rgb(33,102,172)"
          ],
          [
           1,
           "rgb(5,48,97)"
          ]
         ]
        },
        "template": {
         "data": {
          "bar": [
           {
            "error_x": {
             "color": "#2a3f5f"
            },
            "error_y": {
             "color": "#2a3f5f"
            },
            "marker": {
             "line": {
              "color": "#E5ECF6",
              "width": 0.5
             },
             "pattern": {
              "fillmode": "overlay",
              "size": 10,
              "solidity": 0.2
             }
            },
            "type": "bar"
           }
          ],
          "barpolar": [
           {
            "marker": {
             "line": {
              "color": "#E5ECF6",
              "width": 0.5
             },
             "pattern": {
              "fillmode": "overlay",
              "size": 10,
              "solidity": 0.2
             }
            },
            "type": "barpolar"
           }
          ],
          "carpet": [
           {
            "aaxis": {
             "endlinecolor": "#2a3f5f",
             "gridcolor": "white",
             "linecolor": "white",
             "minorgridcolor": "white",
             "startlinecolor": "#2a3f5f"
            },
            "baxis": {
             "endlinecolor": "#2a3f5f",
             "gridcolor": "white",
             "linecolor": "white",
             "minorgridcolor": "white",
             "startlinecolor": "#2a3f5f"
            },
            "type": "carpet"
           }
          ],
          "choropleth": [
           {
            "colorbar": {
             "outlinewidth": 0,
             "ticks": ""
            },
            "type": "choropleth"
           }
          ],
          "contour": [
           {
            "colorbar": {
             "outlinewidth": 0,
             "ticks": ""
            },
            "colorscale": [
             [
              0,
              "#0d0887"
             ],
             [
              0.1111111111111111,
              "#46039f"
             ],
             [
              0.2222222222222222,
              "#7201a8"
             ],
             [
              0.3333333333333333,
              "#9c179e"
             ],
             [
              0.4444444444444444,
              "#bd3786"
             ],
             [
              0.5555555555555556,
              "#d8576b"
             ],
             [
              0.6666666666666666,
              "#ed7953"
             ],
             [
              0.7777777777777778,
              "#fb9f3a"
             ],
             [
              0.8888888888888888,
              "#fdca26"
             ],
             [
              1,
              "#f0f921"
             ]
            ],
            "type": "contour"
           }
          ],
          "contourcarpet": [
           {
            "colorbar": {
             "outlinewidth": 0,
             "ticks": ""
            },
            "type": "contourcarpet"
           }
          ],
          "heatmap": [
           {
            "colorbar": {
             "outlinewidth": 0,
             "ticks": ""
            },
            "colorscale": [
             [
              0,
              "#0d0887"
             ],
             [
              0.1111111111111111,
              "#46039f"
             ],
             [
              0.2222222222222222,
              "#7201a8"
             ],
             [
              0.3333333333333333,
              "#9c179e"
             ],
             [
              0.4444444444444444,
              "#bd3786"
             ],
             [
              0.5555555555555556,
              "#d8576b"
             ],
             [
              0.6666666666666666,
              "#ed7953"
             ],
             [
              0.7777777777777778,
              "#fb9f3a"
             ],
             [
              0.8888888888888888,
              "#fdca26"
             ],
             [
              1,
              "#f0f921"
             ]
            ],
            "type": "heatmap"
           }
          ],
          "histogram": [
           {
            "marker": {
             "pattern": {
              "fillmode": "overlay",
              "size": 10,
              "solidity": 0.2
             }
            },
            "type": "histogram"
           }
          ],
          "histogram2d": [
           {
            "colorbar": {
             "outlinewidth": 0,
             "ticks": ""
            },
            "colorscale": [
             [
              0,
              "#0d0887"
             ],
             [
              0.1111111111111111,
              "#46039f"
             ],
             [
              0.2222222222222222,
              "#7201a8"
             ],
             [
              0.3333333333333333,
              "#9c179e"
             ],
             [
              0.4444444444444444,
              "#bd3786"
             ],
             [
              0.5555555555555556,
              "#d8576b"
             ],
             [
              0.6666666666666666,
              "#ed7953"
             ],
             [
              0.7777777777777778,
              "#fb9f3a"
             ],
             [
              0.8888888888888888,
              "#fdca26"
             ],
             [
              1,
              "#f0f921"
             ]
            ],
            "type": "histogram2d"
           }
          ],
          "histogram2dcontour": [
           {
            "colorbar": {
             "outlinewidth": 0,
             "ticks": ""
            },
            "colorscale": [
             [
              0,
              "#0d0887"
             ],
             [
              0.1111111111111111,
              "#46039f"
             ],
             [
              0.2222222222222222,
              "#7201a8"
             ],
             [
              0.3333333333333333,
              "#9c179e"
             ],
             [
              0.4444444444444444,
              "#bd3786"
             ],
             [
              0.5555555555555556,
              "#d8576b"
             ],
             [
              0.6666666666666666,
              "#ed7953"
             ],
             [
              0.7777777777777778,
              "#fb9f3a"
             ],
             [
              0.8888888888888888,
              "#fdca26"
             ],
             [
              1,
              "#f0f921"
             ]
            ],
            "type": "histogram2dcontour"
           }
          ],
          "mesh3d": [
           {
            "colorbar": {
             "outlinewidth": 0,
             "ticks": ""
            },
            "type": "mesh3d"
           }
          ],
          "parcoords": [
           {
            "line": {
             "colorbar": {
              "outlinewidth": 0,
              "ticks": ""
             }
            },
            "type": "parcoords"
           }
          ],
          "pie": [
           {
            "automargin": true,
            "type": "pie"
           }
          ],
          "scatter": [
           {
            "fillpattern": {
             "fillmode": "overlay",
             "size": 10,
             "solidity": 0.2
            },
            "type": "scatter"
           }
          ],
          "scatter3d": [
           {
            "line": {
             "colorbar": {
              "outlinewidth": 0,
              "ticks": ""
             }
            },
            "marker": {
             "colorbar": {
              "outlinewidth": 0,
              "ticks": ""
             }
            },
            "type": "scatter3d"
           }
          ],
          "scattercarpet": [
           {
            "marker": {
             "colorbar": {
              "outlinewidth": 0,
              "ticks": ""
             }
            },
            "type": "scattercarpet"
           }
          ],
          "scattergeo": [
           {
            "marker": {
             "colorbar": {
              "outlinewidth": 0,
              "ticks": ""
             }
            },
            "type": "scattergeo"
           }
          ],
          "scattergl": [
           {
            "marker": {
             "colorbar": {
              "outlinewidth": 0,
              "ticks": ""
             }
            },
            "type": "scattergl"
           }
          ],
          "scattermap": [
           {
            "marker": {
             "colorbar": {
              "outlinewidth": 0,
              "ticks": ""
             }
            },
            "type": "scattermap"
           }
          ],
          "scattermapbox": [
           {
            "marker": {
             "colorbar": {
              "outlinewidth": 0,
              "ticks": ""
             }
            },
            "type": "scattermapbox"
           }
          ],
          "scatterpolar": [
           {
            "marker": {
             "colorbar": {
              "outlinewidth": 0,
              "ticks": ""
             }
            },
            "type": "scatterpolar"
           }
          ],
          "scatterpolargl": [
           {
            "marker": {
             "colorbar": {
              "outlinewidth": 0,
              "ticks": ""
             }
            },
            "type": "scatterpolargl"
           }
          ],
          "scatterternary": [
           {
            "marker": {
             "colorbar": {
              "outlinewidth": 0,
              "ticks": ""
             }
            },
            "type": "scatterternary"
           }
          ],
          "surface": [
           {
            "colorbar": {
             "outlinewidth": 0,
             "ticks": ""
            },
            "colorscale": [
             [
              0,
              "#0d0887"
             ],
             [
              0.1111111111111111,
              "#46039f"
             ],
             [
              0.2222222222222222,
              "#7201a8"
             ],
             [
              0.3333333333333333,
              "#9c179e"
             ],
             [
              0.4444444444444444,
              "#bd3786"
             ],
             [
              0.5555555555555556,
              "#d8576b"
             ],
             [
              0.6666666666666666,
              "#ed7953"
             ],
             [
              0.7777777777777778,
              "#fb9f3a"
             ],
             [
              0.8888888888888888,
              "#fdca26"
             ],
             [
              1,
              "#f0f921"
             ]
            ],
            "type": "surface"
           }
          ],
          "table": [
           {
            "cells": {
             "fill": {
              "color": "#EBF0F8"
             },
             "line": {
              "color": "white"
             }
            },
            "header": {
             "fill": {
              "color": "#C8D4E3"
             },
             "line": {
              "color": "white"
             }
            },
            "type": "table"
           }
          ]
         },
         "layout": {
          "annotationdefaults": {
           "arrowcolor": "#2a3f5f",
           "arrowhead": 0,
           "arrowwidth": 1
          },
          "autotypenumbers": "strict",
          "coloraxis": {
           "colorbar": {
            "outlinewidth": 0,
            "ticks": ""
           }
          },
          "colorscale": {
           "diverging": [
            [
             0,
             "#8e0152"
            ],
            [
             0.1,
             "#c51b7d"
            ],
            [
             0.2,
             "#de77ae"
            ],
            [
             0.3,
             "#f1b6da"
            ],
            [
             0.4,
             "#fde0ef"
            ],
            [
             0.5,
             "#f7f7f7"
            ],
            [
             0.6,
             "#e6f5d0"
            ],
            [
             0.7,
             "#b8e186"
            ],
            [
             0.8,
             "#7fbc41"
            ],
            [
             0.9,
             "#4d9221"
            ],
            [
             1,
             "#276419"
            ]
           ],
           "sequential": [
            [
             0,
             "#0d0887"
            ],
            [
             0.1111111111111111,
             "#46039f"
            ],
            [
             0.2222222222222222,
             "#7201a8"
            ],
            [
             0.3333333333333333,
             "#9c179e"
            ],
            [
             0.4444444444444444,
             "#bd3786"
            ],
            [
             0.5555555555555556,
             "#d8576b"
            ],
            [
             0.6666666666666666,
             "#ed7953"
            ],
            [
             0.7777777777777778,
             "#fb9f3a"
            ],
            [
             0.8888888888888888,
             "#fdca26"
            ],
            [
             1,
             "#f0f921"
            ]
           ],
           "sequentialminus": [
            [
             0,
             "#0d0887"
            ],
            [
             0.1111111111111111,
             "#46039f"
            ],
            [
             0.2222222222222222,
             "#7201a8"
            ],
            [
             0.3333333333333333,
             "#9c179e"
            ],
            [
             0.4444444444444444,
             "#bd3786"
            ],
            [
             0.5555555555555556,
             "#d8576b"
            ],
            [
             0.6666666666666666,
             "#ed7953"
            ],
            [
             0.7777777777777778,
             "#fb9f3a"
            ],
            [
             0.8888888888888888,
             "#fdca26"
            ],
            [
             1,
             "#f0f921"
            ]
           ]
          },
          "colorway": [
           "#636efa",
           "#EF553B",
           "#00cc96",
           "#ab63fa",
           "#FFA15A",
           "#19d3f3",
           "#FF6692",
           "#B6E880",
           "#FF97FF",
           "#FECB52"
          ],
          "font": {
           "color": "#2a3f5f"
          },
          "geo": {
           "bgcolor": "white",
           "lakecolor": "white",
           "landcolor": "#E5ECF6",
           "showlakes": true,
           "showland": true,
           "subunitcolor": "white"
          },
          "hoverlabel": {
           "align": "left"
          },
          "hovermode": "closest",
          "mapbox": {
           "style": "light"
          },
          "paper_bgcolor": "white",
          "plot_bgcolor": "#E5ECF6",
          "polar": {
           "angularaxis": {
            "gridcolor": "white",
            "linecolor": "white",
            "ticks": ""
           },
           "bgcolor": "#E5ECF6",
           "radialaxis": {
            "gridcolor": "white",
            "linecolor": "white",
            "ticks": ""
           }
          },
          "scene": {
           "xaxis": {
            "backgroundcolor": "#E5ECF6",
            "gridcolor": "white",
            "gridwidth": 2,
            "linecolor": "white",
            "showbackground": true,
            "ticks": "",
            "zerolinecolor": "white"
           },
           "yaxis": {
            "backgroundcolor": "#E5ECF6",
            "gridcolor": "white",
            "gridwidth": 2,
            "linecolor": "white",
            "showbackground": true,
            "ticks": "",
            "zerolinecolor": "white"
           },
           "zaxis": {
            "backgroundcolor": "#E5ECF6",
            "gridcolor": "white",
            "gridwidth": 2,
            "linecolor": "white",
            "showbackground": true,
            "ticks": "",
            "zerolinecolor": "white"
           }
          },
          "shapedefaults": {
           "line": {
            "color": "#2a3f5f"
           }
          },
          "ternary": {
           "aaxis": {
            "gridcolor": "white",
            "linecolor": "white",
            "ticks": ""
           },
           "baxis": {
            "gridcolor": "white",
            "linecolor": "white",
            "ticks": ""
           },
           "bgcolor": "#E5ECF6",
           "caxis": {
            "gridcolor": "white",
            "linecolor": "white",
            "ticks": ""
           }
          },
          "title": {
           "x": 0.05
          },
          "xaxis": {
           "automargin": true,
           "gridcolor": "white",
           "linecolor": "white",
           "ticks": "",
           "title": {
            "standoff": 15
           },
           "zerolinecolor": "white",
           "zerolinewidth": 2
          },
          "yaxis": {
           "automargin": true,
           "gridcolor": "white",
           "linecolor": "white",
           "ticks": "",
           "title": {
            "standoff": 15
           },
           "zerolinecolor": "white",
           "zerolinewidth": 2
          }
         }
        },
        "title": {
         "text": "Correlation Matrix of Music Features"
        },
        "xaxis": {
         "anchor": "y",
         "constrain": "domain",
         "domain": [
          0,
          1
         ],
         "scaleanchor": "y"
        },
        "yaxis": {
         "anchor": "x",
         "autorange": "reversed",
         "constrain": "domain",
         "domain": [
          0,
          1
         ]
        }
       }
      }
     },
     "metadata": {},
     "output_type": "display_data"
    }
   ],
   "source": [
    "import plotly.express as px\n",
    "\n",
    "# Create a new dataframe `numeric_features` containing only the \n",
    "# numeric columns we want to analyze\n",
    "numeric_features = music_data[[ 'tempo', 'energy', 'danceability', \n",
    "                                'valence', 'acousticness', 'popularity']\n",
    "                            ]\n",
    "\n",
    "# Compute the correlation matrix \n",
    "correlation_matrix = numeric_features.corr()\n",
    "\n",
    "# Create and display a heatmap using Plotly\n",
    "plt = px.imshow(correlation_matrix,\n",
    "                x=correlation_matrix.columns,\n",
    "                y=correlation_matrix.columns,\n",
    "                color_continuous_scale=\"RdBu\",  # Use a built-in Plotly colorscale\n",
    "                text_auto = '.2f', # Add code here\n",
    "                title=\"Correlation Matrix of Music Features\"\n",
    "                )\n",
    "\n",
    "plt.show()"
   ]
  },
  {
   "cell_type": "markdown",
   "id": "a86df7d1-a3fc-4043-b470-ae74fb87d0ac",
   "metadata": {},
   "source": [
    "## Step 7: Generating violin plots using Plotly\n",
    "\n",
    "Follow the steps outlined in your instructions document to complete the code below. Click run to see the results."
   ]
  },
  {
   "cell_type": "code",
   "execution_count": 9,
   "id": "d421e08b",
   "metadata": {},
   "outputs": [
    {
     "data": {
      "application/vnd.plotly.v1+json": {
       "config": {
        "plotlyServerURL": "https://plot.ly"
       },
       "data": [
        {
         "alignmentgroup": "True",
         "box": {
          "visible": true
         },
         "hovertemplate": "genre=%{x}<br>popularity=%{y}<extra></extra>",
         "legendgroup": "",
         "marker": {
          "color": "#636efa"
         },
         "name": "",
         "offsetgroup": "",
         "orientation": "v",
         "scalegroup": "True",
         "showlegend": false,
         "type": "violin",
         "x": [
          "Rock",
          "Pop",
          "Jazz",
          "Jazz",
          "Classical",
          "Country",
          "Hip-Hop",
          "Classical",
          "R&B",
          "Hip-Hop",
          "Pop",
          "Hip-Hop",
          "Country",
          "Hip-Hop",
          "Pop",
          "Country",
          "Folk",
          "Jazz",
          "Jazz",
          "Indie",
          "Folk",
          "Folk",
          "Hip-Hop",
          "Jazz",
          "Pop",
          "Electronic",
          "Electronic",
          "Country",
          "Jazz",
          "Jazz",
          "Electronic",
          "Jazz",
          "Hip-Hop",
          "R&B",
          "Rock",
          "Folk",
          "Indie",
          "Country",
          "R&B",
          "Electronic",
          "Folk",
          "Jazz",
          "Indie",
          "Jazz",
          "Pop",
          "Pop",
          "Indie",
          "Indie",
          "Electronic",
          "Indie",
          "Hip-Hop",
          "Jazz",
          "R&B",
          "Classical",
          "Indie",
          "Country",
          "Pop",
          "Hip-Hop",
          "Folk",
          "Classical",
          "R&B",
          "Classical",
          "Indie",
          "Electronic",
          "Pop",
          "Pop",
          "Folk",
          "Electronic",
          "Jazz",
          "Rock",
          "Hip-Hop",
          "Pop",
          "Country",
          "Pop",
          "Classical",
          "Pop",
          "Pop",
          "Rock",
          "Rock",
          "R&B",
          "Jazz",
          "Country",
          "Pop",
          "Pop",
          "Hip-Hop",
          "Rock",
          "Country",
          "Folk",
          "R&B",
          "Jazz",
          "Electronic",
          "Jazz",
          "Classical",
          "Pop",
          "R&B",
          "Classical",
          "Country",
          "Electronic",
          "Rock",
          "R&B"
         ],
         "x0": " ",
         "xaxis": "x",
         "y": {
          "bdata": "OypLY0MEJEdbHggyHE0nKFUKFgAtFFkjNVY4AD41NicOFC5INAhJMzgZKCI+GFlKJQEGUVohWhAqOjI1FxhGM0VXIDAcPhUZG1QwRlBTMBNVWz48MEYAXwxdVjI3Uj0fHRwwLA==",
          "dtype": "i1"
         },
         "y0": " ",
         "yaxis": "y"
        }
       ],
       "layout": {
        "legend": {
         "tracegroupgap": 0
        },
        "template": {
         "data": {
          "bar": [
           {
            "error_x": {
             "color": "#2a3f5f"
            },
            "error_y": {
             "color": "#2a3f5f"
            },
            "marker": {
             "line": {
              "color": "#E5ECF6",
              "width": 0.5
             },
             "pattern": {
              "fillmode": "overlay",
              "size": 10,
              "solidity": 0.2
             }
            },
            "type": "bar"
           }
          ],
          "barpolar": [
           {
            "marker": {
             "line": {
              "color": "#E5ECF6",
              "width": 0.5
             },
             "pattern": {
              "fillmode": "overlay",
              "size": 10,
              "solidity": 0.2
             }
            },
            "type": "barpolar"
           }
          ],
          "carpet": [
           {
            "aaxis": {
             "endlinecolor": "#2a3f5f",
             "gridcolor": "white",
             "linecolor": "white",
             "minorgridcolor": "white",
             "startlinecolor": "#2a3f5f"
            },
            "baxis": {
             "endlinecolor": "#2a3f5f",
             "gridcolor": "white",
             "linecolor": "white",
             "minorgridcolor": "white",
             "startlinecolor": "#2a3f5f"
            },
            "type": "carpet"
           }
          ],
          "choropleth": [
           {
            "colorbar": {
             "outlinewidth": 0,
             "ticks": ""
            },
            "type": "choropleth"
           }
          ],
          "contour": [
           {
            "colorbar": {
             "outlinewidth": 0,
             "ticks": ""
            },
            "colorscale": [
             [
              0,
              "#0d0887"
             ],
             [
              0.1111111111111111,
              "#46039f"
             ],
             [
              0.2222222222222222,
              "#7201a8"
             ],
             [
              0.3333333333333333,
              "#9c179e"
             ],
             [
              0.4444444444444444,
              "#bd3786"
             ],
             [
              0.5555555555555556,
              "#d8576b"
             ],
             [
              0.6666666666666666,
              "#ed7953"
             ],
             [
              0.7777777777777778,
              "#fb9f3a"
             ],
             [
              0.8888888888888888,
              "#fdca26"
             ],
             [
              1,
              "#f0f921"
             ]
            ],
            "type": "contour"
           }
          ],
          "contourcarpet": [
           {
            "colorbar": {
             "outlinewidth": 0,
             "ticks": ""
            },
            "type": "contourcarpet"
           }
          ],
          "heatmap": [
           {
            "colorbar": {
             "outlinewidth": 0,
             "ticks": ""
            },
            "colorscale": [
             [
              0,
              "#0d0887"
             ],
             [
              0.1111111111111111,
              "#46039f"
             ],
             [
              0.2222222222222222,
              "#7201a8"
             ],
             [
              0.3333333333333333,
              "#9c179e"
             ],
             [
              0.4444444444444444,
              "#bd3786"
             ],
             [
              0.5555555555555556,
              "#d8576b"
             ],
             [
              0.6666666666666666,
              "#ed7953"
             ],
             [
              0.7777777777777778,
              "#fb9f3a"
             ],
             [
              0.8888888888888888,
              "#fdca26"
             ],
             [
              1,
              "#f0f921"
             ]
            ],
            "type": "heatmap"
           }
          ],
          "histogram": [
           {
            "marker": {
             "pattern": {
              "fillmode": "overlay",
              "size": 10,
              "solidity": 0.2
             }
            },
            "type": "histogram"
           }
          ],
          "histogram2d": [
           {
            "colorbar": {
             "outlinewidth": 0,
             "ticks": ""
            },
            "colorscale": [
             [
              0,
              "#0d0887"
             ],
             [
              0.1111111111111111,
              "#46039f"
             ],
             [
              0.2222222222222222,
              "#7201a8"
             ],
             [
              0.3333333333333333,
              "#9c179e"
             ],
             [
              0.4444444444444444,
              "#bd3786"
             ],
             [
              0.5555555555555556,
              "#d8576b"
             ],
             [
              0.6666666666666666,
              "#ed7953"
             ],
             [
              0.7777777777777778,
              "#fb9f3a"
             ],
             [
              0.8888888888888888,
              "#fdca26"
             ],
             [
              1,
              "#f0f921"
             ]
            ],
            "type": "histogram2d"
           }
          ],
          "histogram2dcontour": [
           {
            "colorbar": {
             "outlinewidth": 0,
             "ticks": ""
            },
            "colorscale": [
             [
              0,
              "#0d0887"
             ],
             [
              0.1111111111111111,
              "#46039f"
             ],
             [
              0.2222222222222222,
              "#7201a8"
             ],
             [
              0.3333333333333333,
              "#9c179e"
             ],
             [
              0.4444444444444444,
              "#bd3786"
             ],
             [
              0.5555555555555556,
              "#d8576b"
             ],
             [
              0.6666666666666666,
              "#ed7953"
             ],
             [
              0.7777777777777778,
              "#fb9f3a"
             ],
             [
              0.8888888888888888,
              "#fdca26"
             ],
             [
              1,
              "#f0f921"
             ]
            ],
            "type": "histogram2dcontour"
           }
          ],
          "mesh3d": [
           {
            "colorbar": {
             "outlinewidth": 0,
             "ticks": ""
            },
            "type": "mesh3d"
           }
          ],
          "parcoords": [
           {
            "line": {
             "colorbar": {
              "outlinewidth": 0,
              "ticks": ""
             }
            },
            "type": "parcoords"
           }
          ],
          "pie": [
           {
            "automargin": true,
            "type": "pie"
           }
          ],
          "scatter": [
           {
            "fillpattern": {
             "fillmode": "overlay",
             "size": 10,
             "solidity": 0.2
            },
            "type": "scatter"
           }
          ],
          "scatter3d": [
           {
            "line": {
             "colorbar": {
              "outlinewidth": 0,
              "ticks": ""
             }
            },
            "marker": {
             "colorbar": {
              "outlinewidth": 0,
              "ticks": ""
             }
            },
            "type": "scatter3d"
           }
          ],
          "scattercarpet": [
           {
            "marker": {
             "colorbar": {
              "outlinewidth": 0,
              "ticks": ""
             }
            },
            "type": "scattercarpet"
           }
          ],
          "scattergeo": [
           {
            "marker": {
             "colorbar": {
              "outlinewidth": 0,
              "ticks": ""
             }
            },
            "type": "scattergeo"
           }
          ],
          "scattergl": [
           {
            "marker": {
             "colorbar": {
              "outlinewidth": 0,
              "ticks": ""
             }
            },
            "type": "scattergl"
           }
          ],
          "scattermap": [
           {
            "marker": {
             "colorbar": {
              "outlinewidth": 0,
              "ticks": ""
             }
            },
            "type": "scattermap"
           }
          ],
          "scattermapbox": [
           {
            "marker": {
             "colorbar": {
              "outlinewidth": 0,
              "ticks": ""
             }
            },
            "type": "scattermapbox"
           }
          ],
          "scatterpolar": [
           {
            "marker": {
             "colorbar": {
              "outlinewidth": 0,
              "ticks": ""
             }
            },
            "type": "scatterpolar"
           }
          ],
          "scatterpolargl": [
           {
            "marker": {
             "colorbar": {
              "outlinewidth": 0,
              "ticks": ""
             }
            },
            "type": "scatterpolargl"
           }
          ],
          "scatterternary": [
           {
            "marker": {
             "colorbar": {
              "outlinewidth": 0,
              "ticks": ""
             }
            },
            "type": "scatterternary"
           }
          ],
          "surface": [
           {
            "colorbar": {
             "outlinewidth": 0,
             "ticks": ""
            },
            "colorscale": [
             [
              0,
              "#0d0887"
             ],
             [
              0.1111111111111111,
              "#46039f"
             ],
             [
              0.2222222222222222,
              "#7201a8"
             ],
             [
              0.3333333333333333,
              "#9c179e"
             ],
             [
              0.4444444444444444,
              "#bd3786"
             ],
             [
              0.5555555555555556,
              "#d8576b"
             ],
             [
              0.6666666666666666,
              "#ed7953"
             ],
             [
              0.7777777777777778,
              "#fb9f3a"
             ],
             [
              0.8888888888888888,
              "#fdca26"
             ],
             [
              1,
              "#f0f921"
             ]
            ],
            "type": "surface"
           }
          ],
          "table": [
           {
            "cells": {
             "fill": {
              "color": "#EBF0F8"
             },
             "line": {
              "color": "white"
             }
            },
            "header": {
             "fill": {
              "color": "#C8D4E3"
             },
             "line": {
              "color": "white"
             }
            },
            "type": "table"
           }
          ]
         },
         "layout": {
          "annotationdefaults": {
           "arrowcolor": "#2a3f5f",
           "arrowhead": 0,
           "arrowwidth": 1
          },
          "autotypenumbers": "strict",
          "coloraxis": {
           "colorbar": {
            "outlinewidth": 0,
            "ticks": ""
           }
          },
          "colorscale": {
           "diverging": [
            [
             0,
             "#8e0152"
            ],
            [
             0.1,
             "#c51b7d"
            ],
            [
             0.2,
             "#de77ae"
            ],
            [
             0.3,
             "#f1b6da"
            ],
            [
             0.4,
             "#fde0ef"
            ],
            [
             0.5,
             "#f7f7f7"
            ],
            [
             0.6,
             "#e6f5d0"
            ],
            [
             0.7,
             "#b8e186"
            ],
            [
             0.8,
             "#7fbc41"
            ],
            [
             0.9,
             "#4d9221"
            ],
            [
             1,
             "#276419"
            ]
           ],
           "sequential": [
            [
             0,
             "#0d0887"
            ],
            [
             0.1111111111111111,
             "#46039f"
            ],
            [
             0.2222222222222222,
             "#7201a8"
            ],
            [
             0.3333333333333333,
             "#9c179e"
            ],
            [
             0.4444444444444444,
             "#bd3786"
            ],
            [
             0.5555555555555556,
             "#d8576b"
            ],
            [
             0.6666666666666666,
             "#ed7953"
            ],
            [
             0.7777777777777778,
             "#fb9f3a"
            ],
            [
             0.8888888888888888,
             "#fdca26"
            ],
            [
             1,
             "#f0f921"
            ]
           ],
           "sequentialminus": [
            [
             0,
             "#0d0887"
            ],
            [
             0.1111111111111111,
             "#46039f"
            ],
            [
             0.2222222222222222,
             "#7201a8"
            ],
            [
             0.3333333333333333,
             "#9c179e"
            ],
            [
             0.4444444444444444,
             "#bd3786"
            ],
            [
             0.5555555555555556,
             "#d8576b"
            ],
            [
             0.6666666666666666,
             "#ed7953"
            ],
            [
             0.7777777777777778,
             "#fb9f3a"
            ],
            [
             0.8888888888888888,
             "#fdca26"
            ],
            [
             1,
             "#f0f921"
            ]
           ]
          },
          "colorway": [
           "#636efa",
           "#EF553B",
           "#00cc96",
           "#ab63fa",
           "#FFA15A",
           "#19d3f3",
           "#FF6692",
           "#B6E880",
           "#FF97FF",
           "#FECB52"
          ],
          "font": {
           "color": "#2a3f5f"
          },
          "geo": {
           "bgcolor": "white",
           "lakecolor": "white",
           "landcolor": "#E5ECF6",
           "showlakes": true,
           "showland": true,
           "subunitcolor": "white"
          },
          "hoverlabel": {
           "align": "left"
          },
          "hovermode": "closest",
          "mapbox": {
           "style": "light"
          },
          "paper_bgcolor": "white",
          "plot_bgcolor": "#E5ECF6",
          "polar": {
           "angularaxis": {
            "gridcolor": "white",
            "linecolor": "white",
            "ticks": ""
           },
           "bgcolor": "#E5ECF6",
           "radialaxis": {
            "gridcolor": "white",
            "linecolor": "white",
            "ticks": ""
           }
          },
          "scene": {
           "xaxis": {
            "backgroundcolor": "#E5ECF6",
            "gridcolor": "white",
            "gridwidth": 2,
            "linecolor": "white",
            "showbackground": true,
            "ticks": "",
            "zerolinecolor": "white"
           },
           "yaxis": {
            "backgroundcolor": "#E5ECF6",
            "gridcolor": "white",
            "gridwidth": 2,
            "linecolor": "white",
            "showbackground": true,
            "ticks": "",
            "zerolinecolor": "white"
           },
           "zaxis": {
            "backgroundcolor": "#E5ECF6",
            "gridcolor": "white",
            "gridwidth": 2,
            "linecolor": "white",
            "showbackground": true,
            "ticks": "",
            "zerolinecolor": "white"
           }
          },
          "shapedefaults": {
           "line": {
            "color": "#2a3f5f"
           }
          },
          "ternary": {
           "aaxis": {
            "gridcolor": "white",
            "linecolor": "white",
            "ticks": ""
           },
           "baxis": {
            "gridcolor": "white",
            "linecolor": "white",
            "ticks": ""
           },
           "bgcolor": "#E5ECF6",
           "caxis": {
            "gridcolor": "white",
            "linecolor": "white",
            "ticks": ""
           }
          },
          "title": {
           "x": 0.05
          },
          "xaxis": {
           "automargin": true,
           "gridcolor": "white",
           "linecolor": "white",
           "ticks": "",
           "title": {
            "standoff": 15
           },
           "zerolinecolor": "white",
           "zerolinewidth": 2
          },
          "yaxis": {
           "automargin": true,
           "gridcolor": "white",
           "linecolor": "white",
           "ticks": "",
           "title": {
            "standoff": 15
           },
           "zerolinecolor": "white",
           "zerolinewidth": 2
          }
         }
        },
        "title": {
         "text": "Popularity Distribution Across Genres"
        },
        "violinmode": "group",
        "xaxis": {
         "anchor": "y",
         "domain": [
          0,
          1
         ],
         "title": {
          "text": "genre"
         }
        },
        "yaxis": {
         "anchor": "x",
         "domain": [
          0,
          1
         ],
         "title": {
          "text": "popularity"
         }
        }
       }
      }
     },
     "metadata": {},
     "output_type": "display_data"
    }
   ],
   "source": [
    "import plotly.express as px\n",
    "\n",
    "plt = px.violin(music_data, \n",
    "                x='genre', \n",
    "                y='popularity', \n",
    "                box = True,# Your code here\n",
    "                title=\"Popularity Distribution Across Genres\")\n",
    "\n",
    "plt.show()"
   ]
  },
  {
   "cell_type": "code",
   "execution_count": 12,
   "metadata": {},
   "outputs": [
    {
     "ename": "TypeError",
     "evalue": "ufunc 'isfinite' not supported for the input types, and the inputs could not be safely coerced to any supported types according to the casting rule ''safe''",
     "output_type": "error",
     "traceback": [
      "\u001b[0;31m---------------------------------------------------------------------------\u001b[0m",
      "\u001b[0;31mTypeError\u001b[0m                                 Traceback (most recent call last)",
      "Cell \u001b[0;32mIn[12], line 1\u001b[0m\n\u001b[0;32m----> 1\u001b[0m \u001b[43mpx\u001b[49m\u001b[38;5;241;43m.\u001b[39;49m\u001b[43mimshow\u001b[49m\u001b[43m(\u001b[49m\u001b[38;5;124;43m'\u001b[39;49m\u001b[38;5;124;43mmt16410237.png\u001b[39;49m\u001b[38;5;124;43m'\u001b[39;49m\u001b[43m,\u001b[49m\u001b[43m \u001b[49m\u001b[43mwidth\u001b[49m\u001b[38;5;241;43m=\u001b[39;49m\u001b[38;5;241;43m800\u001b[39;49m\u001b[43m,\u001b[49m\u001b[43m \u001b[49m\u001b[43mheight\u001b[49m\u001b[38;5;241;43m=\u001b[39;49m\u001b[38;5;241;43m800\u001b[39;49m\u001b[43m)\u001b[49m\n",
      "File \u001b[0;32m~/Documents/code/python/env/lib/python3.13/site-packages/plotly/express/_imshow.py:380\u001b[0m, in \u001b[0;36mimshow\u001b[0;34m(img, zmin, zmax, origin, labels, x, y, animation_frame, facet_col, facet_col_wrap, facet_col_spacing, facet_row_spacing, color_continuous_scale, color_continuous_midpoint, range_color, title, template, width, height, aspect, contrast_rescaling, binary_string, binary_backend, binary_compression_level, binary_format, text_auto)\u001b[0m\n\u001b[1;32m    377\u001b[0m \u001b[38;5;28;01melse\u001b[39;00m:\n\u001b[1;32m    378\u001b[0m     \u001b[38;5;66;03m# For uint8 data and infer we let zmin and zmax to be None if passed as None\u001b[39;00m\n\u001b[1;32m    379\u001b[0m     \u001b[38;5;28;01mif\u001b[39;00m zmax \u001b[38;5;129;01mis\u001b[39;00m \u001b[38;5;28;01mNone\u001b[39;00m \u001b[38;5;129;01mand\u001b[39;00m img\u001b[38;5;241m.\u001b[39mdtype \u001b[38;5;241m!=\u001b[39m np\u001b[38;5;241m.\u001b[39muint8:\n\u001b[0;32m--> 380\u001b[0m         zmax \u001b[38;5;241m=\u001b[39m \u001b[43m_infer_zmax_from_type\u001b[49m\u001b[43m(\u001b[49m\u001b[43mimg\u001b[49m\u001b[43m)\u001b[49m\n\u001b[1;32m    381\u001b[0m     \u001b[38;5;28;01mif\u001b[39;00m zmin \u001b[38;5;129;01mis\u001b[39;00m \u001b[38;5;28;01mNone\u001b[39;00m \u001b[38;5;129;01mand\u001b[39;00m zmax \u001b[38;5;129;01mis\u001b[39;00m \u001b[38;5;129;01mnot\u001b[39;00m \u001b[38;5;28;01mNone\u001b[39;00m:\n\u001b[1;32m    382\u001b[0m         zmin \u001b[38;5;241m=\u001b[39m \u001b[38;5;241m0\u001b[39m\n",
      "File \u001b[0;32m~/Documents/code/python/env/lib/python3.13/site-packages/plotly/express/_imshow.py:45\u001b[0m, in \u001b[0;36m_infer_zmax_from_type\u001b[0;34m(img)\u001b[0m\n\u001b[1;32m     43\u001b[0m     \u001b[38;5;28;01mreturn\u001b[39;00m _integer_ranges[dt][\u001b[38;5;241m1\u001b[39m]\n\u001b[1;32m     44\u001b[0m \u001b[38;5;28;01melse\u001b[39;00m:\n\u001b[0;32m---> 45\u001b[0m     im_max \u001b[38;5;241m=\u001b[39m img[\u001b[43mnp\u001b[49m\u001b[38;5;241;43m.\u001b[39;49m\u001b[43misfinite\u001b[49m\u001b[43m(\u001b[49m\u001b[43mimg\u001b[49m\u001b[43m)\u001b[49m]\u001b[38;5;241m.\u001b[39mmax()\n\u001b[1;32m     46\u001b[0m     \u001b[38;5;28;01mif\u001b[39;00m im_max \u001b[38;5;241m<\u001b[39m\u001b[38;5;241m=\u001b[39m \u001b[38;5;241m1\u001b[39m \u001b[38;5;241m*\u001b[39m rtol:\n\u001b[1;32m     47\u001b[0m         \u001b[38;5;28;01mreturn\u001b[39;00m \u001b[38;5;241m1\u001b[39m\n",
      "\u001b[0;31mTypeError\u001b[0m: ufunc 'isfinite' not supported for the input types, and the inputs could not be safely coerced to any supported types according to the casting rule ''safe''"
     ]
    }
   ],
   "source": [
    "px.imshow('mt16410237.png', width=800, height=800)"
   ]
  },
  {
   "cell_type": "markdown",
   "id": "cb7f565f",
   "metadata": {},
   "source": [
    "You have reached the end of this exercise."
   ]
  }
 ],
 "metadata": {
  "kernelspec": {
   "display_name": "env",
   "language": "python",
   "name": "python3"
  },
  "language_info": {
   "codemirror_mode": {
    "name": "ipython",
    "version": 3
   },
   "file_extension": ".py",
   "mimetype": "text/x-python",
   "name": "python",
   "nbconvert_exporter": "python",
   "pygments_lexer": "ipython3",
   "version": "3.13.1"
  }
 },
 "nbformat": 4,
 "nbformat_minor": 5
}
