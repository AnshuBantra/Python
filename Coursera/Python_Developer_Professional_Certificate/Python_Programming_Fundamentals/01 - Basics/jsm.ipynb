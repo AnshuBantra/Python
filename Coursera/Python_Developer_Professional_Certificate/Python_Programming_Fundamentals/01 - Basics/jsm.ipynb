{
 "cells": [
  {
   "cell_type": "code",
   "execution_count": 1,
   "metadata": {},
   "outputs": [],
   "source": [
    "import pandas as pd"
   ]
  },
  {
   "cell_type": "code",
   "execution_count": 3,
   "metadata": {},
   "outputs": [
    {
     "data": {
      "text/html": [
       "<div>\n",
       "<style scoped>\n",
       "    .dataframe tbody tr th:only-of-type {\n",
       "        vertical-align: middle;\n",
       "    }\n",
       "\n",
       "    .dataframe tbody tr th {\n",
       "        vertical-align: top;\n",
       "    }\n",
       "\n",
       "    .dataframe thead th {\n",
       "        text-align: right;\n",
       "    }\n",
       "</style>\n",
       "<table border=\"1\" class=\"dataframe\">\n",
       "  <thead>\n",
       "    <tr style=\"text-align: right;\">\n",
       "      <th></th>\n",
       "      <th>eval_month</th>\n",
       "      <th>account_email_domain</th>\n",
       "      <th>evaluation_source_detailed</th>\n",
       "      <th>distinct_tenants</th>\n",
       "    </tr>\n",
       "  </thead>\n",
       "  <tbody>\n",
       "    <tr>\n",
       "      <th>0</th>\n",
       "      <td>2024-11-01</td>\n",
       "      <td>gmail.com</td>\n",
       "      <td>Upgrade - From Free</td>\n",
       "      <td>5368</td>\n",
       "    </tr>\n",
       "    <tr>\n",
       "      <th>1</th>\n",
       "      <td>2024-11-01</td>\n",
       "      <td>hotmail.com</td>\n",
       "      <td>Upgrade - From Free</td>\n",
       "      <td>102</td>\n",
       "    </tr>\n",
       "    <tr>\n",
       "      <th>2</th>\n",
       "      <td>2024-11-01</td>\n",
       "      <td>outlook.com</td>\n",
       "      <td>Upgrade - From Free</td>\n",
       "      <td>101</td>\n",
       "    </tr>\n",
       "    <tr>\n",
       "      <th>3</th>\n",
       "      <td>2024-11-01</td>\n",
       "      <td>icloud.com</td>\n",
       "      <td>Upgrade - From Free</td>\n",
       "      <td>30</td>\n",
       "    </tr>\n",
       "    <tr>\n",
       "      <th>4</th>\n",
       "      <td>2024-11-01</td>\n",
       "      <td>yahoo.com</td>\n",
       "      <td>Upgrade - From Free</td>\n",
       "      <td>24</td>\n",
       "    </tr>\n",
       "  </tbody>\n",
       "</table>\n",
       "</div>"
      ],
      "text/plain": [
       "   eval_month account_email_domain evaluation_source_detailed  \\\n",
       "0  2024-11-01            gmail.com        Upgrade - From Free   \n",
       "1  2024-11-01          hotmail.com        Upgrade - From Free   \n",
       "2  2024-11-01          outlook.com        Upgrade - From Free   \n",
       "3  2024-11-01           icloud.com        Upgrade - From Free   \n",
       "4  2024-11-01            yahoo.com        Upgrade - From Free   \n",
       "\n",
       "   distinct_tenants  \n",
       "0              5368  \n",
       "1               102  \n",
       "2               101  \n",
       "3                30  \n",
       "4                24  "
      ]
     },
     "execution_count": 3,
     "metadata": {},
     "output_type": "execute_result"
    }
   ],
   "source": [
    "df = pd.read_csv(r'~/Downloads/free.csv')\n",
    "df.head()"
   ]
  },
  {
   "cell_type": "code",
   "execution_count": 9,
   "metadata": {},
   "outputs": [],
   "source": [
    "df['email'] = df['account_email_domain'].str.extract(r'([a-zA-Z0-9.-]+)\\.com')"
   ]
  },
  {
   "cell_type": "code",
   "execution_count": 10,
   "metadata": {},
   "outputs": [
    {
     "data": {
      "text/html": [
       "<div>\n",
       "<style scoped>\n",
       "    .dataframe tbody tr th:only-of-type {\n",
       "        vertical-align: middle;\n",
       "    }\n",
       "\n",
       "    .dataframe tbody tr th {\n",
       "        vertical-align: top;\n",
       "    }\n",
       "\n",
       "    .dataframe thead th {\n",
       "        text-align: right;\n",
       "    }\n",
       "</style>\n",
       "<table border=\"1\" class=\"dataframe\">\n",
       "  <thead>\n",
       "    <tr style=\"text-align: right;\">\n",
       "      <th></th>\n",
       "      <th>eval_month</th>\n",
       "      <th>account_email_domain</th>\n",
       "      <th>evaluation_source_detailed</th>\n",
       "      <th>distinct_tenants</th>\n",
       "      <th>email</th>\n",
       "    </tr>\n",
       "  </thead>\n",
       "  <tbody>\n",
       "    <tr>\n",
       "      <th>0</th>\n",
       "      <td>2024-11-01</td>\n",
       "      <td>gmail.com</td>\n",
       "      <td>Upgrade - From Free</td>\n",
       "      <td>5368</td>\n",
       "      <td>gmail</td>\n",
       "    </tr>\n",
       "    <tr>\n",
       "      <th>1</th>\n",
       "      <td>2024-11-01</td>\n",
       "      <td>hotmail.com</td>\n",
       "      <td>Upgrade - From Free</td>\n",
       "      <td>102</td>\n",
       "      <td>hotmail</td>\n",
       "    </tr>\n",
       "    <tr>\n",
       "      <th>2</th>\n",
       "      <td>2024-11-01</td>\n",
       "      <td>outlook.com</td>\n",
       "      <td>Upgrade - From Free</td>\n",
       "      <td>101</td>\n",
       "      <td>outlook</td>\n",
       "    </tr>\n",
       "    <tr>\n",
       "      <th>3</th>\n",
       "      <td>2024-11-01</td>\n",
       "      <td>icloud.com</td>\n",
       "      <td>Upgrade - From Free</td>\n",
       "      <td>30</td>\n",
       "      <td>icloud</td>\n",
       "    </tr>\n",
       "    <tr>\n",
       "      <th>4</th>\n",
       "      <td>2024-11-01</td>\n",
       "      <td>yahoo.com</td>\n",
       "      <td>Upgrade - From Free</td>\n",
       "      <td>24</td>\n",
       "      <td>yahoo</td>\n",
       "    </tr>\n",
       "  </tbody>\n",
       "</table>\n",
       "</div>"
      ],
      "text/plain": [
       "   eval_month account_email_domain evaluation_source_detailed  \\\n",
       "0  2024-11-01            gmail.com        Upgrade - From Free   \n",
       "1  2024-11-01          hotmail.com        Upgrade - From Free   \n",
       "2  2024-11-01          outlook.com        Upgrade - From Free   \n",
       "3  2024-11-01           icloud.com        Upgrade - From Free   \n",
       "4  2024-11-01            yahoo.com        Upgrade - From Free   \n",
       "\n",
       "   distinct_tenants    email  \n",
       "0              5368    gmail  \n",
       "1               102  hotmail  \n",
       "2               101  outlook  \n",
       "3                30   icloud  \n",
       "4                24    yahoo  "
      ]
     },
     "execution_count": 10,
     "metadata": {},
     "output_type": "execute_result"
    }
   ],
   "source": [
    "df.head()"
   ]
  },
  {
   "cell_type": "code",
   "execution_count": 40,
   "metadata": {},
   "outputs": [
    {
     "data": {
      "text/html": [
       "<div>\n",
       "<style scoped>\n",
       "    .dataframe tbody tr th:only-of-type {\n",
       "        vertical-align: middle;\n",
       "    }\n",
       "\n",
       "    .dataframe tbody tr th {\n",
       "        vertical-align: top;\n",
       "    }\n",
       "\n",
       "    .dataframe thead th {\n",
       "        text-align: right;\n",
       "    }\n",
       "</style>\n",
       "<table border=\"1\" class=\"dataframe\">\n",
       "  <thead>\n",
       "    <tr style=\"text-align: right;\">\n",
       "      <th></th>\n",
       "      <th>email</th>\n",
       "      <th>eval_month</th>\n",
       "      <th>distinct_tenants</th>\n",
       "    </tr>\n",
       "  </thead>\n",
       "  <tbody>\n",
       "    <tr>\n",
       "      <th>180</th>\n",
       "      <td>gmail</td>\n",
       "      <td>2024-12-01</td>\n",
       "      <td>1879</td>\n",
       "    </tr>\n",
       "    <tr>\n",
       "      <th>321</th>\n",
       "      <td>outlook</td>\n",
       "      <td>2024-12-01</td>\n",
       "      <td>36</td>\n",
       "    </tr>\n",
       "    <tr>\n",
       "      <th>202</th>\n",
       "      <td>hotmail</td>\n",
       "      <td>2024-12-01</td>\n",
       "      <td>19</td>\n",
       "    </tr>\n",
       "    <tr>\n",
       "      <th>481</th>\n",
       "      <td>yahoo</td>\n",
       "      <td>2024-12-01</td>\n",
       "      <td>17</td>\n",
       "    </tr>\n",
       "    <tr>\n",
       "      <th>355</th>\n",
       "      <td>qq</td>\n",
       "      <td>2024-12-01</td>\n",
       "      <td>7</td>\n",
       "    </tr>\n",
       "    <tr>\n",
       "      <th>...</th>\n",
       "      <td>...</td>\n",
       "      <td>...</td>\n",
       "      <td>...</td>\n",
       "    </tr>\n",
       "    <tr>\n",
       "      <th>159</th>\n",
       "      <td>ferroustool</td>\n",
       "      <td>2024-12-01</td>\n",
       "      <td>1</td>\n",
       "    </tr>\n",
       "    <tr>\n",
       "      <th>158</th>\n",
       "      <td>fasttrack-solutions</td>\n",
       "      <td>2024-12-01</td>\n",
       "      <td>1</td>\n",
       "    </tr>\n",
       "    <tr>\n",
       "      <th>157</th>\n",
       "      <td>faber-italy</td>\n",
       "      <td>2024-12-01</td>\n",
       "      <td>1</td>\n",
       "    </tr>\n",
       "    <tr>\n",
       "      <th>156</th>\n",
       "      <td>ext.ingroupe</td>\n",
       "      <td>2024-12-01</td>\n",
       "      <td>1</td>\n",
       "    </tr>\n",
       "    <tr>\n",
       "      <th>486</th>\n",
       "      <td>zoppy</td>\n",
       "      <td>2024-12-01</td>\n",
       "      <td>1</td>\n",
       "    </tr>\n",
       "  </tbody>\n",
       "</table>\n",
       "<p>487 rows × 3 columns</p>\n",
       "</div>"
      ],
      "text/plain": [
       "                   email  eval_month  distinct_tenants\n",
       "180                gmail  2024-12-01              1879\n",
       "321              outlook  2024-12-01                36\n",
       "202              hotmail  2024-12-01                19\n",
       "481                yahoo  2024-12-01                17\n",
       "355                   qq  2024-12-01                 7\n",
       "..                   ...         ...               ...\n",
       "159          ferroustool  2024-12-01                 1\n",
       "158  fasttrack-solutions  2024-12-01                 1\n",
       "157          faber-italy  2024-12-01                 1\n",
       "156         ext.ingroupe  2024-12-01                 1\n",
       "486                zoppy  2024-12-01                 1\n",
       "\n",
       "[487 rows x 3 columns]"
      ]
     },
     "execution_count": 40,
     "metadata": {},
     "output_type": "execute_result"
    }
   ],
   "source": [
    "df[df['eval_month']=='2024-12-01'].groupby(['email', 'eval_month'])\\\n",
    "    .sum(['distinct_tenants'])\\\n",
    "        .reset_index()\\\n",
    "            .sort_values(by='distinct_tenants', ascending=False)"
   ]
  },
  {
   "cell_type": "code",
   "execution_count": 41,
   "metadata": {},
   "outputs": [],
   "source": [
    "import numpy as np\n",
    "df['email_type'] = np.where(df['email'].str.contains(r'gmail|outlook|hotmail|icloud|yahoo|google', na=False), 'generic', 'specific')"
   ]
  },
  {
   "cell_type": "code",
   "execution_count": 42,
   "metadata": {},
   "outputs": [
    {
     "data": {
      "text/html": [
       "<div>\n",
       "<style scoped>\n",
       "    .dataframe tbody tr th:only-of-type {\n",
       "        vertical-align: middle;\n",
       "    }\n",
       "\n",
       "    .dataframe tbody tr th {\n",
       "        vertical-align: top;\n",
       "    }\n",
       "\n",
       "    .dataframe thead th {\n",
       "        text-align: right;\n",
       "    }\n",
       "</style>\n",
       "<table border=\"1\" class=\"dataframe\">\n",
       "  <thead>\n",
       "    <tr style=\"text-align: right;\">\n",
       "      <th></th>\n",
       "      <th></th>\n",
       "      <th>distinct_tenants</th>\n",
       "    </tr>\n",
       "    <tr>\n",
       "      <th>email_type</th>\n",
       "      <th>eval_month</th>\n",
       "      <th></th>\n",
       "    </tr>\n",
       "  </thead>\n",
       "  <tbody>\n",
       "    <tr>\n",
       "      <th rowspan=\"2\" valign=\"top\">generic</th>\n",
       "      <th>2024-11-01</th>\n",
       "      <td>5635</td>\n",
       "    </tr>\n",
       "    <tr>\n",
       "      <th>2024-12-01</th>\n",
       "      <td>1959</td>\n",
       "    </tr>\n",
       "    <tr>\n",
       "      <th rowspan=\"2\" valign=\"top\">specific</th>\n",
       "      <th>2024-11-01</th>\n",
       "      <td>2285</td>\n",
       "    </tr>\n",
       "    <tr>\n",
       "      <th>2024-12-01</th>\n",
       "      <td>946</td>\n",
       "    </tr>\n",
       "  </tbody>\n",
       "</table>\n",
       "</div>"
      ],
      "text/plain": [
       "                       distinct_tenants\n",
       "email_type eval_month                  \n",
       "generic    2024-11-01              5635\n",
       "           2024-12-01              1959\n",
       "specific   2024-11-01              2285\n",
       "           2024-12-01               946"
      ]
     },
     "execution_count": 42,
     "metadata": {},
     "output_type": "execute_result"
    }
   ],
   "source": [
    "df.groupby(['email_type', 'eval_month'])\\\n",
    "    .sum(['distinct_tenants'])"
   ]
  },
  {
   "cell_type": "code",
   "execution_count": 43,
   "metadata": {},
   "outputs": [
    {
     "name": "stderr",
     "output_type": "stream",
     "text": [
      "Matplotlib is building the font cache; this may take a moment.\n"
     ]
    }
   ],
   "source": [
    "import matplotlib.pyplot as plt"
   ]
  },
  {
   "cell_type": "code",
   "execution_count": 44,
   "metadata": {},
   "outputs": [
    {
     "data": {
      "text/plain": [
       "<Axes: xlabel='email_type,eval_month'>"
      ]
     },
     "execution_count": 44,
     "metadata": {},
     "output_type": "execute_result"
    },
    {
     "data": {
      "image/png": "[encoded data removed]",
      "text/plain": [
       "<Figure size 640x480 with 1 Axes>"
      ]
     },
     "metadata": {},
     "output_type": "display_data"
    }
   ],
   "source": [
    "df.groupby(['email_type', 'eval_month'])\\\n",
    "    .sum(['distinct_tenants']).plot(kind='bar')"
   ]
  },
  {
   "cell_type": "code",
   "execution_count": 2,
   "metadata": {},
   "outputs": [
    {
     "name": "stdout",
     "output_type": "stream",
     "text": [
      "Hello World\n",
      "1\n"
     ]
    }
   ],
   "source": [
    "def test_scope():\n",
    "    print = 1\n",
    "    return print\n",
    "\n",
    "print('Hello World')\n",
    "print(test_scope())"
   ]
  },
  {
   "cell_type": "code",
   "execution_count": 6,
   "metadata": {},
   "outputs": [
    {
     "data": {
      "text/plain": [
       "14"
      ]
     },
     "execution_count": 6,
     "metadata": {},
     "output_type": "execute_result"
    }
   ],
   "source": [
    "def calculate_circle_diameter(radius: int):\n",
    "    \"\"\"\n",
    "    Calculates the Diameter of a Circle.\n",
    "\n",
    "    Args:\n",
    "        radius: Radius of a Circle (int).\n",
    "\n",
    "    Returns:\n",
    "        Diameter of a Circle (int).\n",
    "\n",
    "    Raises:\n",
    "        ValueError: If any of the inputs are negative.\n",
    "        TypeError: If the input is not an integer.\n",
    "\n",
    "    Example:\n",
    "        >>> calculate_cirlce_diameter(7)\n",
    "        14.0\n",
    "    \"\"\"\n",
    "    try:\n",
    "        if radius < 0:\n",
    "            raise ValueError('Radius must be a positive integer.')\n",
    "        return 2 * radius\n",
    "    except TypeError:\n",
    "        raise TypeError('Radius must be an integer.')\n",
    "\n",
    "calculate_circle_diameter(7)"
   ]
  },
  {
   "cell_type": "code",
   "execution_count": 7,
   "metadata": {},
   "outputs": [
    {
     "ename": "ValueError",
     "evalue": "Radius must be a positive integer.",
     "output_type": "error",
     "traceback": [
      "\u001b[0;31m---------------------------------------------------------------------------\u001b[0m",
      "\u001b[0;31mValueError\u001b[0m                                Traceback (most recent call last)",
      "Cell \u001b[0;32mIn[7], line 1\u001b[0m\n\u001b[0;32m----> 1\u001b[0m \u001b[43mcalculate_circle_diameter\u001b[49m\u001b[43m(\u001b[49m\u001b[38;5;241;43m-\u001b[39;49m\u001b[38;5;241;43m7\u001b[39;49m\u001b[43m)\u001b[49m\n",
      "Cell \u001b[0;32mIn[6], line 21\u001b[0m, in \u001b[0;36mcalculate_circle_diameter\u001b[0;34m(radius)\u001b[0m\n\u001b[1;32m     19\u001b[0m \u001b[38;5;28;01mtry\u001b[39;00m:\n\u001b[1;32m     20\u001b[0m     \u001b[38;5;28;01mif\u001b[39;00m radius \u001b[38;5;241m<\u001b[39m \u001b[38;5;241m0\u001b[39m:\n\u001b[0;32m---> 21\u001b[0m         \u001b[38;5;28;01mraise\u001b[39;00m \u001b[38;5;167;01mValueError\u001b[39;00m(\u001b[38;5;124m'\u001b[39m\u001b[38;5;124mRadius must be a positive integer.\u001b[39m\u001b[38;5;124m'\u001b[39m)\n\u001b[1;32m     22\u001b[0m     \u001b[38;5;28;01mreturn\u001b[39;00m \u001b[38;5;241m2\u001b[39m \u001b[38;5;241m*\u001b[39m radius\n\u001b[1;32m     23\u001b[0m \u001b[38;5;28;01mexcept\u001b[39;00m \u001b[38;5;167;01mTypeError\u001b[39;00m:\n",
      "\u001b[0;31mValueError\u001b[0m: Radius must be a positive integer."
     ]
    }
   ],
   "source": [
    "calculate_circle_diameter(-7)"
   ]
  },
  {
   "cell_type": "code",
   "execution_count": 8,
   "metadata": {},
   "outputs": [
    {
     "ename": "TypeError",
     "evalue": "Radius must be an integer.",
     "output_type": "error",
     "traceback": [
      "\u001b[0;31m---------------------------------------------------------------------------\u001b[0m",
      "\u001b[0;31mTypeError\u001b[0m                                 Traceback (most recent call last)",
      "Cell \u001b[0;32mIn[6], line 20\u001b[0m, in \u001b[0;36mcalculate_circle_diameter\u001b[0;34m(radius)\u001b[0m\n\u001b[1;32m     19\u001b[0m \u001b[38;5;28;01mtry\u001b[39;00m:\n\u001b[0;32m---> 20\u001b[0m     \u001b[38;5;28;01mif\u001b[39;00m \u001b[43mradius\u001b[49m\u001b[43m \u001b[49m\u001b[38;5;241;43m<\u001b[39;49m\u001b[43m \u001b[49m\u001b[38;5;241;43m0\u001b[39;49m:\n\u001b[1;32m     21\u001b[0m         \u001b[38;5;28;01mraise\u001b[39;00m \u001b[38;5;167;01mValueError\u001b[39;00m(\u001b[38;5;124m'\u001b[39m\u001b[38;5;124mRadius must be a positive integer.\u001b[39m\u001b[38;5;124m'\u001b[39m)\n",
      "\u001b[0;31mTypeError\u001b[0m: '<' not supported between instances of 'str' and 'int'",
      "\nDuring handling of the above exception, another exception occurred:\n",
      "\u001b[0;31mTypeError\u001b[0m                                 Traceback (most recent call last)",
      "Cell \u001b[0;32mIn[8], line 1\u001b[0m\n\u001b[0;32m----> 1\u001b[0m \u001b[43mcalculate_circle_diameter\u001b[49m\u001b[43m(\u001b[49m\u001b[38;5;124;43m'\u001b[39;49m\u001b[38;5;124;43m7\u001b[39;49m\u001b[38;5;124;43m'\u001b[39;49m\u001b[43m)\u001b[49m\n",
      "Cell \u001b[0;32mIn[6], line 24\u001b[0m, in \u001b[0;36mcalculate_circle_diameter\u001b[0;34m(radius)\u001b[0m\n\u001b[1;32m     22\u001b[0m     \u001b[38;5;28;01mreturn\u001b[39;00m \u001b[38;5;241m2\u001b[39m \u001b[38;5;241m*\u001b[39m radius\n\u001b[1;32m     23\u001b[0m \u001b[38;5;28;01mexcept\u001b[39;00m \u001b[38;5;167;01mTypeError\u001b[39;00m:\n\u001b[0;32m---> 24\u001b[0m     \u001b[38;5;28;01mraise\u001b[39;00m \u001b[38;5;167;01mTypeError\u001b[39;00m(\u001b[38;5;124m'\u001b[39m\u001b[38;5;124mRadius must be an integer.\u001b[39m\u001b[38;5;124m'\u001b[39m)\n",
      "\u001b[0;31mTypeError\u001b[0m: Radius must be an integer."
     ]
    }
   ],
   "source": [
    "calculate_circle_diameter('7')"
   ]
  },
  {
   "cell_type": "markdown",
   "metadata": {},
   "source": [
    "# Custom Classes"
   ]
  },
  {
   "cell_type": "markdown",
   "metadata": {},
   "source": [
    "## Function Decomposing"
   ]
  },
  {
   "cell_type": "code",
   "execution_count": 14,
   "metadata": {},
   "outputs": [
    {
     "name": "stdout",
     "output_type": "stream",
     "text": [
      "25°F is equal to 77.0°C\n",
      "77°C is equal to 25.0°F\n"
     ]
    }
   ],
   "source": [
    "# Add your code here\n",
    "def celsius_to_fahrenheit(celsius):\n",
    "    '''Takes a temperature in Celsius and converts it to Fahrenheit.'''\n",
    "    converted_f = (celsius - 32) * 5/9\n",
    "    return f\"{celsius}°C is equal to {converted_f}°F\"\n",
    "    # return f\"{converted_f}°F\"\n",
    "\n",
    "def fahrenheit_to_celsius(fahrenheit):\n",
    "    '''Takes a temperature in Fahrenheit and converts it to Celsius.'''\n",
    "    converted_c = (fahrenheit * 9/5) + 32\n",
    "    return f\"{fahrenheit}°F is equal to {converted_c}°C\"\n",
    "    # return f\"{converted_c}°C\"\n",
    "\n",
    "def convert_temperature(temperature, unit):\n",
    "    '''Converts a temperature to the desired unit.'''\n",
    "    if unit == 'F':\n",
    "        return celsius_to_fahrenheit(temperature)\n",
    "    elif unit == 'C':\n",
    "        return fahrenheit_to_celsius(temperature)\n",
    "    else:\n",
    "        raise ValueError('Unit must be \"F\" or \"C\".')\n",
    "\n",
    "print(convert_temperature(25, 'C'))\n",
    "print(convert_temperature(77, 'F'))"
   ]
  },
  {
   "cell_type": "code",
   "execution_count": 17,
   "metadata": {},
   "outputs": [],
   "source": [
    "def test_func(num, lst = []):\n",
    "    lst.append(num)\n",
    "    return lst"
   ]
  },
  {
   "cell_type": "code",
   "execution_count": 18,
   "metadata": {},
   "outputs": [
    {
     "data": {
      "text/plain": [
       "[5]"
      ]
     },
     "execution_count": 18,
     "metadata": {},
     "output_type": "execute_result"
    }
   ],
   "source": [
    "test_func(5)"
   ]
  },
  {
   "cell_type": "code",
   "execution_count": 19,
   "metadata": {},
   "outputs": [
    {
     "data": {
      "text/plain": [
       "[5, 10]"
      ]
     },
     "execution_count": 19,
     "metadata": {},
     "output_type": "execute_result"
    }
   ],
   "source": [
    "test_func(10)"
   ]
  },
  {
   "cell_type": "code",
   "execution_count": 20,
   "metadata": {},
   "outputs": [
    {
     "data": {
      "text/plain": [
       "[5, 10, 14]"
      ]
     },
     "execution_count": 20,
     "metadata": {},
     "output_type": "execute_result"
    }
   ],
   "source": [
    "test_func(14)"
   ]
  },
  {
   "cell_type": "code",
   "execution_count": 21,
   "metadata": {},
   "outputs": [],
   "source": [
    "def test_func(num, lst = None):\n",
    "    if lst is None:\n",
    "        lst = []\n",
    "    lst.append(num)\n",
    "    return lst"
   ]
  },
  {
   "cell_type": "code",
   "execution_count": 22,
   "metadata": {},
   "outputs": [
    {
     "data": {
      "text/plain": [
       "[5]"
      ]
     },
     "execution_count": 22,
     "metadata": {},
     "output_type": "execute_result"
    }
   ],
   "source": [
    "test_func(5)"
   ]
  },
  {
   "cell_type": "markdown",
   "metadata": {},
   "source": []
  },
  {
   "cell_type": "code",
   "execution_count": 23,
   "metadata": {},
   "outputs": [
    {
     "data": {
      "text/plain": [
       "[10]"
      ]
     },
     "execution_count": 23,
     "metadata": {},
     "output_type": "execute_result"
    }
   ],
   "source": [
    "test_func(10)"
   ]
  },
  {
   "cell_type": "code",
   "execution_count": 24,
   "metadata": {},
   "outputs": [
    {
     "name": "stdout",
     "output_type": "stream",
     "text": [
      "{'name': 'Alice', 'age': 25, 'occupation': 'Software Engineer', 'interests': ['Coding', 'Hiking']}\n",
      "{'name': 'Bob', 'age': 18, 'occupation': 'Student', 'interests': []}\n",
      "{'name': 'Carol', 'age': 30, 'occupation': 'Student', 'interests': ['Gardening', 'Reading']}\n"
     ]
    }
   ],
   "source": [
    "def create_user_profile(name, age, occupation=\"Student\", interests=None): # Use None as default\n",
    "    \"\"\"\n",
    "    Creates a user profile with optional interests.\n",
    "\n",
    "    Args:\n",
    "        name (str): The user's name (required).\n",
    "        age (int): The user's age (required).\n",
    "        occupation (str, optional): The user's occupation (defaults to \"Student\").\n",
    "        interests (list, optional): A list of the user's interests (defaults to None).\n",
    "    \"\"\"\n",
    "    # if interests is None:  # Initialize if None\n",
    "    #     interests = [] \n",
    "\n",
    "    profile = {\n",
    "        \"name\": name,\n",
    "        \"age\": age,\n",
    "        \"occupation\": occupation,\n",
    "        \"interests\": [] if interests is None else interests\n",
    "    }\n",
    "\n",
    "    return profile\n",
    "\n",
    "# Usage\n",
    "user1 = create_user_profile(\"Alice\", 25, \"Software Engineer\", [\"Coding\", \"Hiking\"])\n",
    "user2 = create_user_profile(\"Bob\", 18)  # Uses default occupation and no interests\n",
    "user3 = create_user_profile(\"Carol\", 30, interests=[\"Gardening\", \"Reading\"])\n",
    "\n",
    "print(user1)\n",
    "print(user2)\n",
    "print(user3)"
   ]
  },
  {
   "cell_type": "code",
   "execution_count": 34,
   "metadata": {},
   "outputs": [
    {
     "data": {
      "text/plain": [
       "'Making a toasted wheat sandwich with turkey and cheddar cheese.'"
      ]
     },
     "execution_count": 34,
     "metadata": {},
     "output_type": "execute_result"
    }
   ],
   "source": [
    "def make_sandwich(bread_type, filling, cheese=None, toasted=None):\n",
    "    \"\"\"\n",
    "    Makes a sandwich with the given bread type, filling, cheese, and toasted status.\n",
    "\n",
    "    Args:\n",
    "        bread_type (str): The type of bread to use.\n",
    "        filling (str): The filling to use.\n",
    "        cheese (str, optional): The type of cheese to add (defaults to None).\n",
    "        toasted (bool, optional): Whether to toast the sandwich (defaults to None).\n",
    "    \"\"\"\n",
    "    toasted = '' if toasted is None else 'toasted '\n",
    "    cheese = '' if cheese is None else ' and '+cheese+' cheese'\n",
    "\n",
    "    sandwich = f\"Making a {toasted}{bread_type} sandwich with {filling}{cheese}.\"\n",
    "    return sandwich\n",
    "\n",
    "make_sandwich(\"wheat\", \"turkey\", \"cheddar\", True)\n"
   ]
  },
  {
   "cell_type": "code",
   "execution_count": 35,
   "metadata": {},
   "outputs": [
    {
     "data": {
      "text/plain": [
       "'Making a rye sandwich with ham.'"
      ]
     },
     "execution_count": 35,
     "metadata": {},
     "output_type": "execute_result"
    }
   ],
   "source": [
    "make_sandwich(\"rye\", \"ham\")"
   ]
  },
  {
   "cell_type": "code",
   "execution_count": 1,
   "metadata": {},
   "outputs": [],
   "source": [
    "import string_utils"
   ]
  },
  {
   "cell_type": "code",
   "execution_count": 2,
   "metadata": {},
   "outputs": [
    {
     "name": "stdout",
     "output_type": "stream",
     "text": [
      "Number of vowels: 12\n"
     ]
    }
   ],
   "source": [
    "sentence = \"This is a test sentence to count vowels.\"\n",
    "vowel_count = string_utils.count_vowels(sentence)\n",
    "print(\"Number of vowels:\", vowel_count) "
   ]
  },
  {
   "cell_type": "code",
   "execution_count": 12,
   "metadata": {},
   "outputs": [],
   "source": [
    "# Add the SKU data provided to the product catalog dictionary\n",
    "product_catalog = {\n",
    "    'SKU123':{\n",
    "        'name': 'Widget A',\n",
    "        'price': 19.99,\n",
    "        'quantity': 50\n",
    "    },\n",
    "\n",
    "    'SKU456':{\n",
    "        'name': 'Gadget B',\n",
    "        'price': 34.95,\n",
    "        'quantity': 25\n",
    "    },\n",
    "\n",
    "    'SKU789':{\n",
    "        'name': 'Gizmo C',\n",
    "        'price': 9.99,\n",
    "        'quantity': 100\n",
    "    }\n",
    "} \n",
    "\n",
    "def get_product_price(sku):\n",
    "    item = product_catalog.get(sku)\n",
    "    return f'The price of {item[\"name\"]} is ${item[\"price\"]}'"
   ]
  },
  {
   "cell_type": "code",
   "execution_count": 13,
   "metadata": {},
   "outputs": [
    {
     "data": {
      "text/plain": [
       "'The price of Gizmo C is $9.99'"
      ]
     },
     "execution_count": 13,
     "metadata": {},
     "output_type": "execute_result"
    }
   ],
   "source": [
    "get_product_price('SKU789')"
   ]
  },
  {
   "cell_type": "code",
   "execution_count": null,
   "metadata": {},
   "outputs": [],
   "source": []
  },
  {
   "cell_type": "code",
   "execution_count": 9,
   "metadata": {},
   "outputs": [
    {
     "data": {
      "text/plain": [
       "{'name': 'Gizmo C', 'price': 9.99, 'quantity': 100}"
      ]
     },
     "execution_count": 9,
     "metadata": {},
     "output_type": "execute_result"
    }
   ],
   "source": [
    "product_catalog.get('SKU789')"
   ]
  },
  {
   "cell_type": "code",
   "execution_count": 18,
   "metadata": {},
   "outputs": [
    {
     "name": "stdout",
     "output_type": "stream",
     "text": [
      "<itertools.batched object at 0x10bbefcc0>\n"
     ]
    }
   ],
   "source": [
    "from itertools import batched\n",
    "\n",
    "numbers: list[int] = [1, 2, 3, 4, 5, 6, 7, 8, 9, 10]\n",
    "my_batch: batched = batched(numbers, n=3)\n",
    "\n",
    "print(my_batch)"
   ]
  },
  {
   "cell_type": "code",
   "execution_count": 19,
   "metadata": {},
   "outputs": [
    {
     "name": "stdout",
     "output_type": "stream",
     "text": [
      "(1, 2, 3)\n"
     ]
    }
   ],
   "source": [
    "print(next(my_batch))"
   ]
  },
  {
   "cell_type": "code",
   "execution_count": 20,
   "metadata": {},
   "outputs": [],
   "source": [
    "from itertools import zip_longest\n",
    "\n",
    "list1: list[int] = [1, 2, 3, 4, 5, 6, 7, 8, 9, 10]\n",
    "list2: list[str] = ['a', 'b', 'c']"
   ]
  },
  {
   "cell_type": "code",
   "execution_count": 25,
   "metadata": {},
   "outputs": [],
   "source": [
    "zipped: zip_longest = zip_longest(list1, list2, fillvalue='-') # not having fillvalue will return None for missing values"
   ]
  },
  {
   "cell_type": "code",
   "execution_count": 26,
   "metadata": {},
   "outputs": [
    {
     "data": {
      "text/plain": [
       "[(1, 'a'),\n",
       " (2, 'b'),\n",
       " (3, 'c'),\n",
       " (4, '-'),\n",
       " (5, '-'),\n",
       " (6, '-'),\n",
       " (7, '-'),\n",
       " (8, '-'),\n",
       " (9, '-'),\n",
       " (10, '-')]"
      ]
     },
     "execution_count": 26,
     "metadata": {},
     "output_type": "execute_result"
    }
   ],
   "source": [
    "list(zipped)"
   ]
  },
  {
   "cell_type": "code",
   "execution_count": 27,
   "metadata": {},
   "outputs": [
    {
     "data": {
      "text/plain": [
       "[(1, 1, 1),\n",
       " (1, 1, 2),\n",
       " (1, 1, 3),\n",
       " (1, 2, 1),\n",
       " (1, 2, 2),\n",
       " (1, 2, 3),\n",
       " (1, 3, 1),\n",
       " (1, 3, 2),\n",
       " (1, 3, 3),\n",
       " (2, 1, 1),\n",
       " (2, 1, 2),\n",
       " (2, 1, 3),\n",
       " (2, 2, 1),\n",
       " (2, 2, 2),\n",
       " (2, 2, 3),\n",
       " (2, 3, 1),\n",
       " (2, 3, 2),\n",
       " (2, 3, 3),\n",
       " (3, 1, 1),\n",
       " (3, 1, 2),\n",
       " (3, 1, 3),\n",
       " (3, 2, 1),\n",
       " (3, 2, 2),\n",
       " (3, 2, 3),\n",
       " (3, 3, 1),\n",
       " (3, 3, 2),\n",
       " (3, 3, 3)]"
      ]
     },
     "execution_count": 27,
     "metadata": {},
     "output_type": "execute_result"
    }
   ],
   "source": [
    "from itertools import product\n",
    "\n",
    "list1: list[int] = [1, 2, 3]\n",
    "\n",
    "[*product(list1, repeat=3)]"
   ]
  },
  {
   "cell_type": "code",
   "execution_count": 28,
   "metadata": {},
   "outputs": [],
   "source": [
    "from itertools import starmap\n",
    "\n",
    "def get_sum(a:int, b:int, c:int):\n",
    "    return sum((a, b, c))\n",
    "\n",
    "data: list[tuple[int, int,int]] = [(1,2,3), [4, 5, 6]]\n",
    "sums: starmap = starmap(get_sum, data)"
   ]
  },
  {
   "cell_type": "code",
   "execution_count": 29,
   "metadata": {},
   "outputs": [
    {
     "data": {
      "text/plain": [
       "[6, 15]"
      ]
     },
     "execution_count": 29,
     "metadata": {},
     "output_type": "execute_result"
    }
   ],
   "source": [
    "[*sums]"
   ]
  },
  {
   "cell_type": "code",
   "execution_count": 30,
   "metadata": {},
   "outputs": [],
   "source": [
    "data: list[tuple[int, int]] = [(2,4), (3, 3), (4,2)]\n",
    "sums: starmap = starmap(pow, data)"
   ]
  },
  {
   "cell_type": "code",
   "execution_count": 31,
   "metadata": {},
   "outputs": [
    {
     "data": {
      "text/plain": [
       "[16, 27, 16]"
      ]
     },
     "execution_count": 31,
     "metadata": {},
     "output_type": "execute_result"
    }
   ],
   "source": [
    "[*sums]"
   ]
  },
  {
   "cell_type": "code",
   "execution_count": 32,
   "metadata": {},
   "outputs": [],
   "source": [
    "from itertools import groupby\n",
    "\n",
    "def count_vowels(word: str) -> int:\n",
    "    vowel_count: int = 0\n",
    "\n",
    "    for letter in word:\n",
    "        if letter in 'aeiouAEIOU':\n",
    "            vowel_count += 1\n",
    "    return vowel_count"
   ]
  },
  {
   "cell_type": "code",
   "execution_count": 33,
   "metadata": {},
   "outputs": [
    {
     "data": {
      "text/plain": [
       "['cat', 'dog', 'red', 'mood', 'hood', 'mate', 'banana']"
      ]
     },
     "execution_count": 33,
     "metadata": {},
     "output_type": "execute_result"
    }
   ],
   "source": [
    "words: list[str] = ['cat', 'dog', 'mood', 'banana', 'red', 'hood', 'mate']\n",
    "sorted_words: list[str] = sorted(words, key=count_vowels)\n",
    "sorted_words"
   ]
  },
  {
   "cell_type": "code",
   "execution_count": 36,
   "metadata": {},
   "outputs": [
    {
     "name": "stdout",
     "output_type": "stream",
     "text": [
      "vowels=1 ==> ['cat', 'dog', 'red']\n",
      "vowels=2 ==> ['mood', 'hood', 'mate']\n",
      "vowels=3 ==> ['banana']\n"
     ]
    }
   ],
   "source": [
    "for vowels, words in groupby(sorted_words, key=count_vowels):\n",
    "    print(f'{vowels=} ==> {[*words]}')"
   ]
  },
  {
   "cell_type": "code",
   "execution_count": null,
   "metadata": {},
   "outputs": [],
   "source": []
  }
 ],
 "metadata": {
  "kernelspec": {
   "display_name": ".venv",
   "language": "python",
   "name": "python3"
  },
  "language_info": {
   "codemirror_mode": {
    "name": "ipython",
    "version": 3
   },
   "file_extension": ".py",
   "mimetype": "text/x-python",
   "name": "python",
   "nbconvert_exporter": "python",
   "pygments_lexer": "ipython3",
   "version": "3.13.1"
  }
 },
 "nbformat": 4,
 "nbformat_minor": 2
}
