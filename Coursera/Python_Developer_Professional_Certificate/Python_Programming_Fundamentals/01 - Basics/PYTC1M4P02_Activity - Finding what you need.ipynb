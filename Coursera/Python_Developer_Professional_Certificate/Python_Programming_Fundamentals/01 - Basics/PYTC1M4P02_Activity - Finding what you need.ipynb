{
 "cells": [
  {
   "cell_type": "markdown",
   "id": "50655c78-1f0a-488e-b83e-b59cc7bd1917",
   "metadata": {},
   "source": [
    "## How to Interact with this Jupyter Notebook\n",
    "\n",
    "In this activity, you will use a Jupyter Notebook, which integrates both text and code. The gray boxes contain executable code, which you will run in order to view its output. The text in between the code provides instructions."
   ]
  },
  {
   "cell_type": "markdown",
   "id": "8c8e60e1-6d49-4001-a4dc-9e093f6c3bf5",
   "metadata": {},
   "source": [
    "## Scenario: Taming the Book Stacks: Sorting and Searching in Python\n",
    "\n",
    "You're managing a growing digital library catalog. As the collection expands, it becomes increasingly challenging to keep the books organized and ensure users can quickly find what they're looking for. Manual sorting and searching would be time-consuming and inefficient.  This is where the power of sorting and searching algorithms comes in. By implementing these techniques, you can create a user-friendly catalog that allows for easy browsing and swift retrieval of any book, no matter how large the library becomes.\n",
    "\n",
    "### Why Sorting and Searching Algorithms Matter:\n",
    "\n",
    "* **Efficient Navigation:** Sorting algorithms arrange book data in a logical order, making it easier for users (or librarians!) to browse and find what they need. Think of it like arranging books alphabetically on a shelf – it saves everyone time and frustration.\n",
    "\n",
    "* **Rapid Retrieval:** Search algorithms enable quick and precise book lookup. Whether you're searching by title, author, or other criteria, these algorithms act like a librarian's expert knowledge, pinpointing the desired book efficiently.\n",
    "\n",
    "* **Scalability:** As libraries grow (and digital collections can grow very large), sorting and searching algorithms become even more crucial. They ensure that the library system remains responsive and user-friendly, even with thousands or millions of books.\n",
    "\n",
    "* **Flexibility:** These algorithms aren't just for libraries. They are fundamental tools for organizing and accessing data in countless applications, from online stores to search engines. Understanding them equips you with valuable skills for working with data in any field.\n",
    "\n",
    "\n",
    "## Activity Summary:\n",
    "\n",
    "In this activity, you will:\n",
    "\n",
    "* **Sort Book Data:** Learn how to sort a list of book dictionaries, creating a well-organized digital catalog.\n",
    "* **Implement Linear Search:** Discover how to systematically search through your book collection, examining each item one by one.\n",
    "* **Implement Binary Search:** Explore a more efficient search method that leverages sorted data to quickly find specific books.\n",
    "* **Compare and Contrast:** Understand the tradeoffs between different search algorithms, empowering you to choose the best approach for various scenarios.\n"
   ]
  },
  {
   "cell_type": "markdown",
   "id": "f9f54f15-4e03-4d6b-9697-6ecc1d7f82b0",
   "metadata": {},
   "source": [
    "Begin by running the cell below, which imports the `pandas` library and loads the csv file named `book_catalog_10.csv`."
   ]
  },
  {
   "cell_type": "code",
   "execution_count": 37,
   "id": "da109ed7-d645-4fde-8b1e-0461a4fbea81",
   "metadata": {},
   "outputs": [
    {
     "name": "stdout",
     "output_type": "stream",
     "text": [
      "(10, 3)\n"
     ]
    },
    {
     "data": {
      "text/html": [
       "<div>\n",
       "<style scoped>\n",
       "    .dataframe tbody tr th:only-of-type {\n",
       "        vertical-align: middle;\n",
       "    }\n",
       "\n",
       "    .dataframe tbody tr th {\n",
       "        vertical-align: top;\n",
       "    }\n",
       "\n",
       "    .dataframe thead th {\n",
       "        text-align: right;\n",
       "    }\n",
       "</style>\n",
       "<table border=\"1\" class=\"dataframe\">\n",
       "  <thead>\n",
       "    <tr style=\"text-align: right;\">\n",
       "      <th></th>\n",
       "      <th>title</th>\n",
       "      <th>author</th>\n",
       "      <th>publication_year</th>\n",
       "    </tr>\n",
       "  </thead>\n",
       "  <tbody>\n",
       "    <tr>\n",
       "      <th>0</th>\n",
       "      <td>1984</td>\n",
       "      <td>George Orwell</td>\n",
       "      <td>1949</td>\n",
       "    </tr>\n",
       "    <tr>\n",
       "      <th>1</th>\n",
       "      <td>Pride and Prejudice</td>\n",
       "      <td>Jane Austen</td>\n",
       "      <td>1813</td>\n",
       "    </tr>\n",
       "    <tr>\n",
       "      <th>2</th>\n",
       "      <td>The Catcher in the Rye</td>\n",
       "      <td>J.D. Salinger</td>\n",
       "      <td>1951</td>\n",
       "    </tr>\n",
       "    <tr>\n",
       "      <th>3</th>\n",
       "      <td>The Great Gatsby</td>\n",
       "      <td>F. Scott Fitzgerald</td>\n",
       "      <td>1925</td>\n",
       "    </tr>\n",
       "    <tr>\n",
       "      <th>4</th>\n",
       "      <td>To Kill a Mockingbird</td>\n",
       "      <td>Harper Lee</td>\n",
       "      <td>1960</td>\n",
       "    </tr>\n",
       "  </tbody>\n",
       "</table>\n",
       "</div>"
      ],
      "text/plain": [
       "                    title               author  publication_year\n",
       "0                    1984        George Orwell              1949\n",
       "1     Pride and Prejudice          Jane Austen              1813\n",
       "2  The Catcher in the Rye        J.D. Salinger              1951\n",
       "3        The Great Gatsby  F. Scott Fitzgerald              1925\n",
       "4   To Kill a Mockingbird           Harper Lee              1960"
      ]
     },
     "execution_count": 37,
     "metadata": {},
     "output_type": "execute_result"
    }
   ],
   "source": [
    "# Import a powerful tool called \"pandas\" that you'll use to work with and organize data easily\n",
    "import pandas as pd\n",
    "\n",
    "# Load the book catalog from the CSV file\n",
    "book_catalog_df = pd.read_csv('book_catalog_10.csv')\n",
    "print(book_catalog_df.shape)\n",
    "book_catalog_df.head()"
   ]
  },
  {
   "cell_type": "markdown",
   "id": "54064899-a8f6-422b-875b-7a9cf4610a2b",
   "metadata": {},
   "source": [
    "Notice that nothing has been output from the cell after you ran it. That's because you didn't print any of the results of the csv, you only loaded it in the cell above as a **DataFrame**.\n",
    "\n",
    "Think of a DataFrame like a super-organized table. It has rows and columns, just like a spreadsheet you might have used before. This structure makes it really easy to view, manage, and analyze your book data.  \n",
    "\n",
    "Run the cell below, which converts the DataFrame `book_catalog_df` above into a **dictionary** and then prints the results. \n",
    "\n",
    "Imagine a dictionary as a collection of labeled boxes. Each box has a label (called a \"key\") and something stored inside (called a \"value\").  In our case, each \"box\" represents a book, and the labels are things like \"title\", \"author\", and \"publication_year\".\n",
    "\n",
    "You're doing this conversion because it will make it easier to work with the book data."
   ]
  },
  {
   "cell_type": "code",
   "execution_count": 38,
   "id": "f74163f7",
   "metadata": {},
   "outputs": [
    {
     "data": {
      "text/plain": [
       "{'title': '1984', 'author': 'George Orwell', 'publication_year': 1949}"
      ]
     },
     "execution_count": 38,
     "metadata": {},
     "output_type": "execute_result"
    }
   ],
   "source": [
    "book_catalog_df.to_dict(orient='records')[0]"
   ]
  },
  {
   "cell_type": "code",
   "execution_count": 39,
   "id": "681e6928-113b-4afa-aaa6-90c9b189efab",
   "metadata": {},
   "outputs": [
    {
     "name": "stdout",
     "output_type": "stream",
     "text": [
      "[{'title': '1984', 'author': 'George Orwell', 'publication_year': 1949}, {'title': 'Pride and Prejudice', 'author': 'Jane Austen', 'publication_year': 1813}, {'title': 'The Catcher in the Rye', 'author': 'J.D. Salinger', 'publication_year': 1951}, {'title': 'The Great Gatsby', 'author': 'F. Scott Fitzgerald', 'publication_year': 1925}, {'title': 'To Kill a Mockingbird', 'author': 'Harper Lee', 'publication_year': 1960}, {'title': 'The Lord of the Rings', 'author': 'J.R.R. Tolkien', 'publication_year': 1954}, {'title': \"Harry Potter and the Philosopher's Stone\", 'author': 'J.K. Rowling', 'publication_year': 1997}, {'title': \"The Hitchhiker's Guide to the Galaxy\", 'author': 'Douglas Adams', 'publication_year': 1979}, {'title': 'The Da Vinci Code', 'author': 'Dan Brown', 'publication_year': 2003}, {'title': 'The Hunger Games', 'author': 'Suzanne Collins', 'publication_year': 2008}]\n"
     ]
    }
   ],
   "source": [
    "# Convert the DataFrame to a list of dictionaries\n",
    "book_catalog = book_catalog_df.to_dict(orient='records')\n",
    "\n",
    "# Print the list of dictionaries\n",
    "print(book_catalog)"
   ]
  },
  {
   "cell_type": "markdown",
   "id": "97b48322-738b-40d5-bddf-4dc1fb40e42e",
   "metadata": {},
   "source": [
    "Great! Now that you've printed the `book_catalog`, you can see that it is organized as a list of dictionaries.  \n",
    "\n",
    "Remember, each dictionary is like a labeled box holding information about one book. Inside each \"box,\" you'll find pairs of labels (called \"keys\") and the information associated with them (called \"values\"). \n",
    "\n",
    "For example, the key \"title\" is paired with the value \"1984\", telling us the name of the book.  \n",
    "\n",
    "Take a quick glance at the output above to see if you can spot any familiar titles or authors within those curly brackets."
   ]
  },
  {
   "cell_type": "markdown",
   "id": "d2551fe2-c79f-4be1-b8db-716504428251",
   "metadata": {},
   "source": [
    "Although you have the `book catalog` printed out, it is a bit jumbled, isn't it?  Imagine trying to find a specific book in a messy library – it would take forever!\n",
    "\n",
    "That's why you need to sort the `book catalog`.  Just like arranging books alphabetically on a shelf, sorting makes it much easier to browse and find what you're looking for. \n",
    "\n",
    "The code in the cell below does exactly that! Before you run it, let's break it down:\n",
    "\n",
    "* **Helper Functions:**  In programming, a helper function is simply a function that assists another function in completing its task.  Think of these like little librarian assistants.  They perform specific tasks to make the main job (sorting the catalog) easier.\n",
    "    * `get_title(book)`:  This helper simply plucks the title out of a book's dictionary, so we can focus on just that when sorting. \n",
    "    * `sort_catalog_by_title(catalog)`: This is the main librarian in charge of sorting.  It uses a special Python trick (`catalog.sort()`) to arrange all the books in alphabetical order by their titles. \n",
    "    \n",
    "* **Putting It All Together:**\n",
    "    * The code calls the `sort_catalog_by_title` function to do the actual sorting. \n",
    "    * Then, the code prints out the nicely organized catalog so you can see the results! \n",
    "\n",
    "**Ready to see it in action? Run the cell below!** "
   ]
  },
  {
   "cell_type": "code",
   "execution_count": 40,
   "id": "53aeb971-dc73-4fd8-8daf-ef54ef61a1e2",
   "metadata": {},
   "outputs": [
    {
     "name": "stdout",
     "output_type": "stream",
     "text": [
      "Title: 1984, Author: George Orwell, Publication Year: 1949\n",
      "Title: Harry Potter and the Philosopher's Stone, Author: J.K. Rowling, Publication Year: 1997\n",
      "Title: Pride and Prejudice, Author: Jane Austen, Publication Year: 1813\n",
      "Title: The Catcher in the Rye, Author: J.D. Salinger, Publication Year: 1951\n",
      "Title: The Da Vinci Code, Author: Dan Brown, Publication Year: 2003\n",
      "Title: The Great Gatsby, Author: F. Scott Fitzgerald, Publication Year: 1925\n",
      "Title: The Hitchhiker's Guide to the Galaxy, Author: Douglas Adams, Publication Year: 1979\n",
      "Title: The Hunger Games, Author: Suzanne Collins, Publication Year: 2008\n",
      "Title: The Lord of the Rings, Author: J.R.R. Tolkien, Publication Year: 1954\n",
      "Title: To Kill a Mockingbird, Author: Harper Lee, Publication Year: 1960\n"
     ]
    }
   ],
   "source": [
    "# Helper function 1: \n",
    "def get_title(book): \n",
    "  \"\"\"Helper function to extract the title from a book dictionary.\"\"\"\n",
    "  return book['title']\n",
    "\n",
    "# Helper function 2: \n",
    "def sort_catalog_by_title(catalog): \n",
    "  \"\"\"Sorts the book catalog alphabetically by title.\"\"\"\n",
    "  catalog.sort(key=get_title)\n",
    "    \n",
    "# Sort the catalog\n",
    "sort_catalog_by_title(book_catalog)\n",
    "\n",
    "# Display the sorted catalog\n",
    "for book in book_catalog:\n",
    "  print(f\"Title: {book['title']}, Author: {book['author']}, Publication Year: {book['publication_year']}\")\n"
   ]
  },
  {
   "cell_type": "markdown",
   "id": "74829919-f551-4020-b9ab-6ec6f77e4124",
   "metadata": {},
   "source": [
    "Look at that! Your book catalog is now sorted alphabetically by title. \n",
    "\n",
    "It's much easier to find a specific book now, isn't it? This is the power of sorting algorithms – bringing order to data so we can navigate it more efficiently. \n",
    "\n",
    "But what if you want to find a book without scanning the entire list? That's where search algorithms come in handy.  They help you pinpoint specific items within a dataset, just like a librarian helps you find a book on the shelf. "
   ]
  },
  {
   "cell_type": "markdown",
   "id": "78d0b2ed-c886-446c-a8b9-4f116f3c2a27",
   "metadata": {},
   "source": [
    "In the next cell, you'll explore one such algorithm called **linear search**.  It's like systematically checking each book on a shelf until we find the one we're looking for. But how does checking each book on a shelf one by one translate into Python code?\n",
    "\n",
    "Let's breakdown the code in the following cell before running it: \n",
    "\n",
    "The `search_books` function below does the following:\n",
    "\n",
    "1. **Takes Input:** It needs two things to work:\n",
    "    * The `catalog`:  This is your sorted list of book dictionaries.\n",
    "    * The `query`:  This is what you're searching for – it could be a book title or an author's name. \n",
    "\n",
    "\n",
    "2. **Sets up a List for Results:** It creates an empty list called `results` to store any books that match our search. \n",
    "\n",
    "3. **Checks Each Book:**  It goes through each `book` in the `catalog`:\n",
    "    * It converts both the `query` and the book's `title` and `author` to lowercase. This makes the search case-insensitive (so \"the great gatsby\" and \"The Great Gatsby\" are considered the same). \n",
    "    * It checks if the `query` is found within the book's `title` OR the book's `author`.\n",
    "    * If there's a match, it adds that `book` to the `results` list. \n",
    "\n",
    "\n",
    "4. **Returns the Results:**  Finally, it gives you back the `results` list, which contains all the books that matched our search (or an empty list if nothing was found).\n",
    "\n",
    "**In simpler terms, it's like going through each book on the shelf, checking if it's the one you want, and putting it aside if it is.**\n",
    "\n",
    "**Ready to see it in action? Run the cell below!** "
   ]
  },
  {
   "cell_type": "code",
   "execution_count": 41,
   "id": "014dbebd-5eeb-4ac1-be94-d8755982f3c1",
   "metadata": {},
   "outputs": [],
   "source": [
    "# Helper function: Linear Search\n",
    "def search_books(catalog, query):\n",
    "  \"\"\"Searches for books by title or author using linear search.\"\"\"\n",
    "  results = []\n",
    "  for book in catalog:\n",
    "    if query.lower() in book['title'].lower() or query.lower() in book['author'].lower():\n",
    "      results.append(book)\n",
    "  return results"
   ]
  },
  {
   "cell_type": "markdown",
   "id": "82a4b70f-5993-47b7-bedf-773c019b8681",
   "metadata": {},
   "source": [
    "Now that you have your `search_books` function ready, put it to the test!\n",
    "\n",
    "In the code cell below:\n",
    "\n",
    "1. **Fill in the Query:**  Replace the empty quotes (`\"\"`) in the `query` variable with the title **\"The Great Gatsby\"**.  This is the book you'll try to find in your catalog.\n",
    "\n",
    "2. **Run the Code:**  Execute the cell to see if your linear search can locate the book. \n",
    "\n",
    "If everything works correctly, you should see the details of \"The Great Gatsby\" printed out! "
   ]
  },
  {
   "cell_type": "code",
   "execution_count": 42,
   "id": "5891cdd6-1e66-4614-aca3-a42bf7dd2062",
   "metadata": {},
   "outputs": [
    {
     "name": "stdout",
     "output_type": "stream",
     "text": [
      "\n",
      "Search results:\n",
      "Title: The Great Gatsby, Author: F. Scott Fitzgerald, Publication Year: 1925\n"
     ]
    }
   ],
   "source": [
    "# Search for \"The Great Gatsby\" \n",
    "query = \"The Great Gatsby\"  \n",
    "search_results = search_books(book_catalog, query)\n",
    "\n",
    "if search_results:\n",
    "  print(\"\\nSearch results:\")\n",
    "  for book in search_results:\n",
    "    print(f\"Title: {book['title']}, Author: {book['author']}, Publication Year: {book['publication_year']}\")\n",
    "else:\n",
    "  print(\"No books found matching your query.\")"
   ]
  },
  {
   "cell_type": "markdown",
   "id": "06640797-7f81-4a86-8d4f-6805cd832747",
   "metadata": {},
   "source": [
    "Great! Now try searching for \"Dune\" in the query and run the cell.\n",
    "\n",
    "Notice the output."
   ]
  },
  {
   "cell_type": "code",
   "execution_count": 43,
   "id": "d84d62c1-08a2-4156-9e9e-0d7c06756910",
   "metadata": {},
   "outputs": [
    {
     "name": "stdout",
     "output_type": "stream",
     "text": [
      "\n",
      "Search results:\n",
      "Title: Harry Potter and the Philosopher's Stone, Author: J.K. Rowling, Publication Year: 1997\n",
      "Title: The Catcher in the Rye, Author: J.D. Salinger, Publication Year: 1951\n",
      "Title: The Lord of the Rings, Author: J.R.R. Tolkien, Publication Year: 1954\n"
     ]
    }
   ],
   "source": [
    "# Search for \"Dune\" \n",
    "query = \"J.\"\n",
    "search_results = search_books(book_catalog, query)\n",
    "\n",
    "if search_results:\n",
    "  print(\"\\nSearch results:\")\n",
    "  for book in search_results:\n",
    "    print(f\"Title: {book['title']}, Author: {book['author']}, Publication Year: {book['publication_year']}\")\n",
    "else:\n",
    "  print(\"No books found matching your query.\")"
   ]
  },
  {
   "cell_type": "markdown",
   "id": "979340a1-48c7-4877-a715-b1faa7ed86de",
   "metadata": {},
   "source": [
    "Your `search_books` function is working well, but it is also versatile!  It can search for books by *either* title *or* author. \n",
    "\n",
    "Try searching for an author instead of a book.\n",
    "\n",
    "1. **Fill in the Query:**  Replace the empty quotes (`\"\"`) in the `query` variable with the author **\"J.K. Rowling\"**.  This is the author you'll try to find in your catalog.\n",
    "\n",
    "2. **Run the Code:** Execute the cell and observe the results."
   ]
  },
  {
   "cell_type": "code",
   "execution_count": 44,
   "id": "e231c0e5",
   "metadata": {},
   "outputs": [
    {
     "data": {
      "text/plain": [
       "{'title': '1984', 'author': 'George Orwell', 'publication_year': 1949}"
      ]
     },
     "execution_count": 44,
     "metadata": {},
     "output_type": "execute_result"
    }
   ],
   "source": [
    "book_catalog[0]"
   ]
  },
  {
   "cell_type": "code",
   "execution_count": 45,
   "id": "89bcdabd",
   "metadata": {},
   "outputs": [
    {
     "data": {
      "text/plain": [
       "'george orwell'"
      ]
     },
     "execution_count": 45,
     "metadata": {},
     "output_type": "execute_result"
    }
   ],
   "source": [
    "book_catalog[0]['author'].lower()"
   ]
  },
  {
   "cell_type": "code",
   "execution_count": 46,
   "id": "83df19c5-c12e-4f30-afda-69fbdc13ce44",
   "metadata": {},
   "outputs": [
    {
     "name": "stdout",
     "output_type": "stream",
     "text": [
      "\n",
      "Search results:\n",
      "Title: Harry Potter and the Philosopher's Stone, Author: J.K. Rowling, Publication Year: 1997\n"
     ]
    }
   ],
   "source": [
    "# Search for author\n",
    "query = \"J.K. Rowling\" \n",
    "search_results = search_books(book_catalog, query)\n",
    "\n",
    "if search_results:\n",
    "  print(\"\\nSearch results:\")\n",
    "  for book in search_results:\n",
    "    print(f\"Title: {book['title']}, Author: {book['author']}, Publication Year: {book['publication_year']}\")\n",
    "else:\n",
    "  print(\"No books found matching your query.\")"
   ]
  },
  {
   "cell_type": "markdown",
   "id": "8614906b-f695-41a9-8041-5b914130a069",
   "metadata": {},
   "source": [
    "Even though you searched for an author's name, not a book title, you still got a result! Take a moment to review the `search_books` function code above to see why this is the case.\n",
    "\n",
    "Your linear search algorithm is working well, but it can be a bit slow if you have a *huge* library.  Imagine searching for a book in a massive bookstore by checking every single title one by one – that would take a very long time!\n",
    "\n",
    "Luckily, there's a faster way when your catalog is sorted: **binary search**. It's like playing a guessing game where you keep halving the possibilities until you find what you're looking for. But how does this translate into Python code?\n",
    "\n",
    "Let's breakdown the code in the following cell before running it: \n",
    "\n",
    "Here is what the `binary_search_books` function does:\n",
    "\n",
    "1. **Takes Input:**  Just like linear search, it needs the `catalog` and the `query` (the book title we're searching for).\n",
    "\n",
    "2. **Sets Up Boundaries:**  It starts by marking the beginning (`low`) and the end (`high`) of the catalog.\n",
    "\n",
    "3. **The Guessing Game:**\n",
    "   * It calculates the middle point (`mid`) between `low` and `high`.\n",
    "   * It checks if the book at the `mid` point is the one we're looking for.\n",
    "   * If not, it compares the book's title at the `mid` point to our `query`:\n",
    "     * If the `mid` point title is \"less than\" our `query`, we know the book we want must be in the *higher* half of the catalog, so we adjust `low` to `mid + 1`.\n",
    "     * If the `mid` point title is \"greater than\" our `query`, we know the book we want must be in the *lower* half, so we adjust `high` to `mid - 1`.\n",
    "   * It keeps repeating this process, narrowing down the search area by half each time, until it finds the book or determines it's not there.\n",
    "\n",
    "\n",
    "4. **Returns the Result:**  If it finds the book, it returns the entire book dictionary. Otherwise, it returns `None` to indicate the book wasn't found.\n",
    "\n",
    "**Think of it like this:** You're looking for a word in a dictionary. Instead of starting from the beginning, you open it somewhere in the middle. If the word you want comes *after* the words on that page, you flip to the second half of the dictionary. If it comes *before*, you flip to the first half. You keep doing this until you find the exact page!\n",
    "\n",
    "**Ready to see it in action? Run the cell below!** "
   ]
  },
  {
   "cell_type": "code",
   "execution_count": 47,
   "id": "c7879202",
   "metadata": {},
   "outputs": [
    {
     "data": {
      "text/plain": [
       "list"
      ]
     },
     "execution_count": 47,
     "metadata": {},
     "output_type": "execute_result"
    }
   ],
   "source": [
    "type(book_catalog)"
   ]
  },
  {
   "cell_type": "code",
   "execution_count": 48,
   "id": "8cf463db-ba7e-4357-9df6-df43b25d473e",
   "metadata": {},
   "outputs": [],
   "source": [
    "def binary_search_books(catalog, query):\n",
    "  \"\"\"Searches for books by title using binary search (assuming sorted catalog).\"\"\"\n",
    "  low = 0\n",
    "  high = len(catalog) - 1\n",
    "\n",
    "  while low <= high:\n",
    "    mid = (low + high) // 2\n",
    "    if catalog[mid]['title'].lower() == query.lower():\n",
    "      return catalog[mid]\n",
    "    elif catalog[mid]['title'].lower() < query.lower():\n",
    "      low = mid + 1\n",
    "    else:\n",
    "      high = mid - 1\n",
    "\n",
    "  return None  # Book not found"
   ]
  },
  {
   "cell_type": "markdown",
   "id": "e27bceb7-491b-4606-b4bc-53b3acc2325f",
   "metadata": {},
   "source": [
    "In the cells above, you used linear search to find \"The Great Gatsby\", but can you find it even *faster*? \n",
    "\n",
    "Remember, binary search is super speedy when our data is sorted. It works by repeatedly dividing the search area in half, like a high-tech guessing game.\n",
    "\n",
    "The problem is that your `book_catalog_10.csv` dataset is much too small for you to observe the difference between these two search algorithms. In the code cells below, you will find that a much larger `big_book_catalog.csv` dataset has been loaded for you. \n",
    "\n",
    "It has around 271,380 rows!\n",
    "\n",
    "\n",
    "1. **Run the Following Two Cells:**  The cells below each already have the query set to `\"The Great Gatsby\"`. Each cell also has uses the `time` module to measure the execution time of the `search_books` and `binary_search_books` functions by recording timestamps before and after the search and then calculating the difference.\n",
    "\n",
    "2. **Observe the Output of Each Cell:** Which one was faster?"
   ]
  },
  {
   "cell_type": "code",
   "execution_count": 54,
   "id": "96c53eb9-fa20-424f-a322-8219556482e4",
   "metadata": {},
   "outputs": [
    {
     "name": "stdout",
     "output_type": "stream",
     "text": [
      "\n",
      "Search results:\n",
      "Title: The Great Gatsby, Author: F. Scott Fitzgerald, Publication Year: 1925\n",
      "\n",
      "Linear search took 0.00001 seconds.\n"
     ]
    }
   ],
   "source": [
    "# Loads the big_book_catalog which has which has ~271,380 rows!\n",
    "big_book_catalog_df = pd.read_csv('big_book_catalog.csv', low_memory=False)\n",
    "big_book_catalog = book_catalog_df.to_dict(orient='records')\n",
    "\n",
    "# Searches for \"The Great Gatsby\" using Linear Search\n",
    "query = \"The Great Gatsby\"  \n",
    "\n",
    "# This is like using a stopwatch to see how long it takes to find the books. \n",
    "# We start the timer, do the search, then stop the timer and calculate how much time passed.\n",
    "import time\n",
    "start_time = time.time()  # Record start time\n",
    "search_results = search_books(big_book_catalog, query)\n",
    "end_time = time.time()    # Record end time\n",
    "elapsed_time_linear = end_time - start_time\n",
    "\n",
    "# This is like using a stopwatch to see how long it takes to find the books. \n",
    "# We start the timer, do the search, then stop the timer and calculate how much time passed.\n",
    "start_time = time.time()  # Record start time\n",
    "search_results = search_books(big_book_catalog, query)\n",
    "end_time = time.time()    # Record end time\n",
    "elapsed_time_linear = end_time - start_time\n",
    "\n",
    "if search_results:\n",
    "  print(\"\\nSearch results:\")\n",
    "  for book in search_results:\n",
    "    print(f\"Title: {book['title']}, Author: {book['author']}, Publication Year: {book['publication_year']}\")\n",
    "else:\n",
    "  print(\"No books found matching your query.\")\n",
    "\n",
    "print(f\"\\nLinear search took {elapsed_time_linear:.5f} seconds.\")"
   ]
  },
  {
   "cell_type": "code",
   "execution_count": 53,
   "id": "780d6a63-2e0d-40dc-a1b0-8f438e83d1fb",
   "metadata": {},
   "outputs": [
    {
     "name": "stdout",
     "output_type": "stream",
     "text": [
      "\n",
      "Binary Search Result for 'The Great Gatsby':\n",
      "Title: The Great Gatsby, Author: F. Scott Fitzgerald, Publication Year: 1925\n",
      "\n",
      "Binary search took 0.00002 seconds.\n"
     ]
    }
   ],
   "source": [
    "# This is like using a stopwatch to see how long it takes to find the books. \n",
    "# We start the timer, do the search, then stop the timer and calculate how much time passed.\n",
    "import time\n",
    "start_time = time.time()\n",
    "search_result = binary_search_books(book_catalog, query)\n",
    "end_time = time.time()\n",
    "elapsed_time_binary = end_time - start_time\n",
    "\n",
    "# Loads the big_book_catalog which has which has ~271,380 rows!\n",
    "big_book_catalog_df = pd.read_csv('big_book_catalog.csv', low_memory=False)\n",
    "big_book_catalog = book_catalog_df.to_dict(orient='records')\n",
    "\n",
    "# Searches for \"The Great Gatsby\" using Binary Search\n",
    "query = \"The Great Gatsby\"\n",
    "start_time = time.time()\n",
    "search_result = binary_search_books(big_book_catalog, query)\n",
    "end_time = time.time()\n",
    "elapsed_time_binary = end_time - start_time\n",
    "\n",
    "\n",
    "if search_result:\n",
    "  print(\"\\nBinary Search Result for 'The Great Gatsby':\")\n",
    "  print(f\"Title: {search_result['title']}, Author: {search_result['author']}, Publication Year: {search_result['publication_year']}\")\n",
    "else:\n",
    "  print(\"Binary Search: Book not found\")\n",
    "\n",
    "print(f\"\\nBinary search took {elapsed_time_binary:.5f} seconds.\") \n"
   ]
  },
  {
   "cell_type": "markdown",
   "id": "9b78a7a4-152a-45b3-aa6e-463535c0e4d6",
   "metadata": {},
   "source": [
    "### Observing the Search Process\n",
    "\n",
    "While the output for both searches might look the same, the way they got there was quite different! \n",
    "\n",
    "* **Linear Search:**  Think back to how linear search works – it checks each book one by one until it reaches the end of the catalog. Since \"Dune\" isn't there, it had to go through the entire list before giving up. \n",
    "\n",
    "* **Binary Search:**  Binary search, on the other hand, is more strategic. It keeps dividing the catalog in half, eliminating large chunks with each step.  Even though our catalog is small, you might have noticed it didn't have to check every single book to know \"Dune\" wasn't there. \n",
    "\n",
    "With the significantly larger dataset (`big_book_catalog.csv`), you should observe a a bigger difference in search times. The linear search, having to potentially check every single book, will likely take a noticeable amount of time. In contrast, the binary search, with its divide-and-conquer strategy, should be considerably faster. This efficiency gain becomes even more crucial as the size of the catalog grows.\n",
    "\n",
    "* If the catalog had 1,000,000 books, the linear search could potentially take 10 times longer than it did with the current dataset. However, the binary search's time would only increase slightly. It's safe to say that binary search would be dramatically faster in such a scenario, highlighting its superiority for large datasets."
   ]
  },
  {
   "cell_type": "code",
   "execution_count": 57,
   "id": "9a7bc189",
   "metadata": {},
   "outputs": [
    {
     "data": {
      "text/html": [
       "<div>\n",
       "<style scoped>\n",
       "    .dataframe tbody tr th:only-of-type {\n",
       "        vertical-align: middle;\n",
       "    }\n",
       "\n",
       "    .dataframe tbody tr th {\n",
       "        vertical-align: top;\n",
       "    }\n",
       "\n",
       "    .dataframe thead th {\n",
       "        text-align: right;\n",
       "    }\n",
       "</style>\n",
       "<table border=\"1\" class=\"dataframe\">\n",
       "  <thead>\n",
       "    <tr style=\"text-align: right;\">\n",
       "      <th></th>\n",
       "      <th>Data</th>\n",
       "      <th>Value</th>\n",
       "    </tr>\n",
       "  </thead>\n",
       "  <tbody>\n",
       "    <tr>\n",
       "      <th>0</th>\n",
       "      <td>Jan</td>\n",
       "      <td>47</td>\n",
       "    </tr>\n",
       "    <tr>\n",
       "      <th>1</th>\n",
       "      <td>Feb</td>\n",
       "      <td>90</td>\n",
       "    </tr>\n",
       "    <tr>\n",
       "      <th>2</th>\n",
       "      <td>Mar</td>\n",
       "      <td>41</td>\n",
       "    </tr>\n",
       "    <tr>\n",
       "      <th>3</th>\n",
       "      <td>Apr</td>\n",
       "      <td>75</td>\n",
       "    </tr>\n",
       "    <tr>\n",
       "      <th>4</th>\n",
       "      <td>May</td>\n",
       "      <td>92</td>\n",
       "    </tr>\n",
       "    <tr>\n",
       "      <th>5</th>\n",
       "      <td>Jun</td>\n",
       "      <td>81</td>\n",
       "    </tr>\n",
       "    <tr>\n",
       "      <th>6</th>\n",
       "      <td>Jul</td>\n",
       "      <td>51</td>\n",
       "    </tr>\n",
       "    <tr>\n",
       "      <th>7</th>\n",
       "      <td>Aug</td>\n",
       "      <td>23</td>\n",
       "    </tr>\n",
       "    <tr>\n",
       "      <th>8</th>\n",
       "      <td>Sep</td>\n",
       "      <td>34</td>\n",
       "    </tr>\n",
       "    <tr>\n",
       "      <th>9</th>\n",
       "      <td>Oct</td>\n",
       "      <td>71</td>\n",
       "    </tr>\n",
       "    <tr>\n",
       "      <th>10</th>\n",
       "      <td>Nov</td>\n",
       "      <td>72</td>\n",
       "    </tr>\n",
       "    <tr>\n",
       "      <th>11</th>\n",
       "      <td>Dec</td>\n",
       "      <td>59</td>\n",
       "    </tr>\n",
       "  </tbody>\n",
       "</table>\n",
       "</div>"
      ],
      "text/plain": [
       "   Data  Value\n",
       "0   Jan     47\n",
       "1   Feb     90\n",
       "2   Mar     41\n",
       "3   Apr     75\n",
       "4   May     92\n",
       "5   Jun     81\n",
       "6   Jul     51\n",
       "7   Aug     23\n",
       "8   Sep     34\n",
       "9   Oct     71\n",
       "10  Nov     72\n",
       "11  Dec     59"
      ]
     },
     "execution_count": 57,
     "metadata": {},
     "output_type": "execute_result"
    }
   ],
   "source": [
    "import pandas as pd\n",
    "df = pd.DataFrame({\n",
    "    'Data': ['Jan', 'Feb', 'Mar', 'Apr', 'May', 'Jun', 'Jul', 'Aug', 'Sep', 'Oct', 'Nov', 'Dec'],\n",
    "    'Value': [47, 90, 41, 75, 92, 81, 51, 23, 34, 71, 72, 59]\n",
    "})\n",
    "df"
   ]
  },
  {
   "cell_type": "code",
   "execution_count": 65,
   "id": "d14ff310",
   "metadata": {},
   "outputs": [
    {
     "data": {
      "text/plain": [
       "[1, 2, 3, 4, 5, 6, 7, 8, 9, 10, 11, 12]"
      ]
     },
     "execution_count": 65,
     "metadata": {},
     "output_type": "execute_result"
    }
   ],
   "source": [
    "import math\n",
    "[*range(1, len(df)+1)]"
   ]
  },
  {
   "cell_type": "code",
   "execution_count": 68,
   "id": "8e7b4aeb",
   "metadata": {},
   "outputs": [
    {
     "data": {
      "text/html": [
       "<div>\n",
       "<style scoped>\n",
       "    .dataframe tbody tr th:only-of-type {\n",
       "        vertical-align: middle;\n",
       "    }\n",
       "\n",
       "    .dataframe tbody tr th {\n",
       "        vertical-align: top;\n",
       "    }\n",
       "\n",
       "    .dataframe thead th {\n",
       "        text-align: right;\n",
       "    }\n",
       "</style>\n",
       "<table border=\"1\" class=\"dataframe\">\n",
       "  <thead>\n",
       "    <tr style=\"text-align: right;\">\n",
       "      <th></th>\n",
       "      <th>Data</th>\n",
       "      <th>Value</th>\n",
       "      <th>qtr</th>\n",
       "    </tr>\n",
       "  </thead>\n",
       "  <tbody>\n",
       "    <tr>\n",
       "      <th>0</th>\n",
       "      <td>Jan</td>\n",
       "      <td>47</td>\n",
       "      <td>1</td>\n",
       "    </tr>\n",
       "    <tr>\n",
       "      <th>1</th>\n",
       "      <td>Feb</td>\n",
       "      <td>90</td>\n",
       "      <td>1</td>\n",
       "    </tr>\n",
       "    <tr>\n",
       "      <th>2</th>\n",
       "      <td>Mar</td>\n",
       "      <td>41</td>\n",
       "      <td>1</td>\n",
       "    </tr>\n",
       "    <tr>\n",
       "      <th>3</th>\n",
       "      <td>Apr</td>\n",
       "      <td>75</td>\n",
       "      <td>2</td>\n",
       "    </tr>\n",
       "    <tr>\n",
       "      <th>4</th>\n",
       "      <td>May</td>\n",
       "      <td>92</td>\n",
       "      <td>2</td>\n",
       "    </tr>\n",
       "    <tr>\n",
       "      <th>5</th>\n",
       "      <td>Jun</td>\n",
       "      <td>81</td>\n",
       "      <td>2</td>\n",
       "    </tr>\n",
       "    <tr>\n",
       "      <th>6</th>\n",
       "      <td>Jul</td>\n",
       "      <td>51</td>\n",
       "      <td>3</td>\n",
       "    </tr>\n",
       "    <tr>\n",
       "      <th>7</th>\n",
       "      <td>Aug</td>\n",
       "      <td>23</td>\n",
       "      <td>3</td>\n",
       "    </tr>\n",
       "    <tr>\n",
       "      <th>8</th>\n",
       "      <td>Sep</td>\n",
       "      <td>34</td>\n",
       "      <td>3</td>\n",
       "    </tr>\n",
       "    <tr>\n",
       "      <th>9</th>\n",
       "      <td>Oct</td>\n",
       "      <td>71</td>\n",
       "      <td>4</td>\n",
       "    </tr>\n",
       "    <tr>\n",
       "      <th>10</th>\n",
       "      <td>Nov</td>\n",
       "      <td>72</td>\n",
       "      <td>4</td>\n",
       "    </tr>\n",
       "    <tr>\n",
       "      <th>11</th>\n",
       "      <td>Dec</td>\n",
       "      <td>59</td>\n",
       "      <td>4</td>\n",
       "    </tr>\n",
       "  </tbody>\n",
       "</table>\n",
       "</div>"
      ],
      "text/plain": [
       "   Data  Value  qtr\n",
       "0   Jan     47    1\n",
       "1   Feb     90    1\n",
       "2   Mar     41    1\n",
       "3   Apr     75    2\n",
       "4   May     92    2\n",
       "5   Jun     81    2\n",
       "6   Jul     51    3\n",
       "7   Aug     23    3\n",
       "8   Sep     34    3\n",
       "9   Oct     71    4\n",
       "10  Nov     72    4\n",
       "11  Dec     59    4"
      ]
     },
     "execution_count": 68,
     "metadata": {},
     "output_type": "execute_result"
    }
   ],
   "source": [
    "df['qtr'] = [math.ceil(i/3) for i in range(1, len(df)+1)]\n",
    "df"
   ]
  },
  {
   "cell_type": "code",
   "execution_count": 69,
   "id": "ebb71218",
   "metadata": {},
   "outputs": [
    {
     "data": {
      "text/html": [
       "<div>\n",
       "<style scoped>\n",
       "    .dataframe tbody tr th:only-of-type {\n",
       "        vertical-align: middle;\n",
       "    }\n",
       "\n",
       "    .dataframe tbody tr th {\n",
       "        vertical-align: top;\n",
       "    }\n",
       "\n",
       "    .dataframe thead th {\n",
       "        text-align: right;\n",
       "    }\n",
       "</style>\n",
       "<table border=\"1\" class=\"dataframe\">\n",
       "  <thead>\n",
       "    <tr style=\"text-align: right;\">\n",
       "      <th></th>\n",
       "      <th>Data</th>\n",
       "      <th>Value</th>\n",
       "    </tr>\n",
       "    <tr>\n",
       "      <th>qtr</th>\n",
       "      <th></th>\n",
       "      <th></th>\n",
       "    </tr>\n",
       "  </thead>\n",
       "  <tbody>\n",
       "    <tr>\n",
       "      <th>1</th>\n",
       "      <td>JanFebMar</td>\n",
       "      <td>178</td>\n",
       "    </tr>\n",
       "    <tr>\n",
       "      <th>2</th>\n",
       "      <td>AprMayJun</td>\n",
       "      <td>248</td>\n",
       "    </tr>\n",
       "    <tr>\n",
       "      <th>3</th>\n",
       "      <td>JulAugSep</td>\n",
       "      <td>108</td>\n",
       "    </tr>\n",
       "    <tr>\n",
       "      <th>4</th>\n",
       "      <td>OctNovDec</td>\n",
       "      <td>202</td>\n",
       "    </tr>\n",
       "  </tbody>\n",
       "</table>\n",
       "</div>"
      ],
      "text/plain": [
       "          Data  Value\n",
       "qtr                  \n",
       "1    JanFebMar    178\n",
       "2    AprMayJun    248\n",
       "3    JulAugSep    108\n",
       "4    OctNovDec    202"
      ]
     },
     "execution_count": 69,
     "metadata": {},
     "output_type": "execute_result"
    }
   ],
   "source": [
    "df.groupby('qtr').sum()"
   ]
  },
  {
   "cell_type": "code",
   "execution_count": 70,
   "id": "c6b9f12a",
   "metadata": {},
   "outputs": [
    {
     "name": "stdout",
     "output_type": "stream",
     "text": [
      "    value quarter  value_quarterly_total\n",
      "0      10  2023Q1                     60\n",
      "1      20  2023Q1                     60\n",
      "2      30  2023Q1                     60\n",
      "3      40  2023Q2                    150\n",
      "4      50  2023Q2                    150\n",
      "5      60  2023Q2                    150\n",
      "6      70  2023Q3                    240\n",
      "7      80  2023Q3                    240\n",
      "8      90  2023Q3                    240\n",
      "9     100  2023Q4                    330\n",
      "10    110  2023Q4                    330\n",
      "11    120  2023Q4                    330\n"
     ]
    },
    {
     "name": "stderr",
     "output_type": "stream",
     "text": [
      "/var/folders/56/qh58h1053xg7s3gj3196b3yr0000gn/T/ipykernel_94744/3584443101.py:5: FutureWarning: 'M' is deprecated and will be removed in a future version, please use 'ME' instead.\n",
      "  'date': pd.date_range(start='2023-01-01', periods=12, freq='M'),\n",
      "/var/folders/56/qh58h1053xg7s3gj3196b3yr0000gn/T/ipykernel_94744/3584443101.py:12: FutureWarning: 'Q' is deprecated and will be removed in a future version, please use 'QE' instead.\n",
      "  quarterly_totals = df.resample('Q').sum()\n"
     ]
    }
   ],
   "source": [
    "import pandas as pd\n",
    "\n",
    "# Sample DataFrame with DateTime index\n",
    "data = {\n",
    "    'date': pd.date_range(start='2023-01-01', periods=12, freq='M'),\n",
    "    'value': [10, 20, 30, 40, 50, 60, 70, 80, 90, 100, 110, 120]\n",
    "}\n",
    "df = pd.DataFrame(data)\n",
    "df.set_index('date', inplace=True)\n",
    "\n",
    "# Calculate quarterly totals\n",
    "quarterly_totals = df.resample('Q').sum()\n",
    "\n",
    "# Combine original data with quarterly totals\n",
    "df['quarter'] = df.index.to_period('Q')\n",
    "quarterly_totals['quarter'] = quarterly_totals.index.to_period('Q')\n",
    "combined_df = df.merge(quarterly_totals, on='quarter', suffixes=('', '_quarterly_total'))\n",
    "\n",
    "print(combined_df)"
   ]
  },
  {
   "cell_type": "code",
   "execution_count": 74,
   "id": "651f9d1a",
   "metadata": {},
   "outputs": [
    {
     "data": {
      "text/html": [
       "<div>\n",
       "<style scoped>\n",
       "    .dataframe tbody tr th:only-of-type {\n",
       "        vertical-align: middle;\n",
       "    }\n",
       "\n",
       "    .dataframe tbody tr th {\n",
       "        vertical-align: top;\n",
       "    }\n",
       "\n",
       "    .dataframe thead th {\n",
       "        text-align: right;\n",
       "    }\n",
       "</style>\n",
       "<table border=\"1\" class=\"dataframe\">\n",
       "  <thead>\n",
       "    <tr style=\"text-align: right;\">\n",
       "      <th></th>\n",
       "      <th>value</th>\n",
       "    </tr>\n",
       "    <tr>\n",
       "      <th>date</th>\n",
       "      <th></th>\n",
       "    </tr>\n",
       "  </thead>\n",
       "  <tbody>\n",
       "    <tr>\n",
       "      <th>2023-01-31</th>\n",
       "      <td>10</td>\n",
       "    </tr>\n",
       "    <tr>\n",
       "      <th>2023-02-28</th>\n",
       "      <td>20</td>\n",
       "    </tr>\n",
       "    <tr>\n",
       "      <th>2023-03-31</th>\n",
       "      <td>30</td>\n",
       "    </tr>\n",
       "    <tr>\n",
       "      <th>2023-04-30</th>\n",
       "      <td>40</td>\n",
       "    </tr>\n",
       "    <tr>\n",
       "      <th>2023-05-31</th>\n",
       "      <td>50</td>\n",
       "    </tr>\n",
       "    <tr>\n",
       "      <th>2023-06-30</th>\n",
       "      <td>60</td>\n",
       "    </tr>\n",
       "    <tr>\n",
       "      <th>2023-07-31</th>\n",
       "      <td>70</td>\n",
       "    </tr>\n",
       "    <tr>\n",
       "      <th>2023-08-31</th>\n",
       "      <td>80</td>\n",
       "    </tr>\n",
       "    <tr>\n",
       "      <th>2023-09-30</th>\n",
       "      <td>90</td>\n",
       "    </tr>\n",
       "    <tr>\n",
       "      <th>2023-10-31</th>\n",
       "      <td>100</td>\n",
       "    </tr>\n",
       "    <tr>\n",
       "      <th>2023-11-30</th>\n",
       "      <td>110</td>\n",
       "    </tr>\n",
       "    <tr>\n",
       "      <th>2023-12-31</th>\n",
       "      <td>120</td>\n",
       "    </tr>\n",
       "  </tbody>\n",
       "</table>\n",
       "</div>"
      ],
      "text/plain": [
       "            value\n",
       "date             \n",
       "2023-01-31     10\n",
       "2023-02-28     20\n",
       "2023-03-31     30\n",
       "2023-04-30     40\n",
       "2023-05-31     50\n",
       "2023-06-30     60\n",
       "2023-07-31     70\n",
       "2023-08-31     80\n",
       "2023-09-30     90\n",
       "2023-10-31    100\n",
       "2023-11-30    110\n",
       "2023-12-31    120"
      ]
     },
     "execution_count": 74,
     "metadata": {},
     "output_type": "execute_result"
    }
   ],
   "source": [
    "df = pd.DataFrame(data)\n",
    "df.set_index('date', inplace=True)\n",
    "df"
   ]
  },
  {
   "cell_type": "code",
   "execution_count": 75,
   "id": "d056f9a1",
   "metadata": {},
   "outputs": [
    {
     "name": "stderr",
     "output_type": "stream",
     "text": [
      "/var/folders/56/qh58h1053xg7s3gj3196b3yr0000gn/T/ipykernel_94744/3486629628.py:1: FutureWarning: 'Q' is deprecated and will be removed in a future version, please use 'QE' instead.\n",
      "  df.resample('Q').sum()\n"
     ]
    },
    {
     "data": {
      "text/html": [
       "<div>\n",
       "<style scoped>\n",
       "    .dataframe tbody tr th:only-of-type {\n",
       "        vertical-align: middle;\n",
       "    }\n",
       "\n",
       "    .dataframe tbody tr th {\n",
       "        vertical-align: top;\n",
       "    }\n",
       "\n",
       "    .dataframe thead th {\n",
       "        text-align: right;\n",
       "    }\n",
       "</style>\n",
       "<table border=\"1\" class=\"dataframe\">\n",
       "  <thead>\n",
       "    <tr style=\"text-align: right;\">\n",
       "      <th></th>\n",
       "      <th>value</th>\n",
       "    </tr>\n",
       "    <tr>\n",
       "      <th>date</th>\n",
       "      <th></th>\n",
       "    </tr>\n",
       "  </thead>\n",
       "  <tbody>\n",
       "    <tr>\n",
       "      <th>2023-03-31</th>\n",
       "      <td>60</td>\n",
       "    </tr>\n",
       "    <tr>\n",
       "      <th>2023-06-30</th>\n",
       "      <td>150</td>\n",
       "    </tr>\n",
       "    <tr>\n",
       "      <th>2023-09-30</th>\n",
       "      <td>240</td>\n",
       "    </tr>\n",
       "    <tr>\n",
       "      <th>2023-12-31</th>\n",
       "      <td>330</td>\n",
       "    </tr>\n",
       "  </tbody>\n",
       "</table>\n",
       "</div>"
      ],
      "text/plain": [
       "            value\n",
       "date             \n",
       "2023-03-31     60\n",
       "2023-06-30    150\n",
       "2023-09-30    240\n",
       "2023-12-31    330"
      ]
     },
     "execution_count": 75,
     "metadata": {},
     "output_type": "execute_result"
    }
   ],
   "source": [
    "df.resample('Q').sum()"
   ]
  },
  {
   "cell_type": "code",
   "execution_count": 76,
   "id": "c24ab090",
   "metadata": {},
   "outputs": [
    {
     "name": "stdout",
     "output_type": "stream",
     "text": [
      "            value  is_subtotal       date\n",
      "date                                     \n",
      "2023-01-31     10        False        NaT\n",
      "2023-02-28     20        False        NaT\n",
      "2023-03-31     30        False        NaT\n",
      "2023-03-31     60         True 2023-03-31\n",
      "2023-04-30     40        False        NaT\n",
      "2023-05-31     50        False        NaT\n",
      "2023-06-30     60        False        NaT\n",
      "2023-06-30    150         True 2023-06-30\n",
      "2023-07-31     70        False        NaT\n",
      "2023-08-31     80        False        NaT\n",
      "2023-09-30     90        False        NaT\n",
      "2023-09-30    240         True 2023-09-30\n",
      "2023-10-31    100        False        NaT\n",
      "2023-11-30    110        False        NaT\n",
      "2023-12-31    120        False        NaT\n",
      "2023-12-31    330         True 2023-12-31\n"
     ]
    },
    {
     "name": "stderr",
     "output_type": "stream",
     "text": [
      "/var/folders/56/qh58h1053xg7s3gj3196b3yr0000gn/T/ipykernel_94744/3936758139.py:5: FutureWarning: 'M' is deprecated and will be removed in a future version, please use 'ME' instead.\n",
      "  'date': pd.date_range(start='2023-01-01', periods=12, freq='M'),\n",
      "/var/folders/56/qh58h1053xg7s3gj3196b3yr0000gn/T/ipykernel_94744/3936758139.py:12: FutureWarning: 'Q' is deprecated and will be removed in a future version, please use 'QE' instead.\n",
      "  quarterly_totals = df.resample('Q').sum()\n"
     ]
    }
   ],
   "source": [
    "import pandas as pd\n",
    "\n",
    "# Sample DataFrame with DateTime index\n",
    "data = {\n",
    "    'date': pd.date_range(start='2023-01-01', periods=12, freq='M'),\n",
    "    'value': [10, 20, 30, 40, 50, 60, 70, 80, 90, 100, 110, 120]\n",
    "}\n",
    "df = pd.DataFrame(data)\n",
    "df.set_index('date', inplace=True)\n",
    "\n",
    "# Calculate quarterly totals\n",
    "quarterly_totals = df.resample('Q').sum()\n",
    "quarterly_totals['date'] = quarterly_totals.index\n",
    "quarterly_totals['is_subtotal'] = True\n",
    "\n",
    "# Add a column to indicate original data\n",
    "df['is_subtotal'] = False\n",
    "\n",
    "# Combine original data with quarterly totals\n",
    "combined_df = pd.concat([df, quarterly_totals]).sort_index()\n",
    "\n",
    "# Fill missing values in the 'value' column for subtotals\n",
    "combined_df['value'] = combined_df['value'].fillna(0)\n",
    "\n",
    "print(combined_df)"
   ]
  },
  {
   "cell_type": "code",
   "execution_count": 83,
   "id": "dfcc06f3",
   "metadata": {},
   "outputs": [
    {
     "data": {
      "text/html": [
       "<div>\n",
       "<style scoped>\n",
       "    .dataframe tbody tr th:only-of-type {\n",
       "        vertical-align: middle;\n",
       "    }\n",
       "\n",
       "    .dataframe tbody tr th {\n",
       "        vertical-align: top;\n",
       "    }\n",
       "\n",
       "    .dataframe thead th {\n",
       "        text-align: right;\n",
       "    }\n",
       "</style>\n",
       "<table border=\"1\" class=\"dataframe\">\n",
       "  <thead>\n",
       "    <tr style=\"text-align: right;\">\n",
       "      <th></th>\n",
       "      <th>Data</th>\n",
       "      <th>Value</th>\n",
       "    </tr>\n",
       "  </thead>\n",
       "  <tbody>\n",
       "    <tr>\n",
       "      <th>0</th>\n",
       "      <td>Jan</td>\n",
       "      <td>47</td>\n",
       "    </tr>\n",
       "    <tr>\n",
       "      <th>1</th>\n",
       "      <td>Feb</td>\n",
       "      <td>90</td>\n",
       "    </tr>\n",
       "    <tr>\n",
       "      <th>2</th>\n",
       "      <td>Mar</td>\n",
       "      <td>41</td>\n",
       "    </tr>\n",
       "    <tr>\n",
       "      <th>3</th>\n",
       "      <td>Quarter Total</td>\n",
       "      <td>178</td>\n",
       "    </tr>\n",
       "    <tr>\n",
       "      <th>4</th>\n",
       "      <td>Apr</td>\n",
       "      <td>75</td>\n",
       "    </tr>\n",
       "    <tr>\n",
       "      <th>5</th>\n",
       "      <td>May</td>\n",
       "      <td>92</td>\n",
       "    </tr>\n",
       "    <tr>\n",
       "      <th>6</th>\n",
       "      <td>Jun</td>\n",
       "      <td>81</td>\n",
       "    </tr>\n",
       "    <tr>\n",
       "      <th>7</th>\n",
       "      <td>Quarter Total</td>\n",
       "      <td>248</td>\n",
       "    </tr>\n",
       "    <tr>\n",
       "      <th>8</th>\n",
       "      <td>Jul</td>\n",
       "      <td>51</td>\n",
       "    </tr>\n",
       "    <tr>\n",
       "      <th>9</th>\n",
       "      <td>Aug</td>\n",
       "      <td>23</td>\n",
       "    </tr>\n",
       "    <tr>\n",
       "      <th>10</th>\n",
       "      <td>Sep</td>\n",
       "      <td>34</td>\n",
       "    </tr>\n",
       "    <tr>\n",
       "      <th>11</th>\n",
       "      <td>Quarter Total</td>\n",
       "      <td>108</td>\n",
       "    </tr>\n",
       "    <tr>\n",
       "      <th>12</th>\n",
       "      <td>Oct</td>\n",
       "      <td>71</td>\n",
       "    </tr>\n",
       "    <tr>\n",
       "      <th>13</th>\n",
       "      <td>Nov</td>\n",
       "      <td>72</td>\n",
       "    </tr>\n",
       "    <tr>\n",
       "      <th>14</th>\n",
       "      <td>Dec</td>\n",
       "      <td>59</td>\n",
       "    </tr>\n",
       "    <tr>\n",
       "      <th>15</th>\n",
       "      <td>Quarter Total</td>\n",
       "      <td>202</td>\n",
       "    </tr>\n",
       "  </tbody>\n",
       "</table>\n",
       "</div>"
      ],
      "text/plain": [
       "             Data  Value\n",
       "0             Jan     47\n",
       "1             Feb     90\n",
       "2             Mar     41\n",
       "3   Quarter Total    178\n",
       "4             Apr     75\n",
       "5             May     92\n",
       "6             Jun     81\n",
       "7   Quarter Total    248\n",
       "8             Jul     51\n",
       "9             Aug     23\n",
       "10            Sep     34\n",
       "11  Quarter Total    108\n",
       "12            Oct     71\n",
       "13            Nov     72\n",
       "14            Dec     59\n",
       "15  Quarter Total    202"
      ]
     },
     "execution_count": 83,
     "metadata": {},
     "output_type": "execute_result"
    }
   ],
   "source": [
    "import pandas as pd\n",
    "\n",
    "df = pd.DataFrame({\n",
    "    'Data': ['Jan', 'Feb', 'Mar', 'Apr', 'May', 'Jun', 'Jul', 'Aug', 'Sep', 'Oct', 'Nov', 'Dec'],\n",
    "    'Value': [47, 90, 41, 75, 92, 81, 51, 23, 34, 71, 72, 59]\n",
    "})\n",
    "\n",
    "df['Date'] = pd.to_datetime(df['Data'],  format='%b')\n",
    "df.set_index('Date', inplace=True)\n",
    "\n",
    "# # Calculate quarterly totals\n",
    "quarterly_totals = df.resample('QE').sum()\n",
    "\n",
    "# Combine original data with quarterly totals\n",
    "combined_df = pd.concat([df, quarterly_totals]).sort_index()\n",
    "\n",
    "# Add Quarter Total\n",
    "combined_df['Data'] = combined_df['Data'].apply(lambda x: 'Quarter Total' if len(x)> 3 else x )\n",
    "combined_df.reset_index(inplace=True, drop=True)\n",
    "combined_df"
   ]
  },
  {
   "cell_type": "code",
   "execution_count": 103,
   "id": "22287f2a",
   "metadata": {},
   "outputs": [
    {
     "data": {
      "text/plain": [
       "10000"
      ]
     },
     "execution_count": 103,
     "metadata": {},
     "output_type": "execute_result"
    }
   ],
   "source": [
    "import random\n",
    "lst_original = [random.randint(1, 1000) for i in range(10000)]\n",
    "len(lst_original)"
   ]
  },
  {
   "cell_type": "code",
   "execution_count": 104,
   "id": "cf4f693a",
   "metadata": {},
   "outputs": [],
   "source": [
    "def simple_sort(numbers):\n",
    "    sorted_numbers = []\n",
    "    while numbers:\n",
    "        lowest_number = min(numbers)\n",
    "        sorted_numbers.append(lowest_number)\n",
    "        numbers.remove(lowest_number)\n",
    "    return sorted_numbers\n",
    "\n",
    "def quicksort(numbers):\n",
    "    if len(numbers) < 2:\n",
    "        return numbers  # Base case: Already sorted if 0 or 1 element\n",
    "    else:\n",
    "        pivot = numbers[0]  # Choose first number as pivot\n",
    "        less = [i for i in numbers[1:] if i <= pivot]\n",
    "        greater = [i for i in numbers[1:] if i > pivot]\n",
    "        return quicksort(less) + [pivot] + quicksort(greater)"
   ]
  },
  {
   "cell_type": "code",
   "execution_count": 106,
   "id": "5ba794ba",
   "metadata": {},
   "outputs": [
    {
     "name": "stdout",
     "output_type": "stream",
     "text": [
      "Simple Sort took 0.4183380603790283 seconds.\n",
      "Quicksort took 0.008480072021484375 seconds.\n",
      "Python's built-in sort took 0.0006420612335205078 seconds.\n"
     ]
    }
   ],
   "source": [
    "import time\n",
    "lst = lst_original.copy()   \n",
    "start_time = time.time()\n",
    "ss = simple_sort(lst)\n",
    "print(f\"Simple Sort took {time.time() - start_time} seconds.\")\n",
    "\n",
    "lst = lst_original.copy()\n",
    "start_time = time.time()\n",
    "qs = quicksort(lst)\n",
    "print(f\"Quicksort took {time.time() - start_time} seconds.\")\n",
    "\n",
    "lst = lst_original.copy()\n",
    "start_time = time.time()\n",
    "sl = sorted(lst)\n",
    "print(f\"Python's built-in sort took {time.time() - start_time} seconds.\")"
   ]
  },
  {
   "cell_type": "code",
   "execution_count": 107,
   "id": "ee580bd1",
   "metadata": {},
   "outputs": [
    {
     "data": {
      "text/plain": [
       "[717, 89, 106, 830, 879, 959, 461, 494, 433]"
      ]
     },
     "execution_count": 107,
     "metadata": {},
     "output_type": "execute_result"
    }
   ],
   "source": [
    "lst[1:10]"
   ]
  },
  {
   "cell_type": "code",
   "execution_count": 108,
   "id": "f740bbe6",
   "metadata": {},
   "outputs": [
    {
     "data": {
      "text/plain": [
       "[1, 1, 1, 1, 1, 1, 1, 1, 1]"
      ]
     },
     "execution_count": 108,
     "metadata": {},
     "output_type": "execute_result"
    }
   ],
   "source": [
    "ss[1:10]"
   ]
  },
  {
   "cell_type": "code",
   "execution_count": 109,
   "id": "1f410a53",
   "metadata": {},
   "outputs": [
    {
     "data": {
      "text/plain": [
       "[1, 1, 1, 1, 1, 1, 1, 1, 1]"
      ]
     },
     "execution_count": 109,
     "metadata": {},
     "output_type": "execute_result"
    }
   ],
   "source": [
    "qs[1:10]"
   ]
  },
  {
   "cell_type": "code",
   "execution_count": 110,
   "id": "d334b3e8",
   "metadata": {},
   "outputs": [
    {
     "data": {
      "text/plain": [
       "[1, 1, 1, 1, 1, 1, 1, 1, 1]"
      ]
     },
     "execution_count": 110,
     "metadata": {},
     "output_type": "execute_result"
    }
   ],
   "source": [
    "sl[1:10]"
   ]
  },
  {
   "cell_type": "code",
   "execution_count": 111,
   "id": "bcca4a59",
   "metadata": {},
   "outputs": [
    {
     "data": {
      "text/plain": [
       "'hellohellohellohellohello'"
      ]
     },
     "execution_count": 111,
     "metadata": {},
     "output_type": "execute_result"
    }
   ],
   "source": [
    "\"hello\" * 5"
   ]
  },
  {
   "cell_type": "code",
   "execution_count": 112,
   "id": "90c2c6c4",
   "metadata": {},
   "outputs": [
    {
     "ename": "TypeError",
     "evalue": "object of type 'int' has no len()",
     "output_type": "error",
     "traceback": [
      "\u001b[0;31m---------------------------------------------------------------------------\u001b[0m",
      "\u001b[0;31mTypeError\u001b[0m                                 Traceback (most recent call last)",
      "Cell \u001b[0;32mIn[112], line 1\u001b[0m\n\u001b[0;32m----> 1\u001b[0m \u001b[38;5;28;43mlen\u001b[39;49m\u001b[43m(\u001b[49m\u001b[38;5;241;43m7\u001b[39;49m\u001b[43m)\u001b[49m\n",
      "\u001b[0;31mTypeError\u001b[0m: object of type 'int' has no len()"
     ]
    }
   ],
   "source": [
    "len(7)"
   ]
  },
  {
   "cell_type": "code",
   "execution_count": 113,
   "id": "15b304b1",
   "metadata": {},
   "outputs": [
    {
     "name": "stderr",
     "output_type": "stream",
     "text": [
      "ERROR:root:Exception occurred\n",
      "Traceback (most recent call last):\n",
      "  File \"/var/folders/56/qh58h1053xg7s3gj3196b3yr0000gn/T/ipykernel_94744/1235731517.py\", line 3, in <module>\n",
      "    result = 7 / 0\n",
      "             ~~^~~\n",
      "ZeroDivisionError: division by zero\n"
     ]
    }
   ],
   "source": [
    "import logging\n",
    "try:\n",
    "    result = 7 / 0\n",
    "except ZeroDivisionError as e:\n",
    "    logging.error(\"Exception occurred\", exc_info=True)"
   ]
  },
  {
   "cell_type": "code",
   "execution_count": 142,
   "id": "aa22eb33",
   "metadata": {},
   "outputs": [],
   "source": [
    "def get_city_population(populations, city):\n",
    "    try:\n",
    "        return populations[city]\n",
    "    except KeyError:\n",
    "        raise KeyError(f' City {city} not found in the population data.') #f' City {city} not found in the population data.'\n",
    "\n",
    "city_populations = {\"New York\": 8336817, \"Los Angeles\": 3979576, \"Chicago\": 2679044}\n",
    "\n",
    "city_name = \"Tampa\""
   ]
  },
  {
   "cell_type": "code",
   "execution_count": 143,
   "id": "f0b439c7",
   "metadata": {},
   "outputs": [
    {
     "data": {
      "text/plain": [
       "2679044"
      ]
     },
     "execution_count": 143,
     "metadata": {},
     "output_type": "execute_result"
    }
   ],
   "source": [
    "get_city_population(city_populations, 'Chicago')"
   ]
  },
  {
   "cell_type": "code",
   "execution_count": 144,
   "id": "1aa7133b",
   "metadata": {},
   "outputs": [
    {
     "ename": "KeyError",
     "evalue": "' City Tampa not found in the population data.'",
     "output_type": "error",
     "traceback": [
      "\u001b[0;31m---------------------------------------------------------------------------\u001b[0m",
      "\u001b[0;31mKeyError\u001b[0m                                  Traceback (most recent call last)",
      "Cell \u001b[0;32mIn[142], line 3\u001b[0m, in \u001b[0;36mget_city_population\u001b[0;34m(populations, city)\u001b[0m\n\u001b[1;32m      2\u001b[0m \u001b[38;5;28;01mtry\u001b[39;00m:\n\u001b[0;32m----> 3\u001b[0m     \u001b[38;5;28;01mreturn\u001b[39;00m \u001b[43mpopulations\u001b[49m\u001b[43m[\u001b[49m\u001b[43mcity\u001b[49m\u001b[43m]\u001b[49m\n\u001b[1;32m      4\u001b[0m \u001b[38;5;28;01mexcept\u001b[39;00m \u001b[38;5;167;01mKeyError\u001b[39;00m:\n",
      "\u001b[0;31mKeyError\u001b[0m: 'Tampa'",
      "\nDuring handling of the above exception, another exception occurred:\n",
      "\u001b[0;31mKeyError\u001b[0m                                  Traceback (most recent call last)",
      "Cell \u001b[0;32mIn[144], line 1\u001b[0m\n\u001b[0;32m----> 1\u001b[0m \u001b[43mget_city_population\u001b[49m\u001b[43m(\u001b[49m\u001b[43mcity_populations\u001b[49m\u001b[43m,\u001b[49m\u001b[43m \u001b[49m\u001b[43mcity_name\u001b[49m\u001b[43m)\u001b[49m\n",
      "Cell \u001b[0;32mIn[142], line 5\u001b[0m, in \u001b[0;36mget_city_population\u001b[0;34m(populations, city)\u001b[0m\n\u001b[1;32m      3\u001b[0m     \u001b[38;5;28;01mreturn\u001b[39;00m populations[city]\n\u001b[1;32m      4\u001b[0m \u001b[38;5;28;01mexcept\u001b[39;00m \u001b[38;5;167;01mKeyError\u001b[39;00m:\n\u001b[0;32m----> 5\u001b[0m     \u001b[38;5;28;01mraise\u001b[39;00m \u001b[38;5;167;01mKeyError\u001b[39;00m(\u001b[38;5;124mf\u001b[39m\u001b[38;5;124m'\u001b[39m\u001b[38;5;124m City \u001b[39m\u001b[38;5;132;01m{\u001b[39;00mcity\u001b[38;5;132;01m}\u001b[39;00m\u001b[38;5;124m not found in the population data.\u001b[39m\u001b[38;5;124m'\u001b[39m)\n",
      "\u001b[0;31mKeyError\u001b[0m: ' City Tampa not found in the population data.'"
     ]
    }
   ],
   "source": [
    "get_city_population(city_populations, city_name)"
   ]
  },
  {
   "cell_type": "code",
   "execution_count": null,
   "id": "e6ee0a26",
   "metadata": {},
   "outputs": [],
   "source": []
  }
 ],
 "metadata": {
  "kernelspec": {
   "display_name": ".venv",
   "language": "python",
   "name": "python3"
  },
  "language_info": {
   "codemirror_mode": {
    "name": "ipython",
    "version": 3
   },
   "file_extension": ".py",
   "mimetype": "text/x-python",
   "name": "python",
   "nbconvert_exporter": "python",
   "pygments_lexer": "ipython3",
   "version": "3.13.1"
  },
  "toc-autonumbering": false,
  "toc-showcode": false
 },
 "nbformat": 4,
 "nbformat_minor": 5
}
