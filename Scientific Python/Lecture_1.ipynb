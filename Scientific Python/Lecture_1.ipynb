{
  "cells": [
    {
      "cell_type": "markdown",
      "metadata": {
        "id": "3fufqWYLlYiV"
      },
      "source": [
        "# Summary of today:\n",
        "1. Intro to CME 193 ~3min\n",
        "2. Python Foundations\n",
        "* Variable \n",
        "* Operator\n",
        "* Strings \n",
        "* Control Flow \n",
        "* Exception \n",
        "* Functions \n",
        "* Collections"
      ]
    },
    {
      "cell_type": "markdown",
      "metadata": {
        "id": "IB20Lo4pcbHr"
      },
      "source": [
        "# CME 193 - Introduction to Scientific Python\n",
        "\n",
        "\n",
        "## Course Logistics\n",
        "\n",
        "**Instructor:**  Benson Zu(zuyeyang@stanford.edu)\n",
        "\n",
        "**Course website:** [cme193.stanford.edu](http://cme193.stanford.edu).\n",
        "Please check there for any materials related for the course (and let me know if something needs to be updated).\n",
        "\n",
        "**Class:** We will go over the 50 min workshop together with some post-lectue exercises. Those exericise are good chances to try out what you learn, and ask for help if you're stuck.  You aren't required to submit solutions to the exercises, and should focus on exercises you find most interesting if there are multiple options.\n",
        "\n",
        "**Homework:** We'll have 2 homeworks, which should not be difficult or time consuming, but a chance to practice what we cover in class. Feel free to discuss the problems with other students in the class, but the final code you submit should be written by you.\n",
        "\n",
        "**Grading:** This class is offered on a credit/no-credit basis.  Really, you're going to get out of it what you put into it.  My assumption is that you are taking the course because you see it as relevant to your education, and will try to learn material that you see as most important.\n",
        "\n",
        "**Office hours:** \n",
        "12:30pm~1:30 PM on Wednesdays in Huang basement (in front of ICME), 7pm ~ 8pm on Wednesdays Zoom"
      ]
    },
    {
      "cell_type": "markdown",
      "metadata": {
        "id": "CyZW8H_CcbHu"
      },
      "source": [
        "# Overview of Course\n",
        "\n",
        "You can find a list of topics we plan to cover on the [course website](http://web.stanford.edu/class/cme193/syllabus.html).  \n",
        "\n",
        "Here is a tentative list of lectures:\n",
        "1. Python basics\n",
        "1. Python Class & Object\n",
        "1. Linear algebra (NumPy)\n",
        "1. Numerical algorithms (NumPy)\n",
        "1. Scientific computing (SciPy)\n",
        "1. Data science (Pandas)\n",
        "1. Machine learning (scikit-learn)\n",
        "1. Deep learning (PyTorch)\n",
        "\n",
        "The goal of the course is to get you started with using Python for scientific computing.\n",
        "* We **are** going to cover common packages for linear algebra, optimization, and data science\n",
        "* We are **not** going to cover all of the Python language, or all of its applications\n",
        "    * We will cover aspects of the Python language as they are needed for our purposes\n",
        "\n",
        "This course is designed for\n",
        "* People who already know how to program (maybe not in Python)\n",
        "* People who want to use Python for research/coursework in a scientific or engineering discipline for modeling, simulations, or data science\n",
        "\n",
        "You don't need to have an expert background in programming or scientific computing to take this course.  Everyone starts somewhere, and if your interests are aligned with the goals of the course you should be ok."
      ]
    },
    {
      "cell_type": "markdown",
      "metadata": {
        "id": "SSKIUbzqcbHv"
      },
      "source": [
        "# Python"
      ]
    },
    {
      "cell_type": "markdown",
      "metadata": {
        "id": "p9aG5dtscbHw"
      },
      "source": [
        "![xkcd_python](https://imgs.xkcd.com/comics/python.png)\n",
        "(From [xkcd](https://xkcd.com/))"
      ]
    },
    {
      "cell_type": "code",
      "execution_count": null,
      "metadata": {
        "colab": {
          "base_uri": "https://localhost:8080/"
        },
        "id": "UqyHntC_cbHw",
        "outputId": "e8d4d014-8073-4068-baed-e848ecd1263c"
      },
      "outputs": [],
      "source": [
        "print(\"Hello, world!\")"
      ]
    },
    {
      "cell_type": "code",
      "execution_count": null,
      "metadata": {
        "colab": {
          "base_uri": "https://localhost:8080/"
        },
        "id": "3Yeai9_k8qbD",
        "outputId": "bb4f3ca0-0e34-4787-fb56-8911db594e0c"
      },
      "outputs": [],
      "source": [
        "# print value of pi : I am a comment uasing hash mark\n",
        "# The pi (π ) is a constant of the math library in Python that returns the value 3.14...\n",
        "import math\n",
        "print(math.pi)"
      ]
    },
    {
      "cell_type": "code",
      "execution_count": null,
      "metadata": {
        "colab": {
          "base_uri": "https://localhost:8080/"
        },
        "id": "q2RsxQ6-rY6d",
        "outputId": "ea705981-3952-4a4a-a42d-c33d1a8c2ba1"
      },
      "outputs": [],
      "source": [
        "# single and double quotes are interchable\n",
        "'a' == \"a\""
      ]
    },
    {
      "cell_type": "markdown",
      "metadata": {
        "id": "w6Oof-gM7WHO"
      },
      "source": [
        "# Basic Section (Start)"
      ]
    },
    {
      "cell_type": "markdown",
      "metadata": {
        "id": "BdGrklkzcbHx"
      },
      "source": [
        "## Variables\n",
        "\n",
        "One of the main differences in python compared to other languages you might be familiar with is that variables are not declared and are not strongly typed"
      ]
    },
    {
      "cell_type": "code",
      "execution_count": null,
      "metadata": {
        "colab": {
          "base_uri": "https://localhost:8080/"
        },
        "id": "FMBoJLc-cbHy",
        "outputId": "c0826aea-25fe-4425-8e53-6674aeeaddc4"
      },
      "outputs": [],
      "source": [
        "x = 1\n",
        "print(x)"
      ]
    },
    {
      "cell_type": "code",
      "execution_count": null,
      "metadata": {
        "colab": {
          "base_uri": "https://localhost:8080/"
        },
        "id": "EhmHS2f-n0UX",
        "outputId": "c51247f8-d70a-492b-e00e-4ecea39a7658"
      },
      "outputs": [],
      "source": [
        "x = 1\n",
        "print(type(x))"
      ]
    },
    {
      "cell_type": "code",
      "execution_count": null,
      "metadata": {
        "colab": {
          "base_uri": "https://localhost:8080/"
        },
        "id": "y5N9BPNdcbHz",
        "outputId": "7ce50c20-910c-4d4c-b5f7-e447a6c1cc4b"
      },
      "outputs": [],
      "source": [
        "x = 1.0\n",
        "print(x)\n",
        "print(type(x))\n",
        "\n",
        "x = \"string\"\n",
        "print(x)\n",
        "print(type(x))"
      ]
    },
    {
      "cell_type": "code",
      "execution_count": null,
      "metadata": {
        "colab": {
          "base_uri": "https://localhost:8080/"
        },
        "id": "y_VqIYrPV5Ju",
        "outputId": "2e387dc5-b1fd-47e2-ce70-7e465f0d9ab3"
      },
      "outputs": [],
      "source": [
        "1 == 1.0"
      ]
    },
    {
      "cell_type": "code",
      "execution_count": null,
      "metadata": {
        "id": "Ts0tCh80V5U3"
      },
      "outputs": [],
      "source": []
    },
    {
      "cell_type": "code",
      "execution_count": null,
      "metadata": {
        "colab": {
          "base_uri": "https://localhost:8080/"
        },
        "id": "iwNlFABCxusH",
        "outputId": "a54fde3f-eea6-469c-b315-f1a76b559f56"
      },
      "outputs": [],
      "source": [
        "x = 1\n",
        "type(x)"
      ]
    },
    {
      "cell_type": "code",
      "execution_count": null,
      "metadata": {
        "colab": {
          "base_uri": "https://localhost:8080/"
        },
        "id": "82a6LXbQVgHS",
        "outputId": "d1fb162e-4202-43dc-90ba-13a8204fd9ac"
      },
      "outputs": [],
      "source": [
        "not True"
      ]
    },
    {
      "cell_type": "markdown",
      "metadata": {
        "id": "nkYosle9cbH1"
      },
      "source": [
        "## Basic Arithmetic\n",
        "\n",
        "Math Operators:\n",
        "`+ - * / // % **`\n",
        "\n",
        "Boolean expressions:\n",
        "* keywords: `True` and `False` (note capitalization)\n",
        "- False = 0, True = 1\n",
        "    - C1 and C2 = min (C1, C2)\n",
        "    - C1 or C2 = max(C1, C2)\n",
        "* `==` equals: `5 == 5` yields `True`\n",
        "* `!=` does not equal: `5 != 5` yields `False`\n",
        "* `>` greater than: `5 > 4` yields `True`\n",
        "* `>=` greater than or equal: `5 >= 5` yields `True`\n",
        "* Similarly, we have `<` and `<=`.\n",
        "\n",
        "Logical operators:\n",
        "* `and`, `or`, and `not`\n",
        "* `True and False`\n",
        "* `True or False`\n",
        "* `not True`"
      ]
    },
    {
      "cell_type": "code",
      "execution_count": null,
      "metadata": {
        "colab": {
          "base_uri": "https://localhost:8080/"
        },
        "id": "nUWU03T6o82j",
        "outputId": "52920834-2c43-4045-ebce-f046f65ffa02"
      },
      "outputs": [],
      "source": [
        "# Dividing 0 is an error\n",
        "4 / 2"
      ]
    },
    {
      "cell_type": "code",
      "execution_count": null,
      "metadata": {
        "colab": {
          "base_uri": "https://localhost:8080/"
        },
        "id": "AGVUfzrccbH3",
        "outputId": "cab2c316-7404-47b2-a35d-494ac39d142a"
      },
      "outputs": [],
      "source": [
        "#The result of regular division is always a float\n",
        "type(4/2)"
      ]
    },
    {
      "cell_type": "code",
      "execution_count": null,
      "metadata": {
        "colab": {
          "base_uri": "https://localhost:8080/"
        },
        "id": "4cQkg98-cbH3",
        "outputId": "e7c61dd5-00ea-4e71-ece8-6d7dd72d9434"
      },
      "outputs": [],
      "source": [
        "4.0//2 #Floor division"
      ]
    },
    {
      "cell_type": "code",
      "execution_count": null,
      "metadata": {
        "colab": {
          "base_uri": "https://localhost:8080/"
        },
        "id": "S5NLeVRDcbH3",
        "outputId": "6c5e7623-8033-4c00-ef86-fd15f16aafc5"
      },
      "outputs": [],
      "source": [
        "type(5.0//3) #Floor division #=1 remainder 2"
      ]
    },
    {
      "cell_type": "code",
      "execution_count": null,
      "metadata": {
        "colab": {
          "base_uri": "https://localhost:8080/"
        },
        "id": "G-t-fgLXcbH3",
        "outputId": "0eef059e-4a7c-47a8-e4ed-818ee4abac3b"
      },
      "outputs": [],
      "source": [
        "5.0//3 #Floor Division"
      ]
    },
    {
      "cell_type": "code",
      "execution_count": null,
      "metadata": {
        "colab": {
          "base_uri": "https://localhost:8080/"
        },
        "id": "gQXUdO4CcbH4",
        "outputId": "085b8b0a-cf51-483a-ae7f-002ab87b6988"
      },
      "outputs": [],
      "source": [
        "5%3 #Modulus"
      ]
    },
    {
      "cell_type": "code",
      "execution_count": null,
      "metadata": {
        "colab": {
          "base_uri": "https://localhost:8080/"
        },
        "id": "D0XEe3XecbH4",
        "outputId": "944bf616-adcc-4b84-841c-0361b9b0228e"
      },
      "outputs": [],
      "source": [
        "4**3 #Exponentiation"
      ]
    },
    {
      "cell_type": "code",
      "execution_count": null,
      "metadata": {
        "colab": {
          "base_uri": "https://localhost:8080/"
        },
        "id": "agl9SgW80Lo3",
        "outputId": "09366d0b-2b76-4570-a1ee-d98af00f4dac"
      },
      "outputs": [],
      "source": [
        "x = 5.0\n",
        "y = 5\n",
        "\n",
        "x == y"
      ]
    },
    {
      "cell_type": "code",
      "execution_count": null,
      "metadata": {
        "colab": {
          "base_uri": "https://localhost:8080/"
        },
        "id": "J10_TdDUons4",
        "outputId": "7a7b8c3f-9949-4aeb-8c9e-65a9cb3a2fd0"
      },
      "outputs": [],
      "source": [
        "print(type(x), type(y))"
      ]
    },
    {
      "cell_type": "code",
      "execution_count": null,
      "metadata": {
        "colab": {
          "base_uri": "https://localhost:8080/"
        },
        "id": "Wgqp32w8z-ks",
        "outputId": "dd8a656d-456d-45e5-e9cd-956b51a9b351"
      },
      "outputs": [],
      "source": [
        "x = 5.0\n",
        "y = 5\n",
        "print(\"x == y: \" + str(x == y))\n",
        "print(\"x is y: \" + str(x is y))\n",
        "\n",
        "#== checks for equality - if the two variables point at values are equal.\n",
        "#is checks for identity - if the two variables point to the exact same object. "
      ]
    },
    {
      "cell_type": "code",
      "execution_count": null,
      "metadata": {
        "colab": {
          "base_uri": "https://localhost:8080/"
        },
        "id": "5OmbXD0a0lL5",
        "outputId": "b9cec05d-f18c-440f-add2-ebc6d18c26a7"
      },
      "outputs": [],
      "source": [
        "s = \"example\"\n",
        "answer = \"example\"\n",
        "print(\"s == 'example': \" + str(s == answer))\n",
        "print(\"s is 'example': \" + str(s is answer))"
      ]
    },
    {
      "cell_type": "code",
      "execution_count": null,
      "metadata": {
        "colab": {
          "base_uri": "https://localhost:8080/"
        },
        "id": "bA-zIPGZcbH2",
        "outputId": "93b5e6cf-4c70-4ba3-ab11-9d7f96a96d77"
      },
      "outputs": [],
      "source": [
        "True and False # some other language use '&' for 'and', '|' for 'or' : NOT IN PYTHON"
      ]
    },
    {
      "cell_type": "code",
      "execution_count": null,
      "metadata": {
        "colab": {
          "base_uri": "https://localhost:8080/"
        },
        "id": "_NiNaDTa0Gjo",
        "outputId": "fb9cdbc9-facd-4e42-a42e-5c387dc83c4a"
      },
      "outputs": [],
      "source": [
        "not 5 == 5.0 #equivalent to 5 != 5.0"
      ]
    },
    {
      "cell_type": "markdown",
      "metadata": {
        "id": "5NpmPWnlcbH5"
      },
      "source": [
        "## Strings\n",
        "\n",
        "Concatenation: `str1 + str2`\n",
        "\n",
        "Printing: `print(str1)`"
      ]
    },
    {
      "cell_type": "code",
      "execution_count": null,
      "metadata": {
        "colab": {
          "base_uri": "https://localhost:8080/",
          "height": 35
        },
        "id": "eKSQF5MNcbH5",
        "outputId": "cb86bd31-2d1e-44a4-9a7d-6b5f769b9b71"
      },
      "outputs": [],
      "source": [
        "str1 = \"Alice's numbers are 20 and 52, \"\n",
        "str2 = \"and their sum is 72\"\n",
        "str3 = str1 + str2\n",
        "str3"
      ]
    },
    {
      "cell_type": "markdown",
      "metadata": {
        "id": "InSoz24QcbH5"
      },
      "source": [
        "String Formatting:"
      ]
    },
    {
      "cell_type": "code",
      "execution_count": null,
      "metadata": {
        "colab": {
          "base_uri": "https://localhost:8080/",
          "height": 35
        },
        "id": "84Llsw9RcbH6",
        "outputId": "20b6262f-2acd-41ae-ded8-b5237102eb94"
      },
      "outputs": [],
      "source": [
        "# f-string\n",
        "\n",
        "x = 20\n",
        "y = 52\n",
        "name = \"Benson\"\n",
        "\n",
        "#f-string\n",
        "str1 = f\"{name}'s numbers are {x} and {y}, \"\n",
        "str2 = f\"and their sum is {x + y}\"\n",
        "str3 = str1 + str2\n",
        "str3"
      ]
    },
    {
      "cell_type": "markdown",
      "metadata": {
        "id": "he8_hSKW2IWk"
      },
      "source": [
        "(Optional) Old School String Format"
      ]
    },
    {
      "cell_type": "code",
      "execution_count": null,
      "metadata": {
        "colab": {
          "base_uri": "https://localhost:8080/"
        },
        "id": "WG8MA1BAcbH6",
        "outputId": "4870f964-3142-42b9-86af-26b969c89054"
      },
      "outputs": [],
      "source": [
        "str1 = \"a: %s\" % \"string\"\n",
        "print(str1)\n",
        "str2 = \"b: %f, %s, %d\" % (1.0, 'hello', 5)\n",
        "print(str2)\n",
        "str3 = \"c: {}\".format(3.14)\n",
        "print(str3)"
      ]
    },
    {
      "cell_type": "code",
      "execution_count": null,
      "metadata": {
        "colab": {
          "base_uri": "https://localhost:8080/"
        },
        "id": "o2R732-VcbH6",
        "outputId": "45edf7f1-6cb9-4152-d237-7af8dd500d3a"
      },
      "outputs": [],
      "source": [
        "# some methods\n",
        "str1 = \"Hello, World!\"\n",
        "print(str1)\n",
        "print(str1.upper())\n",
        "print(str1.lower())"
      ]
    },
    {
      "cell_type": "code",
      "execution_count": null,
      "metadata": {
        "colab": {
          "base_uri": "https://localhost:8080/",
          "height": 35
        },
        "id": "jl-sTFO4cbH7",
        "outputId": "5743fe88-dabe-4b65-b493-2172b7519428"
      },
      "outputs": [],
      "source": [
        "str1 = str1.lower()\n",
        "str1"
      ]
    },
    {
      "cell_type": "code",
      "execution_count": null,
      "metadata": {
        "id": "Ha8YjsODcbH7"
      },
      "outputs": [],
      "source": [
        "str1.replace?"
      ]
    },
    {
      "cell_type": "code",
      "execution_count": null,
      "metadata": {
        "colab": {
          "base_uri": "https://localhost:8080/",
          "height": 35
        },
        "id": "YMhohStZcbH7",
        "outputId": "da9ae667-bf1b-4349-c6d7-0e2b336118a7"
      },
      "outputs": [],
      "source": [
        "str1.replace('l', 'p')"
      ]
    },
    {
      "cell_type": "markdown",
      "metadata": {
        "id": "BuvH2ODKcbH7"
      },
      "source": [
        "## Control Flow\n",
        "\n",
        "If statements:\n",
        "```python\n",
        "if condition1:\n",
        "  statements1\n",
        "elif condition2:\n",
        "  statements2\n",
        "elif condition3:\n",
        "  statements3\n",
        "else:\n",
        "  statements4\n",
        "```"
      ]
    },
    {
      "cell_type": "code",
      "execution_count": null,
      "metadata": {
        "colab": {
          "base_uri": "https://localhost:8080/"
        },
        "id": "1eYcDMetcbH8",
        "outputId": "55b5f2eb-85a1-42dd-94e8-5d804b53f56e"
      },
      "outputs": [],
      "source": [
        "x = 3\n",
        "y = 2\n",
        "\n",
        "if x == y:\n",
        "    print(\"The value of x is the same as value of y\")\n",
        "elif x == 3:\n",
        "    print(\"I am here\")\n",
        "    print(\"x is 3\")\n",
        "else:\n",
        "    print(\"x is something else\")"
      ]
    },
    {
      "cell_type": "markdown",
      "metadata": {
        "id": "RwNgRLrCcbH8"
      },
      "source": [
        "**For loops**\n"
      ]
    },
    {
      "cell_type": "code",
      "execution_count": null,
      "metadata": {
        "colab": {
          "base_uri": "https://localhost:8080/"
        },
        "id": "YLdLhZR1cbH8",
        "outputId": "5dab3743-377f-4092-d5ff-3c475f65c50e"
      },
      "outputs": [],
      "source": [
        "for i in range(4): # default - start at 0, increment by 1\n",
        "    print(f\"{i}, next loop\")"
      ]
    },
    {
      "cell_type": "code",
      "execution_count": null,
      "metadata": {
        "id": "qLhGzbGg7o09"
      },
      "outputs": [],
      "source": [
        "?range"
      ]
    },
    {
      "cell_type": "code",
      "execution_count": null,
      "metadata": {
        "colab": {
          "base_uri": "https://localhost:8080/"
        },
        "id": "MPyXYfnA9IsX",
        "outputId": "9c613a3e-2bf2-4041-ff7e-f6f6f87d3afd"
      },
      "outputs": [],
      "source": [
        "for i in range(10, 2, -2): # inputs are start, stop, step\n",
        "    print(i)"
      ]
    },
    {
      "cell_type": "markdown",
      "metadata": {
        "id": "NcNxRCDtcbH8"
      },
      "source": [
        "**while loops**"
      ]
    },
    {
      "cell_type": "code",
      "execution_count": null,
      "metadata": {
        "colab": {
          "base_uri": "https://localhost:8080/"
        },
        "id": "IhOWQZpKcbH9",
        "outputId": "61907ab3-f6ec-4516-d342-cfded7b49bcc"
      },
      "outputs": [],
      "source": [
        "# Find all positive integer whose square < 100\n",
        "i = 1\n",
        "while i**2 < 100:\n",
        "    print(i, i**2)\n",
        "    i += 1      #i += 1 is the same as i = i + 1\n",
        "print(\"Finished\")"
      ]
    },
    {
      "cell_type": "markdown",
      "metadata": {
        "id": "e416dtcqcbH9"
      },
      "source": [
        "**continue** - skip the rest of the loop\n",
        "\n",
        "**break** - exit from the loop"
      ]
    },
    {
      "cell_type": "code",
      "execution_count": null,
      "metadata": {
        "colab": {
          "base_uri": "https://localhost:8080/"
        },
        "id": "n0MAplWdcbH9",
        "outputId": "b29292ac-3854-4e2b-fdf2-b4c1fa9a4968"
      },
      "outputs": [],
      "source": [
        "# distinguish even or odd number\n",
        "for num in range(1, 10):\n",
        "    if num % 2 == 0:\n",
        "        print(f'Found {num}, an even number, Continue!')\n",
        "        continue # this jumps us back to the top\n",
        "        print('Test')\n",
        "        \n",
        "    print(f\"Found {num}, an odd number\")\n",
        "\n",
        "print('Finished')"
      ]
    },
    {
      "cell_type": "code",
      "execution_count": null,
      "metadata": {
        "colab": {
          "base_uri": "https://localhost:8080/"
        },
        "id": "_Lie5ddEcbH-",
        "outputId": "2c27f54f-ea95-40fd-ba7d-982f046f549b"
      },
      "outputs": [],
      "source": [
        "for num in range(1, 10):\n",
        "    if num % 2 == 0: # if n divisible by x\n",
        "        print(f'Found {num}, an even number, STOP!')\n",
        "        break\n",
        "    print(f\"Found {num}, an odd number\")\n",
        "print('Finished')"
      ]
    },
    {
      "cell_type": "code",
      "execution_count": null,
      "metadata": {
        "colab": {
          "base_uri": "https://localhost:8080/"
        },
        "id": "nv7ncYB1cbH-",
        "outputId": "0032447c-01bb-4883-eeec-828cf119e4bc"
      },
      "outputs": [],
      "source": [
        "#continue/break statement only continue/breaks its direct parent loop statement\n",
        "for i in range(3):\n",
        "    print(f\"Outer Loop i {i}\") \n",
        "    for j in range(3):\n",
        "      print(f\"\\tj: {j}\") \n",
        "      break\n",
        "      print(\"End of inner loop\")\n",
        "    #jump to here after break"
      ]
    },
    {
      "cell_type": "markdown",
      "metadata": {
        "id": "6jRgPK5NcbH-"
      },
      "source": [
        "**pass** does nothing"
      ]
    },
    {
      "cell_type": "code",
      "execution_count": null,
      "metadata": {
        "colab": {
          "base_uri": "https://localhost:8080/"
        },
        "id": "3iSC4F8icbH-",
        "outputId": "98af5c46-3b7c-4da5-faaa-4103c336ebb4"
      },
      "outputs": [],
      "source": [
        "#The pass statement is used as a placeholder for future code!!\n",
        "for num in range(7):\n",
        "    if num == 5:\n",
        "        #TODO: Add more code for the  case num = 5\n",
        "        pass\n",
        "    print(f'Iteration: {num}')"
      ]
    },
    {
      "cell_type": "markdown",
      "metadata": {
        "id": "CBCnRvUV7d0A"
      },
      "source": [
        "# Basic Section (End)"
      ]
    },
    {
      "cell_type": "markdown",
      "metadata": {
        "id": "AIgpCBxNcbH-"
      },
      "source": [
        "# Exceptions"
      ]
    },
    {
      "cell_type": "code",
      "execution_count": null,
      "metadata": {
        "colab": {
          "base_uri": "https://localhost:8080/",
          "height": 200
        },
        "id": "JnwzmK-fcbH_",
        "outputId": "94e82c85-01b0-4568-a3c5-3a62d76e8bee",
        "scrolled": true
      },
      "outputs": [],
      "source": [
        "print(100 / 0)\n",
        "\n",
        "print(100 / 10)"
      ]
    },
    {
      "cell_type": "code",
      "execution_count": null,
      "metadata": {
        "colab": {
          "base_uri": "https://localhost:8080/",
          "height": 165
        },
        "id": "uWlHvnNeatHx",
        "outputId": "f4204b08-c358-4730-a243-361cd8cb1b6d"
      },
      "outputs": [],
      "source": [
        "benson"
      ]
    },
    {
      "cell_type": "code",
      "execution_count": null,
      "metadata": {
        "colab": {
          "base_uri": "https://localhost:8080/"
        },
        "id": "hS2HnbUicbH_",
        "outputId": "2c9d9801-a827-467a-9c46-11e217b5a6e0"
      },
      "outputs": [],
      "source": [
        "try:\n",
        "    print(100 / name )\n",
        "except ZeroDivisionError:\n",
        "    print(\"Error: don't divided by zero\")\n",
        "except Exception as e:\n",
        "    print(f\"Error: {e}\")\n",
        "\n",
        "print(100/10)"
      ]
    },
    {
      "cell_type": "markdown",
      "metadata": {
        "id": "t9SuUewucbH_"
      },
      "source": [
        "# Functions\n",
        "\n",
        "Functions are declared with the keyword `def`"
      ]
    },
    {
      "cell_type": "code",
      "execution_count": null,
      "metadata": {
        "colab": {
          "base_uri": "https://localhost:8080/"
        },
        "id": "Z_e2gamgcbH_",
        "outputId": "7719355f-e797-4c2a-9e6c-3039af5a5536"
      },
      "outputs": [],
      "source": [
        "# def tells python you're trying to declare a function\n",
        "def triangle_area(base, height):\n",
        "    #here are operations\n",
        "    #part of function\n",
        "    #etc\n",
        "    return 0.5 * base * height\n",
        "\n",
        "triangle_area(-1, 2)"
      ]
    },
    {
      "cell_type": "code",
      "execution_count": null,
      "metadata": {
        "colab": {
          "base_uri": "https://localhost:8080/",
          "height": 321
        },
        "id": "PGZOHcqwcbH_",
        "outputId": "febc2030-fc4d-484d-c441-0e38687c9471"
      },
      "outputs": [],
      "source": [
        "def triangle_area(base, height):\n",
        "    if base < 0 or height < 0:\n",
        "        raise ValueError(\"Base and height must be non-negative\")\n",
        "    return 0.5 * base * height\n",
        "\n",
        "triangle_area(-1, 2)"
      ]
    },
    {
      "cell_type": "code",
      "execution_count": null,
      "metadata": {
        "colab": {
          "base_uri": "https://localhost:8080/"
        },
        "id": "8kU0rC_cwR__",
        "outputId": "1d5d7921-8ba5-4fd1-d4f0-0ab670b9e153"
      },
      "outputs": [],
      "source": [
        "def triangle_area(base, height):\n",
        "    try: \n",
        "      if base < 0 or height < 0:\n",
        "          raise ValueError(\"Base and height must be non-negative\")\n",
        "      return 0.5 * base * height\n",
        "    except ValueError as e_value:\n",
        "      print(f\"Error, {e_value}, Try a different non-negative value\")\n",
        "    except Exception as e:\n",
        "      print(f\"Error, {e}\")\n",
        "\n",
        "triangle_area('-2', 'hello')"
      ]
    },
    {
      "cell_type": "code",
      "execution_count": null,
      "metadata": {
        "colab": {
          "base_uri": "https://localhost:8080/"
        },
        "id": "XzExk7sk66_V",
        "outputId": "071090aa-131f-46d6-a9b5-2116cf4a72d3"
      },
      "outputs": [],
      "source": [
        "triangle_area('string', 2)"
      ]
    },
    {
      "cell_type": "code",
      "execution_count": null,
      "metadata": {
        "colab": {
          "base_uri": "https://localhost:8080/"
        },
        "id": "FMH1PoNFId5c",
        "outputId": "2106710f-d1b9-45a0-e4ab-03dce2774e73"
      },
      "outputs": [],
      "source": [
        "# add type hint\n",
        "def triangle_area(base: int, height: int):\n",
        "  \"\"\"\n",
        "    Function to calculate Area of Triangle\n",
        "    Accepts:  base * height or triangle as int\n",
        "    Returns:  Area of Triangle as int\n",
        "  \"\"\"\n",
        "  try: \n",
        "    if base < 0 or height < 0:\n",
        "        raise ValueError(\"Base and height must be non-negative\")\n",
        "    return 0.5 * base * height\n",
        "  except ValueError as error:\n",
        "    print(f\"Error, {error}, Try a different value\")\n",
        "  except Exception as e:\n",
        "    print(f\"Error, {e}\")\n",
        "\n",
        "triangle_area(-1, 2)"
      ]
    },
    {
      "cell_type": "code",
      "execution_count": null,
      "metadata": {
        "id": "Pj5amrWV7GrF"
      },
      "outputs": [],
      "source": [
        "?triangle_area"
      ]
    },
    {
      "cell_type": "code",
      "execution_count": null,
      "metadata": {
        "colab": {
          "base_uri": "https://localhost:8080/"
        },
        "id": "dl3PTPsN-uRL",
        "outputId": "46890753-9fa1-4e43-98b6-f9cfa03d1ab0"
      },
      "outputs": [],
      "source": [
        "from typing import Union\n",
        "\n",
        "def triangle_area(base: Union[int, float], height: Union[int, float]):\n",
        "    try: \n",
        "      if base < 0 or height < 0:\n",
        "          raise ValueError(\"Base and height must be non-negative\")\n",
        "      return 0.5 * base * height\n",
        "    except ValueError as error:\n",
        "      print(f\"Error, {error}, Try a different value\")\n",
        "    except Exception as e:\n",
        "      print(f\"Error, {e}\")\n",
        "triangle_area(4, 2)"
      ]
    },
    {
      "cell_type": "code",
      "execution_count": null,
      "metadata": {
        "colab": {
          "base_uri": "https://localhost:8080/"
        },
        "id": "HN2uC3j5b7L2",
        "outputId": "cfe4f5dd-5525-4129-8433-272974966c04"
      },
      "outputs": [],
      "source": [
        "from typing import Union\n",
        "\n",
        "Union[int, float]"
      ]
    },
    {
      "cell_type": "code",
      "execution_count": null,
      "metadata": {
        "id": "VUHEQgVwQw3g"
      },
      "outputs": [],
      "source": [
        "?triangle_area"
      ]
    },
    {
      "cell_type": "code",
      "execution_count": null,
      "metadata": {
        "id": "RM3b6s3Vb_hY"
      },
      "outputs": [],
      "source": [
        "?range"
      ]
    },
    {
      "cell_type": "code",
      "execution_count": null,
      "metadata": {
        "colab": {
          "base_uri": "https://localhost:8080/"
        },
        "id": "5OYbDlfbI4xE",
        "outputId": "2e17736d-7999-4e19-9ff4-49e0b0bde5c7"
      },
      "outputs": [],
      "source": [
        "from typing import Union\n",
        "\n",
        "def triangle_area(base: Union[int, float], height: Union[int, float]):\n",
        "    '''\n",
        "    Description: Triangle_area is a function that calculate the area of an triangle shape\n",
        "    Input: \n",
        "      - base: non-negative numeric input\n",
        "      - height: non-negative numeric input\n",
        "    Output:\n",
        "      - area  = 1/2 * base * height\n",
        "    '''\n",
        "    try: \n",
        "      if base < 0 or height < 0:\n",
        "          raise ValueError(\"Base and height must be non-negative\")\n",
        "      return 0.5 * base * height\n",
        "    except ValueError as error:\n",
        "      print(f\"Error, {error}, Try a different value\")\n",
        "    except Exception as e:\n",
        "      print(f\"Error, {e}\")\n",
        "\n",
        "triangle_area('string', 2)"
      ]
    },
    {
      "cell_type": "code",
      "execution_count": null,
      "metadata": {
        "id": "S8C3BFcKQfl4"
      },
      "outputs": [],
      "source": [
        "?triangle_area"
      ]
    },
    {
      "cell_type": "code",
      "execution_count": null,
      "metadata": {
        "colab": {
          "base_uri": "https://localhost:8080/"
        },
        "id": "rGrcRFNKJXlC",
        "outputId": "2e8939e6-324d-4c1c-fe17-f29fce05de1b"
      },
      "outputs": [],
      "source": [
        "def triangle_area(base, height):\n",
        "    return 0.5 * base * height\n",
        "\n",
        "triangle_area(1, 2)"
      ]
    },
    {
      "cell_type": "markdown",
      "metadata": {
        "id": "OJAerURiINzY"
      },
      "source": [
        "(Self-study: )\n",
        "1. Function can have multiple outputs\n",
        "2. Function input can also be a function\n",
        "3. Function input can have default values"
      ]
    },
    {
      "cell_type": "code",
      "execution_count": null,
      "metadata": {
        "colab": {
          "base_uri": "https://localhost:8080/"
        },
        "id": "XeY2DXh-cbIA",
        "outputId": "2f7451e3-a304-469c-d5d0-5989b49524c9"
      },
      "outputs": [],
      "source": [
        "# return multiple outputs\n",
        "def simple(a,b):\n",
        "    return a,b\n",
        "\n",
        "simple(1,2)"
      ]
    },
    {
      "cell_type": "code",
      "execution_count": null,
      "metadata": {
        "colab": {
          "base_uri": "https://localhost:8080/"
        },
        "id": "PJTo39V0cbIA",
        "outputId": "c1a50821-0adf-4f54-e42a-c0f711e5ff64"
      },
      "outputs": [],
      "source": [
        "# everything in python is an object, and can be passed into a function\n",
        "def f(x):\n",
        "    return x+2\n",
        "\n",
        "def twice(g,x):\n",
        "    return g(g(x))\n",
        "\n",
        "twice(f,2) # + 4"
      ]
    },
    {
      "cell_type": "code",
      "execution_count": null,
      "metadata": {
        "colab": {
          "base_uri": "https://localhost:8080/"
        },
        "id": "JPLXUkxccbIA",
        "outputId": "3020d4fa-98af-4d00-e166-7782dc93e1ed"
      },
      "outputs": [],
      "source": [
        "def n_apply(f, x, n):\n",
        "    \"\"\"applies f to x n times\"\"\"\n",
        "    for _ in range(n):  # _ is dummy variable in iteration\n",
        "        print(f'x={x} {_}')\n",
        "        x = f(x)\n",
        "    return x\n",
        "\n",
        "n_apply(f, 1, 5) # 1 + 2*5"
      ]
    },
    {
      "cell_type": "code",
      "execution_count": null,
      "metadata": {
        "id": "kY80quZccbIA"
      },
      "outputs": [],
      "source": [
        "def h(a, b, x=3,y=2):\n",
        "    return a * x + b*y"
      ]
    },
    {
      "cell_type": "code",
      "execution_count": null,
      "metadata": {
        "colab": {
          "base_uri": "https://localhost:8080/"
        },
        "id": "LtWd0s1PcbIB",
        "outputId": "975ff503-5c76-46a7-d716-76166bd8dd80"
      },
      "outputs": [],
      "source": [
        "h(1,1,y=1) #equivalent to h(1,1,3,1)"
      ]
    },
    {
      "cell_type": "markdown",
      "metadata": {
        "id": "QDqLQrCRcbIC"
      },
      "source": [
        "# Exercise 1\n",
        "\n",
        "(10 minutes)\n",
        "\n",
        "1. Print every power of 2 less than 10,000\n",
        "2. Write a function that takes two inputs, $a$ and $b$ and returns the value of $a+2b$\n",
        "3. Write a function takes a number $n$ as input, and prints all [Fibonacci numbers](https://en.wikipedia.org/wiki/Fibonacci_number) less than $n$"
      ]
    },
    {
      "cell_type": "code",
      "execution_count": null,
      "metadata": {
        "colab": {
          "base_uri": "https://localhost:8080/"
        },
        "id": "eRDZk_LRcbIC",
        "outputId": "67528cd9-d6dc-46c3-c7b6-d1ea9403ba96"
      },
      "outputs": [],
      "source": [
        "def power_2(n):\n",
        "  [print(f'{_} ^ 2 = {_**2}') for _ in range(n)]\n",
        "\n",
        "power_2(10)"
      ]
    },
    {
      "cell_type": "code",
      "execution_count": null,
      "metadata": {
        "colab": {
          "base_uri": "https://localhost:8080/"
        },
        "id": "AdWsMu_vsj1o",
        "outputId": "f120e227-d1e6-4c09-c7f8-a249d25c1537"
      },
      "outputs": [],
      "source": [
        "def a_2b(a,b):\n",
        "  return a+(2*b)\n",
        "\n",
        "a_2b(2,2)"
      ]
    },
    {
      "cell_type": "code",
      "execution_count": null,
      "metadata": {
        "colab": {
          "base_uri": "https://localhost:8080/"
        },
        "id": "AU99SFLjs8v3",
        "outputId": "191c463c-0618-410c-d7c1-f8c7816d0fd5"
      },
      "outputs": [],
      "source": [
        "def fibo(n):\n",
        "  x,y=0,1\n",
        "  for _ in range(n):\n",
        "    x,y=y, x+y\n",
        "  return(x)\n",
        "\n",
        "fibo(100)"
      ]
    },
    {
      "cell_type": "markdown",
      "metadata": {
        "id": "I2b0BxBScbIC"
      },
      "source": [
        "# Lists\n",
        "\n",
        "A list in Python is an ordered (and indexed) collection of objects"
      ]
    },
    {
      "cell_type": "code",
      "execution_count": null,
      "metadata": {
        "colab": {
          "base_uri": "https://localhost:8080/",
          "height": 53
        },
        "id": "rKH7rKi4cbID",
        "outputId": "1cd857e7-431c-4976-d6ff-b8ce134b6cfe"
      },
      "outputs": [],
      "source": [
        "# heterogeneous types\n",
        "a = ['x', 1, 3.5]\n",
        "print(a)\n",
        "a[0]"
      ]
    },
    {
      "cell_type": "markdown",
      "metadata": {
        "id": "4e3B3K73cbID"
      },
      "source": [
        "You can iterate over lists in a very natural way"
      ]
    },
    {
      "cell_type": "code",
      "execution_count": null,
      "metadata": {
        "colab": {
          "base_uri": "https://localhost:8080/"
        },
        "id": "_iDpGx8XcbID",
        "outputId": "43443f33-4046-4649-a370-da8048452492"
      },
      "outputs": [],
      "source": [
        "for word in a:\n",
        "    print(word)"
      ]
    },
    {
      "cell_type": "markdown",
      "metadata": {
        "id": "Q-4BiQMlcbID"
      },
      "source": [
        "Python indexing starts at 0."
      ]
    },
    {
      "cell_type": "code",
      "execution_count": null,
      "metadata": {
        "colab": {
          "base_uri": "https://localhost:8080/"
        },
        "id": "nzyLV3cfcbID",
        "outputId": "6cbb3e31-3393-44a9-a609-3500bcc0205f"
      },
      "outputs": [],
      "source": [
        "# mutable\n",
        "a[1] = \"overwritten\"\n",
        "a"
      ]
    },
    {
      "cell_type": "code",
      "execution_count": null,
      "metadata": {
        "colab": {
          "base_uri": "https://localhost:8080/"
        },
        "id": "UzEMwS-HcbID",
        "outputId": "e6cc6166-f33f-4e83-a102-2675c76dcf4a"
      },
      "outputs": [],
      "source": [
        "#can even put functions and other lists inside of lists!\n",
        "def f(x):\n",
        "    return x\n",
        "\n",
        "b = [f, [1,2,2.1]]\n",
        "print(b)"
      ]
    },
    {
      "cell_type": "markdown",
      "metadata": {
        "id": "hIHhKPrwcbIE"
      },
      "source": [
        "You can append to lists using `.append()`, and do other operations, such as `pop()`, `insert()`, etc."
      ]
    },
    {
      "cell_type": "markdown",
      "metadata": {
        "id": "TvKPLJkdcbIF"
      },
      "source": [
        "Python terminology:\n",
        "* a list is a \"class\"\n",
        "* the variable `a` is an object, or instance of the class\n",
        "* `append()` is a method"
      ]
    },
    {
      "cell_type": "code",
      "execution_count": null,
      "metadata": {
        "id": "tMnL2rK5p979"
      },
      "outputs": [],
      "source": [
        "?a.append"
      ]
    },
    {
      "cell_type": "code",
      "execution_count": null,
      "metadata": {
        "colab": {
          "base_uri": "https://localhost:8080/"
        },
        "id": "YpybvVQLcbIE",
        "outputId": "2380e013-478b-4e63-df74-bf3806a35c42"
      },
      "outputs": [],
      "source": [
        "a = []\n",
        "for i in range(10):\n",
        "    a.append(i)\n",
        "    # a[:-1]=' '\n",
        "    print(a)"
      ]
    },
    {
      "cell_type": "code",
      "execution_count": 5,
      "metadata": {
        "colab": {
          "base_uri": "https://localhost:8080/"
        },
        "id": "jVh-iIII4bI2",
        "outputId": "e7ded520-ef14-47d8-ec8c-1d728c4e0222"
      },
      "outputs": [
        {
          "name": "stdout",
          "output_type": "stream",
          "text": [
            " 0\n",
            "    1\n",
            "       2\n",
            "          3\n",
            "             4\n",
            "                5\n",
            "                   6\n",
            "                      7\n",
            "                         8\n",
            "                            9\n",
            "[0, 1, 2, 3, 4, 5, 6, 7, 8, 9]\n"
          ]
        }
      ],
      "source": [
        "a = []\n",
        "for i in range(10):\n",
        "    a.append(i)\n",
        "    print('   '*i,i)\n",
        "print(a)"
      ]
    },
    {
      "cell_type": "code",
      "execution_count": 6,
      "metadata": {
        "colab": {
          "base_uri": "https://localhost:8080/"
        },
        "id": "ZvbESvwscbIE",
        "outputId": "12dbe0e5-d332-4430-9517-c77d88b2446a"
      },
      "outputs": [
        {
          "name": "stdout",
          "output_type": "stream",
          "text": [
            "Removed 9, a is now [0, 1, 2, 3, 4, 5, 6, 7, 8]\n",
            "Removed 8, a is now [0, 1, 2, 3, 4, 5, 6, 7]\n",
            "Removed 7, a is now [0, 1, 2, 3, 4, 5, 6]\n",
            "Removed 6, a is now [0, 1, 2, 3, 4, 5]\n",
            "Removed 5, a is now [0, 1, 2, 3, 4]\n",
            "Removed 4, a is now [0, 1, 2, 3]\n",
            "Removed 3, a is now [0, 1, 2]\n",
            "Removed 2, a is now [0, 1]\n",
            "Removed 1, a is now [0]\n",
            "Removed 0, a is now []\n"
          ]
        }
      ],
      "source": [
        "while len(a) > 0:\n",
        "    elt = a.pop()\n",
        "    print(f\"Removed {elt}, a is now {a}\")"
      ]
    },
    {
      "cell_type": "markdown",
      "metadata": {
        "id": "iQZY_rBhTZxC"
      },
      "source": [
        "(Self-study): \n",
        "1. How to insert an element at a specific index of list\n",
        "2. How to append all element in a list into another list"
      ]
    },
    {
      "cell_type": "code",
      "execution_count": 7,
      "metadata": {
        "id": "VHJ7S5EAcbIE"
      },
      "outputs": [
        {
          "name": "stdout",
          "output_type": "stream",
          "text": [
            "[1, 'new value', 2, 3]\n"
          ]
        }
      ],
      "source": [
        "# Insert a value at a specific index\n",
        "a = [1,2,3]\n",
        "a.insert(1,'new value')\n",
        "print(a)"
      ]
    },
    {
      "cell_type": "code",
      "execution_count": 8,
      "metadata": {
        "id": "ijH42byecbIE"
      },
      "outputs": [
        {
          "name": "stdout",
          "output_type": "stream",
          "text": [
            "[1, 2, 3, 'x', 'y']\n"
          ]
        }
      ],
      "source": [
        "# Append all element inside a list into another list\n",
        "a = [1,2,3]\n",
        "b = [\"x\", \"y\"]\n",
        "a.extend(b) #same as a+b\n",
        "print(a)"
      ]
    },
    {
      "cell_type": "code",
      "execution_count": 9,
      "metadata": {
        "id": "smAIZHNycbIE"
      },
      "outputs": [
        {
          "data": {
            "text/plain": [
              "[1, 2, 3, 'x', 'y', 'x', 'y']"
            ]
          },
          "execution_count": 9,
          "metadata": {},
          "output_type": "execute_result"
        }
      ],
      "source": [
        "a+b"
      ]
    },
    {
      "cell_type": "markdown",
      "metadata": {
        "id": "la9LiI30cbIF"
      },
      "source": [
        "Lists in python are only implicitly collections of the objects that constitute them. Setting one array equal to another can lead to unexpected results:"
      ]
    },
    {
      "cell_type": "code",
      "execution_count": 11,
      "metadata": {
        "colab": {
          "base_uri": "https://localhost:8080/"
        },
        "id": "1OZGc_vWcbIF",
        "outputId": "fac55585-dfe5-446e-a050-4f42013078c6"
      },
      "outputs": [
        {
          "name": "stdout",
          "output_type": "stream",
          "text": [
            "original a:, [1, 2, 3]\n",
            "original b:, [1, 2, 3]\n",
            "after edit...\n",
            "a:, ['edited', 2, 3]\n",
            "b:, ['edited', 2, 3]\n"
          ]
        }
      ],
      "source": [
        "a = [1, 2, 3]\n",
        "# b = a.copy() # shallow\n",
        "b = a \n",
        "print(f\"original a:, {a}\")\n",
        "print(f\"original b:, {b}\")\n",
        "b[0] = \"edited\"\n",
        "print(\"after edit...\")\n",
        "print(f\"a:, {a}\")\n",
        "print(f\"b:, {b}\")"
      ]
    },
    {
      "cell_type": "code",
      "execution_count": 12,
      "metadata": {
        "id": "DrcqMWghcbIF"
      },
      "outputs": [
        {
          "name": "stdout",
          "output_type": "stream",
          "text": [
            "\u001b[1;31mSignature:\u001b[0m \u001b[0ma\u001b[0m\u001b[1;33m.\u001b[0m\u001b[0mcopy\u001b[0m\u001b[1;33m(\u001b[0m\u001b[1;33m)\u001b[0m\u001b[1;33m\u001b[0m\u001b[1;33m\u001b[0m\u001b[0m\n",
            "\u001b[1;31mDocstring:\u001b[0m Return a shallow copy of the list.\n",
            "\u001b[1;31mType:\u001b[0m      builtin_function_or_method\n"
          ]
        }
      ],
      "source": [
        "a.copy?"
      ]
    },
    {
      "cell_type": "markdown",
      "metadata": {
        "id": "hBNPBcGJcbIF"
      },
      "source": [
        "A list only stores some pointers to locations in your computer's memory: when we wrote `b = a` Python created a new list `b` which shares its entries with `a`. \n",
        "\n",
        "The function `.copy()` will create a completely distinct copy with new objects."
      ]
    },
    {
      "cell_type": "markdown",
      "metadata": {
        "id": "s0oOi7ItcbIF"
      },
      "source": [
        "## List Comprehensions\n",
        "\n",
        "Python's list comprehensions let you create lists in a way that is reminiscent of set notation\n",
        "\n",
        "$$ S = \\{ x^2 ~\\mid~ 0 \\le x \\le 20, x\\mod 3 = 0\\}$$"
      ]
    },
    {
      "cell_type": "code",
      "execution_count": 17,
      "metadata": {
        "colab": {
          "base_uri": "https://localhost:8080/"
        },
        "id": "rzUspLYBqy9l",
        "outputId": "92ec3eeb-7499-4807-ebf9-8ac27589c6e4"
      },
      "outputs": [
        {
          "name": "stdout",
          "output_type": "stream",
          "text": [
            "192 µs ± 1.43 µs per loop (mean ± std. dev. of 7 runs, 10,000 loops each)\n"
          ]
        }
      ],
      "source": [
        "%%timeit\n",
        "S= []\n",
        "for x in range(2100):\n",
        "    if x % 3 == 0:\n",
        "        S.append(x**2)\n",
        "S"
      ]
    },
    {
      "cell_type": "markdown",
      "metadata": {
        "id": "X72grtjTcbIG"
      },
      "source": [
        "Syntax is generally\n",
        "```python3\n",
        "S = [<elt> <for statement> <conditional>]\n",
        "```"
      ]
    },
    {
      "cell_type": "code",
      "execution_count": 21,
      "metadata": {
        "colab": {
          "base_uri": "https://localhost:8080/"
        },
        "id": "vzfGtb_vcbIG",
        "outputId": "41a4a4f7-420e-43b6-d6a1-dbcc1dc2260f"
      },
      "outputs": [
        {
          "data": {
            "text/plain": [
              "[0, 9, 36, 81, 144, 225, 324]"
            ]
          },
          "execution_count": 21,
          "metadata": {},
          "output_type": "execute_result"
        }
      ],
      "source": [
        "S = [x**2 for x in range(21) if x % 3 == 0]\n",
        "S"
      ]
    },
    {
      "cell_type": "code",
      "execution_count": 22,
      "metadata": {},
      "outputs": [
        {
          "data": {
            "text/plain": [
              "[0, 9, 36, 81, 144, 225, 324]"
            ]
          },
          "execution_count": 22,
          "metadata": {},
          "output_type": "execute_result"
        }
      ],
      "source": [
        "S"
      ]
    },
    {
      "cell_type": "code",
      "execution_count": 24,
      "metadata": {},
      "outputs": [],
      "source": [
        "S = [0,2,3,4,5,1,0]"
      ]
    },
    {
      "cell_type": "code",
      "execution_count": 29,
      "metadata": {
        "colab": {
          "base_uri": "https://localhost:8080/"
        },
        "id": "VtUzdppOmSP5",
        "outputId": "bc6afbbd-ef2e-4c6c-8e10-00d595c695db"
      },
      "outputs": [
        {
          "data": {
            "text/plain": [
              "['0idlea', '2no', '3idlea', '4idlea', '5idlea', '1yes', '0idlea']"
            ]
          },
          "execution_count": 29,
          "metadata": {},
          "output_type": "execute_result"
        }
      ],
      "source": [
        "\n",
        "[(str(v)+'yes') if v == 1 else (str(v)+'no') if v == 2 else (str(v)+'idlea') for v in S]"
      ]
    },
    {
      "cell_type": "markdown",
      "metadata": {
        "id": "JZ88hKsZNeNY"
      },
      "source": [
        "(Self-study)Try yourself with nested for loop~"
      ]
    },
    {
      "cell_type": "code",
      "execution_count": 30,
      "metadata": {
        "id": "lsWtnruKcbIG"
      },
      "outputs": [
        {
          "data": {
            "text/plain": [
              "[(0, 0, 0), (0, 1, 1), (1, 0, 1), (1, 1, 0)]"
            ]
          },
          "execution_count": 30,
          "metadata": {},
          "output_type": "execute_result"
        }
      ],
      "source": [
        "S = []\n",
        "for i in range(2):\n",
        "    for j in range(2):\n",
        "        for k in range(2):\n",
        "            if (i + j + k)%2 == 0:\n",
        "                S += [(i,j,k)]\n",
        "\n",
        "S"
      ]
    },
    {
      "cell_type": "code",
      "execution_count": 31,
      "metadata": {
        "id": "zj7PYS66cbIG"
      },
      "outputs": [
        {
          "data": {
            "text/plain": [
              "[(0, 0, 0), (0, 1, 1), (1, 0, 1), (1, 1, 0)]"
            ]
          },
          "execution_count": 31,
          "metadata": {},
          "output_type": "execute_result"
        }
      ],
      "source": [
        "# you aren't restricted to a single for loop\n",
        "S = [(i,j,k) for i in range(2) for j in range(2) for k in range(2) if (i + j + k)%2 == 0]\n",
        "S"
      ]
    },
    {
      "cell_type": "markdown",
      "metadata": {
        "id": "82HHUl5EcbIG"
      },
      "source": [
        "# Other Collections\n",
        "\n",
        "We've seen the `list` class, which is ordered/indexed, and mutable.  There are other Python collections that you may find useful:\n",
        "* `tuple` which is ordered/indexed, and immutable\n",
        "* `set` which is unordered/unindexed, mutable, and doesn't allow for duplicate elements\n",
        "* `dict` (dictionary), paired, which is unordered/unindexed, and mutable, with no duplicate keys."
      ]
    },
    {
      "cell_type": "code",
      "execution_count": 35,
      "metadata": {
        "colab": {
          "base_uri": "https://localhost:8080/",
          "height": 239
        },
        "id": "xAry3xBbcbIG",
        "outputId": "8c5339aa-9a8c-429e-bd9e-80fbe1930010"
      },
      "outputs": [
        {
          "name": "stdout",
          "output_type": "stream",
          "text": [
            "(1, 2, 4)\n"
          ]
        }
      ],
      "source": [
        "a_tuple = (1, 2, 4)\n",
        "print(a_tuple)\n",
        "# a_tuple[0] = 3  # TypeError: 'tuple' object does not support item assignment"
      ]
    },
    {
      "cell_type": "code",
      "execution_count": 37,
      "metadata": {
        "colab": {
          "base_uri": "https://localhost:8080/",
          "height": 239
        },
        "id": "KVAXxz6UcbIH",
        "outputId": "f57b71ee-9d64-436e-b55a-70800f1c1bc7"
      },
      "outputs": [
        {
          "name": "stdout",
          "output_type": "stream",
          "text": [
            "{2, 3, 5}\n"
          ]
        }
      ],
      "source": [
        "a_set = {5, 3, 2, 5}\n",
        "print(a_set)\n",
        "# print(a_set[0]) # TypeError: 'set' object is not subscriptable"
      ]
    },
    {
      "cell_type": "code",
      "execution_count": 38,
      "metadata": {
        "colab": {
          "base_uri": "https://localhost:8080/"
        },
        "id": "F9b-2Y1YcbIH",
        "outputId": "1aa9a316-27f6-4643-dd62-7ea48f8f1720"
      },
      "outputs": [
        {
          "name": "stdout",
          "output_type": "stream",
          "text": [
            "After adding 6,   a_set:{2, 3, 5, 6}\n",
            "After removing 6, a_set:{2, 3, 5}\n"
          ]
        }
      ],
      "source": [
        "a_set.add(6)\n",
        "print(f\"After adding 6,   a_set:{a_set}\")\n",
        "a_set.remove(6)\n",
        "print(f\"After removing 6, a_set:{a_set}\")"
      ]
    },
    {
      "cell_type": "code",
      "execution_count": 39,
      "metadata": {
        "colab": {
          "base_uri": "https://localhost:8080/"
        },
        "id": "8eqTIXOXcbIH",
        "outputId": "303399b6-0cbe-46cc-86dc-46640a2880da"
      },
      "outputs": [
        {
          "data": {
            "text/plain": [
              "{2: 12, 'key_2': 'str', 'key_3': [13, 'value']}"
            ]
          },
          "execution_count": 39,
          "metadata": {},
          "output_type": "execute_result"
        }
      ],
      "source": [
        "a_dict = {} # {key0: value0, key1: value1}\n",
        "a_dict[2] = 12 # dict[key] = value\n",
        "a_dict[\"key_2\"] = 'str'\n",
        "a_dict[\"key_3\"] = [13, \"value\"]\n",
        "a_dict"
      ]
    },
    {
      "cell_type": "code",
      "execution_count": 40,
      "metadata": {
        "colab": {
          "base_uri": "https://localhost:8080/"
        },
        "id": "VawfIljer7Td",
        "outputId": "7eedc4df-41bd-4e2c-b43b-d8adedf0416c"
      },
      "outputs": [
        {
          "name": "stdout",
          "output_type": "stream",
          "text": [
            "12\n",
            "12\n"
          ]
        }
      ],
      "source": [
        "print(a_dict[2])\n",
        "print(a_dict.get(2))"
      ]
    },
    {
      "cell_type": "code",
      "execution_count": 41,
      "metadata": {
        "colab": {
          "base_uri": "https://localhost:8080/"
        },
        "id": "7E6KY3rmcbIH",
        "outputId": "9613d888-411c-4331-d819-f9dd577269bd"
      },
      "outputs": [
        {
          "data": {
            "text/plain": [
              "{2: 'new value', 'key_2': 28, 'key_3': [13, 'value']}"
            ]
          },
          "execution_count": 41,
          "metadata": {},
          "output_type": "execute_result"
        }
      ],
      "source": [
        "a_dict_copy = {2: 'new value', 'key_2': 28, 'key_3': [13, 'value']}\n",
        "a_dict_copy"
      ]
    },
    {
      "cell_type": "markdown",
      "metadata": {
        "id": "DxnjXbSm0AO0"
      },
      "source": [
        "(Optional) More Advanced Collections in Python\n",
        "* [`OrderedDict`](https://docs.python.org/3/library/collections.html#ordereddict-objects) Dict ordered by keys\n",
        "* [`deque`](https://docs.python.org/3/library/collections.html#deque-objects): double-ended queue (generalization of stack and queue)\n",
        "* [`heapq`](https://docs.python.org/3/library/heapq.html) Priority Queue"
      ]
    },
    {
      "cell_type": "markdown",
      "metadata": {
        "id": "yPXV07ppcbIH"
      },
      "source": [
        "# Exercise 2\n",
        "\n",
        "**Lists**\n",
        "1. Create a list `['a', 'b', 'c']`\n",
        "2. use the `insert()` method to put the element `'d'` at index 1\n",
        "3. use the `remove()` method to delete the element `'b'` in the list\n",
        "\n",
        "**List comprehensions**\n",
        "1. What does the following list contain?\n",
        "```python \n",
        "X = [i for i in range(100)]\n",
        "```\n",
        "2. Interpret the following set as a list comprehension:\n",
        "$S_1 = \\{x\\in X \\mid x\\mod 5 = 2\\}$\n",
        "3. Intepret the following set as a list comprehension: $S_2 = \\{x \\in S_1 \\mid x \\text{ is even}\\}$\n",
        "4. generate the set of all tuples $(x,y)$ where $x\\in S_1$, $y\\in S_2$.\n",
        "\n",
        "**Other Collections**\n",
        "1. Try creating another type of collection\n",
        "2. try iterating over it."
      ]
    },
    {
      "cell_type": "code",
      "execution_count": 45,
      "metadata": {},
      "outputs": [
        {
          "name": "stdout",
          "output_type": "stream",
          "text": [
            "['a', 'b', 'c']\n",
            "['a', 'd', 'b', 'c']\n",
            "['a', 'd', 'c']\n"
          ]
        }
      ],
      "source": [
        "lst = ['a', 'b', 'c']\n",
        "print(lst)\n",
        "lst.insert(1, 'd')\n",
        "print(lst)\n",
        "lst.remove('b')\n",
        "print(lst)"
      ]
    },
    {
      "cell_type": "code",
      "execution_count": 50,
      "metadata": {},
      "outputs": [
        {
          "name": "stdout",
          "output_type": "stream",
          "text": [
            "[0, 1, 2, 3, 4, 5, 6, 7, 8, 9, 10, 11, 12, 13, 14, 15, 16, 17, 18, 19, 20, 21, 22, 23, 24, 25, 26, 27, 28, 29, 30, 31, 32, 33, 34, 35, 36, 37, 38, 39, 40, 41, 42, 43, 44, 45, 46, 47, 48, 49, 50, 51, 52, 53, 54, 55, 56, 57, 58, 59, 60, 61, 62, 63, 64, 65, 66, 67, 68, 69, 70, 71, 72, 73, 74, 75, 76, 77, 78, 79, 80, 81, 82, 83, 84, 85, 86, 87, 88, 89, 90, 91, 92, 93, 94, 95, 96, 97, 98, 99]\n"
          ]
        }
      ],
      "source": [
        "X = [i for i in range(100)]\n",
        "print(X)"
      ]
    },
    {
      "cell_type": "code",
      "execution_count": 52,
      "metadata": {},
      "outputs": [
        {
          "name": "stdout",
          "output_type": "stream",
          "text": [
            "[2, 7, 12, 17, 22, 27, 32, 37, 42, 47, 52, 57, 62, 67, 72, 77, 82, 87, 92, 97]\n"
          ]
        }
      ],
      "source": [
        "S1 = [x for x in X if x % 5 == 2]; print(S1)"
      ]
    },
    {
      "cell_type": "code",
      "execution_count": 53,
      "metadata": {},
      "outputs": [
        {
          "name": "stdout",
          "output_type": "stream",
          "text": [
            "[2, 12, 22, 32, 42, 52, 62, 72, 82, 92]\n"
          ]
        }
      ],
      "source": [
        "S2 = [i for i in S1 if i%2==0]; print(S2)"
      ]
    },
    {
      "cell_type": "code",
      "execution_count": 54,
      "metadata": {},
      "outputs": [
        {
          "name": "stdout",
          "output_type": "stream",
          "text": [
            "[]\n"
          ]
        }
      ],
      "source": [
        "lst1 = [(x,x) for i in S1 if x in S1 and x in S2]\n",
        "print(lst1)"
      ]
    },
    {
      "cell_type": "code",
      "execution_count": null,
      "metadata": {},
      "outputs": [],
      "source": []
    }
  ],
  "metadata": {
    "colab": {
      "collapsed_sections": [
        "IB20Lo4pcbHr",
        "CyZW8H_CcbHu",
        "QDqLQrCRcbIC",
        "yPXV07ppcbIH",
        "JDqsC8xBcbII",
        "5GJRzKoccbII"
      ],
      "provenance": [],
      "toc_visible": true
    },
    "kernelspec": {
      "display_name": "Python 3.10.9 64-bit (microsoft store)",
      "language": "python",
      "name": "python3"
    },
    "language_info": {
      "codemirror_mode": {
        "name": "ipython",
        "version": 3
      },
      "file_extension": ".py",
      "mimetype": "text/x-python",
      "name": "python",
      "nbconvert_exporter": "python",
      "pygments_lexer": "ipython3",
      "version": "3.10.10"
    },
    "vscode": {
      "interpreter": {
        "hash": "bfe4cffebb0fa4d9fca73cd00cc05d55c3c3f237cb87291b4b1a0206940ac137"
      }
    }
  },
  "nbformat": 4,
  "nbformat_minor": 0
}
