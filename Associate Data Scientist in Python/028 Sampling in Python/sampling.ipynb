{
 "cells": [
  {
   "cell_type": "markdown",
   "metadata": {},
   "source": [
    "# Sampling in Python"
   ]
  },
  {
   "cell_type": "markdown",
   "metadata": {},
   "source": [
    "## Introduction to Sampling"
   ]
  },
  {
   "cell_type": "markdown",
   "metadata": {},
   "source": [
    "### Sampling and Point Estimates"
   ]
  },
  {
   "cell_type": "code",
   "execution_count": 109,
   "metadata": {},
   "outputs": [],
   "source": [
    "# pip install pyarrow"
   ]
  },
  {
   "cell_type": "code",
   "execution_count": 110,
   "metadata": {},
   "outputs": [
    {
     "name": "stdout",
     "output_type": "stream",
     "text": [
      "(41656, 20)\n"
     ]
    },
    {
     "data": {
      "text/html": [
       "<div>\n",
       "<style scoped>\n",
       "    .dataframe tbody tr th:only-of-type {\n",
       "        vertical-align: middle;\n",
       "    }\n",
       "\n",
       "    .dataframe tbody tr th {\n",
       "        vertical-align: top;\n",
       "    }\n",
       "\n",
       "    .dataframe thead th {\n",
       "        text-align: right;\n",
       "    }\n",
       "</style>\n",
       "<table border=\"1\" class=\"dataframe\">\n",
       "  <thead>\n",
       "    <tr style=\"text-align: right;\">\n",
       "      <th></th>\n",
       "      <th>acousticness</th>\n",
       "      <th>artists</th>\n",
       "      <th>danceability</th>\n",
       "      <th>duration_ms</th>\n",
       "      <th>duration_minutes</th>\n",
       "      <th>energy</th>\n",
       "      <th>explicit</th>\n",
       "      <th>id</th>\n",
       "      <th>instrumentalness</th>\n",
       "      <th>key</th>\n",
       "      <th>liveness</th>\n",
       "      <th>loudness</th>\n",
       "      <th>mode</th>\n",
       "      <th>name</th>\n",
       "      <th>popularity</th>\n",
       "      <th>release_date</th>\n",
       "      <th>speechiness</th>\n",
       "      <th>tempo</th>\n",
       "      <th>valence</th>\n",
       "      <th>year</th>\n",
       "    </tr>\n",
       "  </thead>\n",
       "  <tbody>\n",
       "    <tr>\n",
       "      <th>0</th>\n",
       "      <td>0.97200</td>\n",
       "      <td>['David Bauer']</td>\n",
       "      <td>0.567</td>\n",
       "      <td>313293.0</td>\n",
       "      <td>5.221550</td>\n",
       "      <td>0.227</td>\n",
       "      <td>0.0</td>\n",
       "      <td>0w0D8H1ubRerCXHWYJkinO</td>\n",
       "      <td>0.601000</td>\n",
       "      <td>10.0</td>\n",
       "      <td>0.110</td>\n",
       "      <td>-13.441</td>\n",
       "      <td>1.0</td>\n",
       "      <td>Shout to the Lord</td>\n",
       "      <td>47.0</td>\n",
       "      <td>2000</td>\n",
       "      <td>0.0290</td>\n",
       "      <td>136.123</td>\n",
       "      <td>0.0396</td>\n",
       "      <td>2000.0</td>\n",
       "    </tr>\n",
       "    <tr>\n",
       "      <th>1</th>\n",
       "      <td>0.32100</td>\n",
       "      <td>['Etta James']</td>\n",
       "      <td>0.821</td>\n",
       "      <td>360240.0</td>\n",
       "      <td>6.004000</td>\n",
       "      <td>0.418</td>\n",
       "      <td>0.0</td>\n",
       "      <td>4JVeqfE2tpi7Pv63LJZtPh</td>\n",
       "      <td>0.000372</td>\n",
       "      <td>9.0</td>\n",
       "      <td>0.222</td>\n",
       "      <td>-9.841</td>\n",
       "      <td>0.0</td>\n",
       "      <td>Miss You</td>\n",
       "      <td>51.0</td>\n",
       "      <td>2000-12-12</td>\n",
       "      <td>0.0407</td>\n",
       "      <td>117.382</td>\n",
       "      <td>0.8030</td>\n",
       "      <td>2000.0</td>\n",
       "    </tr>\n",
       "    <tr>\n",
       "      <th>2</th>\n",
       "      <td>0.00659</td>\n",
       "      <td>['Quasimoto']</td>\n",
       "      <td>0.706</td>\n",
       "      <td>202507.0</td>\n",
       "      <td>3.375117</td>\n",
       "      <td>0.602</td>\n",
       "      <td>1.0</td>\n",
       "      <td>5pxtdhLAi0RTh1gNqhGMNA</td>\n",
       "      <td>0.000138</td>\n",
       "      <td>11.0</td>\n",
       "      <td>0.400</td>\n",
       "      <td>-8.306</td>\n",
       "      <td>0.0</td>\n",
       "      <td>Real Eyes</td>\n",
       "      <td>44.0</td>\n",
       "      <td>2000-06-13</td>\n",
       "      <td>0.3420</td>\n",
       "      <td>89.692</td>\n",
       "      <td>0.4790</td>\n",
       "      <td>2000.0</td>\n",
       "    </tr>\n",
       "    <tr>\n",
       "      <th>3</th>\n",
       "      <td>0.00390</td>\n",
       "      <td>['Millencolin']</td>\n",
       "      <td>0.368</td>\n",
       "      <td>173360.0</td>\n",
       "      <td>2.889333</td>\n",
       "      <td>0.977</td>\n",
       "      <td>0.0</td>\n",
       "      <td>3jRsoe4Vkxa4BMYqGHX8L0</td>\n",
       "      <td>0.000000</td>\n",
       "      <td>11.0</td>\n",
       "      <td>0.350</td>\n",
       "      <td>-2.757</td>\n",
       "      <td>0.0</td>\n",
       "      <td>Penguins &amp; Polarbears</td>\n",
       "      <td>52.0</td>\n",
       "      <td>2000-02-22</td>\n",
       "      <td>0.1270</td>\n",
       "      <td>165.889</td>\n",
       "      <td>0.5480</td>\n",
       "      <td>2000.0</td>\n",
       "    </tr>\n",
       "    <tr>\n",
       "      <th>4</th>\n",
       "      <td>0.12200</td>\n",
       "      <td>['Steve Chou']</td>\n",
       "      <td>0.501</td>\n",
       "      <td>344200.0</td>\n",
       "      <td>5.736667</td>\n",
       "      <td>0.511</td>\n",
       "      <td>0.0</td>\n",
       "      <td>4mronxcllhfyhBRqyZi8kU</td>\n",
       "      <td>0.000000</td>\n",
       "      <td>7.0</td>\n",
       "      <td>0.279</td>\n",
       "      <td>-9.836</td>\n",
       "      <td>0.0</td>\n",
       "      <td>黃昏</td>\n",
       "      <td>53.0</td>\n",
       "      <td>2000-12-25</td>\n",
       "      <td>0.0291</td>\n",
       "      <td>78.045</td>\n",
       "      <td>0.1130</td>\n",
       "      <td>2000.0</td>\n",
       "    </tr>\n",
       "  </tbody>\n",
       "</table>\n",
       "</div>"
      ],
      "text/plain": [
       "   acousticness          artists  danceability  duration_ms  duration_minutes  \\\n",
       "0       0.97200  ['David Bauer']         0.567     313293.0          5.221550   \n",
       "1       0.32100   ['Etta James']         0.821     360240.0          6.004000   \n",
       "2       0.00659    ['Quasimoto']         0.706     202507.0          3.375117   \n",
       "3       0.00390  ['Millencolin']         0.368     173360.0          2.889333   \n",
       "4       0.12200   ['Steve Chou']         0.501     344200.0          5.736667   \n",
       "\n",
       "   energy  explicit                      id  instrumentalness   key  liveness  \\\n",
       "0   0.227       0.0  0w0D8H1ubRerCXHWYJkinO          0.601000  10.0     0.110   \n",
       "1   0.418       0.0  4JVeqfE2tpi7Pv63LJZtPh          0.000372   9.0     0.222   \n",
       "2   0.602       1.0  5pxtdhLAi0RTh1gNqhGMNA          0.000138  11.0     0.400   \n",
       "3   0.977       0.0  3jRsoe4Vkxa4BMYqGHX8L0          0.000000  11.0     0.350   \n",
       "4   0.511       0.0  4mronxcllhfyhBRqyZi8kU          0.000000   7.0     0.279   \n",
       "\n",
       "   loudness  mode                   name  popularity release_date  \\\n",
       "0   -13.441   1.0      Shout to the Lord        47.0         2000   \n",
       "1    -9.841   0.0               Miss You        51.0   2000-12-12   \n",
       "2    -8.306   0.0              Real Eyes        44.0   2000-06-13   \n",
       "3    -2.757   0.0  Penguins & Polarbears        52.0   2000-02-22   \n",
       "4    -9.836   0.0                     黃昏        53.0   2000-12-25   \n",
       "\n",
       "   speechiness    tempo  valence    year  \n",
       "0       0.0290  136.123   0.0396  2000.0  \n",
       "1       0.0407  117.382   0.8030  2000.0  \n",
       "2       0.3420   89.692   0.4790  2000.0  \n",
       "3       0.1270  165.889   0.5480  2000.0  \n",
       "4       0.0291   78.045   0.1130  2000.0  "
      ]
     },
     "execution_count": 110,
     "metadata": {},
     "output_type": "execute_result"
    }
   ],
   "source": [
    "import pandas as pd\n",
    "import numpy as np\n",
    "import matplotlib.pyplot as plt\n",
    "spotify_population = pd.read_feather(r'./data/spotify_2000_2020.feather')\n",
    "print(spotify_population.shape)\n",
    "spotify_population.head()"
   ]
  },
  {
   "cell_type": "code",
   "execution_count": 111,
   "metadata": {},
   "outputs": [
    {
     "ename": "ModuleNotFoundError",
     "evalue": "No module named 'tabulate'",
     "output_type": "error",
     "traceback": [
      "\u001b[1;31m---------------------------------------------------------------------------\u001b[0m",
      "\u001b[1;31mModuleNotFoundError\u001b[0m                       Traceback (most recent call last)",
      "Input \u001b[1;32mIn [111]\u001b[0m, in \u001b[0;36m<cell line: 2>\u001b[1;34m()\u001b[0m\n\u001b[0;32m      1\u001b[0m \u001b[38;5;28;01mimport\u001b[39;00m \u001b[38;5;21;01mpprint\u001b[39;00m \u001b[38;5;28;01mas\u001b[39;00m \u001b[38;5;21;01mpp\u001b[39;00m\n\u001b[1;32m----> 2\u001b[0m \u001b[38;5;28;01mimport\u001b[39;00m \u001b[38;5;21;01mtabulate\u001b[39;00m\n",
      "\u001b[1;31mModuleNotFoundError\u001b[0m: No module named 'tabulate'"
     ]
    }
   ],
   "source": [
    "import pprint as pp\n",
    "import tabulate"
   ]
  },
  {
   "cell_type": "code",
   "execution_count": null,
   "metadata": {},
   "outputs": [
    {
     "name": "stdout",
     "output_type": "stream",
     "text": [
      "+-------+----------------+----------------------------------------------------------------------------------------+----------------+---------------+--------------------+----------+------------+------------------------+--------------------+-------+------------+------------+--------+--------------------------------+--------------+----------------+---------------+---------+-----------+--------+\n",
      "|       |   acousticness | artists                                                                                |   danceability |   duration_ms |   duration_minutes |   energy |   explicit | id                     |   instrumentalness |   key |   liveness |   loudness |   mode | name                           |   popularity | release_date   |   speechiness |   tempo |   valence |   year |\n",
      "|-------+----------------+----------------------------------------------------------------------------------------+----------------+---------------+--------------------+----------+------------+------------------------+--------------------+-------+------------+------------+--------+--------------------------------+--------------+----------------+---------------+---------+-----------+--------|\n",
      "| 10724 |        0.00313 | ['Chevelle']                                                                           |          0.496 |        343533 |            5.72555 |    0.884 |          0 | 5912VywSVB1xQaSGosKg0t |           0.185    |     8 |     0.166  |     -5.262 |      1 | An Evening with El Diablo      |           38 | 2002           |        0.0969 | 192.158 |     0.305 |   2002 |\n",
      "|   651 |        0.0788  | ['The Cheetah Girls', 'Drew Steely', 'Belinda']                                        |          0.66  |        192147 |            3.20245 |    0.779 |          0 | 2sggS6A5pA0KWaleWsHzmL |           1.48e-06 |     1 |     0.0884 |     -4.938 |      1 | Dance With Me                  |           46 | 2006-01-01     |        0.0437 | 102.964 |     0.341 |   2006 |\n",
      "|  5272 |        0.457   | ['Jerry Rivera']                                                                       |          0.692 |        305293 |            5.08822 |    0.769 |          0 | 0r8RjrJjZ9U3OxZpGsn3v8 |           0.0992   |     0 |     0.0413 |     -7.002 |      1 | Amores como el nuestro (Salsa) |           56 | 2010-11-03     |        0.0499 | 179.353 |     0.603 |   2010 |\n",
      "| 17420 |        0.34    | ['Daryl Hall & John Oates', 'Arif Mardin', 'Chris Bond', 'Jimmy Douglass', 'Lew Hahn'] |          0.515 |        313507 |            5.22512 |    0.46  |          0 | 3xPuV7UDsl96jkfKEr7iGH |           3.66e-05 |     4 |     0.638  |     -9.295 |      1 | She's Gone                     |           38 | 2007-05-22     |        0.0466 |  77.913 |     0.36  |   2007 |\n",
      "| 22594 |        0.138   | ['Lil Skies']                                                                          |          0.718 |        156000 |            2.6     |    0.767 |          1 | 7oJrVhiTPZGBXWPwhxjy9S |           0        |     9 |     0.114  |     -5.641 |      1 | Lust                           |           78 | 2017-12-12     |        0.166  | 160.084 |     0.519 |   2017 |\n",
      "+-------+----------------+----------------------------------------------------------------------------------------+----------------+---------------+--------------------+----------+------------+------------------------+--------------------+-------+------------+------------+--------+--------------------------------+--------------+----------------+---------------+---------+-----------+--------+\n",
      "3.8521519140900073\n",
      "3.81676475\n"
     ]
    }
   ],
   "source": [
    "\n",
    "# Sample 1000 rows from spotify_population\n",
    "spotify_sample = spotify_population.sample(n=1000)\n",
    "\n",
    "# Print the sample\n",
    "print(tabulate.tabulate(spotify_sample.head(), headers='keys', tablefmt='psql'))\n",
    "\n",
    "# Calculate the mean duration in mins from spotify_population\n",
    "mean_dur_pop = spotify_population['duration_minutes'].mean()\n",
    "\n",
    "# Calculate the mean duration in mins from spotify_sample\n",
    "mean_dur_samp = spotify_sample['duration_minutes'].mean()\n",
    "\n",
    "# Print the means\n",
    "print(mean_dur_pop)\n",
    "print(mean_dur_samp)"
   ]
  },
  {
   "cell_type": "code",
   "execution_count": null,
   "metadata": {},
   "outputs": [
    {
     "name": "stdout",
     "output_type": "stream",
     "text": [
      "-7.366856851353947\n",
      "-7.621790000000001\n"
     ]
    }
   ],
   "source": [
    "# Create a pandas Series from the loudness column of spotify_population\n",
    "loudness_pop = spotify_population['loudness']\n",
    "\n",
    "# Sample 100 values of loudness_pop\n",
    "loudness_samp = loudness_pop.sample(n=100)\n",
    "\n",
    "# Calculate the mean of loudness_pop\n",
    "mean_loudness_pop = loudness_pop.mean()\n",
    "\n",
    "# Calculate the mean of loudness_samp\n",
    "mean_loudness_samp = loudness_samp.mean()\n",
    "\n",
    "print(mean_loudness_pop)\n",
    "print(mean_loudness_samp)"
   ]
  },
  {
   "cell_type": "markdown",
   "metadata": {},
   "source": [
    "### Convenience Sampling"
   ]
  },
  {
   "cell_type": "code",
   "execution_count": null,
   "metadata": {},
   "outputs": [
    {
     "data": {
      "image/png": "[encoded data removed]",
      "text/plain": [
       "<Figure size 640x480 with 1 Axes>"
      ]
     },
     "metadata": {},
     "output_type": "display_data"
    }
   ],
   "source": [
    "spotify_population['acousticness'].hist(bins=np.arange(0, 1.01, 0.01))\n",
    "plt.show();"
   ]
  },
  {
   "cell_type": "code",
   "execution_count": null,
   "metadata": {},
   "outputs": [
    {
     "data": {
      "image/png": "[encoded data removed]",
      "text/plain": [
       "<Figure size 640x480 with 1 Axes>"
      ]
     },
     "metadata": {},
     "output_type": "display_data"
    }
   ],
   "source": [
    "# Update the histogram to use spotify_mysterious_sample2\n",
    "spotify_population['duration_minutes'].hist(bins=np.arange(0, 15.5, 0.5))\n",
    "plt.show();"
   ]
  },
  {
   "cell_type": "markdown",
   "metadata": {},
   "source": [
    "### Pseudo-random number generation"
   ]
  },
  {
   "cell_type": "code",
   "execution_count": null,
   "metadata": {},
   "outputs": [
    {
     "name": "stdout",
     "output_type": "stream",
     "text": [
      "[ 1.8903776  -2.05128868 -0.16881283 ... -1.59378423  1.30483117\n",
      "  1.7339723 ]\n"
     ]
    }
   ],
   "source": [
    "# Generate random numbers from a Uniform(-3, 3)\n",
    "uniforms = np.random.uniform(low=-3, high=3, size=5000)\n",
    "\n",
    "# Print uniforms\n",
    "print(uniforms)"
   ]
  },
  {
   "cell_type": "code",
   "execution_count": null,
   "metadata": {},
   "outputs": [
    {
     "name": "stdout",
     "output_type": "stream",
     "text": [
      "[7.4404665  5.20713531 3.46681501 ... 3.99275844 0.9369629  7.55172889]\n"
     ]
    }
   ],
   "source": [
    "# Generate random numbers from a Uniform(-3, 3)\n",
    "uniforms = np.random.uniform(low=-3, high=3, size=5000)\n",
    "\n",
    "# Generate random numbers from a Normal(5, 2)\n",
    "normals = np.random.normal(loc=5, scale=2, size=5000)\n",
    "\n",
    "# Print normals\n",
    "print(normals)"
   ]
  },
  {
   "cell_type": "code",
   "execution_count": null,
   "metadata": {},
   "outputs": [
    {
     "data": {
      "image/png": "[encoded data removed]",
      "text/plain": [
       "<Figure size 640x480 with 1 Axes>"
      ]
     },
     "metadata": {},
     "output_type": "display_data"
    }
   ],
   "source": [
    "# Generate random numbers from a Uniform(-3, 3)\n",
    "uniforms = np.random.uniform(low=-3, high=3, size=5000)\n",
    "\n",
    "# Plot a histogram of uniform values, binwidth 0.25\n",
    "plt.hist(uniforms, bins=np.arange(-3,3.25, 0.25))\n",
    "plt.show();"
   ]
  },
  {
   "cell_type": "code",
   "execution_count": null,
   "metadata": {},
   "outputs": [
    {
     "data": {
      "image/png": "[encoded data removed]",
      "text/plain": [
       "<Figure size 640x480 with 1 Axes>"
      ]
     },
     "metadata": {},
     "output_type": "display_data"
    }
   ],
   "source": [
    "# Generate random numbers from a Normal(5, 2)\n",
    "normals = np.random.normal(loc=5, scale=2, size=5000)\n",
    "\n",
    "# Plot a histogram of normal values, binwidth 0.5\n",
    "plt.hist(normals, np.arange(-2, 13.5, 0.5))\n",
    "plt.show()"
   ]
  },
  {
   "cell_type": "markdown",
   "metadata": {},
   "source": [
    "## Sampling Methods"
   ]
  },
  {
   "cell_type": "markdown",
   "metadata": {},
   "source": [
    "### Simple random and systematic sampling"
   ]
  },
  {
   "cell_type": "code",
   "execution_count": null,
   "metadata": {},
   "outputs": [
    {
     "name": "stdout",
     "output_type": "stream",
     "text": [
      "(1470, 31)\n"
     ]
    },
    {
     "data": {
      "text/html": [
       "<div>\n",
       "<style scoped>\n",
       "    .dataframe tbody tr th:only-of-type {\n",
       "        vertical-align: middle;\n",
       "    }\n",
       "\n",
       "    .dataframe tbody tr th {\n",
       "        vertical-align: top;\n",
       "    }\n",
       "\n",
       "    .dataframe thead th {\n",
       "        text-align: right;\n",
       "    }\n",
       "</style>\n",
       "<table border=\"1\" class=\"dataframe\">\n",
       "  <thead>\n",
       "    <tr style=\"text-align: right;\">\n",
       "      <th></th>\n",
       "      <th>Age</th>\n",
       "      <th>Attrition</th>\n",
       "      <th>BusinessTravel</th>\n",
       "      <th>DailyRate</th>\n",
       "      <th>Department</th>\n",
       "      <th>DistanceFromHome</th>\n",
       "      <th>Education</th>\n",
       "      <th>EducationField</th>\n",
       "      <th>EnvironmentSatisfaction</th>\n",
       "      <th>Gender</th>\n",
       "      <th>...</th>\n",
       "      <th>PerformanceRating</th>\n",
       "      <th>RelationshipSatisfaction</th>\n",
       "      <th>StockOptionLevel</th>\n",
       "      <th>TotalWorkingYears</th>\n",
       "      <th>TrainingTimesLastYear</th>\n",
       "      <th>WorkLifeBalance</th>\n",
       "      <th>YearsAtCompany</th>\n",
       "      <th>YearsInCurrentRole</th>\n",
       "      <th>YearsSinceLastPromotion</th>\n",
       "      <th>YearsWithCurrManager</th>\n",
       "    </tr>\n",
       "  </thead>\n",
       "  <tbody>\n",
       "    <tr>\n",
       "      <th>0</th>\n",
       "      <td>21</td>\n",
       "      <td>0.0</td>\n",
       "      <td>Travel_Rarely</td>\n",
       "      <td>391</td>\n",
       "      <td>Research_Development</td>\n",
       "      <td>15</td>\n",
       "      <td>College</td>\n",
       "      <td>Life_Sciences</td>\n",
       "      <td>High</td>\n",
       "      <td>Male</td>\n",
       "      <td>...</td>\n",
       "      <td>Excellent</td>\n",
       "      <td>Very_High</td>\n",
       "      <td>0</td>\n",
       "      <td>0</td>\n",
       "      <td>6</td>\n",
       "      <td>Better</td>\n",
       "      <td>0</td>\n",
       "      <td>0</td>\n",
       "      <td>0</td>\n",
       "      <td>0</td>\n",
       "    </tr>\n",
       "    <tr>\n",
       "      <th>1</th>\n",
       "      <td>19</td>\n",
       "      <td>1.0</td>\n",
       "      <td>Travel_Rarely</td>\n",
       "      <td>528</td>\n",
       "      <td>Sales</td>\n",
       "      <td>22</td>\n",
       "      <td>Below_College</td>\n",
       "      <td>Marketing</td>\n",
       "      <td>Very_High</td>\n",
       "      <td>Male</td>\n",
       "      <td>...</td>\n",
       "      <td>Excellent</td>\n",
       "      <td>Very_High</td>\n",
       "      <td>0</td>\n",
       "      <td>0</td>\n",
       "      <td>2</td>\n",
       "      <td>Good</td>\n",
       "      <td>0</td>\n",
       "      <td>0</td>\n",
       "      <td>0</td>\n",
       "      <td>0</td>\n",
       "    </tr>\n",
       "    <tr>\n",
       "      <th>2</th>\n",
       "      <td>18</td>\n",
       "      <td>1.0</td>\n",
       "      <td>Travel_Rarely</td>\n",
       "      <td>230</td>\n",
       "      <td>Research_Development</td>\n",
       "      <td>3</td>\n",
       "      <td>Bachelor</td>\n",
       "      <td>Life_Sciences</td>\n",
       "      <td>High</td>\n",
       "      <td>Male</td>\n",
       "      <td>...</td>\n",
       "      <td>Excellent</td>\n",
       "      <td>High</td>\n",
       "      <td>0</td>\n",
       "      <td>0</td>\n",
       "      <td>2</td>\n",
       "      <td>Better</td>\n",
       "      <td>0</td>\n",
       "      <td>0</td>\n",
       "      <td>0</td>\n",
       "      <td>0</td>\n",
       "    </tr>\n",
       "    <tr>\n",
       "      <th>3</th>\n",
       "      <td>18</td>\n",
       "      <td>0.0</td>\n",
       "      <td>Travel_Rarely</td>\n",
       "      <td>812</td>\n",
       "      <td>Sales</td>\n",
       "      <td>10</td>\n",
       "      <td>Bachelor</td>\n",
       "      <td>Medical</td>\n",
       "      <td>Very_High</td>\n",
       "      <td>Female</td>\n",
       "      <td>...</td>\n",
       "      <td>Excellent</td>\n",
       "      <td>Low</td>\n",
       "      <td>0</td>\n",
       "      <td>0</td>\n",
       "      <td>2</td>\n",
       "      <td>Better</td>\n",
       "      <td>0</td>\n",
       "      <td>0</td>\n",
       "      <td>0</td>\n",
       "      <td>0</td>\n",
       "    </tr>\n",
       "    <tr>\n",
       "      <th>4</th>\n",
       "      <td>18</td>\n",
       "      <td>1.0</td>\n",
       "      <td>Travel_Frequently</td>\n",
       "      <td>1306</td>\n",
       "      <td>Sales</td>\n",
       "      <td>5</td>\n",
       "      <td>Bachelor</td>\n",
       "      <td>Marketing</td>\n",
       "      <td>Medium</td>\n",
       "      <td>Male</td>\n",
       "      <td>...</td>\n",
       "      <td>Excellent</td>\n",
       "      <td>Very_High</td>\n",
       "      <td>0</td>\n",
       "      <td>0</td>\n",
       "      <td>3</td>\n",
       "      <td>Better</td>\n",
       "      <td>0</td>\n",
       "      <td>0</td>\n",
       "      <td>0</td>\n",
       "      <td>0</td>\n",
       "    </tr>\n",
       "  </tbody>\n",
       "</table>\n",
       "<p>5 rows × 31 columns</p>\n",
       "</div>"
      ],
      "text/plain": [
       "   Age  Attrition     BusinessTravel  DailyRate            Department  \\\n",
       "0   21        0.0      Travel_Rarely        391  Research_Development   \n",
       "1   19        1.0      Travel_Rarely        528                 Sales   \n",
       "2   18        1.0      Travel_Rarely        230  Research_Development   \n",
       "3   18        0.0      Travel_Rarely        812                 Sales   \n",
       "4   18        1.0  Travel_Frequently       1306                 Sales   \n",
       "\n",
       "   DistanceFromHome      Education EducationField EnvironmentSatisfaction  \\\n",
       "0                15        College  Life_Sciences                    High   \n",
       "1                22  Below_College      Marketing               Very_High   \n",
       "2                 3       Bachelor  Life_Sciences                    High   \n",
       "3                10       Bachelor        Medical               Very_High   \n",
       "4                 5       Bachelor      Marketing                  Medium   \n",
       "\n",
       "   Gender  ...  PerformanceRating RelationshipSatisfaction  StockOptionLevel  \\\n",
       "0    Male  ...          Excellent                Very_High                 0   \n",
       "1    Male  ...          Excellent                Very_High                 0   \n",
       "2    Male  ...          Excellent                     High                 0   \n",
       "3  Female  ...          Excellent                      Low                 0   \n",
       "4    Male  ...          Excellent                Very_High                 0   \n",
       "\n",
       "  TotalWorkingYears TrainingTimesLastYear WorkLifeBalance  YearsAtCompany  \\\n",
       "0                 0                     6          Better               0   \n",
       "1                 0                     2            Good               0   \n",
       "2                 0                     2          Better               0   \n",
       "3                 0                     2          Better               0   \n",
       "4                 0                     3          Better               0   \n",
       "\n",
       "   YearsInCurrentRole  YearsSinceLastPromotion YearsWithCurrManager  \n",
       "0                   0                        0                    0  \n",
       "1                   0                        0                    0  \n",
       "2                   0                        0                    0  \n",
       "3                   0                        0                    0  \n",
       "4                   0                        0                    0  \n",
       "\n",
       "[5 rows x 31 columns]"
      ]
     },
     "execution_count": 19,
     "metadata": {},
     "output_type": "execute_result"
    }
   ],
   "source": [
    "attrition = pd.read_feather(r'./data/attrition.feather')\n",
    "print(attrition.shape)\n",
    "attrition.head()"
   ]
  },
  {
   "cell_type": "code",
   "execution_count": null,
   "metadata": {},
   "outputs": [
    {
     "name": "stdout",
     "output_type": "stream",
     "text": [
      "(70, 31)\n"
     ]
    },
    {
     "data": {
      "text/html": [
       "<div>\n",
       "<style scoped>\n",
       "    .dataframe tbody tr th:only-of-type {\n",
       "        vertical-align: middle;\n",
       "    }\n",
       "\n",
       "    .dataframe tbody tr th {\n",
       "        vertical-align: top;\n",
       "    }\n",
       "\n",
       "    .dataframe thead th {\n",
       "        text-align: right;\n",
       "    }\n",
       "</style>\n",
       "<table border=\"1\" class=\"dataframe\">\n",
       "  <thead>\n",
       "    <tr style=\"text-align: right;\">\n",
       "      <th></th>\n",
       "      <th>Age</th>\n",
       "      <th>Attrition</th>\n",
       "      <th>BusinessTravel</th>\n",
       "      <th>DailyRate</th>\n",
       "      <th>Department</th>\n",
       "      <th>DistanceFromHome</th>\n",
       "      <th>Education</th>\n",
       "      <th>EducationField</th>\n",
       "      <th>EnvironmentSatisfaction</th>\n",
       "      <th>Gender</th>\n",
       "      <th>...</th>\n",
       "      <th>PerformanceRating</th>\n",
       "      <th>RelationshipSatisfaction</th>\n",
       "      <th>StockOptionLevel</th>\n",
       "      <th>TotalWorkingYears</th>\n",
       "      <th>TrainingTimesLastYear</th>\n",
       "      <th>WorkLifeBalance</th>\n",
       "      <th>YearsAtCompany</th>\n",
       "      <th>YearsInCurrentRole</th>\n",
       "      <th>YearsSinceLastPromotion</th>\n",
       "      <th>YearsWithCurrManager</th>\n",
       "    </tr>\n",
       "  </thead>\n",
       "  <tbody>\n",
       "    <tr>\n",
       "      <th>1134</th>\n",
       "      <td>35</td>\n",
       "      <td>0.0</td>\n",
       "      <td>Travel_Rarely</td>\n",
       "      <td>583</td>\n",
       "      <td>Research_Development</td>\n",
       "      <td>25</td>\n",
       "      <td>Master</td>\n",
       "      <td>Medical</td>\n",
       "      <td>High</td>\n",
       "      <td>Female</td>\n",
       "      <td>...</td>\n",
       "      <td>Excellent</td>\n",
       "      <td>High</td>\n",
       "      <td>1</td>\n",
       "      <td>16</td>\n",
       "      <td>3</td>\n",
       "      <td>Good</td>\n",
       "      <td>16</td>\n",
       "      <td>10</td>\n",
       "      <td>10</td>\n",
       "      <td>1</td>\n",
       "    </tr>\n",
       "    <tr>\n",
       "      <th>1150</th>\n",
       "      <td>52</td>\n",
       "      <td>0.0</td>\n",
       "      <td>Non-Travel</td>\n",
       "      <td>585</td>\n",
       "      <td>Sales</td>\n",
       "      <td>29</td>\n",
       "      <td>Master</td>\n",
       "      <td>Life_Sciences</td>\n",
       "      <td>Low</td>\n",
       "      <td>Male</td>\n",
       "      <td>...</td>\n",
       "      <td>Excellent</td>\n",
       "      <td>Medium</td>\n",
       "      <td>2</td>\n",
       "      <td>16</td>\n",
       "      <td>3</td>\n",
       "      <td>Good</td>\n",
       "      <td>9</td>\n",
       "      <td>8</td>\n",
       "      <td>0</td>\n",
       "      <td>0</td>\n",
       "    </tr>\n",
       "    <tr>\n",
       "      <th>531</th>\n",
       "      <td>33</td>\n",
       "      <td>0.0</td>\n",
       "      <td>Travel_Rarely</td>\n",
       "      <td>931</td>\n",
       "      <td>Research_Development</td>\n",
       "      <td>14</td>\n",
       "      <td>Bachelor</td>\n",
       "      <td>Medical</td>\n",
       "      <td>Very_High</td>\n",
       "      <td>Female</td>\n",
       "      <td>...</td>\n",
       "      <td>Excellent</td>\n",
       "      <td>Very_High</td>\n",
       "      <td>1</td>\n",
       "      <td>8</td>\n",
       "      <td>5</td>\n",
       "      <td>Better</td>\n",
       "      <td>8</td>\n",
       "      <td>7</td>\n",
       "      <td>1</td>\n",
       "      <td>6</td>\n",
       "    </tr>\n",
       "    <tr>\n",
       "      <th>395</th>\n",
       "      <td>31</td>\n",
       "      <td>0.0</td>\n",
       "      <td>Travel_Rarely</td>\n",
       "      <td>1332</td>\n",
       "      <td>Research_Development</td>\n",
       "      <td>11</td>\n",
       "      <td>College</td>\n",
       "      <td>Medical</td>\n",
       "      <td>High</td>\n",
       "      <td>Male</td>\n",
       "      <td>...</td>\n",
       "      <td>Excellent</td>\n",
       "      <td>Very_High</td>\n",
       "      <td>0</td>\n",
       "      <td>6</td>\n",
       "      <td>2</td>\n",
       "      <td>Good</td>\n",
       "      <td>6</td>\n",
       "      <td>5</td>\n",
       "      <td>0</td>\n",
       "      <td>1</td>\n",
       "    </tr>\n",
       "    <tr>\n",
       "      <th>392</th>\n",
       "      <td>29</td>\n",
       "      <td>0.0</td>\n",
       "      <td>Travel_Rarely</td>\n",
       "      <td>942</td>\n",
       "      <td>Research_Development</td>\n",
       "      <td>15</td>\n",
       "      <td>Below_College</td>\n",
       "      <td>Life_Sciences</td>\n",
       "      <td>Medium</td>\n",
       "      <td>Female</td>\n",
       "      <td>...</td>\n",
       "      <td>Excellent</td>\n",
       "      <td>Low</td>\n",
       "      <td>1</td>\n",
       "      <td>6</td>\n",
       "      <td>2</td>\n",
       "      <td>Good</td>\n",
       "      <td>5</td>\n",
       "      <td>4</td>\n",
       "      <td>1</td>\n",
       "      <td>3</td>\n",
       "    </tr>\n",
       "  </tbody>\n",
       "</table>\n",
       "<p>5 rows × 31 columns</p>\n",
       "</div>"
      ],
      "text/plain": [
       "      Age  Attrition BusinessTravel  DailyRate            Department  \\\n",
       "1134   35        0.0  Travel_Rarely        583  Research_Development   \n",
       "1150   52        0.0     Non-Travel        585                 Sales   \n",
       "531    33        0.0  Travel_Rarely        931  Research_Development   \n",
       "395    31        0.0  Travel_Rarely       1332  Research_Development   \n",
       "392    29        0.0  Travel_Rarely        942  Research_Development   \n",
       "\n",
       "      DistanceFromHome      Education EducationField EnvironmentSatisfaction  \\\n",
       "1134                25         Master        Medical                    High   \n",
       "1150                29         Master  Life_Sciences                     Low   \n",
       "531                 14       Bachelor        Medical               Very_High   \n",
       "395                 11        College        Medical                    High   \n",
       "392                 15  Below_College  Life_Sciences                  Medium   \n",
       "\n",
       "      Gender  ...  PerformanceRating RelationshipSatisfaction  \\\n",
       "1134  Female  ...          Excellent                     High   \n",
       "1150    Male  ...          Excellent                   Medium   \n",
       "531   Female  ...          Excellent                Very_High   \n",
       "395     Male  ...          Excellent                Very_High   \n",
       "392   Female  ...          Excellent                      Low   \n",
       "\n",
       "      StockOptionLevel TotalWorkingYears TrainingTimesLastYear  \\\n",
       "1134                 1                16                     3   \n",
       "1150                 2                16                     3   \n",
       "531                  1                 8                     5   \n",
       "395                  0                 6                     2   \n",
       "392                  1                 6                     2   \n",
       "\n",
       "     WorkLifeBalance  YearsAtCompany  YearsInCurrentRole  \\\n",
       "1134            Good              16                  10   \n",
       "1150            Good               9                   8   \n",
       "531           Better               8                   7   \n",
       "395             Good               6                   5   \n",
       "392             Good               5                   4   \n",
       "\n",
       "      YearsSinceLastPromotion YearsWithCurrManager  \n",
       "1134                       10                    1  \n",
       "1150                        0                    0  \n",
       "531                         1                    6  \n",
       "395                         0                    1  \n",
       "392                         1                    3  \n",
       "\n",
       "[5 rows x 31 columns]"
      ]
     },
     "execution_count": 23,
     "metadata": {},
     "output_type": "execute_result"
    }
   ],
   "source": [
    "# Sample 70 rows using simple random sampling and set the seed\n",
    "attrition_samp = attrition.sample(n=70, random_state=18900217)\n",
    "\n",
    "# Print the sample\n",
    "print(attrition_samp.shape)\n",
    "attrition_samp.head()"
   ]
  },
  {
   "cell_type": "code",
   "execution_count": null,
   "metadata": {},
   "outputs": [
    {
     "name": "stdout",
     "output_type": "stream",
     "text": [
      "(70, 31)\n"
     ]
    },
    {
     "data": {
      "text/html": [
       "<div>\n",
       "<style scoped>\n",
       "    .dataframe tbody tr th:only-of-type {\n",
       "        vertical-align: middle;\n",
       "    }\n",
       "\n",
       "    .dataframe tbody tr th {\n",
       "        vertical-align: top;\n",
       "    }\n",
       "\n",
       "    .dataframe thead th {\n",
       "        text-align: right;\n",
       "    }\n",
       "</style>\n",
       "<table border=\"1\" class=\"dataframe\">\n",
       "  <thead>\n",
       "    <tr style=\"text-align: right;\">\n",
       "      <th></th>\n",
       "      <th>Age</th>\n",
       "      <th>Attrition</th>\n",
       "      <th>BusinessTravel</th>\n",
       "      <th>DailyRate</th>\n",
       "      <th>Department</th>\n",
       "      <th>DistanceFromHome</th>\n",
       "      <th>Education</th>\n",
       "      <th>EducationField</th>\n",
       "      <th>EnvironmentSatisfaction</th>\n",
       "      <th>Gender</th>\n",
       "      <th>...</th>\n",
       "      <th>PerformanceRating</th>\n",
       "      <th>RelationshipSatisfaction</th>\n",
       "      <th>StockOptionLevel</th>\n",
       "      <th>TotalWorkingYears</th>\n",
       "      <th>TrainingTimesLastYear</th>\n",
       "      <th>WorkLifeBalance</th>\n",
       "      <th>YearsAtCompany</th>\n",
       "      <th>YearsInCurrentRole</th>\n",
       "      <th>YearsSinceLastPromotion</th>\n",
       "      <th>YearsWithCurrManager</th>\n",
       "    </tr>\n",
       "  </thead>\n",
       "  <tbody>\n",
       "    <tr>\n",
       "      <th>0</th>\n",
       "      <td>21</td>\n",
       "      <td>0.0</td>\n",
       "      <td>Travel_Rarely</td>\n",
       "      <td>391</td>\n",
       "      <td>Research_Development</td>\n",
       "      <td>15</td>\n",
       "      <td>College</td>\n",
       "      <td>Life_Sciences</td>\n",
       "      <td>High</td>\n",
       "      <td>Male</td>\n",
       "      <td>...</td>\n",
       "      <td>Excellent</td>\n",
       "      <td>Very_High</td>\n",
       "      <td>0</td>\n",
       "      <td>0</td>\n",
       "      <td>6</td>\n",
       "      <td>Better</td>\n",
       "      <td>0</td>\n",
       "      <td>0</td>\n",
       "      <td>0</td>\n",
       "      <td>0</td>\n",
       "    </tr>\n",
       "    <tr>\n",
       "      <th>21</th>\n",
       "      <td>19</td>\n",
       "      <td>0.0</td>\n",
       "      <td>Travel_Rarely</td>\n",
       "      <td>1181</td>\n",
       "      <td>Research_Development</td>\n",
       "      <td>3</td>\n",
       "      <td>Below_College</td>\n",
       "      <td>Medical</td>\n",
       "      <td>Medium</td>\n",
       "      <td>Female</td>\n",
       "      <td>...</td>\n",
       "      <td>Excellent</td>\n",
       "      <td>Very_High</td>\n",
       "      <td>0</td>\n",
       "      <td>1</td>\n",
       "      <td>3</td>\n",
       "      <td>Better</td>\n",
       "      <td>1</td>\n",
       "      <td>0</td>\n",
       "      <td>0</td>\n",
       "      <td>0</td>\n",
       "    </tr>\n",
       "    <tr>\n",
       "      <th>42</th>\n",
       "      <td>45</td>\n",
       "      <td>0.0</td>\n",
       "      <td>Travel_Rarely</td>\n",
       "      <td>252</td>\n",
       "      <td>Research_Development</td>\n",
       "      <td>2</td>\n",
       "      <td>Bachelor</td>\n",
       "      <td>Life_Sciences</td>\n",
       "      <td>Medium</td>\n",
       "      <td>Female</td>\n",
       "      <td>...</td>\n",
       "      <td>Excellent</td>\n",
       "      <td>Very_High</td>\n",
       "      <td>0</td>\n",
       "      <td>1</td>\n",
       "      <td>3</td>\n",
       "      <td>Better</td>\n",
       "      <td>1</td>\n",
       "      <td>0</td>\n",
       "      <td>0</td>\n",
       "      <td>0</td>\n",
       "    </tr>\n",
       "    <tr>\n",
       "      <th>63</th>\n",
       "      <td>23</td>\n",
       "      <td>0.0</td>\n",
       "      <td>Travel_Rarely</td>\n",
       "      <td>373</td>\n",
       "      <td>Research_Development</td>\n",
       "      <td>1</td>\n",
       "      <td>College</td>\n",
       "      <td>Life_Sciences</td>\n",
       "      <td>Very_High</td>\n",
       "      <td>Male</td>\n",
       "      <td>...</td>\n",
       "      <td>Outstanding</td>\n",
       "      <td>Very_High</td>\n",
       "      <td>1</td>\n",
       "      <td>1</td>\n",
       "      <td>2</td>\n",
       "      <td>Better</td>\n",
       "      <td>1</td>\n",
       "      <td>0</td>\n",
       "      <td>0</td>\n",
       "      <td>1</td>\n",
       "    </tr>\n",
       "    <tr>\n",
       "      <th>84</th>\n",
       "      <td>30</td>\n",
       "      <td>1.0</td>\n",
       "      <td>Travel_Rarely</td>\n",
       "      <td>945</td>\n",
       "      <td>Sales</td>\n",
       "      <td>9</td>\n",
       "      <td>Bachelor</td>\n",
       "      <td>Medical</td>\n",
       "      <td>Medium</td>\n",
       "      <td>Male</td>\n",
       "      <td>...</td>\n",
       "      <td>Excellent</td>\n",
       "      <td>High</td>\n",
       "      <td>0</td>\n",
       "      <td>1</td>\n",
       "      <td>3</td>\n",
       "      <td>Good</td>\n",
       "      <td>1</td>\n",
       "      <td>0</td>\n",
       "      <td>0</td>\n",
       "      <td>0</td>\n",
       "    </tr>\n",
       "  </tbody>\n",
       "</table>\n",
       "<p>5 rows × 31 columns</p>\n",
       "</div>"
      ],
      "text/plain": [
       "    Age  Attrition BusinessTravel  DailyRate            Department  \\\n",
       "0    21        0.0  Travel_Rarely        391  Research_Development   \n",
       "21   19        0.0  Travel_Rarely       1181  Research_Development   \n",
       "42   45        0.0  Travel_Rarely        252  Research_Development   \n",
       "63   23        0.0  Travel_Rarely        373  Research_Development   \n",
       "84   30        1.0  Travel_Rarely        945                 Sales   \n",
       "\n",
       "    DistanceFromHome      Education EducationField EnvironmentSatisfaction  \\\n",
       "0                 15        College  Life_Sciences                    High   \n",
       "21                 3  Below_College        Medical                  Medium   \n",
       "42                 2       Bachelor  Life_Sciences                  Medium   \n",
       "63                 1        College  Life_Sciences               Very_High   \n",
       "84                 9       Bachelor        Medical                  Medium   \n",
       "\n",
       "    Gender  ...  PerformanceRating RelationshipSatisfaction  StockOptionLevel  \\\n",
       "0     Male  ...          Excellent                Very_High                 0   \n",
       "21  Female  ...          Excellent                Very_High                 0   \n",
       "42  Female  ...          Excellent                Very_High                 0   \n",
       "63    Male  ...        Outstanding                Very_High                 1   \n",
       "84    Male  ...          Excellent                     High                 0   \n",
       "\n",
       "   TotalWorkingYears TrainingTimesLastYear WorkLifeBalance  YearsAtCompany  \\\n",
       "0                  0                     6          Better               0   \n",
       "21                 1                     3          Better               1   \n",
       "42                 1                     3          Better               1   \n",
       "63                 1                     2          Better               1   \n",
       "84                 1                     3            Good               1   \n",
       "\n",
       "    YearsInCurrentRole  YearsSinceLastPromotion YearsWithCurrManager  \n",
       "0                    0                        0                    0  \n",
       "21                   0                        0                    0  \n",
       "42                   0                        0                    0  \n",
       "63                   0                        0                    1  \n",
       "84                   0                        0                    0  \n",
       "\n",
       "[5 rows x 31 columns]"
      ]
     },
     "execution_count": 24,
     "metadata": {},
     "output_type": "execute_result"
    }
   ],
   "source": [
    "# Set the sample size to 70\n",
    "sample_size = 70\n",
    "\n",
    "# Calculate the population size from attrition\n",
    "pop_size = len(attrition)\n",
    "\n",
    "# Calculate the interval\n",
    "interval = pop_size // sample_size\n",
    "\n",
    "# Systematically sample 70 rows\n",
    "attrition_sys_samp = attrition.iloc[::interval]\n",
    "\n",
    "# Print the sample\n",
    "print(attrition_sys_samp.shape)\n",
    "attrition_sys_samp.head()"
   ]
  },
  {
   "cell_type": "code",
   "execution_count": null,
   "metadata": {},
   "outputs": [
    {
     "data": {
      "image/png": "[encoded data removed]",
      "text/plain": [
       "<Figure size 432x288 with 1 Axes>"
      ]
     },
     "metadata": {
      "needs_background": "light"
     },
     "output_type": "display_data"
    }
   ],
   "source": [
    "# Add an index column to attrition\n",
    "attrition_id = attrition.reset_index()\n",
    "\n",
    "# Plot YearsAtCompany vs. index for attrition_id\n",
    "attrition_id.plot(x='index', y='YearsAtCompany', kind='scatter')\n",
    "plt.show();"
   ]
  },
  {
   "cell_type": "code",
   "execution_count": null,
   "metadata": {},
   "outputs": [
    {
     "data": {
      "image/png": "[encoded data removed]",
      "text/plain": [
       "<Figure size 432x288 with 1 Axes>"
      ]
     },
     "metadata": {
      "needs_background": "light"
     },
     "output_type": "display_data"
    }
   ],
   "source": [
    "# Shuffle the rows of attrition\n",
    "attrition_shuffled = attrition.sample(frac=1)\n",
    "\n",
    "# Reset the row indexes and create an index column\n",
    "attrition_shuffled = attrition_shuffled.reset_index(drop=True).reset_index()\n",
    "\n",
    "# Plot YearsAtCompany vs. index for attrition_shuffled\n",
    "attrition_shuffled.plot(x='index', y='YearsAtCompany', kind='scatter')\n",
    "plt.show()"
   ]
  },
  {
   "cell_type": "markdown",
   "metadata": {},
   "source": [
    "### Stratified and weighted random sampling"
   ]
  },
  {
   "cell_type": "code",
   "execution_count": null,
   "metadata": {},
   "outputs": [
    {
     "name": "stdout",
     "output_type": "stream",
     "text": [
      "(1338, 43)\n"
     ]
    },
    {
     "data": {
      "text/html": [
       "<div>\n",
       "<style scoped>\n",
       "    .dataframe tbody tr th:only-of-type {\n",
       "        vertical-align: middle;\n",
       "    }\n",
       "\n",
       "    .dataframe tbody tr th {\n",
       "        vertical-align: top;\n",
       "    }\n",
       "\n",
       "    .dataframe thead th {\n",
       "        text-align: right;\n",
       "    }\n",
       "</style>\n",
       "<table border=\"1\" class=\"dataframe\">\n",
       "  <thead>\n",
       "    <tr style=\"text-align: right;\">\n",
       "      <th></th>\n",
       "      <th>total_cup_points</th>\n",
       "      <th>species</th>\n",
       "      <th>owner</th>\n",
       "      <th>country_of_origin</th>\n",
       "      <th>farm_name</th>\n",
       "      <th>lot_number</th>\n",
       "      <th>mill</th>\n",
       "      <th>ico_number</th>\n",
       "      <th>company</th>\n",
       "      <th>altitude</th>\n",
       "      <th>...</th>\n",
       "      <th>color</th>\n",
       "      <th>category_two_defects</th>\n",
       "      <th>expiration</th>\n",
       "      <th>certification_body</th>\n",
       "      <th>certification_address</th>\n",
       "      <th>certification_contact</th>\n",
       "      <th>unit_of_measurement</th>\n",
       "      <th>altitude_low_meters</th>\n",
       "      <th>altitude_high_meters</th>\n",
       "      <th>altitude_mean_meters</th>\n",
       "    </tr>\n",
       "  </thead>\n",
       "  <tbody>\n",
       "    <tr>\n",
       "      <th>0</th>\n",
       "      <td>90.58</td>\n",
       "      <td>Arabica</td>\n",
       "      <td>metad plc</td>\n",
       "      <td>Ethiopia</td>\n",
       "      <td>metad plc</td>\n",
       "      <td>None</td>\n",
       "      <td>metad plc</td>\n",
       "      <td>2014/2015</td>\n",
       "      <td>metad agricultural developmet plc</td>\n",
       "      <td>1950-2200</td>\n",
       "      <td>...</td>\n",
       "      <td>Green</td>\n",
       "      <td>0.0</td>\n",
       "      <td>April 3rd, 2016</td>\n",
       "      <td>METAD Agricultural Development plc</td>\n",
       "      <td>309fcf77415a3661ae83e027f7e5f05dad786e44</td>\n",
       "      <td>19fef5a731de2db57d16da10287413f5f99bc2dd</td>\n",
       "      <td>m</td>\n",
       "      <td>1950.0</td>\n",
       "      <td>2200.0</td>\n",
       "      <td>2075.0</td>\n",
       "    </tr>\n",
       "    <tr>\n",
       "      <th>1</th>\n",
       "      <td>89.92</td>\n",
       "      <td>Arabica</td>\n",
       "      <td>metad plc</td>\n",
       "      <td>Ethiopia</td>\n",
       "      <td>metad plc</td>\n",
       "      <td>None</td>\n",
       "      <td>metad plc</td>\n",
       "      <td>2014/2015</td>\n",
       "      <td>metad agricultural developmet plc</td>\n",
       "      <td>1950-2200</td>\n",
       "      <td>...</td>\n",
       "      <td>Green</td>\n",
       "      <td>1.0</td>\n",
       "      <td>April 3rd, 2016</td>\n",
       "      <td>METAD Agricultural Development plc</td>\n",
       "      <td>309fcf77415a3661ae83e027f7e5f05dad786e44</td>\n",
       "      <td>19fef5a731de2db57d16da10287413f5f99bc2dd</td>\n",
       "      <td>m</td>\n",
       "      <td>1950.0</td>\n",
       "      <td>2200.0</td>\n",
       "      <td>2075.0</td>\n",
       "    </tr>\n",
       "    <tr>\n",
       "      <th>2</th>\n",
       "      <td>89.75</td>\n",
       "      <td>Arabica</td>\n",
       "      <td>grounds for health admin</td>\n",
       "      <td>Guatemala</td>\n",
       "      <td>san marcos barrancas \"san cristobal cuch</td>\n",
       "      <td>None</td>\n",
       "      <td>None</td>\n",
       "      <td>None</td>\n",
       "      <td>None</td>\n",
       "      <td>1600 - 1800 m</td>\n",
       "      <td>...</td>\n",
       "      <td>None</td>\n",
       "      <td>0.0</td>\n",
       "      <td>May 31st, 2011</td>\n",
       "      <td>Specialty Coffee Association</td>\n",
       "      <td>36d0d00a3724338ba7937c52a378d085f2172daa</td>\n",
       "      <td>0878a7d4b9d35ddbf0fe2ce69a2062cceb45a660</td>\n",
       "      <td>m</td>\n",
       "      <td>1600.0</td>\n",
       "      <td>1800.0</td>\n",
       "      <td>1700.0</td>\n",
       "    </tr>\n",
       "  </tbody>\n",
       "</table>\n",
       "<p>3 rows × 43 columns</p>\n",
       "</div>"
      ],
      "text/plain": [
       "   total_cup_points  species                     owner country_of_origin  \\\n",
       "0             90.58  Arabica                 metad plc          Ethiopia   \n",
       "1             89.92  Arabica                 metad plc          Ethiopia   \n",
       "2             89.75  Arabica  grounds for health admin         Guatemala   \n",
       "\n",
       "                                  farm_name lot_number       mill ico_number  \\\n",
       "0                                 metad plc       None  metad plc  2014/2015   \n",
       "1                                 metad plc       None  metad plc  2014/2015   \n",
       "2  san marcos barrancas \"san cristobal cuch       None       None       None   \n",
       "\n",
       "                             company       altitude  ...  color  \\\n",
       "0  metad agricultural developmet plc      1950-2200  ...  Green   \n",
       "1  metad agricultural developmet plc      1950-2200  ...  Green   \n",
       "2                               None  1600 - 1800 m  ...   None   \n",
       "\n",
       "  category_two_defects       expiration                  certification_body  \\\n",
       "0                  0.0  April 3rd, 2016  METAD Agricultural Development plc   \n",
       "1                  1.0  April 3rd, 2016  METAD Agricultural Development plc   \n",
       "2                  0.0   May 31st, 2011        Specialty Coffee Association   \n",
       "\n",
       "                      certification_address  \\\n",
       "0  309fcf77415a3661ae83e027f7e5f05dad786e44   \n",
       "1  309fcf77415a3661ae83e027f7e5f05dad786e44   \n",
       "2  36d0d00a3724338ba7937c52a378d085f2172daa   \n",
       "\n",
       "                      certification_contact unit_of_measurement  \\\n",
       "0  19fef5a731de2db57d16da10287413f5f99bc2dd                   m   \n",
       "1  19fef5a731de2db57d16da10287413f5f99bc2dd                   m   \n",
       "2  0878a7d4b9d35ddbf0fe2ce69a2062cceb45a660                   m   \n",
       "\n",
       "  altitude_low_meters altitude_high_meters altitude_mean_meters  \n",
       "0              1950.0               2200.0               2075.0  \n",
       "1              1950.0               2200.0               2075.0  \n",
       "2              1600.0               1800.0               1700.0  \n",
       "\n",
       "[3 rows x 43 columns]"
      ]
     },
     "execution_count": 28,
     "metadata": {},
     "output_type": "execute_result"
    }
   ],
   "source": [
    "coffee = pd.read_feather(r'./data/coffee_ratings_full.feather')\n",
    "print(coffee.shape)\n",
    "coffee.head(3)"
   ]
  },
  {
   "cell_type": "code",
   "execution_count": null,
   "metadata": {},
   "outputs": [
    {
     "data": {
      "text/plain": [
       "Bachelor         0.389116\n",
       "Master           0.270748\n",
       "College          0.191837\n",
       "Below_College    0.115646\n",
       "Doctor           0.032653\n",
       "Name: Education, dtype: float64"
      ]
     },
     "execution_count": 32,
     "metadata": {},
     "output_type": "execute_result"
    }
   ],
   "source": [
    "# Proportion of employees by Education level\n",
    "attrition['Education'].value_counts(normalize=True)"
   ]
  },
  {
   "cell_type": "code",
   "execution_count": null,
   "metadata": {},
   "outputs": [
    {
     "data": {
      "text/html": [
       "<div>\n",
       "<style scoped>\n",
       "    .dataframe tbody tr th:only-of-type {\n",
       "        vertical-align: middle;\n",
       "    }\n",
       "\n",
       "    .dataframe tbody tr th {\n",
       "        vertical-align: top;\n",
       "    }\n",
       "\n",
       "    .dataframe thead th {\n",
       "        text-align: right;\n",
       "    }\n",
       "</style>\n",
       "<table border=\"1\" class=\"dataframe\">\n",
       "  <thead>\n",
       "    <tr style=\"text-align: right;\">\n",
       "      <th></th>\n",
       "      <th>Age</th>\n",
       "      <th>Attrition</th>\n",
       "      <th>BusinessTravel</th>\n",
       "      <th>DailyRate</th>\n",
       "      <th>Department</th>\n",
       "      <th>DistanceFromHome</th>\n",
       "      <th>Education</th>\n",
       "      <th>EducationField</th>\n",
       "      <th>EnvironmentSatisfaction</th>\n",
       "      <th>Gender</th>\n",
       "      <th>...</th>\n",
       "      <th>PerformanceRating</th>\n",
       "      <th>RelationshipSatisfaction</th>\n",
       "      <th>StockOptionLevel</th>\n",
       "      <th>TotalWorkingYears</th>\n",
       "      <th>TrainingTimesLastYear</th>\n",
       "      <th>WorkLifeBalance</th>\n",
       "      <th>YearsAtCompany</th>\n",
       "      <th>YearsInCurrentRole</th>\n",
       "      <th>YearsSinceLastPromotion</th>\n",
       "      <th>YearsWithCurrManager</th>\n",
       "    </tr>\n",
       "  </thead>\n",
       "  <tbody>\n",
       "    <tr>\n",
       "      <th>1191</th>\n",
       "      <td>53</td>\n",
       "      <td>0.0</td>\n",
       "      <td>Travel_Rarely</td>\n",
       "      <td>238</td>\n",
       "      <td>Sales</td>\n",
       "      <td>1</td>\n",
       "      <td>Below_College</td>\n",
       "      <td>Medical</td>\n",
       "      <td>Very_High</td>\n",
       "      <td>Female</td>\n",
       "      <td>...</td>\n",
       "      <td>Outstanding</td>\n",
       "      <td>Very_High</td>\n",
       "      <td>0</td>\n",
       "      <td>18</td>\n",
       "      <td>2</td>\n",
       "      <td>Best</td>\n",
       "      <td>14</td>\n",
       "      <td>7</td>\n",
       "      <td>8</td>\n",
       "      <td>10</td>\n",
       "    </tr>\n",
       "    <tr>\n",
       "      <th>407</th>\n",
       "      <td>29</td>\n",
       "      <td>0.0</td>\n",
       "      <td>Travel_Frequently</td>\n",
       "      <td>995</td>\n",
       "      <td>Research_Development</td>\n",
       "      <td>2</td>\n",
       "      <td>Below_College</td>\n",
       "      <td>Life_Sciences</td>\n",
       "      <td>Low</td>\n",
       "      <td>Male</td>\n",
       "      <td>...</td>\n",
       "      <td>Excellent</td>\n",
       "      <td>Very_High</td>\n",
       "      <td>1</td>\n",
       "      <td>6</td>\n",
       "      <td>0</td>\n",
       "      <td>Best</td>\n",
       "      <td>6</td>\n",
       "      <td>4</td>\n",
       "      <td>1</td>\n",
       "      <td>3</td>\n",
       "    </tr>\n",
       "    <tr>\n",
       "      <th>1233</th>\n",
       "      <td>59</td>\n",
       "      <td>0.0</td>\n",
       "      <td>Travel_Frequently</td>\n",
       "      <td>1225</td>\n",
       "      <td>Sales</td>\n",
       "      <td>1</td>\n",
       "      <td>Below_College</td>\n",
       "      <td>Life_Sciences</td>\n",
       "      <td>Low</td>\n",
       "      <td>Female</td>\n",
       "      <td>...</td>\n",
       "      <td>Excellent</td>\n",
       "      <td>Very_High</td>\n",
       "      <td>0</td>\n",
       "      <td>20</td>\n",
       "      <td>2</td>\n",
       "      <td>Good</td>\n",
       "      <td>4</td>\n",
       "      <td>3</td>\n",
       "      <td>1</td>\n",
       "      <td>3</td>\n",
       "    </tr>\n",
       "    <tr>\n",
       "      <th>366</th>\n",
       "      <td>37</td>\n",
       "      <td>0.0</td>\n",
       "      <td>Travel_Rarely</td>\n",
       "      <td>571</td>\n",
       "      <td>Research_Development</td>\n",
       "      <td>10</td>\n",
       "      <td>Below_College</td>\n",
       "      <td>Life_Sciences</td>\n",
       "      <td>Very_High</td>\n",
       "      <td>Female</td>\n",
       "      <td>...</td>\n",
       "      <td>Excellent</td>\n",
       "      <td>Medium</td>\n",
       "      <td>2</td>\n",
       "      <td>6</td>\n",
       "      <td>3</td>\n",
       "      <td>Good</td>\n",
       "      <td>5</td>\n",
       "      <td>3</td>\n",
       "      <td>4</td>\n",
       "      <td>3</td>\n",
       "    </tr>\n",
       "    <tr>\n",
       "      <th>702</th>\n",
       "      <td>31</td>\n",
       "      <td>0.0</td>\n",
       "      <td>Travel_Frequently</td>\n",
       "      <td>163</td>\n",
       "      <td>Research_Development</td>\n",
       "      <td>24</td>\n",
       "      <td>Below_College</td>\n",
       "      <td>Technical_Degree</td>\n",
       "      <td>Very_High</td>\n",
       "      <td>Female</td>\n",
       "      <td>...</td>\n",
       "      <td>Outstanding</td>\n",
       "      <td>Very_High</td>\n",
       "      <td>0</td>\n",
       "      <td>9</td>\n",
       "      <td>3</td>\n",
       "      <td>Good</td>\n",
       "      <td>5</td>\n",
       "      <td>4</td>\n",
       "      <td>1</td>\n",
       "      <td>4</td>\n",
       "    </tr>\n",
       "    <tr>\n",
       "      <th>...</th>\n",
       "      <td>...</td>\n",
       "      <td>...</td>\n",
       "      <td>...</td>\n",
       "      <td>...</td>\n",
       "      <td>...</td>\n",
       "      <td>...</td>\n",
       "      <td>...</td>\n",
       "      <td>...</td>\n",
       "      <td>...</td>\n",
       "      <td>...</td>\n",
       "      <td>...</td>\n",
       "      <td>...</td>\n",
       "      <td>...</td>\n",
       "      <td>...</td>\n",
       "      <td>...</td>\n",
       "      <td>...</td>\n",
       "      <td>...</td>\n",
       "      <td>...</td>\n",
       "      <td>...</td>\n",
       "      <td>...</td>\n",
       "      <td>...</td>\n",
       "    </tr>\n",
       "    <tr>\n",
       "      <th>733</th>\n",
       "      <td>38</td>\n",
       "      <td>0.0</td>\n",
       "      <td>Travel_Frequently</td>\n",
       "      <td>653</td>\n",
       "      <td>Research_Development</td>\n",
       "      <td>29</td>\n",
       "      <td>Doctor</td>\n",
       "      <td>Life_Sciences</td>\n",
       "      <td>Very_High</td>\n",
       "      <td>Female</td>\n",
       "      <td>...</td>\n",
       "      <td>Excellent</td>\n",
       "      <td>Very_High</td>\n",
       "      <td>0</td>\n",
       "      <td>10</td>\n",
       "      <td>2</td>\n",
       "      <td>Better</td>\n",
       "      <td>10</td>\n",
       "      <td>3</td>\n",
       "      <td>9</td>\n",
       "      <td>9</td>\n",
       "    </tr>\n",
       "    <tr>\n",
       "      <th>1061</th>\n",
       "      <td>44</td>\n",
       "      <td>0.0</td>\n",
       "      <td>Travel_Frequently</td>\n",
       "      <td>602</td>\n",
       "      <td>Human_Resources</td>\n",
       "      <td>1</td>\n",
       "      <td>Doctor</td>\n",
       "      <td>Human_Resources</td>\n",
       "      <td>Low</td>\n",
       "      <td>Male</td>\n",
       "      <td>...</td>\n",
       "      <td>Excellent</td>\n",
       "      <td>High</td>\n",
       "      <td>0</td>\n",
       "      <td>14</td>\n",
       "      <td>3</td>\n",
       "      <td>Better</td>\n",
       "      <td>10</td>\n",
       "      <td>7</td>\n",
       "      <td>0</td>\n",
       "      <td>2</td>\n",
       "    </tr>\n",
       "    <tr>\n",
       "      <th>1307</th>\n",
       "      <td>41</td>\n",
       "      <td>0.0</td>\n",
       "      <td>Travel_Rarely</td>\n",
       "      <td>1276</td>\n",
       "      <td>Sales</td>\n",
       "      <td>2</td>\n",
       "      <td>Doctor</td>\n",
       "      <td>Life_Sciences</td>\n",
       "      <td>Medium</td>\n",
       "      <td>Female</td>\n",
       "      <td>...</td>\n",
       "      <td>Excellent</td>\n",
       "      <td>Medium</td>\n",
       "      <td>1</td>\n",
       "      <td>22</td>\n",
       "      <td>2</td>\n",
       "      <td>Better</td>\n",
       "      <td>18</td>\n",
       "      <td>16</td>\n",
       "      <td>11</td>\n",
       "      <td>8</td>\n",
       "    </tr>\n",
       "    <tr>\n",
       "      <th>1060</th>\n",
       "      <td>33</td>\n",
       "      <td>0.0</td>\n",
       "      <td>Travel_Rarely</td>\n",
       "      <td>516</td>\n",
       "      <td>Research_Development</td>\n",
       "      <td>8</td>\n",
       "      <td>Doctor</td>\n",
       "      <td>Life_Sciences</td>\n",
       "      <td>Very_High</td>\n",
       "      <td>Male</td>\n",
       "      <td>...</td>\n",
       "      <td>Excellent</td>\n",
       "      <td>Low</td>\n",
       "      <td>0</td>\n",
       "      <td>14</td>\n",
       "      <td>6</td>\n",
       "      <td>Better</td>\n",
       "      <td>0</td>\n",
       "      <td>0</td>\n",
       "      <td>0</td>\n",
       "      <td>0</td>\n",
       "    </tr>\n",
       "    <tr>\n",
       "      <th>177</th>\n",
       "      <td>29</td>\n",
       "      <td>0.0</td>\n",
       "      <td>Travel_Rarely</td>\n",
       "      <td>738</td>\n",
       "      <td>Research_Development</td>\n",
       "      <td>9</td>\n",
       "      <td>Doctor</td>\n",
       "      <td>Other</td>\n",
       "      <td>Medium</td>\n",
       "      <td>Male</td>\n",
       "      <td>...</td>\n",
       "      <td>Excellent</td>\n",
       "      <td>High</td>\n",
       "      <td>0</td>\n",
       "      <td>4</td>\n",
       "      <td>2</td>\n",
       "      <td>Better</td>\n",
       "      <td>3</td>\n",
       "      <td>2</td>\n",
       "      <td>2</td>\n",
       "      <td>2</td>\n",
       "    </tr>\n",
       "  </tbody>\n",
       "</table>\n",
       "<p>588 rows × 31 columns</p>\n",
       "</div>"
      ],
      "text/plain": [
       "      Age  Attrition     BusinessTravel  DailyRate            Department  \\\n",
       "1191   53        0.0      Travel_Rarely        238                 Sales   \n",
       "407    29        0.0  Travel_Frequently        995  Research_Development   \n",
       "1233   59        0.0  Travel_Frequently       1225                 Sales   \n",
       "366    37        0.0      Travel_Rarely        571  Research_Development   \n",
       "702    31        0.0  Travel_Frequently        163  Research_Development   \n",
       "...   ...        ...                ...        ...                   ...   \n",
       "733    38        0.0  Travel_Frequently        653  Research_Development   \n",
       "1061   44        0.0  Travel_Frequently        602       Human_Resources   \n",
       "1307   41        0.0      Travel_Rarely       1276                 Sales   \n",
       "1060   33        0.0      Travel_Rarely        516  Research_Development   \n",
       "177    29        0.0      Travel_Rarely        738  Research_Development   \n",
       "\n",
       "      DistanceFromHome      Education    EducationField  \\\n",
       "1191                 1  Below_College           Medical   \n",
       "407                  2  Below_College     Life_Sciences   \n",
       "1233                 1  Below_College     Life_Sciences   \n",
       "366                 10  Below_College     Life_Sciences   \n",
       "702                 24  Below_College  Technical_Degree   \n",
       "...                ...            ...               ...   \n",
       "733                 29         Doctor     Life_Sciences   \n",
       "1061                 1         Doctor   Human_Resources   \n",
       "1307                 2         Doctor     Life_Sciences   \n",
       "1060                 8         Doctor     Life_Sciences   \n",
       "177                  9         Doctor             Other   \n",
       "\n",
       "     EnvironmentSatisfaction  Gender  ...  PerformanceRating  \\\n",
       "1191               Very_High  Female  ...        Outstanding   \n",
       "407                      Low    Male  ...          Excellent   \n",
       "1233                     Low  Female  ...          Excellent   \n",
       "366                Very_High  Female  ...          Excellent   \n",
       "702                Very_High  Female  ...        Outstanding   \n",
       "...                      ...     ...  ...                ...   \n",
       "733                Very_High  Female  ...          Excellent   \n",
       "1061                     Low    Male  ...          Excellent   \n",
       "1307                  Medium  Female  ...          Excellent   \n",
       "1060               Very_High    Male  ...          Excellent   \n",
       "177                   Medium    Male  ...          Excellent   \n",
       "\n",
       "     RelationshipSatisfaction  StockOptionLevel TotalWorkingYears  \\\n",
       "1191                Very_High                 0                18   \n",
       "407                 Very_High                 1                 6   \n",
       "1233                Very_High                 0                20   \n",
       "366                    Medium                 2                 6   \n",
       "702                 Very_High                 0                 9   \n",
       "...                       ...               ...               ...   \n",
       "733                 Very_High                 0                10   \n",
       "1061                     High                 0                14   \n",
       "1307                   Medium                 1                22   \n",
       "1060                      Low                 0                14   \n",
       "177                      High                 0                 4   \n",
       "\n",
       "     TrainingTimesLastYear WorkLifeBalance  YearsAtCompany  \\\n",
       "1191                     2            Best              14   \n",
       "407                      0            Best               6   \n",
       "1233                     2            Good               4   \n",
       "366                      3            Good               5   \n",
       "702                      3            Good               5   \n",
       "...                    ...             ...             ...   \n",
       "733                      2          Better              10   \n",
       "1061                     3          Better              10   \n",
       "1307                     2          Better              18   \n",
       "1060                     6          Better               0   \n",
       "177                      2          Better               3   \n",
       "\n",
       "      YearsInCurrentRole  YearsSinceLastPromotion YearsWithCurrManager  \n",
       "1191                   7                        8                   10  \n",
       "407                    4                        1                    3  \n",
       "1233                   3                        1                    3  \n",
       "366                    3                        4                    3  \n",
       "702                    4                        1                    4  \n",
       "...                  ...                      ...                  ...  \n",
       "733                    3                        9                    9  \n",
       "1061                   7                        0                    2  \n",
       "1307                  16                       11                    8  \n",
       "1060                   0                        0                    0  \n",
       "177                    2                        2                    2  \n",
       "\n",
       "[588 rows x 31 columns]"
      ]
     },
     "execution_count": 31,
     "metadata": {},
     "output_type": "execute_result"
    }
   ],
   "source": [
    "# Proportional stratified sampling for 40% of each Education group\n",
    "attrition_strat = attrition.groupby('Education').sample(frac=0.4, random_state=2022)\n",
    "\n",
    "\n",
    "# Print the sample\n",
    "attrition_strat"
   ]
  },
  {
   "cell_type": "code",
   "execution_count": null,
   "metadata": {},
   "outputs": [
    {
     "name": "stdout",
     "output_type": "stream",
     "text": [
      "Bachelor         0.389456\n",
      "Master           0.270408\n",
      "College          0.192177\n",
      "Below_College    0.115646\n",
      "Doctor           0.032313\n",
      "Name: Education, dtype: float64\n"
     ]
    }
   ],
   "source": [
    "# Calculate the Education level proportions from attrition_strat\n",
    "education_counts_strat = attrition_strat['Education'].value_counts(normalize=True)\n",
    "\n",
    "# Print education_counts_strat\n",
    "print(education_counts_strat)"
   ]
  },
  {
   "cell_type": "code",
   "execution_count": null,
   "metadata": {},
   "outputs": [
    {
     "name": "stdout",
     "output_type": "stream",
     "text": [
      "Below_College    0.2\n",
      "College          0.2\n",
      "Bachelor         0.2\n",
      "Master           0.2\n",
      "Doctor           0.2\n",
      "Name: Education, dtype: float64\n"
     ]
    }
   ],
   "source": [
    "# Get 30 employees from each Education group\n",
    "attrition_eq = attrition.groupby('Education')\\\n",
    "\t.sample(n=30, random_state=2022)      \n",
    "\n",
    "# Get the proportions from attrition_eq\n",
    "education_counts_eq = attrition_eq['Education'].value_counts(normalize=True)\n",
    "\n",
    "# Print the results\n",
    "print(education_counts_eq)"
   ]
  },
  {
   "cell_type": "code",
   "execution_count": null,
   "metadata": {},
   "outputs": [
    {
     "data": {
      "image/png": "[encoded data removed]",
      "text/plain": [
       "<Figure size 432x288 with 1 Axes>"
      ]
     },
     "metadata": {
      "needs_background": "light"
     },
     "output_type": "display_data"
    }
   ],
   "source": [
    "# Plot YearsAtCompany from attrition as a histogram\n",
    "attrition['YearsAtCompany'].hist(bins=np.arange(0, 41, 1))\n",
    "plt.show()\n",
    "\n",
    "# Sample 400 employees weighted by YearsAtCompany\n",
    "attrition_weight = attrition.sample(frac=0.1, weights='YearsAtCompany')"
   ]
  },
  {
   "cell_type": "code",
   "execution_count": null,
   "metadata": {},
   "outputs": [
    {
     "data": {
      "image/png": "[encoded data removed]",
      "text/plain": [
       "<Figure size 432x288 with 1 Axes>"
      ]
     },
     "metadata": {
      "needs_background": "light"
     },
     "output_type": "display_data"
    }
   ],
   "source": [
    "# Plot YearsAtCompany from attrition as a histogram\n",
    "attrition['YearsAtCompany'].hist(bins=np.arange(0, 41, 1))\n",
    "# Sample 400 employees weighted by YearsAtCompany\n",
    "attrition_weight = attrition.sample(n=400, weights=\"YearsAtCompany\")\n",
    "\n",
    "# Plot YearsAtCompany from attrition_weight as a histogram\n",
    "attrition_weight['YearsAtCompany'].hist(bins=np.arange(0,41,1))\n",
    "plt.show()"
   ]
  },
  {
   "cell_type": "code",
   "execution_count": null,
   "metadata": {},
   "outputs": [
    {
     "name": "stdout",
     "output_type": "stream",
     "text": [
      "7.0081632653061225 11.2475\n"
     ]
    }
   ],
   "source": [
    "print(attrition['YearsAtCompany'].mean(), attrition_weight['YearsAtCompany'].mean())"
   ]
  },
  {
   "cell_type": "markdown",
   "metadata": {},
   "source": [
    "### Cluster sampling"
   ]
  },
  {
   "cell_type": "code",
   "execution_count": null,
   "metadata": {},
   "outputs": [
    {
     "name": "stdout",
     "output_type": "stream",
     "text": [
      "['Research_Director', 'Healthcare_Representative', 'Research_Scientist', 'Manager']\n"
     ]
    }
   ],
   "source": [
    "import random\n",
    "# Create a list of unique JobRole values\n",
    "job_roles_pop = list(attrition['JobRole'].unique())\n",
    "\n",
    "# Randomly sample four JobRole values\n",
    "job_roles_samp = random.sample(job_roles_pop, k=4)\n",
    "\n",
    "# Print the result\n",
    "print(job_roles_samp)"
   ]
  },
  {
   "cell_type": "code",
   "execution_count": null,
   "metadata": {},
   "outputs": [
    {
     "data": {
      "text/plain": [
       "Age                            int32\n",
       "Attrition                    float64\n",
       "BusinessTravel              category\n",
       "DailyRate                      int32\n",
       "Department                  category\n",
       "DistanceFromHome               int32\n",
       "Education                   category\n",
       "EducationField              category\n",
       "EnvironmentSatisfaction     category\n",
       "Gender                      category\n",
       "HourlyRate                     int32\n",
       "JobInvolvement              category\n",
       "JobLevel                       int32\n",
       "JobRole                     category\n",
       "JobSatisfaction             category\n",
       "MaritalStatus               category\n",
       "MonthlyIncome                  int32\n",
       "MonthlyRate                    int32\n",
       "NumCompaniesWorked             int32\n",
       "OverTime                    category\n",
       "PercentSalaryHike              int32\n",
       "PerformanceRating           category\n",
       "RelationshipSatisfaction    category\n",
       "StockOptionLevel               int32\n",
       "TotalWorkingYears              int32\n",
       "TrainingTimesLastYear          int32\n",
       "WorkLifeBalance             category\n",
       "YearsAtCompany                 int32\n",
       "YearsInCurrentRole             int32\n",
       "YearsSinceLastPromotion        int32\n",
       "YearsWithCurrManager           int32\n",
       "dtype: object"
      ]
     },
     "execution_count": 47,
     "metadata": {},
     "output_type": "execute_result"
    }
   ],
   "source": [
    "attrition.dtypes"
   ]
  },
  {
   "cell_type": "code",
   "execution_count": null,
   "metadata": {},
   "outputs": [
    {
     "name": "stdout",
     "output_type": "stream",
     "text": [
      "Research_Scientist           292\n",
      "Healthcare_Representative    131\n",
      "Manager                      102\n",
      "Research_Director             80\n",
      "Human_Resources                0\n",
      "Laboratory_Technician          0\n",
      "Manufacturing_Director         0\n",
      "Sales_Executive                0\n",
      "Sales_Representative           0\n",
      "Name: JobRole, dtype: int64\n"
     ]
    }
   ],
   "source": [
    "# Filter for rows where JobRole is in job_roles_samp\n",
    "jobrole_condition = attrition['JobRole'].isin(job_roles_samp)\n",
    "attrition_filtered = attrition[jobrole_condition]\n",
    "\n",
    "# Print the result\n",
    "print(attrition_filtered['JobRole'].value_counts())"
   ]
  },
  {
   "cell_type": "code",
   "execution_count": null,
   "metadata": {},
   "outputs": [
    {
     "name": "stdout",
     "output_type": "stream",
     "text": [
      "Research_Scientist           292\n",
      "Healthcare_Representative    131\n",
      "Manager                      102\n",
      "Research_Director             80\n",
      "Name: JobRole, dtype: int64\n"
     ]
    },
    {
     "name": "stderr",
     "output_type": "stream",
     "text": [
      "C:\\Users\\1270816\\AppData\\Local\\Temp\\ipykernel_28764\\3873265533.py:1: SettingWithCopyWarning: \n",
      "A value is trying to be set on a copy of a slice from a DataFrame\n",
      "\n",
      "See the caveats in the documentation: https://pandas.pydata.org/pandas-docs/stable/user_guide/indexing.html#returning-a-view-versus-a-copy\n",
      "  attrition_filtered.loc['JobRole'] = attrition_filtered['JobRole'].cat.remove_unused_categories()\n"
     ]
    }
   ],
   "source": [
    "attrition_filtered.loc['JobRole'] = attrition_filtered['JobRole'].cat.remove_unused_categories()\n",
    "print(attrition_filtered['JobRole'].value_counts())"
   ]
  },
  {
   "cell_type": "code",
   "execution_count": null,
   "metadata": {},
   "outputs": [
    {
     "name": "stdout",
     "output_type": "stream",
     "text": [
      "     Age  Attrition     BusinessTravel DailyRate            Department  \\\n",
      "812   31        0.0      Travel_Rarely       616  Research_Development   \n",
      "1190  38        0.0      Travel_Rarely      1495  Research_Development   \n",
      "378   33        0.0      Travel_Rarely      1069  Research_Development   \n",
      "920   35        0.0  Travel_Frequently      1199  Research_Development   \n",
      "917   33        0.0      Travel_Rarely       501  Research_Development   \n",
      "1058  34        0.0      Travel_Rarely       404  Research_Development   \n",
      "1264  46        0.0  Travel_Frequently       638  Research_Development   \n",
      "1340  44        0.0      Travel_Rarely       477  Research_Development   \n",
      "655   34        0.0      Travel_Rarely      1442  Research_Development   \n",
      "896   42        0.0      Travel_Rarely      1128  Research_Development   \n",
      "1106  51        0.0      Travel_Rarely       942  Research_Development   \n",
      "1307  41        0.0      Travel_Rarely      1276                 Sales   \n",
      "1359  43        0.0  Travel_Frequently       394                 Sales   \n",
      "1266  50        0.0      Travel_Rarely      1452  Research_Development   \n",
      "1310  53        0.0      Travel_Rarely      1376                 Sales   \n",
      "1417  59        0.0         Non-Travel      1420       Human_Resources   \n",
      "1044  34        0.0      Travel_Rarely      1354  Research_Development   \n",
      "1336  48        0.0  Travel_Frequently       365  Research_Development   \n",
      "1280  42        0.0      Travel_Rarely       265                 Sales   \n",
      "1285  39        0.0      Travel_Rarely       412  Research_Development   \n",
      "1273  47        0.0      Travel_Rarely      1482  Research_Development   \n",
      "1352  44        0.0      Travel_Rarely       136  Research_Development   \n",
      "1126  42        0.0      Travel_Rarely       810  Research_Development   \n",
      "1453  55        0.0      Travel_Rarely       478  Research_Development   \n",
      "1322  51        0.0      Travel_Rarely       684  Research_Development   \n",
      "768   29        0.0      Travel_Rarely       986  Research_Development   \n",
      "1290  45        0.0      Travel_Rarely      1005  Research_Development   \n",
      "1062  43        0.0      Travel_Rarely      1291  Research_Development   \n",
      "1469  58        1.0      Travel_Rarely       286  Research_Development   \n",
      "1459  54        0.0      Travel_Rarely       685  Research_Development   \n",
      "22    27        0.0         Non-Travel      1450  Research_Development   \n",
      "450   31        0.0      Travel_Rarely       140  Research_Development   \n",
      "231   35        0.0  Travel_Frequently       664  Research_Development   \n",
      "137   22        0.0      Travel_Rarely       604  Research_Development   \n",
      "398   40        0.0         Non-Travel       458  Research_Development   \n",
      "385   28        0.0      Travel_Rarely      1451  Research_Development   \n",
      "1224  46        0.0      Travel_Rarely      1003  Research_Development   \n",
      "1054  33        1.0  Travel_Frequently       827  Research_Development   \n",
      "591   37        0.0      Travel_Rarely      1439  Research_Development   \n",
      "86    26        0.0      Travel_Rarely       482  Research_Development   \n",
      "\n",
      "     DistanceFromHome      Education    EducationField  \\\n",
      "812                12       Bachelor           Medical   \n",
      "1190               10       Bachelor           Medical   \n",
      "378                 1       Bachelor     Life_Sciences   \n",
      "920                18         Master     Life_Sciences   \n",
      "917                15        College           Medical   \n",
      "1058                2         Master  Technical_Degree   \n",
      "1264                1       Bachelor           Medical   \n",
      "1340                7         Master           Medical   \n",
      "655                 9       Bachelor           Medical   \n",
      "896                13       Bachelor           Medical   \n",
      "1106                3       Bachelor  Technical_Degree   \n",
      "1307                2         Doctor     Life_Sciences   \n",
      "1359               26        College     Life_Sciences   \n",
      "1266               11       Bachelor     Life_Sciences   \n",
      "1310                2        College           Medical   \n",
      "1417                2         Master   Human_Resources   \n",
      "1044                5       Bachelor           Medical   \n",
      "1336                4         Doctor           Medical   \n",
      "1280                5        College         Marketing   \n",
      "1285               13         Master           Medical   \n",
      "1273                5         Doctor     Life_Sciences   \n",
      "1352               28       Bachelor     Life_Sciences   \n",
      "1126               23         Doctor     Life_Sciences   \n",
      "1453                2       Bachelor           Medical   \n",
      "1322                6       Bachelor     Life_Sciences   \n",
      "768                 3         Master           Medical   \n",
      "1290               28        College  Technical_Degree   \n",
      "1062               15        College     Life_Sciences   \n",
      "1469                2         Master     Life_Sciences   \n",
      "1459                3       Bachelor     Life_Sciences   \n",
      "22                  3       Bachelor           Medical   \n",
      "450                12  Below_College           Medical   \n",
      "231                 1       Bachelor           Medical   \n",
      "137                 6  Below_College           Medical   \n",
      "398                16        College     Life_Sciences   \n",
      "385                 2  Below_College     Life_Sciences   \n",
      "1224                8         Master     Life_Sciences   \n",
      "1054               29         Master           Medical   \n",
      "591                 4  Below_College     Life_Sciences   \n",
      "86                  1        College     Life_Sciences   \n",
      "\n",
      "     EnvironmentSatisfaction  Gender  ... PerformanceRating  \\\n",
      "812                Very_High  Female  ...         Excellent   \n",
      "1190                    High  Female  ...         Excellent   \n",
      "378                   Medium  Female  ...         Excellent   \n",
      "920                     High    Male  ...         Excellent   \n",
      "917                   Medium  Female  ...         Excellent   \n",
      "1058                    High  Female  ...         Excellent   \n",
      "1264                    High    Male  ...         Excellent   \n",
      "1340                     Low  Female  ...         Excellent   \n",
      "655                Very_High  Female  ...         Excellent   \n",
      "896                   Medium    Male  ...         Excellent   \n",
      "1106                     Low  Female  ...         Excellent   \n",
      "1307                  Medium  Female  ...         Excellent   \n",
      "1359                    High    Male  ...         Excellent   \n",
      "1266                    High  Female  ...         Excellent   \n",
      "1310                    High    Male  ...         Excellent   \n",
      "1417                    High  Female  ...       Outstanding   \n",
      "1044                    High  Female  ...         Excellent   \n",
      "1336                    High    Male  ...       Outstanding   \n",
      "1280               Very_High    Male  ...         Excellent   \n",
      "1285                    High  Female  ...         Excellent   \n",
      "1273               Very_High    Male  ...         Excellent   \n",
      "1352               Very_High    Male  ...         Excellent   \n",
      "1126                     Low  Female  ...         Excellent   \n",
      "1453                    High    Male  ...         Excellent   \n",
      "1322                     Low    Male  ...         Excellent   \n",
      "768                   Medium    Male  ...         Excellent   \n",
      "1290               Very_High  Female  ...         Excellent   \n",
      "1062                    High    Male  ...       Outstanding   \n",
      "1469               Very_High    Male  ...         Excellent   \n",
      "1459               Very_High    Male  ...         Excellent   \n",
      "22                      High    Male  ...         Excellent   \n",
      "450                     High  Female  ...       Outstanding   \n",
      "231                   Medium    Male  ...         Excellent   \n",
      "137                      Low    Male  ...       Outstanding   \n",
      "398                     High    Male  ...         Excellent   \n",
      "385                      Low    Male  ...         Excellent   \n",
      "1224               Very_High  Female  ...       Outstanding   \n",
      "1054                     Low  Female  ...       Outstanding   \n",
      "591                     High    Male  ...         Excellent   \n",
      "86                    Medium  Female  ...         Excellent   \n",
      "\n",
      "     RelationshipSatisfaction StockOptionLevel TotalWorkingYears  \\\n",
      "812                      High                2                10   \n",
      "1190                     High                1                18   \n",
      "378                       Low                0                 6   \n",
      "920                 Very_High                2                10   \n",
      "917                       Low                1                10   \n",
      "1058                Very_High                0                14   \n",
      "1264                     High                1                21   \n",
      "1340                Very_High                1                24   \n",
      "655                    Medium                0                 9   \n",
      "896                      High                2                10   \n",
      "1106                Very_High                0                15   \n",
      "1307                   Medium                1                22   \n",
      "1359                Very_High                2                25   \n",
      "1266                   Medium                0                21   \n",
      "1310                     High                1                22   \n",
      "1417                Very_High                1                30   \n",
      "1044                Very_High                0                14   \n",
      "1336                   Medium                1                23   \n",
      "1280                   Medium                0                21   \n",
      "1285                Very_High                2                21   \n",
      "1273                   Medium                1                21   \n",
      "1352                     High                1                24   \n",
      "1126                   Medium                0                16   \n",
      "1453                   Medium                3                34   \n",
      "1322                     High                0                23   \n",
      "768                      High                0                10   \n",
      "1290                     High                0                21   \n",
      "1062                      Low                1                14   \n",
      "1469                Very_High                0                40   \n",
      "1459                      Low                0                36   \n",
      "22                  Very_High                1                 1   \n",
      "450                      High                1                 7   \n",
      "231                 Very_High                1                 5   \n",
      "137                 Very_High                0                 3   \n",
      "398                    Medium                1                 6   \n",
      "385                       Low                0                 6   \n",
      "1224                      Low                3                19   \n",
      "1054                   Medium                0                14   \n",
      "591                 Very_High                0                 8   \n",
      "86                       High                1                 1   \n",
      "\n",
      "     TrainingTimesLastYear WorkLifeBalance YearsAtCompany YearsInCurrentRole  \\\n",
      "812                      2             Bad              9                  7   \n",
      "1190                     4          Better              1                  0   \n",
      "378                      3          Better              5                  0   \n",
      "920                      2            Best             10                  2   \n",
      "917                      6          Better              9                  7   \n",
      "1058                     2            Best             14                 11   \n",
      "1264                     5            Good             10                  9   \n",
      "1340                     4          Better             22                  6   \n",
      "655                      3            Best              8                  7   \n",
      "896                      2            Good              0                  0   \n",
      "1106                     2          Better              2                  2   \n",
      "1307                     2          Better             18                 16   \n",
      "1359                     3            Best             25                 12   \n",
      "1266                     5          Better              5                  4   \n",
      "1310                     3            Best             17                 13   \n",
      "1417                     3          Better              3                  2   \n",
      "1044                     6          Better             11                 10   \n",
      "1336                     3          Better              2                  2   \n",
      "1280                     3            Best              1                  0   \n",
      "1285                     4          Better             19                  9   \n",
      "1273                     2          Better              3                  2   \n",
      "1352                     1            Best             20                  6   \n",
      "1126                     2          Better              1                  0   \n",
      "1453                     2          Better              1                  0   \n",
      "1322                     5          Better             20                 18   \n",
      "768                      2          Better             10                  2   \n",
      "1290                     2          Better             21                  6   \n",
      "1062                     3          Better             14                 10   \n",
      "1469                     2          Better             31                 15   \n",
      "1459                     2          Better             10                  9   \n",
      "22                       2            Good              1                  1   \n",
      "450                      0          Better              4                  2   \n",
      "231                      2            Good              3                  2   \n",
      "137                      3          Better              2                  2   \n",
      "398                      0          Better              4                  2   \n",
      "385                      2             Bad              5                  3   \n",
      "1224                     2          Better             16                 13   \n",
      "1054                     4          Better             13                  7   \n",
      "591                      2          Better              6                  4   \n",
      "86                       3            Good              1                  0   \n",
      "\n",
      "     YearsSinceLastPromotion YearsWithCurrManager  \n",
      "812                        8                    5  \n",
      "1190                       0                    0  \n",
      "378                        1                    4  \n",
      "920                        0                    2  \n",
      "917                        8                    1  \n",
      "1058                       4                   11  \n",
      "1264                       9                    5  \n",
      "1340                       5                   17  \n",
      "655                        7                    7  \n",
      "896                        0                    0  \n",
      "1106                       2                    2  \n",
      "1307                      11                    8  \n",
      "1359                       4                   12  \n",
      "1266                       4                    4  \n",
      "1310                      15                    2  \n",
      "1417                       2                    2  \n",
      "1044                       5                    8  \n",
      "1336                       2                    2  \n",
      "1280                       0                    0  \n",
      "1285                      15                    2  \n",
      "1273                       1                    1  \n",
      "1352                      14                   17  \n",
      "1126                       0                    0  \n",
      "1453                       0                    0  \n",
      "1322                      15                   15  \n",
      "768                        0                    7  \n",
      "1290                       8                    6  \n",
      "1062                       6                   11  \n",
      "1469                      13                    8  \n",
      "1459                       0                    9  \n",
      "22                         0                    1  \n",
      "450                        0                    2  \n",
      "231                        1                    2  \n",
      "137                        2                    2  \n",
      "398                        0                    0  \n",
      "385                        0                    4  \n",
      "1224                       1                    7  \n",
      "1054                       3                    8  \n",
      "591                        1                    3  \n",
      "86                         1                    0  \n",
      "\n",
      "[40 rows x 31 columns]\n"
     ]
    }
   ],
   "source": [
    "# Randomly sample 10 employees from each sampled job role\n",
    "attrition_clust = attrition_filtered.groupby('JobRole').sample(n=10, random_state=2022)\n",
    "\n",
    "\n",
    "# Print the sample\n",
    "print(attrition_clust)"
   ]
  },
  {
   "cell_type": "code",
   "execution_count": null,
   "metadata": {},
   "outputs": [
    {
     "name": "stdout",
     "output_type": "stream",
     "text": [
      "Human_Resources         10\n",
      "Manager                 10\n",
      "Sales_Executive         10\n",
      "Sales_Representative    10\n",
      "Name: JobRole, dtype: int64\n"
     ]
    },
    {
     "name": "stderr",
     "output_type": "stream",
     "text": [
      "C:\\Users\\1270816\\AppData\\Local\\Temp\\ipykernel_28764\\156858761.py:12: SettingWithCopyWarning: \n",
      "A value is trying to be set on a copy of a slice from a DataFrame.\n",
      "Try using .loc[row_indexer,col_indexer] = value instead\n",
      "\n",
      "See the caveats in the documentation: https://pandas.pydata.org/pandas-docs/stable/user_guide/indexing.html#returning-a-view-versus-a-copy\n",
      "  attrition_filtered['JobRole'] = attrition_filtered['JobRole'].cat.remove_unused_categories()\n"
     ]
    }
   ],
   "source": [
    "# Create a list of unique JobRole values\n",
    "job_roles_pop = list(attrition['JobRole'].unique())\n",
    "\n",
    "# Randomly sample four JobRole values\n",
    "job_roles_samp = random.sample(job_roles_pop, k=4)\n",
    "\n",
    "# Filter for rows where JobRole is in job_roles_samp\n",
    "jobrole_condition = attrition['JobRole'].isin(job_roles_samp)\n",
    "attrition_filtered = attrition[jobrole_condition]\n",
    "\n",
    "# Remove categories with no rows\n",
    "attrition_filtered['JobRole'] = attrition_filtered['JobRole'].cat.remove_unused_categories()\n",
    "\n",
    "# Randomly sample 10 employees from each sampled job role\n",
    "attrition_clust = attrition_filtered.groupby(\"JobRole\")\\\n",
    "    .sample(n=10, random_state=2022)\n",
    "\n",
    "# Print the sample\n",
    "print(attrition_clust['JobRole'].value_counts())         "
   ]
  },
  {
   "cell_type": "markdown",
   "metadata": {},
   "source": [
    "## Sampling Distributions"
   ]
  },
  {
   "cell_type": "markdown",
   "metadata": {},
   "source": [
    "### Relative error of point estimates"
   ]
  },
  {
   "cell_type": "code",
   "execution_count": null,
   "metadata": {},
   "outputs": [
    {
     "name": "stdout",
     "output_type": "stream",
     "text": [
      "(1338, 43)\n"
     ]
    },
    {
     "data": {
      "text/html": [
       "<div>\n",
       "<style scoped>\n",
       "    .dataframe tbody tr th:only-of-type {\n",
       "        vertical-align: middle;\n",
       "    }\n",
       "\n",
       "    .dataframe tbody tr th {\n",
       "        vertical-align: top;\n",
       "    }\n",
       "\n",
       "    .dataframe thead th {\n",
       "        text-align: right;\n",
       "    }\n",
       "</style>\n",
       "<table border=\"1\" class=\"dataframe\">\n",
       "  <thead>\n",
       "    <tr style=\"text-align: right;\">\n",
       "      <th></th>\n",
       "      <th>total_cup_points</th>\n",
       "      <th>species</th>\n",
       "      <th>owner</th>\n",
       "      <th>country_of_origin</th>\n",
       "      <th>farm_name</th>\n",
       "      <th>lot_number</th>\n",
       "      <th>mill</th>\n",
       "      <th>ico_number</th>\n",
       "      <th>company</th>\n",
       "      <th>altitude</th>\n",
       "      <th>...</th>\n",
       "      <th>color</th>\n",
       "      <th>category_two_defects</th>\n",
       "      <th>expiration</th>\n",
       "      <th>certification_body</th>\n",
       "      <th>certification_address</th>\n",
       "      <th>certification_contact</th>\n",
       "      <th>unit_of_measurement</th>\n",
       "      <th>altitude_low_meters</th>\n",
       "      <th>altitude_high_meters</th>\n",
       "      <th>altitude_mean_meters</th>\n",
       "    </tr>\n",
       "  </thead>\n",
       "  <tbody>\n",
       "    <tr>\n",
       "      <th>0</th>\n",
       "      <td>90.58</td>\n",
       "      <td>Arabica</td>\n",
       "      <td>metad plc</td>\n",
       "      <td>Ethiopia</td>\n",
       "      <td>metad plc</td>\n",
       "      <td>None</td>\n",
       "      <td>metad plc</td>\n",
       "      <td>2014/2015</td>\n",
       "      <td>metad agricultural developmet plc</td>\n",
       "      <td>1950-2200</td>\n",
       "      <td>...</td>\n",
       "      <td>Green</td>\n",
       "      <td>0.0</td>\n",
       "      <td>April 3rd, 2016</td>\n",
       "      <td>METAD Agricultural Development plc</td>\n",
       "      <td>309fcf77415a3661ae83e027f7e5f05dad786e44</td>\n",
       "      <td>19fef5a731de2db57d16da10287413f5f99bc2dd</td>\n",
       "      <td>m</td>\n",
       "      <td>1950.0</td>\n",
       "      <td>2200.0</td>\n",
       "      <td>2075.0</td>\n",
       "    </tr>\n",
       "    <tr>\n",
       "      <th>1</th>\n",
       "      <td>89.92</td>\n",
       "      <td>Arabica</td>\n",
       "      <td>metad plc</td>\n",
       "      <td>Ethiopia</td>\n",
       "      <td>metad plc</td>\n",
       "      <td>None</td>\n",
       "      <td>metad plc</td>\n",
       "      <td>2014/2015</td>\n",
       "      <td>metad agricultural developmet plc</td>\n",
       "      <td>1950-2200</td>\n",
       "      <td>...</td>\n",
       "      <td>Green</td>\n",
       "      <td>1.0</td>\n",
       "      <td>April 3rd, 2016</td>\n",
       "      <td>METAD Agricultural Development plc</td>\n",
       "      <td>309fcf77415a3661ae83e027f7e5f05dad786e44</td>\n",
       "      <td>19fef5a731de2db57d16da10287413f5f99bc2dd</td>\n",
       "      <td>m</td>\n",
       "      <td>1950.0</td>\n",
       "      <td>2200.0</td>\n",
       "      <td>2075.0</td>\n",
       "    </tr>\n",
       "  </tbody>\n",
       "</table>\n",
       "<p>2 rows × 43 columns</p>\n",
       "</div>"
      ],
      "text/plain": [
       "   total_cup_points  species      owner country_of_origin  farm_name  \\\n",
       "0             90.58  Arabica  metad plc          Ethiopia  metad plc   \n",
       "1             89.92  Arabica  metad plc          Ethiopia  metad plc   \n",
       "\n",
       "  lot_number       mill ico_number                            company  \\\n",
       "0       None  metad plc  2014/2015  metad agricultural developmet plc   \n",
       "1       None  metad plc  2014/2015  metad agricultural developmet plc   \n",
       "\n",
       "    altitude  ...  color category_two_defects       expiration  \\\n",
       "0  1950-2200  ...  Green                  0.0  April 3rd, 2016   \n",
       "1  1950-2200  ...  Green                  1.0  April 3rd, 2016   \n",
       "\n",
       "                   certification_body  \\\n",
       "0  METAD Agricultural Development plc   \n",
       "1  METAD Agricultural Development plc   \n",
       "\n",
       "                      certification_address  \\\n",
       "0  309fcf77415a3661ae83e027f7e5f05dad786e44   \n",
       "1  309fcf77415a3661ae83e027f7e5f05dad786e44   \n",
       "\n",
       "                      certification_contact unit_of_measurement  \\\n",
       "0  19fef5a731de2db57d16da10287413f5f99bc2dd                   m   \n",
       "1  19fef5a731de2db57d16da10287413f5f99bc2dd                   m   \n",
       "\n",
       "  altitude_low_meters altitude_high_meters altitude_mean_meters  \n",
       "0              1950.0               2200.0               2075.0  \n",
       "1              1950.0               2200.0               2075.0  \n",
       "\n",
       "[2 rows x 43 columns]"
      ]
     },
     "execution_count": 69,
     "metadata": {},
     "output_type": "execute_result"
    }
   ],
   "source": [
    "print(coffee.shape)\n",
    "coffee.head(2)"
   ]
  },
  {
   "cell_type": "code",
   "execution_count": null,
   "metadata": {},
   "outputs": [
    {
     "name": "stdout",
     "output_type": "stream",
     "text": [
      "Mean of total_cup_points from whole dataset 82.15\n",
      "from sample of 10 82.48\n",
      "from sample of 100 81.89\n",
      "and from sample of 500 82.18\n"
     ]
    }
   ],
   "source": [
    "print(f'Mean of total_cup_points from whole dataset {coffee[\"total_cup_points\"].mean():.2f}\\n\\\n",
    "from sample of 10 {coffee.sample(n=10)[\"total_cup_points\"].mean():.2f}\\n\\\n",
    "from sample of 100 {coffee.sample(n=100)[\"total_cup_points\"].mean():.2f}\\n\\\n",
    "and from sample of 500 {coffee.sample(n=500)[\"total_cup_points\"].mean():.2f}')"
   ]
  },
  {
   "cell_type": "markdown",
   "metadata": {},
   "source": [
    "#### Relative Error"
   ]
  },
  {
   "cell_type": "code",
   "execution_count": null,
   "metadata": {},
   "outputs": [
    {
     "name": "stdout",
     "output_type": "stream",
     "text": [
      "62.78481012658227\n"
     ]
    }
   ],
   "source": [
    "# Generate a simple random sample of 50 rows, with seed 2022\n",
    "attrition_srs50 = attrition.sample(n=50, random_state=2022)\n",
    "\n",
    "# Calculate the mean employee attrition in the sample\n",
    "mean_attrition_srs50 = attrition_srs50['Attrition'].mean()\n",
    "\n",
    "# Calculate the relative error percentage\n",
    "rel_error_pct50 = 100 * abs(attrition['Attrition'].mean()-mean_attrition_srs50)/attrition['Attrition'].mean()\n",
    "\n",
    "# Print rel_error_pct50\n",
    "print(rel_error_pct50)"
   ]
  },
  {
   "cell_type": "code",
   "execution_count": null,
   "metadata": {},
   "outputs": [
    {
     "name": "stdout",
     "output_type": "stream",
     "text": [
      "6.962025316455695\n"
     ]
    }
   ],
   "source": [
    "# Generate a simple random sample of 100 rows, with seed 2022\n",
    "attrition_srs100 = attrition.sample(n=100, random_state=2022)\n",
    "\n",
    "# Calculate the mean employee attrition in the sample\n",
    "mean_attrition_srs100 = attrition_srs100['Attrition'].mean()\n",
    "mean_attrition = attrition['Attrition'].mean()\n",
    "\n",
    "# Calculate the relative error percentage\n",
    "rel_error_pct100 = 100 * abs(mean_attrition-mean_attrition_srs100)/mean_attrition\n",
    "\n",
    "# Print rel_error_pct100\n",
    "print(rel_error_pct100)"
   ]
  },
  {
   "cell_type": "markdown",
   "metadata": {},
   "source": [
    "### Creating a sampling distribution"
   ]
  },
  {
   "cell_type": "code",
   "execution_count": null,
   "metadata": {},
   "outputs": [
    {
     "data": {
      "image/png": "[encoded data removed]",
      "text/plain": [
       "<Figure size 432x288 with 1 Axes>"
      ]
     },
     "metadata": {
      "needs_background": "light"
     },
     "output_type": "display_data"
    }
   ],
   "source": [
    "# Create an empty list\n",
    "mean_attritions = []\n",
    "# Loop 500 times to create 500 sample means\n",
    "for _ in range(500):\n",
    "\tmean_attritions.append(\n",
    "    \tattrition.sample(n=60)['Attrition'].mean()\n",
    "\t)\n",
    "\n",
    "# Create a histogram of the 500 sample means\n",
    "plt.hist(mean_attritions)\n",
    "plt.show()"
   ]
  },
  {
   "cell_type": "markdown",
   "metadata": {},
   "source": [
    "### Approximate Sampling Distributions"
   ]
  },
  {
   "cell_type": "code",
   "execution_count": null,
   "metadata": {},
   "outputs": [
    {
     "data": {
      "text/html": [
       "<div>\n",
       "<style scoped>\n",
       "    .dataframe tbody tr th:only-of-type {\n",
       "        vertical-align: middle;\n",
       "    }\n",
       "\n",
       "    .dataframe tbody tr th {\n",
       "        vertical-align: top;\n",
       "    }\n",
       "\n",
       "    .dataframe thead th {\n",
       "        text-align: right;\n",
       "    }\n",
       "</style>\n",
       "<table border=\"1\" class=\"dataframe\">\n",
       "  <thead>\n",
       "    <tr style=\"text-align: right;\">\n",
       "      <th></th>\n",
       "      <th>a</th>\n",
       "      <th>b</th>\n",
       "    </tr>\n",
       "  </thead>\n",
       "  <tbody>\n",
       "    <tr>\n",
       "      <th>0</th>\n",
       "      <td>0</td>\n",
       "      <td>0</td>\n",
       "    </tr>\n",
       "    <tr>\n",
       "      <th>1</th>\n",
       "      <td>0</td>\n",
       "      <td>1</td>\n",
       "    </tr>\n",
       "    <tr>\n",
       "      <th>2</th>\n",
       "      <td>0</td>\n",
       "      <td>2</td>\n",
       "    </tr>\n",
       "    <tr>\n",
       "      <th>3</th>\n",
       "      <td>1</td>\n",
       "      <td>0</td>\n",
       "    </tr>\n",
       "    <tr>\n",
       "      <th>4</th>\n",
       "      <td>1</td>\n",
       "      <td>1</td>\n",
       "    </tr>\n",
       "    <tr>\n",
       "      <th>5</th>\n",
       "      <td>1</td>\n",
       "      <td>2</td>\n",
       "    </tr>\n",
       "    <tr>\n",
       "      <th>6</th>\n",
       "      <td>2</td>\n",
       "      <td>0</td>\n",
       "    </tr>\n",
       "    <tr>\n",
       "      <th>7</th>\n",
       "      <td>2</td>\n",
       "      <td>1</td>\n",
       "    </tr>\n",
       "    <tr>\n",
       "      <th>8</th>\n",
       "      <td>2</td>\n",
       "      <td>2</td>\n",
       "    </tr>\n",
       "  </tbody>\n",
       "</table>\n",
       "</div>"
      ],
      "text/plain": [
       "   a  b\n",
       "0  0  0\n",
       "1  0  1\n",
       "2  0  2\n",
       "3  1  0\n",
       "4  1  1\n",
       "5  1  2\n",
       "6  2  0\n",
       "7  2  1\n",
       "8  2  2"
      ]
     },
     "execution_count": 77,
     "metadata": {},
     "output_type": "execute_result"
    }
   ],
   "source": [
    "import itertools\n",
    "def expand_grid(data_dict):\n",
    "    rows = itertools.product(*data_dict.values())\n",
    "    return pd.DataFrame.from_records(rows, columns=data_dict.keys())\n",
    "\n",
    "expand_grid({\n",
    "  'a':range(3),\n",
    "  'b':range(3)}\n",
    ")"
   ]
  },
  {
   "cell_type": "code",
   "execution_count": null,
   "metadata": {},
   "outputs": [
    {
     "data": {
      "text/html": [
       "<div>\n",
       "<style scoped>\n",
       "    .dataframe tbody tr th:only-of-type {\n",
       "        vertical-align: middle;\n",
       "    }\n",
       "\n",
       "    .dataframe tbody tr th {\n",
       "        vertical-align: top;\n",
       "    }\n",
       "\n",
       "    .dataframe thead th {\n",
       "        text-align: right;\n",
       "    }\n",
       "</style>\n",
       "<table border=\"1\" class=\"dataframe\">\n",
       "  <thead>\n",
       "    <tr style=\"text-align: right;\">\n",
       "      <th></th>\n",
       "      <th>die1</th>\n",
       "      <th>die2</th>\n",
       "      <th>die3</th>\n",
       "      <th>die4</th>\n",
       "      <th>mean_roll</th>\n",
       "    </tr>\n",
       "  </thead>\n",
       "  <tbody>\n",
       "    <tr>\n",
       "      <th>0</th>\n",
       "      <td>1</td>\n",
       "      <td>1</td>\n",
       "      <td>1</td>\n",
       "      <td>1</td>\n",
       "      <td>1.00</td>\n",
       "    </tr>\n",
       "    <tr>\n",
       "      <th>1</th>\n",
       "      <td>1</td>\n",
       "      <td>1</td>\n",
       "      <td>1</td>\n",
       "      <td>2</td>\n",
       "      <td>1.25</td>\n",
       "    </tr>\n",
       "    <tr>\n",
       "      <th>2</th>\n",
       "      <td>1</td>\n",
       "      <td>1</td>\n",
       "      <td>1</td>\n",
       "      <td>3</td>\n",
       "      <td>1.50</td>\n",
       "    </tr>\n",
       "    <tr>\n",
       "      <th>3</th>\n",
       "      <td>1</td>\n",
       "      <td>1</td>\n",
       "      <td>1</td>\n",
       "      <td>4</td>\n",
       "      <td>1.75</td>\n",
       "    </tr>\n",
       "    <tr>\n",
       "      <th>4</th>\n",
       "      <td>1</td>\n",
       "      <td>1</td>\n",
       "      <td>1</td>\n",
       "      <td>5</td>\n",
       "      <td>2.00</td>\n",
       "    </tr>\n",
       "  </tbody>\n",
       "</table>\n",
       "</div>"
      ],
      "text/plain": [
       "   die1  die2  die3  die4  mean_roll\n",
       "0     1     1     1     1       1.00\n",
       "1     1     1     1     2       1.25\n",
       "2     1     1     1     3       1.50\n",
       "3     1     1     1     4       1.75\n",
       "4     1     1     1     5       2.00"
      ]
     },
     "execution_count": 81,
     "metadata": {},
     "output_type": "execute_result"
    }
   ],
   "source": [
    "dice = expand_grid(\n",
    "  {'die1':range(1,7),\n",
    "   'die2':range(1,7),\n",
    "   'die3':range(1,7),\n",
    "   'die4':range(1,7)\n",
    "  #  'die5':range(1,7),\n",
    "  #  'die6':range(1,7)\n",
    "  }\n",
    ")\n",
    "dice['mean_roll'] = (dice['die1']+dice['die2']+dice['die3']+dice['die4'])/4\n",
    "dice.head()"
   ]
  },
  {
   "cell_type": "code",
   "execution_count": null,
   "metadata": {},
   "outputs": [
    {
     "name": "stdout",
     "output_type": "stream",
     "text": [
      "(1296, 5)\n"
     ]
    },
    {
     "data": {
      "text/plain": [
       "<Axes: >"
      ]
     },
     "execution_count": 82,
     "metadata": {},
     "output_type": "execute_result"
    },
    {
     "data": {
      "image/png": "[encoded data removed]",
      "text/plain": [
       "<Figure size 432x288 with 1 Axes>"
      ]
     },
     "metadata": {
      "needs_background": "light"
     },
     "output_type": "display_data"
    }
   ],
   "source": [
    "print(dice.shape)\n",
    "dice['mean_roll'] = dice['mean_roll'].astype('category')\n",
    "dice['mean_roll'].value_counts(sort=False).plot(kind='bar')"
   ]
  },
  {
   "cell_type": "code",
   "execution_count": null,
   "metadata": {},
   "outputs": [
    {
     "data": {
      "image/png": "[encoded data removed]",
      "text/plain": [
       "<Figure size 432x288 with 1 Axes>"
      ]
     },
     "metadata": {
      "needs_background": "light"
     },
     "output_type": "display_data"
    }
   ],
   "source": [
    "n_dice = range(1,101)\n",
    "n_outcomes=[]\n",
    "for _ in n_dice:\n",
    "  n_outcomes.append(6**_)\n",
    "\n",
    "outcomes = pd.DataFrame(\n",
    "  {'n_dice': list(n_dice)\n",
    "   ,'n_outcomes':n_outcomes\n",
    "   }\n",
    ")\n",
    "outcomes.plot(\n",
    "  x='n_dice'\n",
    "  , y='n_outcomes'\n",
    "  , kind='scatter'\n",
    ")\n",
    "plt.show()"
   ]
  },
  {
   "cell_type": "code",
   "execution_count": null,
   "metadata": {},
   "outputs": [
    {
     "name": "stdout",
     "output_type": "stream",
     "text": [
      "2.2\n"
     ]
    }
   ],
   "source": [
    "# Sample one to eight, five times, with replacement\n",
    "five_rolls = np.random.choice(range(1,9), size=5, replace=True)\n",
    "\n",
    "# Print the mean of five_rolls\n",
    "print(five_rolls.mean())"
   ]
  },
  {
   "cell_type": "code",
   "execution_count": null,
   "metadata": {},
   "outputs": [
    {
     "name": "stdout",
     "output_type": "stream",
     "text": [
      "[5.4, 5.6, 6.0, 4.6, 4.8, 4.6, 4.6, 5.0, 3.4, 2.8]\n"
     ]
    }
   ],
   "source": [
    "# Replicate the sampling code 1000 times\n",
    "sample_means_1000 = []\n",
    "for _ in range(1000):\n",
    "    sample_means_1000.append(\n",
    "  \t\tnp.random.choice(list(range(1, 9)), size=5, replace=True).mean()\n",
    "    )\n",
    "    \n",
    "# Print the first 10 entries of the result\n",
    "print(sample_means_1000[0:10])"
   ]
  },
  {
   "cell_type": "code",
   "execution_count": null,
   "metadata": {},
   "outputs": [
    {
     "data": {
      "image/png": "[encoded data removed]",
      "text/plain": [
       "<Figure size 432x288 with 1 Axes>"
      ]
     },
     "metadata": {
      "needs_background": "light"
     },
     "output_type": "display_data"
    }
   ],
   "source": [
    "# Draw a histogram of sample_means_1000 with 20 bins\n",
    "plt.hist(sample_means_1000,bins=20)\n",
    "plt.show()"
   ]
  },
  {
   "cell_type": "markdown",
   "metadata": {},
   "source": [
    "### Standard errors and the Central Limit Theorem\n"
   ]
  },
  {
   "cell_type": "code",
   "execution_count": null,
   "metadata": {},
   "outputs": [],
   "source": [
    "# Gaussian Distribution / Normal Distribution\n",
    "sampling_distribution_5 = [np.random.choice(attrition['Attrition'], size=5, replace=True).mean() for _ in range(1000)]\n",
    "sampling_distribution_50 = [np.random.choice(attrition['Attrition'], size=50, replace=True).mean() for _ in range(1000)]\n",
    "sampling_distribution_500 = [np.random.choice(attrition['Attrition'], size=500, replace=True).mean() for _ in range(1000)]"
   ]
  },
  {
   "cell_type": "code",
   "execution_count": null,
   "metadata": {},
   "outputs": [
    {
     "name": "stdout",
     "output_type": "stream",
     "text": [
      "0.1672\n",
      "0.15894000000000003\n",
      "0.16142399999999998\n"
     ]
    }
   ],
   "source": [
    "# Calculate the mean of the mean attritions for each sampling distribution\n",
    "mean_of_means_5 = np.mean(sampling_distribution_5)\n",
    "mean_of_means_50 = np.mean(sampling_distribution_50)\n",
    "mean_of_means_500 = np.mean(sampling_distribution_500)\n",
    "\n",
    "# Print the results\n",
    "print(mean_of_means_5)\n",
    "print(mean_of_means_50)\n",
    "print(mean_of_means_500)"
   ]
  },
  {
   "cell_type": "code",
   "execution_count": null,
   "metadata": {},
   "outputs": [
    {
     "name": "stdout",
     "output_type": "stream",
     "text": [
      "0.16343460732314583\n",
      "0.05150853841383513\n",
      "0.016531349294885443\n"
     ]
    }
   ],
   "source": [
    "# Calculate the std. dev. of the mean attritions for each sampling distribution\n",
    "sd_of_means_5 = np.std(sampling_distribution_5, ddof=1)\n",
    "sd_of_means_50 = np.std(sampling_distribution_50, ddof=1)\n",
    "sd_of_means_500 = np.std(sampling_distribution_500, ddof=1)\n",
    "\n",
    "# Print the results\n",
    "print(sd_of_means_5)\n",
    "print(sd_of_means_50)\n",
    "print(sd_of_means_500)"
   ]
  },
  {
   "cell_type": "markdown",
   "metadata": {},
   "source": [
    "## Bootstrap Distributions"
   ]
  },
  {
   "cell_type": "markdown",
   "metadata": {},
   "source": [
    "### Introduction to bootstrapping"
   ]
  },
  {
   "cell_type": "code",
   "execution_count": 112,
   "metadata": {},
   "outputs": [],
   "source": [
    "coffee_sample = coffee[['variety', 'country_of_origin', 'flavor']].reset_index().sample(n=500)"
   ]
  },
  {
   "cell_type": "code",
   "execution_count": 114,
   "metadata": {},
   "outputs": [],
   "source": [
    "import numpy as np\n",
    "mean_floavours_5000 =[]\n",
    "for _ in range(5000):\n",
    "  mean_floavours_5000.append(\n",
    "    np.mean(coffee_sample.sample(frac=1, replace=True)['flavor'])\n",
    "  )\n",
    "bootstrap_distn = mean_floavours_5000"
   ]
  },
  {
   "cell_type": "code",
   "execution_count": 115,
   "metadata": {},
   "outputs": [
    {
     "data": {
      "image/png": "[encoded data removed]",
      "text/plain": [
       "<Figure size 432x288 with 1 Axes>"
      ]
     },
     "metadata": {
      "needs_background": "light"
     },
     "output_type": "display_data"
    }
   ],
   "source": [
    "import matplotlib.pyplot as plt\n",
    "plt.hist(bootstrap_distn, bins=15)\n",
    "plt.show();"
   ]
  },
  {
   "cell_type": "code",
   "execution_count": 116,
   "metadata": {},
   "outputs": [
    {
     "data": {
      "text/plain": [
       "7.526046337817639"
      ]
     },
     "execution_count": 116,
     "metadata": {},
     "output_type": "execute_result"
    }
   ],
   "source": [
    "coffee['flavor'].mean()"
   ]
  },
  {
   "cell_type": "code",
   "execution_count": 117,
   "metadata": {},
   "outputs": [
    {
     "data": {
      "text/plain": [
       "7.5279"
      ]
     },
     "execution_count": 117,
     "metadata": {},
     "output_type": "execute_result"
    }
   ],
   "source": [
    "coffee_sample['flavor'].mean()"
   ]
  },
  {
   "cell_type": "code",
   "execution_count": 118,
   "metadata": {},
   "outputs": [
    {
     "data": {
      "text/plain": [
       "7.527352268"
      ]
     },
     "execution_count": 118,
     "metadata": {},
     "output_type": "execute_result"
    }
   ],
   "source": [
    "np.mean(bootstrap_distn)"
   ]
  },
  {
   "cell_type": "code",
   "execution_count": 120,
   "metadata": {},
   "outputs": [
    {
     "name": "stdout",
     "output_type": "stream",
     "text": [
      "Std Dev ==> df=0.3413824079927851, sample=0.3509120524249262, boot=0.015838895612263378\n"
     ]
    }
   ],
   "source": [
    "print(f\"Std Dev ==> df={coffee['flavor'].std()}, sample={coffee_sample['flavor'].std()}, boot={np.std(bootstrap_distn)}\")"
   ]
  },
  {
   "cell_type": "code",
   "execution_count": 121,
   "metadata": {},
   "outputs": [
    {
     "name": "stdout",
     "output_type": "stream",
     "text": [
      "Std Dev ==> df=0.3413824079927851, sample=0.3509120524249262, boot=0.015840479739447643\n"
     ]
    }
   ],
   "source": [
    "print(f\"Std Dev ==> df={coffee['flavor'].std()}, sample={coffee_sample['flavor'].std()}, boot={np.std(bootstrap_distn, ddof=1)}\")"
   ]
  },
  {
   "cell_type": "code",
   "execution_count": 123,
   "metadata": {},
   "outputs": [
    {
     "name": "stdout",
     "output_type": "stream",
     "text": [
      "[55.314, 54.452, 55.332, 55.124, 54.748, 55.108, 54.29, 55.162, 54.992, 54.636, 54.778, 53.758, 55.154, 55.632, 54.118, 55.528, 54.754, 54.736, 55.24, 54.484, 54.804, 54.67, 54.83, 54.438, 54.836, 54.814, 54.402, 54.704, 55.26, 54.432, 55.32, 55.05, 55.064, 54.992, 55.244, 53.774, 55.592, 54.504, 54.772, 54.936, 54.616, 55.438, 54.366, 54.832, 55.33, 54.106, 55.254, 55.008, 55.034, 54.31, 56.236, 54.872, 54.448, 54.432, 54.55, 54.888, 53.778, 54.218, 54.396, 54.742, 54.618, 53.94, 55.024, 54.01, 55.12, 54.992, 54.748, 55.228, 54.716, 54.264, 54.462, 53.568, 55.348, 55.028, 55.262, 55.168, 54.83, 54.37, 54.902, 53.794, 54.174, 54.468, 53.83, 54.294, 55.182, 54.556, 54.696, 55.0, 55.918, 53.91, 54.33, 53.986, 55.462, 55.186, 54.054, 54.512, 54.978, 53.84, 55.342, 54.534, 54.596, 55.934, 55.332, 54.486, 55.106, 55.772, 54.022, 54.056, 54.702, 55.278, 54.498, 54.562, 54.57, 54.892, 54.462, 54.56, 55.686, 54.24, 55.004, 55.356, 54.368, 54.674, 55.578, 54.228, 54.992, 55.29, 54.726, 55.152, 53.916, 56.01, 55.47, 55.084, 56.064, 54.35, 55.072, 54.318, 55.338, 54.876, 55.11, 55.098, 55.42, 54.79, 55.52, 54.698, 55.462, 54.3, 55.334, 54.042, 54.67, 54.56, 54.272, 54.262, 54.874, 54.816, 54.806, 54.662, 55.616, 54.96, 55.862, 54.638, 54.708, 54.666, 54.814, 54.888, 55.55, 54.794, 54.892, 54.25, 55.666, 54.736, 54.528, 54.956, 55.042, 54.49, 55.028, 54.966, 54.87, 54.198, 55.204, 54.744, 54.618, 55.454, 56.046, 54.222, 54.84, 55.038, 54.586, 54.924, 54.242, 55.008, 54.202, 54.896, 54.69, 54.398, 54.31, 53.992, 54.988, 55.144, 54.394, 54.644, 54.756, 54.784, 55.868, 55.472, 55.346, 55.182, 54.574, 54.788, 54.566, 54.292, 54.226, 54.436, 54.278, 54.766, 55.178, 55.39, 54.932, 55.26, 55.422, 54.938, 54.806, 55.076, 54.942, 55.006, 55.048, 54.524, 54.57, 54.222, 54.884, 54.396, 54.656, 54.876, 53.916, 55.202, 54.796, 55.328, 54.598, 54.84, 54.458, 54.468, 54.686, 54.126, 54.538, 54.468, 55.514, 55.26, 54.428, 55.742, 55.358, 54.698, 54.912, 54.614, 54.444, 54.876, 54.64, 54.432, 55.228, 54.618, 54.624, 54.992, 54.362, 53.98, 54.75, 56.2, 54.12, 55.492, 54.702, 55.096, 54.122, 54.756, 55.052, 54.99, 54.314, 55.834, 53.856, 55.398, 55.144, 55.748, 54.49, 54.848, 55.658, 53.576, 54.21, 55.404, 54.838, 54.912, 54.474, 55.344, 55.288, 55.46, 54.836, 54.616, 54.872, 54.582, 54.228, 54.316, 55.144, 54.93, 54.436, 55.578, 54.262, 55.034, 54.902, 54.748, 53.944, 55.436, 55.35, 55.238, 54.896, 54.802, 54.772, 53.848, 54.448, 54.584, 54.762, 54.368, 54.482, 54.41, 54.686, 55.02, 54.552, 55.124, 54.836, 55.324, 54.726, 54.778, 55.4, 55.03, 54.384, 54.334, 54.638, 55.008, 54.836, 54.406, 54.458, 53.83, 54.854, 54.742, 54.532, 55.122, 55.154, 54.288, 55.4, 54.754, 55.69, 54.868, 55.656, 55.166, 55.036, 54.982, 54.59, 53.938, 54.348, 55.256, 54.534, 56.214, 54.622, 54.954, 54.702, 54.572, 55.22, 54.488, 54.348, 54.868, 55.162, 55.25, 54.144, 54.57, 54.882, 54.71, 54.682, 54.602, 54.72, 55.07, 55.396, 54.85, 54.758, 55.39, 54.884, 55.438, 53.988, 55.028, 56.05, 54.364, 54.71, 55.3, 55.302, 55.518, 54.896, 55.512, 55.226, 55.61, 54.488, 54.176, 54.724, 55.494, 54.454, 56.082, 54.978, 54.82, 55.118, 55.08, 54.934, 54.922, 54.51, 54.898, 55.76, 55.534, 54.554, 54.334, 53.892, 55.56, 54.208, 54.644, 54.578, 54.556, 55.092, 55.402, 54.472, 55.316, 55.056, 54.426, 54.556, 55.174, 54.746, 54.574, 53.886, 54.796, 55.22, 53.304, 54.97, 54.916, 54.878, 55.262, 55.372, 54.656, 54.906, 55.384, 54.708, 54.14, 54.748, 55.114, 54.744, 55.354, 54.738, 55.666, 55.092, 54.574, 54.882, 54.554, 54.358, 55.248, 55.246, 55.206, 54.242, 56.022, 55.352, 54.586, 55.75, 55.394, 55.11, 55.136, 54.57, 55.16, 54.976, 54.568, 55.776, 55.036, 54.706, 54.702, 55.352, 54.122, 55.136, 54.186, 53.95, 55.02, 53.814, 54.116, 55.098, 54.62, 55.044, 55.39, 55.194, 54.662, 54.706, 55.022, 55.096, 54.722, 54.774, 54.602, 55.154, 55.138, 54.68, 55.102, 55.638, 54.71, 55.454, 54.478, 54.756, 54.352, 55.224, 54.612, 55.308, 54.594, 54.598, 54.47, 54.242, 55.726, 54.524, 55.526, 54.736, 54.662, 55.046, 54.804, 54.846, 54.458, 56.002, 55.864, 54.146, 54.442, 54.11, 55.644, 55.062, 55.326, 55.188, 54.894, 54.834, 55.662, 55.086, 54.168, 54.866, 55.104, 54.634, 54.008, 55.528, 54.986, 54.612, 54.364, 54.674, 54.648, 55.39, 54.716, 54.794, 55.09, 54.628, 54.694, 54.662, 55.702, 54.43, 54.736, 54.116, 54.856, 54.602, 54.978, 54.852, 55.148, 55.662, 54.498, 55.792, 54.638, 54.944, 55.0, 54.792, 54.598, 55.506, 54.688, 54.758, 54.226, 54.762, 55.108, 53.878, 54.914, 53.576, 55.292, 54.75, 55.81, 54.826, 54.294, 54.668, 55.44, 54.95, 54.502, 55.418, 54.69, 54.274, 54.274, 54.88, 54.816, 55.322, 54.298, 54.856, 54.956, 55.178, 55.126, 54.342, 55.298, 54.46, 54.958, 54.592, 54.684, 54.122, 54.764, 54.856, 54.524, 55.334, 54.924, 55.444, 54.636, 55.584, 55.318, 54.694, 54.334, 54.574, 55.216, 54.798, 55.266, 54.872, 54.982, 54.884, 55.064, 54.352, 55.274, 53.862, 55.588, 55.048, 54.976, 55.062, 55.404, 54.452, 53.752, 55.024, 55.676, 54.818, 54.462, 54.922, 55.454, 54.836, 53.752, 54.934, 54.908, 54.57, 55.06, 55.616, 54.786, 54.99, 54.744, 55.034, 55.998, 55.644, 54.602, 54.352, 54.93, 55.15, 54.184, 55.168, 54.156, 54.962, 54.726, 55.152, 54.96, 54.538, 55.308, 54.564, 54.688, 54.392, 55.436, 54.188, 54.826, 55.078, 54.224, 54.28, 54.032, 55.788, 55.238, 55.222, 55.026, 55.622, 54.21, 54.724, 55.15, 55.122, 54.77, 54.808, 55.002, 54.852, 54.948, 54.548, 55.746, 55.028, 54.778, 55.634, 55.48, 55.022, 54.606, 54.55, 55.306, 55.404, 54.128, 55.206, 54.688, 54.712, 54.704, 54.222, 54.454, 54.862, 54.708, 54.186, 55.19, 54.454, 54.032, 54.662, 54.584, 54.316, 54.824, 54.566, 55.27, 55.444, 55.682, 54.018, 54.834, 54.778, 54.67, 54.234, 55.072, 54.564, 54.18, 54.364, 54.848, 54.506, 56.002, 54.666, 54.77, 54.73, 54.19, 54.954, 54.72, 55.284, 55.54, 53.972, 56.336, 54.62, 54.022, 54.648, 55.244, 54.844, 55.214, 54.578, 53.926, 54.636, 54.806, 55.584, 54.664, 55.164, 54.386, 54.898, 54.68, 54.458, 55.226, 54.544, 54.932, 54.106, 54.796, 55.6, 54.57, 54.356, 54.678, 54.658, 55.078, 54.614, 55.068, 55.018, 55.306, 54.402, 54.614, 55.3, 54.832, 55.274, 54.466, 54.548, 55.484, 54.906, 55.794, 54.622, 54.656, 54.246, 55.852, 54.466, 55.248, 55.086, 55.134, 54.29, 54.652, 55.186, 54.828, 54.558, 55.006, 55.838, 55.06, 55.856, 54.858, 54.258, 54.758, 55.228, 55.324, 54.892, 54.958, 54.872, 54.972, 54.822, 55.37, 55.38, 53.602, 54.794, 54.632, 54.58, 55.232, 54.546, 54.556, 55.2, 54.23, 54.532, 55.668, 54.756, 54.726, 55.366, 54.328, 54.428, 54.46, 54.732, 54.308, 55.104, 55.152, 54.01, 54.92, 55.552, 55.212, 54.82, 53.926, 55.25, 55.056, 54.802, 55.242, 55.252, 55.41, 55.242, 55.174, 54.35, 55.044, 55.394, 53.68, 55.656, 55.072, 55.506, 54.394, 54.72, 54.816, 54.498, 54.24, 54.71, 54.84, 54.288, 54.324, 55.362, 55.008, 55.53, 54.34, 55.136, 54.428, 54.948, 55.03, 54.428, 54.672, 55.252, 54.568, 55.188, 54.564, 54.694, 54.24, 55.026, 54.362, 54.412, 54.984, 55.532, 55.096, 54.712, 54.386, 54.19, 54.734, 55.462, 54.886, 54.862, 55.068, 54.326, 55.21, 54.784, 55.194, 55.17, 54.094, 55.04, 55.844, 53.82, 55.03, 54.094, 55.494, 53.868, 54.59, 54.286, 55.742, 55.204, 55.4, 55.094, 55.674, 55.22, 54.366, 55.45, 53.948, 55.132, 55.994, 53.832, 55.044, 55.298, 54.232, 53.826, 55.61, 55.34, 54.596, 55.256, 54.538, 55.788, 54.08, 54.884, 55.144, 55.428, 54.646, 55.088, 55.296, 54.626, 54.162, 55.298, 54.436, 54.888, 55.56, 54.838, 55.056, 54.65, 54.866, 55.262, 55.57, 55.056, 55.042, 54.568, 55.674, 55.038, 54.552, 55.624, 54.986, 54.254, 54.1, 55.266, 54.868, 55.194, 55.072, 54.188, 55.09, 54.39, 55.14, 55.802, 54.86, 54.894, 55.54, 54.648, 55.144, 55.252, 54.936, 54.782, 54.904, 55.39, 53.704, 55.138, 54.728, 54.444, 54.504, 54.786, 54.982, 54.884, 54.852, 54.322, 55.092, 55.798, 54.892, 55.212, 54.244, 55.68, 55.222, 55.538, 55.05, 55.442, 54.91, 54.946, 55.574, 55.516, 55.0, 55.502, 54.494, 54.428, 54.742, 54.654, 54.35, 53.938, 54.34, 54.388, 54.636, 55.248, 55.236, 54.89, 54.228, 54.88, 54.734, 54.64, 55.058, 55.0, 55.078, 54.822, 54.486, 55.248, 55.09, 54.584, 54.606, 55.67, 55.688, 55.522, 55.77, 54.252, 54.474, 54.7, 54.446, 54.936, 54.386, 54.832, 54.476, 54.692, 54.624, 55.0, 55.16, 54.648, 55.322, 54.388, 54.758, 54.84, 53.812, 55.234, 55.224, 55.302, 54.268, 55.214, 54.844, 55.94, 55.258, 54.766, 54.174, 55.778, 54.354, 55.632, 54.624, 55.278, 55.338, 55.29, 55.282, 54.512, 56.11, 54.946, 55.502, 54.364, 55.016, 54.792, 55.23, 54.704, 55.59, 55.352, 55.158, 54.65, 54.982, 55.06, 54.694, 54.614, 54.616, 54.118, 54.82, 54.498, 55.594, 54.854, 54.928, 54.36, 54.688, 55.448, 55.19, 55.294, 55.152, 55.092, 54.33, 54.784, 54.632, 55.606, 54.692, 54.462, 54.646, 54.84, 54.774, 55.14, 55.75, 54.68, 54.552, 54.792, 55.348, 55.02, 53.728, 54.406, 55.416, 54.716, 54.166, 54.74, 55.26, 55.034, 55.322, 54.708, 54.602, 55.158, 54.486, 54.422, 54.852, 54.31, 55.106, 55.14, 55.842, 54.766, 54.204, 54.57, 55.016, 55.14, 55.298, 55.728, 55.066, 54.432, 54.622, 54.698, 54.588, 55.064, 54.41, 54.246, 54.958, 54.766, 53.658, 54.716, 55.288, 54.166, 55.708, 54.184, 55.176, 54.748, 54.396, 54.098, 55.024, 54.784, 55.022, 54.99, 54.334, 54.122, 54.466, 54.034, 55.404, 54.742, 54.786, 53.298, 54.2, 54.92, 54.092, 55.198, 54.756, 53.32, 54.876, 55.704, 54.6, 54.844, 54.516, 54.766, 55.33, 55.17, 54.94, 54.802, 54.114, 54.954, 54.394, 55.152, 54.57, 54.814, 55.062, 55.186, 54.412, 55.18, 54.482, 54.394, 55.614, 54.824, 55.2, 54.544, 54.586, 55.818, 54.65, 54.624, 54.338, 54.286, 55.47, 54.426, 55.702, 54.752, 55.18, 54.94, 55.182, 54.404, 55.196, 55.178, 55.294, 54.938, 54.156, 53.972, 55.466, 55.082, 54.744, 54.73, 55.45, 55.522, 55.6, 54.678, 54.414, 55.136, 54.78, 54.314, 54.598, 56.276, 54.74, 55.206, 55.386, 54.842, 53.828, 55.268, 54.43, 55.218, 54.476, 55.364, 55.444, 53.948, 55.164, 54.812, 54.04, 54.772, 54.738, 53.888, 55.236, 54.608, 53.906, 54.752, 54.062, 54.302, 55.18, 54.776, 55.174, 54.606, 54.24, 54.758, 54.026, 55.948, 54.372, 55.108, 55.626, 55.36, 54.294, 55.022, 55.004, 54.64, 54.484, 55.688, 54.884, 54.55, 55.18, 54.892, 53.656, 54.838, 55.396, 54.58, 55.148, 54.562, 55.226, 55.15, 54.53, 56.08, 54.352, 55.632, 54.644, 55.618, 55.988, 55.576, 54.942, 55.434, 55.134, 55.272, 55.062, 55.106, 54.676, 55.122, 54.46, 54.826, 54.542, 55.656, 55.62, 55.078, 55.43, 54.794, 54.038, 56.466, 54.746, 54.402, 55.326, 53.994, 55.084, 55.088, 54.546, 55.904, 54.466, 54.922, 54.584, 54.812, 54.48, 54.776, 55.394, 55.282, 55.17, 54.78, 55.22, 55.2, 55.026, 55.362, 54.734, 54.636, 55.334, 54.968, 56.028, 55.072, 54.354, 54.64, 54.698, 54.7, 54.39, 54.438, 54.742, 56.132, 55.814, 54.738, 53.804, 54.382, 54.804, 55.252, 54.814, 55.392, 54.796, 53.77, 55.702, 55.074, 54.834, 55.786, 54.792, 54.952, 54.948, 55.096, 54.892, 55.408, 54.99, 54.99, 54.516, 55.302, 55.838, 55.536, 54.342, 54.924, 54.508, 55.186, 55.452, 55.098, 54.358, 55.374, 54.492, 54.594, 54.956, 54.788, 55.188, 55.218, 54.496, 54.684, 55.506, 54.836, 54.828, 54.13, 55.036, 55.424, 54.588, 55.04, 54.626, 54.986, 54.388, 54.752, 55.082, 54.672, 54.312, 55.676, 54.584, 55.084, 55.264, 55.38, 54.804, 54.596, 55.23, 55.678, 55.282, 53.95, 55.028, 54.128, 54.468, 54.94, 54.742, 55.006, 55.164, 55.69, 54.662, 54.374, 55.608, 55.15, 55.68, 55.744, 53.954, 54.57, 54.518, 54.764, 55.352, 54.188, 55.05, 55.43, 54.968, 54.504, 54.238, 54.816, 54.582, 55.018, 55.226, 55.106, 54.26, 54.788, 55.07, 55.004, 55.044, 55.402, 54.906, 54.242, 53.848, 54.608, 55.342, 55.024, 55.132, 54.434, 54.802, 54.952, 54.498, 54.822, 54.622, 54.628, 54.606, 56.09, 55.166, 54.446, 55.228, 55.068, 54.468, 54.61, 55.74, 54.906, 53.814, 54.81, 55.674, 55.162, 55.232, 54.876, 55.192, 53.91, 55.058, 54.698, 54.846, 55.158, 54.81, 54.628, 54.65, 54.678, 54.906, 54.198, 54.894, 54.654, 53.492, 55.2, 54.562, 54.846, 53.766, 54.702, 54.776, 54.762, 54.414, 55.654, 54.59, 55.282, 54.71, 54.452, 54.732, 54.68, 55.152, 55.712, 53.98, 55.08, 53.636, 54.762, 54.63, 54.71, 54.352, 55.04, 55.766, 54.716, 55.424, 55.224, 55.79, 54.868, 55.218, 55.234, 54.768, 54.584, 54.576, 54.978, 54.84, 54.67, 54.288, 54.382, 55.402, 55.074, 54.14, 55.726, 54.852, 54.202, 54.688, 54.428, 54.656, 54.304, 54.692, 54.656, 54.398, 54.52, 54.666, 54.086, 54.712, 54.428, 55.506, 54.654, 54.656, 54.736, 55.706, 55.27, 54.652, 54.14, 54.128, 55.43, 54.236, 54.552, 54.874, 55.178, 53.758, 55.122, 54.174, 55.118, 54.832, 54.498, 55.116, 54.378, 54.95, 55.018, 55.398, 54.358, 54.708, 55.136, 54.69, 54.72, 54.234, 54.712, 54.688, 54.71, 54.44, 54.058, 54.944, 54.54, 54.37, 54.422, 55.886, 54.882, 54.32, 55.294, 54.588, 55.258, 54.012, 54.584, 54.544, 54.784, 55.916, 55.528, 53.932, 54.806, 54.26, 54.894, 54.288, 54.882, 53.744, 55.116, 54.764, 54.23, 54.994, 54.188, 54.902, 55.066, 54.326, 54.876, 54.9, 54.666, 54.11, 55.424, 54.558, 54.92, 54.214, 55.388, 55.336, 54.414, 54.934, 55.636, 54.18, 55.526, 54.618, 54.474, 54.198, 55.1, 55.206, 53.95, 55.936, 55.062, 54.878, 54.922, 54.006, 53.924, 55.648, 54.646, 54.75, 55.394, 54.802, 54.626, 54.416, 54.96, 55.136, 54.84, 55.654, 55.614, 54.888, 54.79, 54.884, 54.176, 54.748, 55.186, 55.19, 54.32, 53.804, 54.712, 54.764, 54.574, 54.798, 55.022, 55.244, 55.464, 54.592, 54.678, 54.966, 55.564, 54.654, 54.956, 55.504, 55.01, 54.17, 55.264, 55.628, 55.03, 54.804, 54.81, 54.632, 54.648, 53.948, 54.528, 55.064, 55.012, 54.724, 55.038, 55.032, 54.334, 54.634, 54.678, 54.808, 55.306, 54.23, 54.712, 55.198, 55.158, 53.826, 54.79, 54.636, 54.732, 54.48, 55.11, 54.254, 54.768, 54.41, 54.38, 55.318, 54.918, 55.896, 54.384, 55.438, 54.806, 54.586, 54.162, 54.588, 54.24, 54.904, 54.77, 54.122, 54.548, 54.936, 54.79, 54.336, 53.782, 55.28, 55.77, 54.856, 54.44, 55.058, 55.314, 55.094, 55.18, 55.244, 55.028, 54.808, 54.138, 54.176, 55.128, 54.772, 54.8, 55.674, 54.396, 54.21, 54.67, 54.674, 55.266, 54.908, 54.532, 54.536, 54.534, 54.75, 55.054, 54.534, 56.0, 55.4, 55.242, 55.208, 54.806, 55.32, 55.3, 55.052, 54.846, 53.946, 55.116, 54.492, 55.052, 54.742, 54.076, 54.434, 53.844, 54.478, 54.688, 54.758, 55.05, 55.244, 54.944, 54.73, 55.924, 55.044, 55.134, 54.906, 54.792, 55.344, 55.412, 54.856, 54.348, 54.79, 54.566, 55.374, 54.744, 54.934, 54.632, 54.0, 54.998, 54.804, 55.058, 54.364, 54.836, 55.178, 55.86, 54.714, 54.598, 54.706, 54.544, 54.582, 54.514, 55.008, 53.956, 54.786, 55.098, 55.568, 53.936, 55.314, 55.658, 54.48, 54.928, 54.414, 55.686, 54.34, 54.466, 55.036, 55.724, 54.494, 55.122, 54.674, 54.236, 55.112, 54.426, 54.966, 54.006, 55.092, 55.532, 55.568, 54.902, 53.586, 55.258, 54.674, 54.8, 55.62, 53.982, 54.316, 54.92, 54.604, 55.328, 54.734, 54.34, 54.286, 54.428, 55.282, 54.514, 54.944, 54.164, 54.38, 54.654, 54.982, 55.0, 54.852, 54.384, 54.798, 54.75, 55.156, 55.72, 54.216, 54.644, 54.95, 55.296, 53.924, 54.314, 55.202, 54.268, 55.37, 54.272, 54.368, 54.19, 54.444, 53.29, 54.646, 56.182, 54.366, 54.286, 54.914, 54.268, 54.73, 54.346, 54.66, 55.42, 54.76, 54.498, 55.004, 55.23, 55.062, 54.502, 54.76, 54.552, 54.976, 54.536, 54.7, 55.31, 55.108, 55.056, 55.57, 53.502, 55.274, 54.73, 54.542, 54.114, 54.962, 54.8, 54.63, 54.99, 54.578, 53.804, 55.418, 54.768, 54.432, 55.294, 56.254, 55.67, 55.192, 54.706, 55.61, 54.716, 54.882, 54.352, 54.594, 54.868, 54.93, 54.99, 54.86, 55.274, 54.618, 54.994, 55.222, 55.284, 53.932, 55.13, 54.698, 55.034, 55.436, 55.052, 54.002, 54.728, 54.564, 55.652, 54.57, 54.47, 54.266, 54.328, 54.968, 55.162, 55.394, 54.924, 54.414, 54.388, 54.932, 54.98, 54.344, 54.588, 54.994, 54.336, 55.016, 54.414, 55.332, 54.368, 55.486, 55.194, 55.54, 54.968, 56.072, 54.526, 54.266, 54.762, 54.972, 55.264, 54.706, 54.5, 54.846, 54.912, 54.622]\n"
     ]
    }
   ],
   "source": [
    "spotify_population = pd.read_feather(r'./data/spotify_2000_2020.feather')\n",
    "mean_popularity_2000_samp = []\n",
    "\n",
    "# Generate a sampling distribution of 2000 replicates\n",
    "for _ in range(2000):\n",
    "    mean_popularity_2000_samp.append(\n",
    "    \t# Sample 500 rows and calculate the mean popularity \n",
    "    \tnp.mean( spotify_population.sample(n=500)['popularity'].mean())\n",
    "    )\n",
    "\n",
    "# Print the sampling distribution results\n",
    "print(mean_popularity_2000_samp)"
   ]
  },
  {
   "cell_type": "code",
   "execution_count": 124,
   "metadata": {},
   "outputs": [
    {
     "name": "stdout",
     "output_type": "stream",
     "text": [
      "[54.7575, 54.39, 53.9475, 54.7975, 55.4075, 54.765, 53.815, 54.3225, 54.4825, 54.9375, 54.7125, 54.7625, 54.105, 54.5475, 54.7625, 54.42, 54.3625, 55.795, 53.775, 54.7925, 55.025, 54.59, 54.0875, 54.22, 54.8375, 55.0225, 54.445, 53.8525, 54.01, 54.5275, 54.145, 54.7475, 53.9975, 54.145, 53.645, 54.7575, 54.5725, 55.07, 55.9025, 53.94, 54.87, 53.7575, 54.8625, 55.355, 55.18, 54.9325, 54.5475, 54.425, 54.9725, 54.9075, 54.77, 55.575, 54.73, 55.4325, 54.625, 55.095, 54.5025, 55.3075, 54.4875, 54.97, 54.6075, 54.875, 54.525, 54.6425, 54.425, 54.7425, 53.8375, 54.0425, 54.885, 54.675, 55.1175, 54.5175, 54.4725, 54.025, 55.0775, 54.64, 54.96, 53.805, 54.7975, 54.325, 54.83, 55.1975, 53.79, 53.6325, 54.745, 54.8425, 54.555, 54.6325, 53.4475, 54.4425, 55.1325, 54.6125, 55.1225, 53.12, 55.0375, 53.93, 53.24, 53.705, 54.7125, 53.7375, 53.415, 55.06, 53.735, 53.745, 54.565, 55.175, 54.205, 54.6225, 55.0525, 54.3275, 54.71, 54.4125, 54.8575, 54.5325, 54.3375, 54.5625, 55.0425, 54.66, 54.4975, 55.17, 54.525, 54.0725, 54.4475, 55.0125, 54.0775, 54.4475, 53.585, 54.895, 54.3825, 54.3525, 55.1725, 54.94, 52.86, 54.98, 54.875, 54.74, 55.6475, 53.6075, 53.92, 54.86, 54.475, 55.0425, 54.6825, 55.1875, 54.8975, 53.5625, 54.5475, 55.1025, 54.6725, 54.6775, 54.5425, 55.4575, 53.9175, 53.46, 54.565, 55.72, 54.83, 55.265, 54.775, 54.5375, 55.4125, 55.05, 54.185, 55.395, 54.6275, 53.29, 54.7125, 54.7925, 54.58, 53.255, 54.4775, 54.4675, 55.6, 54.07, 54.3425, 54.74, 54.7075, 54.6175, 53.575, 54.8825, 54.405, 54.625, 53.5775, 54.81, 54.2125, 54.1875, 54.84, 55.3975, 54.1025, 54.59, 55.3, 54.365, 55.0475, 55.2925, 55.39, 53.8475, 53.4475, 53.7425, 55.8025, 54.9, 54.18, 55.485, 54.8575, 55.46, 55.1075, 55.0, 55.335, 54.105, 54.6575, 54.25, 54.7575, 55.045, 54.67, 54.5075, 54.175, 54.93, 54.23, 54.5625, 54.795, 54.15, 54.4875, 55.1025, 54.035, 54.99, 55.37, 54.2675, 54.31, 54.905, 53.89, 55.0475, 53.425, 53.525, 55.185, 55.93, 54.78, 55.6175, 55.0425, 55.485, 54.625, 54.9225, 53.905, 54.4475, 54.495, 53.705, 54.9025, 55.105, 55.175, 53.545, 55.4225, 55.195, 54.4725, 54.4075, 54.54, 54.8775, 54.2525, 54.7, 54.8925, 55.08, 55.0175, 54.525, 53.8425, 54.4225, 55.3075, 55.055, 54.795, 54.5825, 53.3825, 54.9675, 53.8825, 53.9075, 54.4175, 54.405, 55.075, 54.9525, 54.0475, 54.2325, 54.5725, 54.0375, 55.405, 54.8475, 54.285, 54.17, 54.9675, 55.21, 54.985, 54.0375, 54.2575, 54.3525, 54.235, 54.2225, 55.5225, 54.545, 52.615, 54.0375, 55.23, 55.495, 54.3325, 55.065, 54.16, 55.04, 54.9625, 54.2075, 55.2625, 55.395, 54.8625, 54.8125, 54.485, 53.875, 54.455, 54.325, 54.8425, 54.4725, 54.3625, 55.38, 54.8125, 55.2075, 55.1725, 54.8275, 54.0825, 54.025, 55.0875, 54.495, 54.4975, 54.445, 54.0375, 55.15, 54.2125, 55.625, 54.2225, 55.36, 54.9525, 54.6075, 54.35, 54.675, 54.4025, 54.1175, 55.0625, 54.085, 54.3725, 54.6925, 54.225, 55.1225, 55.3375, 54.63, 53.7375, 54.7475, 55.2, 54.21, 54.165, 55.305, 54.46, 53.645, 55.145, 54.99, 54.45, 54.4575, 54.275, 53.88, 54.3625, 54.6775, 54.7025, 54.6675, 55.345, 54.79, 54.4675, 54.24, 54.3725, 54.185, 54.6725, 54.3725, 53.74, 54.5775, 53.615, 54.645, 54.9475, 53.8075, 55.0875, 55.525, 54.6875, 54.32, 54.8675, 54.44, 55.2375, 53.96, 54.645, 54.5575, 55.12, 54.1975, 53.9575, 54.435, 54.2675, 53.8725, 54.55, 54.445, 54.78, 54.385, 54.5525, 54.7825, 54.5925, 53.68, 54.99, 54.6775, 53.935, 54.1925, 55.1675, 54.365, 54.05, 55.1275, 55.1275, 55.1025, 55.095, 55.075, 55.29, 54.445, 54.445, 55.0675, 54.3, 55.47, 54.465, 53.8175, 54.6875, 52.47, 55.4325, 55.0275, 55.09, 54.6875, 55.0025, 53.9675, 53.9125, 54.3725, 55.0025, 55.5375, 54.1725, 55.24, 54.275, 54.7, 55.6775, 55.1625, 53.88, 54.36, 55.405, 54.1075, 54.4675, 54.9825, 55.165, 55.28, 54.4125, 55.49, 54.5675, 54.495, 53.725, 54.7175, 54.7475, 55.6225, 54.3625, 55.0225, 54.62, 53.4875, 54.75, 54.7725, 54.47, 54.5125, 54.485, 53.785, 54.04, 54.27, 54.515, 54.4725, 54.7, 54.2925, 54.125, 55.0075, 54.1175, 55.59, 53.855, 53.8775, 54.0325, 54.4525, 54.3975, 53.4075, 54.7, 54.9025, 54.955, 53.555, 53.8125, 55.025, 54.5075, 53.9325, 54.245, 55.4825, 54.7875, 54.94, 55.6175, 54.2575, 54.3075, 54.675, 54.055, 54.9025, 53.7775, 55.3925, 54.1975, 55.4425, 55.0375, 53.7175, 55.1325, 54.9925, 54.07, 55.55, 54.86, 54.6975, 54.2475, 54.2925, 55.0225, 54.9175, 54.8075, 55.1325, 54.6975, 54.3125, 55.125, 54.1775, 54.82, 54.97, 53.875, 53.365, 55.3175, 53.8725, 53.31, 54.6725, 53.8975, 54.8475, 54.1525, 55.1875, 54.295, 54.7175, 54.12, 54.315, 54.7725, 55.57, 54.0575, 54.54, 53.9225, 54.275, 54.93, 54.085, 55.02, 54.4375, 54.495, 54.565, 55.085, 54.87, 54.8875, 53.8425, 54.9775, 54.1525, 54.7375, 54.9075, 54.63, 54.8975, 54.065, 54.3875, 54.4475, 53.9425, 54.2175, 53.82, 54.4975, 54.2825, 54.435, 54.5325, 54.125, 55.355, 54.61, 53.68, 54.995, 53.9575, 54.86, 54.83, 54.7825, 53.6575, 54.46, 55.7525, 54.0775, 54.435, 55.2475, 54.6025, 55.24, 54.5625, 54.9075, 54.6825, 54.33, 54.6575, 54.0375, 55.1575, 54.085, 54.5075, 55.29, 54.7225, 54.825, 55.2475, 54.0225, 54.5025, 54.3775, 53.965, 54.66, 53.975, 54.9575, 54.785, 54.3175, 54.1475, 54.685, 55.3325, 54.04, 55.135, 54.7325, 54.205, 54.03, 54.53, 55.225, 53.9525, 54.4075, 54.085, 54.9875, 55.215, 54.03, 54.1625, 53.605, 54.5375, 55.055, 54.8525, 55.39, 55.4075, 54.89, 55.0125, 54.65, 54.1925, 54.6425, 55.1275, 54.8775, 53.5025, 54.22, 55.0575, 54.3025, 52.815, 53.5375, 54.735, 54.7075, 53.9575, 53.4575, 54.57, 55.1475, 53.9125, 54.8575, 55.3525, 54.5625, 53.7025, 54.505, 54.48, 54.6775, 54.605, 53.025, 53.1775, 54.745, 54.38, 54.61, 54.535, 54.57, 53.7925, 54.68, 54.4925, 54.49, 54.3425, 54.295, 54.695, 54.8525, 54.44, 54.9175, 54.305, 54.6525, 54.32, 55.0825, 54.2975, 54.41, 55.53, 53.96, 55.0625, 54.9125, 53.8625, 54.27, 53.6225, 53.845, 54.23, 54.2275, 53.8225, 53.9775, 54.8925, 54.8325, 54.655, 54.0625, 54.865, 55.185, 54.07, 54.755, 55.08, 54.37, 54.5275, 54.22, 54.635, 55.18, 54.7225, 54.645, 53.8725, 55.15, 54.58, 54.11, 54.43, 53.9025, 55.42, 54.8775, 54.385, 54.8825, 54.7625, 54.915, 53.8225, 54.1975, 54.7825, 54.6175, 54.46, 53.57, 55.205, 53.8075, 53.945, 53.9725, 54.225, 54.7575, 55.1225, 53.9625, 54.7275, 54.7275, 55.1825, 55.715, 54.35, 54.44, 55.0, 55.03, 54.725, 55.2425, 55.3675, 54.8925, 54.7375, 54.4525, 55.0775, 53.805, 55.4175, 54.1375, 53.95, 54.2875, 53.4875, 53.945, 54.1925, 54.3825, 54.4175, 54.69, 54.0275, 55.04, 54.84, 54.795, 55.585, 55.2075, 54.3, 54.1425, 55.095, 54.125, 55.035, 54.72, 54.8425, 54.3275, 54.4025, 53.705, 55.8625, 54.6025, 55.5375, 55.1725, 54.26, 54.2475, 54.2325, 54.73, 54.8375, 54.7375, 55.095, 54.7925, 55.305, 55.515, 54.3025, 54.1725, 54.3125, 53.8775, 55.1275, 54.59, 55.225, 54.035, 54.42, 55.0875, 55.7975, 55.5925, 54.3775, 53.5725, 53.7925, 54.6225, 54.285, 54.77, 54.785, 54.335, 54.63, 53.85, 54.6975, 54.465, 54.8475, 53.9925, 53.855, 54.6825, 54.52, 54.4, 53.86, 52.9525, 55.225, 53.875, 54.6175, 55.0, 54.4075, 56.22, 54.97, 54.99, 53.8625, 54.455, 54.85, 55.3775, 55.6075, 54.3525, 55.445, 54.355, 54.3825, 55.775, 54.48, 54.9875, 54.135, 54.8625, 53.8525, 54.515, 55.0625, 54.88, 55.1225, 55.8075, 54.835, 54.0075, 55.5725, 56.1625, 55.0875, 53.8825, 54.7225, 54.05, 54.185, 54.5675, 54.3225, 55.155, 53.8875, 54.465, 54.39, 54.715, 55.38, 54.7775, 53.36, 53.7775, 54.35, 54.07, 55.3275, 54.455, 54.665, 54.075, 54.13, 55.1325, 54.7275, 54.615, 53.8925, 54.73, 54.5325, 54.3775, 54.2475, 53.8475, 55.01, 54.285, 54.5625, 54.085, 54.8675, 54.3275, 54.45, 55.7425, 54.745, 54.625, 53.565, 55.0025, 54.43, 54.575, 54.815, 55.275, 54.2925, 54.4425, 54.675, 54.65, 54.845, 53.8725, 53.96, 54.3075, 55.235, 53.935, 55.735, 54.9575, 54.13, 55.0225, 54.3375, 54.4375, 53.935, 54.875, 54.2375, 54.685, 54.64, 53.8425, 53.7725, 54.2025, 54.6625, 55.615, 54.9575, 54.875, 54.36, 54.165, 54.5975, 54.42, 54.91, 54.92, 54.7025, 54.22, 55.3075, 53.7475, 54.5975, 55.06, 54.2125, 55.4075, 54.34, 55.065, 55.2175, 54.49, 54.1675, 54.785, 53.6775, 55.15, 54.0475, 54.855, 54.4725, 55.3375, 54.3475, 54.3825, 53.74, 53.6325, 54.1025, 54.735, 56.3875, 53.255, 54.89, 54.59, 55.19, 53.87, 54.665, 54.0, 54.3, 55.2525, 55.06, 54.5275, 53.5025, 55.43, 54.135, 54.1125, 54.1475, 54.66, 54.105, 55.11, 53.94, 54.4525, 54.73, 53.88, 54.2375, 55.0125, 54.405, 55.05, 54.0675, 54.145, 54.335, 55.195, 54.4, 54.605, 54.3325, 54.895, 55.4375, 54.39, 54.335, 55.1925, 55.125, 54.1475, 54.6125, 54.79, 54.165, 53.795, 54.54, 54.89, 54.1475, 54.34, 55.5275, 54.5, 54.4225, 54.5225, 54.08, 54.7825, 54.205, 54.7625, 54.07, 54.7125, 53.72, 54.94, 54.6475, 54.3325, 55.05, 54.2825, 54.425, 54.035, 55.0075, 54.935, 53.405, 54.5625, 53.955, 55.45, 54.7225, 53.55, 53.78, 54.7475, 54.8, 53.935, 54.58, 53.8875, 54.8025, 54.2775, 54.375, 55.065, 54.83, 55.195, 53.7275, 54.24, 54.43, 54.3525, 54.0225, 54.6425, 55.28, 54.6475, 53.68, 54.955, 53.4275, 54.94, 54.1775, 54.1575, 54.195, 54.785, 54.56, 54.635, 54.525, 54.77, 54.6575, 54.1925, 54.6375, 54.505, 54.215, 54.025, 54.29, 55.8225, 55.3925, 54.5575, 54.1575, 54.8, 54.08, 54.935, 54.785, 54.5925, 54.77, 55.7625, 55.77, 53.3025, 55.14, 54.4875, 55.2525, 54.435, 53.5475, 54.6375, 54.6475, 54.37, 55.265, 53.94, 55.0875, 54.8125, 54.74, 54.695, 54.85, 54.4775, 54.35, 55.58, 54.5175, 54.295, 54.955, 54.515, 54.9125, 54.99, 53.82, 55.3675, 54.84, 54.7775, 55.0375, 53.4575, 54.335, 53.7475, 55.03, 54.53, 54.15, 55.4525, 54.21, 54.655, 54.12, 54.37, 54.8825, 54.35, 54.7775, 55.3375, 54.5825, 53.33, 54.195, 54.025, 53.5575, 53.8125, 55.68, 54.9825, 54.3225, 54.73, 54.165, 55.5475, 55.095, 55.7, 55.1875, 54.285, 54.99, 55.6975, 55.505, 54.9325, 53.975, 54.035, 54.775, 54.5525, 54.5125, 53.6825, 54.26, 54.9175, 54.0375, 54.94, 53.765, 54.7275, 54.3325, 54.6375, 55.205, 54.09, 55.1275, 54.2225, 54.2775, 54.8025, 54.82, 53.985, 54.465, 54.015, 54.93, 55.065, 54.3425, 54.28, 55.6775, 55.3425, 54.7175, 53.8975, 54.4525, 54.155, 54.8225, 54.525, 53.8075, 54.585, 56.01, 54.795, 54.48, 55.3, 54.1325, 53.6175, 55.4475, 54.8575, 53.69, 54.915, 54.005, 55.1275, 53.7625, 54.4575, 55.4825, 54.78, 54.1875, 53.7825, 54.5375, 54.6025, 54.185, 54.6875, 55.2725, 54.055, 54.5175, 54.7875, 54.7225, 54.785, 54.905, 54.9625, 54.66, 54.5125, 54.6275, 55.125, 55.23, 55.1575, 54.5175, 54.5625, 54.64, 54.7775, 54.8875, 55.5275, 54.295, 54.1525, 55.3875, 53.975, 54.7325, 53.6925, 54.9825, 54.92, 54.4625, 53.3825, 54.345, 54.25, 54.9625, 55.035, 53.8925, 54.7725, 54.5475, 54.325, 54.3275, 54.215, 54.66, 54.87, 54.3225, 54.5625, 53.71, 54.25, 53.97, 54.78, 54.825, 54.5025, 54.835, 54.0125, 53.915, 54.6925, 54.6925, 54.935, 55.5925, 53.9025, 54.7075, 54.3025, 55.48, 54.8325, 54.52, 53.9625, 54.36, 54.76, 54.0775, 54.2825, 54.0475, 54.63, 53.635, 54.425, 53.975, 53.155, 54.51, 54.715, 55.07, 53.4525, 54.885, 54.3325, 54.9125, 53.9375, 53.245, 54.475, 55.0, 55.29, 54.8825, 54.7275, 53.22, 54.9275, 55.57, 53.9125, 55.1425, 54.15, 55.085, 54.205, 53.9925, 53.825, 55.06, 54.8775, 54.115, 53.19, 53.9, 54.9, 55.3125, 53.315, 56.125, 55.12, 54.315, 54.56, 54.16, 54.895, 54.8875, 54.515, 53.7825, 53.885, 55.21, 54.51, 53.815, 54.1575, 54.5175, 54.4375, 54.515, 54.11, 54.94, 54.545, 54.2925, 54.0975, 53.9825, 54.7975, 55.1375, 54.01, 54.905, 55.5875, 53.4125, 54.3675, 53.935, 54.025, 54.215, 53.965, 54.12, 54.545, 53.9075, 54.3625, 54.675, 55.3475, 54.45, 54.885, 54.9975, 54.055, 53.235, 53.9175, 54.795, 55.325, 54.79, 55.0025, 54.055, 54.93, 55.0075, 54.135, 54.8575, 54.345, 54.0325, 55.09, 54.555, 53.8775, 55.54, 54.6175, 53.94, 54.5925, 54.9775, 54.055, 55.4125, 54.8825, 54.38, 54.2625, 54.7125, 53.69, 54.1025, 55.6525, 53.775, 54.7475, 54.1125, 53.93, 54.7025, 53.935, 54.7075, 54.4, 54.945, 54.6275, 54.54, 54.4425, 54.7875, 55.4875, 54.7975, 54.4525, 54.1125, 53.715, 54.625, 54.7, 54.475, 54.0525, 53.24, 54.1025, 54.13, 54.5075, 53.805, 54.8525, 53.865, 55.4325, 55.19, 54.7725, 53.87, 54.3575, 55.12, 54.8, 54.4825, 54.505, 55.445, 54.7925, 55.0975, 54.95, 54.13, 54.63, 55.815, 53.8775, 54.375, 54.765, 54.845, 54.4325, 53.855, 54.1675, 54.725, 54.605, 54.75, 54.2075, 54.8, 54.8675, 55.455, 54.89, 55.055, 54.59, 54.87, 54.185, 54.6475, 54.515, 53.5775, 54.6575, 54.6475, 54.535, 54.42, 54.2975, 54.04, 53.3775, 54.3075, 55.2425, 54.0275, 53.6175, 54.5825, 54.9925, 54.2, 54.7275, 54.3425, 54.545, 54.4, 54.585, 55.03, 55.6625, 54.5, 55.395, 53.41, 54.3175, 54.85, 53.445, 54.4425, 55.175, 55.055, 53.425, 53.735, 54.5775, 53.4625, 54.6275, 53.855, 56.165, 54.64, 55.2575, 55.14, 53.4825, 54.31, 54.795, 53.7525, 55.1425, 54.7, 54.305, 54.89, 54.765, 55.24, 54.07, 54.46, 54.3175, 55.0425, 55.265, 54.73, 54.3975, 54.92, 54.885, 54.865, 55.355, 54.03, 54.1825, 53.9675, 54.7025, 55.1575, 53.96, 55.37, 55.2675, 54.9475, 54.3875, 54.79, 54.785, 53.6675, 54.68, 55.1525, 53.9, 54.4775, 55.1675, 54.0725, 53.5925, 54.5475, 55.2775, 54.9075, 53.225, 55.2775, 54.07, 55.0125, 54.1025, 54.53, 53.6675, 54.1725, 54.6675, 55.34, 54.56, 54.2125, 53.9175, 54.68, 55.1075, 55.065, 54.4375, 54.285, 55.4725, 55.3425, 53.8025, 55.6, 53.3475, 54.015, 54.6925, 54.9, 55.075, 54.8675, 54.3325, 54.3575, 54.105, 55.0125, 55.22, 53.9175, 53.9675, 54.675, 55.3725, 54.845, 54.2125, 54.6475, 54.7775, 54.8725, 54.835, 53.935, 54.4725, 54.925, 55.3625, 54.7275, 53.8875, 55.045, 55.6075, 54.415, 55.3325, 55.0875, 55.355, 55.7875, 54.19, 53.5875, 54.1725, 54.6825, 54.255, 54.2325, 54.07, 54.8075, 55.33, 53.8475, 54.5725, 54.4975, 54.27, 54.0575, 54.84, 54.2475, 53.3075, 54.44, 54.1325, 55.1275, 55.2625, 54.6525, 54.335, 54.5025, 53.66, 53.78, 53.9475, 53.4375, 54.3725, 55.1925, 54.395, 55.0775, 53.6275, 55.0225, 54.82, 54.6125, 54.7375, 55.19, 54.395, 54.8325, 53.72, 54.4725, 54.165, 55.2925, 55.5625, 54.475, 54.9725, 55.06, 53.885, 54.9075, 55.23, 55.0475, 54.7275, 53.955, 53.79, 55.43, 54.8225, 54.715, 54.395, 54.105, 54.75, 53.7075, 55.1875, 53.545, 54.7475, 53.805, 54.0125, 54.015, 54.3275, 53.99, 54.3875, 54.76, 53.45, 54.72, 53.9075, 52.705, 53.7475, 55.99, 55.01, 54.45, 55.0425, 53.7775, 53.365, 53.8475, 54.14, 55.0725, 54.42, 54.0625, 55.37, 55.745, 55.225, 54.895, 54.36, 53.6075, 54.02, 55.9375, 54.1875, 54.085, 54.47, 54.5125, 54.3975, 53.43, 54.485, 54.095, 54.54, 54.73, 54.575, 55.5675, 54.495, 54.9225, 55.1875, 54.5375, 55.48, 53.66, 54.9725, 55.2025, 55.4025, 54.8525, 54.8675, 55.09, 54.4275, 54.75, 53.805, 54.175, 54.3325, 54.3225, 54.9025, 55.0125, 54.5075, 55.06, 53.835, 55.5525, 53.9275, 53.905, 54.405, 54.9325, 55.385, 53.96, 53.9775, 55.21, 55.105, 54.71, 55.3725, 55.005, 54.95, 53.84, 54.3775, 54.725, 55.34, 55.0075, 54.775, 54.985, 54.4675, 54.65, 55.8025, 54.655, 54.12, 55.0875, 54.6525, 54.5875, 54.7025, 54.7, 54.0825, 53.78, 54.69, 54.585, 55.205, 54.245, 53.95, 54.8125, 54.4175, 54.7375, 54.9675, 55.295, 54.9175, 55.1125, 54.7025, 55.0425, 54.1125, 54.7825, 55.17, 54.375, 54.275, 54.615, 55.3175, 55.525, 54.4775, 54.7975, 54.955, 55.0125, 54.3475, 54.535, 53.2925, 54.6775, 54.3, 54.97, 55.1, 55.155, 55.7825, 54.3725, 53.0425, 54.72, 54.83, 54.4275, 54.8275, 54.58, 54.1225, 54.82, 54.61, 55.2, 53.395, 54.3325, 54.3425, 55.3125, 54.38, 55.1925, 54.74, 54.9175, 54.5925, 54.135, 54.8125, 52.995, 54.415, 54.35, 54.76, 54.6725, 53.435, 55.6975, 53.915, 54.3875, 54.245, 55.6675, 54.4675, 54.385, 55.2475, 53.68, 54.2925, 54.1075, 54.6375, 53.4725, 54.3425, 54.8775, 54.755, 54.965, 53.695, 54.61, 54.5325, 54.5125, 54.8025, 54.2675, 55.185, 55.3475, 52.815, 53.6525, 55.5525, 54.4875, 55.6425, 54.935, 54.305, 54.89, 54.3, 54.1625, 54.5825, 55.58, 53.6, 54.15, 54.66, 54.7775, 54.72, 54.785, 54.4825, 53.385, 54.7175, 54.1125, 54.27, 54.365, 54.965, 55.115, 54.4475, 54.6525, 54.3675, 54.3875, 55.045, 54.46, 54.14, 55.395, 55.3625, 55.3175, 54.54, 55.095, 54.905, 53.995, 54.005, 55.445, 54.46, 55.455, 55.085, 54.2475, 54.8, 55.585, 54.6225, 55.2575, 54.295, 54.6125, 54.175, 54.04, 54.795, 53.75, 53.895, 55.4675, 55.1825, 55.415, 54.4875, 54.31, 55.3125, 54.695, 54.455, 53.885, 54.585, 54.2475, 54.575, 55.045, 55.0, 54.875, 54.53, 54.8675, 54.4675, 54.29, 56.425, 53.9325, 54.58, 55.6175, 55.0525, 55.425, 55.2475, 54.1925, 53.8625, 55.1475, 54.6275, 55.3625, 55.1425, 54.87, 54.7875, 53.58, 54.6475, 53.795, 54.2625, 55.01, 54.7125, 54.675, 53.9175, 54.5725, 54.7925, 53.825, 54.5275, 53.87, 53.8125, 54.16, 54.855, 55.1375, 54.9025, 54.7975, 54.7175, 55.065, 54.1375, 54.7425, 55.0125, 55.5675, 53.925, 55.2125, 54.07, 53.425, 54.575, 55.3975, 55.115, 54.88, 54.65, 53.325, 54.1075, 54.6425, 54.3575, 54.6875, 55.66, 55.055, 54.5025, 54.46, 54.465, 54.7575, 55.1275, 55.3125, 53.765, 54.56, 53.8475, 54.9075, 54.6975, 54.25, 53.6675, 54.4375]\n"
     ]
    }
   ],
   "source": [
    "mean_popularity_2000_boot = []\n",
    "\n",
    "# Generate a bootstrap distribution of 2000 replicates\n",
    "for _ in range(2000):\n",
    "    mean_popularity_2000_boot.append(\n",
    "    \t# Resample 500 rows and calculate the mean popularity     \n",
    "    \tnp.mean( spotify_sample.sample(frac=1, replace=True)['popularity'].mean())\n",
    "    )\n",
    "\n",
    "# Print the bootstrap distribution results\n",
    "print(mean_popularity_2000_boot)"
   ]
  },
  {
   "cell_type": "code",
   "execution_count": 126,
   "metadata": {},
   "outputs": [
    {
     "name": "stdout",
     "output_type": "stream",
     "text": [
      "[54.837142308430955, 54.5875, 54.84353, 54.56566]\n"
     ]
    }
   ],
   "source": [
    "# Calculate the population mean popularity\n",
    "pop_mean = spotify_population['popularity'].mean()\n",
    "\n",
    "# Calculate the original sample mean popularity\n",
    "samp_mean = spotify_sample['popularity'].mean()\n",
    "\n",
    "# Calculate the sampling dist'n estimate of mean popularity\n",
    "samp_distn_mean = np.mean(mean_popularity_2000_samp)\n",
    "\n",
    "# Calculate the bootstrap dist'n estimate of mean popularity\n",
    "boot_distn_mean = np.mean(mean_popularity_2000_boot)\n",
    "\n",
    "# Print the means\n",
    "print([pop_mean, samp_mean, samp_distn_mean, boot_distn_mean])"
   ]
  },
  {
   "cell_type": "code",
   "execution_count": 127,
   "metadata": {},
   "outputs": [
    {
     "name": "stdout",
     "output_type": "stream",
     "text": [
      "[10.880065274257536, 11.20362203113535, 34.36379738599029, 39.14856002301922]\n"
     ]
    }
   ],
   "source": [
    "# Calculate the population std dev popularity\n",
    "pop_sd = spotify_population['popularity'].std(ddof=0)\n",
    "\n",
    "# Calculate the original sample std dev popularity\n",
    "samp_sd = spotify_sample['popularity'].std()\n",
    "\n",
    "# Calculate the sampling dist'n estimate of std dev popularity\n",
    "samp_distn_sd = np.std(mean_popularity_2000_samp, ddof=1) * np.sqrt(5000)\n",
    "\n",
    "# Calculate the bootstrap dist'n estimate of std dev popularity\n",
    "boot_distn_sd = np.std(mean_popularity_2000_boot, ddof=1) * np.sqrt(5000)\n",
    "\n",
    "# Print the standard deviations\n",
    "print([pop_sd, samp_sd, samp_distn_sd, boot_distn_sd])"
   ]
  },
  {
   "cell_type": "markdown",
   "metadata": {},
   "source": [
    "### Confidence Intervals"
   ]
  },
  {
   "cell_type": "code",
   "execution_count": 154,
   "metadata": {},
   "outputs": [
    {
     "data": {
      "text/plain": [
       "'WILL,SHAK'"
      ]
     },
     "execution_count": 154,
     "metadata": {},
     "output_type": "execute_result"
    }
   ],
   "source": [
    "import re\n",
    "val = 'WILLiamSHAKs'\n",
    "vals = re.findall('([A-Z]+)', val)\n",
    "max_len = max([len(_) for _ in vals])\n",
    "longest = [_ for _ in vals if len(_)==max_len]\n",
    "if longest:\n",
    "  ','.join(longest)\n",
    "else:\n",
    "  ''\n",
    "# print(max(vals, key=len))"
   ]
  },
  {
   "cell_type": "code",
   "execution_count": null,
   "metadata": {},
   "outputs": [],
   "source": []
  }
 ],
 "metadata": {
  "kernelspec": {
   "display_name": "Python 3",
   "language": "python",
   "name": "python3"
  },
  "language_info": {
   "codemirror_mode": {
    "name": "ipython",
    "version": 3
   },
   "file_extension": ".py",
   "mimetype": "text/x-python",
   "name": "python",
   "nbconvert_exporter": "python",
   "pygments_lexer": "ipython3",
   "version": "3.10.11"
  }
 },
 "nbformat": 4,
 "nbformat_minor": 2
}
