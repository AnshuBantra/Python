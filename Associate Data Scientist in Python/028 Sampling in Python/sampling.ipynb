{
 "cells": [
  {
   "cell_type": "markdown",
   "metadata": {},
   "source": [
    "# Sampling in Python"
   ]
  },
  {
   "cell_type": "markdown",
   "metadata": {},
   "source": [
    "## Introduction to Sampling"
   ]
  },
  {
   "cell_type": "markdown",
   "metadata": {},
   "source": [
    "### Sampling and Point Estimates"
   ]
  },
  {
   "cell_type": "code",
   "execution_count": 2,
   "metadata": {},
   "outputs": [
    {
     "name": "stdout",
     "output_type": "stream",
     "text": [
      "Collecting pyarrow\n",
      "  Downloading pyarrow-16.0.0-cp311-cp311-win_amd64.whl.metadata (3.1 kB)\n",
      "Requirement already satisfied: numpy>=1.16.6 in c:\\python311\\lib\\site-packages (from pyarrow) (1.25.2)\n",
      "Downloading pyarrow-16.0.0-cp311-cp311-win_amd64.whl (25.9 MB)\n",
      "   ---------------------------------------- 0.0/25.9 MB ? eta -:--:--\n",
      "   ---------------------------------------- 0.0/25.9 MB ? eta -:--:--\n",
      "   ---------------------------------------- 0.0/25.9 MB ? eta -:--:--\n",
      "   ---------------------------------------- 0.0/25.9 MB 330.3 kB/s eta 0:01:19\n",
      "   ---------------------------------------- 0.1/25.9 MB 573.4 kB/s eta 0:00:45\n",
      "   ---------------------------------------- 0.2/25.9 MB 1.4 MB/s eta 0:00:19\n",
      "    --------------------------------------- 0.5/25.9 MB 2.3 MB/s eta 0:00:12\n",
      "   - -------------------------------------- 1.0/25.9 MB 3.6 MB/s eta 0:00:08\n",
      "   -- ------------------------------------- 1.5/25.9 MB 4.7 MB/s eta 0:00:06\n",
      "   -- ------------------------------------- 1.9/25.9 MB 5.2 MB/s eta 0:00:05\n",
      "   --- ------------------------------------ 2.2/25.9 MB 5.4 MB/s eta 0:00:05\n",
      "   ---- ----------------------------------- 2.8/25.9 MB 6.1 MB/s eta 0:00:04\n",
      "   ----- ---------------------------------- 3.2/25.9 MB 6.7 MB/s eta 0:00:04\n",
      "   ----- ---------------------------------- 3.8/25.9 MB 7.0 MB/s eta 0:00:04\n",
      "   ------ --------------------------------- 4.3/25.9 MB 7.3 MB/s eta 0:00:03\n",
      "   ------ --------------------------------- 4.3/25.9 MB 6.8 MB/s eta 0:00:04\n",
      "   -------- ------------------------------- 5.3/25.9 MB 7.6 MB/s eta 0:00:03\n",
      "   -------- ------------------------------- 5.7/25.9 MB 7.9 MB/s eta 0:00:03\n",
      "   --------- ------------------------------ 6.2/25.9 MB 8.1 MB/s eta 0:00:03\n",
      "   ---------- ----------------------------- 6.6/25.9 MB 8.2 MB/s eta 0:00:03\n",
      "   ----------- ---------------------------- 7.1/25.9 MB 8.3 MB/s eta 0:00:03\n",
      "   ----------- ---------------------------- 7.6/25.9 MB 8.4 MB/s eta 0:00:03\n",
      "   ------------ --------------------------- 8.1/25.9 MB 8.5 MB/s eta 0:00:03\n",
      "   ------------- -------------------------- 8.6/25.9 MB 8.6 MB/s eta 0:00:02\n",
      "   -------------- ------------------------- 9.1/25.9 MB 8.7 MB/s eta 0:00:02\n",
      "   -------------- ------------------------- 9.6/25.9 MB 8.8 MB/s eta 0:00:02\n",
      "   --------------- ------------------------ 10.1/25.9 MB 8.8 MB/s eta 0:00:02\n",
      "   ---------------- ----------------------- 10.7/25.9 MB 10.4 MB/s eta 0:00:02\n",
      "   ----------------- ---------------------- 11.2/25.9 MB 10.6 MB/s eta 0:00:02\n",
      "   ------------------ --------------------- 11.7/25.9 MB 10.6 MB/s eta 0:00:02\n",
      "   ------------------ --------------------- 12.2/25.9 MB 10.7 MB/s eta 0:00:02\n",
      "   ------------------- -------------------- 12.8/25.9 MB 10.7 MB/s eta 0:00:02\n",
      "   -------------------- ------------------- 13.3/25.9 MB 10.7 MB/s eta 0:00:02\n",
      "   --------------------- ------------------ 13.8/25.9 MB 10.7 MB/s eta 0:00:02\n",
      "   --------------------- ------------------ 14.2/25.9 MB 10.9 MB/s eta 0:00:02\n",
      "   ---------------------- ----------------- 14.7/25.9 MB 11.1 MB/s eta 0:00:02\n",
      "   ----------------------- ---------------- 15.1/25.9 MB 10.7 MB/s eta 0:00:02\n",
      "   ------------------------ --------------- 15.7/25.9 MB 10.9 MB/s eta 0:00:01\n",
      "   ------------------------- -------------- 16.2/25.9 MB 11.1 MB/s eta 0:00:01\n",
      "   ------------------------- -------------- 16.6/25.9 MB 10.9 MB/s eta 0:00:01\n",
      "   -------------------------- ------------- 17.1/25.9 MB 10.9 MB/s eta 0:00:01\n",
      "   --------------------------- ------------ 17.7/25.9 MB 10.9 MB/s eta 0:00:01\n",
      "   ---------------------------- ----------- 18.2/25.9 MB 10.9 MB/s eta 0:00:01\n",
      "   ---------------------------- ----------- 18.7/25.9 MB 10.9 MB/s eta 0:00:01\n",
      "   ----------------------------- ---------- 19.2/25.9 MB 10.9 MB/s eta 0:00:01\n",
      "   ------------------------------ --------- 19.8/25.9 MB 10.9 MB/s eta 0:00:01\n",
      "   ------------------------------- -------- 20.3/25.9 MB 11.1 MB/s eta 0:00:01\n",
      "   -------------------------------- ------- 20.8/25.9 MB 11.1 MB/s eta 0:00:01\n",
      "   -------------------------------- ------- 21.3/25.9 MB 11.1 MB/s eta 0:00:01\n",
      "   --------------------------------- ------ 21.9/25.9 MB 10.9 MB/s eta 0:00:01\n",
      "   ---------------------------------- ----- 22.4/25.9 MB 11.1 MB/s eta 0:00:01\n",
      "   ----------------------------------- ---- 22.8/25.9 MB 11.1 MB/s eta 0:00:01\n",
      "   ------------------------------------ --- 23.3/25.9 MB 11.1 MB/s eta 0:00:01\n",
      "   ------------------------------------ --- 23.9/25.9 MB 11.1 MB/s eta 0:00:01\n",
      "   ------------------------------------- -- 24.4/25.9 MB 11.3 MB/s eta 0:00:01\n",
      "   -------------------------------------- - 25.0/25.9 MB 11.3 MB/s eta 0:00:01\n",
      "   ---------------------------------------  25.5/25.9 MB 11.3 MB/s eta 0:00:01\n",
      "   ---------------------------------------  25.9/25.9 MB 11.3 MB/s eta 0:00:01\n",
      "   ---------------------------------------  25.9/25.9 MB 11.3 MB/s eta 0:00:01\n",
      "   ---------------------------------------- 25.9/25.9 MB 10.2 MB/s eta 0:00:00\n",
      "Installing collected packages: pyarrow\n",
      "Successfully installed pyarrow-16.0.0\n",
      "Note: you may need to restart the kernel to use updated packages.\n"
     ]
    }
   ],
   "source": [
    "# pip install pyarrow"
   ]
  },
  {
   "cell_type": "code",
   "execution_count": 23,
   "metadata": {},
   "outputs": [
    {
     "name": "stdout",
     "output_type": "stream",
     "text": [
      "(41656, 20)\n"
     ]
    },
    {
     "data": {
      "text/html": [
       "<div>\n",
       "<style scoped>\n",
       "    .dataframe tbody tr th:only-of-type {\n",
       "        vertical-align: middle;\n",
       "    }\n",
       "\n",
       "    .dataframe tbody tr th {\n",
       "        vertical-align: top;\n",
       "    }\n",
       "\n",
       "    .dataframe thead th {\n",
       "        text-align: right;\n",
       "    }\n",
       "</style>\n",
       "<table border=\"1\" class=\"dataframe\">\n",
       "  <thead>\n",
       "    <tr style=\"text-align: right;\">\n",
       "      <th></th>\n",
       "      <th>acousticness</th>\n",
       "      <th>artists</th>\n",
       "      <th>danceability</th>\n",
       "      <th>duration_ms</th>\n",
       "      <th>duration_minutes</th>\n",
       "      <th>energy</th>\n",
       "      <th>explicit</th>\n",
       "      <th>id</th>\n",
       "      <th>instrumentalness</th>\n",
       "      <th>key</th>\n",
       "      <th>liveness</th>\n",
       "      <th>loudness</th>\n",
       "      <th>mode</th>\n",
       "      <th>name</th>\n",
       "      <th>popularity</th>\n",
       "      <th>release_date</th>\n",
       "      <th>speechiness</th>\n",
       "      <th>tempo</th>\n",
       "      <th>valence</th>\n",
       "      <th>year</th>\n",
       "    </tr>\n",
       "  </thead>\n",
       "  <tbody>\n",
       "    <tr>\n",
       "      <th>0</th>\n",
       "      <td>0.97200</td>\n",
       "      <td>['David Bauer']</td>\n",
       "      <td>0.567</td>\n",
       "      <td>313293.0</td>\n",
       "      <td>5.221550</td>\n",
       "      <td>0.227</td>\n",
       "      <td>0.0</td>\n",
       "      <td>0w0D8H1ubRerCXHWYJkinO</td>\n",
       "      <td>0.601000</td>\n",
       "      <td>10.0</td>\n",
       "      <td>0.110</td>\n",
       "      <td>-13.441</td>\n",
       "      <td>1.0</td>\n",
       "      <td>Shout to the Lord</td>\n",
       "      <td>47.0</td>\n",
       "      <td>2000</td>\n",
       "      <td>0.0290</td>\n",
       "      <td>136.123</td>\n",
       "      <td>0.0396</td>\n",
       "      <td>2000.0</td>\n",
       "    </tr>\n",
       "    <tr>\n",
       "      <th>1</th>\n",
       "      <td>0.32100</td>\n",
       "      <td>['Etta James']</td>\n",
       "      <td>0.821</td>\n",
       "      <td>360240.0</td>\n",
       "      <td>6.004000</td>\n",
       "      <td>0.418</td>\n",
       "      <td>0.0</td>\n",
       "      <td>4JVeqfE2tpi7Pv63LJZtPh</td>\n",
       "      <td>0.000372</td>\n",
       "      <td>9.0</td>\n",
       "      <td>0.222</td>\n",
       "      <td>-9.841</td>\n",
       "      <td>0.0</td>\n",
       "      <td>Miss You</td>\n",
       "      <td>51.0</td>\n",
       "      <td>2000-12-12</td>\n",
       "      <td>0.0407</td>\n",
       "      <td>117.382</td>\n",
       "      <td>0.8030</td>\n",
       "      <td>2000.0</td>\n",
       "    </tr>\n",
       "    <tr>\n",
       "      <th>2</th>\n",
       "      <td>0.00659</td>\n",
       "      <td>['Quasimoto']</td>\n",
       "      <td>0.706</td>\n",
       "      <td>202507.0</td>\n",
       "      <td>3.375117</td>\n",
       "      <td>0.602</td>\n",
       "      <td>1.0</td>\n",
       "      <td>5pxtdhLAi0RTh1gNqhGMNA</td>\n",
       "      <td>0.000138</td>\n",
       "      <td>11.0</td>\n",
       "      <td>0.400</td>\n",
       "      <td>-8.306</td>\n",
       "      <td>0.0</td>\n",
       "      <td>Real Eyes</td>\n",
       "      <td>44.0</td>\n",
       "      <td>2000-06-13</td>\n",
       "      <td>0.3420</td>\n",
       "      <td>89.692</td>\n",
       "      <td>0.4790</td>\n",
       "      <td>2000.0</td>\n",
       "    </tr>\n",
       "    <tr>\n",
       "      <th>3</th>\n",
       "      <td>0.00390</td>\n",
       "      <td>['Millencolin']</td>\n",
       "      <td>0.368</td>\n",
       "      <td>173360.0</td>\n",
       "      <td>2.889333</td>\n",
       "      <td>0.977</td>\n",
       "      <td>0.0</td>\n",
       "      <td>3jRsoe4Vkxa4BMYqGHX8L0</td>\n",
       "      <td>0.000000</td>\n",
       "      <td>11.0</td>\n",
       "      <td>0.350</td>\n",
       "      <td>-2.757</td>\n",
       "      <td>0.0</td>\n",
       "      <td>Penguins &amp; Polarbears</td>\n",
       "      <td>52.0</td>\n",
       "      <td>2000-02-22</td>\n",
       "      <td>0.1270</td>\n",
       "      <td>165.889</td>\n",
       "      <td>0.5480</td>\n",
       "      <td>2000.0</td>\n",
       "    </tr>\n",
       "    <tr>\n",
       "      <th>4</th>\n",
       "      <td>0.12200</td>\n",
       "      <td>['Steve Chou']</td>\n",
       "      <td>0.501</td>\n",
       "      <td>344200.0</td>\n",
       "      <td>5.736667</td>\n",
       "      <td>0.511</td>\n",
       "      <td>0.0</td>\n",
       "      <td>4mronxcllhfyhBRqyZi8kU</td>\n",
       "      <td>0.000000</td>\n",
       "      <td>7.0</td>\n",
       "      <td>0.279</td>\n",
       "      <td>-9.836</td>\n",
       "      <td>0.0</td>\n",
       "      <td>黃昏</td>\n",
       "      <td>53.0</td>\n",
       "      <td>2000-12-25</td>\n",
       "      <td>0.0291</td>\n",
       "      <td>78.045</td>\n",
       "      <td>0.1130</td>\n",
       "      <td>2000.0</td>\n",
       "    </tr>\n",
       "  </tbody>\n",
       "</table>\n",
       "</div>"
      ],
      "text/plain": [
       "   acousticness          artists  danceability  duration_ms  duration_minutes  \\\n",
       "0       0.97200  ['David Bauer']         0.567     313293.0          5.221550   \n",
       "1       0.32100   ['Etta James']         0.821     360240.0          6.004000   \n",
       "2       0.00659    ['Quasimoto']         0.706     202507.0          3.375117   \n",
       "3       0.00390  ['Millencolin']         0.368     173360.0          2.889333   \n",
       "4       0.12200   ['Steve Chou']         0.501     344200.0          5.736667   \n",
       "\n",
       "   energy  explicit                      id  instrumentalness   key  liveness  \\\n",
       "0   0.227       0.0  0w0D8H1ubRerCXHWYJkinO          0.601000  10.0     0.110   \n",
       "1   0.418       0.0  4JVeqfE2tpi7Pv63LJZtPh          0.000372   9.0     0.222   \n",
       "2   0.602       1.0  5pxtdhLAi0RTh1gNqhGMNA          0.000138  11.0     0.400   \n",
       "3   0.977       0.0  3jRsoe4Vkxa4BMYqGHX8L0          0.000000  11.0     0.350   \n",
       "4   0.511       0.0  4mronxcllhfyhBRqyZi8kU          0.000000   7.0     0.279   \n",
       "\n",
       "   loudness  mode                   name  popularity release_date  \\\n",
       "0   -13.441   1.0      Shout to the Lord        47.0         2000   \n",
       "1    -9.841   0.0               Miss You        51.0   2000-12-12   \n",
       "2    -8.306   0.0              Real Eyes        44.0   2000-06-13   \n",
       "3    -2.757   0.0  Penguins & Polarbears        52.0   2000-02-22   \n",
       "4    -9.836   0.0                     黃昏        53.0   2000-12-25   \n",
       "\n",
       "   speechiness    tempo  valence    year  \n",
       "0       0.0290  136.123   0.0396  2000.0  \n",
       "1       0.0407  117.382   0.8030  2000.0  \n",
       "2       0.3420   89.692   0.4790  2000.0  \n",
       "3       0.1270  165.889   0.5480  2000.0  \n",
       "4       0.0291   78.045   0.1130  2000.0  "
      ]
     },
     "execution_count": 23,
     "metadata": {},
     "output_type": "execute_result"
    }
   ],
   "source": [
    "import pandas as pd\n",
    "import numpy as np\n",
    "import matplotlib.pyplot as plt\n",
    "spotify_population = pd.read_feather(r'./data/spotify_2000_2020.feather')\n",
    "print(spotify_population.shape)\n",
    "spotify_population.head()"
   ]
  },
  {
   "cell_type": "code",
   "execution_count": 12,
   "metadata": {},
   "outputs": [],
   "source": [
    "import pprint as pp\n",
    "import tabulate"
   ]
  },
  {
   "cell_type": "code",
   "execution_count": 16,
   "metadata": {},
   "outputs": [
    {
     "name": "stdout",
     "output_type": "stream",
     "text": [
      "+-------+----------------+----------------------------------------------------------------------------------------+----------------+---------------+--------------------+----------+------------+------------------------+--------------------+-------+------------+------------+--------+--------------------------------+--------------+----------------+---------------+---------+-----------+--------+\n",
      "|       |   acousticness | artists                                                                                |   danceability |   duration_ms |   duration_minutes |   energy |   explicit | id                     |   instrumentalness |   key |   liveness |   loudness |   mode | name                           |   popularity | release_date   |   speechiness |   tempo |   valence |   year |\n",
      "|-------+----------------+----------------------------------------------------------------------------------------+----------------+---------------+--------------------+----------+------------+------------------------+--------------------+-------+------------+------------+--------+--------------------------------+--------------+----------------+---------------+---------+-----------+--------|\n",
      "| 10724 |        0.00313 | ['Chevelle']                                                                           |          0.496 |        343533 |            5.72555 |    0.884 |          0 | 5912VywSVB1xQaSGosKg0t |           0.185    |     8 |     0.166  |     -5.262 |      1 | An Evening with El Diablo      |           38 | 2002           |        0.0969 | 192.158 |     0.305 |   2002 |\n",
      "|   651 |        0.0788  | ['The Cheetah Girls', 'Drew Steely', 'Belinda']                                        |          0.66  |        192147 |            3.20245 |    0.779 |          0 | 2sggS6A5pA0KWaleWsHzmL |           1.48e-06 |     1 |     0.0884 |     -4.938 |      1 | Dance With Me                  |           46 | 2006-01-01     |        0.0437 | 102.964 |     0.341 |   2006 |\n",
      "|  5272 |        0.457   | ['Jerry Rivera']                                                                       |          0.692 |        305293 |            5.08822 |    0.769 |          0 | 0r8RjrJjZ9U3OxZpGsn3v8 |           0.0992   |     0 |     0.0413 |     -7.002 |      1 | Amores como el nuestro (Salsa) |           56 | 2010-11-03     |        0.0499 | 179.353 |     0.603 |   2010 |\n",
      "| 17420 |        0.34    | ['Daryl Hall & John Oates', 'Arif Mardin', 'Chris Bond', 'Jimmy Douglass', 'Lew Hahn'] |          0.515 |        313507 |            5.22512 |    0.46  |          0 | 3xPuV7UDsl96jkfKEr7iGH |           3.66e-05 |     4 |     0.638  |     -9.295 |      1 | She's Gone                     |           38 | 2007-05-22     |        0.0466 |  77.913 |     0.36  |   2007 |\n",
      "| 22594 |        0.138   | ['Lil Skies']                                                                          |          0.718 |        156000 |            2.6     |    0.767 |          1 | 7oJrVhiTPZGBXWPwhxjy9S |           0        |     9 |     0.114  |     -5.641 |      1 | Lust                           |           78 | 2017-12-12     |        0.166  | 160.084 |     0.519 |   2017 |\n",
      "+-------+----------------+----------------------------------------------------------------------------------------+----------------+---------------+--------------------+----------+------------+------------------------+--------------------+-------+------------+------------+--------+--------------------------------+--------------+----------------+---------------+---------+-----------+--------+\n",
      "3.8521519140900073\n",
      "3.81676475\n"
     ]
    }
   ],
   "source": [
    "\n",
    "# Sample 1000 rows from spotify_population\n",
    "spotify_sample = spotify_population.sample(n=1000)\n",
    "\n",
    "# Print the sample\n",
    "print(tabulate.tabulate(spotify_sample.head(), headers='keys', tablefmt='psql'))\n",
    "\n",
    "# Calculate the mean duration in mins from spotify_population\n",
    "mean_dur_pop = spotify_population['duration_minutes'].mean()\n",
    "\n",
    "# Calculate the mean duration in mins from spotify_sample\n",
    "mean_dur_samp = spotify_sample['duration_minutes'].mean()\n",
    "\n",
    "# Print the means\n",
    "print(mean_dur_pop)\n",
    "print(mean_dur_samp)"
   ]
  },
  {
   "cell_type": "code",
   "execution_count": 19,
   "metadata": {},
   "outputs": [
    {
     "name": "stdout",
     "output_type": "stream",
     "text": [
      "-7.366856851353947\n",
      "-7.621790000000001\n"
     ]
    }
   ],
   "source": [
    "# Create a pandas Series from the loudness column of spotify_population\n",
    "loudness_pop = spotify_population['loudness']\n",
    "\n",
    "# Sample 100 values of loudness_pop\n",
    "loudness_samp = loudness_pop.sample(n=100)\n",
    "\n",
    "# Calculate the mean of loudness_pop\n",
    "mean_loudness_pop = loudness_pop.mean()\n",
    "\n",
    "# Calculate the mean of loudness_samp\n",
    "mean_loudness_samp = loudness_samp.mean()\n",
    "\n",
    "print(mean_loudness_pop)\n",
    "print(mean_loudness_samp)"
   ]
  },
  {
   "cell_type": "markdown",
   "metadata": {},
   "source": [
    "### Convenience Sampling"
   ]
  },
  {
   "cell_type": "code",
   "execution_count": 24,
   "metadata": {},
   "outputs": [
    {
     "data": {
      "image/png": "[encoded data removed]",
      "text/plain": [
       "<Figure size 640x480 with 1 Axes>"
      ]
     },
     "metadata": {},
     "output_type": "display_data"
    }
   ],
   "source": [
    "spotify_population['acousticness'].hist(bins=np.arange(0, 1.01, 0.01))\n",
    "plt.show();"
   ]
  },
  {
   "cell_type": "code",
   "execution_count": 26,
   "metadata": {},
   "outputs": [
    {
     "data": {
      "image/png": "[encoded data removed]",
      "text/plain": [
       "<Figure size 640x480 with 1 Axes>"
      ]
     },
     "metadata": {},
     "output_type": "display_data"
    }
   ],
   "source": [
    "# Update the histogram to use spotify_mysterious_sample2\n",
    "spotify_population['duration_minutes'].hist(bins=np.arange(0, 15.5, 0.5))\n",
    "plt.show();"
   ]
  },
  {
   "cell_type": "markdown",
   "metadata": {},
   "source": [
    "### Pseudo-random number generation"
   ]
  },
  {
   "cell_type": "code",
   "execution_count": 27,
   "metadata": {},
   "outputs": [
    {
     "name": "stdout",
     "output_type": "stream",
     "text": [
      "[ 1.8903776  -2.05128868 -0.16881283 ... -1.59378423  1.30483117\n",
      "  1.7339723 ]\n"
     ]
    }
   ],
   "source": [
    "# Generate random numbers from a Uniform(-3, 3)\n",
    "uniforms = np.random.uniform(low=-3, high=3, size=5000)\n",
    "\n",
    "# Print uniforms\n",
    "print(uniforms)"
   ]
  },
  {
   "cell_type": "code",
   "execution_count": 28,
   "metadata": {},
   "outputs": [
    {
     "name": "stdout",
     "output_type": "stream",
     "text": [
      "[7.4404665  5.20713531 3.46681501 ... 3.99275844 0.9369629  7.55172889]\n"
     ]
    }
   ],
   "source": [
    "# Generate random numbers from a Uniform(-3, 3)\n",
    "uniforms = np.random.uniform(low=-3, high=3, size=5000)\n",
    "\n",
    "# Generate random numbers from a Normal(5, 2)\n",
    "normals = np.random.normal(loc=5, scale=2, size=5000)\n",
    "\n",
    "# Print normals\n",
    "print(normals)"
   ]
  },
  {
   "cell_type": "code",
   "execution_count": 29,
   "metadata": {},
   "outputs": [
    {
     "data": {
      "image/png": "[encoded data removed]",
      "text/plain": [
       "<Figure size 640x480 with 1 Axes>"
      ]
     },
     "metadata": {},
     "output_type": "display_data"
    }
   ],
   "source": [
    "# Generate random numbers from a Uniform(-3, 3)\n",
    "uniforms = np.random.uniform(low=-3, high=3, size=5000)\n",
    "\n",
    "# Plot a histogram of uniform values, binwidth 0.25\n",
    "plt.hist(uniforms, bins=np.arange(-3,3.25, 0.25))\n",
    "plt.show();"
   ]
  },
  {
   "cell_type": "code",
   "execution_count": 30,
   "metadata": {},
   "outputs": [
    {
     "data": {
      "image/png": "[encoded data removed]",
      "text/plain": [
       "<Figure size 640x480 with 1 Axes>"
      ]
     },
     "metadata": {},
     "output_type": "display_data"
    }
   ],
   "source": [
    "# Generate random numbers from a Normal(5, 2)\n",
    "normals = np.random.normal(loc=5, scale=2, size=5000)\n",
    "\n",
    "# Plot a histogram of normal values, binwidth 0.5\n",
    "plt.hist(normals, np.arange(-2, 13.5, 0.5))\n",
    "plt.show()"
   ]
  },
  {
   "cell_type": "markdown",
   "metadata": {},
   "source": [
    "## Simple random and systematic sampling"
   ]
  },
  {
   "cell_type": "code",
   "execution_count": null,
   "metadata": {},
   "outputs": [],
   "source": []
  }
 ],
 "metadata": {
  "kernelspec": {
   "display_name": "Python 3",
   "language": "python",
   "name": "python3"
  },
  "language_info": {
   "codemirror_mode": {
    "name": "ipython",
    "version": 3
   },
   "file_extension": ".py",
   "mimetype": "text/x-python",
   "name": "python",
   "nbconvert_exporter": "python",
   "pygments_lexer": "ipython3",
   "version": "3.11.5"
  }
 },
 "nbformat": 4,
 "nbformat_minor": 2
}
