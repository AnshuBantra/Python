{
 "cells": [
  {
   "cell_type": "markdown",
   "metadata": {},
   "source": [
    "# Sampling in Python"
   ]
  },
  {
   "cell_type": "markdown",
   "metadata": {},
   "source": [
    "## Introduction to Sampling"
   ]
  },
  {
   "cell_type": "markdown",
   "metadata": {},
   "source": [
    "### Sampling and Point Estimates"
   ]
  },
  {
   "cell_type": "code",
   "execution_count": 1,
   "metadata": {},
   "outputs": [],
   "source": [
    "# pip install pyarrow"
   ]
  },
  {
   "cell_type": "code",
   "execution_count": 2,
   "metadata": {},
   "outputs": [
    {
     "name": "stdout",
     "output_type": "stream",
     "text": [
      "(41656, 20)\n"
     ]
    },
    {
     "data": {
      "text/html": [
       "<div>\n",
       "<style scoped>\n",
       "    .dataframe tbody tr th:only-of-type {\n",
       "        vertical-align: middle;\n",
       "    }\n",
       "\n",
       "    .dataframe tbody tr th {\n",
       "        vertical-align: top;\n",
       "    }\n",
       "\n",
       "    .dataframe thead th {\n",
       "        text-align: right;\n",
       "    }\n",
       "</style>\n",
       "<table border=\"1\" class=\"dataframe\">\n",
       "  <thead>\n",
       "    <tr style=\"text-align: right;\">\n",
       "      <th></th>\n",
       "      <th>acousticness</th>\n",
       "      <th>artists</th>\n",
       "      <th>danceability</th>\n",
       "      <th>duration_ms</th>\n",
       "      <th>duration_minutes</th>\n",
       "      <th>energy</th>\n",
       "      <th>explicit</th>\n",
       "      <th>id</th>\n",
       "      <th>instrumentalness</th>\n",
       "      <th>key</th>\n",
       "      <th>liveness</th>\n",
       "      <th>loudness</th>\n",
       "      <th>mode</th>\n",
       "      <th>name</th>\n",
       "      <th>popularity</th>\n",
       "      <th>release_date</th>\n",
       "      <th>speechiness</th>\n",
       "      <th>tempo</th>\n",
       "      <th>valence</th>\n",
       "      <th>year</th>\n",
       "    </tr>\n",
       "  </thead>\n",
       "  <tbody>\n",
       "    <tr>\n",
       "      <th>0</th>\n",
       "      <td>0.97200</td>\n",
       "      <td>['David Bauer']</td>\n",
       "      <td>0.567</td>\n",
       "      <td>313293.0</td>\n",
       "      <td>5.221550</td>\n",
       "      <td>0.227</td>\n",
       "      <td>0.0</td>\n",
       "      <td>0w0D8H1ubRerCXHWYJkinO</td>\n",
       "      <td>0.601000</td>\n",
       "      <td>10.0</td>\n",
       "      <td>0.110</td>\n",
       "      <td>-13.441</td>\n",
       "      <td>1.0</td>\n",
       "      <td>Shout to the Lord</td>\n",
       "      <td>47.0</td>\n",
       "      <td>2000</td>\n",
       "      <td>0.0290</td>\n",
       "      <td>136.123</td>\n",
       "      <td>0.0396</td>\n",
       "      <td>2000.0</td>\n",
       "    </tr>\n",
       "    <tr>\n",
       "      <th>1</th>\n",
       "      <td>0.32100</td>\n",
       "      <td>['Etta James']</td>\n",
       "      <td>0.821</td>\n",
       "      <td>360240.0</td>\n",
       "      <td>6.004000</td>\n",
       "      <td>0.418</td>\n",
       "      <td>0.0</td>\n",
       "      <td>4JVeqfE2tpi7Pv63LJZtPh</td>\n",
       "      <td>0.000372</td>\n",
       "      <td>9.0</td>\n",
       "      <td>0.222</td>\n",
       "      <td>-9.841</td>\n",
       "      <td>0.0</td>\n",
       "      <td>Miss You</td>\n",
       "      <td>51.0</td>\n",
       "      <td>2000-12-12</td>\n",
       "      <td>0.0407</td>\n",
       "      <td>117.382</td>\n",
       "      <td>0.8030</td>\n",
       "      <td>2000.0</td>\n",
       "    </tr>\n",
       "    <tr>\n",
       "      <th>2</th>\n",
       "      <td>0.00659</td>\n",
       "      <td>['Quasimoto']</td>\n",
       "      <td>0.706</td>\n",
       "      <td>202507.0</td>\n",
       "      <td>3.375117</td>\n",
       "      <td>0.602</td>\n",
       "      <td>1.0</td>\n",
       "      <td>5pxtdhLAi0RTh1gNqhGMNA</td>\n",
       "      <td>0.000138</td>\n",
       "      <td>11.0</td>\n",
       "      <td>0.400</td>\n",
       "      <td>-8.306</td>\n",
       "      <td>0.0</td>\n",
       "      <td>Real Eyes</td>\n",
       "      <td>44.0</td>\n",
       "      <td>2000-06-13</td>\n",
       "      <td>0.3420</td>\n",
       "      <td>89.692</td>\n",
       "      <td>0.4790</td>\n",
       "      <td>2000.0</td>\n",
       "    </tr>\n",
       "    <tr>\n",
       "      <th>3</th>\n",
       "      <td>0.00390</td>\n",
       "      <td>['Millencolin']</td>\n",
       "      <td>0.368</td>\n",
       "      <td>173360.0</td>\n",
       "      <td>2.889333</td>\n",
       "      <td>0.977</td>\n",
       "      <td>0.0</td>\n",
       "      <td>3jRsoe4Vkxa4BMYqGHX8L0</td>\n",
       "      <td>0.000000</td>\n",
       "      <td>11.0</td>\n",
       "      <td>0.350</td>\n",
       "      <td>-2.757</td>\n",
       "      <td>0.0</td>\n",
       "      <td>Penguins &amp; Polarbears</td>\n",
       "      <td>52.0</td>\n",
       "      <td>2000-02-22</td>\n",
       "      <td>0.1270</td>\n",
       "      <td>165.889</td>\n",
       "      <td>0.5480</td>\n",
       "      <td>2000.0</td>\n",
       "    </tr>\n",
       "    <tr>\n",
       "      <th>4</th>\n",
       "      <td>0.12200</td>\n",
       "      <td>['Steve Chou']</td>\n",
       "      <td>0.501</td>\n",
       "      <td>344200.0</td>\n",
       "      <td>5.736667</td>\n",
       "      <td>0.511</td>\n",
       "      <td>0.0</td>\n",
       "      <td>4mronxcllhfyhBRqyZi8kU</td>\n",
       "      <td>0.000000</td>\n",
       "      <td>7.0</td>\n",
       "      <td>0.279</td>\n",
       "      <td>-9.836</td>\n",
       "      <td>0.0</td>\n",
       "      <td>黃昏</td>\n",
       "      <td>53.0</td>\n",
       "      <td>2000-12-25</td>\n",
       "      <td>0.0291</td>\n",
       "      <td>78.045</td>\n",
       "      <td>0.1130</td>\n",
       "      <td>2000.0</td>\n",
       "    </tr>\n",
       "  </tbody>\n",
       "</table>\n",
       "</div>"
      ],
      "text/plain": [
       "   acousticness          artists  danceability  duration_ms  duration_minutes  \\\n",
       "0       0.97200  ['David Bauer']         0.567     313293.0          5.221550   \n",
       "1       0.32100   ['Etta James']         0.821     360240.0          6.004000   \n",
       "2       0.00659    ['Quasimoto']         0.706     202507.0          3.375117   \n",
       "3       0.00390  ['Millencolin']         0.368     173360.0          2.889333   \n",
       "4       0.12200   ['Steve Chou']         0.501     344200.0          5.736667   \n",
       "\n",
       "   energy  explicit                      id  instrumentalness   key  liveness  \\\n",
       "0   0.227       0.0  0w0D8H1ubRerCXHWYJkinO          0.601000  10.0     0.110   \n",
       "1   0.418       0.0  4JVeqfE2tpi7Pv63LJZtPh          0.000372   9.0     0.222   \n",
       "2   0.602       1.0  5pxtdhLAi0RTh1gNqhGMNA          0.000138  11.0     0.400   \n",
       "3   0.977       0.0  3jRsoe4Vkxa4BMYqGHX8L0          0.000000  11.0     0.350   \n",
       "4   0.511       0.0  4mronxcllhfyhBRqyZi8kU          0.000000   7.0     0.279   \n",
       "\n",
       "   loudness  mode                   name  popularity release_date  \\\n",
       "0   -13.441   1.0      Shout to the Lord        47.0         2000   \n",
       "1    -9.841   0.0               Miss You        51.0   2000-12-12   \n",
       "2    -8.306   0.0              Real Eyes        44.0   2000-06-13   \n",
       "3    -2.757   0.0  Penguins & Polarbears        52.0   2000-02-22   \n",
       "4    -9.836   0.0                     黃昏        53.0   2000-12-25   \n",
       "\n",
       "   speechiness    tempo  valence    year  \n",
       "0       0.0290  136.123   0.0396  2000.0  \n",
       "1       0.0407  117.382   0.8030  2000.0  \n",
       "2       0.3420   89.692   0.4790  2000.0  \n",
       "3       0.1270  165.889   0.5480  2000.0  \n",
       "4       0.0291   78.045   0.1130  2000.0  "
      ]
     },
     "execution_count": 2,
     "metadata": {},
     "output_type": "execute_result"
    }
   ],
   "source": [
    "import pandas as pd\n",
    "import numpy as np\n",
    "import matplotlib.pyplot as plt\n",
    "spotify_population = pd.read_feather(r'./data/spotify_2000_2020.feather')\n",
    "print(spotify_population.shape)\n",
    "spotify_population.head()"
   ]
  },
  {
   "cell_type": "code",
   "execution_count": 3,
   "metadata": {},
   "outputs": [],
   "source": [
    "import pprint as pp\n",
    "import tabulate"
   ]
  },
  {
   "cell_type": "code",
   "execution_count": 4,
   "metadata": {},
   "outputs": [
    {
     "name": "stdout",
     "output_type": "stream",
     "text": [
      "+-------+----------------+---------------------------------+----------------+---------------+--------------------+----------+------------+------------------------+--------------------+-------+------------+------------+--------+--------------------------------+--------------+----------------+---------------+---------+-----------+--------+\n",
      "|       |   acousticness | artists                         |   danceability |   duration_ms |   duration_minutes |   energy |   explicit | id                     |   instrumentalness |   key |   liveness |   loudness |   mode | name                           |   popularity | release_date   |   speechiness |   tempo |   valence |   year |\n",
      "|-------+----------------+---------------------------------+----------------+---------------+--------------------+----------+------------+------------------------+--------------------+-------+------------+------------+--------+--------------------------------+--------------+----------------+---------------+---------+-----------+--------|\n",
      "| 23410 |        0.00929 | ['Taking Back Sunday']          |          0.491 |        247760 |            4.12933 |   0.904  |          0 | 6um5ccNzX7k3SRsVnLupvI |           0        |     9 |     0.106  |     -4.729 |      1 | A Decade Under The Influence   |           58 | 2004-07-27     |        0.0765 | 156.031 |    0.607  |   2004 |\n",
      "|   431 |        0.975   | ['John Williams']               |          0.225 |         98373 |            1.63955 |   0.0417 |          0 | 2G5hAbyjLoY1wSQFbOy5PN |           0.396    |     4 |     0.0718 |    -30.105 |      0 | Lumos! (Hedwig's Theme)        |           50 | 2004-05-25     |        0.0435 | 133.89  |    0.0889 |   2004 |\n",
      "| 41498 |        0.458   | ['Martin Garrix', 'Dean Lewis'] |          0.651 |        236765 |            3.94608 |   0.693  |          0 | 7pWK1kMgHy5lNNiIfuRbkP |           0        |     4 |     0.335  |     -4.722 |      1 | Used To Love (with Dean Lewis) |           76 | 2019-10-31     |        0.0375 | 118.97  |    0.392  |   2019 |\n",
      "| 20517 |        0.0421  | ['HARBOUR']                     |          0.463 |        234176 |            3.90293 |   0.742  |          0 | 1YAk839AZQjTDp7vT0f3Tm |           4.69e-06 |     0 |     0.331  |     -6.143 |      1 | Get You High                   |           55 | 2017-08-04     |        0.0396 | 169.93  |    0.425  |   2017 |\n",
      "| 15024 |        0.566   | ['Robin Mark']                  |          0.306 |        238173 |            3.96955 |   0.431  |          0 | 3lMpKcbAxYAY8igXE3SM95 |           0        |     2 |     0.107  |     -6.746 |      1 | All To Jesus I Surrender       |           44 | 2003           |        0.0283 | 130.269 |    0.256  |   2003 |\n",
      "+-------+----------------+---------------------------------+----------------+---------------+--------------------+----------+------------+------------------------+--------------------+-------+------------+------------+--------+--------------------------------+--------------+----------------+---------------+---------+-----------+--------+\n",
      "3.8521519140900073\n",
      "3.905007883333333\n"
     ]
    }
   ],
   "source": [
    "\n",
    "# Sample 1000 rows from spotify_population\n",
    "spotify_sample = spotify_population.sample(n=1000)\n",
    "\n",
    "# Print the sample\n",
    "print(tabulate.tabulate(spotify_sample.head(), headers='keys', tablefmt='psql'))\n",
    "\n",
    "# Calculate the mean duration in mins from spotify_population\n",
    "mean_dur_pop = spotify_population['duration_minutes'].mean()\n",
    "\n",
    "# Calculate the mean duration in mins from spotify_sample\n",
    "mean_dur_samp = spotify_sample['duration_minutes'].mean()\n",
    "\n",
    "# Print the means\n",
    "print(mean_dur_pop)\n",
    "print(mean_dur_samp)"
   ]
  },
  {
   "cell_type": "code",
   "execution_count": 5,
   "metadata": {},
   "outputs": [
    {
     "name": "stdout",
     "output_type": "stream",
     "text": [
      "-7.366856851353947\n",
      "-7.68529\n"
     ]
    }
   ],
   "source": [
    "# Create a pandas Series from the loudness column of spotify_population\n",
    "loudness_pop = spotify_population['loudness']\n",
    "\n",
    "# Sample 100 values of loudness_pop\n",
    "loudness_samp = loudness_pop.sample(n=100)\n",
    "\n",
    "# Calculate the mean of loudness_pop\n",
    "mean_loudness_pop = loudness_pop.mean()\n",
    "\n",
    "# Calculate the mean of loudness_samp\n",
    "mean_loudness_samp = loudness_samp.mean()\n",
    "\n",
    "print(mean_loudness_pop)\n",
    "print(mean_loudness_samp)"
   ]
  },
  {
   "cell_type": "markdown",
   "metadata": {},
   "source": [
    "### Convenience Sampling"
   ]
  },
  {
   "cell_type": "code",
   "execution_count": 6,
   "metadata": {},
   "outputs": [
    {
     "data": {
      "image/png": "[encoded data removed]",
      "text/plain": [
       "<Figure size 640x480 with 1 Axes>"
      ]
     },
     "metadata": {},
     "output_type": "display_data"
    }
   ],
   "source": [
    "spotify_population['acousticness'].hist(bins=np.arange(0, 1.01, 0.01))\n",
    "plt.show();"
   ]
  },
  {
   "cell_type": "code",
   "execution_count": 7,
   "metadata": {},
   "outputs": [
    {
     "data": {
      "image/png": "[encoded data removed]",
      "text/plain": [
       "<Figure size 640x480 with 1 Axes>"
      ]
     },
     "metadata": {},
     "output_type": "display_data"
    }
   ],
   "source": [
    "# Update the histogram to use spotify_mysterious_sample2\n",
    "spotify_population['duration_minutes'].hist(bins=np.arange(0, 15.5, 0.5))\n",
    "plt.show();"
   ]
  },
  {
   "cell_type": "markdown",
   "metadata": {},
   "source": [
    "### Pseudo-random number generation"
   ]
  },
  {
   "cell_type": "code",
   "execution_count": 8,
   "metadata": {},
   "outputs": [
    {
     "name": "stdout",
     "output_type": "stream",
     "text": [
      "[-2.5828627   2.63415745  2.60698381 ...  0.34944829  0.38408783\n",
      "  1.90708693]\n"
     ]
    }
   ],
   "source": [
    "# Generate random numbers from a Uniform(-3, 3)\n",
    "uniforms = np.random.uniform(low=-3, high=3, size=5000)\n",
    "\n",
    "# Print uniforms\n",
    "print(uniforms)"
   ]
  },
  {
   "cell_type": "code",
   "execution_count": 9,
   "metadata": {},
   "outputs": [
    {
     "name": "stdout",
     "output_type": "stream",
     "text": [
      "[6.04447915 5.55609715 6.07226152 ... 7.55597426 6.73310337 3.16645012]\n"
     ]
    }
   ],
   "source": [
    "# Generate random numbers from a Uniform(-3, 3)\n",
    "uniforms = np.random.uniform(low=-3, high=3, size=5000)\n",
    "\n",
    "# Generate random numbers from a Normal(5, 2)\n",
    "normals = np.random.normal(loc=5, scale=2, size=5000)\n",
    "\n",
    "# Print normals\n",
    "print(normals)"
   ]
  },
  {
   "cell_type": "code",
   "execution_count": 10,
   "metadata": {},
   "outputs": [
    {
     "data": {
      "image/png": "[encoded data removed]",
      "text/plain": [
       "<Figure size 640x480 with 1 Axes>"
      ]
     },
     "metadata": {},
     "output_type": "display_data"
    }
   ],
   "source": [
    "# Generate random numbers from a Uniform(-3, 3)\n",
    "uniforms = np.random.uniform(low=-3, high=3, size=5000)\n",
    "\n",
    "# Plot a histogram of uniform values, binwidth 0.25\n",
    "plt.hist(uniforms, bins=np.arange(-3,3.25, 0.25))\n",
    "plt.show();"
   ]
  },
  {
   "cell_type": "code",
   "execution_count": 11,
   "metadata": {},
   "outputs": [
    {
     "data": {
      "image/png": "[encoded data removed]",
      "text/plain": [
       "<Figure size 640x480 with 1 Axes>"
      ]
     },
     "metadata": {},
     "output_type": "display_data"
    }
   ],
   "source": [
    "# Generate random numbers from a Normal(5, 2)\n",
    "normals = np.random.normal(loc=5, scale=2, size=5000)\n",
    "\n",
    "# Plot a histogram of normal values, binwidth 0.5\n",
    "plt.hist(normals, np.arange(-2, 13.5, 0.5))\n",
    "plt.show()"
   ]
  },
  {
   "cell_type": "markdown",
   "metadata": {},
   "source": [
    "## Sampling Methods"
   ]
  },
  {
   "cell_type": "markdown",
   "metadata": {},
   "source": [
    "### Simple random and systematic sampling"
   ]
  },
  {
   "cell_type": "code",
   "execution_count": 12,
   "metadata": {},
   "outputs": [
    {
     "name": "stdout",
     "output_type": "stream",
     "text": [
      "(1470, 31)\n"
     ]
    },
    {
     "data": {
      "text/html": [
       "<div>\n",
       "<style scoped>\n",
       "    .dataframe tbody tr th:only-of-type {\n",
       "        vertical-align: middle;\n",
       "    }\n",
       "\n",
       "    .dataframe tbody tr th {\n",
       "        vertical-align: top;\n",
       "    }\n",
       "\n",
       "    .dataframe thead th {\n",
       "        text-align: right;\n",
       "    }\n",
       "</style>\n",
       "<table border=\"1\" class=\"dataframe\">\n",
       "  <thead>\n",
       "    <tr style=\"text-align: right;\">\n",
       "      <th></th>\n",
       "      <th>Age</th>\n",
       "      <th>Attrition</th>\n",
       "      <th>BusinessTravel</th>\n",
       "      <th>DailyRate</th>\n",
       "      <th>Department</th>\n",
       "      <th>DistanceFromHome</th>\n",
       "      <th>Education</th>\n",
       "      <th>EducationField</th>\n",
       "      <th>EnvironmentSatisfaction</th>\n",
       "      <th>Gender</th>\n",
       "      <th>...</th>\n",
       "      <th>PerformanceRating</th>\n",
       "      <th>RelationshipSatisfaction</th>\n",
       "      <th>StockOptionLevel</th>\n",
       "      <th>TotalWorkingYears</th>\n",
       "      <th>TrainingTimesLastYear</th>\n",
       "      <th>WorkLifeBalance</th>\n",
       "      <th>YearsAtCompany</th>\n",
       "      <th>YearsInCurrentRole</th>\n",
       "      <th>YearsSinceLastPromotion</th>\n",
       "      <th>YearsWithCurrManager</th>\n",
       "    </tr>\n",
       "  </thead>\n",
       "  <tbody>\n",
       "    <tr>\n",
       "      <th>0</th>\n",
       "      <td>21</td>\n",
       "      <td>0.0</td>\n",
       "      <td>Travel_Rarely</td>\n",
       "      <td>391</td>\n",
       "      <td>Research_Development</td>\n",
       "      <td>15</td>\n",
       "      <td>College</td>\n",
       "      <td>Life_Sciences</td>\n",
       "      <td>High</td>\n",
       "      <td>Male</td>\n",
       "      <td>...</td>\n",
       "      <td>Excellent</td>\n",
       "      <td>Very_High</td>\n",
       "      <td>0</td>\n",
       "      <td>0</td>\n",
       "      <td>6</td>\n",
       "      <td>Better</td>\n",
       "      <td>0</td>\n",
       "      <td>0</td>\n",
       "      <td>0</td>\n",
       "      <td>0</td>\n",
       "    </tr>\n",
       "    <tr>\n",
       "      <th>1</th>\n",
       "      <td>19</td>\n",
       "      <td>1.0</td>\n",
       "      <td>Travel_Rarely</td>\n",
       "      <td>528</td>\n",
       "      <td>Sales</td>\n",
       "      <td>22</td>\n",
       "      <td>Below_College</td>\n",
       "      <td>Marketing</td>\n",
       "      <td>Very_High</td>\n",
       "      <td>Male</td>\n",
       "      <td>...</td>\n",
       "      <td>Excellent</td>\n",
       "      <td>Very_High</td>\n",
       "      <td>0</td>\n",
       "      <td>0</td>\n",
       "      <td>2</td>\n",
       "      <td>Good</td>\n",
       "      <td>0</td>\n",
       "      <td>0</td>\n",
       "      <td>0</td>\n",
       "      <td>0</td>\n",
       "    </tr>\n",
       "    <tr>\n",
       "      <th>2</th>\n",
       "      <td>18</td>\n",
       "      <td>1.0</td>\n",
       "      <td>Travel_Rarely</td>\n",
       "      <td>230</td>\n",
       "      <td>Research_Development</td>\n",
       "      <td>3</td>\n",
       "      <td>Bachelor</td>\n",
       "      <td>Life_Sciences</td>\n",
       "      <td>High</td>\n",
       "      <td>Male</td>\n",
       "      <td>...</td>\n",
       "      <td>Excellent</td>\n",
       "      <td>High</td>\n",
       "      <td>0</td>\n",
       "      <td>0</td>\n",
       "      <td>2</td>\n",
       "      <td>Better</td>\n",
       "      <td>0</td>\n",
       "      <td>0</td>\n",
       "      <td>0</td>\n",
       "      <td>0</td>\n",
       "    </tr>\n",
       "    <tr>\n",
       "      <th>3</th>\n",
       "      <td>18</td>\n",
       "      <td>0.0</td>\n",
       "      <td>Travel_Rarely</td>\n",
       "      <td>812</td>\n",
       "      <td>Sales</td>\n",
       "      <td>10</td>\n",
       "      <td>Bachelor</td>\n",
       "      <td>Medical</td>\n",
       "      <td>Very_High</td>\n",
       "      <td>Female</td>\n",
       "      <td>...</td>\n",
       "      <td>Excellent</td>\n",
       "      <td>Low</td>\n",
       "      <td>0</td>\n",
       "      <td>0</td>\n",
       "      <td>2</td>\n",
       "      <td>Better</td>\n",
       "      <td>0</td>\n",
       "      <td>0</td>\n",
       "      <td>0</td>\n",
       "      <td>0</td>\n",
       "    </tr>\n",
       "    <tr>\n",
       "      <th>4</th>\n",
       "      <td>18</td>\n",
       "      <td>1.0</td>\n",
       "      <td>Travel_Frequently</td>\n",
       "      <td>1306</td>\n",
       "      <td>Sales</td>\n",
       "      <td>5</td>\n",
       "      <td>Bachelor</td>\n",
       "      <td>Marketing</td>\n",
       "      <td>Medium</td>\n",
       "      <td>Male</td>\n",
       "      <td>...</td>\n",
       "      <td>Excellent</td>\n",
       "      <td>Very_High</td>\n",
       "      <td>0</td>\n",
       "      <td>0</td>\n",
       "      <td>3</td>\n",
       "      <td>Better</td>\n",
       "      <td>0</td>\n",
       "      <td>0</td>\n",
       "      <td>0</td>\n",
       "      <td>0</td>\n",
       "    </tr>\n",
       "  </tbody>\n",
       "</table>\n",
       "<p>5 rows × 31 columns</p>\n",
       "</div>"
      ],
      "text/plain": [
       "   Age  Attrition     BusinessTravel  DailyRate            Department  \\\n",
       "0   21        0.0      Travel_Rarely        391  Research_Development   \n",
       "1   19        1.0      Travel_Rarely        528                 Sales   \n",
       "2   18        1.0      Travel_Rarely        230  Research_Development   \n",
       "3   18        0.0      Travel_Rarely        812                 Sales   \n",
       "4   18        1.0  Travel_Frequently       1306                 Sales   \n",
       "\n",
       "   DistanceFromHome      Education EducationField EnvironmentSatisfaction  \\\n",
       "0                15        College  Life_Sciences                    High   \n",
       "1                22  Below_College      Marketing               Very_High   \n",
       "2                 3       Bachelor  Life_Sciences                    High   \n",
       "3                10       Bachelor        Medical               Very_High   \n",
       "4                 5       Bachelor      Marketing                  Medium   \n",
       "\n",
       "   Gender  ...  PerformanceRating RelationshipSatisfaction  StockOptionLevel  \\\n",
       "0    Male  ...          Excellent                Very_High                 0   \n",
       "1    Male  ...          Excellent                Very_High                 0   \n",
       "2    Male  ...          Excellent                     High                 0   \n",
       "3  Female  ...          Excellent                      Low                 0   \n",
       "4    Male  ...          Excellent                Very_High                 0   \n",
       "\n",
       "  TotalWorkingYears TrainingTimesLastYear WorkLifeBalance  YearsAtCompany  \\\n",
       "0                 0                     6          Better               0   \n",
       "1                 0                     2            Good               0   \n",
       "2                 0                     2          Better               0   \n",
       "3                 0                     2          Better               0   \n",
       "4                 0                     3          Better               0   \n",
       "\n",
       "   YearsInCurrentRole  YearsSinceLastPromotion YearsWithCurrManager  \n",
       "0                   0                        0                    0  \n",
       "1                   0                        0                    0  \n",
       "2                   0                        0                    0  \n",
       "3                   0                        0                    0  \n",
       "4                   0                        0                    0  \n",
       "\n",
       "[5 rows x 31 columns]"
      ]
     },
     "execution_count": 12,
     "metadata": {},
     "output_type": "execute_result"
    }
   ],
   "source": [
    "attrition = pd.read_feather(r'./data/attrition.feather')\n",
    "print(attrition.shape)\n",
    "attrition.head()"
   ]
  },
  {
   "cell_type": "code",
   "execution_count": 13,
   "metadata": {},
   "outputs": [
    {
     "name": "stdout",
     "output_type": "stream",
     "text": [
      "(70, 31)\n"
     ]
    },
    {
     "data": {
      "text/html": [
       "<div>\n",
       "<style scoped>\n",
       "    .dataframe tbody tr th:only-of-type {\n",
       "        vertical-align: middle;\n",
       "    }\n",
       "\n",
       "    .dataframe tbody tr th {\n",
       "        vertical-align: top;\n",
       "    }\n",
       "\n",
       "    .dataframe thead th {\n",
       "        text-align: right;\n",
       "    }\n",
       "</style>\n",
       "<table border=\"1\" class=\"dataframe\">\n",
       "  <thead>\n",
       "    <tr style=\"text-align: right;\">\n",
       "      <th></th>\n",
       "      <th>Age</th>\n",
       "      <th>Attrition</th>\n",
       "      <th>BusinessTravel</th>\n",
       "      <th>DailyRate</th>\n",
       "      <th>Department</th>\n",
       "      <th>DistanceFromHome</th>\n",
       "      <th>Education</th>\n",
       "      <th>EducationField</th>\n",
       "      <th>EnvironmentSatisfaction</th>\n",
       "      <th>Gender</th>\n",
       "      <th>...</th>\n",
       "      <th>PerformanceRating</th>\n",
       "      <th>RelationshipSatisfaction</th>\n",
       "      <th>StockOptionLevel</th>\n",
       "      <th>TotalWorkingYears</th>\n",
       "      <th>TrainingTimesLastYear</th>\n",
       "      <th>WorkLifeBalance</th>\n",
       "      <th>YearsAtCompany</th>\n",
       "      <th>YearsInCurrentRole</th>\n",
       "      <th>YearsSinceLastPromotion</th>\n",
       "      <th>YearsWithCurrManager</th>\n",
       "    </tr>\n",
       "  </thead>\n",
       "  <tbody>\n",
       "    <tr>\n",
       "      <th>1134</th>\n",
       "      <td>35</td>\n",
       "      <td>0.0</td>\n",
       "      <td>Travel_Rarely</td>\n",
       "      <td>583</td>\n",
       "      <td>Research_Development</td>\n",
       "      <td>25</td>\n",
       "      <td>Master</td>\n",
       "      <td>Medical</td>\n",
       "      <td>High</td>\n",
       "      <td>Female</td>\n",
       "      <td>...</td>\n",
       "      <td>Excellent</td>\n",
       "      <td>High</td>\n",
       "      <td>1</td>\n",
       "      <td>16</td>\n",
       "      <td>3</td>\n",
       "      <td>Good</td>\n",
       "      <td>16</td>\n",
       "      <td>10</td>\n",
       "      <td>10</td>\n",
       "      <td>1</td>\n",
       "    </tr>\n",
       "    <tr>\n",
       "      <th>1150</th>\n",
       "      <td>52</td>\n",
       "      <td>0.0</td>\n",
       "      <td>Non-Travel</td>\n",
       "      <td>585</td>\n",
       "      <td>Sales</td>\n",
       "      <td>29</td>\n",
       "      <td>Master</td>\n",
       "      <td>Life_Sciences</td>\n",
       "      <td>Low</td>\n",
       "      <td>Male</td>\n",
       "      <td>...</td>\n",
       "      <td>Excellent</td>\n",
       "      <td>Medium</td>\n",
       "      <td>2</td>\n",
       "      <td>16</td>\n",
       "      <td>3</td>\n",
       "      <td>Good</td>\n",
       "      <td>9</td>\n",
       "      <td>8</td>\n",
       "      <td>0</td>\n",
       "      <td>0</td>\n",
       "    </tr>\n",
       "    <tr>\n",
       "      <th>531</th>\n",
       "      <td>33</td>\n",
       "      <td>0.0</td>\n",
       "      <td>Travel_Rarely</td>\n",
       "      <td>931</td>\n",
       "      <td>Research_Development</td>\n",
       "      <td>14</td>\n",
       "      <td>Bachelor</td>\n",
       "      <td>Medical</td>\n",
       "      <td>Very_High</td>\n",
       "      <td>Female</td>\n",
       "      <td>...</td>\n",
       "      <td>Excellent</td>\n",
       "      <td>Very_High</td>\n",
       "      <td>1</td>\n",
       "      <td>8</td>\n",
       "      <td>5</td>\n",
       "      <td>Better</td>\n",
       "      <td>8</td>\n",
       "      <td>7</td>\n",
       "      <td>1</td>\n",
       "      <td>6</td>\n",
       "    </tr>\n",
       "    <tr>\n",
       "      <th>395</th>\n",
       "      <td>31</td>\n",
       "      <td>0.0</td>\n",
       "      <td>Travel_Rarely</td>\n",
       "      <td>1332</td>\n",
       "      <td>Research_Development</td>\n",
       "      <td>11</td>\n",
       "      <td>College</td>\n",
       "      <td>Medical</td>\n",
       "      <td>High</td>\n",
       "      <td>Male</td>\n",
       "      <td>...</td>\n",
       "      <td>Excellent</td>\n",
       "      <td>Very_High</td>\n",
       "      <td>0</td>\n",
       "      <td>6</td>\n",
       "      <td>2</td>\n",
       "      <td>Good</td>\n",
       "      <td>6</td>\n",
       "      <td>5</td>\n",
       "      <td>0</td>\n",
       "      <td>1</td>\n",
       "    </tr>\n",
       "    <tr>\n",
       "      <th>392</th>\n",
       "      <td>29</td>\n",
       "      <td>0.0</td>\n",
       "      <td>Travel_Rarely</td>\n",
       "      <td>942</td>\n",
       "      <td>Research_Development</td>\n",
       "      <td>15</td>\n",
       "      <td>Below_College</td>\n",
       "      <td>Life_Sciences</td>\n",
       "      <td>Medium</td>\n",
       "      <td>Female</td>\n",
       "      <td>...</td>\n",
       "      <td>Excellent</td>\n",
       "      <td>Low</td>\n",
       "      <td>1</td>\n",
       "      <td>6</td>\n",
       "      <td>2</td>\n",
       "      <td>Good</td>\n",
       "      <td>5</td>\n",
       "      <td>4</td>\n",
       "      <td>1</td>\n",
       "      <td>3</td>\n",
       "    </tr>\n",
       "  </tbody>\n",
       "</table>\n",
       "<p>5 rows × 31 columns</p>\n",
       "</div>"
      ],
      "text/plain": [
       "      Age  Attrition BusinessTravel  DailyRate            Department  \\\n",
       "1134   35        0.0  Travel_Rarely        583  Research_Development   \n",
       "1150   52        0.0     Non-Travel        585                 Sales   \n",
       "531    33        0.0  Travel_Rarely        931  Research_Development   \n",
       "395    31        0.0  Travel_Rarely       1332  Research_Development   \n",
       "392    29        0.0  Travel_Rarely        942  Research_Development   \n",
       "\n",
       "      DistanceFromHome      Education EducationField EnvironmentSatisfaction  \\\n",
       "1134                25         Master        Medical                    High   \n",
       "1150                29         Master  Life_Sciences                     Low   \n",
       "531                 14       Bachelor        Medical               Very_High   \n",
       "395                 11        College        Medical                    High   \n",
       "392                 15  Below_College  Life_Sciences                  Medium   \n",
       "\n",
       "      Gender  ...  PerformanceRating RelationshipSatisfaction  \\\n",
       "1134  Female  ...          Excellent                     High   \n",
       "1150    Male  ...          Excellent                   Medium   \n",
       "531   Female  ...          Excellent                Very_High   \n",
       "395     Male  ...          Excellent                Very_High   \n",
       "392   Female  ...          Excellent                      Low   \n",
       "\n",
       "      StockOptionLevel TotalWorkingYears TrainingTimesLastYear  \\\n",
       "1134                 1                16                     3   \n",
       "1150                 2                16                     3   \n",
       "531                  1                 8                     5   \n",
       "395                  0                 6                     2   \n",
       "392                  1                 6                     2   \n",
       "\n",
       "     WorkLifeBalance  YearsAtCompany  YearsInCurrentRole  \\\n",
       "1134            Good              16                  10   \n",
       "1150            Good               9                   8   \n",
       "531           Better               8                   7   \n",
       "395             Good               6                   5   \n",
       "392             Good               5                   4   \n",
       "\n",
       "      YearsSinceLastPromotion YearsWithCurrManager  \n",
       "1134                       10                    1  \n",
       "1150                        0                    0  \n",
       "531                         1                    6  \n",
       "395                         0                    1  \n",
       "392                         1                    3  \n",
       "\n",
       "[5 rows x 31 columns]"
      ]
     },
     "execution_count": 13,
     "metadata": {},
     "output_type": "execute_result"
    }
   ],
   "source": [
    "# Sample 70 rows using simple random sampling and set the seed\n",
    "attrition_samp = attrition.sample(n=70, random_state=18900217)\n",
    "\n",
    "# Print the sample\n",
    "print(attrition_samp.shape)\n",
    "attrition_samp.head()"
   ]
  },
  {
   "cell_type": "code",
   "execution_count": 14,
   "metadata": {},
   "outputs": [
    {
     "name": "stdout",
     "output_type": "stream",
     "text": [
      "(70, 31)\n"
     ]
    },
    {
     "data": {
      "text/html": [
       "<div>\n",
       "<style scoped>\n",
       "    .dataframe tbody tr th:only-of-type {\n",
       "        vertical-align: middle;\n",
       "    }\n",
       "\n",
       "    .dataframe tbody tr th {\n",
       "        vertical-align: top;\n",
       "    }\n",
       "\n",
       "    .dataframe thead th {\n",
       "        text-align: right;\n",
       "    }\n",
       "</style>\n",
       "<table border=\"1\" class=\"dataframe\">\n",
       "  <thead>\n",
       "    <tr style=\"text-align: right;\">\n",
       "      <th></th>\n",
       "      <th>Age</th>\n",
       "      <th>Attrition</th>\n",
       "      <th>BusinessTravel</th>\n",
       "      <th>DailyRate</th>\n",
       "      <th>Department</th>\n",
       "      <th>DistanceFromHome</th>\n",
       "      <th>Education</th>\n",
       "      <th>EducationField</th>\n",
       "      <th>EnvironmentSatisfaction</th>\n",
       "      <th>Gender</th>\n",
       "      <th>...</th>\n",
       "      <th>PerformanceRating</th>\n",
       "      <th>RelationshipSatisfaction</th>\n",
       "      <th>StockOptionLevel</th>\n",
       "      <th>TotalWorkingYears</th>\n",
       "      <th>TrainingTimesLastYear</th>\n",
       "      <th>WorkLifeBalance</th>\n",
       "      <th>YearsAtCompany</th>\n",
       "      <th>YearsInCurrentRole</th>\n",
       "      <th>YearsSinceLastPromotion</th>\n",
       "      <th>YearsWithCurrManager</th>\n",
       "    </tr>\n",
       "  </thead>\n",
       "  <tbody>\n",
       "    <tr>\n",
       "      <th>0</th>\n",
       "      <td>21</td>\n",
       "      <td>0.0</td>\n",
       "      <td>Travel_Rarely</td>\n",
       "      <td>391</td>\n",
       "      <td>Research_Development</td>\n",
       "      <td>15</td>\n",
       "      <td>College</td>\n",
       "      <td>Life_Sciences</td>\n",
       "      <td>High</td>\n",
       "      <td>Male</td>\n",
       "      <td>...</td>\n",
       "      <td>Excellent</td>\n",
       "      <td>Very_High</td>\n",
       "      <td>0</td>\n",
       "      <td>0</td>\n",
       "      <td>6</td>\n",
       "      <td>Better</td>\n",
       "      <td>0</td>\n",
       "      <td>0</td>\n",
       "      <td>0</td>\n",
       "      <td>0</td>\n",
       "    </tr>\n",
       "    <tr>\n",
       "      <th>21</th>\n",
       "      <td>19</td>\n",
       "      <td>0.0</td>\n",
       "      <td>Travel_Rarely</td>\n",
       "      <td>1181</td>\n",
       "      <td>Research_Development</td>\n",
       "      <td>3</td>\n",
       "      <td>Below_College</td>\n",
       "      <td>Medical</td>\n",
       "      <td>Medium</td>\n",
       "      <td>Female</td>\n",
       "      <td>...</td>\n",
       "      <td>Excellent</td>\n",
       "      <td>Very_High</td>\n",
       "      <td>0</td>\n",
       "      <td>1</td>\n",
       "      <td>3</td>\n",
       "      <td>Better</td>\n",
       "      <td>1</td>\n",
       "      <td>0</td>\n",
       "      <td>0</td>\n",
       "      <td>0</td>\n",
       "    </tr>\n",
       "    <tr>\n",
       "      <th>42</th>\n",
       "      <td>45</td>\n",
       "      <td>0.0</td>\n",
       "      <td>Travel_Rarely</td>\n",
       "      <td>252</td>\n",
       "      <td>Research_Development</td>\n",
       "      <td>2</td>\n",
       "      <td>Bachelor</td>\n",
       "      <td>Life_Sciences</td>\n",
       "      <td>Medium</td>\n",
       "      <td>Female</td>\n",
       "      <td>...</td>\n",
       "      <td>Excellent</td>\n",
       "      <td>Very_High</td>\n",
       "      <td>0</td>\n",
       "      <td>1</td>\n",
       "      <td>3</td>\n",
       "      <td>Better</td>\n",
       "      <td>1</td>\n",
       "      <td>0</td>\n",
       "      <td>0</td>\n",
       "      <td>0</td>\n",
       "    </tr>\n",
       "    <tr>\n",
       "      <th>63</th>\n",
       "      <td>23</td>\n",
       "      <td>0.0</td>\n",
       "      <td>Travel_Rarely</td>\n",
       "      <td>373</td>\n",
       "      <td>Research_Development</td>\n",
       "      <td>1</td>\n",
       "      <td>College</td>\n",
       "      <td>Life_Sciences</td>\n",
       "      <td>Very_High</td>\n",
       "      <td>Male</td>\n",
       "      <td>...</td>\n",
       "      <td>Outstanding</td>\n",
       "      <td>Very_High</td>\n",
       "      <td>1</td>\n",
       "      <td>1</td>\n",
       "      <td>2</td>\n",
       "      <td>Better</td>\n",
       "      <td>1</td>\n",
       "      <td>0</td>\n",
       "      <td>0</td>\n",
       "      <td>1</td>\n",
       "    </tr>\n",
       "    <tr>\n",
       "      <th>84</th>\n",
       "      <td>30</td>\n",
       "      <td>1.0</td>\n",
       "      <td>Travel_Rarely</td>\n",
       "      <td>945</td>\n",
       "      <td>Sales</td>\n",
       "      <td>9</td>\n",
       "      <td>Bachelor</td>\n",
       "      <td>Medical</td>\n",
       "      <td>Medium</td>\n",
       "      <td>Male</td>\n",
       "      <td>...</td>\n",
       "      <td>Excellent</td>\n",
       "      <td>High</td>\n",
       "      <td>0</td>\n",
       "      <td>1</td>\n",
       "      <td>3</td>\n",
       "      <td>Good</td>\n",
       "      <td>1</td>\n",
       "      <td>0</td>\n",
       "      <td>0</td>\n",
       "      <td>0</td>\n",
       "    </tr>\n",
       "  </tbody>\n",
       "</table>\n",
       "<p>5 rows × 31 columns</p>\n",
       "</div>"
      ],
      "text/plain": [
       "    Age  Attrition BusinessTravel  DailyRate            Department  \\\n",
       "0    21        0.0  Travel_Rarely        391  Research_Development   \n",
       "21   19        0.0  Travel_Rarely       1181  Research_Development   \n",
       "42   45        0.0  Travel_Rarely        252  Research_Development   \n",
       "63   23        0.0  Travel_Rarely        373  Research_Development   \n",
       "84   30        1.0  Travel_Rarely        945                 Sales   \n",
       "\n",
       "    DistanceFromHome      Education EducationField EnvironmentSatisfaction  \\\n",
       "0                 15        College  Life_Sciences                    High   \n",
       "21                 3  Below_College        Medical                  Medium   \n",
       "42                 2       Bachelor  Life_Sciences                  Medium   \n",
       "63                 1        College  Life_Sciences               Very_High   \n",
       "84                 9       Bachelor        Medical                  Medium   \n",
       "\n",
       "    Gender  ...  PerformanceRating RelationshipSatisfaction  StockOptionLevel  \\\n",
       "0     Male  ...          Excellent                Very_High                 0   \n",
       "21  Female  ...          Excellent                Very_High                 0   \n",
       "42  Female  ...          Excellent                Very_High                 0   \n",
       "63    Male  ...        Outstanding                Very_High                 1   \n",
       "84    Male  ...          Excellent                     High                 0   \n",
       "\n",
       "   TotalWorkingYears TrainingTimesLastYear WorkLifeBalance  YearsAtCompany  \\\n",
       "0                  0                     6          Better               0   \n",
       "21                 1                     3          Better               1   \n",
       "42                 1                     3          Better               1   \n",
       "63                 1                     2          Better               1   \n",
       "84                 1                     3            Good               1   \n",
       "\n",
       "    YearsInCurrentRole  YearsSinceLastPromotion YearsWithCurrManager  \n",
       "0                    0                        0                    0  \n",
       "21                   0                        0                    0  \n",
       "42                   0                        0                    0  \n",
       "63                   0                        0                    1  \n",
       "84                   0                        0                    0  \n",
       "\n",
       "[5 rows x 31 columns]"
      ]
     },
     "execution_count": 14,
     "metadata": {},
     "output_type": "execute_result"
    }
   ],
   "source": [
    "# Set the sample size to 70\n",
    "sample_size = 70\n",
    "\n",
    "# Calculate the population size from attrition\n",
    "pop_size = len(attrition)\n",
    "\n",
    "# Calculate the interval\n",
    "interval = pop_size // sample_size\n",
    "\n",
    "# Systematically sample 70 rows\n",
    "attrition_sys_samp = attrition.iloc[::interval]\n",
    "\n",
    "# Print the sample\n",
    "print(attrition_sys_samp.shape)\n",
    "attrition_sys_samp.head()"
   ]
  },
  {
   "cell_type": "code",
   "execution_count": 15,
   "metadata": {},
   "outputs": [
    {
     "data": {
      "image/png": "[encoded data removed]",
      "text/plain": [
       "<Figure size 640x480 with 1 Axes>"
      ]
     },
     "metadata": {},
     "output_type": "display_data"
    }
   ],
   "source": [
    "# Add an index column to attrition\n",
    "attrition_id = attrition.reset_index()\n",
    "\n",
    "# Plot YearsAtCompany vs. index for attrition_id\n",
    "attrition_id.plot(x='index', y='YearsAtCompany', kind='scatter')\n",
    "plt.show();"
   ]
  },
  {
   "cell_type": "code",
   "execution_count": 16,
   "metadata": {},
   "outputs": [
    {
     "data": {
      "image/png": "[encoded data removed]",
      "text/plain": [
       "<Figure size 640x480 with 1 Axes>"
      ]
     },
     "metadata": {},
     "output_type": "display_data"
    }
   ],
   "source": [
    "# Shuffle the rows of attrition\n",
    "attrition_shuffled = attrition.sample(frac=1)\n",
    "\n",
    "# Reset the row indexes and create an index column\n",
    "attrition_shuffled = attrition_shuffled.reset_index(drop=True).reset_index()\n",
    "\n",
    "# Plot YearsAtCompany vs. index for attrition_shuffled\n",
    "attrition_shuffled.plot(x='index', y='YearsAtCompany', kind='scatter')\n",
    "plt.show()"
   ]
  },
  {
   "cell_type": "markdown",
   "metadata": {},
   "source": [
    "### Stratified and weighted random sampling"
   ]
  },
  {
   "cell_type": "code",
   "execution_count": 17,
   "metadata": {},
   "outputs": [
    {
     "name": "stdout",
     "output_type": "stream",
     "text": [
      "(1338, 43)\n"
     ]
    },
    {
     "data": {
      "text/html": [
       "<div>\n",
       "<style scoped>\n",
       "    .dataframe tbody tr th:only-of-type {\n",
       "        vertical-align: middle;\n",
       "    }\n",
       "\n",
       "    .dataframe tbody tr th {\n",
       "        vertical-align: top;\n",
       "    }\n",
       "\n",
       "    .dataframe thead th {\n",
       "        text-align: right;\n",
       "    }\n",
       "</style>\n",
       "<table border=\"1\" class=\"dataframe\">\n",
       "  <thead>\n",
       "    <tr style=\"text-align: right;\">\n",
       "      <th></th>\n",
       "      <th>total_cup_points</th>\n",
       "      <th>species</th>\n",
       "      <th>owner</th>\n",
       "      <th>country_of_origin</th>\n",
       "      <th>farm_name</th>\n",
       "      <th>lot_number</th>\n",
       "      <th>mill</th>\n",
       "      <th>ico_number</th>\n",
       "      <th>company</th>\n",
       "      <th>altitude</th>\n",
       "      <th>...</th>\n",
       "      <th>color</th>\n",
       "      <th>category_two_defects</th>\n",
       "      <th>expiration</th>\n",
       "      <th>certification_body</th>\n",
       "      <th>certification_address</th>\n",
       "      <th>certification_contact</th>\n",
       "      <th>unit_of_measurement</th>\n",
       "      <th>altitude_low_meters</th>\n",
       "      <th>altitude_high_meters</th>\n",
       "      <th>altitude_mean_meters</th>\n",
       "    </tr>\n",
       "  </thead>\n",
       "  <tbody>\n",
       "    <tr>\n",
       "      <th>0</th>\n",
       "      <td>90.58</td>\n",
       "      <td>Arabica</td>\n",
       "      <td>metad plc</td>\n",
       "      <td>Ethiopia</td>\n",
       "      <td>metad plc</td>\n",
       "      <td>None</td>\n",
       "      <td>metad plc</td>\n",
       "      <td>2014/2015</td>\n",
       "      <td>metad agricultural developmet plc</td>\n",
       "      <td>1950-2200</td>\n",
       "      <td>...</td>\n",
       "      <td>Green</td>\n",
       "      <td>0.0</td>\n",
       "      <td>April 3rd, 2016</td>\n",
       "      <td>METAD Agricultural Development plc</td>\n",
       "      <td>309fcf77415a3661ae83e027f7e5f05dad786e44</td>\n",
       "      <td>19fef5a731de2db57d16da10287413f5f99bc2dd</td>\n",
       "      <td>m</td>\n",
       "      <td>1950.0</td>\n",
       "      <td>2200.0</td>\n",
       "      <td>2075.0</td>\n",
       "    </tr>\n",
       "    <tr>\n",
       "      <th>1</th>\n",
       "      <td>89.92</td>\n",
       "      <td>Arabica</td>\n",
       "      <td>metad plc</td>\n",
       "      <td>Ethiopia</td>\n",
       "      <td>metad plc</td>\n",
       "      <td>None</td>\n",
       "      <td>metad plc</td>\n",
       "      <td>2014/2015</td>\n",
       "      <td>metad agricultural developmet plc</td>\n",
       "      <td>1950-2200</td>\n",
       "      <td>...</td>\n",
       "      <td>Green</td>\n",
       "      <td>1.0</td>\n",
       "      <td>April 3rd, 2016</td>\n",
       "      <td>METAD Agricultural Development plc</td>\n",
       "      <td>309fcf77415a3661ae83e027f7e5f05dad786e44</td>\n",
       "      <td>19fef5a731de2db57d16da10287413f5f99bc2dd</td>\n",
       "      <td>m</td>\n",
       "      <td>1950.0</td>\n",
       "      <td>2200.0</td>\n",
       "      <td>2075.0</td>\n",
       "    </tr>\n",
       "    <tr>\n",
       "      <th>2</th>\n",
       "      <td>89.75</td>\n",
       "      <td>Arabica</td>\n",
       "      <td>grounds for health admin</td>\n",
       "      <td>Guatemala</td>\n",
       "      <td>san marcos barrancas \"san cristobal cuch</td>\n",
       "      <td>None</td>\n",
       "      <td>None</td>\n",
       "      <td>None</td>\n",
       "      <td>None</td>\n",
       "      <td>1600 - 1800 m</td>\n",
       "      <td>...</td>\n",
       "      <td>None</td>\n",
       "      <td>0.0</td>\n",
       "      <td>May 31st, 2011</td>\n",
       "      <td>Specialty Coffee Association</td>\n",
       "      <td>36d0d00a3724338ba7937c52a378d085f2172daa</td>\n",
       "      <td>0878a7d4b9d35ddbf0fe2ce69a2062cceb45a660</td>\n",
       "      <td>m</td>\n",
       "      <td>1600.0</td>\n",
       "      <td>1800.0</td>\n",
       "      <td>1700.0</td>\n",
       "    </tr>\n",
       "  </tbody>\n",
       "</table>\n",
       "<p>3 rows × 43 columns</p>\n",
       "</div>"
      ],
      "text/plain": [
       "   total_cup_points  species                     owner country_of_origin  \\\n",
       "0             90.58  Arabica                 metad plc          Ethiopia   \n",
       "1             89.92  Arabica                 metad plc          Ethiopia   \n",
       "2             89.75  Arabica  grounds for health admin         Guatemala   \n",
       "\n",
       "                                  farm_name lot_number       mill ico_number  \\\n",
       "0                                 metad plc       None  metad plc  2014/2015   \n",
       "1                                 metad plc       None  metad plc  2014/2015   \n",
       "2  san marcos barrancas \"san cristobal cuch       None       None       None   \n",
       "\n",
       "                             company       altitude  ...  color  \\\n",
       "0  metad agricultural developmet plc      1950-2200  ...  Green   \n",
       "1  metad agricultural developmet plc      1950-2200  ...  Green   \n",
       "2                               None  1600 - 1800 m  ...   None   \n",
       "\n",
       "  category_two_defects       expiration                  certification_body  \\\n",
       "0                  0.0  April 3rd, 2016  METAD Agricultural Development plc   \n",
       "1                  1.0  April 3rd, 2016  METAD Agricultural Development plc   \n",
       "2                  0.0   May 31st, 2011        Specialty Coffee Association   \n",
       "\n",
       "                      certification_address  \\\n",
       "0  309fcf77415a3661ae83e027f7e5f05dad786e44   \n",
       "1  309fcf77415a3661ae83e027f7e5f05dad786e44   \n",
       "2  36d0d00a3724338ba7937c52a378d085f2172daa   \n",
       "\n",
       "                      certification_contact unit_of_measurement  \\\n",
       "0  19fef5a731de2db57d16da10287413f5f99bc2dd                   m   \n",
       "1  19fef5a731de2db57d16da10287413f5f99bc2dd                   m   \n",
       "2  0878a7d4b9d35ddbf0fe2ce69a2062cceb45a660                   m   \n",
       "\n",
       "  altitude_low_meters altitude_high_meters altitude_mean_meters  \n",
       "0              1950.0               2200.0               2075.0  \n",
       "1              1950.0               2200.0               2075.0  \n",
       "2              1600.0               1800.0               1700.0  \n",
       "\n",
       "[3 rows x 43 columns]"
      ]
     },
     "execution_count": 17,
     "metadata": {},
     "output_type": "execute_result"
    }
   ],
   "source": [
    "coffee = pd.read_feather(r'./data/coffee_ratings_full.feather')\n",
    "print(coffee.shape)\n",
    "coffee.head(3)"
   ]
  },
  {
   "cell_type": "code",
   "execution_count": 18,
   "metadata": {},
   "outputs": [
    {
     "data": {
      "text/plain": [
       "Education\n",
       "Bachelor         0.389116\n",
       "Master           0.270748\n",
       "College          0.191837\n",
       "Below_College    0.115646\n",
       "Doctor           0.032653\n",
       "Name: proportion, dtype: float64"
      ]
     },
     "execution_count": 18,
     "metadata": {},
     "output_type": "execute_result"
    }
   ],
   "source": [
    "# Proportion of employees by Education level\n",
    "attrition['Education'].value_counts(normalize=True)"
   ]
  },
  {
   "cell_type": "code",
   "execution_count": 19,
   "metadata": {},
   "outputs": [
    {
     "name": "stderr",
     "output_type": "stream",
     "text": [
      "C:\\Users\\anshu\\AppData\\Local\\Temp\\ipykernel_37420\\2549988468.py:2: FutureWarning: The default of observed=False is deprecated and will be changed to True in a future version of pandas. Pass observed=False to retain current behavior or observed=True to adopt the future default and silence this warning.\n",
      "  attrition_strat = attrition.groupby('Education').sample(frac=0.4, random_state=2022)\n"
     ]
    },
    {
     "data": {
      "text/html": [
       "<div>\n",
       "<style scoped>\n",
       "    .dataframe tbody tr th:only-of-type {\n",
       "        vertical-align: middle;\n",
       "    }\n",
       "\n",
       "    .dataframe tbody tr th {\n",
       "        vertical-align: top;\n",
       "    }\n",
       "\n",
       "    .dataframe thead th {\n",
       "        text-align: right;\n",
       "    }\n",
       "</style>\n",
       "<table border=\"1\" class=\"dataframe\">\n",
       "  <thead>\n",
       "    <tr style=\"text-align: right;\">\n",
       "      <th></th>\n",
       "      <th>Age</th>\n",
       "      <th>Attrition</th>\n",
       "      <th>BusinessTravel</th>\n",
       "      <th>DailyRate</th>\n",
       "      <th>Department</th>\n",
       "      <th>DistanceFromHome</th>\n",
       "      <th>Education</th>\n",
       "      <th>EducationField</th>\n",
       "      <th>EnvironmentSatisfaction</th>\n",
       "      <th>Gender</th>\n",
       "      <th>...</th>\n",
       "      <th>PerformanceRating</th>\n",
       "      <th>RelationshipSatisfaction</th>\n",
       "      <th>StockOptionLevel</th>\n",
       "      <th>TotalWorkingYears</th>\n",
       "      <th>TrainingTimesLastYear</th>\n",
       "      <th>WorkLifeBalance</th>\n",
       "      <th>YearsAtCompany</th>\n",
       "      <th>YearsInCurrentRole</th>\n",
       "      <th>YearsSinceLastPromotion</th>\n",
       "      <th>YearsWithCurrManager</th>\n",
       "    </tr>\n",
       "  </thead>\n",
       "  <tbody>\n",
       "    <tr>\n",
       "      <th>1191</th>\n",
       "      <td>53</td>\n",
       "      <td>0.0</td>\n",
       "      <td>Travel_Rarely</td>\n",
       "      <td>238</td>\n",
       "      <td>Sales</td>\n",
       "      <td>1</td>\n",
       "      <td>Below_College</td>\n",
       "      <td>Medical</td>\n",
       "      <td>Very_High</td>\n",
       "      <td>Female</td>\n",
       "      <td>...</td>\n",
       "      <td>Outstanding</td>\n",
       "      <td>Very_High</td>\n",
       "      <td>0</td>\n",
       "      <td>18</td>\n",
       "      <td>2</td>\n",
       "      <td>Best</td>\n",
       "      <td>14</td>\n",
       "      <td>7</td>\n",
       "      <td>8</td>\n",
       "      <td>10</td>\n",
       "    </tr>\n",
       "    <tr>\n",
       "      <th>407</th>\n",
       "      <td>29</td>\n",
       "      <td>0.0</td>\n",
       "      <td>Travel_Frequently</td>\n",
       "      <td>995</td>\n",
       "      <td>Research_Development</td>\n",
       "      <td>2</td>\n",
       "      <td>Below_College</td>\n",
       "      <td>Life_Sciences</td>\n",
       "      <td>Low</td>\n",
       "      <td>Male</td>\n",
       "      <td>...</td>\n",
       "      <td>Excellent</td>\n",
       "      <td>Very_High</td>\n",
       "      <td>1</td>\n",
       "      <td>6</td>\n",
       "      <td>0</td>\n",
       "      <td>Best</td>\n",
       "      <td>6</td>\n",
       "      <td>4</td>\n",
       "      <td>1</td>\n",
       "      <td>3</td>\n",
       "    </tr>\n",
       "    <tr>\n",
       "      <th>1233</th>\n",
       "      <td>59</td>\n",
       "      <td>0.0</td>\n",
       "      <td>Travel_Frequently</td>\n",
       "      <td>1225</td>\n",
       "      <td>Sales</td>\n",
       "      <td>1</td>\n",
       "      <td>Below_College</td>\n",
       "      <td>Life_Sciences</td>\n",
       "      <td>Low</td>\n",
       "      <td>Female</td>\n",
       "      <td>...</td>\n",
       "      <td>Excellent</td>\n",
       "      <td>Very_High</td>\n",
       "      <td>0</td>\n",
       "      <td>20</td>\n",
       "      <td>2</td>\n",
       "      <td>Good</td>\n",
       "      <td>4</td>\n",
       "      <td>3</td>\n",
       "      <td>1</td>\n",
       "      <td>3</td>\n",
       "    </tr>\n",
       "    <tr>\n",
       "      <th>366</th>\n",
       "      <td>37</td>\n",
       "      <td>0.0</td>\n",
       "      <td>Travel_Rarely</td>\n",
       "      <td>571</td>\n",
       "      <td>Research_Development</td>\n",
       "      <td>10</td>\n",
       "      <td>Below_College</td>\n",
       "      <td>Life_Sciences</td>\n",
       "      <td>Very_High</td>\n",
       "      <td>Female</td>\n",
       "      <td>...</td>\n",
       "      <td>Excellent</td>\n",
       "      <td>Medium</td>\n",
       "      <td>2</td>\n",
       "      <td>6</td>\n",
       "      <td>3</td>\n",
       "      <td>Good</td>\n",
       "      <td>5</td>\n",
       "      <td>3</td>\n",
       "      <td>4</td>\n",
       "      <td>3</td>\n",
       "    </tr>\n",
       "    <tr>\n",
       "      <th>702</th>\n",
       "      <td>31</td>\n",
       "      <td>0.0</td>\n",
       "      <td>Travel_Frequently</td>\n",
       "      <td>163</td>\n",
       "      <td>Research_Development</td>\n",
       "      <td>24</td>\n",
       "      <td>Below_College</td>\n",
       "      <td>Technical_Degree</td>\n",
       "      <td>Very_High</td>\n",
       "      <td>Female</td>\n",
       "      <td>...</td>\n",
       "      <td>Outstanding</td>\n",
       "      <td>Very_High</td>\n",
       "      <td>0</td>\n",
       "      <td>9</td>\n",
       "      <td>3</td>\n",
       "      <td>Good</td>\n",
       "      <td>5</td>\n",
       "      <td>4</td>\n",
       "      <td>1</td>\n",
       "      <td>4</td>\n",
       "    </tr>\n",
       "    <tr>\n",
       "      <th>...</th>\n",
       "      <td>...</td>\n",
       "      <td>...</td>\n",
       "      <td>...</td>\n",
       "      <td>...</td>\n",
       "      <td>...</td>\n",
       "      <td>...</td>\n",
       "      <td>...</td>\n",
       "      <td>...</td>\n",
       "      <td>...</td>\n",
       "      <td>...</td>\n",
       "      <td>...</td>\n",
       "      <td>...</td>\n",
       "      <td>...</td>\n",
       "      <td>...</td>\n",
       "      <td>...</td>\n",
       "      <td>...</td>\n",
       "      <td>...</td>\n",
       "      <td>...</td>\n",
       "      <td>...</td>\n",
       "      <td>...</td>\n",
       "      <td>...</td>\n",
       "    </tr>\n",
       "    <tr>\n",
       "      <th>733</th>\n",
       "      <td>38</td>\n",
       "      <td>0.0</td>\n",
       "      <td>Travel_Frequently</td>\n",
       "      <td>653</td>\n",
       "      <td>Research_Development</td>\n",
       "      <td>29</td>\n",
       "      <td>Doctor</td>\n",
       "      <td>Life_Sciences</td>\n",
       "      <td>Very_High</td>\n",
       "      <td>Female</td>\n",
       "      <td>...</td>\n",
       "      <td>Excellent</td>\n",
       "      <td>Very_High</td>\n",
       "      <td>0</td>\n",
       "      <td>10</td>\n",
       "      <td>2</td>\n",
       "      <td>Better</td>\n",
       "      <td>10</td>\n",
       "      <td>3</td>\n",
       "      <td>9</td>\n",
       "      <td>9</td>\n",
       "    </tr>\n",
       "    <tr>\n",
       "      <th>1061</th>\n",
       "      <td>44</td>\n",
       "      <td>0.0</td>\n",
       "      <td>Travel_Frequently</td>\n",
       "      <td>602</td>\n",
       "      <td>Human_Resources</td>\n",
       "      <td>1</td>\n",
       "      <td>Doctor</td>\n",
       "      <td>Human_Resources</td>\n",
       "      <td>Low</td>\n",
       "      <td>Male</td>\n",
       "      <td>...</td>\n",
       "      <td>Excellent</td>\n",
       "      <td>High</td>\n",
       "      <td>0</td>\n",
       "      <td>14</td>\n",
       "      <td>3</td>\n",
       "      <td>Better</td>\n",
       "      <td>10</td>\n",
       "      <td>7</td>\n",
       "      <td>0</td>\n",
       "      <td>2</td>\n",
       "    </tr>\n",
       "    <tr>\n",
       "      <th>1307</th>\n",
       "      <td>41</td>\n",
       "      <td>0.0</td>\n",
       "      <td>Travel_Rarely</td>\n",
       "      <td>1276</td>\n",
       "      <td>Sales</td>\n",
       "      <td>2</td>\n",
       "      <td>Doctor</td>\n",
       "      <td>Life_Sciences</td>\n",
       "      <td>Medium</td>\n",
       "      <td>Female</td>\n",
       "      <td>...</td>\n",
       "      <td>Excellent</td>\n",
       "      <td>Medium</td>\n",
       "      <td>1</td>\n",
       "      <td>22</td>\n",
       "      <td>2</td>\n",
       "      <td>Better</td>\n",
       "      <td>18</td>\n",
       "      <td>16</td>\n",
       "      <td>11</td>\n",
       "      <td>8</td>\n",
       "    </tr>\n",
       "    <tr>\n",
       "      <th>1060</th>\n",
       "      <td>33</td>\n",
       "      <td>0.0</td>\n",
       "      <td>Travel_Rarely</td>\n",
       "      <td>516</td>\n",
       "      <td>Research_Development</td>\n",
       "      <td>8</td>\n",
       "      <td>Doctor</td>\n",
       "      <td>Life_Sciences</td>\n",
       "      <td>Very_High</td>\n",
       "      <td>Male</td>\n",
       "      <td>...</td>\n",
       "      <td>Excellent</td>\n",
       "      <td>Low</td>\n",
       "      <td>0</td>\n",
       "      <td>14</td>\n",
       "      <td>6</td>\n",
       "      <td>Better</td>\n",
       "      <td>0</td>\n",
       "      <td>0</td>\n",
       "      <td>0</td>\n",
       "      <td>0</td>\n",
       "    </tr>\n",
       "    <tr>\n",
       "      <th>177</th>\n",
       "      <td>29</td>\n",
       "      <td>0.0</td>\n",
       "      <td>Travel_Rarely</td>\n",
       "      <td>738</td>\n",
       "      <td>Research_Development</td>\n",
       "      <td>9</td>\n",
       "      <td>Doctor</td>\n",
       "      <td>Other</td>\n",
       "      <td>Medium</td>\n",
       "      <td>Male</td>\n",
       "      <td>...</td>\n",
       "      <td>Excellent</td>\n",
       "      <td>High</td>\n",
       "      <td>0</td>\n",
       "      <td>4</td>\n",
       "      <td>2</td>\n",
       "      <td>Better</td>\n",
       "      <td>3</td>\n",
       "      <td>2</td>\n",
       "      <td>2</td>\n",
       "      <td>2</td>\n",
       "    </tr>\n",
       "  </tbody>\n",
       "</table>\n",
       "<p>588 rows × 31 columns</p>\n",
       "</div>"
      ],
      "text/plain": [
       "      Age  Attrition     BusinessTravel  DailyRate            Department  \\\n",
       "1191   53        0.0      Travel_Rarely        238                 Sales   \n",
       "407    29        0.0  Travel_Frequently        995  Research_Development   \n",
       "1233   59        0.0  Travel_Frequently       1225                 Sales   \n",
       "366    37        0.0      Travel_Rarely        571  Research_Development   \n",
       "702    31        0.0  Travel_Frequently        163  Research_Development   \n",
       "...   ...        ...                ...        ...                   ...   \n",
       "733    38        0.0  Travel_Frequently        653  Research_Development   \n",
       "1061   44        0.0  Travel_Frequently        602       Human_Resources   \n",
       "1307   41        0.0      Travel_Rarely       1276                 Sales   \n",
       "1060   33        0.0      Travel_Rarely        516  Research_Development   \n",
       "177    29        0.0      Travel_Rarely        738  Research_Development   \n",
       "\n",
       "      DistanceFromHome      Education    EducationField  \\\n",
       "1191                 1  Below_College           Medical   \n",
       "407                  2  Below_College     Life_Sciences   \n",
       "1233                 1  Below_College     Life_Sciences   \n",
       "366                 10  Below_College     Life_Sciences   \n",
       "702                 24  Below_College  Technical_Degree   \n",
       "...                ...            ...               ...   \n",
       "733                 29         Doctor     Life_Sciences   \n",
       "1061                 1         Doctor   Human_Resources   \n",
       "1307                 2         Doctor     Life_Sciences   \n",
       "1060                 8         Doctor     Life_Sciences   \n",
       "177                  9         Doctor             Other   \n",
       "\n",
       "     EnvironmentSatisfaction  Gender  ...  PerformanceRating  \\\n",
       "1191               Very_High  Female  ...        Outstanding   \n",
       "407                      Low    Male  ...          Excellent   \n",
       "1233                     Low  Female  ...          Excellent   \n",
       "366                Very_High  Female  ...          Excellent   \n",
       "702                Very_High  Female  ...        Outstanding   \n",
       "...                      ...     ...  ...                ...   \n",
       "733                Very_High  Female  ...          Excellent   \n",
       "1061                     Low    Male  ...          Excellent   \n",
       "1307                  Medium  Female  ...          Excellent   \n",
       "1060               Very_High    Male  ...          Excellent   \n",
       "177                   Medium    Male  ...          Excellent   \n",
       "\n",
       "     RelationshipSatisfaction  StockOptionLevel TotalWorkingYears  \\\n",
       "1191                Very_High                 0                18   \n",
       "407                 Very_High                 1                 6   \n",
       "1233                Very_High                 0                20   \n",
       "366                    Medium                 2                 6   \n",
       "702                 Very_High                 0                 9   \n",
       "...                       ...               ...               ...   \n",
       "733                 Very_High                 0                10   \n",
       "1061                     High                 0                14   \n",
       "1307                   Medium                 1                22   \n",
       "1060                      Low                 0                14   \n",
       "177                      High                 0                 4   \n",
       "\n",
       "     TrainingTimesLastYear WorkLifeBalance  YearsAtCompany  \\\n",
       "1191                     2            Best              14   \n",
       "407                      0            Best               6   \n",
       "1233                     2            Good               4   \n",
       "366                      3            Good               5   \n",
       "702                      3            Good               5   \n",
       "...                    ...             ...             ...   \n",
       "733                      2          Better              10   \n",
       "1061                     3          Better              10   \n",
       "1307                     2          Better              18   \n",
       "1060                     6          Better               0   \n",
       "177                      2          Better               3   \n",
       "\n",
       "      YearsInCurrentRole  YearsSinceLastPromotion YearsWithCurrManager  \n",
       "1191                   7                        8                   10  \n",
       "407                    4                        1                    3  \n",
       "1233                   3                        1                    3  \n",
       "366                    3                        4                    3  \n",
       "702                    4                        1                    4  \n",
       "...                  ...                      ...                  ...  \n",
       "733                    3                        9                    9  \n",
       "1061                   7                        0                    2  \n",
       "1307                  16                       11                    8  \n",
       "1060                   0                        0                    0  \n",
       "177                    2                        2                    2  \n",
       "\n",
       "[588 rows x 31 columns]"
      ]
     },
     "execution_count": 19,
     "metadata": {},
     "output_type": "execute_result"
    }
   ],
   "source": [
    "# Proportional stratified sampling for 40% of each Education group\n",
    "attrition_strat = attrition.groupby('Education').sample(frac=0.4, random_state=2022)\n",
    "\n",
    "\n",
    "# Print the sample\n",
    "attrition_strat"
   ]
  },
  {
   "cell_type": "code",
   "execution_count": 20,
   "metadata": {},
   "outputs": [
    {
     "name": "stdout",
     "output_type": "stream",
     "text": [
      "Education\n",
      "Bachelor         0.389456\n",
      "Master           0.270408\n",
      "College          0.192177\n",
      "Below_College    0.115646\n",
      "Doctor           0.032313\n",
      "Name: proportion, dtype: float64\n"
     ]
    }
   ],
   "source": [
    "# Calculate the Education level proportions from attrition_strat\n",
    "education_counts_strat = attrition_strat['Education'].value_counts(normalize=True)\n",
    "\n",
    "# Print education_counts_strat\n",
    "print(education_counts_strat)"
   ]
  },
  {
   "cell_type": "code",
   "execution_count": 21,
   "metadata": {},
   "outputs": [
    {
     "name": "stdout",
     "output_type": "stream",
     "text": [
      "Education\n",
      "Below_College    0.2\n",
      "College          0.2\n",
      "Bachelor         0.2\n",
      "Master           0.2\n",
      "Doctor           0.2\n",
      "Name: proportion, dtype: float64\n"
     ]
    },
    {
     "name": "stderr",
     "output_type": "stream",
     "text": [
      "C:\\Users\\anshu\\AppData\\Local\\Temp\\ipykernel_37420\\4141168895.py:2: FutureWarning: The default of observed=False is deprecated and will be changed to True in a future version of pandas. Pass observed=False to retain current behavior or observed=True to adopt the future default and silence this warning.\n",
      "  attrition_eq = attrition.groupby('Education')\\\n"
     ]
    }
   ],
   "source": [
    "# Get 30 employees from each Education group\n",
    "attrition_eq = attrition.groupby('Education')\\\n",
    "\t.sample(n=30, random_state=2022)      \n",
    "\n",
    "# Get the proportions from attrition_eq\n",
    "education_counts_eq = attrition_eq['Education'].value_counts(normalize=True)\n",
    "\n",
    "# Print the results\n",
    "print(education_counts_eq)"
   ]
  },
  {
   "cell_type": "code",
   "execution_count": 22,
   "metadata": {},
   "outputs": [
    {
     "data": {
      "image/png": "[encoded data removed]",
      "text/plain": [
       "<Figure size 640x480 with 1 Axes>"
      ]
     },
     "metadata": {},
     "output_type": "display_data"
    }
   ],
   "source": [
    "# Plot YearsAtCompany from attrition as a histogram\n",
    "attrition['YearsAtCompany'].hist(bins=np.arange(0, 41, 1))\n",
    "plt.show()\n",
    "\n",
    "# Sample 400 employees weighted by YearsAtCompany\n",
    "attrition_weight = attrition.sample(frac=0.1, weights='YearsAtCompany')"
   ]
  },
  {
   "cell_type": "code",
   "execution_count": 23,
   "metadata": {},
   "outputs": [
    {
     "data": {
      "image/png": "[encoded data removed]",
      "text/plain": [
       "<Figure size 640x480 with 1 Axes>"
      ]
     },
     "metadata": {},
     "output_type": "display_data"
    }
   ],
   "source": [
    "# Plot YearsAtCompany from attrition as a histogram\n",
    "attrition['YearsAtCompany'].hist(bins=np.arange(0, 41, 1))\n",
    "# Sample 400 employees weighted by YearsAtCompany\n",
    "attrition_weight = attrition.sample(n=400, weights=\"YearsAtCompany\")\n",
    "\n",
    "# Plot YearsAtCompany from attrition_weight as a histogram\n",
    "attrition_weight['YearsAtCompany'].hist(bins=np.arange(0,41,1))\n",
    "plt.show()"
   ]
  },
  {
   "cell_type": "code",
   "execution_count": 24,
   "metadata": {},
   "outputs": [
    {
     "name": "stdout",
     "output_type": "stream",
     "text": [
      "7.0081632653061225 10.52\n"
     ]
    }
   ],
   "source": [
    "print(attrition['YearsAtCompany'].mean(), attrition_weight['YearsAtCompany'].mean())"
   ]
  },
  {
   "cell_type": "markdown",
   "metadata": {},
   "source": [
    "### Cluster sampling"
   ]
  },
  {
   "cell_type": "code",
   "execution_count": 25,
   "metadata": {},
   "outputs": [
    {
     "name": "stdout",
     "output_type": "stream",
     "text": [
      "['Human_Resources', 'Manager', 'Manufacturing_Director', 'Research_Scientist']\n"
     ]
    }
   ],
   "source": [
    "import random\n",
    "# Create a list of unique JobRole values\n",
    "job_roles_pop = list(attrition['JobRole'].unique())\n",
    "\n",
    "# Randomly sample four JobRole values\n",
    "job_roles_samp = random.sample(job_roles_pop, k=4)\n",
    "\n",
    "# Print the result\n",
    "print(job_roles_samp)"
   ]
  },
  {
   "cell_type": "code",
   "execution_count": 26,
   "metadata": {},
   "outputs": [
    {
     "data": {
      "text/plain": [
       "Age                            int32\n",
       "Attrition                    float64\n",
       "BusinessTravel              category\n",
       "DailyRate                      int32\n",
       "Department                  category\n",
       "DistanceFromHome               int32\n",
       "Education                   category\n",
       "EducationField              category\n",
       "EnvironmentSatisfaction     category\n",
       "Gender                      category\n",
       "HourlyRate                     int32\n",
       "JobInvolvement              category\n",
       "JobLevel                       int32\n",
       "JobRole                     category\n",
       "JobSatisfaction             category\n",
       "MaritalStatus               category\n",
       "MonthlyIncome                  int32\n",
       "MonthlyRate                    int32\n",
       "NumCompaniesWorked             int32\n",
       "OverTime                    category\n",
       "PercentSalaryHike              int32\n",
       "PerformanceRating           category\n",
       "RelationshipSatisfaction    category\n",
       "StockOptionLevel               int32\n",
       "TotalWorkingYears              int32\n",
       "TrainingTimesLastYear          int32\n",
       "WorkLifeBalance             category\n",
       "YearsAtCompany                 int32\n",
       "YearsInCurrentRole             int32\n",
       "YearsSinceLastPromotion        int32\n",
       "YearsWithCurrManager           int32\n",
       "dtype: object"
      ]
     },
     "execution_count": 26,
     "metadata": {},
     "output_type": "execute_result"
    }
   ],
   "source": [
    "attrition.dtypes"
   ]
  },
  {
   "cell_type": "code",
   "execution_count": 27,
   "metadata": {},
   "outputs": [
    {
     "name": "stdout",
     "output_type": "stream",
     "text": [
      "JobRole\n",
      "Research_Scientist           292\n",
      "Manufacturing_Director       145\n",
      "Manager                      102\n",
      "Human_Resources               52\n",
      "Healthcare_Representative      0\n",
      "Laboratory_Technician          0\n",
      "Research_Director              0\n",
      "Sales_Executive                0\n",
      "Sales_Representative           0\n",
      "Name: count, dtype: int64\n"
     ]
    }
   ],
   "source": [
    "# Filter for rows where JobRole is in job_roles_samp\n",
    "jobrole_condition = attrition['JobRole'].isin(job_roles_samp)\n",
    "attrition_filtered = attrition[jobrole_condition]\n",
    "\n",
    "# Print the result\n",
    "print(attrition_filtered['JobRole'].value_counts())"
   ]
  },
  {
   "cell_type": "code",
   "execution_count": 28,
   "metadata": {},
   "outputs": [
    {
     "name": "stdout",
     "output_type": "stream",
     "text": [
      "JobRole\n",
      "Research_Scientist           292\n",
      "Manufacturing_Director       145\n",
      "Manager                      102\n",
      "Human_Resources               52\n",
      "Healthcare_Representative      0\n",
      "Laboratory_Technician          0\n",
      "Research_Director              0\n",
      "Sales_Executive                0\n",
      "Sales_Representative           0\n",
      "Name: count, dtype: int64\n"
     ]
    },
    {
     "name": "stderr",
     "output_type": "stream",
     "text": [
      "C:\\Users\\anshu\\AppData\\Local\\Temp\\ipykernel_37420\\3873265533.py:1: FutureWarning: The behavior of DataFrame concatenation with empty or all-NA entries is deprecated. In a future version, this will no longer exclude empty or all-NA columns when determining the result dtypes. To retain the old behavior, exclude the relevant entries before the concat operation.\n",
      "  attrition_filtered.loc['JobRole'] = attrition_filtered['JobRole'].cat.remove_unused_categories()\n",
      "C:\\Users\\anshu\\AppData\\Local\\Temp\\ipykernel_37420\\3873265533.py:1: FutureWarning: The behavior of DataFrame concatenation with empty or all-NA entries is deprecated. In a future version, this will no longer exclude empty or all-NA columns when determining the result dtypes. To retain the old behavior, exclude the relevant entries before the concat operation.\n",
      "  attrition_filtered.loc['JobRole'] = attrition_filtered['JobRole'].cat.remove_unused_categories()\n",
      "C:\\Users\\anshu\\AppData\\Local\\Temp\\ipykernel_37420\\3873265533.py:1: FutureWarning: The behavior of DataFrame concatenation with empty or all-NA entries is deprecated. In a future version, this will no longer exclude empty or all-NA columns when determining the result dtypes. To retain the old behavior, exclude the relevant entries before the concat operation.\n",
      "  attrition_filtered.loc['JobRole'] = attrition_filtered['JobRole'].cat.remove_unused_categories()\n",
      "C:\\Users\\anshu\\AppData\\Local\\Temp\\ipykernel_37420\\3873265533.py:1: FutureWarning: The behavior of DataFrame concatenation with empty or all-NA entries is deprecated. In a future version, this will no longer exclude empty or all-NA columns when determining the result dtypes. To retain the old behavior, exclude the relevant entries before the concat operation.\n",
      "  attrition_filtered.loc['JobRole'] = attrition_filtered['JobRole'].cat.remove_unused_categories()\n",
      "C:\\Users\\anshu\\AppData\\Local\\Temp\\ipykernel_37420\\3873265533.py:1: FutureWarning: The behavior of DataFrame concatenation with empty or all-NA entries is deprecated. In a future version, this will no longer exclude empty or all-NA columns when determining the result dtypes. To retain the old behavior, exclude the relevant entries before the concat operation.\n",
      "  attrition_filtered.loc['JobRole'] = attrition_filtered['JobRole'].cat.remove_unused_categories()\n",
      "C:\\Users\\anshu\\AppData\\Local\\Temp\\ipykernel_37420\\3873265533.py:1: FutureWarning: The behavior of DataFrame concatenation with empty or all-NA entries is deprecated. In a future version, this will no longer exclude empty or all-NA columns when determining the result dtypes. To retain the old behavior, exclude the relevant entries before the concat operation.\n",
      "  attrition_filtered.loc['JobRole'] = attrition_filtered['JobRole'].cat.remove_unused_categories()\n",
      "C:\\Users\\anshu\\AppData\\Local\\Temp\\ipykernel_37420\\3873265533.py:1: FutureWarning: The behavior of DataFrame concatenation with empty or all-NA entries is deprecated. In a future version, this will no longer exclude empty or all-NA columns when determining the result dtypes. To retain the old behavior, exclude the relevant entries before the concat operation.\n",
      "  attrition_filtered.loc['JobRole'] = attrition_filtered['JobRole'].cat.remove_unused_categories()\n",
      "C:\\Users\\anshu\\AppData\\Local\\Temp\\ipykernel_37420\\3873265533.py:1: FutureWarning: The behavior of DataFrame concatenation with empty or all-NA entries is deprecated. In a future version, this will no longer exclude empty or all-NA columns when determining the result dtypes. To retain the old behavior, exclude the relevant entries before the concat operation.\n",
      "  attrition_filtered.loc['JobRole'] = attrition_filtered['JobRole'].cat.remove_unused_categories()\n",
      "C:\\Users\\anshu\\AppData\\Local\\Temp\\ipykernel_37420\\3873265533.py:1: FutureWarning: The behavior of DataFrame concatenation with empty or all-NA entries is deprecated. In a future version, this will no longer exclude empty or all-NA columns when determining the result dtypes. To retain the old behavior, exclude the relevant entries before the concat operation.\n",
      "  attrition_filtered.loc['JobRole'] = attrition_filtered['JobRole'].cat.remove_unused_categories()\n",
      "C:\\Users\\anshu\\AppData\\Local\\Temp\\ipykernel_37420\\3873265533.py:1: FutureWarning: The behavior of DataFrame concatenation with empty or all-NA entries is deprecated. In a future version, this will no longer exclude empty or all-NA columns when determining the result dtypes. To retain the old behavior, exclude the relevant entries before the concat operation.\n",
      "  attrition_filtered.loc['JobRole'] = attrition_filtered['JobRole'].cat.remove_unused_categories()\n",
      "C:\\Users\\anshu\\AppData\\Local\\Temp\\ipykernel_37420\\3873265533.py:1: FutureWarning: The behavior of DataFrame concatenation with empty or all-NA entries is deprecated. In a future version, this will no longer exclude empty or all-NA columns when determining the result dtypes. To retain the old behavior, exclude the relevant entries before the concat operation.\n",
      "  attrition_filtered.loc['JobRole'] = attrition_filtered['JobRole'].cat.remove_unused_categories()\n",
      "C:\\Users\\anshu\\AppData\\Local\\Temp\\ipykernel_37420\\3873265533.py:1: FutureWarning: The behavior of DataFrame concatenation with empty or all-NA entries is deprecated. In a future version, this will no longer exclude empty or all-NA columns when determining the result dtypes. To retain the old behavior, exclude the relevant entries before the concat operation.\n",
      "  attrition_filtered.loc['JobRole'] = attrition_filtered['JobRole'].cat.remove_unused_categories()\n",
      "C:\\Users\\anshu\\AppData\\Local\\Temp\\ipykernel_37420\\3873265533.py:1: FutureWarning: The behavior of DataFrame concatenation with empty or all-NA entries is deprecated. In a future version, this will no longer exclude empty or all-NA columns when determining the result dtypes. To retain the old behavior, exclude the relevant entries before the concat operation.\n",
      "  attrition_filtered.loc['JobRole'] = attrition_filtered['JobRole'].cat.remove_unused_categories()\n",
      "C:\\Users\\anshu\\AppData\\Local\\Temp\\ipykernel_37420\\3873265533.py:1: FutureWarning: The behavior of DataFrame concatenation with empty or all-NA entries is deprecated. In a future version, this will no longer exclude empty or all-NA columns when determining the result dtypes. To retain the old behavior, exclude the relevant entries before the concat operation.\n",
      "  attrition_filtered.loc['JobRole'] = attrition_filtered['JobRole'].cat.remove_unused_categories()\n",
      "C:\\Users\\anshu\\AppData\\Local\\Temp\\ipykernel_37420\\3873265533.py:1: FutureWarning: The behavior of DataFrame concatenation with empty or all-NA entries is deprecated. In a future version, this will no longer exclude empty or all-NA columns when determining the result dtypes. To retain the old behavior, exclude the relevant entries before the concat operation.\n",
      "  attrition_filtered.loc['JobRole'] = attrition_filtered['JobRole'].cat.remove_unused_categories()\n",
      "C:\\Users\\anshu\\AppData\\Local\\Temp\\ipykernel_37420\\3873265533.py:1: SettingWithCopyWarning: \n",
      "A value is trying to be set on a copy of a slice from a DataFrame\n",
      "\n",
      "See the caveats in the documentation: https://pandas.pydata.org/pandas-docs/stable/user_guide/indexing.html#returning-a-view-versus-a-copy\n",
      "  attrition_filtered.loc['JobRole'] = attrition_filtered['JobRole'].cat.remove_unused_categories()\n"
     ]
    }
   ],
   "source": [
    "attrition_filtered.loc['JobRole'] = attrition_filtered['JobRole'].cat.remove_unused_categories()\n",
    "print(attrition_filtered['JobRole'].value_counts())"
   ]
  },
  {
   "cell_type": "code",
   "execution_count": 32,
   "metadata": {},
   "outputs": [],
   "source": [
    "# # Randomly sample 10 employees from each sampled job role\n",
    "# attrition_clust = attrition_filtered.groupby('JobRole').sample(n=10, random_state=2022, observed=False)\n",
    "\n",
    "\n",
    "# # Print the sample\n",
    "# print(attrition_clust)"
   ]
  },
  {
   "cell_type": "code",
   "execution_count": 33,
   "metadata": {},
   "outputs": [
    {
     "name": "stdout",
     "output_type": "stream",
     "text": [
      "JobRole\n",
      "Healthcare_Representative    10\n",
      "Human_Resources              10\n",
      "Manufacturing_Director       10\n",
      "Sales_Representative         10\n",
      "Name: count, dtype: int64\n"
     ]
    },
    {
     "name": "stderr",
     "output_type": "stream",
     "text": [
      "C:\\Users\\anshu\\AppData\\Local\\Temp\\ipykernel_37420\\156858761.py:12: SettingWithCopyWarning: \n",
      "A value is trying to be set on a copy of a slice from a DataFrame.\n",
      "Try using .loc[row_indexer,col_indexer] = value instead\n",
      "\n",
      "See the caveats in the documentation: https://pandas.pydata.org/pandas-docs/stable/user_guide/indexing.html#returning-a-view-versus-a-copy\n",
      "  attrition_filtered['JobRole'] = attrition_filtered['JobRole'].cat.remove_unused_categories()\n",
      "C:\\Users\\anshu\\AppData\\Local\\Temp\\ipykernel_37420\\156858761.py:15: FutureWarning: The default of observed=False is deprecated and will be changed to True in a future version of pandas. Pass observed=False to retain current behavior or observed=True to adopt the future default and silence this warning.\n",
      "  attrition_clust = attrition_filtered.groupby(\"JobRole\")\\\n"
     ]
    }
   ],
   "source": [
    "# Create a list of unique JobRole values\n",
    "job_roles_pop = list(attrition['JobRole'].unique())\n",
    "\n",
    "# Randomly sample four JobRole values\n",
    "job_roles_samp = random.sample(job_roles_pop, k=4)\n",
    "\n",
    "# Filter for rows where JobRole is in job_roles_samp\n",
    "jobrole_condition = attrition['JobRole'].isin(job_roles_samp)\n",
    "attrition_filtered = attrition[jobrole_condition]\n",
    "\n",
    "# Remove categories with no rows\n",
    "attrition_filtered['JobRole'] = attrition_filtered['JobRole'].cat.remove_unused_categories()\n",
    "\n",
    "# Randomly sample 10 employees from each sampled job role\n",
    "attrition_clust = attrition_filtered.groupby(\"JobRole\")\\\n",
    "    .sample(n=10, random_state=2022)\n",
    "\n",
    "# Print the sample\n",
    "print(attrition_clust['JobRole'].value_counts())         "
   ]
  },
  {
   "cell_type": "markdown",
   "metadata": {},
   "source": [
    "## Sampling Distributions"
   ]
  },
  {
   "cell_type": "markdown",
   "metadata": {},
   "source": [
    "### Relative error of point estimates"
   ]
  },
  {
   "cell_type": "code",
   "execution_count": 34,
   "metadata": {},
   "outputs": [
    {
     "name": "stdout",
     "output_type": "stream",
     "text": [
      "(1338, 43)\n"
     ]
    },
    {
     "data": {
      "text/html": [
       "<div>\n",
       "<style scoped>\n",
       "    .dataframe tbody tr th:only-of-type {\n",
       "        vertical-align: middle;\n",
       "    }\n",
       "\n",
       "    .dataframe tbody tr th {\n",
       "        vertical-align: top;\n",
       "    }\n",
       "\n",
       "    .dataframe thead th {\n",
       "        text-align: right;\n",
       "    }\n",
       "</style>\n",
       "<table border=\"1\" class=\"dataframe\">\n",
       "  <thead>\n",
       "    <tr style=\"text-align: right;\">\n",
       "      <th></th>\n",
       "      <th>total_cup_points</th>\n",
       "      <th>species</th>\n",
       "      <th>owner</th>\n",
       "      <th>country_of_origin</th>\n",
       "      <th>farm_name</th>\n",
       "      <th>lot_number</th>\n",
       "      <th>mill</th>\n",
       "      <th>ico_number</th>\n",
       "      <th>company</th>\n",
       "      <th>altitude</th>\n",
       "      <th>...</th>\n",
       "      <th>color</th>\n",
       "      <th>category_two_defects</th>\n",
       "      <th>expiration</th>\n",
       "      <th>certification_body</th>\n",
       "      <th>certification_address</th>\n",
       "      <th>certification_contact</th>\n",
       "      <th>unit_of_measurement</th>\n",
       "      <th>altitude_low_meters</th>\n",
       "      <th>altitude_high_meters</th>\n",
       "      <th>altitude_mean_meters</th>\n",
       "    </tr>\n",
       "  </thead>\n",
       "  <tbody>\n",
       "    <tr>\n",
       "      <th>0</th>\n",
       "      <td>90.58</td>\n",
       "      <td>Arabica</td>\n",
       "      <td>metad plc</td>\n",
       "      <td>Ethiopia</td>\n",
       "      <td>metad plc</td>\n",
       "      <td>None</td>\n",
       "      <td>metad plc</td>\n",
       "      <td>2014/2015</td>\n",
       "      <td>metad agricultural developmet plc</td>\n",
       "      <td>1950-2200</td>\n",
       "      <td>...</td>\n",
       "      <td>Green</td>\n",
       "      <td>0.0</td>\n",
       "      <td>April 3rd, 2016</td>\n",
       "      <td>METAD Agricultural Development plc</td>\n",
       "      <td>309fcf77415a3661ae83e027f7e5f05dad786e44</td>\n",
       "      <td>19fef5a731de2db57d16da10287413f5f99bc2dd</td>\n",
       "      <td>m</td>\n",
       "      <td>1950.0</td>\n",
       "      <td>2200.0</td>\n",
       "      <td>2075.0</td>\n",
       "    </tr>\n",
       "    <tr>\n",
       "      <th>1</th>\n",
       "      <td>89.92</td>\n",
       "      <td>Arabica</td>\n",
       "      <td>metad plc</td>\n",
       "      <td>Ethiopia</td>\n",
       "      <td>metad plc</td>\n",
       "      <td>None</td>\n",
       "      <td>metad plc</td>\n",
       "      <td>2014/2015</td>\n",
       "      <td>metad agricultural developmet plc</td>\n",
       "      <td>1950-2200</td>\n",
       "      <td>...</td>\n",
       "      <td>Green</td>\n",
       "      <td>1.0</td>\n",
       "      <td>April 3rd, 2016</td>\n",
       "      <td>METAD Agricultural Development plc</td>\n",
       "      <td>309fcf77415a3661ae83e027f7e5f05dad786e44</td>\n",
       "      <td>19fef5a731de2db57d16da10287413f5f99bc2dd</td>\n",
       "      <td>m</td>\n",
       "      <td>1950.0</td>\n",
       "      <td>2200.0</td>\n",
       "      <td>2075.0</td>\n",
       "    </tr>\n",
       "  </tbody>\n",
       "</table>\n",
       "<p>2 rows × 43 columns</p>\n",
       "</div>"
      ],
      "text/plain": [
       "   total_cup_points  species      owner country_of_origin  farm_name  \\\n",
       "0             90.58  Arabica  metad plc          Ethiopia  metad plc   \n",
       "1             89.92  Arabica  metad plc          Ethiopia  metad plc   \n",
       "\n",
       "  lot_number       mill ico_number                            company  \\\n",
       "0       None  metad plc  2014/2015  metad agricultural developmet plc   \n",
       "1       None  metad plc  2014/2015  metad agricultural developmet plc   \n",
       "\n",
       "    altitude  ...  color category_two_defects       expiration  \\\n",
       "0  1950-2200  ...  Green                  0.0  April 3rd, 2016   \n",
       "1  1950-2200  ...  Green                  1.0  April 3rd, 2016   \n",
       "\n",
       "                   certification_body  \\\n",
       "0  METAD Agricultural Development plc   \n",
       "1  METAD Agricultural Development plc   \n",
       "\n",
       "                      certification_address  \\\n",
       "0  309fcf77415a3661ae83e027f7e5f05dad786e44   \n",
       "1  309fcf77415a3661ae83e027f7e5f05dad786e44   \n",
       "\n",
       "                      certification_contact unit_of_measurement  \\\n",
       "0  19fef5a731de2db57d16da10287413f5f99bc2dd                   m   \n",
       "1  19fef5a731de2db57d16da10287413f5f99bc2dd                   m   \n",
       "\n",
       "  altitude_low_meters altitude_high_meters altitude_mean_meters  \n",
       "0              1950.0               2200.0               2075.0  \n",
       "1              1950.0               2200.0               2075.0  \n",
       "\n",
       "[2 rows x 43 columns]"
      ]
     },
     "execution_count": 34,
     "metadata": {},
     "output_type": "execute_result"
    }
   ],
   "source": [
    "print(coffee.shape)\n",
    "coffee.head(2)"
   ]
  },
  {
   "cell_type": "code",
   "execution_count": 35,
   "metadata": {},
   "outputs": [
    {
     "name": "stdout",
     "output_type": "stream",
     "text": [
      "Mean of total_cup_points from whole dataset 82.15\n",
      "from sample of 10 82.22\n",
      "from sample of 100 81.72\n",
      "and from sample of 500 82.15\n"
     ]
    }
   ],
   "source": [
    "print(f'Mean of total_cup_points from whole dataset {coffee[\"total_cup_points\"].mean():.2f}\\n\\\n",
    "from sample of 10 {coffee.sample(n=10)[\"total_cup_points\"].mean():.2f}\\n\\\n",
    "from sample of 100 {coffee.sample(n=100)[\"total_cup_points\"].mean():.2f}\\n\\\n",
    "and from sample of 500 {coffee.sample(n=500)[\"total_cup_points\"].mean():.2f}')"
   ]
  },
  {
   "cell_type": "markdown",
   "metadata": {},
   "source": [
    "#### Relative Error"
   ]
  },
  {
   "cell_type": "code",
   "execution_count": 36,
   "metadata": {},
   "outputs": [
    {
     "name": "stdout",
     "output_type": "stream",
     "text": [
      "62.78481012658227\n"
     ]
    }
   ],
   "source": [
    "# Generate a simple random sample of 50 rows, with seed 2022\n",
    "attrition_srs50 = attrition.sample(n=50, random_state=2022)\n",
    "\n",
    "# Calculate the mean employee attrition in the sample\n",
    "mean_attrition_srs50 = attrition_srs50['Attrition'].mean()\n",
    "\n",
    "# Calculate the relative error percentage\n",
    "rel_error_pct50 = 100 * abs(attrition['Attrition'].mean()-mean_attrition_srs50)/attrition['Attrition'].mean()\n",
    "\n",
    "# Print rel_error_pct50\n",
    "print(rel_error_pct50)"
   ]
  },
  {
   "cell_type": "code",
   "execution_count": 37,
   "metadata": {},
   "outputs": [
    {
     "name": "stdout",
     "output_type": "stream",
     "text": [
      "6.962025316455695\n"
     ]
    }
   ],
   "source": [
    "# Generate a simple random sample of 100 rows, with seed 2022\n",
    "attrition_srs100 = attrition.sample(n=100, random_state=2022)\n",
    "\n",
    "# Calculate the mean employee attrition in the sample\n",
    "mean_attrition_srs100 = attrition_srs100['Attrition'].mean()\n",
    "mean_attrition = attrition['Attrition'].mean()\n",
    "\n",
    "# Calculate the relative error percentage\n",
    "rel_error_pct100 = 100 * abs(mean_attrition-mean_attrition_srs100)/mean_attrition\n",
    "\n",
    "# Print rel_error_pct100\n",
    "print(rel_error_pct100)"
   ]
  },
  {
   "cell_type": "markdown",
   "metadata": {},
   "source": [
    "### Creating a sampling distribution"
   ]
  },
  {
   "cell_type": "code",
   "execution_count": 38,
   "metadata": {},
   "outputs": [
    {
     "data": {
      "image/png": "[encoded data removed]",
      "text/plain": [
       "<Figure size 640x480 with 1 Axes>"
      ]
     },
     "metadata": {},
     "output_type": "display_data"
    }
   ],
   "source": [
    "# Create an empty list\n",
    "mean_attritions = []\n",
    "# Loop 500 times to create 500 sample means\n",
    "for _ in range(500):\n",
    "\tmean_attritions.append(\n",
    "    \tattrition.sample(n=60)['Attrition'].mean()\n",
    "\t)\n",
    "\n",
    "# Create a histogram of the 500 sample means\n",
    "plt.hist(mean_attritions)\n",
    "plt.show()"
   ]
  },
  {
   "cell_type": "markdown",
   "metadata": {},
   "source": [
    "### Approximate Sampling Distributions"
   ]
  },
  {
   "cell_type": "code",
   "execution_count": 39,
   "metadata": {},
   "outputs": [
    {
     "data": {
      "text/html": [
       "<div>\n",
       "<style scoped>\n",
       "    .dataframe tbody tr th:only-of-type {\n",
       "        vertical-align: middle;\n",
       "    }\n",
       "\n",
       "    .dataframe tbody tr th {\n",
       "        vertical-align: top;\n",
       "    }\n",
       "\n",
       "    .dataframe thead th {\n",
       "        text-align: right;\n",
       "    }\n",
       "</style>\n",
       "<table border=\"1\" class=\"dataframe\">\n",
       "  <thead>\n",
       "    <tr style=\"text-align: right;\">\n",
       "      <th></th>\n",
       "      <th>a</th>\n",
       "      <th>b</th>\n",
       "    </tr>\n",
       "  </thead>\n",
       "  <tbody>\n",
       "    <tr>\n",
       "      <th>0</th>\n",
       "      <td>0</td>\n",
       "      <td>0</td>\n",
       "    </tr>\n",
       "    <tr>\n",
       "      <th>1</th>\n",
       "      <td>0</td>\n",
       "      <td>1</td>\n",
       "    </tr>\n",
       "    <tr>\n",
       "      <th>2</th>\n",
       "      <td>0</td>\n",
       "      <td>2</td>\n",
       "    </tr>\n",
       "    <tr>\n",
       "      <th>3</th>\n",
       "      <td>1</td>\n",
       "      <td>0</td>\n",
       "    </tr>\n",
       "    <tr>\n",
       "      <th>4</th>\n",
       "      <td>1</td>\n",
       "      <td>1</td>\n",
       "    </tr>\n",
       "    <tr>\n",
       "      <th>5</th>\n",
       "      <td>1</td>\n",
       "      <td>2</td>\n",
       "    </tr>\n",
       "    <tr>\n",
       "      <th>6</th>\n",
       "      <td>2</td>\n",
       "      <td>0</td>\n",
       "    </tr>\n",
       "    <tr>\n",
       "      <th>7</th>\n",
       "      <td>2</td>\n",
       "      <td>1</td>\n",
       "    </tr>\n",
       "    <tr>\n",
       "      <th>8</th>\n",
       "      <td>2</td>\n",
       "      <td>2</td>\n",
       "    </tr>\n",
       "  </tbody>\n",
       "</table>\n",
       "</div>"
      ],
      "text/plain": [
       "   a  b\n",
       "0  0  0\n",
       "1  0  1\n",
       "2  0  2\n",
       "3  1  0\n",
       "4  1  1\n",
       "5  1  2\n",
       "6  2  0\n",
       "7  2  1\n",
       "8  2  2"
      ]
     },
     "execution_count": 39,
     "metadata": {},
     "output_type": "execute_result"
    }
   ],
   "source": [
    "import itertools\n",
    "def expand_grid(data_dict):\n",
    "    rows = itertools.product(*data_dict.values())\n",
    "    return pd.DataFrame.from_records(rows, columns=data_dict.keys())\n",
    "\n",
    "expand_grid({\n",
    "  'a':range(3),\n",
    "  'b':range(3)}\n",
    ")"
   ]
  },
  {
   "cell_type": "code",
   "execution_count": 40,
   "metadata": {},
   "outputs": [
    {
     "data": {
      "text/html": [
       "<div>\n",
       "<style scoped>\n",
       "    .dataframe tbody tr th:only-of-type {\n",
       "        vertical-align: middle;\n",
       "    }\n",
       "\n",
       "    .dataframe tbody tr th {\n",
       "        vertical-align: top;\n",
       "    }\n",
       "\n",
       "    .dataframe thead th {\n",
       "        text-align: right;\n",
       "    }\n",
       "</style>\n",
       "<table border=\"1\" class=\"dataframe\">\n",
       "  <thead>\n",
       "    <tr style=\"text-align: right;\">\n",
       "      <th></th>\n",
       "      <th>die1</th>\n",
       "      <th>die2</th>\n",
       "      <th>die3</th>\n",
       "      <th>die4</th>\n",
       "      <th>mean_roll</th>\n",
       "    </tr>\n",
       "  </thead>\n",
       "  <tbody>\n",
       "    <tr>\n",
       "      <th>0</th>\n",
       "      <td>1</td>\n",
       "      <td>1</td>\n",
       "      <td>1</td>\n",
       "      <td>1</td>\n",
       "      <td>1.00</td>\n",
       "    </tr>\n",
       "    <tr>\n",
       "      <th>1</th>\n",
       "      <td>1</td>\n",
       "      <td>1</td>\n",
       "      <td>1</td>\n",
       "      <td>2</td>\n",
       "      <td>1.25</td>\n",
       "    </tr>\n",
       "    <tr>\n",
       "      <th>2</th>\n",
       "      <td>1</td>\n",
       "      <td>1</td>\n",
       "      <td>1</td>\n",
       "      <td>3</td>\n",
       "      <td>1.50</td>\n",
       "    </tr>\n",
       "    <tr>\n",
       "      <th>3</th>\n",
       "      <td>1</td>\n",
       "      <td>1</td>\n",
       "      <td>1</td>\n",
       "      <td>4</td>\n",
       "      <td>1.75</td>\n",
       "    </tr>\n",
       "    <tr>\n",
       "      <th>4</th>\n",
       "      <td>1</td>\n",
       "      <td>1</td>\n",
       "      <td>1</td>\n",
       "      <td>5</td>\n",
       "      <td>2.00</td>\n",
       "    </tr>\n",
       "  </tbody>\n",
       "</table>\n",
       "</div>"
      ],
      "text/plain": [
       "   die1  die2  die3  die4  mean_roll\n",
       "0     1     1     1     1       1.00\n",
       "1     1     1     1     2       1.25\n",
       "2     1     1     1     3       1.50\n",
       "3     1     1     1     4       1.75\n",
       "4     1     1     1     5       2.00"
      ]
     },
     "execution_count": 40,
     "metadata": {},
     "output_type": "execute_result"
    }
   ],
   "source": [
    "dice = expand_grid(\n",
    "  {'die1':range(1,7),\n",
    "   'die2':range(1,7),\n",
    "   'die3':range(1,7),\n",
    "   'die4':range(1,7)\n",
    "  #  'die5':range(1,7),\n",
    "  #  'die6':range(1,7)\n",
    "  }\n",
    ")\n",
    "dice['mean_roll'] = (dice['die1']+dice['die2']+dice['die3']+dice['die4'])/4\n",
    "dice.head()"
   ]
  },
  {
   "cell_type": "code",
   "execution_count": 41,
   "metadata": {},
   "outputs": [
    {
     "name": "stdout",
     "output_type": "stream",
     "text": [
      "(1296, 5)\n"
     ]
    },
    {
     "data": {
      "text/plain": [
       "<Axes: xlabel='mean_roll'>"
      ]
     },
     "execution_count": 41,
     "metadata": {},
     "output_type": "execute_result"
    },
    {
     "data": {
      "image/png": "[encoded data removed]",
      "text/plain": [
       "<Figure size 640x480 with 1 Axes>"
      ]
     },
     "metadata": {},
     "output_type": "display_data"
    }
   ],
   "source": [
    "print(dice.shape)\n",
    "dice['mean_roll'] = dice['mean_roll'].astype('category')\n",
    "dice['mean_roll'].value_counts(sort=False).plot(kind='bar')"
   ]
  },
  {
   "cell_type": "code",
   "execution_count": 42,
   "metadata": {},
   "outputs": [
    {
     "data": {
      "image/png": "[encoded data removed]",
      "text/plain": [
       "<Figure size 640x480 with 1 Axes>"
      ]
     },
     "metadata": {},
     "output_type": "display_data"
    }
   ],
   "source": [
    "n_dice = range(1,101)\n",
    "n_outcomes=[]\n",
    "for _ in n_dice:\n",
    "  n_outcomes.append(6**_)\n",
    "\n",
    "outcomes = pd.DataFrame(\n",
    "  {'n_dice': list(n_dice)\n",
    "   ,'n_outcomes':n_outcomes\n",
    "   }\n",
    ")\n",
    "outcomes.plot(\n",
    "  x='n_dice'\n",
    "  , y='n_outcomes'\n",
    "  , kind='scatter'\n",
    ")\n",
    "plt.show()"
   ]
  },
  {
   "cell_type": "code",
   "execution_count": 43,
   "metadata": {},
   "outputs": [
    {
     "name": "stdout",
     "output_type": "stream",
     "text": [
      "4.6\n"
     ]
    }
   ],
   "source": [
    "# Sample one to eight, five times, with replacement\n",
    "five_rolls = np.random.choice(range(1,9), size=5, replace=True)\n",
    "\n",
    "# Print the mean of five_rolls\n",
    "print(five_rolls.mean())"
   ]
  },
  {
   "cell_type": "code",
   "execution_count": 44,
   "metadata": {},
   "outputs": [
    {
     "name": "stdout",
     "output_type": "stream",
     "text": [
      "[3.2, 4.8, 5.0, 5.2, 4.2, 6.6, 4.6, 5.0, 4.6, 6.2]\n"
     ]
    }
   ],
   "source": [
    "# Replicate the sampling code 1000 times\n",
    "sample_means_1000 = []\n",
    "for _ in range(1000):\n",
    "    sample_means_1000.append(\n",
    "  \t\tnp.random.choice(list(range(1, 9)), size=5, replace=True).mean()\n",
    "    )\n",
    "    \n",
    "# Print the first 10 entries of the result\n",
    "print(sample_means_1000[0:10])"
   ]
  },
  {
   "cell_type": "code",
   "execution_count": 45,
   "metadata": {},
   "outputs": [
    {
     "data": {
      "image/png": "[encoded data removed]",
      "text/plain": [
       "<Figure size 640x480 with 1 Axes>"
      ]
     },
     "metadata": {},
     "output_type": "display_data"
    }
   ],
   "source": [
    "# Draw a histogram of sample_means_1000 with 20 bins\n",
    "plt.hist(sample_means_1000,bins=20)\n",
    "plt.show()"
   ]
  },
  {
   "cell_type": "markdown",
   "metadata": {},
   "source": [
    "### Standard errors and the Central Limit Theorem\n"
   ]
  },
  {
   "cell_type": "code",
   "execution_count": 46,
   "metadata": {},
   "outputs": [],
   "source": [
    "# Gaussian Distribution / Normal Distribution\n",
    "sampling_distribution_5 = [np.random.choice(attrition['Attrition'], size=5, replace=True).mean() for _ in range(1000)]\n",
    "sampling_distribution_50 = [np.random.choice(attrition['Attrition'], size=50, replace=True).mean() for _ in range(1000)]\n",
    "sampling_distribution_500 = [np.random.choice(attrition['Attrition'], size=500, replace=True).mean() for _ in range(1000)]"
   ]
  },
  {
   "cell_type": "code",
   "execution_count": 47,
   "metadata": {},
   "outputs": [
    {
     "name": "stdout",
     "output_type": "stream",
     "text": [
      "0.16960000000000003\n",
      "0.15932000000000004\n",
      "0.16118599999999997\n"
     ]
    }
   ],
   "source": [
    "# Calculate the mean of the mean attritions for each sampling distribution\n",
    "mean_of_means_5 = np.mean(sampling_distribution_5)\n",
    "mean_of_means_50 = np.mean(sampling_distribution_50)\n",
    "mean_of_means_500 = np.mean(sampling_distribution_500)\n",
    "\n",
    "# Print the results\n",
    "print(mean_of_means_5)\n",
    "print(mean_of_means_50)\n",
    "print(mean_of_means_500)"
   ]
  },
  {
   "cell_type": "code",
   "execution_count": 48,
   "metadata": {},
   "outputs": [
    {
     "name": "stdout",
     "output_type": "stream",
     "text": [
      "0.16462971464150372\n",
      "0.05238971542471177\n",
      "0.016201354507814708\n"
     ]
    }
   ],
   "source": [
    "# Calculate the std. dev. of the mean attritions for each sampling distribution\n",
    "sd_of_means_5 = np.std(sampling_distribution_5, ddof=1)\n",
    "sd_of_means_50 = np.std(sampling_distribution_50, ddof=1)\n",
    "sd_of_means_500 = np.std(sampling_distribution_500, ddof=1)\n",
    "\n",
    "# Print the results\n",
    "print(sd_of_means_5)\n",
    "print(sd_of_means_50)\n",
    "print(sd_of_means_500)"
   ]
  },
  {
   "cell_type": "markdown",
   "metadata": {},
   "source": [
    "## Bootstrap Distributions"
   ]
  },
  {
   "cell_type": "markdown",
   "metadata": {},
   "source": [
    "### Introduction to bootstrapping"
   ]
  },
  {
   "cell_type": "code",
   "execution_count": 49,
   "metadata": {},
   "outputs": [],
   "source": [
    "coffee_sample = coffee[['variety', 'country_of_origin', 'flavor']].reset_index().sample(n=500)"
   ]
  },
  {
   "cell_type": "code",
   "execution_count": 50,
   "metadata": {},
   "outputs": [],
   "source": [
    "import numpy as np\n",
    "mean_floavours_5000 =[]\n",
    "for _ in range(5000):\n",
    "  mean_floavours_5000.append(\n",
    "    np.mean(coffee_sample.sample(frac=1, replace=True)['flavor'])\n",
    "  )\n",
    "bootstrap_distn = mean_floavours_5000"
   ]
  },
  {
   "cell_type": "code",
   "execution_count": 51,
   "metadata": {},
   "outputs": [
    {
     "data": {
      "image/png": "[encoded data removed]",
      "text/plain": [
       "<Figure size 640x480 with 1 Axes>"
      ]
     },
     "metadata": {},
     "output_type": "display_data"
    }
   ],
   "source": [
    "import matplotlib.pyplot as plt\n",
    "plt.hist(bootstrap_distn, bins=15)\n",
    "plt.show();"
   ]
  },
  {
   "cell_type": "code",
   "execution_count": 52,
   "metadata": {},
   "outputs": [
    {
     "data": {
      "text/plain": [
       "7.526046337817639"
      ]
     },
     "execution_count": 52,
     "metadata": {},
     "output_type": "execute_result"
    }
   ],
   "source": [
    "coffee['flavor'].mean()"
   ]
  },
  {
   "cell_type": "code",
   "execution_count": 53,
   "metadata": {},
   "outputs": [
    {
     "data": {
      "text/plain": [
       "7.53372"
      ]
     },
     "execution_count": 53,
     "metadata": {},
     "output_type": "execute_result"
    }
   ],
   "source": [
    "coffee_sample['flavor'].mean()"
   ]
  },
  {
   "cell_type": "code",
   "execution_count": 54,
   "metadata": {},
   "outputs": [
    {
     "data": {
      "text/plain": [
       "7.533568396"
      ]
     },
     "execution_count": 54,
     "metadata": {},
     "output_type": "execute_result"
    }
   ],
   "source": [
    "np.mean(bootstrap_distn)"
   ]
  },
  {
   "cell_type": "code",
   "execution_count": 55,
   "metadata": {},
   "outputs": [
    {
     "name": "stdout",
     "output_type": "stream",
     "text": [
      "Std Dev ==> df=0.3413824079927851, sample=0.3411658686032347, boot=0.01505172781534346\n"
     ]
    }
   ],
   "source": [
    "print(f\"Std Dev ==> df={coffee['flavor'].std()}, sample={coffee_sample['flavor'].std()}, boot={np.std(bootstrap_distn)}\")"
   ]
  },
  {
   "cell_type": "code",
   "execution_count": 56,
   "metadata": {},
   "outputs": [
    {
     "name": "stdout",
     "output_type": "stream",
     "text": [
      "Std Dev ==> df=0.3413824079927851, sample=0.3411658686032347, boot=0.015053233213938548\n"
     ]
    }
   ],
   "source": [
    "print(f\"Std Dev ==> df={coffee['flavor'].std()}, sample={coffee_sample['flavor'].std()}, boot={np.std(bootstrap_distn, ddof=1)}\")"
   ]
  },
  {
   "cell_type": "code",
   "execution_count": 57,
   "metadata": {},
   "outputs": [
    {
     "name": "stdout",
     "output_type": "stream",
     "text": [
      "[54.83, 54.984, 54.888, 55.092, 55.122, 54.286, 54.414, 54.788, 54.604, 56.086, 54.064, 54.312, 54.856, 54.584, 55.018, 55.374, 55.464, 55.86, 55.032, 54.672, 54.488, 54.728, 55.81, 55.212, 55.3, 55.148, 55.718, 54.9, 54.566, 54.858, 54.898, 54.378, 54.686, 54.998, 54.384, 55.288, 55.454, 54.322, 54.246, 55.488, 53.892, 54.938, 54.664, 54.372, 55.0, 55.48, 55.016, 54.576, 54.728, 55.452, 54.944, 55.052, 54.264, 54.448, 54.272, 54.45, 54.508, 55.962, 54.084, 54.586, 54.686, 54.634, 53.662, 54.5, 54.78, 55.25, 54.49, 54.668, 54.816, 54.328, 54.932, 55.256, 54.218, 55.054, 54.7, 54.13, 54.698, 55.8, 55.222, 54.988, 55.122, 54.348, 55.642, 54.99, 55.252, 54.7, 54.702, 56.036, 55.352, 54.952, 54.598, 53.99, 54.63, 56.176, 54.676, 55.072, 54.782, 54.422, 54.462, 54.702, 54.816, 54.464, 54.886, 54.484, 54.224, 54.37, 54.502, 54.808, 56.02, 54.75, 55.5, 55.224, 54.668, 54.62, 54.738, 55.206, 55.666, 54.696, 54.518, 54.45, 55.236, 54.47, 55.268, 54.792, 54.17, 54.186, 54.458, 54.698, 54.876, 55.004, 54.322, 54.596, 54.23, 54.462, 54.768, 54.748, 53.892, 54.034, 54.964, 55.078, 55.132, 54.244, 54.544, 54.76, 55.014, 54.518, 54.856, 55.516, 55.48, 55.538, 54.372, 54.506, 54.944, 53.7, 55.29, 55.25, 54.868, 53.75, 55.166, 55.572, 54.416, 54.836, 55.472, 54.562, 53.868, 54.73, 55.884, 54.96, 55.122, 55.284, 54.372, 54.406, 54.896, 55.294, 56.278, 54.976, 55.632, 53.856, 54.928, 54.752, 54.662, 54.824, 54.93, 54.992, 55.088, 55.08, 54.84, 55.408, 54.642, 54.38, 54.966, 54.916, 55.414, 54.378, 55.098, 54.682, 55.686, 55.434, 54.984, 54.53, 55.292, 55.398, 54.878, 55.276, 55.106, 54.076, 53.67, 53.754, 54.918, 54.728, 54.83, 54.234, 54.278, 54.688, 55.67, 54.786, 54.14, 55.358, 53.902, 54.724, 54.326, 54.96, 55.242, 54.784, 54.102, 54.554, 55.902, 55.6, 54.352, 55.396, 55.734, 55.186, 54.426, 54.826, 55.184, 54.8, 54.298, 55.212, 54.712, 54.312, 54.254, 54.426, 55.222, 54.826, 54.31, 55.082, 54.65, 55.3, 55.004, 53.956, 54.27, 55.1, 54.646, 54.524, 54.778, 54.952, 55.63, 54.834, 56.61, 55.388, 56.066, 55.046, 55.14, 54.37, 55.352, 54.412, 54.424, 55.704, 54.544, 55.304, 55.19, 55.042, 54.666, 55.254, 55.37, 55.196, 55.216, 54.43, 54.958, 55.192, 56.01, 54.324, 54.678, 54.454, 54.53, 54.992, 56.296, 54.352, 55.272, 55.4, 54.776, 54.702, 53.656, 54.834, 54.866, 55.864, 54.382, 54.702, 55.584, 54.262, 55.208, 54.37, 55.198, 54.922, 54.438, 54.834, 54.828, 54.374, 54.244, 54.938, 54.61, 55.128, 54.854, 54.046, 54.378, 54.584, 54.358, 54.764, 55.35, 54.728, 54.48, 55.144, 54.812, 54.034, 54.862, 54.982, 54.764, 54.324, 55.238, 54.244, 54.61, 53.926, 54.836, 55.142, 54.698, 54.44, 55.718, 54.71, 55.008, 54.534, 55.416, 54.724, 54.404, 55.016, 54.766, 54.862, 54.962, 55.046, 54.406, 54.578, 54.562, 54.98, 54.642, 54.688, 54.708, 54.62, 54.712, 54.1, 55.552, 55.14, 55.118, 54.532, 54.308, 54.912, 53.916, 54.818, 55.2, 54.75, 54.642, 54.626, 54.908, 54.726, 54.244, 54.416, 54.746, 54.386, 54.29, 54.69, 55.072, 54.856, 54.026, 54.61, 54.392, 55.042, 54.726, 54.718, 54.824, 54.57, 54.626, 54.604, 54.762, 54.31, 54.044, 55.168, 54.966, 54.752, 53.924, 54.144, 55.652, 54.966, 54.282, 54.16, 54.614, 54.596, 54.872, 54.268, 54.842, 54.344, 54.828, 54.27, 54.822, 54.792, 55.098, 54.674, 54.192, 54.362, 55.646, 54.52, 55.954, 54.41, 54.138, 54.732, 55.308, 55.188, 55.578, 55.658, 54.8, 55.184, 54.142, 54.59, 54.082, 54.684, 55.228, 54.942, 54.586, 54.004, 55.312, 54.744, 54.842, 55.378, 54.346, 54.658, 54.714, 55.452, 54.842, 54.948, 54.714, 54.452, 55.81, 54.746, 54.9, 55.33, 55.312, 54.26, 55.024, 54.59, 54.468, 54.234, 55.252, 54.718, 54.6, 54.096, 54.838, 54.458, 55.018, 54.158, 54.726, 54.48, 54.586, 54.726, 54.712, 54.614, 54.5, 54.348, 54.578, 54.328, 55.002, 54.894, 54.594, 55.046, 54.712, 54.862, 55.252, 54.956, 55.09, 54.934, 54.856, 54.238, 54.148, 55.004, 54.718, 55.496, 55.58, 54.718, 55.346, 53.972, 55.124, 54.156, 54.938, 54.89, 54.242, 55.498, 54.616, 55.112, 54.572, 54.794, 54.524, 55.624, 55.008, 54.682, 54.94, 55.15, 54.112, 55.316, 54.08, 54.814, 55.896, 54.796, 54.596, 54.294, 56.364, 54.946, 53.442, 54.85, 55.202, 54.93, 54.952, 55.186, 54.884, 54.872, 54.694, 54.326, 55.25, 55.424, 54.404, 55.384, 55.424, 54.918, 54.424, 54.756, 55.084, 55.11, 55.792, 55.166, 55.108, 54.424, 54.804, 55.452, 55.022, 54.482, 54.84, 53.846, 54.794, 54.292, 55.234, 55.348, 55.002, 55.516, 55.15, 54.946, 54.872, 56.216, 53.938, 55.104, 55.056, 54.472, 54.72, 54.512, 54.596, 54.928, 53.586, 55.51, 54.806, 55.122, 54.436, 55.284, 55.56, 54.06, 55.128, 54.906, 55.548, 54.596, 54.882, 55.096, 55.286, 55.126, 54.44, 54.514, 54.684, 54.424, 55.178, 55.216, 54.934, 54.42, 54.682, 55.19, 54.572, 55.248, 54.032, 55.232, 55.824, 55.678, 54.354, 54.776, 53.868, 54.474, 54.96, 54.802, 54.768, 55.546, 54.534, 54.398, 54.836, 54.99, 54.886, 54.986, 54.682, 54.866, 55.196, 55.124, 55.006, 54.918, 54.794, 54.748, 54.596, 54.994, 54.602, 55.13, 55.296, 54.626, 55.006, 55.396, 55.748, 54.138, 55.13, 54.856, 55.316, 54.184, 54.76, 54.96, 55.0, 55.22, 54.674, 55.154, 55.01, 54.2, 54.102, 54.86, 54.91, 54.764, 54.776, 55.132, 54.794, 54.516, 54.88, 54.738, 54.902, 55.24, 54.538, 54.812, 54.6, 54.378, 54.112, 55.346, 54.348, 55.38, 54.908, 54.84, 54.152, 55.06, 54.732, 54.706, 55.27, 54.826, 54.598, 55.728, 55.102, 54.29, 54.24, 54.958, 54.764, 55.428, 54.23, 54.9, 54.366, 54.292, 55.112, 54.822, 55.232, 54.856, 54.852, 55.524, 55.21, 54.592, 55.254, 53.65, 55.174, 54.624, 54.434, 55.416, 54.734, 55.656, 54.486, 55.394, 54.552, 53.672, 54.418, 54.924, 54.95, 54.076, 54.926, 55.304, 55.412, 54.98, 54.194, 55.11, 55.612, 55.222, 54.742, 54.478, 54.986, 55.374, 55.204, 55.126, 54.446, 54.442, 55.3, 55.236, 54.2, 54.744, 54.868, 55.294, 54.288, 54.382, 55.104, 54.958, 54.436, 55.008, 54.39, 54.748, 54.224, 54.082, 53.804, 54.664, 54.408, 54.798, 55.492, 55.064, 55.158, 54.858, 54.04, 54.522, 55.388, 55.532, 54.282, 53.986, 54.112, 54.786, 54.876, 55.404, 54.658, 55.374, 54.808, 54.536, 54.952, 54.764, 55.184, 55.434, 54.96, 55.056, 55.024, 53.81, 55.682, 54.754, 54.444, 55.02, 54.248, 55.59, 54.608, 54.334, 54.464, 55.67, 53.896, 54.77, 54.136, 55.16, 54.55, 55.164, 54.926, 54.22, 53.75, 54.786, 55.25, 54.932, 54.904, 54.788, 54.388, 53.67, 54.526, 55.658, 54.836, 55.062, 54.984, 54.764, 55.058, 54.922, 55.072, 55.374, 54.572, 53.68, 54.868, 54.17, 54.386, 55.034, 54.258, 55.222, 54.07, 54.434, 55.638, 54.136, 55.424, 55.606, 54.89, 54.436, 54.156, 54.668, 55.132, 54.764, 55.354, 54.864, 53.162, 54.132, 54.86, 54.44, 54.13, 55.294, 54.878, 54.476, 54.218, 54.46, 54.468, 55.46, 55.266, 54.638, 55.512, 54.08, 55.236, 54.622, 55.084, 55.438, 54.038, 55.116, 54.75, 54.134, 55.116, 54.238, 54.546, 54.58, 54.242, 54.844, 55.19, 54.758, 54.536, 55.626, 54.82, 54.648, 55.556, 55.058, 54.486, 54.458, 54.908, 54.534, 54.352, 55.16, 54.018, 54.942, 55.25, 55.334, 55.61, 55.254, 54.966, 54.998, 55.438, 54.754, 54.486, 54.9, 55.158, 54.972, 54.646, 54.926, 54.692, 55.252, 55.732, 53.698, 55.446, 54.904, 55.15, 54.5, 55.15, 55.64, 54.516, 55.022, 55.906, 54.738, 54.964, 55.406, 54.278, 55.146, 55.022, 54.794, 54.91, 54.332, 55.532, 54.752, 55.71, 54.52, 54.168, 55.182, 53.972, 54.826, 54.566, 54.818, 54.624, 54.99, 54.364, 54.472, 55.074, 53.834, 53.988, 54.75, 55.26, 55.478, 54.97, 54.522, 54.972, 54.78, 54.504, 55.114, 55.498, 54.394, 53.658, 55.58, 55.74, 54.896, 55.292, 55.248, 55.336, 55.226, 54.544, 53.998, 54.58, 54.122, 54.572, 56.158, 54.89, 54.628, 54.738, 55.102, 54.366, 54.2, 55.71, 54.882, 55.21, 55.832, 54.824, 54.586, 54.56, 55.178, 54.49, 55.034, 55.222, 55.534, 54.6, 54.866, 54.618, 54.182, 55.18, 54.906, 55.426, 53.598, 54.672, 53.978, 55.424, 54.498, 54.642, 53.988, 54.83, 54.454, 55.354, 54.86, 55.108, 53.872, 54.834, 54.496, 54.946, 53.89, 55.048, 55.298, 54.778, 55.602, 54.366, 53.63, 53.7, 55.614, 54.832, 54.498, 54.85, 54.676, 53.954, 54.388, 55.294, 55.44, 54.18, 55.424, 56.136, 55.044, 53.942, 54.31, 55.158, 54.0, 54.334, 54.756, 53.854, 55.456, 54.684, 54.632, 54.744, 54.602, 54.758, 54.08, 54.644, 54.61, 53.714, 54.212, 55.078, 55.15, 55.258, 54.648, 54.51, 54.434, 55.032, 54.628, 55.404, 54.95, 54.718, 54.84, 55.582, 56.036, 54.338, 55.64, 55.024, 54.896, 54.486, 54.92, 54.46, 54.984, 54.252, 55.896, 54.332, 54.466, 54.184, 55.586, 54.736, 55.808, 54.512, 53.852, 54.586, 54.01, 55.08, 55.152, 55.26, 55.054, 55.52, 54.906, 54.84, 54.354, 54.398, 54.15, 54.84, 55.038, 54.426, 55.69, 54.816, 54.376, 53.722, 55.634, 53.746, 54.612, 54.694, 54.852, 55.012, 54.934, 55.376, 54.344, 54.41, 54.608, 54.122, 54.784, 55.08, 55.17, 54.768, 55.026, 55.364, 54.568, 54.712, 55.298, 55.136, 55.048, 55.254, 55.168, 54.416, 55.952, 54.902, 55.198, 55.048, 54.562, 53.44, 54.36, 54.588, 54.596, 54.95, 54.608, 54.412, 54.008, 54.946, 54.62, 54.836, 55.268, 54.83, 54.944, 55.078, 54.346, 54.454, 55.456, 55.022, 55.59, 55.23, 55.162, 54.876, 53.73, 55.08, 54.442, 55.244, 55.316, 55.048, 54.826, 54.444, 54.598, 55.49, 54.518, 55.018, 54.548, 54.448, 55.026, 55.436, 54.242, 55.324, 54.142, 54.97, 54.618, 54.366, 54.972, 54.83, 54.392, 53.98, 54.674, 54.398, 54.684, 54.662, 55.206, 54.53, 55.77, 55.598, 55.104, 54.684, 55.45, 55.466, 54.162, 54.92, 56.15, 54.346, 55.016, 55.19, 54.598, 54.404, 55.068, 54.824, 54.274, 55.008, 54.872, 55.552, 55.002, 54.786, 54.834, 54.242, 54.744, 55.156, 54.018, 54.56, 54.708, 54.906, 53.55, 54.424, 54.056, 54.566, 54.352, 55.074, 55.698, 55.878, 54.65, 54.968, 54.838, 55.316, 54.848, 54.814, 54.026, 54.676, 55.51, 54.084, 55.182, 54.37, 55.272, 54.262, 54.864, 54.74, 55.372, 55.564, 55.156, 54.656, 54.572, 54.63, 54.586, 54.402, 55.13, 54.552, 54.078, 54.704, 54.758, 54.144, 55.114, 53.678, 54.624, 55.11, 54.474, 55.124, 55.266, 54.692, 54.71, 54.416, 54.206, 54.732, 54.584, 54.098, 54.528, 55.512, 54.628, 55.132, 54.254, 54.814, 54.974, 55.118, 54.356, 54.426, 53.088, 55.46, 55.156, 54.774, 53.994, 55.356, 54.368, 55.336, 55.184, 55.174, 54.114, 55.2, 55.24, 54.136, 54.314, 54.252, 54.918, 54.92, 55.312, 55.328, 54.938, 55.76, 54.472, 54.096, 54.842, 55.836, 55.226, 55.162, 54.95, 55.08, 54.688, 55.594, 55.408, 55.264, 54.956, 54.398, 54.94, 54.49, 54.688, 54.606, 54.992, 54.782, 55.098, 54.122, 54.516, 55.136, 54.898, 55.12, 55.166, 54.212, 54.782, 54.908, 54.836, 54.732, 54.364, 54.47, 54.79, 54.622, 54.148, 54.02, 54.896, 55.13, 54.64, 55.584, 54.14, 54.662, 54.61, 54.718, 54.758, 55.136, 55.092, 54.372, 54.312, 54.712, 55.304, 54.548, 53.796, 53.928, 54.434, 54.272, 54.386, 54.25, 54.896, 54.9, 54.83, 54.384, 54.802, 54.946, 54.934, 54.302, 54.234, 54.844, 54.302, 54.918, 55.424, 54.664, 54.938, 54.96, 54.29, 55.242, 54.338, 53.934, 54.532, 54.49, 54.066, 54.516, 55.15, 54.822, 54.66, 54.71, 55.552, 53.862, 54.142, 54.038, 54.634, 54.76, 54.664, 54.42, 55.596, 54.812, 54.86, 55.834, 54.228, 54.304, 55.41, 54.93, 54.926, 55.09, 54.628, 54.746, 54.804, 54.964, 54.91, 55.274, 55.028, 54.55, 55.006, 55.088, 55.59, 55.088, 55.514, 55.046, 54.68, 55.096, 55.078, 54.892, 54.482, 54.534, 55.008, 55.356, 54.142, 54.616, 55.072, 54.512, 53.772, 54.716, 54.582, 55.012, 53.718, 54.318, 55.152, 54.546, 55.666, 55.052, 55.228, 54.776, 54.29, 55.654, 54.988, 54.68, 55.262, 54.644, 54.406, 55.426, 54.826, 55.128, 54.128, 54.838, 54.55, 54.496, 54.074, 54.61, 55.612, 54.612, 55.204, 55.332, 54.572, 54.172, 54.92, 54.616, 54.232, 54.932, 55.102, 54.868, 54.682, 54.836, 55.424, 55.248, 55.312, 55.03, 55.354, 54.384, 54.856, 54.984, 55.658, 55.274, 54.208, 55.986, 55.798, 55.28, 54.258, 55.484, 54.288, 54.194, 55.896, 54.796, 55.46, 54.85, 54.316, 55.19, 54.398, 55.24, 54.296, 55.512, 54.978, 54.638, 53.63, 54.064, 55.488, 54.978, 55.624, 54.474, 55.892, 55.498, 54.954, 54.88, 55.074, 55.018, 54.528, 54.314, 54.598, 55.248, 53.726, 54.948, 54.644, 54.798, 54.664, 54.52, 54.34, 55.16, 55.04, 54.018, 54.528, 54.882, 54.238, 55.35, 55.198, 54.782, 54.932, 54.516, 55.086, 55.318, 55.324, 54.618, 54.614, 54.296, 55.324, 54.896, 54.94, 55.41, 54.168, 54.532, 54.49, 54.852, 55.522, 54.992, 54.712, 54.98, 54.552, 54.12, 55.112, 54.652, 54.564, 56.35, 54.748, 54.032, 54.456, 54.51, 55.212, 55.524, 54.672, 55.324, 55.386, 54.69, 55.428, 54.958, 55.242, 54.85, 54.656, 54.83, 54.764, 55.276, 54.2, 55.236, 54.426, 54.936, 54.518, 53.95, 54.866, 55.028, 54.844, 54.88, 54.904, 55.102, 55.294, 54.622, 55.456, 55.624, 55.36, 54.96, 54.61, 55.284, 54.372, 54.534, 55.894, 55.516, 53.952, 55.038, 54.614, 54.194, 54.334, 54.706, 54.512, 55.18, 54.442, 55.1, 55.146, 54.382, 54.064, 55.328, 54.68, 54.456, 55.23, 54.426, 56.126, 54.486, 54.074, 54.326, 55.108, 54.372, 54.48, 54.722, 53.99, 55.666, 53.842, 54.3, 55.432, 55.022, 54.368, 54.81, 55.698, 55.204, 54.22, 55.02, 56.456, 54.98, 54.626, 55.036, 54.926, 54.65, 54.828, 54.782, 54.298, 54.744, 55.114, 54.424, 54.866, 55.138, 53.866, 54.59, 54.582, 54.9, 54.576, 55.306, 55.046, 54.986, 55.456, 54.63, 54.72, 54.788, 54.556, 54.338, 55.212, 55.382, 54.226, 54.704, 53.87, 55.356, 53.87, 55.44, 54.67, 54.918, 54.506, 55.336, 54.702, 54.514, 54.584, 54.68, 54.752, 55.886, 54.866, 54.826, 54.872, 54.646, 54.466, 54.586, 54.908, 54.38, 55.108, 55.092, 54.738, 54.02, 55.144, 54.458, 55.608, 55.018, 54.876, 55.584, 54.894, 55.326, 54.702, 55.292, 55.31, 55.226, 54.76, 55.9, 54.888, 55.526, 55.52, 55.86, 54.37, 55.034, 54.8, 54.386, 54.776, 55.066, 54.51, 54.644, 55.49, 54.66, 53.954, 55.012, 54.14, 55.142, 54.82, 54.862, 55.208, 54.116, 55.07, 54.54, 54.918, 54.766, 54.694, 54.948, 55.29, 55.006, 54.56, 55.836, 54.196, 54.5, 54.18, 55.67, 55.606, 55.036, 55.162, 55.21, 54.702, 54.524, 54.134, 55.228, 54.132, 53.906, 55.77, 55.68, 54.574, 54.574, 55.206, 54.766, 54.832, 55.022, 54.014, 54.642, 55.204, 54.876, 53.746, 54.39, 55.508, 55.126, 54.416, 55.01, 54.33, 54.962, 54.722, 55.204, 53.958, 53.894, 55.458, 54.836, 54.404, 54.63, 54.466, 54.882, 54.628, 54.286, 55.022, 55.304, 54.376, 54.478, 55.318, 54.386, 54.288, 55.208, 54.532, 54.84, 54.778, 54.404, 54.892, 54.668, 55.024, 55.178, 54.134, 54.974, 54.656, 54.806, 54.83, 56.026, 54.056, 54.9, 55.924, 54.606, 54.144, 54.26, 54.098, 54.736, 53.87, 54.43, 55.032, 54.346, 55.546, 54.548, 54.41, 54.888, 54.748, 54.42, 54.924, 54.824, 54.69, 54.696, 54.712, 53.826, 55.068, 54.982, 54.32, 55.232, 54.7, 55.35, 54.482, 54.574, 54.23, 54.98, 54.952, 55.668, 55.456, 55.114, 54.742, 54.302, 54.444, 54.83, 55.452, 53.874, 55.092, 55.294, 55.316, 54.65, 55.3, 54.276, 54.958, 54.708, 54.866, 54.43, 54.132, 55.184, 55.414, 54.538, 54.972, 54.854, 55.276, 55.396, 55.376, 54.542, 55.116, 55.5, 54.834, 54.88, 54.242, 55.724, 53.488, 55.548, 54.828, 55.378, 55.012, 55.01, 54.618, 54.194, 55.652, 54.848, 55.348, 54.392, 55.08, 54.726, 54.528, 55.334, 55.75, 54.98, 54.638, 54.586, 55.816, 53.814, 54.43, 55.192, 55.622, 54.518, 54.866, 54.904, 55.574, 54.792, 54.856, 54.942, 54.514, 55.126, 53.27, 54.796, 54.422, 55.094, 55.51, 54.66, 54.7, 55.514, 54.406, 55.428, 54.15, 55.244, 55.53, 55.226, 55.066, 54.722, 55.092, 54.474, 54.794, 54.472, 54.53, 55.078, 55.45, 54.736, 54.286, 55.492, 55.918, 54.53, 54.402, 54.878, 54.086, 54.714, 54.274, 54.88, 54.792, 54.91, 54.916, 55.408, 54.62, 54.574, 54.31, 55.086, 54.938, 54.62, 54.444, 55.498, 55.15, 54.952, 55.148, 54.702, 55.508, 54.928, 55.074, 54.704, 54.794, 54.87, 54.346, 55.184, 55.366, 55.628, 55.082, 55.226, 54.386, 54.462, 55.504, 54.922, 54.868, 54.678, 55.194, 54.886, 55.242, 55.054, 54.706, 55.55, 54.69, 54.872, 55.724, 55.132, 56.246, 54.774, 54.818, 55.128, 54.846, 54.904, 54.446, 54.558, 54.274, 54.978, 54.654, 54.786, 54.602, 55.078, 54.404, 55.022, 54.748, 55.178, 54.26]\n"
     ]
    }
   ],
   "source": [
    "spotify_population = pd.read_feather(r'./data/spotify_2000_2020.feather')\n",
    "mean_popularity_2000_samp = []\n",
    "\n",
    "# Generate a sampling distribution of 2000 replicates\n",
    "for _ in range(2000):\n",
    "    mean_popularity_2000_samp.append(\n",
    "    \t# Sample 500 rows and calculate the mean popularity \n",
    "    \tnp.mean( spotify_population.sample(n=500)['popularity'].mean())\n",
    "    )\n",
    "\n",
    "# Print the sampling distribution results\n",
    "print(mean_popularity_2000_samp)"
   ]
  },
  {
   "cell_type": "code",
   "execution_count": 58,
   "metadata": {},
   "outputs": [
    {
     "name": "stdout",
     "output_type": "stream",
     "text": [
      "[53.741, 53.796, 54.208, 54.242, 54.269, 54.064, 54.346, 53.938, 54.547, 53.557, 53.892, 54.15, 54.32, 54.402, 54.67, 54.435, 53.911, 54.211, 54.609, 53.687, 54.312, 54.174, 54.127, 54.702, 54.128, 54.159, 53.793, 53.987, 54.372, 54.267, 53.427, 53.667, 53.869, 53.907, 54.54, 54.445, 53.925, 54.343, 54.696, 54.857, 54.275, 54.372, 54.256, 54.232, 54.414, 54.085, 53.795, 54.36, 54.359, 53.621, 54.473, 53.799, 54.222, 54.015, 54.465, 54.327, 54.27, 54.151, 54.233, 54.672, 53.893, 53.987, 54.164, 54.133, 53.772, 53.415, 54.533, 54.191, 54.212, 54.748, 54.129, 54.142, 53.614, 54.18, 54.446, 54.297, 53.863, 54.165, 53.87, 53.67, 54.452, 54.295, 54.052, 53.798, 53.978, 54.066, 54.048, 53.774, 54.531, 54.103, 54.27, 54.036, 54.265, 53.781, 54.096, 54.124, 54.794, 54.211, 54.665, 55.035, 53.277, 54.204, 53.745, 54.064, 53.924, 54.288, 54.176, 53.867, 54.175, 54.45, 53.79, 54.748, 53.987, 54.252, 53.374, 54.159, 55.014, 54.091, 54.269, 54.455, 54.625, 54.204, 54.162, 53.646, 54.148, 53.77, 53.906, 53.862, 54.565, 54.304, 54.164, 54.04, 54.16, 54.238, 54.02, 53.976, 53.792, 54.115, 54.463, 53.989, 54.535, 54.328, 54.194, 53.637, 53.911, 54.539, 54.439, 53.915, 54.173, 54.455, 54.403, 54.242, 54.121, 54.282, 54.297, 54.334, 54.456, 53.86, 54.174, 54.113, 54.261, 54.226, 53.99, 54.254, 54.02, 54.712, 54.207, 54.586, 54.269, 54.423, 54.073, 54.698, 54.244, 53.661, 53.98, 53.92, 54.217, 53.269, 53.79, 54.336, 53.825, 54.18, 54.186, 54.791, 53.73, 54.048, 54.748, 54.422, 53.535, 54.156, 53.722, 54.215, 54.468, 54.534, 54.078, 54.27, 54.001, 54.001, 53.759, 54.042, 53.69, 54.292, 54.351, 54.075, 54.123, 54.077, 54.087, 54.566, 54.051, 54.143, 54.076, 53.78, 54.002, 54.25, 54.098, 54.337, 54.249, 54.704, 54.464, 54.765, 53.574, 54.288, 53.58, 54.472, 54.681, 53.713, 54.075, 54.453, 54.56, 54.26, 53.83, 54.119, 53.963, 54.063, 54.676, 53.61, 54.275, 54.917, 53.685, 54.315, 54.158, 53.818, 54.605, 53.815, 54.42, 53.944, 54.014, 54.223, 54.091, 54.317, 53.76, 54.148, 53.651, 53.363, 54.129, 54.533, 53.952, 53.831, 54.955, 54.582, 54.195, 54.243, 53.706, 53.9, 53.982, 54.715, 54.119, 54.439, 54.439, 54.139, 53.981, 53.94, 54.445, 54.384, 54.508, 54.135, 54.475, 54.301, 54.328, 54.478, 54.287, 53.846, 53.941, 53.828, 54.459, 54.512, 53.823, 54.355, 53.691, 54.89, 53.977, 54.29, 54.634, 53.811, 54.191, 53.812, 54.149, 54.082, 54.124, 54.346, 54.146, 54.368, 54.329, 54.314, 53.588, 54.61, 53.765, 54.339, 54.149, 53.899, 54.291, 54.503, 53.722, 54.306, 54.427, 53.773, 54.416, 54.048, 54.508, 54.358, 53.948, 53.865, 53.876, 54.739, 54.082, 54.487, 54.041, 54.121, 54.633, 54.317, 53.884, 54.255, 53.974, 54.031, 54.064, 54.107, 53.306, 53.822, 54.98, 53.814, 55.139, 53.927, 54.774, 54.135, 53.969, 54.444, 53.715, 54.605, 53.646, 54.443, 54.448, 54.012, 54.404, 53.465, 54.342, 54.274, 55.19, 54.479, 54.254, 53.239, 54.116, 54.623, 55.076, 53.834, 54.191, 54.695, 54.336, 54.375, 54.349, 54.113, 53.94, 54.787, 54.551, 54.788, 54.305, 54.493, 54.516, 54.099, 53.772, 54.572, 53.568, 53.568, 54.365, 54.047, 54.367, 54.193, 54.459, 54.071, 54.256, 53.948, 54.504, 54.182, 53.782, 54.438, 54.338, 54.259, 54.132, 54.513, 53.878, 54.674, 53.777, 54.06, 53.266, 53.842, 53.775, 54.837, 53.685, 54.472, 54.373, 54.098, 54.164, 53.965, 54.205, 53.928, 54.737, 54.241, 54.045, 54.186, 54.058, 54.515, 54.266, 53.77, 54.285, 53.541, 53.927, 53.419, 53.984, 54.249, 54.405, 53.937, 54.342, 54.583, 54.353, 54.546, 54.361, 54.248, 54.634, 53.929, 54.499, 53.874, 54.035, 53.832, 54.147, 54.227, 53.76, 54.11, 53.888, 54.821, 54.127, 54.117, 54.186, 54.521, 54.29, 54.814, 54.286, 54.518, 54.071, 54.267, 54.072, 53.944, 53.88, 54.353, 54.323, 54.212, 54.27, 54.27, 54.149, 54.005, 54.095, 53.727, 54.168, 54.343, 53.841, 53.661, 54.398, 53.773, 54.174, 54.481, 54.556, 53.9, 54.356, 53.46, 53.998, 54.291, 54.427, 54.342, 54.33, 54.02, 54.128, 53.942, 54.028, 54.113, 54.348, 54.007, 54.187, 53.841, 54.284, 54.28, 54.567, 54.524, 54.711, 53.609, 54.766, 54.383, 53.719, 54.032, 54.23, 54.468, 54.098, 53.493, 54.304, 54.696, 54.382, 54.029, 53.79, 53.949, 54.163, 54.112, 54.145, 54.109, 53.632, 54.127, 53.71, 53.554, 54.357, 53.844, 54.077, 54.342, 54.116, 54.056, 53.976, 54.19, 54.198, 54.281, 54.202, 54.239, 53.928, 54.643, 54.598, 54.654, 54.853, 54.016, 53.335, 54.669, 54.079, 54.522, 54.847, 54.135, 54.335, 54.259, 54.438, 53.883, 53.975, 54.475, 53.942, 53.934, 53.752, 53.902, 54.388, 54.194, 54.069, 54.057, 54.397, 53.731, 53.742, 54.418, 54.36, 54.267, 54.317, 53.849, 53.714, 54.409, 53.806, 53.754, 54.014, 54.083, 53.851, 53.979, 54.195, 54.545, 54.1, 54.677, 54.15, 54.469, 54.281, 54.028, 54.319, 54.376, 53.69, 54.639, 53.875, 54.327, 53.885, 53.949, 54.377, 54.28, 53.655, 54.616, 55.023, 53.819, 54.288, 54.548, 54.622, 54.164, 54.396, 53.836, 53.647, 54.467, 53.928, 54.196, 54.433, 54.206, 54.546, 54.171, 53.988, 53.826, 54.396, 54.077, 53.844, 54.135, 54.122, 53.666, 54.552, 54.651, 54.258, 54.142, 54.501, 53.96, 54.052, 53.834, 54.721, 53.733, 53.916, 54.395, 53.713, 54.499, 53.408, 54.094, 54.513, 54.453, 53.784, 54.513, 54.805, 53.859, 53.948, 54.933, 54.306, 54.598, 53.882, 54.281, 53.983, 53.882, 54.247, 54.305, 54.479, 54.081, 54.293, 53.942, 54.542, 54.01, 54.065, 53.908, 54.343, 54.213, 53.534, 54.247, 53.916, 54.569, 53.456, 53.991, 53.871, 54.025, 54.209, 53.989, 54.153, 54.064, 53.664, 54.411, 53.878, 53.896, 54.749, 54.118, 54.037, 54.325, 54.001, 53.716, 54.175, 53.954, 55.471, 54.804, 53.584, 54.032, 54.116, 54.229, 54.442, 54.503, 54.704, 54.484, 54.389, 53.856, 53.824, 53.577, 54.334, 54.229, 54.256, 54.264, 53.783, 54.837, 53.828, 54.486, 53.733, 54.446, 53.783, 54.779, 54.116, 54.432, 53.491, 54.145, 54.28, 53.745, 54.363, 53.995, 54.607, 54.359, 54.205, 54.224, 53.327, 54.256, 54.024, 54.581, 54.442, 54.57, 53.841, 54.01, 54.272, 54.304, 53.64, 53.909, 54.046, 53.965, 55.176, 54.215, 54.546, 54.224, 54.258, 54.159, 54.834, 53.696, 54.122, 54.454, 54.108, 54.226, 53.722, 54.239, 54.798, 54.259, 54.321, 54.477, 53.858, 54.183, 54.622, 54.645, 54.051, 53.87, 53.726, 54.261, 54.379, 54.251, 54.412, 54.591, 53.822, 54.418, 53.667, 54.043, 54.343, 53.978, 54.581, 54.345, 54.663, 54.298, 54.427, 54.149, 54.21, 54.26, 54.579, 53.659, 53.666, 54.131, 53.945, 54.025, 54.111, 54.413, 54.395, 54.91, 53.893, 54.31, 54.043, 53.872, 54.664, 53.711, 54.177, 53.902, 54.938, 54.0, 54.235, 53.997, 54.15, 54.56, 55.018, 54.588, 54.269, 53.797, 54.419, 54.549, 54.611, 54.324, 53.901, 53.803, 54.091, 53.647, 54.376, 54.173, 53.889, 54.124, 54.311, 53.724, 54.148, 54.484, 54.306, 54.627, 54.484, 54.463, 53.784, 53.804, 53.514, 53.892, 54.052, 53.215, 54.208, 53.66, 54.102, 53.878, 54.013, 54.435, 53.678, 54.02, 53.879, 53.936, 54.614, 54.386, 54.082, 53.783, 54.514, 54.381, 53.682, 54.139, 54.579, 54.019, 54.447, 54.193, 54.551, 54.532, 54.054, 53.764, 54.664, 53.697, 54.662, 54.226, 53.842, 54.471, 53.819, 54.752, 54.399, 54.405, 54.189, 54.208, 53.825, 53.984, 54.442, 54.915, 54.044, 54.148, 54.268, 54.154, 54.173, 54.158, 54.044, 53.996, 53.607, 54.412, 54.216, 54.442, 54.678, 54.166, 54.691, 53.739, 54.461, 55.035, 54.696, 54.085, 54.166, 53.657, 53.922, 54.057, 54.387, 54.261, 53.961, 54.141, 54.481, 53.907, 54.282, 53.589, 55.181, 54.277, 53.24, 54.004, 54.066, 54.567, 54.159, 54.38, 54.512, 53.774, 54.647, 53.945, 54.446, 53.997, 54.053, 53.809, 53.695, 53.709, 53.97, 54.13, 53.59, 53.648, 54.362, 54.42, 54.1, 54.1, 53.753, 53.813, 54.077, 53.856, 54.046, 54.399, 54.456, 54.138, 54.636, 54.047, 54.1, 54.285, 54.3, 53.986, 54.38, 54.129, 54.012, 54.138, 54.754, 53.841, 54.08, 54.416, 53.596, 53.926, 54.017, 53.745, 54.24, 54.886, 53.755, 54.38, 53.759, 54.298, 54.825, 53.93, 54.044, 54.298, 54.471, 53.675, 54.337, 54.263, 54.698, 54.409, 53.647, 54.217, 54.148, 54.382, 54.716, 53.724, 53.917, 54.275, 54.46, 54.392, 54.167, 54.188, 54.144, 54.245, 54.156, 54.59, 54.58, 54.568, 54.561, 53.757, 54.763, 54.365, 54.256, 54.299, 54.083, 54.367, 53.992, 54.214, 54.281, 53.558, 54.585, 54.141, 54.105, 53.921, 53.508, 54.355, 53.775, 54.086, 54.477, 54.518, 53.491, 54.43, 53.886, 54.382, 54.519, 54.366, 54.226, 54.16, 54.078, 54.574, 54.059, 53.787, 54.08, 53.517, 53.86, 53.664, 53.581, 53.632, 54.478, 53.924, 53.852, 54.107, 54.461, 54.124, 54.354, 53.688, 54.106, 54.586, 54.266, 53.957, 54.03, 54.304, 54.548, 53.432, 53.948, 53.87, 54.772, 54.45, 54.451, 54.659, 54.209, 53.927, 54.504, 54.253, 54.473, 54.043, 54.216, 53.842, 54.451, 53.748, 54.632, 54.453, 54.099, 54.766, 53.582, 54.145, 54.595, 54.676, 53.918, 54.426, 53.611, 53.873, 54.613, 54.661, 53.951, 54.563, 53.927, 53.865, 53.605, 53.995, 54.09, 54.14, 54.234, 53.84, 54.639, 54.49, 53.308, 54.284, 54.31, 54.155, 53.965, 54.083, 54.289, 54.134, 53.233, 54.057, 54.137, 53.857, 53.954, 54.078, 54.522, 54.036, 53.721, 54.581, 54.026, 53.702, 53.649, 53.835, 53.922, 53.965, 53.76, 53.95, 53.924, 53.53, 54.395, 54.407, 54.211, 53.629, 54.32, 53.771, 53.783, 53.986, 54.366, 54.076, 54.624, 54.107, 53.879, 54.496, 54.606, 54.617, 54.06, 54.517, 54.15, 54.12, 54.333, 54.177, 54.595, 53.995, 53.745, 53.774, 54.126, 54.263, 54.128, 54.334, 54.19, 54.17, 54.392, 53.712, 53.975, 54.075, 54.255, 54.233, 53.529, 53.89, 54.323, 54.72, 53.889, 54.362, 54.721, 53.651, 53.853, 54.127, 53.649, 54.157, 54.165, 54.166, 54.826, 54.204, 54.095, 53.951, 54.064, 54.219, 54.052, 54.455, 53.595, 54.147, 54.251, 53.903, 53.922, 54.066, 54.609, 54.908, 54.129, 54.459, 54.293, 54.137, 53.948, 54.244, 53.752, 54.422, 54.398, 53.865, 54.594, 53.632, 54.081, 54.202, 53.948, 53.872, 54.713, 54.173, 54.58, 54.631, 53.653, 54.444, 54.792, 53.851, 54.258, 54.172, 54.538, 53.89, 53.811, 53.825, 54.749, 54.089, 54.074, 54.401, 53.9, 53.411, 53.824, 54.28, 54.104, 53.871, 53.882, 54.534, 54.428, 53.983, 54.419, 54.426, 53.932, 54.268, 54.954, 54.254, 53.907, 54.143, 53.914, 54.141, 53.902, 54.207, 54.379, 54.222, 54.119, 54.607, 53.671, 54.802, 54.057, 54.341, 53.842, 54.371, 53.912, 54.302, 54.77, 54.345, 54.561, 53.651, 54.526, 54.099, 54.578, 53.945, 54.094, 54.582, 54.17, 54.445, 54.295, 54.638, 54.26, 53.877, 53.994, 54.688, 54.553, 53.904, 54.223, 54.311, 54.029, 54.549, 53.251, 54.806, 54.161, 53.404, 54.586, 54.623, 53.917, 54.571, 53.9, 54.528, 54.304, 54.448, 54.813, 53.407, 54.254, 54.306, 54.058, 53.943, 54.033, 53.834, 54.13, 53.924, 53.795, 54.733, 53.544, 54.538, 54.13, 54.142, 53.835, 54.498, 54.4, 54.119, 54.115, 54.721, 54.496, 54.267, 53.995, 53.701, 53.889, 54.181, 54.509, 54.421, 54.029, 54.456, 54.387, 54.26, 54.514, 54.656, 54.279, 53.864, 53.381, 54.412, 54.026, 53.935, 54.141, 54.346, 53.195, 54.332, 54.149, 53.783, 54.362, 54.038, 53.988, 54.078, 53.776, 54.239, 54.444, 54.206, 54.085, 53.95, 54.187, 53.866, 54.292, 53.464, 54.56, 54.175, 54.093, 54.488, 53.656, 54.471, 54.116, 54.741, 54.127, 53.962, 54.8, 54.101, 53.979, 54.16, 54.46, 54.21, 54.298, 54.628, 53.774, 53.443, 54.789, 54.269, 54.93, 54.087, 54.262, 54.202, 54.398, 54.259, 53.99, 53.541, 54.251, 54.128, 53.91, 54.0, 53.507, 54.161, 53.941, 53.683, 53.673, 53.958, 53.785, 54.614, 53.341, 54.198, 54.103, 53.902, 54.342, 53.839, 54.036, 54.563, 53.418, 53.694, 54.179, 54.342, 54.257, 54.389, 54.234, 54.338, 54.061, 53.502, 53.702, 54.427, 55.002, 54.226, 54.082, 54.126, 53.913, 54.362, 54.707, 54.058, 53.94, 54.02, 54.281, 54.395, 54.074, 53.856, 54.439, 54.237, 54.669, 54.372, 53.88, 53.615, 53.591, 53.759, 54.144, 54.19, 54.13, 54.325, 53.877, 54.176, 54.269, 53.987, 54.138, 53.765, 53.695, 54.175, 54.178, 54.578, 54.093, 53.507, 54.639, 53.457, 54.204, 54.112, 54.013, 54.264, 54.234, 53.923, 52.983, 54.894, 54.28, 53.868, 54.933, 54.24, 53.95, 54.051, 54.301, 54.231, 54.67, 54.847, 53.528, 54.217, 54.291, 53.993, 54.664, 53.995, 54.593, 54.156, 54.042, 53.66, 54.278, 53.939, 54.378, 54.183, 54.264, 54.399, 54.026, 53.928, 54.544, 54.801, 54.695, 54.292, 53.973, 53.764, 54.112, 54.229, 54.081, 54.214, 54.812, 54.474, 54.008, 54.252, 54.108, 53.894, 53.408, 54.333, 54.147, 54.488, 54.128, 54.137, 54.009, 53.907, 54.116, 54.028, 54.236, 54.166, 54.107, 53.775, 54.794, 54.352, 54.208, 54.176, 54.73, 54.337, 54.406, 53.876, 53.228, 54.037, 53.973, 53.616, 54.335, 54.266, 54.624, 53.616, 54.382, 53.809, 53.988, 54.094, 54.142, 53.899, 54.065, 53.772, 54.386, 54.031, 54.968, 54.316, 54.142, 54.465, 53.786, 54.333, 54.458, 54.443, 54.297, 54.51, 53.709, 54.485, 53.902, 53.983, 54.127, 54.937, 54.137, 54.393, 54.782, 54.443, 53.493, 54.202, 53.682, 53.499, 53.653, 54.003, 54.453, 54.628, 54.319, 53.982, 54.148, 54.255, 53.91, 54.203, 53.913, 54.091, 53.872, 54.072, 54.161, 54.358, 54.342, 54.387, 53.94, 54.397, 54.346, 53.777, 54.201, 54.125, 54.085, 54.082, 54.261, 54.134, 53.964, 54.188, 54.299, 53.636, 54.297, 54.795, 54.381, 54.504, 54.553, 53.929, 53.828, 53.791, 54.147, 54.6, 53.932, 54.191, 54.156, 54.253, 54.017, 54.497, 54.143, 54.464, 53.848, 54.544, 54.225, 53.878, 53.645, 53.487, 54.26, 54.731, 53.551, 54.498, 54.143, 53.946, 53.881, 54.092, 54.063, 53.939, 54.272, 54.995, 53.55, 54.192, 53.767, 54.194, 54.061, 54.36, 54.669, 54.508, 53.999, 54.046, 54.093, 53.543, 54.2, 54.064, 54.428, 54.227, 53.841, 54.195, 54.311, 54.269, 54.332, 54.111, 54.482, 54.099, 54.507, 53.943, 54.453, 54.122, 53.61, 53.786, 54.07, 54.196, 54.139, 54.113, 54.545, 53.788, 54.135, 54.269, 54.273, 54.168, 53.826, 53.512, 54.39, 54.203, 54.502, 54.373, 54.002, 54.714, 53.93, 54.315, 54.134, 54.589, 54.267, 54.158, 54.01, 54.103, 54.197, 54.44, 54.401, 54.423, 53.975, 54.199, 54.417, 53.341, 53.979, 54.386, 54.632, 54.534, 54.571, 54.313, 54.346, 54.575, 54.315, 53.607, 54.583, 53.901, 54.391, 54.396, 53.699, 53.633, 54.432, 54.082, 53.84, 54.361, 54.187, 53.868, 54.227, 53.77, 54.35, 54.735, 54.319, 54.891, 54.291, 53.65, 54.22, 54.391, 54.369, 53.925, 53.706, 53.912, 53.647, 54.203, 53.607, 54.374, 53.563, 54.787, 53.917, 54.11, 54.755, 54.347, 53.652, 54.157, 54.323, 53.877, 54.034, 53.869, 54.211, 55.083, 54.058, 53.839, 54.002, 54.679, 53.8, 54.548, 54.155, 54.285, 54.257, 54.133, 53.615, 54.145, 53.469, 53.627, 54.171, 54.131, 53.945, 53.66, 54.436, 54.116, 54.375, 53.653, 53.891, 53.671, 54.654, 53.969, 53.704, 54.198, 53.738, 54.468, 54.719, 53.986, 54.564, 53.786, 54.39, 54.671, 54.629, 53.7, 54.168, 53.98, 53.563, 54.811, 54.92, 53.688, 54.517, 54.478, 54.322, 53.967, 54.447, 53.944, 54.511, 54.553, 54.161, 54.18, 54.155, 54.053, 54.34, 54.52, 53.6, 54.189, 54.235, 54.877, 54.226, 53.604, 54.01, 53.928, 54.274, 53.84, 54.347, 54.273, 54.23, 53.927, 54.665, 54.927, 54.084, 54.058, 54.585, 54.659, 53.915, 54.29, 53.818, 54.107, 54.464, 54.914, 54.233, 54.1, 54.004, 53.631, 54.027, 54.142, 53.72, 54.435, 54.689, 53.845, 54.533, 54.195, 54.213, 54.614, 53.865, 54.721, 54.678, 54.21, 54.242, 54.026, 53.742, 53.842, 54.662, 53.869, 54.05, 53.964, 53.908, 54.188, 53.957, 54.451, 54.073, 53.977, 53.586, 54.099, 53.875, 53.859, 53.798, 54.656, 53.93, 53.986, 54.41, 54.669, 54.318, 54.766, 54.224, 54.337, 53.551, 54.291, 55.159, 53.468, 54.916, 54.543, 54.133, 53.946, 54.486, 54.387, 54.498, 53.719, 54.436, 54.047, 54.484, 54.706, 54.575, 54.285, 54.275, 54.354, 54.234, 54.112, 54.416, 54.012, 54.186, 54.215, 53.838, 53.862, 54.131, 54.429, 54.238, 54.733, 54.14, 54.653, 53.858, 54.276, 54.33, 53.575, 54.346, 54.078, 53.93, 54.577, 54.684, 54.25, 54.118, 54.341, 53.893, 54.475, 54.221, 53.859, 53.992, 53.529, 54.347, 54.402, 54.03, 54.119, 54.622, 53.681, 54.387, 54.216, 54.837, 54.255, 53.988, 53.458, 54.569, 54.813, 54.603, 54.17, 53.685, 54.194, 53.673, 54.319, 54.087, 54.795, 54.432, 54.146, 53.958, 53.549, 53.774, 54.354, 53.491, 54.152, 54.188, 54.231, 54.665, 54.028, 54.491, 54.365, 54.167, 54.597, 53.709, 53.997, 54.372, 54.172, 54.029, 54.147, 53.642, 54.299, 54.07, 54.428, 54.467, 54.738, 54.448, 54.283, 54.23, 53.988, 54.394, 53.755]\n"
     ]
    }
   ],
   "source": [
    "mean_popularity_2000_boot = []\n",
    "\n",
    "# Generate a bootstrap distribution of 2000 replicates\n",
    "for _ in range(2000):\n",
    "    mean_popularity_2000_boot.append(\n",
    "    \t# Resample 500 rows and calculate the mean popularity     \n",
    "    \tnp.mean( spotify_sample.sample(frac=1, replace=True)['popularity'].mean())\n",
    "    )\n",
    "\n",
    "# Print the bootstrap distribution results\n",
    "print(mean_popularity_2000_boot)"
   ]
  },
  {
   "cell_type": "code",
   "execution_count": 59,
   "metadata": {},
   "outputs": [
    {
     "name": "stdout",
     "output_type": "stream",
     "text": [
      "[54.837142308430955, 54.165, 54.817728, 54.1692635]\n"
     ]
    }
   ],
   "source": [
    "# Calculate the population mean popularity\n",
    "pop_mean = spotify_population['popularity'].mean()\n",
    "\n",
    "# Calculate the original sample mean popularity\n",
    "samp_mean = spotify_sample['popularity'].mean()\n",
    "\n",
    "# Calculate the sampling dist'n estimate of mean popularity\n",
    "samp_distn_mean = np.mean(mean_popularity_2000_samp)\n",
    "\n",
    "# Calculate the bootstrap dist'n estimate of mean popularity\n",
    "boot_distn_mean = np.mean(mean_popularity_2000_boot)\n",
    "\n",
    "# Print the means\n",
    "print([pop_mean, samp_mean, samp_distn_mean, boot_distn_mean])"
   ]
  },
  {
   "cell_type": "code",
   "execution_count": 60,
   "metadata": {},
   "outputs": [
    {
     "name": "stdout",
     "output_type": "stream",
     "text": [
      "[10.880065274257536, 10.403172641122563, 34.27134915299343, 23.82830426994209]\n"
     ]
    }
   ],
   "source": [
    "# Calculate the population std dev popularity\n",
    "pop_sd = spotify_population['popularity'].std(ddof=0)\n",
    "\n",
    "# Calculate the original sample std dev popularity\n",
    "samp_sd = spotify_sample['popularity'].std()\n",
    "\n",
    "# Calculate the sampling dist'n estimate of std dev popularity\n",
    "samp_distn_sd = np.std(mean_popularity_2000_samp, ddof=1) * np.sqrt(5000)\n",
    "\n",
    "# Calculate the bootstrap dist'n estimate of std dev popularity\n",
    "boot_distn_sd = np.std(mean_popularity_2000_boot, ddof=1) * np.sqrt(5000)\n",
    "\n",
    "# Print the standard deviations\n",
    "print([pop_sd, samp_sd, samp_distn_sd, boot_distn_sd])"
   ]
  },
  {
   "cell_type": "markdown",
   "metadata": {},
   "source": [
    "### Confidence Intervals"
   ]
  },
  {
   "cell_type": "code",
   "execution_count": 61,
   "metadata": {},
   "outputs": [],
   "source": [
    "import re\n",
    "val = 'WILLiamSHAKs'\n",
    "vals = re.findall('([A-Z]+)', val)\n",
    "max_len = max([len(_) for _ in vals])\n",
    "longest = [_ for _ in vals if len(_)==max_len]\n",
    "if longest:\n",
    "  ','.join(longest)\n",
    "else:\n",
    "  ''\n",
    "# print(max(vals, key=len))"
   ]
  },
  {
   "cell_type": "code",
   "execution_count": 62,
   "metadata": {},
   "outputs": [
    {
     "name": "stdout",
     "output_type": "stream",
     "text": [
      "{'WILLiamSHAKes': 'WILL,SHAK'}\n",
      "{'WILLiamSHAKEs': 'SHAKE'}\n"
     ]
    }
   ],
   "source": [
    "import re\n",
    "def get_longest_in_list(lst):\n",
    "    for val in lst:\n",
    "        vals = re.findall('([A-Z]+)', val)\n",
    "        mx_ln = len(max(vals, key=len)) if vals else ''\n",
    "        yield {val: ','.join([_ for _ in vals if len(_)==mx_ln])}\n",
    "\n",
    "for _ in get_longest_in_list(['WILLiamSHAKes', 'WILLiamSHAKEs']):\n",
    "    print(_)"
   ]
  },
  {
   "cell_type": "code",
   "execution_count": 63,
   "metadata": {},
   "outputs": [
    {
     "data": {
      "image/png": "[encoded data removed]",
      "text/plain": [
       "<Figure size 640x480 with 1 Axes>"
      ]
     },
     "metadata": {},
     "output_type": "display_data"
    }
   ],
   "source": [
    "import matplotlib.pyplot as plt\n",
    "plt.hist(bootstrap_distn, bins=15)\n",
    "plt.show()"
   ]
  },
  {
   "cell_type": "code",
   "execution_count": 65,
   "metadata": {},
   "outputs": [
    {
     "name": "stdout",
     "output_type": "stream",
     "text": [
      "(53.5119, 54.813)\n"
     ]
    }
   ],
   "source": [
    "# Generate a 95% confidence interval using the quantile method\n",
    "lower_quant = np.quantile(mean_popularity_2000_boot, 0.025)\n",
    "upper_quant = np.quantile(mean_popularity_2000_boot, 0.975)\n",
    "\n",
    "# Print quantile method confidence interval\n",
    "print((lower_quant, upper_quant))"
   ]
  },
  {
   "cell_type": "code",
   "execution_count": null,
   "metadata": {},
   "outputs": [],
   "source": []
  },
  {
   "cell_type": "code",
   "execution_count": null,
   "metadata": {},
   "outputs": [],
   "source": []
  }
 ],
 "metadata": {
  "kernelspec": {
   "display_name": "Python 3",
   "language": "python",
   "name": "python3"
  },
  "language_info": {
   "codemirror_mode": {
    "name": "ipython",
    "version": 3
   },
   "file_extension": ".py",
   "mimetype": "text/x-python",
   "name": "python",
   "nbconvert_exporter": "python",
   "pygments_lexer": "ipython3",
   "version": "3.11.5"
  }
 },
 "nbformat": 4,
 "nbformat_minor": 2
}
