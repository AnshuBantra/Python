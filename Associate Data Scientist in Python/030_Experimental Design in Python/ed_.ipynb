{
 "cells": [
  {
   "cell_type": "markdown",
   "metadata": {},
   "source": [
    "# Experimental Design in Python"
   ]
  },
  {
   "cell_type": "markdown",
   "metadata": {},
   "source": [
    "## Experimental Design Preliminaries"
   ]
  },
  {
   "cell_type": "markdown",
   "metadata": {},
   "source": [
    "### Setting up experiments"
   ]
  },
  {
   "cell_type": "markdown",
   "metadata": {},
   "source": [
    "#### Non-random assignment of subjects\n",
    "An agricultural firm is conducting an experiment to measure how feeding sheep different types of grass affects their weight. They have asked for your help to properly set up the experiment. One of their managers has said you can perform the subject assignment by taking the top 250 rows from the DataFrame and that should be fine.\n",
    "\n",
    "Your task is to use your analytical skills to demonstrate why this might not be a good idea. Assign the subjects to two groups using non-random assignment (the first 250 rows) and observe the differences in descriptive statistics.\n",
    "\n",
    "You have received the DataFrame, weights which has a column containing the weight of the sheep and a unique id column.\n",
    "\n",
    "numpy and pandas have been imported as np and pd, respectively."
   ]
  },
  {
   "cell_type": "code",
   "execution_count": 1,
   "metadata": {},
   "outputs": [],
   "source": [
    "import numpy as np\n",
    "import pandas as pd"
   ]
  },
  {
   "cell_type": "code",
   "execution_count": 2,
   "metadata": {},
   "outputs": [
    {
     "data": {
      "text/html": [
       "<div>\n",
       "<style scoped>\n",
       "    .dataframe tbody tr th:only-of-type {\n",
       "        vertical-align: middle;\n",
       "    }\n",
       "\n",
       "    .dataframe tbody tr th {\n",
       "        vertical-align: top;\n",
       "    }\n",
       "\n",
       "    .dataframe thead th {\n",
       "        text-align: right;\n",
       "    }\n",
       "</style>\n",
       "<table border=\"1\" class=\"dataframe\">\n",
       "  <thead>\n",
       "    <tr style=\"text-align: right;\">\n",
       "      <th></th>\n",
       "      <th>weight</th>\n",
       "      <th>Time</th>\n",
       "      <th>Chick</th>\n",
       "      <th>Diet</th>\n",
       "    </tr>\n",
       "  </thead>\n",
       "  <tbody>\n",
       "    <tr>\n",
       "      <th>0</th>\n",
       "      <td>42</td>\n",
       "      <td>0</td>\n",
       "      <td>1</td>\n",
       "      <td>1</td>\n",
       "    </tr>\n",
       "    <tr>\n",
       "      <th>1</th>\n",
       "      <td>51</td>\n",
       "      <td>2</td>\n",
       "      <td>1</td>\n",
       "      <td>1</td>\n",
       "    </tr>\n",
       "    <tr>\n",
       "      <th>2</th>\n",
       "      <td>59</td>\n",
       "      <td>4</td>\n",
       "      <td>1</td>\n",
       "      <td>1</td>\n",
       "    </tr>\n",
       "    <tr>\n",
       "      <th>3</th>\n",
       "      <td>64</td>\n",
       "      <td>6</td>\n",
       "      <td>1</td>\n",
       "      <td>1</td>\n",
       "    </tr>\n",
       "    <tr>\n",
       "      <th>4</th>\n",
       "      <td>76</td>\n",
       "      <td>8</td>\n",
       "      <td>1</td>\n",
       "      <td>1</td>\n",
       "    </tr>\n",
       "  </tbody>\n",
       "</table>\n",
       "</div>"
      ],
      "text/plain": [
       "   weight  Time  Chick  Diet\n",
       "0      42     0      1     1\n",
       "1      51     2      1     1\n",
       "2      59     4      1     1\n",
       "3      64     6      1     1\n",
       "4      76     8      1     1"
      ]
     },
     "execution_count": 2,
     "metadata": {},
     "output_type": "execute_result"
    }
   ],
   "source": [
    "df_chick_weights = pd.read_csv(r'.\\data\\chick_weight.csv')\n",
    "df_chick_weights.head()"
   ]
  },
  {
   "cell_type": "code",
   "execution_count": 3,
   "metadata": {},
   "outputs": [
    {
     "name": "stdout",
     "output_type": "stream",
     "text": [
      "           group1      group2\n",
      "count  290.000000  289.000000\n",
      "mean   106.831034  137.145329\n",
      "std     61.521165   76.707912\n",
      "min     35.000000   39.000000\n",
      "25%     59.000000   69.000000\n",
      "50%     89.000000  126.000000\n",
      "75%    141.750000  186.000000\n",
      "max    331.000000  373.000000\n"
     ]
    }
   ],
   "source": [
    "# Non-random assignment\n",
    "group1_non_rand = df_chick_weights.loc[:289,['weight']]\n",
    "group2_non_rand = df_chick_weights.loc[289:,['weight']]\n",
    "\n",
    "# Compare descriptive statistics of groups\n",
    "compare_df_non_rand = \\\n",
    "    pd.concat(\n",
    "        [group1_non_rand['weight'].describe(),\n",
    "        group2_non_rand['weight'].describe()],\n",
    "        axis=1\n",
    "    )\n",
    "compare_df_non_rand.columns = ['group1', 'group2']\n",
    "\n",
    "# Print to assess\n",
    "print(compare_df_non_rand)"
   ]
  },
  {
   "cell_type": "markdown",
   "metadata": {},
   "source": [
    "#### Random assignment of subjects\n",
    "Having built trust from your last work with the agricultural firm, you have been given the task of properly setting up the experiment.\n",
    "\n",
    "Use your knowledge of best practice experimental design set up to assign the sheep to two even groups of 250 each."
   ]
  },
  {
   "cell_type": "code",
   "execution_count": 4,
   "metadata": {},
   "outputs": [
    {
     "name": "stdout",
     "output_type": "stream",
     "text": [
      "           group1      group2\n",
      "count  289.000000  289.000000\n",
      "mean   120.044983  123.591696\n",
      "std     70.089685   72.118725\n",
      "min     35.000000   39.000000\n",
      "25%     62.000000   63.000000\n",
      "50%    105.000000  103.000000\n",
      "75%    163.000000  164.000000\n",
      "max    373.000000  361.000000\n"
     ]
    }
   ],
   "source": [
    "# Randomly assign half\n",
    "group1_random = df_chick_weights.sample(\n",
    "    frac=0.5,\n",
    "    random_state=42,\n",
    "    replace=False\n",
    ")\n",
    "\n",
    "# Create second assignment\n",
    "group2_random = df_chick_weights.drop(\n",
    "    group1_random.index\n",
    ")\n",
    "\n",
    "# Compare assignments\n",
    "compare_df_random = pd.concat(\n",
    "    [group1_random['weight'].describe(),\n",
    "    group2_random['weight'].describe()],\n",
    "    axis=1\n",
    ")\n",
    "compare_df_random.columns = ['group1', 'group2']\n",
    "print(compare_df_random)"
   ]
  },
  {
   "cell_type": "markdown",
   "metadata": {},
   "source": [
    "### Experimental data setup"
   ]
  },
  {
   "cell_type": "markdown",
   "metadata": {},
   "source": [
    "#### Test"
   ]
  },
  {
   "cell_type": "code",
   "execution_count": 5,
   "metadata": {},
   "outputs": [
    {
     "data": {
      "text/html": [
       "<div>\n",
       "<style scoped>\n",
       "    .dataframe tbody tr th:only-of-type {\n",
       "        vertical-align: middle;\n",
       "    }\n",
       "\n",
       "    .dataframe tbody tr th {\n",
       "        vertical-align: top;\n",
       "    }\n",
       "\n",
       "    .dataframe thead th {\n",
       "        text-align: right;\n",
       "    }\n",
       "</style>\n",
       "<table border=\"1\" class=\"dataframe\">\n",
       "  <thead>\n",
       "    <tr style=\"text-align: right;\">\n",
       "      <th></th>\n",
       "      <th>weight</th>\n",
       "      <th>Time</th>\n",
       "      <th>Chick</th>\n",
       "      <th>Diet</th>\n",
       "    </tr>\n",
       "  </thead>\n",
       "  <tbody>\n",
       "    <tr>\n",
       "      <th>0</th>\n",
       "      <td>42</td>\n",
       "      <td>0</td>\n",
       "      <td>1</td>\n",
       "      <td>1</td>\n",
       "    </tr>\n",
       "    <tr>\n",
       "      <th>1</th>\n",
       "      <td>51</td>\n",
       "      <td>2</td>\n",
       "      <td>1</td>\n",
       "      <td>1</td>\n",
       "    </tr>\n",
       "    <tr>\n",
       "      <th>2</th>\n",
       "      <td>59</td>\n",
       "      <td>4</td>\n",
       "      <td>1</td>\n",
       "      <td>1</td>\n",
       "    </tr>\n",
       "    <tr>\n",
       "      <th>3</th>\n",
       "      <td>64</td>\n",
       "      <td>6</td>\n",
       "      <td>1</td>\n",
       "      <td>1</td>\n",
       "    </tr>\n",
       "    <tr>\n",
       "      <th>4</th>\n",
       "      <td>76</td>\n",
       "      <td>8</td>\n",
       "      <td>1</td>\n",
       "      <td>1</td>\n",
       "    </tr>\n",
       "  </tbody>\n",
       "</table>\n",
       "</div>"
      ],
      "text/plain": [
       "   weight  Time  Chick  Diet\n",
       "0      42     0      1     1\n",
       "1      51     2      1     1\n",
       "2      59     4      1     1\n",
       "3      64     6      1     1\n",
       "4      76     8      1     1"
      ]
     },
     "execution_count": 5,
     "metadata": {},
     "output_type": "execute_result"
    }
   ],
   "source": [
    "df_chick_weights.head()"
   ]
  },
  {
   "cell_type": "code",
   "execution_count": 6,
   "metadata": {},
   "outputs": [
    {
     "data": {
      "image/png": "[encoded data removed]",
      "text/plain": [
       "<Figure size 1058.88x500 with 1 Axes>"
      ]
     },
     "metadata": {},
     "output_type": "display_data"
    }
   ],
   "source": [
    "import seaborn as sns\n",
    "import matplotlib.pyplot as plt\n",
    "import warnings\n",
    "warnings.filterwarnings('ignore')\n",
    "\n",
    "sns.displot(\n",
    "    data=df_chick_weights,\n",
    "    x='weight',\n",
    "    hue='Diet',\n",
    "    kind='kde',\n",
    "    aspect=2\n",
    ")\n",
    "plt.show();"
   ]
  },
  {
   "cell_type": "markdown",
   "metadata": {},
   "source": [
    "#### Blocking experimental data"
   ]
  },
  {
   "cell_type": "markdown",
   "metadata": {},
   "source": [
    "You are working with a manufacturing firm that wants to conduct some experiments on worker productivity. Their dataset only contains 100 rows, so it's important that experimental groups are balanced.\n",
    "\n",
    "This sounds like a great opportunity to use your knowledge of blocking to assist them. They have provided a productivity_subjects DataFrame. Split the provided dataset into two even groups of 50 entries each."
   ]
  },
  {
   "cell_type": "code",
   "execution_count": 7,
   "metadata": {},
   "outputs": [
    {
     "data": {
      "text/plain": [
       "(300, 1)"
      ]
     },
     "execution_count": 7,
     "metadata": {},
     "output_type": "execute_result"
    }
   ],
   "source": [
    "df_athletic_perf = pd.read_csv(r'.\\data\\athletic_perf.csv')\n",
    "productivity_subjects=df_athletic_perf[['Athlete_ID']]\n",
    "productivity_subjects.shape"
   ]
  },
  {
   "cell_type": "code",
   "execution_count": 8,
   "metadata": {},
   "outputs": [
    {
     "name": "stdout",
     "output_type": "stream",
     "text": [
      "block\n",
      "1    150\n",
      "2    150\n",
      "Name: count, dtype: int64\n"
     ]
    }
   ],
   "source": [
    "# Randomly assign half\n",
    "block_1 = productivity_subjects.sample(\n",
    "    frac=0.5,\n",
    "    random_state=42,\n",
    "    replace=False)\n",
    "\n",
    "# Set the block column\n",
    "block_1['block'] = 1\n",
    "\n",
    "# Create second assignment and label\n",
    "block_2 = productivity_subjects.drop(\n",
    "    block_1.index\n",
    ")\n",
    "block_2['block'] = 2\n",
    "\n",
    "# Concatenate and print\n",
    "productivity_combined = pd.concat(\n",
    "    [block_1, block_2], axis=0)\n",
    "print(productivity_combined['block'].value_counts())"
   ]
  },
  {
   "cell_type": "markdown",
   "metadata": {},
   "source": [
    "### Stratifying an experiment"
   ]
  },
  {
   "cell_type": "markdown",
   "metadata": {},
   "source": [
    "You are working with a government organization that wants to undertake an experiment around how some particular government policies impact the net wealth of individuals in a number of areas.\n",
    "\n",
    "They have approached you to help set up the experimental design. They have warned you that there is likely to be a small group of users who already have high net wealth and are concerned that this group might overshadow any experimental outcome observed. You know just what to do!\n",
    "\n",
    "Use your knowledge of experimental design to undertake block randomization, stratifying by the high_wealth column in the provided wealth_data DataFrame. There are 2000 rows in the DataFrame with 200 high net wealth subjects (high_wealth is 1)."
   ]
  },
  {
   "cell_type": "code",
   "execution_count": 9,
   "metadata": {},
   "outputs": [
    {
     "data": {
      "text/plain": [
       "array(['Strength', 'HIIT', 'Endurance'], dtype=object)"
      ]
     },
     "execution_count": 9,
     "metadata": {},
     "output_type": "execute_result"
    }
   ],
   "source": [
    "df_athletic_perf['Training_Program'].unique()"
   ]
  },
  {
   "cell_type": "code",
   "execution_count": 10,
   "metadata": {},
   "outputs": [
    {
     "data": {
      "text/html": [
       "<div>\n",
       "<style scoped>\n",
       "    .dataframe tbody tr th:only-of-type {\n",
       "        vertical-align: middle;\n",
       "    }\n",
       "\n",
       "    .dataframe tbody tr th {\n",
       "        vertical-align: top;\n",
       "    }\n",
       "\n",
       "    .dataframe thead th {\n",
       "        text-align: right;\n",
       "    }\n",
       "</style>\n",
       "<table border=\"1\" class=\"dataframe\">\n",
       "  <thead>\n",
       "    <tr style=\"text-align: right;\">\n",
       "      <th></th>\n",
       "      <th>Athlete_ID</th>\n",
       "      <th>Training_Program</th>\n",
       "      <th>Diet_Type</th>\n",
       "      <th>Initial_Fitness</th>\n",
       "      <th>Performance_Inc</th>\n",
       "    </tr>\n",
       "  </thead>\n",
       "  <tbody>\n",
       "    <tr>\n",
       "      <th>0</th>\n",
       "      <td>1</td>\n",
       "      <td>Strength</td>\n",
       "      <td>Keto</td>\n",
       "      <td>Low</td>\n",
       "      <td>8.749524</td>\n",
       "    </tr>\n",
       "    <tr>\n",
       "      <th>1</th>\n",
       "      <td>2</td>\n",
       "      <td>HIIT</td>\n",
       "      <td>Plant-Based</td>\n",
       "      <td>High</td>\n",
       "      <td>9.452781</td>\n",
       "    </tr>\n",
       "    <tr>\n",
       "      <th>2</th>\n",
       "      <td>3</td>\n",
       "      <td>Strength</td>\n",
       "      <td>Plant-Based</td>\n",
       "      <td>Low</td>\n",
       "      <td>13.928506</td>\n",
       "    </tr>\n",
       "    <tr>\n",
       "      <th>3</th>\n",
       "      <td>4</td>\n",
       "      <td>Strength</td>\n",
       "      <td>Plant-Based</td>\n",
       "      <td>High</td>\n",
       "      <td>9.605557</td>\n",
       "    </tr>\n",
       "    <tr>\n",
       "      <th>4</th>\n",
       "      <td>5</td>\n",
       "      <td>HIIT</td>\n",
       "      <td>Plant-Based</td>\n",
       "      <td>Low</td>\n",
       "      <td>7.547894</td>\n",
       "    </tr>\n",
       "  </tbody>\n",
       "</table>\n",
       "</div>"
      ],
      "text/plain": [
       "   Athlete_ID Training_Program    Diet_Type Initial_Fitness  Performance_Inc\n",
       "0           1         Strength         Keto             Low         8.749524\n",
       "1           2             HIIT  Plant-Based            High         9.452781\n",
       "2           3         Strength  Plant-Based             Low        13.928506\n",
       "3           4         Strength  Plant-Based            High         9.605557\n",
       "4           5             HIIT  Plant-Based             Low         7.547894"
      ]
     },
     "execution_count": 10,
     "metadata": {},
     "output_type": "execute_result"
    }
   ],
   "source": [
    "df_athletic_perf.head()"
   ]
  },
  {
   "cell_type": "code",
   "execution_count": 11,
   "metadata": {},
   "outputs": [
    {
     "name": "stdout",
     "output_type": "stream",
     "text": [
      "Block  T_C  Initial_Fitness\n",
      "1      C    High               44\n",
      "       T    High               44\n",
      "2      C    Low                57\n",
      "       T    Low                56\n",
      "dtype: int64\n"
     ]
    }
   ],
   "source": [
    "# Create the first block\n",
    "strata_1 = df_athletic_perf[df_athletic_perf['Initial_Fitness'] == 'High']\n",
    "strata_1['Block'] = 1\n",
    "\n",
    "# Create two groups assigning to Treatment or Control\n",
    "strata_1_g1 = strata_1.sample(frac=0.5, replace=False)\n",
    "strata_1_g1['T_C'] = 'T'\n",
    "strata_1_g2 = strata_1.drop(strata_1_g1.index)\n",
    "strata_1_g2['T_C'] = 'C'\n",
    "\n",
    "# Create the second block and assign groups\n",
    "strata_2 = df_athletic_perf[df_athletic_perf['Initial_Fitness'] == 'Low']\n",
    "strata_2['Block'] = 2\n",
    "\n",
    "strata_2_g1 = strata_2.sample(frac=0.5, replace=False)\n",
    "strata_2_g1['T_C'] = 'T'\n",
    "strata_2_g2 = strata_2.drop(strata_2_g1.index)\n",
    "strata_2_g2['T_C'] = 'C'\n",
    "\n",
    "# Concatenate the grouping work\n",
    "df_athletic_perf_stratified = pd.concat([strata_1_g1, strata_1_g2, strata_2_g1, strata_2_g2])\n",
    "df_athletic_perf_stratified.head()\n",
    "print(df_athletic_perf_stratified.groupby(['Block','T_C', 'Initial_Fitness']).size())"
   ]
  },
  {
   "cell_type": "markdown",
   "metadata": {},
   "source": [
    "### Normal data"
   ]
  },
  {
   "cell_type": "markdown",
   "metadata": {},
   "source": [
    "#### Normal"
   ]
  },
  {
   "cell_type": "code",
   "execution_count": 12,
   "metadata": {},
   "outputs": [
    {
     "data": {
      "text/html": [
       "<div>\n",
       "<style scoped>\n",
       "    .dataframe tbody tr th:only-of-type {\n",
       "        vertical-align: middle;\n",
       "    }\n",
       "\n",
       "    .dataframe tbody tr th {\n",
       "        vertical-align: top;\n",
       "    }\n",
       "\n",
       "    .dataframe thead th {\n",
       "        text-align: right;\n",
       "    }\n",
       "</style>\n",
       "<table border=\"1\" class=\"dataframe\">\n",
       "  <thead>\n",
       "    <tr style=\"text-align: right;\">\n",
       "      <th></th>\n",
       "      <th>Athlete_ID</th>\n",
       "      <th>Training_Program</th>\n",
       "      <th>Diet_Type</th>\n",
       "      <th>Initial_Fitness</th>\n",
       "      <th>Performance_Inc</th>\n",
       "    </tr>\n",
       "  </thead>\n",
       "  <tbody>\n",
       "    <tr>\n",
       "      <th>0</th>\n",
       "      <td>1</td>\n",
       "      <td>Strength</td>\n",
       "      <td>Keto</td>\n",
       "      <td>Low</td>\n",
       "      <td>8.749524</td>\n",
       "    </tr>\n",
       "    <tr>\n",
       "      <th>1</th>\n",
       "      <td>2</td>\n",
       "      <td>HIIT</td>\n",
       "      <td>Plant-Based</td>\n",
       "      <td>High</td>\n",
       "      <td>9.452781</td>\n",
       "    </tr>\n",
       "    <tr>\n",
       "      <th>2</th>\n",
       "      <td>3</td>\n",
       "      <td>Strength</td>\n",
       "      <td>Plant-Based</td>\n",
       "      <td>Low</td>\n",
       "      <td>13.928506</td>\n",
       "    </tr>\n",
       "  </tbody>\n",
       "</table>\n",
       "</div>"
      ],
      "text/plain": [
       "   Athlete_ID Training_Program    Diet_Type Initial_Fitness  Performance_Inc\n",
       "0           1         Strength         Keto             Low         8.749524\n",
       "1           2             HIIT  Plant-Based            High         9.452781\n",
       "2           3         Strength  Plant-Based             Low        13.928506"
      ]
     },
     "execution_count": 12,
     "metadata": {},
     "output_type": "execute_result"
    }
   ],
   "source": [
    "df_athletic_perf.head(3)"
   ]
  },
  {
   "cell_type": "code",
   "execution_count": 13,
   "metadata": {},
   "outputs": [
    {
     "data": {
      "image/png": "[encoded data removed]",
      "text/plain": [
       "<Figure size 500x500 with 1 Axes>"
      ]
     },
     "metadata": {},
     "output_type": "display_data"
    }
   ],
   "source": [
    "sns.displot(\n",
    "    data=df_athletic_perf,\n",
    "    x='Performance_Inc',\n",
    "    kind='kde'\n",
    ")\n",
    "plt.show();"
   ]
  },
  {
   "cell_type": "code",
   "execution_count": 14,
   "metadata": {},
   "outputs": [
    {
     "data": {
      "image/png": "[encoded data removed]",
      "text/plain": [
       "<Figure size 640x480 with 1 Axes>"
      ]
     },
     "metadata": {},
     "output_type": "display_data"
    }
   ],
   "source": [
    "import statsmodels.graphics.gofplots as smgg\n",
    "import scipy.stats.distributions as ssd\n",
    "\n",
    "smgg.qqplot(\n",
    "    df_athletic_perf['Performance_Inc'],\n",
    "    line='s',\n",
    "    dist=ssd.norm\n",
    ")\n",
    "plt.show();"
   ]
  },
  {
   "cell_type": "markdown",
   "metadata": {},
   "source": [
    "#### Shapiro-Wilk Test"
   ]
  },
  {
   "cell_type": "code",
   "execution_count": 15,
   "metadata": {},
   "outputs": [
    {
     "name": "stdout",
     "output_type": "stream",
     "text": [
      "p: 0.6787; test stat: 0.9961\n"
     ]
    }
   ],
   "source": [
    "import scipy.stats as spst\n",
    "alpha = 0.05\n",
    "stat, p = spst.shapiro(df_athletic_perf['Performance_Inc'])\n",
    "print(f'p: {round(p,4)}; test stat: {round(stat, 4)}')"
   ]
  },
  {
   "cell_type": "markdown",
   "metadata": {},
   "source": [
    "#### Anderson-Darling Test"
   ]
  },
  {
   "cell_type": "code",
   "execution_count": 16,
   "metadata": {},
   "outputs": [
    {
     "name": "stdout",
     "output_type": "stream",
     "text": [
      "result: 0.3754\n",
      "Significance: [15.  10.   5.   2.5  1. ]\n",
      "Critical: [0.569 0.648 0.777 0.906 1.078]\n"
     ]
    }
   ],
   "source": [
    "result = spst.anderson(x=df_athletic_perf['Performance_Inc'], dist='norm')\n",
    "print(f'result: {round(result.statistic, 4)}\\nSignificance: {result.significance_level}\\nCritical: {result.critical_values}')"
   ]
  },
  {
   "cell_type": "markdown",
   "metadata": {},
   "source": [
    "#### Visual normality in an agricultural experiment"
   ]
  },
  {
   "cell_type": "markdown",
   "metadata": {},
   "source": [
    "You have been contracted by an agricultural firm conducting an experiment on 50 chickens, divided into four groups, each fed a different diet. Weight measurements were taken every second day for 20 days.\n",
    "\n",
    "You'll analyze chicken_data to assess normality, which will determine the suitability of parametric statistical tests, beginning with a visual examination of the data distribution."
   ]
  },
  {
   "cell_type": "code",
   "execution_count": 18,
   "metadata": {},
   "outputs": [],
   "source": [
    "import seaborn as sns\n",
    "import pandas as pd\n",
    "import statsmodels.graphics.gofplots as smgg"
   ]
  },
  {
   "cell_type": "code",
   "execution_count": 19,
   "metadata": {},
   "outputs": [
    {
     "data": {
      "text/html": [
       "<div>\n",
       "<style scoped>\n",
       "    .dataframe tbody tr th:only-of-type {\n",
       "        vertical-align: middle;\n",
       "    }\n",
       "\n",
       "    .dataframe tbody tr th {\n",
       "        vertical-align: top;\n",
       "    }\n",
       "\n",
       "    .dataframe thead th {\n",
       "        text-align: right;\n",
       "    }\n",
       "</style>\n",
       "<table border=\"1\" class=\"dataframe\">\n",
       "  <thead>\n",
       "    <tr style=\"text-align: right;\">\n",
       "      <th></th>\n",
       "      <th>weight</th>\n",
       "      <th>Time</th>\n",
       "      <th>Chick</th>\n",
       "      <th>Diet</th>\n",
       "    </tr>\n",
       "  </thead>\n",
       "  <tbody>\n",
       "    <tr>\n",
       "      <th>0</th>\n",
       "      <td>42</td>\n",
       "      <td>0</td>\n",
       "      <td>1</td>\n",
       "      <td>1</td>\n",
       "    </tr>\n",
       "    <tr>\n",
       "      <th>1</th>\n",
       "      <td>51</td>\n",
       "      <td>2</td>\n",
       "      <td>1</td>\n",
       "      <td>1</td>\n",
       "    </tr>\n",
       "    <tr>\n",
       "      <th>2</th>\n",
       "      <td>59</td>\n",
       "      <td>4</td>\n",
       "      <td>1</td>\n",
       "      <td>1</td>\n",
       "    </tr>\n",
       "    <tr>\n",
       "      <th>3</th>\n",
       "      <td>64</td>\n",
       "      <td>6</td>\n",
       "      <td>1</td>\n",
       "      <td>1</td>\n",
       "    </tr>\n",
       "    <tr>\n",
       "      <th>4</th>\n",
       "      <td>76</td>\n",
       "      <td>8</td>\n",
       "      <td>1</td>\n",
       "      <td>1</td>\n",
       "    </tr>\n",
       "  </tbody>\n",
       "</table>\n",
       "</div>"
      ],
      "text/plain": [
       "   weight  Time  Chick  Diet\n",
       "0      42     0      1     1\n",
       "1      51     2      1     1\n",
       "2      59     4      1     1\n",
       "3      64     6      1     1\n",
       "4      76     8      1     1"
      ]
     },
     "execution_count": 19,
     "metadata": {},
     "output_type": "execute_result"
    }
   ],
   "source": [
    "df_chick_weights.head()"
   ]
  },
  {
   "cell_type": "code",
   "execution_count": 20,
   "metadata": {},
   "outputs": [
    {
     "data": {
      "image/png": "[encoded data removed]",
      "text/plain": [
       "<Figure size 500x500 with 1 Axes>"
      ]
     },
     "metadata": {},
     "output_type": "display_data"
    }
   ],
   "source": [
    "# Plot the distribution of the chickens' weight\n",
    "sns.displot(data=df_chick_weights, x='weight', kind='kde')\n",
    "plt.show()"
   ]
  },
  {
   "cell_type": "code",
   "execution_count": 21,
   "metadata": {},
   "outputs": [
    {
     "data": {
      "image/png": "[encoded data removed]",
      "text/plain": [
       "<Figure size 640x480 with 1 Axes>"
      ]
     },
     "metadata": {},
     "output_type": "display_data"
    }
   ],
   "source": [
    "smgg.qqplot(\n",
    "    df_chick_weights['weight'],\n",
    "    line='s',\n",
    "    dist=ssd.norm\n",
    ")\n",
    "plt.show();"
   ]
  },
  {
   "cell_type": "code",
   "execution_count": 22,
   "metadata": {},
   "outputs": [
    {
     "data": {
      "image/png": "[encoded data removed]",
      "text/plain": [
       "<Figure size 640x480 with 1 Axes>"
      ]
     },
     "metadata": {},
     "output_type": "display_data"
    }
   ],
   "source": [
    "smgg.qqplot(\n",
    "    df_chick_weights['weight'],\n",
    "    line='s'\n",
    ")\n",
    "plt.show();"
   ]
  },
  {
   "cell_type": "code",
   "execution_count": 23,
   "metadata": {},
   "outputs": [
    {
     "data": {
      "image/png": "[encoded data removed]",
      "text/plain": [
       "<Figure size 500x500 with 1 Axes>"
      ]
     },
     "metadata": {},
     "output_type": "display_data"
    }
   ],
   "source": [
    "# Subset the data\n",
    "subset_data = df_chick_weights[df_chick_weights['Time'] == 2]\n",
    "\n",
    "# Repeat the plotting\n",
    "sns.displot(data=subset_data, x='weight', kind=kde)\n",
    "plt.show();"
   ]
  },
  {
   "cell_type": "markdown",
   "metadata": {},
   "source": [
    "#### Analytical normality in an agricultural experiment"
   ]
  },
  {
   "cell_type": "code",
   "execution_count": 24,
   "metadata": {},
   "outputs": [
    {
     "name": "stdout",
     "output_type": "stream",
     "text": [
      "p: 0.0; test stat: 0.9087\n"
     ]
    }
   ],
   "source": [
    "# Shapiro-Wilk Test\n",
    "alpha = 0.05\n",
    "stat, p = spst.shapiro(df_chick_weights['weight'])\n",
    "print(f'p: {round(p,4)}; test stat: {round(stat, 4)}')"
   ]
  },
  {
   "cell_type": "code",
   "execution_count": 26,
   "metadata": {},
   "outputs": [
    {
     "name": "stdout",
     "output_type": "stream",
     "text": [
      "result: 14.6868\n",
      "Significance: [15.  10.   5.   2.5  1. ]\n",
      "Critical: [0.572 0.652 0.782 0.912 1.085]\n"
     ]
    }
   ],
   "source": [
    "# Anderson-Darling Test\n",
    "result = spst.anderson(x=df_chick_weights['weight'], dist='norm')\n",
    "print(f'result: {round(result.statistic, 4)}\\nSignificance: {result.significance_level}\\nCritical: {result.critical_values}')"
   ]
  },
  {
   "cell_type": "markdown",
   "metadata": {},
   "source": [
    "## Experimental Design Techniques"
   ]
  },
  {
   "cell_type": "markdown",
   "metadata": {},
   "source": [
    "### Factorial designs: principles and applications"
   ]
  },
  {
   "cell_type": "code",
   "execution_count": 27,
   "metadata": {},
   "outputs": [
    {
     "data": {
      "text/html": [
       "<div>\n",
       "<style scoped>\n",
       "    .dataframe tbody tr th:only-of-type {\n",
       "        vertical-align: middle;\n",
       "    }\n",
       "\n",
       "    .dataframe tbody tr th {\n",
       "        vertical-align: top;\n",
       "    }\n",
       "\n",
       "    .dataframe thead th {\n",
       "        text-align: right;\n",
       "    }\n",
       "</style>\n",
       "<table border=\"1\" class=\"dataframe\">\n",
       "  <thead>\n",
       "    <tr style=\"text-align: right;\">\n",
       "      <th></th>\n",
       "      <th>Messaging_Style</th>\n",
       "      <th>Time_of_Day</th>\n",
       "      <th>Click_Through_Rate</th>\n",
       "      <th>Conversions</th>\n",
       "    </tr>\n",
       "  </thead>\n",
       "  <tbody>\n",
       "    <tr>\n",
       "      <th>0</th>\n",
       "      <td>Casual</td>\n",
       "      <td>Morning</td>\n",
       "      <td>0.640465</td>\n",
       "      <td>500</td>\n",
       "    </tr>\n",
       "    <tr>\n",
       "      <th>1</th>\n",
       "      <td>Formal</td>\n",
       "      <td>Evening</td>\n",
       "      <td>0.698533</td>\n",
       "      <td>598</td>\n",
       "    </tr>\n",
       "    <tr>\n",
       "      <th>2</th>\n",
       "      <td>Casual</td>\n",
       "      <td>Morning</td>\n",
       "      <td>0.257834</td>\n",
       "      <td>234</td>\n",
       "    </tr>\n",
       "    <tr>\n",
       "      <th>3</th>\n",
       "      <td>Casual</td>\n",
       "      <td>Evening</td>\n",
       "      <td>0.922971</td>\n",
       "      <td>602</td>\n",
       "    </tr>\n",
       "    <tr>\n",
       "      <th>4</th>\n",
       "      <td>Casual</td>\n",
       "      <td>Morning</td>\n",
       "      <td>0.476893</td>\n",
       "      <td>314</td>\n",
       "    </tr>\n",
       "  </tbody>\n",
       "</table>\n",
       "</div>"
      ],
      "text/plain": [
       "  Messaging_Style Time_of_Day  Click_Through_Rate  Conversions\n",
       "0          Casual     Morning            0.640465          500\n",
       "1          Formal     Evening            0.698533          598\n",
       "2          Casual     Morning            0.257834          234\n",
       "3          Casual     Evening            0.922971          602\n",
       "4          Casual     Morning            0.476893          314"
      ]
     },
     "execution_count": 27,
     "metadata": {},
     "output_type": "execute_result"
    }
   ],
   "source": [
    "import pandas as pd\n",
    "marketing_data = pd.read_feather(r'./data/marketing_data.feather')\n",
    "marketing_data.head()"
   ]
  },
  {
   "cell_type": "code",
   "execution_count": 28,
   "metadata": {},
   "outputs": [
    {
     "name": "stdout",
     "output_type": "stream",
     "text": [
      "Time_of_Day         Evening     Morning\n",
      "Messaging_Style                        \n",
      "Casual           402.329004  401.133891\n",
      "Formal           432.913043  411.096000\n"
     ]
    }
   ],
   "source": [
    "marketing_pivot =\\\n",
    "  pd.pivot_table(\n",
    "    marketing_data,\n",
    "    values='Conversions',\n",
    "    index='Messaging_Style',\n",
    "    columns='Time_of_Day',\n",
    "    aggfunc='mean'\n",
    ")\n",
    "print(marketing_pivot)"
   ]
  },
  {
   "cell_type": "code",
   "execution_count": 29,
   "metadata": {},
   "outputs": [
    {
     "data": {
      "image/png": "[encoded data removed]",
      "text/plain": [
       "<Figure size 640x480 with 2 Axes>"
      ]
     },
     "metadata": {},
     "output_type": "display_data"
    }
   ],
   "source": [
    "import seaborn as sns\n",
    "import matplotlib.pyplot as plt\n",
    "# Visualize interactions with a heatmap\n",
    "sns.heatmap(\n",
    "    marketing_pivot,\n",
    "    annot=True,\n",
    "    cmap='coolwarm',\n",
    "    fmt='g')\n",
    "\n",
    "plt.show()"
   ]
  },
  {
   "cell_type": "markdown",
   "metadata": {},
   "source": [
    "### Randomized block design: controlling variance"
   ]
  },
  {
   "cell_type": "code",
   "execution_count": 31,
   "metadata": {},
   "outputs": [
    {
     "data": {
      "text/html": [
       "<div>\n",
       "<style scoped>\n",
       "    .dataframe tbody tr th:only-of-type {\n",
       "        vertical-align: middle;\n",
       "    }\n",
       "\n",
       "    .dataframe tbody tr th {\n",
       "        vertical-align: top;\n",
       "    }\n",
       "\n",
       "    .dataframe thead th {\n",
       "        text-align: right;\n",
       "    }\n",
       "</style>\n",
       "<table border=\"1\" class=\"dataframe\">\n",
       "  <thead>\n",
       "    <tr style=\"text-align: right;\">\n",
       "      <th></th>\n",
       "      <th>Athlete_ID</th>\n",
       "      <th>Training_Program</th>\n",
       "      <th>Diet_Type</th>\n",
       "      <th>Initial_Fitness</th>\n",
       "      <th>Performance_Inc</th>\n",
       "    </tr>\n",
       "  </thead>\n",
       "  <tbody>\n",
       "    <tr>\n",
       "      <th>0</th>\n",
       "      <td>1</td>\n",
       "      <td>Strength</td>\n",
       "      <td>Keto</td>\n",
       "      <td>Low</td>\n",
       "      <td>8.749524</td>\n",
       "    </tr>\n",
       "    <tr>\n",
       "      <th>1</th>\n",
       "      <td>2</td>\n",
       "      <td>HIIT</td>\n",
       "      <td>Plant-Based</td>\n",
       "      <td>High</td>\n",
       "      <td>9.452781</td>\n",
       "    </tr>\n",
       "    <tr>\n",
       "      <th>2</th>\n",
       "      <td>3</td>\n",
       "      <td>Strength</td>\n",
       "      <td>Plant-Based</td>\n",
       "      <td>Low</td>\n",
       "      <td>13.928506</td>\n",
       "    </tr>\n",
       "  </tbody>\n",
       "</table>\n",
       "</div>"
      ],
      "text/plain": [
       "   Athlete_ID Training_Program    Diet_Type Initial_Fitness  Performance_Inc\n",
       "0           1         Strength         Keto             Low         8.749524\n",
       "1           2             HIIT  Plant-Based            High         9.452781\n",
       "2           3         Strength  Plant-Based             Low        13.928506"
      ]
     },
     "execution_count": 31,
     "metadata": {},
     "output_type": "execute_result"
    }
   ],
   "source": [
    "import pandas as pd\n",
    "import numpy as np\n",
    "import seaborn as sns\n",
    "athletes = pd.read_csv(r'.\\data\\athletic_perf.csv')\n",
    "athletes.head(3)"
   ]
  },
  {
   "cell_type": "code",
   "execution_count": 32,
   "metadata": {},
   "outputs": [
    {
     "data": {
      "text/plain": [
       "array(['Low', 'High', 'Medium'], dtype=object)"
      ]
     },
     "execution_count": 32,
     "metadata": {},
     "output_type": "execute_result"
    }
   ],
   "source": [
    "athletes['Initial_Fitness'].unique()"
   ]
  },
  {
   "cell_type": "code",
   "execution_count": 33,
   "metadata": {},
   "outputs": [
    {
     "data": {
      "text/html": [
       "<div>\n",
       "<style scoped>\n",
       "    .dataframe tbody tr th:only-of-type {\n",
       "        vertical-align: middle;\n",
       "    }\n",
       "\n",
       "    .dataframe tbody tr th {\n",
       "        vertical-align: top;\n",
       "    }\n",
       "\n",
       "    .dataframe thead th {\n",
       "        text-align: right;\n",
       "    }\n",
       "</style>\n",
       "<table border=\"1\" class=\"dataframe\">\n",
       "  <thead>\n",
       "    <tr style=\"text-align: right;\">\n",
       "      <th></th>\n",
       "      <th></th>\n",
       "      <th>Athlete_ID</th>\n",
       "      <th>Training_Program</th>\n",
       "      <th>Diet_Type</th>\n",
       "      <th>Initial_Fitness</th>\n",
       "      <th>Performance_Inc</th>\n",
       "    </tr>\n",
       "    <tr>\n",
       "      <th>Initial_Fitness</th>\n",
       "      <th></th>\n",
       "      <th></th>\n",
       "      <th></th>\n",
       "      <th></th>\n",
       "      <th></th>\n",
       "      <th></th>\n",
       "    </tr>\n",
       "  </thead>\n",
       "  <tbody>\n",
       "    <tr>\n",
       "      <th rowspan=\"5\" valign=\"top\">High</th>\n",
       "      <th>67</th>\n",
       "      <td>68</td>\n",
       "      <td>Endurance</td>\n",
       "      <td>Keto</td>\n",
       "      <td>High</td>\n",
       "      <td>5.722399</td>\n",
       "    </tr>\n",
       "    <tr>\n",
       "      <th>130</th>\n",
       "      <td>131</td>\n",
       "      <td>Strength</td>\n",
       "      <td>Keto</td>\n",
       "      <td>High</td>\n",
       "      <td>12.660877</td>\n",
       "    </tr>\n",
       "    <tr>\n",
       "      <th>205</th>\n",
       "      <td>206</td>\n",
       "      <td>Strength</td>\n",
       "      <td>Plant-Based</td>\n",
       "      <td>High</td>\n",
       "      <td>11.843269</td>\n",
       "    </tr>\n",
       "    <tr>\n",
       "      <th>69</th>\n",
       "      <td>70</td>\n",
       "      <td>HIIT</td>\n",
       "      <td>Keto</td>\n",
       "      <td>High</td>\n",
       "      <td>13.967984</td>\n",
       "    </tr>\n",
       "    <tr>\n",
       "      <th>191</th>\n",
       "      <td>192</td>\n",
       "      <td>Endurance</td>\n",
       "      <td>High-Protein</td>\n",
       "      <td>High</td>\n",
       "      <td>12.930780</td>\n",
       "    </tr>\n",
       "    <tr>\n",
       "      <th>...</th>\n",
       "      <th>...</th>\n",
       "      <td>...</td>\n",
       "      <td>...</td>\n",
       "      <td>...</td>\n",
       "      <td>...</td>\n",
       "      <td>...</td>\n",
       "    </tr>\n",
       "    <tr>\n",
       "      <th rowspan=\"5\" valign=\"top\">Medium</th>\n",
       "      <th>298</th>\n",
       "      <td>299</td>\n",
       "      <td>Endurance</td>\n",
       "      <td>Keto</td>\n",
       "      <td>Medium</td>\n",
       "      <td>5.761285</td>\n",
       "    </tr>\n",
       "    <tr>\n",
       "      <th>183</th>\n",
       "      <td>184</td>\n",
       "      <td>HIIT</td>\n",
       "      <td>High-Protein</td>\n",
       "      <td>Medium</td>\n",
       "      <td>8.178884</td>\n",
       "    </tr>\n",
       "    <tr>\n",
       "      <th>111</th>\n",
       "      <td>112</td>\n",
       "      <td>Endurance</td>\n",
       "      <td>High-Protein</td>\n",
       "      <td>Medium</td>\n",
       "      <td>12.108790</td>\n",
       "    </tr>\n",
       "    <tr>\n",
       "      <th>255</th>\n",
       "      <td>256</td>\n",
       "      <td>Strength</td>\n",
       "      <td>High-Protein</td>\n",
       "      <td>Medium</td>\n",
       "      <td>9.555211</td>\n",
       "    </tr>\n",
       "    <tr>\n",
       "      <th>228</th>\n",
       "      <td>229</td>\n",
       "      <td>Strength</td>\n",
       "      <td>High-Protein</td>\n",
       "      <td>Medium</td>\n",
       "      <td>12.734741</td>\n",
       "    </tr>\n",
       "  </tbody>\n",
       "</table>\n",
       "<p>300 rows × 5 columns</p>\n",
       "</div>"
      ],
      "text/plain": [
       "                     Athlete_ID Training_Program     Diet_Type  \\\n",
       "Initial_Fitness                                                  \n",
       "High            67           68        Endurance          Keto   \n",
       "                130         131         Strength          Keto   \n",
       "                205         206         Strength   Plant-Based   \n",
       "                69           70             HIIT          Keto   \n",
       "                191         192        Endurance  High-Protein   \n",
       "...                         ...              ...           ...   \n",
       "Medium          298         299        Endurance          Keto   \n",
       "                183         184             HIIT  High-Protein   \n",
       "                111         112        Endurance  High-Protein   \n",
       "                255         256         Strength  High-Protein   \n",
       "                228         229         Strength  High-Protein   \n",
       "\n",
       "                    Initial_Fitness  Performance_Inc  \n",
       "Initial_Fitness                                       \n",
       "High            67             High         5.722399  \n",
       "                130            High        12.660877  \n",
       "                205            High        11.843269  \n",
       "                69             High        13.967984  \n",
       "                191            High        12.930780  \n",
       "...                             ...              ...  \n",
       "Medium          298          Medium         5.761285  \n",
       "                183          Medium         8.178884  \n",
       "                111          Medium        12.108790  \n",
       "                255          Medium         9.555211  \n",
       "                228          Medium        12.734741  \n",
       "\n",
       "[300 rows x 5 columns]"
      ]
     },
     "execution_count": 33,
     "metadata": {},
     "output_type": "execute_result"
    }
   ],
   "source": [
    "athletes.groupby(by='Initial_Fitness').apply(\n",
    "  lambda x: x.sample(frac=1)\n",
    ")"
   ]
  },
  {
   "cell_type": "code",
   "execution_count": 34,
   "metadata": {},
   "outputs": [
    {
     "data": {
      "text/html": [
       "<div>\n",
       "<style scoped>\n",
       "    .dataframe tbody tr th:only-of-type {\n",
       "        vertical-align: middle;\n",
       "    }\n",
       "\n",
       "    .dataframe tbody tr th {\n",
       "        vertical-align: top;\n",
       "    }\n",
       "\n",
       "    .dataframe thead th {\n",
       "        text-align: right;\n",
       "    }\n",
       "</style>\n",
       "<table border=\"1\" class=\"dataframe\">\n",
       "  <thead>\n",
       "    <tr style=\"text-align: right;\">\n",
       "      <th></th>\n",
       "      <th>Athlete_ID</th>\n",
       "      <th>Training_Program</th>\n",
       "      <th>Diet_Type</th>\n",
       "      <th>Initial_Fitness</th>\n",
       "      <th>Performance_Inc</th>\n",
       "    </tr>\n",
       "  </thead>\n",
       "  <tbody>\n",
       "    <tr>\n",
       "      <th>0</th>\n",
       "      <td>235</td>\n",
       "      <td>HIIT</td>\n",
       "      <td>Plant-Based</td>\n",
       "      <td>High</td>\n",
       "      <td>9.341338</td>\n",
       "    </tr>\n",
       "    <tr>\n",
       "      <th>1</th>\n",
       "      <td>94</td>\n",
       "      <td>Strength</td>\n",
       "      <td>Plant-Based</td>\n",
       "      <td>High</td>\n",
       "      <td>11.649800</td>\n",
       "    </tr>\n",
       "    <tr>\n",
       "      <th>2</th>\n",
       "      <td>218</td>\n",
       "      <td>Strength</td>\n",
       "      <td>Keto</td>\n",
       "      <td>High</td>\n",
       "      <td>11.956586</td>\n",
       "    </tr>\n",
       "    <tr>\n",
       "      <th>3</th>\n",
       "      <td>237</td>\n",
       "      <td>Endurance</td>\n",
       "      <td>Plant-Based</td>\n",
       "      <td>High</td>\n",
       "      <td>9.048939</td>\n",
       "    </tr>\n",
       "    <tr>\n",
       "      <th>4</th>\n",
       "      <td>97</td>\n",
       "      <td>HIIT</td>\n",
       "      <td>High-Protein</td>\n",
       "      <td>High</td>\n",
       "      <td>10.500381</td>\n",
       "    </tr>\n",
       "    <tr>\n",
       "      <th>...</th>\n",
       "      <td>...</td>\n",
       "      <td>...</td>\n",
       "      <td>...</td>\n",
       "      <td>...</td>\n",
       "      <td>...</td>\n",
       "    </tr>\n",
       "    <tr>\n",
       "      <th>295</th>\n",
       "      <td>253</td>\n",
       "      <td>Strength</td>\n",
       "      <td>Plant-Based</td>\n",
       "      <td>Medium</td>\n",
       "      <td>11.234780</td>\n",
       "    </tr>\n",
       "    <tr>\n",
       "      <th>296</th>\n",
       "      <td>60</td>\n",
       "      <td>Strength</td>\n",
       "      <td>Plant-Based</td>\n",
       "      <td>Medium</td>\n",
       "      <td>10.531911</td>\n",
       "    </tr>\n",
       "    <tr>\n",
       "      <th>297</th>\n",
       "      <td>133</td>\n",
       "      <td>HIIT</td>\n",
       "      <td>Plant-Based</td>\n",
       "      <td>Medium</td>\n",
       "      <td>11.436197</td>\n",
       "    </tr>\n",
       "    <tr>\n",
       "      <th>298</th>\n",
       "      <td>224</td>\n",
       "      <td>Endurance</td>\n",
       "      <td>Keto</td>\n",
       "      <td>Medium</td>\n",
       "      <td>8.198934</td>\n",
       "    </tr>\n",
       "    <tr>\n",
       "      <th>299</th>\n",
       "      <td>117</td>\n",
       "      <td>HIIT</td>\n",
       "      <td>High-Protein</td>\n",
       "      <td>Medium</td>\n",
       "      <td>9.295751</td>\n",
       "    </tr>\n",
       "  </tbody>\n",
       "</table>\n",
       "<p>300 rows × 5 columns</p>\n",
       "</div>"
      ],
      "text/plain": [
       "     Athlete_ID Training_Program     Diet_Type Initial_Fitness  \\\n",
       "0           235             HIIT   Plant-Based            High   \n",
       "1            94         Strength   Plant-Based            High   \n",
       "2           218         Strength          Keto            High   \n",
       "3           237        Endurance   Plant-Based            High   \n",
       "4            97             HIIT  High-Protein            High   \n",
       "..          ...              ...           ...             ...   \n",
       "295         253         Strength   Plant-Based          Medium   \n",
       "296          60         Strength   Plant-Based          Medium   \n",
       "297         133             HIIT   Plant-Based          Medium   \n",
       "298         224        Endurance          Keto          Medium   \n",
       "299         117             HIIT  High-Protein          Medium   \n",
       "\n",
       "     Performance_Inc  \n",
       "0           9.341338  \n",
       "1          11.649800  \n",
       "2          11.956586  \n",
       "3           9.048939  \n",
       "4          10.500381  \n",
       "..               ...  \n",
       "295        11.234780  \n",
       "296        10.531911  \n",
       "297        11.436197  \n",
       "298         8.198934  \n",
       "299         9.295751  \n",
       "\n",
       "[300 rows x 5 columns]"
      ]
     },
     "execution_count": 34,
     "metadata": {},
     "output_type": "execute_result"
    }
   ],
   "source": [
    "athletes.groupby(by='Initial_Fitness').apply(\n",
    "  lambda x: x.sample(frac=1)\n",
    ").reset_index(drop=True)"
   ]
  },
  {
   "cell_type": "code",
   "execution_count": 35,
   "metadata": {},
   "outputs": [],
   "source": [
    "blocks = athletes.groupby(by='Initial_Fitness').apply(\n",
    "  lambda x: x.sample(frac=1)\n",
    ").reset_index(drop=True)"
   ]
  },
  {
   "cell_type": "code",
   "execution_count": 36,
   "metadata": {},
   "outputs": [
    {
     "data": {
      "text/html": [
       "<div>\n",
       "<style scoped>\n",
       "    .dataframe tbody tr th:only-of-type {\n",
       "        vertical-align: middle;\n",
       "    }\n",
       "\n",
       "    .dataframe tbody tr th {\n",
       "        vertical-align: top;\n",
       "    }\n",
       "\n",
       "    .dataframe thead th {\n",
       "        text-align: right;\n",
       "    }\n",
       "</style>\n",
       "<table border=\"1\" class=\"dataframe\">\n",
       "  <thead>\n",
       "    <tr style=\"text-align: right;\">\n",
       "      <th></th>\n",
       "      <th>Athlete_ID</th>\n",
       "      <th>Training_Program</th>\n",
       "      <th>Diet_Type</th>\n",
       "      <th>Initial_Fitness</th>\n",
       "      <th>Performance_Inc</th>\n",
       "      <th>Treatment</th>\n",
       "    </tr>\n",
       "  </thead>\n",
       "  <tbody>\n",
       "    <tr>\n",
       "      <th>245</th>\n",
       "      <td>259</td>\n",
       "      <td>Strength</td>\n",
       "      <td>Keto</td>\n",
       "      <td>Medium</td>\n",
       "      <td>11.900357</td>\n",
       "      <td>Test_1</td>\n",
       "    </tr>\n",
       "    <tr>\n",
       "      <th>159</th>\n",
       "      <td>163</td>\n",
       "      <td>Endurance</td>\n",
       "      <td>Plant-Based</td>\n",
       "      <td>Low</td>\n",
       "      <td>9.869045</td>\n",
       "      <td>Test_1</td>\n",
       "    </tr>\n",
       "    <tr>\n",
       "      <th>214</th>\n",
       "      <td>82</td>\n",
       "      <td>HIIT</td>\n",
       "      <td>Keto</td>\n",
       "      <td>Medium</td>\n",
       "      <td>9.621585</td>\n",
       "      <td>Test_1</td>\n",
       "    </tr>\n",
       "    <tr>\n",
       "      <th>60</th>\n",
       "      <td>15</td>\n",
       "      <td>Endurance</td>\n",
       "      <td>Keto</td>\n",
       "      <td>High</td>\n",
       "      <td>10.800438</td>\n",
       "      <td>Test_3</td>\n",
       "    </tr>\n",
       "    <tr>\n",
       "      <th>165</th>\n",
       "      <td>41</td>\n",
       "      <td>HIIT</td>\n",
       "      <td>Plant-Based</td>\n",
       "      <td>Low</td>\n",
       "      <td>9.977545</td>\n",
       "      <td>Test_2</td>\n",
       "    </tr>\n",
       "    <tr>\n",
       "      <th>156</th>\n",
       "      <td>172</td>\n",
       "      <td>Endurance</td>\n",
       "      <td>High-Protein</td>\n",
       "      <td>Low</td>\n",
       "      <td>10.554363</td>\n",
       "      <td>Test_3</td>\n",
       "    </tr>\n",
       "  </tbody>\n",
       "</table>\n",
       "</div>"
      ],
      "text/plain": [
       "     Athlete_ID Training_Program     Diet_Type Initial_Fitness  \\\n",
       "245         259         Strength          Keto          Medium   \n",
       "159         163        Endurance   Plant-Based             Low   \n",
       "214          82             HIIT          Keto          Medium   \n",
       "60           15        Endurance          Keto            High   \n",
       "165          41             HIIT   Plant-Based             Low   \n",
       "156         172        Endurance  High-Protein             Low   \n",
       "\n",
       "     Performance_Inc Treatment  \n",
       "245        11.900357    Test_1  \n",
       "159         9.869045    Test_1  \n",
       "214         9.621585    Test_1  \n",
       "60         10.800438    Test_3  \n",
       "165         9.977545    Test_2  \n",
       "156        10.554363    Test_3  "
      ]
     },
     "execution_count": 36,
     "metadata": {},
     "output_type": "execute_result"
    }
   ],
   "source": [
    "blocks['Treatment'] = np.random.choice(\n",
    "  ['Test_1', 'Test_2', 'Test_3'],\n",
    "  size=len(blocks)\n",
    ")\n",
    "blocks.sample(6)"
   ]
  },
  {
   "cell_type": "code",
   "execution_count": 37,
   "metadata": {},
   "outputs": [
    {
     "data": {
      "text/plain": [
       "Initial_Fitness  Treatment\n",
       "High             Test_1       24\n",
       "                 Test_2       27\n",
       "                 Test_3       37\n",
       "Low              Test_1       36\n",
       "                 Test_2       38\n",
       "                 Test_3       39\n",
       "Medium           Test_1       31\n",
       "                 Test_2       33\n",
       "                 Test_3       35\n",
       "Name: count, dtype: int64"
      ]
     },
     "execution_count": 37,
     "metadata": {},
     "output_type": "execute_result"
    }
   ],
   "source": [
    "blocks[['Initial_Fitness', 'Treatment']].value_counts().sort_index()"
   ]
  },
  {
   "cell_type": "code",
   "execution_count": 38,
   "metadata": {},
   "outputs": [
    {
     "data": {
      "text/plain": [
       "<Axes: xlabel='Initial_Fitness', ylabel='Performance_Inc'>"
      ]
     },
     "execution_count": 38,
     "metadata": {},
     "output_type": "execute_result"
    },
    {
     "data": {
      "image/png": "[encoded data removed]",
      "text/plain": [
       "<Figure size 640x480 with 1 Axes>"
      ]
     },
     "metadata": {},
     "output_type": "display_data"
    }
   ],
   "source": [
    "sns.boxplot(\n",
    "  data=blocks\n",
    "  , x='Initial_Fitness'\n",
    "  , y='Performance_Inc'\n",
    "  , notch=True\n",
    "  , medianprops={'color':'r'}\n",
    "  , order=['Low', 'Medium', 'High']\n",
    ")"
   ]
  },
  {
   "cell_type": "code",
   "execution_count": 39,
   "metadata": {},
   "outputs": [
    {
     "data": {
      "text/plain": [
       "<Axes: xlabel='Initial_Fitness', ylabel='Performance_Inc'>"
      ]
     },
     "execution_count": 39,
     "metadata": {},
     "output_type": "execute_result"
    },
    {
     "data": {
      "image/png": "[encoded data removed]",
      "text/plain": [
       "<Figure size 640x480 with 1 Axes>"
      ]
     },
     "metadata": {},
     "output_type": "display_data"
    }
   ],
   "source": [
    "sns.boxplot(\n",
    "  data=blocks\n",
    "  , x='Initial_Fitness'\n",
    "  , y='Performance_Inc'\n",
    "  , hue='Treatment'\n",
    "  , notch=True\n",
    "  , medianprops={'color':'r', 'linewidth':2}\n",
    "  , order=['Low', 'Medium', 'High']\n",
    ")"
   ]
  },
  {
   "cell_type": "code",
   "execution_count": 40,
   "metadata": {},
   "outputs": [
    {
     "data": {
      "text/plain": [
       "Initial_Fitness\n",
       "High         (0.23460085057728, 0.7913968558999119)\n",
       "Low        (1.7678597131045488, 0.1755130004678123)\n",
       "Medium    (0.43779381238008214, 0.6467409988133308)\n",
       "dtype: object"
      ]
     },
     "execution_count": 40,
     "metadata": {},
     "output_type": "execute_result"
    }
   ],
   "source": [
    "# Perform the within blocks ANOVA, first grouping by block\n",
    "import scipy.stats as scst\n",
    "block_annova = blocks.groupby('Initial_Fitness').apply(\n",
    "  lambda x: scst.f_oneway(\n",
    "    x[x['Treatment']=='Test_1']['Performance_Inc']\n",
    "    , x[x['Treatment']=='Test_2']['Performance_Inc']\n",
    "    , x[x['Treatment']=='Test_3']['Performance_Inc']\n",
    "  )\n",
    ")\n",
    "block_annova"
   ]
  },
  {
   "cell_type": "markdown",
   "metadata": {},
   "source": [
    "### Covariate adjustment in experimental design"
   ]
  },
  {
   "cell_type": "markdown",
   "metadata": {},
   "source": [
    "<b>Covariates:</b> Variables in datasets that affect experiment results but are not primary focus\n",
    "\n",
    "<li> Importance in reducing confounding\n",
    "<li> Impact on precision and validity of results <br>\n",
    "\n",
    "<b>Covariate adjustment with chick growth</b><br>\n",
    "Imagine studying in agricultural science the growth patterns of chicks under various dietary regimens. The data from this study sheds light on the intricate relationship between their respective diets and the consequent impact on their weight. This data includes weight measurements of chicks at different ages, allowing for an exploration of covariate adjustment. age serves as a covariate, potentially influencing the outcome variable: the weight of the chicks.\n",
    "\n",
    "DataFrames exp_chick_data, the experimental data, and cov_chick_data, the covariate data, have been loaded, along with the following libraries:"
   ]
  },
  {
   "cell_type": "code",
   "execution_count": 50,
   "metadata": {},
   "outputs": [],
   "source": [
    "import pandas as pd\n",
    "import numpy as np\n",
    "import statsmodels as sm\n",
    "import statsmodels.formula as smf\n",
    "import statsmodels.formula.api as smfa\n",
    "import seaborn as sns\n",
    "import matplotlib.pyplot as plt"
   ]
  },
  {
   "cell_type": "code",
   "execution_count": 42,
   "metadata": {},
   "outputs": [
    {
     "data": {
      "text/plain": [
       "(578, 4)"
      ]
     },
     "execution_count": 42,
     "metadata": {},
     "output_type": "execute_result"
    }
   ],
   "source": [
    "df_chick_weights.shape"
   ]
  },
  {
   "cell_type": "code",
   "execution_count": 43,
   "metadata": {},
   "outputs": [
    {
     "data": {
      "text/html": [
       "<div>\n",
       "<style scoped>\n",
       "    .dataframe tbody tr th:only-of-type {\n",
       "        vertical-align: middle;\n",
       "    }\n",
       "\n",
       "    .dataframe tbody tr th {\n",
       "        vertical-align: top;\n",
       "    }\n",
       "\n",
       "    .dataframe thead th {\n",
       "        text-align: right;\n",
       "    }\n",
       "</style>\n",
       "<table border=\"1\" class=\"dataframe\">\n",
       "  <thead>\n",
       "    <tr style=\"text-align: right;\">\n",
       "      <th></th>\n",
       "      <th>weight</th>\n",
       "      <th>Time</th>\n",
       "      <th>Chick</th>\n",
       "      <th>Diet</th>\n",
       "    </tr>\n",
       "  </thead>\n",
       "  <tbody>\n",
       "    <tr>\n",
       "      <th>0</th>\n",
       "      <td>42</td>\n",
       "      <td>0</td>\n",
       "      <td>1</td>\n",
       "      <td>1</td>\n",
       "    </tr>\n",
       "    <tr>\n",
       "      <th>1</th>\n",
       "      <td>51</td>\n",
       "      <td>2</td>\n",
       "      <td>1</td>\n",
       "      <td>1</td>\n",
       "    </tr>\n",
       "    <tr>\n",
       "      <th>2</th>\n",
       "      <td>59</td>\n",
       "      <td>4</td>\n",
       "      <td>1</td>\n",
       "      <td>1</td>\n",
       "    </tr>\n",
       "    <tr>\n",
       "      <th>3</th>\n",
       "      <td>64</td>\n",
       "      <td>6</td>\n",
       "      <td>1</td>\n",
       "      <td>1</td>\n",
       "    </tr>\n",
       "    <tr>\n",
       "      <th>4</th>\n",
       "      <td>76</td>\n",
       "      <td>8</td>\n",
       "      <td>1</td>\n",
       "      <td>1</td>\n",
       "    </tr>\n",
       "  </tbody>\n",
       "</table>\n",
       "</div>"
      ],
      "text/plain": [
       "   weight  Time  Chick  Diet\n",
       "0      42     0      1     1\n",
       "1      51     2      1     1\n",
       "2      59     4      1     1\n",
       "3      64     6      1     1\n",
       "4      76     8      1     1"
      ]
     },
     "execution_count": 43,
     "metadata": {},
     "output_type": "execute_result"
    }
   ],
   "source": [
    "df_chick_weights.head()"
   ]
  },
  {
   "cell_type": "code",
   "execution_count": 44,
   "metadata": {},
   "outputs": [],
   "source": [
    "exp_chick_data = df_chick_weights[['Chick', 'weight', 'Diet']]\n",
    "cov_chick_data = df_chick_weights[['Chick', 'Time']]"
   ]
  },
  {
   "cell_type": "code",
   "execution_count": 51,
   "metadata": {},
   "outputs": [
    {
     "name": "stdout",
     "output_type": "stream",
     "text": [
      "                            OLS Regression Results                            \n",
      "==============================================================================\n",
      "Dep. Variable:                 weight   R-squared:                       0.040\n",
      "Model:                            OLS   Adj. R-squared:                  0.039\n",
      "Method:                 Least Squares   F-statistic:                     140.9\n",
      "Date:                Sat, 06 Jul 2024   Prob (F-statistic):           1.12e-60\n",
      "Time:                        14:27:29   Log-Likelihood:                -38608.\n",
      "No. Observations:                6818   AIC:                         7.722e+04\n",
      "Df Residuals:                    6815   BIC:                         7.724e+04\n",
      "Df Model:                           2                                         \n",
      "Covariance Type:            nonrobust                                         \n",
      "==============================================================================\n",
      "                 coef    std err          t      P>|t|      [0.025      0.975]\n",
      "------------------------------------------------------------------------------\n",
      "Intercept     94.0678      2.275     41.342      0.000      89.607      98.528\n",
      "Diet          12.2022      0.729     16.747      0.000      10.774      13.631\n",
      "Time           0.1238      0.125      0.990      0.322      -0.121       0.369\n",
      "==============================================================================\n",
      "Omnibus:                      694.766   Durbin-Watson:                   0.055\n",
      "Prob(Omnibus):                  0.000   Jarque-Bera (JB):              922.241\n",
      "Skew:                           0.886   Prob(JB):                    5.47e-201\n",
      "Kurtosis:                       3.326   Cond. No.                         35.8\n",
      "==============================================================================\n",
      "\n",
      "Notes:\n",
      "[1] Standard Errors assume that the covariance matrix of the errors is correctly specified.\n"
     ]
    },
    {
     "data": {
      "image/png": "[encoded data removed]",
      "text/plain": [
       "<Figure size 558.875x500 with 1 Axes>"
      ]
     },
     "metadata": {},
     "output_type": "display_data"
    }
   ],
   "source": [
    "# Join experimental and covariate data\n",
    "merged_chick_data = \\\n",
    "    pd.merge(\n",
    "        exp_chick_data,\n",
    "        cov_chick_data,\n",
    "        on='Chick'\n",
    "    )\n",
    "\n",
    "# Perform ANCOVA with Diet and Time as predictors\n",
    "model = \\\n",
    "    smfa.ols(\n",
    "        'weight ~ Diet + Time',\n",
    "        data=merged_chick_data\n",
    "    ).fit()\n",
    "\n",
    "# Print a summary of the model\n",
    "print(model.summary())\n",
    "\n",
    "# Visualize Diet effects with Time adjustment\n",
    "sns.lmplot(\n",
    "    x='Time',\n",
    "    y='weight',\n",
    "    hue='Diet',\n",
    "    data=merged_chick_data)\n",
    "plt.show()"
   ]
  },
  {
   "cell_type": "markdown",
   "metadata": {},
   "source": [
    "You've successfully merged the experimental and covariate data to create a comprehensive dataset, then adeptly performed an ANCOVA, incorporating both 'Diet' and 'Time' as predictors. The visualization further clarifies how diet influences weight over time. It looks like 'Time' might not be as meaningful since the lines are all close to parallel, and the large p-value in the summary also corresponds to the 'Time' coefficient!"
   ]
  },
  {
   "cell_type": "markdown",
   "metadata": {},
   "source": [
    "## Analyzing Experimental Data: Statistical Tests and Power"
   ]
  },
  {
   "cell_type": "markdown",
   "metadata": {},
   "source": [
    "### Choosing the right statistical test"
   ]
  },
  {
   "cell_type": "code",
   "execution_count": 52,
   "metadata": {},
   "outputs": [
    {
     "data": {
      "text/html": [
       "<div>\n",
       "<style scoped>\n",
       "    .dataframe tbody tr th:only-of-type {\n",
       "        vertical-align: middle;\n",
       "    }\n",
       "\n",
       "    .dataframe tbody tr th {\n",
       "        vertical-align: top;\n",
       "    }\n",
       "\n",
       "    .dataframe thead th {\n",
       "        text-align: right;\n",
       "    }\n",
       "</style>\n",
       "<table border=\"1\" class=\"dataframe\">\n",
       "  <thead>\n",
       "    <tr style=\"text-align: right;\">\n",
       "      <th></th>\n",
       "      <th>Athlete_ID</th>\n",
       "      <th>Training_Program</th>\n",
       "      <th>Diet_Type</th>\n",
       "      <th>Initial_Fitness</th>\n",
       "      <th>Performance_Inc</th>\n",
       "    </tr>\n",
       "  </thead>\n",
       "  <tbody>\n",
       "    <tr>\n",
       "      <th>0</th>\n",
       "      <td>1</td>\n",
       "      <td>Strength</td>\n",
       "      <td>Keto</td>\n",
       "      <td>Low</td>\n",
       "      <td>8.749524</td>\n",
       "    </tr>\n",
       "    <tr>\n",
       "      <th>1</th>\n",
       "      <td>2</td>\n",
       "      <td>HIIT</td>\n",
       "      <td>Plant-Based</td>\n",
       "      <td>High</td>\n",
       "      <td>9.452781</td>\n",
       "    </tr>\n",
       "    <tr>\n",
       "      <th>2</th>\n",
       "      <td>3</td>\n",
       "      <td>Strength</td>\n",
       "      <td>Plant-Based</td>\n",
       "      <td>Low</td>\n",
       "      <td>13.928506</td>\n",
       "    </tr>\n",
       "    <tr>\n",
       "      <th>3</th>\n",
       "      <td>4</td>\n",
       "      <td>Strength</td>\n",
       "      <td>Plant-Based</td>\n",
       "      <td>High</td>\n",
       "      <td>9.605557</td>\n",
       "    </tr>\n",
       "    <tr>\n",
       "      <th>4</th>\n",
       "      <td>5</td>\n",
       "      <td>HIIT</td>\n",
       "      <td>Plant-Based</td>\n",
       "      <td>Low</td>\n",
       "      <td>7.547894</td>\n",
       "    </tr>\n",
       "  </tbody>\n",
       "</table>\n",
       "</div>"
      ],
      "text/plain": [
       "   Athlete_ID Training_Program    Diet_Type Initial_Fitness  Performance_Inc\n",
       "0           1         Strength         Keto             Low         8.749524\n",
       "1           2             HIIT  Plant-Based            High         9.452781\n",
       "2           3         Strength  Plant-Based             Low        13.928506\n",
       "3           4         Strength  Plant-Based            High         9.605557\n",
       "4           5             HIIT  Plant-Based             Low         7.547894"
      ]
     },
     "execution_count": 52,
     "metadata": {},
     "output_type": "execute_result"
    }
   ],
   "source": [
    "df_athletic_perf.head()"
   ]
  },
  {
   "cell_type": "code",
   "execution_count": 54,
   "metadata": {},
   "outputs": [
    {
     "data": {
      "text/html": [
       "<div>\n",
       "<style scoped>\n",
       "    .dataframe tbody tr th:only-of-type {\n",
       "        vertical-align: middle;\n",
       "    }\n",
       "\n",
       "    .dataframe tbody tr th {\n",
       "        vertical-align: top;\n",
       "    }\n",
       "\n",
       "    .dataframe thead th {\n",
       "        text-align: right;\n",
       "    }\n",
       "</style>\n",
       "<table border=\"1\" class=\"dataframe\">\n",
       "  <thead>\n",
       "    <tr style=\"text-align: right;\">\n",
       "      <th></th>\n",
       "      <th>Athlete_ID</th>\n",
       "      <th>Training_Program</th>\n",
       "      <th>Diet_Type</th>\n",
       "      <th>Initial_Fitness</th>\n",
       "      <th>Performance_Inc</th>\n",
       "    </tr>\n",
       "  </thead>\n",
       "  <tbody>\n",
       "    <tr>\n",
       "      <th>97</th>\n",
       "      <td>98</td>\n",
       "      <td>Strength</td>\n",
       "      <td>Keto</td>\n",
       "      <td>Low</td>\n",
       "      <td>11.611471</td>\n",
       "    </tr>\n",
       "    <tr>\n",
       "      <th>23</th>\n",
       "      <td>24</td>\n",
       "      <td>Endurance</td>\n",
       "      <td>Keto</td>\n",
       "      <td>Low</td>\n",
       "      <td>7.417928</td>\n",
       "    </tr>\n",
       "    <tr>\n",
       "      <th>207</th>\n",
       "      <td>208</td>\n",
       "      <td>Strength</td>\n",
       "      <td>Keto</td>\n",
       "      <td>Medium</td>\n",
       "      <td>11.903028</td>\n",
       "    </tr>\n",
       "    <tr>\n",
       "      <th>51</th>\n",
       "      <td>52</td>\n",
       "      <td>HIIT</td>\n",
       "      <td>Plant-Based</td>\n",
       "      <td>Low</td>\n",
       "      <td>11.663636</td>\n",
       "    </tr>\n",
       "    <tr>\n",
       "      <th>60</th>\n",
       "      <td>61</td>\n",
       "      <td>Endurance</td>\n",
       "      <td>High-Protein</td>\n",
       "      <td>High</td>\n",
       "      <td>9.573055</td>\n",
       "    </tr>\n",
       "  </tbody>\n",
       "</table>\n",
       "</div>"
      ],
      "text/plain": [
       "     Athlete_ID Training_Program     Diet_Type Initial_Fitness  \\\n",
       "97           98         Strength          Keto             Low   \n",
       "23           24        Endurance          Keto             Low   \n",
       "207         208         Strength          Keto          Medium   \n",
       "51           52             HIIT   Plant-Based             Low   \n",
       "60           61        Endurance  High-Protein            High   \n",
       "\n",
       "     Performance_Inc  \n",
       "97         11.611471  \n",
       "23          7.417928  \n",
       "207        11.903028  \n",
       "51         11.663636  \n",
       "60          9.573055  "
      ]
     },
     "execution_count": 54,
     "metadata": {},
     "output_type": "execute_result"
    }
   ],
   "source": [
    "df_athletic_perf.sample(n=5)"
   ]
  },
  {
   "cell_type": "markdown",
   "metadata": {},
   "source": [
    "#### T Test"
   ]
  },
  {
   "cell_type": "markdown",
   "metadata": {},
   "source": [
    "\n",
    "Comparing two groups of training types ('HIIT' & 'Endurance') to see if these have any statistically significant variation on 'Performance_Inc'"
   ]
  },
  {
   "cell_type": "code",
   "execution_count": 56,
   "metadata": {},
   "outputs": [
    {
     "name": "stdout",
     "output_type": "stream",
     "text": [
      "T-statistics: 0.20671020082912311, P-value: 0.8364563849070619\n"
     ]
    }
   ],
   "source": [
    "group1 = df_athletic_perf[df_athletic_perf['Training_Program']=='HIIT']['Performance_Inc']\n",
    "group2 = df_athletic_perf[df_athletic_perf['Training_Program']=='Endurance']['Performance_Inc']\n",
    "t_stat, p_val = scst.ttest_ind(group1, group2)\n",
    "print(f\"T-statistics: {t_stat}, P-value: {p_val}\")"
   ]
  },
  {
   "cell_type": "markdown",
   "metadata": {},
   "source": [
    "p_val > $\\alpha$ insufficient evidence of a difference in means. So statistically insignificant"
   ]
  },
  {
   "cell_type": "markdown",
   "metadata": {},
   "source": [
    "#### One-way ANOVA"
   ]
  },
  {
   "cell_type": "markdown",
   "metadata": {},
   "source": [
    "Comparing means across multiple (>2) groups.<br>\n",
    "<b>Assumption:</b> equal variances among groups"
   ]
  },
  {
   "cell_type": "code",
   "execution_count": 60,
   "metadata": {},
   "outputs": [
    {
     "name": "stdout",
     "output_type": "stream",
     "text": [
      "F-statistic: 1.5270022393256704, P-Value: 0.21888590090505408\n"
     ]
    }
   ],
   "source": [
    "program_types = list(df_athletic_perf['Training_Program'].unique())\n",
    "groups = [\n",
    "    df_athletic_perf[df_athletic_perf['Training_Program']==program]['Performance_Inc']\n",
    "    for program in program_types\n",
    "]\n",
    "f_stat, p_val = scst.f_oneway(*groups)\n",
    "print(f\"F-statistic: {f_stat}, P-Value: {p_val}\")"
   ]
  },
  {
   "cell_type": "markdown",
   "metadata": {},
   "source": [
    "p_val > $\\alpha$ ==> insufficient evidence of a difference in means"
   ]
  },
  {
   "cell_type": "markdown",
   "metadata": {},
   "source": [
    "#### Chi-squared Test"
   ]
  },
  {
   "cell_type": "markdown",
   "metadata": {},
   "source": [
    "<li> Testing relationship between categorical variables\n",
    "<li> No assumptions about distributions"
   ]
  },
  {
   "cell_type": "code",
   "execution_count": 62,
   "metadata": {},
   "outputs": [
    {
     "name": "stdout",
     "output_type": "stream",
     "text": [
      "Chi2-statistic: 2.154450885821988, P-value: 0.7073764021451128\n"
     ]
    }
   ],
   "source": [
    "contingency_table = \\\n",
    "    pd.crosstab(\n",
    "        df_athletic_perf['Training_Program'],\n",
    "        df_athletic_perf['Diet_Type']\n",
    "    )\n",
    "chi2_stat, p_val, dof, expected = scst.chi2_contingency(contingency_table)\n",
    "print(f'Chi2-statistic: {chi2_stat}, P-value: {p_val}')"
   ]
  },
  {
   "cell_type": "markdown",
   "metadata": {},
   "source": [
    "p_val > $\\alpha$ ==> insufficient evidence of an association"
   ]
  },
  {
   "cell_type": "markdown",
   "metadata": {},
   "source": [
    "#### Choosing the right test: petrochemicals"
   ]
  },
  {
   "cell_type": "markdown",
   "metadata": {},
   "source": [
    "In a chemistry research lab, scientists are examining the efficiency of three well-known catalysts—Palladium (Pd), Platinum (Pt), and Nickel (Ni)—in facilitating a particular reaction. Each catalyst is used in a set of identical reactions under controlled conditions, and the time taken for each reaction to reach completion is meticulously recorded. Your goal is to compare the mean reaction times across the three catalyst groups to identify which catalyst, if any, has a significantly different reaction time.\n",
    "\n",
    "The data is available in the chemical_reactions DataFrame. pandas as pd, numpy as np, and the following functions have been loaded as well:"
   ]
  },
  {
   "cell_type": "code",
   "execution_count": 64,
   "metadata": {},
   "outputs": [
    {
     "data": {
      "text/html": [
       "<div>\n",
       "<style scoped>\n",
       "    .dataframe tbody tr th:only-of-type {\n",
       "        vertical-align: middle;\n",
       "    }\n",
       "\n",
       "    .dataframe tbody tr th {\n",
       "        vertical-align: top;\n",
       "    }\n",
       "\n",
       "    .dataframe thead th {\n",
       "        text-align: right;\n",
       "    }\n",
       "</style>\n",
       "<table border=\"1\" class=\"dataframe\">\n",
       "  <thead>\n",
       "    <tr style=\"text-align: right;\">\n",
       "      <th></th>\n",
       "      <th>Catalyst</th>\n",
       "      <th>Reaction_Time</th>\n",
       "    </tr>\n",
       "  </thead>\n",
       "  <tbody>\n",
       "    <tr>\n",
       "      <th>0</th>\n",
       "      <td>Palladium</td>\n",
       "      <td>47.483571</td>\n",
       "    </tr>\n",
       "    <tr>\n",
       "      <th>1</th>\n",
       "      <td>Palladium</td>\n",
       "      <td>44.308678</td>\n",
       "    </tr>\n",
       "  </tbody>\n",
       "</table>\n",
       "</div>"
      ],
      "text/plain": [
       "    Catalyst  Reaction_Time\n",
       "0  Palladium      47.483571\n",
       "1  Palladium      44.308678"
      ]
     },
     "execution_count": 64,
     "metadata": {},
     "output_type": "execute_result"
    }
   ],
   "source": [
    "chemical_reactions = pd.read_csv('.\\data\\chemical_reactions.csv')\n",
    "chemical_reactions.head(2)"
   ]
  },
  {
   "cell_type": "code",
   "execution_count": 66,
   "metadata": {},
   "outputs": [
    {
     "name": "stdout",
     "output_type": "stream",
     "text": [
      "4.710677600047866e-151\n"
     ]
    }
   ],
   "source": [
    "catalyst_types = ['Palladium', 'Platinum', 'Nickel']\n",
    "\n",
    "# Collect reaction times for each catalyst into a list\n",
    "groups = [\n",
    "    chemical_reactions[\n",
    "        chemical_reactions['Catalyst'] == catalyst]['Reaction_Time']\n",
    "        for catalyst in catalyst_types\n",
    "]\n",
    "\n",
    "# Perform the one-way ANOVA across the three groups\n",
    "f_stat, p_val = scst.f_oneway(*groups)\n",
    "print(p_val)"
   ]
  },
  {
   "cell_type": "markdown",
   "metadata": {},
   "source": [
    "The P-value is substantially smaller than the value, indicating a significant difference in reaction times across the catalysts."
   ]
  },
  {
   "cell_type": "markdown",
   "metadata": {},
   "source": [
    "#### Choosing the right test: human resources"
   ]
  },
  {
   "cell_type": "markdown",
   "metadata": {},
   "source": [
    "In human resources, it's essential to understand the relationships between different variables that might influence employee satisfaction or turnover. Consider a scenario where an HR department is interested in understanding the association between the department in which employees work and their participation in a new workplace wellness program. The HR team has compiled this data over the past two years and has asked you if there's any significant association between an employee's department and their enrolling in the wellness program.\n",
    "\n",
    "The data is available in the hr_wellness DataFrame. pandas as pd, numpy as np, and the following functions have been loaded:"
   ]
  },
  {
   "cell_type": "code",
   "execution_count": 67,
   "metadata": {},
   "outputs": [
    {
     "data": {
      "text/html": [
       "<div>\n",
       "<style scoped>\n",
       "    .dataframe tbody tr th:only-of-type {\n",
       "        vertical-align: middle;\n",
       "    }\n",
       "\n",
       "    .dataframe tbody tr th {\n",
       "        vertical-align: top;\n",
       "    }\n",
       "\n",
       "    .dataframe thead th {\n",
       "        text-align: right;\n",
       "    }\n",
       "</style>\n",
       "<table border=\"1\" class=\"dataframe\">\n",
       "  <thead>\n",
       "    <tr style=\"text-align: right;\">\n",
       "      <th></th>\n",
       "      <th>Department</th>\n",
       "      <th>Wellness_Program_Status</th>\n",
       "    </tr>\n",
       "  </thead>\n",
       "  <tbody>\n",
       "    <tr>\n",
       "      <th>0</th>\n",
       "      <td>Marketing</td>\n",
       "      <td>Enrolled</td>\n",
       "    </tr>\n",
       "    <tr>\n",
       "      <th>1</th>\n",
       "      <td>Sales</td>\n",
       "      <td>Enrolled</td>\n",
       "    </tr>\n",
       "    <tr>\n",
       "      <th>2</th>\n",
       "      <td>Marketing</td>\n",
       "      <td>Not Enrolled</td>\n",
       "    </tr>\n",
       "  </tbody>\n",
       "</table>\n",
       "</div>"
      ],
      "text/plain": [
       "  Department Wellness_Program_Status\n",
       "0  Marketing                Enrolled\n",
       "1      Sales                Enrolled\n",
       "2  Marketing            Not Enrolled"
      ]
     },
     "execution_count": 67,
     "metadata": {},
     "output_type": "execute_result"
    }
   ],
   "source": [
    "hr_wellness = pd.read_csv(r'.\\data\\hr_wellness.csv')\n",
    "hr_wellness.head(3)"
   ]
  },
  {
   "cell_type": "code",
   "execution_count": 74,
   "metadata": {},
   "outputs": [
    {
     "name": "stdout",
     "output_type": "stream",
     "text": [
      "0.18\n",
      "Wellness_Program_Status  Enrolled  Not Enrolled\n",
      "Department                                     \n",
      "Engineering                   279           187\n",
      "Marketing                     276           186\n",
      "Sales                         269           223\n"
     ]
    }
   ],
   "source": [
    "# Create a contingency table\n",
    "contingency_table = pd.crosstab(\n",
    "    hr_wellness['Department'], \n",
    "    hr_wellness['Wellness_Program_Status']\n",
    ")\n",
    "\n",
    "# Perform the chi-square test of association\n",
    "chi2_stat, p_val, dof, expected =\\\n",
    "    scst.chi2_contingency(contingency_table)\n",
    "print(f'{p_val:.2f}')\n",
    "print(contingency_table)"
   ]
  },
  {
   "cell_type": "markdown",
   "metadata": {},
   "source": [
    "The P-value being greater than 0.05 suggests no significant association between the variables."
   ]
  },
  {
   "cell_type": "markdown",
   "metadata": {},
   "source": [
    "#### Choosing the right test: finance"
   ]
  },
  {
   "cell_type": "markdown",
   "metadata": {},
   "source": [
    "\n",
    "In the realm of finance, investment strategists are continually evaluating different approaches to maximize returns. Consider a scenario where a financial firm wishes to assess the effectiveness of two investment strategies: \"Quantitative Analysis\" and \"Fundamental Analysis\". The firm has applied each strategy to a separate set of investment portfolios for a year and now asks you to compare the annual returns to determine if there is any difference in strategy returns by comparing the mean returns of the two groups.\n",
    "\n",
    "The data is available in the investment_returns DataFrame. pandas as pd, numpy as np, and the following functions have been loaded as well:"
   ]
  },
  {
   "cell_type": "code",
   "execution_count": 75,
   "metadata": {},
   "outputs": [
    {
     "data": {
      "text/html": [
       "<div>\n",
       "<style scoped>\n",
       "    .dataframe tbody tr th:only-of-type {\n",
       "        vertical-align: middle;\n",
       "    }\n",
       "\n",
       "    .dataframe tbody tr th {\n",
       "        vertical-align: top;\n",
       "    }\n",
       "\n",
       "    .dataframe thead th {\n",
       "        text-align: right;\n",
       "    }\n",
       "</style>\n",
       "<table border=\"1\" class=\"dataframe\">\n",
       "  <thead>\n",
       "    <tr style=\"text-align: right;\">\n",
       "      <th></th>\n",
       "      <th>Strategy_Type</th>\n",
       "      <th>Annual_Return</th>\n",
       "    </tr>\n",
       "  </thead>\n",
       "  <tbody>\n",
       "    <tr>\n",
       "      <th>0</th>\n",
       "      <td>Quantitative</td>\n",
       "      <td>10.597379</td>\n",
       "    </tr>\n",
       "    <tr>\n",
       "      <th>1</th>\n",
       "      <td>Quantitative</td>\n",
       "      <td>1.656248</td>\n",
       "    </tr>\n",
       "    <tr>\n",
       "      <th>2</th>\n",
       "      <td>Quantitative</td>\n",
       "      <td>9.202100</td>\n",
       "    </tr>\n",
       "  </tbody>\n",
       "</table>\n",
       "</div>"
      ],
      "text/plain": [
       "  Strategy_Type  Annual_Return\n",
       "0  Quantitative      10.597379\n",
       "1  Quantitative       1.656248\n",
       "2  Quantitative       9.202100"
      ]
     },
     "execution_count": 75,
     "metadata": {},
     "output_type": "execute_result"
    }
   ],
   "source": [
    "investment_returns = pd.read_csv(r'.\\data\\investment_returns.csv')\n",
    "investment_returns.head(3)"
   ]
  },
  {
   "cell_type": "code",
   "execution_count": 76,
   "metadata": {},
   "outputs": [
    {
     "name": "stdout",
     "output_type": "stream",
     "text": [
      "2.0567003424807143e-14\n"
     ]
    }
   ],
   "source": [
    "# Separate the annual returns by strategy type\n",
    "quantitative_returns = investment_returns[investment_returns['Strategy_Type'] == 'Quantitative']['Annual_Return']\n",
    "fundamental_returns = investment_returns[investment_returns['Strategy_Type'] == 'Fundamental']['Annual_Return']\n",
    "\n",
    "# Perform the independent samples t-test between the two groups\n",
    "t_stat, p_val = scst.ttest_ind(quantitative_returns, fundamental_returns)\n",
    "print(p_val)"
   ]
  },
  {
   "cell_type": "markdown",
   "metadata": {},
   "source": [
    "Given the very small p-value of around 0.000000000000002, we have evidence of a difference in returns for any reasonable choice of alpha."
   ]
  },
  {
   "cell_type": "markdown",
   "metadata": {},
   "source": [
    "### Post-hoc analysis following ANOVA"
   ]
  },
  {
   "cell_type": "code",
   "execution_count": 79,
   "metadata": {},
   "outputs": [
    {
     "data": {
      "text/html": [
       "<div>\n",
       "<style scoped>\n",
       "    .dataframe tbody tr th:only-of-type {\n",
       "        vertical-align: middle;\n",
       "    }\n",
       "\n",
       "    .dataframe tbody tr th {\n",
       "        vertical-align: top;\n",
       "    }\n",
       "\n",
       "    .dataframe thead th {\n",
       "        text-align: right;\n",
       "    }\n",
       "</style>\n",
       "<table border=\"1\" class=\"dataframe\">\n",
       "  <thead>\n",
       "    <tr style=\"text-align: right;\">\n",
       "      <th></th>\n",
       "      <th>Catalyst</th>\n",
       "      <th>Reaction_Time</th>\n",
       "    </tr>\n",
       "  </thead>\n",
       "  <tbody>\n",
       "    <tr>\n",
       "      <th>170</th>\n",
       "      <td>Palladium</td>\n",
       "      <td>40.552428</td>\n",
       "    </tr>\n",
       "    <tr>\n",
       "      <th>215</th>\n",
       "      <td>Palladium</td>\n",
       "      <td>48.794846</td>\n",
       "    </tr>\n",
       "    <tr>\n",
       "      <th>954</th>\n",
       "      <td>Nickel</td>\n",
       "      <td>49.589244</td>\n",
       "    </tr>\n",
       "    <tr>\n",
       "      <th>673</th>\n",
       "      <td>Platinum</td>\n",
       "      <td>38.142796</td>\n",
       "    </tr>\n",
       "    <tr>\n",
       "      <th>1080</th>\n",
       "      <td>Nickel</td>\n",
       "      <td>48.256739</td>\n",
       "    </tr>\n",
       "    <tr>\n",
       "      <th>706</th>\n",
       "      <td>Platinum</td>\n",
       "      <td>33.597853</td>\n",
       "    </tr>\n",
       "  </tbody>\n",
       "</table>\n",
       "</div>"
      ],
      "text/plain": [
       "       Catalyst  Reaction_Time\n",
       "170   Palladium      40.552428\n",
       "215   Palladium      48.794846\n",
       "954      Nickel      49.589244\n",
       "673    Platinum      38.142796\n",
       "1080     Nickel      48.256739\n",
       "706    Platinum      33.597853"
      ]
     },
     "execution_count": 79,
     "metadata": {},
     "output_type": "execute_result"
    }
   ],
   "source": [
    "chemical_reactions.sample(6)"
   ]
  },
  {
   "cell_type": "code",
   "execution_count": 81,
   "metadata": {},
   "outputs": [
    {
     "name": "stdout",
     "output_type": "stream",
     "text": [
      "           Reaction_Time\n",
      "Catalyst                \n",
      "Nickel         50.782139\n",
      "Palladium      45.105022\n",
      "Platinum       39.716107\n",
      "4.710677600047866e-151\n"
     ]
    }
   ],
   "source": [
    "# Pivot to view the mean anxiety reduction for each therapy\n",
    "pivot_table = chemical_reactions.pivot_table(\n",
    "    values='Reaction_Time', \n",
    "    index='Catalyst', \n",
    "    aggfunc=\"mean\")\n",
    "print(pivot_table)\n",
    "\n",
    "# Create groups to prepare the data for ANOVA\n",
    "catalyst_types = list(chemical_reactions['Catalyst'].unique())\n",
    "groups = [chemical_reactions[chemical_reactions['Catalyst'] == catalyst]['Reaction_Time'] for catalyst in catalyst_types]\n",
    "\n",
    "# Conduct ANOVA\n",
    "f_stat, p_val = scst.f_oneway(*groups)\n",
    "print(p_val)"
   ]
  },
  {
   "cell_type": "markdown",
   "metadata": {},
   "source": [
    "By analyzing the data with ANOVA, you've taken an important step in comparing the effectiveness of different therapies. Assuming an alpha of 0.05, the P-value of 4.710677600047866e-151 indicates significant differences in catalyst effectiveness."
   ]
  },
  {
   "cell_type": "markdown",
   "metadata": {},
   "source": [
    "#### Applying Tukey's HSD"
   ]
  },
  {
   "cell_type": "markdown",
   "metadata": {},
   "source": [
    "\n",
    "Following the ANOVA analysis which suggested significant differences in the effectiveness of the three types of therapy, the psychologists are keen to delve deeper. They wish for you to explain exactly which therapy types differ from each other in terms of reducing anxiety levels. This is where Tukey's Honest Significant Difference (HSD) test comes into play. It's a post-hoc test used to make pairwise comparisons between group means after an ANOVA has shown a significant difference. Tukey's HSD test helps in identifying specific pairs of groups that have significant differences in their means.\n",
    "\n",
    "The therapy_outcomes DataFrame containing this experiment data has again been loaded along with pandas as pd and from statsmodels.stats.multicomp import pairwise_tukeyhsd."
   ]
  },
  {
   "cell_type": "code",
   "execution_count": 82,
   "metadata": {},
   "outputs": [
    {
     "name": "stdout",
     "output_type": "stream",
     "text": [
      "    Multiple Comparison of Means - Tukey HSD, FWER=0.05    \n",
      "===========================================================\n",
      "  group1    group2  meandiff p-adj  lower    upper   reject\n",
      "-----------------------------------------------------------\n",
      "   Nickel Palladium  -5.6771   0.0  -6.5165  -4.8377   True\n",
      "   Nickel  Platinum  -11.066   0.0 -11.9054 -10.2267   True\n",
      "Palladium  Platinum  -5.3889   0.0  -6.2283  -4.5495   True\n",
      "-----------------------------------------------------------\n"
     ]
    }
   ],
   "source": [
    "# Perform Tukey's HSD test\n",
    "import statsmodels.stats.multicomp as stsm\n",
    "tukey_results =  stsm.pairwise_tukeyhsd(\n",
    "    chemical_reactions['Reaction_Time'], \n",
    "    chemical_reactions['Catalyst'], \n",
    "    alpha=0.05\n",
    ")\n",
    "\n",
    "print(tukey_results)"
   ]
  },
  {
   "cell_type": "markdown",
   "metadata": {},
   "source": [
    "#### Applying Bonferoni correction"
   ]
  },
  {
   "cell_type": "markdown",
   "metadata": {},
   "source": [
    "After identifying significant differences between therapy groups with Tukey's HSD, we want to confirm our findings with the Bonferroni correction. The Bonferroni correction is a conservative statistical adjustment used to counteract the problem of multiple comparisons. It reduces the chance of obtaining false-positive results by adjusting the significance level. In the context of your study on the effectiveness of CBT, DBT, and ACT, applying the Bonferroni correction will help ensure that the significant differences you observe between therapy groups are not due to chance.\n",
    "\n",
    "The therapy_outcomes DataFrame has again been loaded along with pandas as pd, from scipy.stats import ttest_ind, and from statsmodels.sandbox.stats.multicomp import multipletests"
   ]
  },
  {
   "cell_type": "code",
   "execution_count": 93,
   "metadata": {},
   "outputs": [],
   "source": [
    "import statsmodels.sandbox.stats.multicomp as smssm\n",
    "import itertools as itt\n",
    "catalyst_pairs = list(itt.combinations(chemical_reactions['Catalyst'].unique(),2))\n",
    "p_values = []"
   ]
  },
  {
   "cell_type": "code",
   "execution_count": 96,
   "metadata": {},
   "outputs": [
    {
     "name": "stdout",
     "output_type": "stream",
     "text": [
      "[1.1525552676356586e-44, 7.328320816797816e-51, 4.0342356187468826e-133]\n"
     ]
    }
   ],
   "source": [
    "for catalyst in catalyst_pairs:\n",
    "    group1 = chemical_reactions[chemical_reactions['Catalyst']==catalyst[0]]['Reaction_Time']\n",
    "    group2 = chemical_reactions[chemical_reactions['Catalyst']==catalyst[1]]['Reaction_Time']\n",
    "    t_stat, p_val = scst.ttest_ind(group1, group2)\n",
    "    p_values.append(p_val)\n",
    "\n",
    "print(p_values)"
   ]
  },
  {
   "cell_type": "code",
   "execution_count": 97,
   "metadata": {},
   "outputs": [
    {
     "name": "stdout",
     "output_type": "stream",
     "text": [
      "Adjusted P-values: [3.45766580e-044 2.19849625e-050 1.21027069e-132]\n"
     ]
    }
   ],
   "source": [
    "p_adjusted = smssm.multipletests(p_values, alpha=0.05, method='bonferroni')\n",
    "print(f\"Adjusted P-values: {p_adjusted[1]}\")\n",
    "# Adjusted P-values: [5.33634403e-133 2.17627991e-043 5.62590083e-029]\n"
   ]
  },
  {
   "cell_type": "markdown",
   "metadata": {},
   "source": [
    "### P-values, alpha, and errors"
   ]
  },
  {
   "cell_type": "code",
   "execution_count": null,
   "metadata": {},
   "outputs": [],
   "source": []
  }
 ],
 "metadata": {
  "kernelspec": {
   "display_name": "Python 3",
   "language": "python",
   "name": "python3"
  },
  "language_info": {
   "codemirror_mode": {
    "name": "ipython",
    "version": 3
   },
   "file_extension": ".py",
   "mimetype": "text/x-python",
   "name": "python",
   "nbconvert_exporter": "python",
   "pygments_lexer": "ipython3",
   "version": "3.11.5"
  }
 },
 "nbformat": 4,
 "nbformat_minor": 2
}
