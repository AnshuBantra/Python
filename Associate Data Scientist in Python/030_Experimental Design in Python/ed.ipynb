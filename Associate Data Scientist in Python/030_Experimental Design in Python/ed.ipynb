8{
 "cells": [
  {
   "cell_type": "markdown",
   "metadata": {},
   "source": [
    "# Experimental Design in Python"
   ]
  },
  {
   "cell_type": "markdown",
   "metadata": {},
   "source": [
    "## Experimental Design Preliminaries"
   ]
  },
  {
   "cell_type": "markdown",
   "metadata": {},
   "source": [
    "### Setting up experiments"
   ]
  },
  {
   "cell_type": "markdown",
   "metadata": {},
   "source": [
    "#### Non-random assignment of subjects\n",
    "An agricultural firm is conducting an experiment to measure how feeding sheep different types of grass affects their weight. They have asked for your help to properly set up the experiment. One of their managers has said you can perform the subject assignment by taking the top 250 rows from the DataFrame and that should be fine.\n",
    "\n",
    "Your task is to use your analytical skills to demonstrate why this might not be a good idea. Assign the subjects to two groups using non-random assignment (the first 250 rows) and observe the differences in descriptive statistics.\n",
    "\n",
    "You have received the DataFrame, weights which has a column containing the weight of the sheep and a unique id column.\n",
    "\n",
    "numpy and pandas have been imported as np and pd, respectively."
   ]
  },
  {
   "cell_type": "code",
<<<<<<< HEAD
   "execution_count": 1,
=======
   "execution_count": 65,
>>>>>>> fc1f36cec5cfeebf73447eea0991b96831063aa0
   "metadata": {},
   "outputs": [],
   "source": [
    "import numpy as np\n",
    "import pandas as pd"
   ]
  },
  {
   "cell_type": "code",
<<<<<<< HEAD
   "execution_count": 2,
=======
   "execution_count": 66,
>>>>>>> fc1f36cec5cfeebf73447eea0991b96831063aa0
   "metadata": {},
   "outputs": [
    {
     "data": {
      "text/html": [
       "<div>\n",
       "<style scoped>\n",
       "    .dataframe tbody tr th:only-of-type {\n",
       "        vertical-align: middle;\n",
       "    }\n",
       "\n",
       "    .dataframe tbody tr th {\n",
       "        vertical-align: top;\n",
       "    }\n",
       "\n",
       "    .dataframe thead th {\n",
       "        text-align: right;\n",
       "    }\n",
       "</style>\n",
       "<table border=\"1\" class=\"dataframe\">\n",
       "  <thead>\n",
       "    <tr style=\"text-align: right;\">\n",
       "      <th></th>\n",
       "      <th>weight</th>\n",
       "      <th>Time</th>\n",
       "      <th>Chick</th>\n",
       "      <th>Diet</th>\n",
       "    </tr>\n",
       "  </thead>\n",
       "  <tbody>\n",
       "    <tr>\n",
       "      <th>0</th>\n",
       "      <td>42</td>\n",
       "      <td>0</td>\n",
       "      <td>1</td>\n",
       "      <td>1</td>\n",
       "    </tr>\n",
       "    <tr>\n",
       "      <th>1</th>\n",
       "      <td>51</td>\n",
       "      <td>2</td>\n",
       "      <td>1</td>\n",
       "      <td>1</td>\n",
       "    </tr>\n",
       "    <tr>\n",
       "      <th>2</th>\n",
       "      <td>59</td>\n",
       "      <td>4</td>\n",
       "      <td>1</td>\n",
       "      <td>1</td>\n",
       "    </tr>\n",
       "    <tr>\n",
       "      <th>3</th>\n",
       "      <td>64</td>\n",
       "      <td>6</td>\n",
       "      <td>1</td>\n",
       "      <td>1</td>\n",
       "    </tr>\n",
       "    <tr>\n",
       "      <th>4</th>\n",
       "      <td>76</td>\n",
       "      <td>8</td>\n",
       "      <td>1</td>\n",
       "      <td>1</td>\n",
       "    </tr>\n",
       "  </tbody>\n",
       "</table>\n",
       "</div>"
      ],
      "text/plain": [
       "   weight  Time  Chick  Diet\n",
       "0      42     0      1     1\n",
       "1      51     2      1     1\n",
       "2      59     4      1     1\n",
       "3      64     6      1     1\n",
       "4      76     8      1     1"
      ]
     },
<<<<<<< HEAD
     "execution_count": 2,
=======
     "execution_count": 66,
>>>>>>> fc1f36cec5cfeebf73447eea0991b96831063aa0
     "metadata": {},
     "output_type": "execute_result"
    }
   ],
   "source": [
    "df_chick_weights = pd.read_csv(r'.\\data\\chick_weight.csv')\n",
    "df_chick_weights.head()"
   ]
  },
  {
   "cell_type": "code",
<<<<<<< HEAD
   "execution_count": 3,
=======
   "execution_count": 67,
>>>>>>> fc1f36cec5cfeebf73447eea0991b96831063aa0
   "metadata": {},
   "outputs": [
    {
     "name": "stdout",
     "output_type": "stream",
     "text": [
      "           group1      group2\n",
      "count  290.000000  289.000000\n",
      "mean   106.831034  137.145329\n",
      "std     61.521165   76.707912\n",
      "min     35.000000   39.000000\n",
      "25%     59.000000   69.000000\n",
      "50%     89.000000  126.000000\n",
      "75%    141.750000  186.000000\n",
      "max    331.000000  373.000000\n"
     ]
    }
   ],
   "source": [
    "# Non-random assignment\n",
    "group1_non_rand = df_chick_weights.loc[:289,['weight']]\n",
    "group2_non_rand = df_chick_weights.loc[289:,['weight']]\n",
    "\n",
    "# Compare descriptive statistics of groups\n",
    "compare_df_non_rand = \\\n",
    "    pd.concat(\n",
    "        [group1_non_rand['weight'].describe(),\n",
    "        group2_non_rand['weight'].describe()],\n",
    "        axis=1\n",
    "    )\n",
    "compare_df_non_rand.columns = ['group1', 'group2']\n",
    "\n",
    "# Print to assess\n",
    "print(compare_df_non_rand)"
   ]
  },
  {
   "cell_type": "markdown",
   "metadata": {},
   "source": [
    "#### Random assignment of subjects\n",
    "Having built trust from your last work with the agricultural firm, you have been given the task of properly setting up the experiment.\n",
    "\n",
    "Use your knowledge of best practice experimental design set up to assign the sheep to two even groups of 250 each."
   ]
  },
  {
   "cell_type": "code",
<<<<<<< HEAD
   "execution_count": 4,
=======
   "execution_count": 68,
>>>>>>> fc1f36cec5cfeebf73447eea0991b96831063aa0
   "metadata": {},
   "outputs": [
    {
     "name": "stdout",
     "output_type": "stream",
     "text": [
      "           group1      group2\n",
      "count  289.000000  289.000000\n",
      "mean   120.044983  123.591696\n",
      "std     70.089685   72.118725\n",
      "min     35.000000   39.000000\n",
      "25%     62.000000   63.000000\n",
      "50%    105.000000  103.000000\n",
      "75%    163.000000  164.000000\n",
      "max    373.000000  361.000000\n"
     ]
    }
   ],
   "source": [
    "# Randomly assign half\n",
    "group1_random = df_chick_weights.sample(\n",
    "    frac=0.5,\n",
    "    random_state=42,\n",
    "    replace=False\n",
    ")\n",
    "\n",
    "# Create second assignment\n",
    "group2_random = df_chick_weights.drop(\n",
    "    group1_random.index\n",
    ")\n",
    "\n",
    "# Compare assignments\n",
    "compare_df_random = pd.concat(\n",
    "    [group1_random['weight'].describe(),\n",
    "    group2_random['weight'].describe()],\n",
    "    axis=1\n",
    ")\n",
    "compare_df_random.columns = ['group1', 'group2']\n",
    "print(compare_df_random)"
   ]
  },
  {
   "cell_type": "markdown",
   "metadata": {},
   "source": [
    "### Experimental data setup"
   ]
  },
  {
   "cell_type": "markdown",
   "metadata": {},
   "source": [
    "#### Test"
   ]
  },
  {
   "cell_type": "code",
<<<<<<< HEAD
   "execution_count": 5,
=======
   "execution_count": 69,
>>>>>>> fc1f36cec5cfeebf73447eea0991b96831063aa0
   "metadata": {},
   "outputs": [
    {
     "data": {
      "text/html": [
       "<div>\n",
       "<style scoped>\n",
       "    .dataframe tbody tr th:only-of-type {\n",
       "        vertical-align: middle;\n",
       "    }\n",
       "\n",
       "    .dataframe tbody tr th {\n",
       "        vertical-align: top;\n",
       "    }\n",
       "\n",
       "    .dataframe thead th {\n",
       "        text-align: right;\n",
       "    }\n",
       "</style>\n",
       "<table border=\"1\" class=\"dataframe\">\n",
       "  <thead>\n",
       "    <tr style=\"text-align: right;\">\n",
       "      <th></th>\n",
       "      <th>weight</th>\n",
       "      <th>Time</th>\n",
       "      <th>Chick</th>\n",
       "      <th>Diet</th>\n",
       "    </tr>\n",
       "  </thead>\n",
       "  <tbody>\n",
       "    <tr>\n",
       "      <th>0</th>\n",
       "      <td>42</td>\n",
       "      <td>0</td>\n",
       "      <td>1</td>\n",
       "      <td>1</td>\n",
       "    </tr>\n",
       "    <tr>\n",
       "      <th>1</th>\n",
       "      <td>51</td>\n",
       "      <td>2</td>\n",
       "      <td>1</td>\n",
       "      <td>1</td>\n",
       "    </tr>\n",
       "    <tr>\n",
       "      <th>2</th>\n",
       "      <td>59</td>\n",
       "      <td>4</td>\n",
       "      <td>1</td>\n",
       "      <td>1</td>\n",
       "    </tr>\n",
       "    <tr>\n",
       "      <th>3</th>\n",
       "      <td>64</td>\n",
       "      <td>6</td>\n",
       "      <td>1</td>\n",
       "      <td>1</td>\n",
       "    </tr>\n",
       "    <tr>\n",
       "      <th>4</th>\n",
       "      <td>76</td>\n",
       "      <td>8</td>\n",
       "      <td>1</td>\n",
       "      <td>1</td>\n",
       "    </tr>\n",
       "  </tbody>\n",
       "</table>\n",
       "</div>"
      ],
      "text/plain": [
       "   weight  Time  Chick  Diet\n",
       "0      42     0      1     1\n",
       "1      51     2      1     1\n",
       "2      59     4      1     1\n",
       "3      64     6      1     1\n",
       "4      76     8      1     1"
      ]
     },
<<<<<<< HEAD
     "execution_count": 5,
=======
     "execution_count": 69,
>>>>>>> fc1f36cec5cfeebf73447eea0991b96831063aa0
     "metadata": {},
     "output_type": "execute_result"
    }
   ],
   "source": [
    "df_chick_weights.head()"
   ]
  },
  {
   "cell_type": "code",
<<<<<<< HEAD
   "execution_count": 6,
=======
   "execution_count": 70,
>>>>>>> fc1f36cec5cfeebf73447eea0991b96831063aa0
   "metadata": {},
   "outputs": [
    {
     "data": {
      "image/png": "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",
      "text/plain": [
       "<Figure size 762.375x360 with 1 Axes>"
      ]
     },
     "metadata": {
      "needs_background": "light"
     },
     "output_type": "display_data"
    }
   ],
   "source": [
    "import seaborn as sns\n",
    "import matplotlib.pyplot as plt\n",
    "import warnings\n",
    "warnings.filterwarnings('ignore')\n",
    "\n",
    "sns.displot(  data=df_chick_weights,\n",
    "              x='weight',\n",
    "              hue='Diet',\n",
    "              kind='kde',\n",
    "              aspect=2\n",
    "          )\n",
    "plt.show();"
   ]
  },
  {
   "cell_type": "markdown",
   "metadata": {},
   "source": [
    "#### Blocking experimental data"
   ]
  },
  {
   "cell_type": "markdown",
   "metadata": {},
   "source": [
    "You are working with a manufacturing firm that wants to conduct some experiments on worker productivity. Their dataset only contains 100 rows, so it's important that experimental groups are balanced.\n",
    "\n",
    "This sounds like a great opportunity to use your knowledge of blocking to assist them. They have provided a productivity_subjects DataFrame. Split the provided dataset into two even groups of 50 entries each."
   ]
  },
  {
   "cell_type": "code",
<<<<<<< HEAD
   "execution_count": 7,
   "metadata": {},
   "outputs": [
    {
     "data": {
      "text/plain": [
       "(300, 1)"
      ]
     },
     "execution_count": 7,
     "metadata": {},
     "output_type": "execute_result"
    }
   ],
   "source": [
    "df_athletic_perf = pd.read_csv(r'.\\data\\athletic_perf.csv')\n",
    "productivity_subjects=df_athletic_perf[['Athlete_ID']]\n",
    "productivity_subjects.shape"
   ]
  },
  {
   "cell_type": "code",
   "execution_count": 8,
=======
   "execution_count": null,
   "metadata": {},
   "outputs": [],
   "source": []
  },
  {
   "cell_type": "code",
   "execution_count": null,
   "metadata": {},
   "outputs": [],
   "source": []
  },
  {
   "cell_type": "markdown",
>>>>>>> fc1f36cec5cfeebf73447eea0991b96831063aa0
   "metadata": {},
   "source": [
    "## Experimental Design Techniques"
   ]
  },
  {
   "cell_type": "markdown",
   "metadata": {},
   "source": [
    "### Factorial designs: principles and applications"
   ]
  },
  {
   "cell_type": "code",
<<<<<<< HEAD
   "execution_count": 9,
   "metadata": {},
   "outputs": [
    {
     "data": {
      "text/plain": [
       "array(['Strength', 'HIIT', 'Endurance'], dtype=object)"
      ]
     },
     "execution_count": 9,
     "metadata": {},
     "output_type": "execute_result"
    }
   ],
   "source": [
    "df_athletic_perf['Training_Program'].unique()"
   ]
  },
  {
   "cell_type": "code",
   "execution_count": 10,
=======
   "execution_count": 71,
>>>>>>> fc1f36cec5cfeebf73447eea0991b96831063aa0
   "metadata": {},
   "outputs": [
    {
     "data": {
      "text/html": [
       "<div>\n",
       "<style scoped>\n",
       "    .dataframe tbody tr th:only-of-type {\n",
       "        vertical-align: middle;\n",
       "    }\n",
       "\n",
       "    .dataframe tbody tr th {\n",
       "        vertical-align: top;\n",
       "    }\n",
       "\n",
       "    .dataframe thead th {\n",
       "        text-align: right;\n",
       "    }\n",
       "</style>\n",
       "<table border=\"1\" class=\"dataframe\">\n",
       "  <thead>\n",
       "    <tr style=\"text-align: right;\">\n",
       "      <th></th>\n",
       "      <th>Messaging_Style</th>\n",
       "      <th>Time_of_Day</th>\n",
       "      <th>Click_Through_Rate</th>\n",
       "      <th>Conversions</th>\n",
       "    </tr>\n",
       "  </thead>\n",
       "  <tbody>\n",
       "    <tr>\n",
       "      <th>0</th>\n",
       "      <td>Casual</td>\n",
       "      <td>Morning</td>\n",
       "      <td>0.640465</td>\n",
       "      <td>500</td>\n",
       "    </tr>\n",
       "    <tr>\n",
       "      <th>1</th>\n",
       "      <td>Formal</td>\n",
       "      <td>Evening</td>\n",
       "      <td>0.698533</td>\n",
       "      <td>598</td>\n",
       "    </tr>\n",
       "    <tr>\n",
       "      <th>2</th>\n",
       "      <td>Casual</td>\n",
       "      <td>Morning</td>\n",
       "      <td>0.257834</td>\n",
       "      <td>234</td>\n",
       "    </tr>\n",
       "    <tr>\n",
       "      <th>3</th>\n",
       "      <td>Casual</td>\n",
       "      <td>Evening</td>\n",
       "      <td>0.922971</td>\n",
       "      <td>602</td>\n",
       "    </tr>\n",
       "    <tr>\n",
       "      <th>4</th>\n",
       "      <td>Casual</td>\n",
       "      <td>Morning</td>\n",
       "      <td>0.476893</td>\n",
       "      <td>314</td>\n",
       "    </tr>\n",
       "  </tbody>\n",
       "</table>\n",
       "</div>"
      ],
      "text/plain": [
       "  Messaging_Style Time_of_Day  Click_Through_Rate  Conversions\n",
       "0          Casual     Morning            0.640465          500\n",
       "1          Formal     Evening            0.698533          598\n",
       "2          Casual     Morning            0.257834          234\n",
       "3          Casual     Evening            0.922971          602\n",
       "4          Casual     Morning            0.476893          314"
      ]
     },
<<<<<<< HEAD
     "execution_count": 10,
=======
     "execution_count": 71,
>>>>>>> fc1f36cec5cfeebf73447eea0991b96831063aa0
     "metadata": {},
     "output_type": "execute_result"
    }
   ],
   "source": [
    "import pandas as pd\n",
    "marketing_data = pd.read_feather(r'./data/marketing_data.feather')\n",
    "marketing_data.head()"
   ]
  },
  {
   "cell_type": "code",
<<<<<<< HEAD
   "execution_count": 11,
=======
   "execution_count": 72,
>>>>>>> fc1f36cec5cfeebf73447eea0991b96831063aa0
   "metadata": {},
   "outputs": [
    {
     "name": "stdout",
     "output_type": "stream",
     "text": [
      "Time_of_Day         Evening     Morning\n",
      "Messaging_Style                        \n",
      "Casual           402.329004  401.133891\n",
      "Formal           432.913043  411.096000\n"
     ]
    }
   ],
   "source": [
    "marketing_pivot =\\\n",
    "  pd.pivot_table(\n",
    "    marketing_data,\n",
    "    values='Conversions',\n",
    "    index='Messaging_Style',\n",
    "    columns='Time_of_Day',\n",
    "    aggfunc='mean'\n",
    ")\n",
    "print(marketing_pivot)"
   ]
  },
  {
   "cell_type": "code",
<<<<<<< HEAD
   "execution_count": 12,
=======
   "execution_count": 73,
   "metadata": {},
   "outputs": [
    {
     "data": {
      "image/png": "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",
      "text/plain": [
       "<Figure size 432x288 with 2 Axes>"
      ]
     },
     "metadata": {
      "needs_background": "light"
     },
     "output_type": "display_data"
    }
   ],
   "source": [
    "import seaborn as sns\n",
    "import matplotlib.pyplot as plt\n",
    "# Visualize interactions with a heatmap\n",
    "sns.heatmap(\n",
    "    marketing_pivot,\n",
    "    annot=True,\n",
    "    cmap='coolwarm',\n",
    "    fmt='g')\n",
    "\n",
    "plt.show()"
   ]
  },
  {
   "cell_type": "markdown",
   "metadata": {},
   "source": [
    "### Randomized block design: controlling variance"
   ]
  },
  {
   "cell_type": "code",
   "execution_count": 88,
>>>>>>> fc1f36cec5cfeebf73447eea0991b96831063aa0
   "metadata": {},
   "outputs": [
    {
     "data": {
      "text/html": [
       "<div>\n",
       "<style scoped>\n",
       "    .dataframe tbody tr th:only-of-type {\n",
       "        vertical-align: middle;\n",
       "    }\n",
       "\n",
       "    .dataframe tbody tr th {\n",
       "        vertical-align: top;\n",
       "    }\n",
       "\n",
       "    .dataframe thead th {\n",
       "        text-align: right;\n",
       "    }\n",
       "</style>\n",
       "<table border=\"1\" class=\"dataframe\">\n",
       "  <thead>\n",
       "    <tr style=\"text-align: right;\">\n",
       "      <th></th>\n",
       "      <th>Athlete_ID</th>\n",
       "      <th>Training_Program</th>\n",
       "      <th>Diet_Type</th>\n",
       "      <th>Initial_Fitness</th>\n",
       "      <th>Performance_Inc</th>\n",
       "    </tr>\n",
       "  </thead>\n",
       "  <tbody>\n",
       "    <tr>\n",
       "      <th>0</th>\n",
       "      <td>1</td>\n",
       "      <td>Strength</td>\n",
       "      <td>Keto</td>\n",
       "      <td>Low</td>\n",
       "      <td>8.749524</td>\n",
       "    </tr>\n",
       "    <tr>\n",
       "      <th>1</th>\n",
       "      <td>2</td>\n",
       "      <td>HIIT</td>\n",
       "      <td>Plant-Based</td>\n",
       "      <td>High</td>\n",
       "      <td>9.452781</td>\n",
       "    </tr>\n",
       "    <tr>\n",
       "      <th>2</th>\n",
       "      <td>3</td>\n",
       "      <td>Strength</td>\n",
       "      <td>Plant-Based</td>\n",
       "      <td>Low</td>\n",
       "      <td>13.928506</td>\n",
       "    </tr>\n",
       "  </tbody>\n",
       "</table>\n",
       "</div>"
      ],
      "text/plain": [
       "   Athlete_ID Training_Program    Diet_Type Initial_Fitness  Performance_Inc\n",
       "0           1         Strength         Keto             Low         8.749524\n",
       "1           2             HIIT  Plant-Based            High         9.452781\n",
       "2           3         Strength  Plant-Based             Low        13.928506"
      ]
     },
<<<<<<< HEAD
     "execution_count": 12,
=======
     "execution_count": 88,
>>>>>>> fc1f36cec5cfeebf73447eea0991b96831063aa0
     "metadata": {},
     "output_type": "execute_result"
    }
   ],
   "source": [
<<<<<<< HEAD
    "df_athletic_perf.head(3)"
   ]
  },
  {
   "cell_type": "code",
   "execution_count": 13,
   "metadata": {},
   "outputs": [
    {
     "data": {
      "image/png": "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",
      "text/plain": [
       "<Figure size 500x500 with 1 Axes>"
      ]
     },
     "metadata": {},
     "output_type": "display_data"
    }
   ],
   "source": [
    "sns.displot(\n",
    "    data=df_athletic_perf,\n",
    "    x='Performance_Inc',\n",
    "    kind='kde'\n",
    ")\n",
    "plt.show();"
   ]
  },
  {
   "cell_type": "code",
   "execution_count": 14,
   "metadata": {},
   "outputs": [
    {
     "data": {
      "image/png": "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",
      "text/plain": [
       "<Figure size 640x480 with 1 Axes>"
      ]
     },
     "metadata": {},
     "output_type": "display_data"
    }
   ],
   "source": [
    "import statsmodels.graphics.gofplots as smgg\n",
    "import scipy.stats.distributions as ssd\n",
    "\n",
    "smgg.qqplot(\n",
    "    df_athletic_perf['Performance_Inc'],\n",
    "    line='s',\n",
    "    dist=ssd.norm\n",
    ")\n",
    "plt.show();"
   ]
  },
  {
   "cell_type": "markdown",
   "metadata": {},
   "source": [
    "#### Shapiro-Wilk Test"
   ]
  },
  {
   "cell_type": "code",
   "execution_count": 15,
   "metadata": {},
   "outputs": [
    {
     "name": "stdout",
     "output_type": "stream",
     "text": [
      "p: 0.6787; test stat: 0.9961\n"
     ]
    }
   ],
   "source": [
    "import scipy.stats as spst\n",
    "alpha = 0.05\n",
    "stat, p = spst.shapiro(df_athletic_perf['Performance_Inc'])\n",
    "print(f'p: {round(p,4)}; test stat: {round(stat, 4)}')"
   ]
  },
  {
   "cell_type": "markdown",
   "metadata": {},
   "source": [
    "#### Anderson-Darling Test"
   ]
  },
  {
   "cell_type": "code",
   "execution_count": 16,
   "metadata": {},
   "outputs": [
    {
     "name": "stdout",
     "output_type": "stream",
     "text": [
      "result: 0.3754\n",
      "Significance: [15.  10.   5.   2.5  1. ]\n",
      "Critical: [0.569 0.648 0.777 0.906 1.078]\n"
     ]
    }
   ],
   "source": [
    "result = spst.anderson(x=df_athletic_perf['Performance_Inc'], dist='norm')\n",
    "print(f'result: {round(result.statistic, 4)}\\nSignificance: {result.significance_level}\\nCritical: {result.critical_values}')"
   ]
  },
  {
   "cell_type": "markdown",
   "metadata": {},
   "source": [
    "#### Visual normality in an agricultural experiment"
   ]
  },
  {
   "cell_type": "markdown",
   "metadata": {},
   "source": [
    "You have been contracted by an agricultural firm conducting an experiment on 50 chickens, divided into four groups, each fed a different diet. Weight measurements were taken every second day for 20 days.\n",
    "\n",
    "You'll analyze chicken_data to assess normality, which will determine the suitability of parametric statistical tests, beginning with a visual examination of the data distribution."
   ]
  },
  {
   "cell_type": "code",
   "execution_count": 17,
   "metadata": {},
   "outputs": [],
   "source": [
    "import seaborn as sns\n",
=======
>>>>>>> fc1f36cec5cfeebf73447eea0991b96831063aa0
    "import pandas as pd\n",
    "import numpy as np\n",
    "import seaborn as sns\n",
    "athletes = pd.read_csv(r'.\\data\\athletic_perf.csv')\n",
    "athletes.head(3)"
   ]
  },
  {
   "cell_type": "code",
<<<<<<< HEAD
   "execution_count": 18,
=======
   "execution_count": 80,
   "metadata": {},
   "outputs": [
    {
     "data": {
      "text/plain": [
       "array(['Low', 'High', 'Medium'], dtype=object)"
      ]
     },
     "execution_count": 80,
     "metadata": {},
     "output_type": "execute_result"
    }
   ],
   "source": [
    "athletes['Initial_Fitness'].unique()"
   ]
  },
  {
   "cell_type": "code",
   "execution_count": 77,
>>>>>>> fc1f36cec5cfeebf73447eea0991b96831063aa0
   "metadata": {},
   "outputs": [
    {
     "data": {
      "text/html": [
       "<div>\n",
       "<style scoped>\n",
       "    .dataframe tbody tr th:only-of-type {\n",
       "        vertical-align: middle;\n",
       "    }\n",
       "\n",
       "    .dataframe tbody tr th {\n",
       "        vertical-align: top;\n",
       "    }\n",
       "\n",
       "    .dataframe thead th {\n",
       "        text-align: right;\n",
       "    }\n",
       "</style>\n",
       "<table border=\"1\" class=\"dataframe\">\n",
       "  <thead>\n",
       "    <tr style=\"text-align: right;\">\n",
       "      <th></th>\n",
       "      <th></th>\n",
       "      <th>Athlete_ID</th>\n",
       "      <th>Training_Program</th>\n",
       "      <th>Diet_Type</th>\n",
       "      <th>Initial_Fitness</th>\n",
       "      <th>Performance_Inc</th>\n",
       "    </tr>\n",
       "    <tr>\n",
       "      <th>Initial_Fitness</th>\n",
       "      <th></th>\n",
       "      <th></th>\n",
       "      <th></th>\n",
       "      <th></th>\n",
       "      <th></th>\n",
       "      <th></th>\n",
       "    </tr>\n",
       "  </thead>\n",
       "  <tbody>\n",
       "    <tr>\n",
       "      <th rowspan=\"5\" valign=\"top\">High</th>\n",
       "      <th>273</th>\n",
       "      <td>274</td>\n",
       "      <td>Endurance</td>\n",
       "      <td>Plant-Based</td>\n",
       "      <td>High</td>\n",
       "      <td>7.334511</td>\n",
       "    </tr>\n",
       "    <tr>\n",
       "      <th>155</th>\n",
       "      <td>156</td>\n",
       "      <td>Strength</td>\n",
       "      <td>Keto</td>\n",
       "      <td>High</td>\n",
       "      <td>8.619201</td>\n",
       "    </tr>\n",
       "    <tr>\n",
       "      <th>274</th>\n",
       "      <td>275</td>\n",
       "      <td>HIIT</td>\n",
       "      <td>High-Protein</td>\n",
       "      <td>High</td>\n",
       "      <td>15.521524</td>\n",
       "    </tr>\n",
       "    <tr>\n",
       "      <th>265</th>\n",
       "      <td>266</td>\n",
       "      <td>Endurance</td>\n",
       "      <td>High-Protein</td>\n",
       "      <td>High</td>\n",
       "      <td>4.843569</td>\n",
       "    </tr>\n",
       "    <tr>\n",
       "      <th>1</th>\n",
       "      <td>2</td>\n",
       "      <td>HIIT</td>\n",
       "      <td>Plant-Based</td>\n",
       "      <td>High</td>\n",
       "      <td>9.452781</td>\n",
       "    </tr>\n",
       "    <tr>\n",
       "      <th>...</th>\n",
       "      <th>...</th>\n",
       "      <td>...</td>\n",
       "      <td>...</td>\n",
       "      <td>...</td>\n",
       "      <td>...</td>\n",
       "      <td>...</td>\n",
       "    </tr>\n",
       "    <tr>\n",
       "      <th rowspan=\"5\" valign=\"top\">Medium</th>\n",
       "      <th>88</th>\n",
       "      <td>89</td>\n",
       "      <td>Endurance</td>\n",
       "      <td>Plant-Based</td>\n",
       "      <td>Medium</td>\n",
       "      <td>11.306799</td>\n",
       "    </tr>\n",
       "    <tr>\n",
       "      <th>271</th>\n",
       "      <td>272</td>\n",
       "      <td>Endurance</td>\n",
       "      <td>Plant-Based</td>\n",
       "      <td>Medium</td>\n",
       "      <td>8.166908</td>\n",
       "    </tr>\n",
       "    <tr>\n",
       "      <th>9</th>\n",
       "      <td>10</td>\n",
       "      <td>Strength</td>\n",
       "      <td>Plant-Based</td>\n",
       "      <td>Medium</td>\n",
       "      <td>10.138011</td>\n",
       "    </tr>\n",
       "    <tr>\n",
       "      <th>175</th>\n",
       "      <td>176</td>\n",
       "      <td>HIIT</td>\n",
       "      <td>Plant-Based</td>\n",
       "      <td>Medium</td>\n",
       "      <td>8.689780</td>\n",
       "    </tr>\n",
       "    <tr>\n",
       "      <th>238</th>\n",
       "      <td>239</td>\n",
       "      <td>Strength</td>\n",
       "      <td>High-Protein</td>\n",
       "      <td>Medium</td>\n",
       "      <td>8.745379</td>\n",
       "    </tr>\n",
       "  </tbody>\n",
       "</table>\n",
       "<p>300 rows × 5 columns</p>\n",
       "</div>"
      ],
      "text/plain": [
       "                     Athlete_ID Training_Program     Diet_Type  \\\n",
       "Initial_Fitness                                                  \n",
       "High            273         274        Endurance   Plant-Based   \n",
       "                155         156         Strength          Keto   \n",
       "                274         275             HIIT  High-Protein   \n",
       "                265         266        Endurance  High-Protein   \n",
       "                1             2             HIIT   Plant-Based   \n",
       "...                         ...              ...           ...   \n",
       "Medium          88           89        Endurance   Plant-Based   \n",
       "                271         272        Endurance   Plant-Based   \n",
       "                9            10         Strength   Plant-Based   \n",
       "                175         176             HIIT   Plant-Based   \n",
       "                238         239         Strength  High-Protein   \n",
       "\n",
       "                    Initial_Fitness  Performance_Inc  \n",
       "Initial_Fitness                                       \n",
       "High            273            High         7.334511  \n",
       "                155            High         8.619201  \n",
       "                274            High        15.521524  \n",
       "                265            High         4.843569  \n",
       "                1              High         9.452781  \n",
       "...                             ...              ...  \n",
       "Medium          88           Medium        11.306799  \n",
       "                271          Medium         8.166908  \n",
       "                9            Medium        10.138011  \n",
       "                175          Medium         8.689780  \n",
       "                238          Medium         8.745379  \n",
       "\n",
       "[300 rows x 5 columns]"
      ]
     },
     "execution_count": 77,
     "metadata": {},
     "output_type": "execute_result"
    }
   ],
   "source": [
    "athletes.groupby(by='Initial_Fitness').apply(\n",
    "  lambda x: x.sample(frac=1)\n",
    ")"
   ]
  },
  {
   "cell_type": "code",
   "execution_count": 78,
   "metadata": {},
   "outputs": [
    {
     "data": {
      "text/html": [
       "<div>\n",
       "<style scoped>\n",
       "    .dataframe tbody tr th:only-of-type {\n",
       "        vertical-align: middle;\n",
       "    }\n",
       "\n",
       "    .dataframe tbody tr th {\n",
       "        vertical-align: top;\n",
       "    }\n",
       "\n",
       "    .dataframe thead th {\n",
       "        text-align: right;\n",
       "    }\n",
       "</style>\n",
       "<table border=\"1\" class=\"dataframe\">\n",
       "  <thead>\n",
       "    <tr style=\"text-align: right;\">\n",
       "      <th></th>\n",
       "      <th>Athlete_ID</th>\n",
       "      <th>Training_Program</th>\n",
       "      <th>Diet_Type</th>\n",
       "      <th>Initial_Fitness</th>\n",
       "      <th>Performance_Inc</th>\n",
       "    </tr>\n",
       "  </thead>\n",
       "  <tbody>\n",
       "    <tr>\n",
       "      <th>0</th>\n",
       "      <td>9</td>\n",
       "      <td>Strength</td>\n",
       "      <td>Keto</td>\n",
       "      <td>High</td>\n",
       "      <td>11.599382</td>\n",
       "    </tr>\n",
       "    <tr>\n",
       "      <th>1</th>\n",
       "      <td>72</td>\n",
       "      <td>Endurance</td>\n",
       "      <td>Keto</td>\n",
       "      <td>High</td>\n",
       "      <td>7.974764</td>\n",
       "    </tr>\n",
       "    <tr>\n",
       "      <th>2</th>\n",
       "      <td>262</td>\n",
       "      <td>Endurance</td>\n",
       "      <td>High-Protein</td>\n",
       "      <td>High</td>\n",
       "      <td>10.253586</td>\n",
       "    </tr>\n",
       "    <tr>\n",
       "      <th>3</th>\n",
       "      <td>220</td>\n",
       "      <td>HIIT</td>\n",
       "      <td>Keto</td>\n",
       "      <td>High</td>\n",
       "      <td>11.246799</td>\n",
       "    </tr>\n",
       "    <tr>\n",
       "      <th>4</th>\n",
       "      <td>131</td>\n",
       "      <td>Strength</td>\n",
       "      <td>Keto</td>\n",
       "      <td>High</td>\n",
       "      <td>12.660877</td>\n",
       "    </tr>\n",
       "    <tr>\n",
       "      <th>...</th>\n",
       "      <td>...</td>\n",
       "      <td>...</td>\n",
       "      <td>...</td>\n",
       "      <td>...</td>\n",
       "      <td>...</td>\n",
       "    </tr>\n",
       "    <tr>\n",
       "      <th>295</th>\n",
       "      <td>12</td>\n",
       "      <td>Strength</td>\n",
       "      <td>Keto</td>\n",
       "      <td>Medium</td>\n",
       "      <td>8.439313</td>\n",
       "    </tr>\n",
       "    <tr>\n",
       "      <th>296</th>\n",
       "      <td>158</td>\n",
       "      <td>HIIT</td>\n",
       "      <td>High-Protein</td>\n",
       "      <td>Medium</td>\n",
       "      <td>8.739175</td>\n",
       "    </tr>\n",
       "    <tr>\n",
       "      <th>297</th>\n",
       "      <td>121</td>\n",
       "      <td>HIIT</td>\n",
       "      <td>Keto</td>\n",
       "      <td>Medium</td>\n",
       "      <td>9.187451</td>\n",
       "    </tr>\n",
       "    <tr>\n",
       "      <th>298</th>\n",
       "      <td>288</td>\n",
       "      <td>Endurance</td>\n",
       "      <td>Plant-Based</td>\n",
       "      <td>Medium</td>\n",
       "      <td>10.265872</td>\n",
       "    </tr>\n",
       "    <tr>\n",
       "      <th>299</th>\n",
       "      <td>234</td>\n",
       "      <td>Endurance</td>\n",
       "      <td>Keto</td>\n",
       "      <td>Medium</td>\n",
       "      <td>8.985125</td>\n",
       "    </tr>\n",
       "  </tbody>\n",
       "</table>\n",
       "<p>300 rows × 5 columns</p>\n",
       "</div>"
      ],
      "text/plain": [
       "     Athlete_ID Training_Program     Diet_Type Initial_Fitness  \\\n",
       "0             9         Strength          Keto            High   \n",
       "1            72        Endurance          Keto            High   \n",
       "2           262        Endurance  High-Protein            High   \n",
       "3           220             HIIT          Keto            High   \n",
       "4           131         Strength          Keto            High   \n",
       "..          ...              ...           ...             ...   \n",
       "295          12         Strength          Keto          Medium   \n",
       "296         158             HIIT  High-Protein          Medium   \n",
       "297         121             HIIT          Keto          Medium   \n",
       "298         288        Endurance   Plant-Based          Medium   \n",
       "299         234        Endurance          Keto          Medium   \n",
       "\n",
       "     Performance_Inc  \n",
       "0          11.599382  \n",
       "1           7.974764  \n",
       "2          10.253586  \n",
       "3          11.246799  \n",
       "4          12.660877  \n",
       "..               ...  \n",
       "295         8.439313  \n",
       "296         8.739175  \n",
       "297         9.187451  \n",
       "298        10.265872  \n",
       "299         8.985125  \n",
       "\n",
       "[300 rows x 5 columns]"
      ]
     },
     "execution_count": 78,
     "metadata": {},
     "output_type": "execute_result"
    }
   ],
   "source": [
    "athletes.groupby(by='Initial_Fitness').apply(\n",
    "  lambda x: x.sample(frac=1)\n",
    ").reset_index(drop=True)"
   ]
  },
  {
   "cell_type": "code",
   "execution_count": 84,
   "metadata": {},
   "outputs": [],
   "source": [
    "blocks = athletes.groupby(by='Initial_Fitness').apply(\n",
    "  lambda x: x.sample(frac=1)\n",
    ").reset_index(drop=True)"
   ]
  },
  {
   "cell_type": "code",
   "execution_count": 85,
   "metadata": {},
   "outputs": [
    {
     "data": {
      "text/html": [
       "<div>\n",
       "<style scoped>\n",
       "    .dataframe tbody tr th:only-of-type {\n",
       "        vertical-align: middle;\n",
       "    }\n",
       "\n",
       "    .dataframe tbody tr th {\n",
       "        vertical-align: top;\n",
       "    }\n",
       "\n",
       "    .dataframe thead th {\n",
       "        text-align: right;\n",
       "    }\n",
       "</style>\n",
       "<table border=\"1\" class=\"dataframe\">\n",
       "  <thead>\n",
       "    <tr style=\"text-align: right;\">\n",
       "      <th></th>\n",
       "      <th>Athlete_ID</th>\n",
       "      <th>Training_Program</th>\n",
       "      <th>Diet_Type</th>\n",
       "      <th>Initial_Fitness</th>\n",
       "      <th>Performance_Inc</th>\n",
       "      <th>Treatment</th>\n",
       "    </tr>\n",
       "  </thead>\n",
       "  <tbody>\n",
       "    <tr>\n",
       "      <th>296</th>\n",
       "      <td>111</td>\n",
       "      <td>Strength</td>\n",
       "      <td>Plant-Based</td>\n",
       "      <td>Medium</td>\n",
       "      <td>9.974512</td>\n",
       "      <td>Test_2</td>\n",
       "    </tr>\n",
       "    <tr>\n",
       "      <th>29</th>\n",
       "      <td>245</td>\n",
       "      <td>HIIT</td>\n",
       "      <td>Keto</td>\n",
       "      <td>High</td>\n",
       "      <td>9.960221</td>\n",
       "      <td>Test_2</td>\n",
       "    </tr>\n",
       "    <tr>\n",
       "      <th>37</th>\n",
       "      <td>87</td>\n",
       "      <td>Strength</td>\n",
       "      <td>Keto</td>\n",
       "      <td>High</td>\n",
       "      <td>9.115135</td>\n",
       "      <td>Test_1</td>\n",
       "    </tr>\n",
       "    <tr>\n",
       "      <th>28</th>\n",
       "      <td>192</td>\n",
       "      <td>Endurance</td>\n",
       "      <td>High-Protein</td>\n",
       "      <td>High</td>\n",
       "      <td>12.930780</td>\n",
       "      <td>Test_3</td>\n",
       "    </tr>\n",
       "    <tr>\n",
       "      <th>54</th>\n",
       "      <td>4</td>\n",
       "      <td>Strength</td>\n",
       "      <td>Plant-Based</td>\n",
       "      <td>High</td>\n",
       "      <td>9.605557</td>\n",
       "      <td>Test_2</td>\n",
       "    </tr>\n",
       "    <tr>\n",
       "      <th>232</th>\n",
       "      <td>150</td>\n",
       "      <td>HIIT</td>\n",
       "      <td>Plant-Based</td>\n",
       "      <td>Medium</td>\n",
       "      <td>9.221424</td>\n",
       "      <td>Test_1</td>\n",
       "    </tr>\n",
       "  </tbody>\n",
       "</table>\n",
       "</div>"
      ],
      "text/plain": [
       "     Athlete_ID Training_Program     Diet_Type Initial_Fitness  \\\n",
       "296         111         Strength   Plant-Based          Medium   \n",
       "29          245             HIIT          Keto            High   \n",
       "37           87         Strength          Keto            High   \n",
       "28          192        Endurance  High-Protein            High   \n",
       "54            4         Strength   Plant-Based            High   \n",
       "232         150             HIIT   Plant-Based          Medium   \n",
       "\n",
       "     Performance_Inc Treatment  \n",
       "296         9.974512    Test_2  \n",
       "29          9.960221    Test_2  \n",
       "37          9.115135    Test_1  \n",
       "28         12.930780    Test_3  \n",
       "54          9.605557    Test_2  \n",
       "232         9.221424    Test_1  "
      ]
     },
<<<<<<< HEAD
     "execution_count": 18,
=======
     "execution_count": 85,
>>>>>>> fc1f36cec5cfeebf73447eea0991b96831063aa0
     "metadata": {},
     "output_type": "execute_result"
    }
   ],
   "source": [
<<<<<<< HEAD
    "df_chick_weights.head()"
   ]
  },
  {
   "cell_type": "code",
   "execution_count": 19,
   "metadata": {},
   "outputs": [
    {
     "data": {
      "image/png": "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",
      "text/plain": [
       "<Figure size 500x500 with 1 Axes>"
      ]
     },
     "metadata": {},
     "output_type": "display_data"
    }
   ],
   "source": [
    "# Plot the distribution of the chickens' weight\n",
    "sns.displot(data=df_chick_weights, x='weight', kind='kde')\n",
    "plt.show()"
   ]
  },
  {
   "cell_type": "code",
   "execution_count": 20,
   "metadata": {},
   "outputs": [
    {
     "data": {
      "image/png": "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",
      "text/plain": [
       "<Figure size 640x480 with 1 Axes>"
      ]
     },
     "metadata": {},
     "output_type": "display_data"
    }
   ],
   "source": [
    "smgg.qqplot(\n",
    "    df_chick_weights['weight'],\n",
    "    line='s',\n",
    "    dist=ssd.norm\n",
=======
    "blocks['Treatment'] = np.random.choice(\n",
    "  ['Test_1', 'Test_2', 'Test_3'],\n",
    "  size=len(blocks)\n",
>>>>>>> fc1f36cec5cfeebf73447eea0991b96831063aa0
    ")\n",
    "blocks.sample(6)"
   ]
  },
  {
   "cell_type": "code",
<<<<<<< HEAD
   "execution_count": 21,
=======
   "execution_count": 87,
>>>>>>> fc1f36cec5cfeebf73447eea0991b96831063aa0
   "metadata": {},
   "outputs": [
    {
     "data": {
      "text/plain": [
       "Initial_Fitness  Treatment\n",
       "High             Test_1       28\n",
       "                 Test_2       30\n",
       "                 Test_3       30\n",
       "Low              Test_1       36\n",
       "                 Test_2       43\n",
       "                 Test_3       34\n",
       "Medium           Test_1       30\n",
       "                 Test_2       35\n",
       "                 Test_3       34\n",
       "Name: count, dtype: int64"
      ]
     },
     "execution_count": 87,
     "metadata": {},
     "output_type": "execute_result"
    }
   ],
   "source": [
    "blocks[['Initial_Fitness', 'Treatment']].value_counts().sort_index()"
   ]
  },
  {
   "cell_type": "code",
   "execution_count": 99,
   "metadata": {},
   "outputs": [
    {
     "data": {
      "text/plain": [
       "<Axes: xlabel='Initial_Fitness', ylabel='Performance_Inc'>"
      ]
     },
     "execution_count": 99,
     "metadata": {},
     "output_type": "execute_result"
    },
    {
     "data": {
      "image/png": "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",
      "text/plain": [
       "<Figure size 432x288 with 1 Axes>"
      ]
     },
     "metadata": {
      "needs_background": "light"
     },
     "output_type": "display_data"
    }
   ],
   "source": [
    "sns.boxplot(\n",
    "  data=blocks\n",
    "  , x='Initial_Fitness'\n",
    "  , y='Performance_Inc'\n",
    "  , notch=True\n",
    "  , medianprops={'color':'r'}\n",
    "  , order=['Low', 'Medium', 'High']\n",
    ")"
   ]
  },
  {
   "cell_type": "code",
   "execution_count": 100,
   "metadata": {},
   "outputs": [
    {
     "data": {
      "text/plain": [
       "<Axes: xlabel='Initial_Fitness', ylabel='Performance_Inc'>"
      ]
     },
     "execution_count": 100,
     "metadata": {},
     "output_type": "execute_result"
    },
    {
     "data": {
      "image/png": "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",
      "text/plain": [
       "<Figure size 432x288 with 1 Axes>"
      ]
     },
     "metadata": {
      "needs_background": "light"
     },
     "output_type": "display_data"
    }
   ],
   "source": [
    "sns.boxplot(\n",
    "  data=blocks\n",
    "  , x='Initial_Fitness'\n",
    "  , y='Performance_Inc'\n",
    "  , hue='Treatment'\n",
    "  , notch=True\n",
    "  , medianprops={'color':'r', 'linewidth':2}\n",
    "  , order=['Low', 'Medium', 'High']\n",
    ")"
   ]
  },
  {
   "cell_type": "code",
   "execution_count": 102,
   "metadata": {},
   "outputs": [
    {
     "data": {
      "text/plain": [
       "Initial_Fitness\n",
       "High      (1.3104076015588069, 0.27510250309578405)\n",
       "Low       (2.5710477159639975, 0.08104395027407534)\n",
       "Medium     (0.5677613756937963, 0.5686843306459846)\n",
       "dtype: object"
      ]
     },
     "execution_count": 102,
     "metadata": {},
     "output_type": "execute_result"
    }
   ],
   "source": [
    "# Perform the within blocks ANOVA, first grouping by block\n",
    "import scipy.stats as scst\n",
    "block_annova = blocks.groupby('Initial_Fitness').apply(\n",
    "  lambda x: scst.f_oneway(\n",
    "    x[x['Treatment']=='Test_1']['Performance_Inc']\n",
    "    , x[x['Treatment']=='Test_2']['Performance_Inc']\n",
    "    , x[x['Treatment']=='Test_3']['Performance_Inc']\n",
    "  )\n",
    ")\n",
<<<<<<< HEAD
    "plt.show();"
   ]
  },
  {
   "cell_type": "code",
   "execution_count": 22,
   "metadata": {},
   "outputs": [
    {
     "data": {
      "image/png": "iVBORw0KGgoAAAANSUhEUgAAAeoAAAHpCAYAAABN+X+UAAAAOXRFWHRTb2Z0d2FyZQBNYXRwbG90bGliIHZlcnNpb24zLjguMCwgaHR0cHM6Ly9tYXRwbG90bGliLm9yZy81sbWrAAAACXBIWXMAAA9hAAAPYQGoP6dpAABWCUlEQVR4nO3deVhTd74/8HcWkrAGZEkAQVxwRcENihu2paXLTGvt3GuXqdZpO+2dbjPU/lqdVmem08Eu9trFW2870zre1tFxprW7U4eqrUpdQMUVBBUQCItAwk5Izu+PkAgKyhI4ycn79Tx5apOT8DmN+u53lwmCIICIiIhcklzsAoiIiKhnDGoiIiIXxqAmIiJyYQxqIiIiF8agJiIicmEMaiIiIhfGoCYiInJhDOpuCIIAk8kELjEnIiKxMai7UV9fD61Wi/r6erFLISIiD8egJiIicmEMaiIiIhfGoCYiInJhDGoiIiIXxqAmIiJyYQxqIiIiF8agJiIicmEMaiIiIhfGoCYiInJhDGoiIiIXxqAmIiJyYQxqIiIiF8agJiIicmEMaiIiIhfGoCYiInJhDGoiIiIXxqAmIiJyYQxqIiIiF6YUuwAiIld0tKQO//djEeqazAjwVuI3qWMRNcxH7LLIAzGoiYgu8+0JA57822G0tlsdz2WeqsTaRQm4fnyYiJWRJ2LXNxFRJztOVuCxj7LR2m7F/HGh+NNdkxEfFQhjsxkP/fUgsotqxS6RPAyDmoioQ4vZglWfHYdVAO6eNhx/XjwD9yVF4++PXodb4/SwCsDz/8xFa7tF7FLJgzCoiYg6vP/9WZQZWxCh1eDlu+KgVNj+ilQrFchYOBkhfiqcqWzA/+wsFLlS8iQMaiIiAJWmFry72xbAz906HhovRZfXA31U+N0dkwAA/7OrABWmliGvkTwTg5qICMDGrCI0tVmQEBWIO+Ijur3m9snhmDEiCGaLgI9+LBriCslTMaiJyONZrAL+kX0BAPDw3JGQyWTdXieTyfDQnJEAgI/3F6PFzLFqGnwMaiLyeHsKqmEwtSDQxws3TdRd9dqbJuoQGeiNmsY2fHakdIgqJE/GoCYij/f3QyUAgAUJkVArFVe9VqmQY8msEQCAD/eeH+zSiBjUROTZahvbsONEBQDgP2YM79V7Fs2Ihkohx2lDPfIr6gezPCIGNRF5tn+fqkCbxYrxen9MitD26j1aHy/MGxsCAPgyt3wwyyNiUBORZ9uVVwUAuHmSvk/vu31KOADgy9wyCILg9LqI7BjUROSxzBYrvj9jC+rrx4X26b2pE3RQKeU4W9WI0wZ2f9PgYVATkcfKKapFfUs7hvmqMGV4YJ/e66/xwvyxtnD/it3fNIgY1ETksb7LqwQApIwNhULe/drpq7F3f28/YXBqXUSdMaiJyGPtOm3r9p7fx25vu/njwqCQy1BQ2YDSumZnlkbkwKAmIo9UbmxGXkU95DJgXmz/glrr7YWEqEAAwPf5VU6sjugSBjUReaQD52oAAJMitAjyVfX7c1I6xql35zGoaXAwqInIIx06XwsAmBkzbECfYw/qvQXVMFusA66L6HIMaiLySAfP21rUM2OCBvQ5kyO1GOarQn1rOw4X1zmhMqKuGNRE5HGMzWbkdWz9OX2AQS2XyzBnjG2Xst35lQOujehyDGoi8jg5xbUQBCAm2Adh/poBf97cWFtQ7yu8OODPIrocg5qIPM6hjm7vGQMcn7a7blQwAODYBSOa2tqd8plEdgxqIvI4Bx0TyQbW7W03PMgbEVoN2q0Cx6nJ6RjURORR2tqtOFpSB8B5LWqZTIbEkbbP2t+x7IvIWRjURORR8ivq0dpuRYBGiVEhvk773MSRtu7vA+c4Tk3OxaAmIo9yvNQIAIiL1EIm6/v+3j2xt6gPF9ehtd3itM8lYlATkUc51hHUkyO1Tv3c0aG+CPFTobXditwLRqd+Nnk2BjUReZTOLWpn6jxOfYDj1OREDGoi8hhmixWnDLaNTpzdogaAGSNsQZ1TVOv0zybPxaAmIo+RX1GPtnYr/DVKjAj2cfrnT40OBAAcLqmDIAhO/3zyTAxqIvIYjm7vCOdOJLObGBEAlUKOmsY2FNc0Of3zyTMxqInIYzgmkg13frc3AKiVCkyKDAAAbnxCTsOgJiKPcbzUBMD5E8k6mxpl2+3scDHHqck5GNRE5BEsVgGnDbagnhQRMGg/p/M4NZEzMKiJyCMU1zShxWyFxkuOmGDn7Uh2OXtQnywzocXMjU9o4EQP6nXr1iEmJgYajQZJSUk4cOBAj9eeOHECd999N2JiYiCTybB27dorrsnIyMDMmTPh7++PsLAwLFiwAHl5eYN4B0TkDvI6lmXFhvlDIXf+RDK7yEBvhPqr0W4VHJPXiAZC1KDesmUL0tPTsWrVKuTk5CA+Ph5paWmorOz+8PWmpiaMGjUKq1evhl6v7/aa3bt34/HHH8ePP/6IHTt2wGw24+abb0ZjY+Ng3goRuTh7UI/V+Q/qz5HJZEiICgQAHGH3NzmBqEH9xhtv4JFHHsHSpUsxceJErF+/Hj4+Pvjggw+6vX7mzJl47bXXcM8990CtVnd7zfbt2/Hggw9i0qRJiI+Px4YNG1BcXIzs7OzBvBUicnF5Fbbx6fH6wQ1qAIjvmFV+jC1qcgLRgrqtrQ3Z2dlITU29VIxcjtTUVGRlZTnt5xiNtj8ow4b1fJxda2srTCZTlwcRScvpjhb1uCEIavus8mPc85ucQLSgrq6uhsVigU6n6/K8TqeDwWBwys+wWq349a9/jdmzZyMuLq7H6zIyMqDVah2PqKgop/x8InINLWYLzlfbhr+GIqjt25OerW5EfYt50H8eSZvok8kG0+OPP47jx49j8+bNV71u+fLlMBqNjkdJSckQVUhEQ6GgsgFWAQj08UKYf/fDZs4U7KdGZKA3gEtrt4n6S7SgDgkJgUKhQEVFRZfnKyoqepwo1hdPPPEEvvzyS+zcuRPDhw+/6rVqtRoBAQFdHkQkHfaJZON0/oOydWh37K1qzvymgRItqFUqFaZPn47MzEzHc1arFZmZmUhOTu735wqCgCeeeAKffvopvvvuO4wcOdIZ5RKRG8uvGLrxaTv7NqW5DGoaIKWYPzw9PR1LlizBjBkzkJiYiLVr16KxsRFLly4FACxevBiRkZHIyMgAYJuAdvLkScevS0tLceTIEfj5+WHMmDEAbN3dmzZtwmeffQZ/f3/HeLdWq4W3t7cId0lEYhvKiWR2cWxRk5OIGtSLFi1CVVUVVq5cCYPBgISEBGzfvt0xway4uBhy+aVGf1lZGaZOner499dffx2vv/46UlJSsGvXLgDAu+++CwCYP39+l5/14Ycf4sEHHxzU+yEi11RQ2QDAttnJULF3fZ+rboSpxYwAjdeQ/WySFpnAQ1OvYDKZoNVqYTQaOV5N5Oaa2yyYsHI7ACDnxZswzFc1ZD979urvUFrXjE2PJGHW6JAh+7kkLZKe9U1EVFhla00P81UNaUgDlw7/OFnGmd/UfwxqIpI0e1CPDh28gzh6MrEjqE+V1w/5zybpYFATkaQVVtk2Ohkd6jfkP3tCuD2o2aKm/mNQE5GkFXZMJBsTNvRBPbEjqM9U1qOt3TrkP5+kgUFNRJJ2qet76IN6eJA3/NVKmC2Cow6ivmJQE5FkWawCzlaL1/Utk8nY/U0DxqAmIsm6UNuEtnYr1Eo5IoPE2fBoQrht7TZnflN/MaiJSLLs3c0jQ3yhkA/NHt+Xc8z8NjCoqX8Y1EQkWYWVHd3eIkwks7vU9V0P7i9F/cGgJiLJEnMimd1YnT/kMqCmsQ2V9a2i1UHui0FNRJJ1aSLZ0G92YqfxUjj+R4Hj1NQfDGoikqzzHUEdEyxeUAOXur9PcuY39QODmogkqaG13dHVHBPiGkHNJVrUHwxqIpIke2t6mK8KWm9xj5i0z/xmi5r6g0FNRJJ0/qK929tH5EouraU+X92I5jaLyNWQu2FQE5Ek2VvUI0PEm/FtF+avQYifClYByKvgSVrUNwxqIpKkc9VNAICRIeK3qAGOU1P/MaiJSJIcXd8iTySzs5+kxSVa1FcMaiKSJFdZmmXHFjX1F4OaiCTH2GzGxcY2AK7TorYH9WlDPaxWbiVKvcegJiLJsbemQ/3V8FMrRa7GZlSoL1QKORpa21Fa1yx2OeRGGNREJDn28emRLtLtDQBeCjlGdWxlms+Z39QHDGoikpxz9vFpF5nxbTdOb1tPzSVa1BcMaiKSnOIa29KsES7UogZsJ2kBQL6BQU29x6AmIskp6Qjq6GEu1qLW2VvUDSJXQu6EQU1EklPsqkHd0fVdWNmAdotV5GrIXTCoiUhSWswWVJhsp2a5WlBHBnrDR6VAm8WK8xebxC6H3ASDmogk5UKtLQD91UoE+oh7atbl5HIZYu3j1JxQRr3EoCYiSbF3e0cN84FMJhO5miuN09kOCcnjhDLqJQY1EUlK8UXXHJ+2s8/8PlPJoKbeYVATkaQU19h2/Yp2gXOou2MParaoqbcY1EQkKZ27vl2Rfeb3+YtNaDFbRK6G3AGDmogkxVXXUNuF+auh9faCxSrgbFWj2OWQG2BQE5FkCILgsmuo7WQymWPjE878pt5gUBORZFQ3tKHZbIFMZluz7KrG6jtmfjOoqRcY1EQkGfbWdITWGyql6/71No57flMfuO7vZCKiPipxTCRz3dY00GnmN1vU1AsMaiKSDFcfn7azB/WF2mY0tLaLXA25OgY1EUmGuwR1kK8KYf5qAMAZtqrpGhjURCQZrr6GujP7emrO/KZrYVATkWS4+hrqzi7tUMazqenqGNREJAmt7RYYTC0A3COox3HPb+olBjURSUJpbTMEAfBVKTDMVyV2Odc0Vs89v6l3GNREJAmufrzl5WLDbJueVNa3oraxTeRqyJUxqIlIEkrcaCIZAPiqlY713pxQRlfDoCYiSXCXpVmdcc9v6g0GNRFJgjsGdSx3KKNeYFATkSQU1zQDcK+gvrTnN5doUc8Y1ETk9gRBcLsxaqDrnt+CIIhcDbkqBjURub3aJrNjz+zhQa59IEdno0J9oZDLYGw2o7K+VexyyEWJHtTr1q1DTEwMNBoNkpKScODAgR6vPXHiBO6++27ExMRAJpNh7dq1A/5MInJ/9vFpfYAGGi+FyNX0nsZLgZhgWw8A11NTT0QN6i1btiA9PR2rVq1CTk4O4uPjkZaWhsrKym6vb2pqwqhRo7B69Wro9XqnfCYRuT97t7c7tabtuOc3XYuoQf3GG2/gkUcewdKlSzFx4kSsX78ePj4++OCDD7q9fubMmXjttddwzz33QK1WO+Uzicj9ldbZJpK50/i03aU9vxnU1D3RgrqtrQ3Z2dlITU29VIxcjtTUVGRlZQ3pZ7a2tsJkMnV5EJH7uFBra1FHBrphi9o+87uSM7+pe6IFdXV1NSwWC3Q6XZfndTodDAbDkH5mRkYGtFqt4xEVFdWvn09E4rhQa2tRu2PXt30t9ZmKelitnPlNVxJ9MpkrWL58OYxGo+NRUlIidklE1AelHUEd6YZBHRPsA5VCjqY2i6MLn6gzpVg/OCQkBAqFAhUVFV2er6io6HGi2GB9plqt7nHMm4hcmyAInVrU7jdGrVTIMTrMD6fKTcgz1LvlODsNLtFa1CqVCtOnT0dmZqbjOavViszMTCQnJ7vMZxKRa6ttMqPZbAEARARqRK6mf8bpbCdp5fNsauqGaC1qAEhPT8eSJUswY8YMJCYmYu3atWhsbMTSpUsBAIsXL0ZkZCQyMjIA2CaLnTx50vHr0tJSHDlyBH5+fhgzZkyvPpOIpMU+kSzMXw210n3WUHcW69hKlEFNVxI1qBctWoSqqiqsXLkSBoMBCQkJ2L59u2MyWHFxMeTyS43+srIyTJ061fHvr7/+Ol5//XWkpKRg165dvfpMIpKWUjeeSGY3zrGVKGd+05VkAjeYvYLJZIJWq4XRaERAQIDY5RDRVbz//Vm8/PUp/DQ+Am/fO/Xab3BBJTVNmPvqTqiUcpz8fRqUCs7zpUv4u4GI3Jq969udW9SRgd7w9lKgrd2Koo5d1ojsGNRE5NbsS5rccbMTO7lchrH2CWUcp6bLMKiJyK2582YnnXU+8pKoMwY1EbktQRA6TSZz7/XHYx07lHFCGXXFoCYit2Vqbkd9xznU7tz1DQBj9WxRU/cY1ETktko6JpKF+KngrXLPNdR29iVa56ob0dpuEbkaciUMaiJyW1KYSGanC1AjQKOExSrgXHWj2OWQC2FQE5Hbcuc9vi8nk8l4NjV1i0FNRG5LCruSdWYfp87nODV1wqAmIrdl3+zEHY+37I59nDqfM7+pEwY1Ebkt+xi1VFrUsfZNT9iipk4Y1ETktuxj1JGB7j9GDVxqURfXNKGprV3kashVMKiJyC3Vt5hhbDYDkE7Xd7CfGiF+KggCUFDJ7m+yYVATkVuyd3sH+XjBTy3qib1ONZbj1HQZBjURuaULNR3d3hJpTdtdCmqOU5MNg5qI3JJjIplExqftuJaaLsegJiK3JLWlWXbj9LaZ32fYoqYODGoicktSOd7ycmPCbC3qMmMLTC1mkashV8CgJiK3dGkNtbS6vrXeXgjXagCwVU02DGoickuX1lBLq0UNdB6n5sxvYlATkRtqamtHTWMbAOmNUQPAWO5QRp0wqInI7dgP4/DXKKH19hK5GufjEi3qjEFNRG7ngkTHp+3G8RQt6oRBTURuR8rj0wAwJswPMhlQ3dCGiw2tYpdDImNQE5Hbsa+hltrSLDsflRJRHb0F3EqUGNRE5HZKJbqGujOOU5Mdg5qI3I5UNzvpzL5DWR6D2uMxqInI7Uh1s5PO7C1qbnpCDGoicistZguq6m0TrKQ6mQzoejiHIAgiV0NiYlATkVuxt6Z9VQoE+khvDbXdqFBfKOQymFraUWHizG9PxqAmIrdyaSKZD2QymcjVDB61UoGYYPvMb3Z/ezIGNRG5FccaaglPJLPjxicEMKiJyM2U1kl7DXVnncepyXMxqInIrUh9V7LOxnEtNYFBTURupvMYtdTF2pdoVTbAauXMb0/FoCYit+JJY9QxwT5QKeRoarM47ps8D4OaiNxGW7sVFfUtADxjjFqpkGNMmG2HstMGk8jVkFgY1ETkNsqNzRAEQOMlR7CvSuxyhsT4cFv392lOKPNYDGoichsXPGQNdWcT9AEA2KL2ZAxqInIb9uMtPWHGtx1b1MSgJiK34QmnZl1ufEeL+nx1I5rbLCJXQ2JgUBOR2/CkpVl2of5qhPipYBWAM5VsVXsiBjURuQ1PbFEDl7YSPV3OoPZEDGoichuOMWoPC2p79/cpTijzSAxqInILZosVBpPnrKHubDxb1B6NQU1EbsFgbIFVANRKOUL91GKXM6QmhF9aoiUI3ErU0zCoicgtlHRamuUpa6jtxoT5QS4DapvMqKpvFbscGmIMaiJyC560x/flNF4KjAq1bSV6iuupPQ6Dmojcgicuzers0jg1J5R5GgY1EbkFT12aZXdpnJotak/DoCYit2BfmuWpQT2u42zqU2xRexzRg3rdunWIiYmBRqNBUlISDhw4cNXrt27divHjx0Oj0WDy5Mn4+uuvu7ze0NCAJ554AsOHD4e3tzcmTpyI9evXD+YtENEQKK3z7Ba1fc/vwqoGtLVbRa6GhpKoQb1lyxakp6dj1apVyMnJQXx8PNLS0lBZWdnt9fv27cO9996Lhx56CIcPH8aCBQuwYMECHD9+3HFNeno6tm/fjo8++ginTp3Cr3/9azzxxBP4/PPPh+q2iMjJ2i1WlBvta6g9c4w6MtAb/molzBYBZ6sbxC6HhpCoQf3GG2/gkUcewdKlSx0tXx8fH3zwwQfdXv/mm2/illtuwbPPPosJEybgpZdewrRp0/DOO+84rtm3bx+WLFmC+fPnIyYmBr/85S8RHx9/1ZZ6a2srTCZTlwcRuQ6DqQUWqwCVwvPWUNvJZLJLJ2lx4xOPIlpQt7W1ITs7G6mpqZeKkcuRmpqKrKysbt+TlZXV5XoASEtL63L9rFmz8Pnnn6O0tBSCIGDnzp3Iz8/HzTff3GMtGRkZ0Gq1jkdUVNQA746InMk+kSwiUAO53LPWUHc2Xs8JZZ5ItKCurq6GxWKBTqfr8rxOp4PBYOj2PQaD4ZrXv/3225g4cSKGDx8OlUqFW265BevWrcO8efN6rGX58uUwGo2OR0lJyQDujIiczdOXZtldOpuavX6eRCl2Ac729ttv48cff8Tnn3+OESNG4Pvvv8fjjz+OiIiIK1rjdmq1Gmq1Z3anEbkDx2YngZ45kczOcTgHZ357FNGCOiQkBAqFAhUVFV2er6iogF6v7/Y9er3+qtc3NzdjxYoV+PTTT3H77bcDAKZMmYIjR47g9ddf7zGoici1efrSLLtxen/IZECFqRXVDa0I8dDxek8jWte3SqXC9OnTkZmZ6XjOarUiMzMTycnJ3b4nOTm5y/UAsGPHDsf1ZrMZZrMZcnnX21IoFLBauZyByF05lmYN8+yg9lMrERPsC4Ctak8iatd3eno6lixZghkzZiAxMRFr165FY2Mjli5dCgBYvHgxIiMjkZGRAQB4+umnkZKSgjVr1uD222/H5s2bcejQIbz33nsAgICAAKSkpODZZ5+Ft7c3RowYgd27d2Pjxo144403RLtPIhqYCxyjdpgYEYBz1Y04UWbC3NhQscuhISBqUC9atAhVVVVYuXIlDAYDEhISsH37dseEseLi4i6t41mzZmHTpk144YUXsGLFCsTGxmLbtm2Ii4tzXLN582YsX74c999/P2pqajBixAi8/PLLeOyxx4b8/oho4CxWAWV1HKO2mxgegK9yy3GyjC1qTyETeLjpFUwmE7RaLYxGIwICAsQuh8ijldU1Y9bq76CUy5D3x1uh8ODlWQCwM68SSz88iDFhfvh3eorY5dAQEH0LUSKiq7GPT0cEent8SAPApAhb4+FsVQOa2ywiV0NDoV9BffbsWWfXQUTULfuMb3Z724T5axDip4ZV4HpqT9GvoB4zZgyuv/56fPTRR2hpaXF2TUREDhdqPPswju5M7GhVn+TMb4/Qr6DOycnBlClTkJ6eDr1ej0cfffSap14REfXHpVOzOOPbzt79fYITyjxCv4I6ISEBb775JsrKyvDBBx+gvLwcc+bMQVxcHN544w1UVVU5u04i8lCXlmaxRW03MbyjRc2g9ggDmkymVCqxcOFCbN26Fa+88goKCgqwbNkyREVFYfHixSgvL3dWnUTkoRxj1AxqB3vX92mDCRYrF+5I3YCC+tChQ/jVr36F8PBwvPHGG1i2bBkKCwuxY8cOlJWV4c4773RWnUTkgaxWAWV19nOoGdR2McG+8PZSoMVsxTmeTS15/drw5I033sCHH36IvLw83Hbbbdi4cSNuu+02x+YkI0eOxIYNGxATE+PMWonIw1Q1tKLNYoVCLoM+QCN2OS5DIZdhQrg/corrcKLMhDFh/mKXRIOoXy3qd999F/fddx+Kioqwbds2/OQnP7lif+2wsDD85S9/cUqRROSZ7N3e+gANlApu+9AZZ357jn61qHfs2IHo6OgrwlkQBJSUlCA6OhoqlQpLlixxSpFE5Jk4kaxnE8O1ADihzBP0639RR48ejerq6iuer6mpwciRIwdcFBERwMM4rsa+ROtkmQncCVra+hXUPf2maGhogEbDcSQicg62qHs2Tu8PuQy42NiGyvpWscuhQdSnru/09HQAgEwmw8qVK+Hjc+n/ci0WC/bv34+EhASnFkhEnotLs3qm8VJgdKgfzlQ24ESZETpOtpOsPgX14cOHAdha1MeOHYNKpXK8plKpEB8fj2XLljm3QiLyWKVsUV/VxIgAnKlswMkyE24YrxO7HBokfQrqnTt3AgCWLl2KN998k0dAEtGgEQTBsX1oFMeouzUpIgCfHSnD8VJOKJOyfs36/vDDD51dBxFRF1UNrWhtt0IuA/Radut2Jy7CNvP7eJlR5EpoMPU6qBcuXIgNGzYgICAACxcuvOq1n3zyyYALIyLPZp9Ipg/QwItrqLs1KdIW1Bdqm1Hb2IYgX9U13kHuqNdBrdVqIZPJHL8mIhpMpVyadU1aby/EBPvg/MUmHCs1Yt7YULFLokHQ66Du3N3Nrm8iGmz2FjVnfF9dXKSWQS1x/epPam5uRlNTk+Pfi4qKsHbtWnz77bdOK4yIPFtxje3vmKhhbFFfzeSO7u/jpRynlqp+BfWdd96JjRs3AgDq6uqQmJiINWvW4M4778S7777r1AKJyDOVdAR1NIP6qiYPtwX1MQa1ZPUrqHNycjB37lwAwD/+8Q/o9XoUFRVh48aNeOutt5xaIBF5pmIGda/EXTahjKSnX0Hd1NQEf3/bsWrffvstFi5cCLlcjuuuuw5FRUVOLZCIPE+7xXppDfUwjlFfTYDGNqEMYKtaqvoV1GPGjMG2bdtQUlKCf/3rX7j55psBAJWVldwEhYgGrNzYAotVgEohh86fa6ivxd6qZlBLU7+CeuXKlVi2bBliYmKQlJSE5ORkALbW9dSpU51aIBF5Hnu39/Bh3pDLZSJX4/o4oUza+rUz2c9+9jPMmTMH5eXliI+Pdzx/44034q677nJacUTkmTg+3TecUCZt/QpqANDr9dDr9V2eS0xMHHBBREQM6r65fEIZdyiTln4FdWNjI1avXo3MzExUVlbCarV2ef3s2bNOKY6IPBODum/sE8q48Yk09SuoH374YezevRsPPPAAwsPDHVuLEhE5Qwk3O+kz7lAmXf0K6m+++QZfffUVZs+e7ex6iIjYou6HKcO1+DK3nBPKJKhfs76DgoIwbNgwZ9dCRARTixl1TWYAbFH3BZdoSVe/gvqll17CypUru+z3TUTkDPZu72BfFfzU/Z7v6nG4Q5l09etPwZo1a1BYWAidToeYmBh4eXl1eT0nJ8cpxRGR5+H4dP9wQpl09SuoFyxY4OQyiIhsOD7df5OHBzKoJahfQb1q1Spn10FEBIBBPRAJUYH44mgZDhfXiV0KOVG/xqgB2/GWf/7zn7F8+XLU1NQAsHV5l5aWOq04IvI8xTW2wzgY1H2XEGUbpz5SUgdBEESuhpylXy3q3NxcpKamQqvV4vz583jkkUcwbNgwfPLJJyguLnacVU1E1Fcco+6/SRFaKOUyVDe0oszYgshAnjwmBf1qUaenp+PBBx/EmTNnoNFcOtnmtttuw/fff++04ojIs1isAi7UdnR9BzOo+0rjpcD4cNsRxEdL6sQthpymX0F98OBBPProo1c8HxkZCYPBMOCiiMgzGUwtMFsEeClk0AfweMv+iB8eCIBBLSX9Cmq1Wg2TyXTF8/n5+QgN5UxDIuqf4osdx1sG+UDB4y37JT4qEABwmEEtGf0K6jvuuAN/+MMfYDbbdg+SyWQoLi7Gc889h7vvvtupBRKR5+D49MBN7QjqYxeMaLdYr34xuYV+BfWaNWvQ0NCA0NBQNDc3IyUlBWPGjIG/vz9efvllZ9dIRB7i0tIsToLqr1GhfvBTK9FstuBMZYPY5ZAT9GvWt1arxY4dO7B3714cPXoUDQ0NmDZtGlJTU51dHxF5EK6hHjiFXIbJkVpknb2IoyV1mBAeIHZJNEB9Dmqr1YoNGzbgk08+wfnz5yGTyTBy5Ejo9XoIgsAjL4mo3+xBHRXEoB6IhOhAW1BfqMM9idFil0MD1Keub0EQcMcdd+Dhhx9GaWkpJk+ejEmTJqGoqAgPPvgg7rrrrsGqk4g8AMeoncM+85s7lElDn1rUGzZswPfff4/MzExcf/31XV777rvvsGDBAmzcuBGLFy92apFEJH0Nre242HHqE9dQD8zU6EAAQH5FPZra2uGj4ilk7qxPLeq//e1vWLFixRUhDQA33HADnn/+eXz88cdOK46IPIe9NR3o44UAjdc1rqar0QVooA/QwCoAx0uvXEpL7qVPQZ2bm4tbbrmlx9dvvfVWHD16dMBFEZHnOV/dCAAYwW5vp4h37PtdK3IlNFB9CuqamhrodLoeX9fpdKit5W8KIuq7cxdtQR0T4ityJdKQEBUEADhaYhS5EhqoPgW1xWKBUtnzWIdCoUB7e/uAiyIiz2NvUY9kUDtFfKeTtMi99XnW94MPPoiFCxd2+/jFL37R5wLWrVuHmJgYaDQaJCUl4cCBA1e9fuvWrRg/fjw0Gg0mT56Mr7/++oprTp06hTvuuANarRa+vr6YOXMmiouL+1wbEQ2d89W2MWoGtXNMjtRCJgNK65pRWd8idjk0AH0K6iVLliAsLAxarbbbR1hYWJ9mfG/ZsgXp6elYtWoVcnJyEB8fj7S0NFRWVnZ7/b59+3DvvffioYcewuHDh7FgwQIsWLAAx48fd1xTWFiIOXPmYPz48di1axdyc3Px4osvdjnli4hcz9mOFnVMMIPaGfw1XhgbZjtJi8u03JtMEPF08aSkJMycORPvvPMOANtmKlFRUXjyySfx/PPPX3H9okWL0NjYiC+//NLx3HXXXYeEhASsX78eAHDPPffAy8sL//d//9frOlpbW9Ha2ur4d5PJhKioKBiNRgQEcFcfosFW32LG5N99CwA4uupmaL0569sZln9yDH87UIxH543C8tsmiF0O9VO/9vp2hra2NmRnZ3fZdlQulyM1NRVZWVndvicrK+uKbUrT0tIc11utVnz11VcYO3Ys0tLSEBYWhqSkJGzbtu2qtWRkZHTpGYiKihrYzRFRnxR1nJoV7KtiSDvR9BG2CWXZRZzk685EC+rq6mpYLJYrZpHrdLoez7Q2GAxXvb6yshINDQ1YvXo1brnlFnz77be46667sHDhQuzevbvHWpYvXw6j0eh4lJSUDPDuiKgvzlVzxvdgmNax8UluqRFt7TxJy11Jarsaq9X2G/HOO+/Eb37zGwBAQkIC9u3bh/Xr1yMlJaXb96nVaqjV6iGrk4i6Os/x6UExMsQXQT5eqG0y40SZEVOjg8QuifpBtBZ1SEgIFAoFKioqujxfUVEBvV7f7Xv0ev1Vrw8JCYFSqcTEiRO7XDNhwgTO+iZyYfYW9ahQBrUzyWQydn9LgGhBrVKpMH36dGRmZjqes1qtyMzMRHJycrfvSU5O7nI9AOzYscNxvUqlwsyZM5GXl9flmvz8fIwYMcLJd0BEzuLY7IQtaqezt6JzihnU7krUru/09HQsWbIEM2bMQGJiItauXYvGxkYsXboUALB48WJERkYiIyMDAPD0008jJSUFa9aswe23347Nmzfj0KFDeO+99xyf+eyzz2LRokWYN28err/+emzfvh1ffPEFdu3aJcYtElEvOLq+Q7h9qLN1blHzKGL3JGpQL1q0CFVVVVi5ciUMBgMSEhKwfft2x4Sx4uJiyOWXGv2zZs3Cpk2b8MILL2DFihWIjY3Ftm3bEBcX57jmrrvuwvr165GRkYGnnnoK48aNwz//+U/MmTNnyO+PiK6trqkNtU1mAGxRD4b44YFQyGWoMLWizNiCyEBvsUuiPhJ1HbWrMplM0Gq1XEdNNAQOF9firv/ZB12AGvtXpF77DdRnP317D46VGvHWvVNxR3yE2OVQH4k2Rk1EBADnOT496Ozd3zmcUOaWGNREJKpz3ON70E0bwQll7oxBTUSi4qlZg8/eoj5RZkJTG084dDcMaiISFXclG3wRWg10AWpYrAJyL/B8anfDoCYi0QiCwBb1EOi88Qm7v90Pg5qIRHOxsQ31re2QyYDoYVxDPZimRXNCmbtiUBORaOyt6QitNzReCpGrkbZpnTY+sVq5KtedMKiJSDTn2O09ZOIitNB4yVHbZEZhVYPY5VAfMKiJSDTnuHXokFEp5UiICgQAHDhfI24x1CcMaiISDTc7GVqJMcMAAAfPMajdCYOaiERj3+yEx1sOjZkjO4L6PCeUuRMGNRGJQhAEFLFFPaSmRQdBIZehtK4ZZXXNYpdDvcSgJiJRlBlb0NRmgVIuQxSXZg0JX7USkyJsBw0d5Di122BQE5EoCittM49jQnzhpeBfRUNlZsc49QGOU7sN/ukgIlEUdAT1mFA/kSvxLPagZovafTCoiUgUBR1reUeHcXx6KM2IsW18kl/RgNrGNpGrod5gUBORKOxd32PC2KIeSiF+ascs+2xuJ+oWGNREJAr77lij2fU95BLZ/e1WGNRENOTqmtpQ3WDrdmVQDz3HhDIGtVtgUBPRkLO3piO0GviqlSJX43kSOzY+OXbBiOY2i8jV0LUwqIloyNlnfI/m+LQohgd5Qx+gQbtVwOESjlO7OgY1EQ25wirbjmTs9haHTCa7tJ3oOQa1q2NQE9GQK+CMb9EldizTOnD+osiV0LUwqIloyDm6vtmiFs11o4IB2JZotbVbRa6GroZBTURDqqmtHSW1tlOzxuoY1GIZE+aHYF8VWsxW5F6oE7scugoGNRENqYLKBggCEOKnQrCfWuxyPJZMJkPSKNs49Y9n2f3tyhjURDSk8its3d6xYf4iV0L27u8fz3I9tStjUBPRkMqvqAfAbm9XYA/qQ0U1HKd2YQxqIhpSjqDWs0UtttgwPwzjOLXLY1AT0ZA609H1PVbHoBabTCZDUsd66v08n9plMaiJaMjUt5hRWtcMABjLMWqXcGmcmhPKXBWDmoiGzJmO9dO6ADW0Pl4iV0NAp3Hq81xP7aoY1EQ0ZPIN9olkbE27Cvs4dbPZgmOldWKXQ91gUBPRkMnn+LTLkcsvjVNzmZZrYlAT0ZDh0izXdCmoOU7tihjURDRkThtMAIDx+gCRK6HOrht9aZzabOE4tathUBPRkKisb0F1QxvkMnZ9u5qxYf4I8vFCs9nC9dQuiEFNREPiVLmt2zsmxBfeKoXI1VBntnFqW6s6q5Dd366GQU1EQ+J0ua3be0I4u71d0ewxtqDeW8CgdjUMaiIaEqfsQc2tQ13SrDEhAIDs4lq0mC0iV0OdMaiJaEjYu77ZonZNo0J8oQ/QoK3dikPna8UuhzphUBPRoGttt6CwyraGmkHtmmQyGWbZu78Lq0WuhjpjUBPRoCuobEC7VUCARolwrUbscqgHs0fbur/3FjCoXQmDmogG3elO3d4ymUzkaqgnszvGqY+VGmFsMotcDdkxqIlo0J3ijG+3oNdqMDrUF4IAZHGXMpfBoCaiQXe8zAgAmMigdnn2VvU+jlO7DAY1EQ0qq1XAiVJbizouUityNXQtszhO7XIY1EQ0qEpqm1Df2g6VUo5YHsbh8pJHBUMuAwqrGmEwtohdDoFBTUSD7HjppY1OvBT8K8fVaX28MLmj54Pd366Bf2qIaFAdK7WNT09it7fbsO9Stofd3y7BJYJ63bp1iImJgUajQVJSEg4cOHDV67du3Yrx48dDo9Fg8uTJ+Prrr3u89rHHHoNMJsPatWudXDUR9caJjolkcREMandhX0+9r+AiBEEQuRoSPai3bNmC9PR0rFq1Cjk5OYiPj0daWhoqKyu7vX7fvn2499578dBDD+Hw4cNYsGABFixYgOPHj19x7aeffooff/wRERERg30bRNQNQRBwvKNFHRfJGd/uYkZMEFRKOQymFpytbhS7HI8nelC/8cYbeOSRR7B06VJMnDgR69evh4+PDz744INur3/zzTdxyy234Nlnn8WECRPw0ksvYdq0aXjnnXe6XFdaWoonn3wSH3/8Mby8vK5aQ2trK0wmU5cHEQ1caV0zapvMUMplGMfDONyGxkuB6dFBAIB97P4WnahB3dbWhuzsbKSmpjqek8vlSE1NRVZWVrfvycrK6nI9AKSlpXW53mq14oEHHsCzzz6LSZMmXbOOjIwMaLVaxyMqKqqfd0REndknko3V+UOt5BnU7oTHXroOUYO6uroaFosFOp2uy/M6nQ4Gg6Hb9xgMhmte/8orr0CpVOKpp57qVR3Lly+H0Wh0PEpKSvp4J0TUnWOldQDY7e2O7BufZJ29CIuV49RiUopdgLNlZ2fjzTffRE5OTq/3FFar1VCr1YNcGZHnOVpiG5+OjwoUtxDqs8mRWvirlTA2m3GyzITJwzkZUCyitqhDQkKgUChQUVHR5fmKigro9fpu36PX6696/Q8//IDKykpER0dDqVRCqVSiqKgIzzzzDGJiYgblPojoSlargKMX6gAA8cMDRa2F+k6pkCNpFI+9dAWiBrVKpcL06dORmZnpeM5qtSIzMxPJycndvic5ObnL9QCwY8cOx/UPPPAAcnNzceTIEccjIiICzz77LP71r38N3s0QURdnqxtR39IOjZecE8nc1KVxaga1mETv+k5PT8eSJUswY8YMJCYmYu3atWhsbMTSpUsBAIsXL0ZkZCQyMjIAAE8//TRSUlKwZs0a3H777di8eTMOHTqE9957DwAQHByM4ODgLj/Dy8sLer0e48aNG9qbI/JgR0vqANjWT3NHMvdkH6c+eL4GLWYLNF6cECgG0YN60aJFqKqqwsqVK2EwGJCQkIDt27c7JowVFxdDLr/0h3zWrFnYtGkTXnjhBaxYsQKxsbHYtm0b4uLixLoFIurGkY6gTuD4tNuKDfODPkADg6kFh87XYk5siNgleSSZwG1nrmAymaDVamE0GhEQwNmqRP1xxzt7kHvBiLfvnYqfxnPTIXf17Naj2Jp9Ab+cNworbpsgdjkeif1RROR0LWYLTpXb1lCzRe3e5o0NBQB8n18lciWei0FNRE53stwEs0VAsK8Kw4O8xS6HBmDOmBDIZMBpQz2PvRQJg5qInC6nqBaArTXd2/0MyDUF+aowpWN53fdn2KoWA4OaiJwuuyOop8cEiVwJOUNKxyQydn+Lg0FNRE4lCAIOdQT1jBHDRK6GnME+Tr2noJrbiYqAQU1ETlVS04yq+lZ4KWSYwm0nJSEhKhD+GiXqmsw41nFsKQ0dBjUROdXB8zUAgLhILTfIkAilQo7Zo9n9LRYGNRE5lb3be2YMu72lhMu0xMOgJiKnyi6ytainj+BEMimZN9bWoj5cUgdTi1nkajwLg5qInMbYZEZ+RQMABrXUDA/ywahQX1isAvbxkI4hxaAmIqexj0+PCvFFiB/PeJeaebG27u/d+QzqocSgJiKn+fHsRQBwnGNM0pLSaZyax0QMHQY1ETlNVkdQXzeKE8mkKGnUMKgUcpTWNeNsdaPY5XgMBjUROYWxyYyTHQdxJLNFLUk+KiVmjrTNPeDs76HDoCYip9h/7iIEARgV6ouwAI3Y5dAgsY9TM6iHDoOaiJzC3u3N1rS02ddT/3i2Bq3tFpGr8QwMaiJyih/P2mZ8X8eglrTxen+E+avRbLbg0PlascvxCAxqIhqwmsY2nDbYxqcZ1NImk8kw17FMi93fQ4FBTUQDtregGoIAjNP5I9Sf66elLmWcLah35VWKXIlnYFAT0YD9cMbWsrJvM0nSlhIbCrkMyK9owIXaJrHLkTwGNRENiCAI+L5jpyp7lyhJm9bHy7FF7M7TbFUPNgY1EQ1IQWUDDKYWqJVyJI7kRiee4vrxYQCAnXkcpx5sDGoiGpDvz9ha04kjh/H8aQ9yQ0dQ7yusRouZy7QGE4OaiAbEvvGFfR9o8gzjdP4I12rQYrYiq/Ci2OVIGoOaiPqtxWzB/nO2v6Q5Pu1ZZDJZp+5vjlMPJgY1EfXb3oJqtJitiAz0xlidn9jl0BC7YZwtqL87XcnTtAYRg5qI+u3fp2wtqRsnhEEmk4lcDQ21WWOCoVLKcaG2GYVVDWKXI1kMaiLqF0EQ8N3pCgDAjRN0IldDYvBRKR070X3HZVqDhkFNRP1yvNSEClMrfFUKnj/twW7o2KWMQT14GNRE1C87Ttla03NjQ6FWclmWp7JPKDt0vhamFrPI1UgTg5qI+uXfJ+3d3mEiV0JiGhHsi1Ghvmi3CvihY4c6ci4GNRH1WdHFRpwsN0Ehlzk2viDPldoxRyGzo5eFnItBTUR99s1xAwDgulHDEOzH07I8nT2ov8urRLvFKnI10sOgJqI++/pYOQDgtsnhIldCrmBadCCCfLxQ12TGoaJascuRHAY1EfVJSU0Tci8YIZcBaZP0YpdDLkCpkOOG8bZWtX3uAjkPg5qI+mR7R7d30shghLDbmzrcNNE2V2HHqQruUuZkDGoi6pMvcssAALdNZmuaLpkbGwqVUo6ii00oqOQuZc7EoCaiXiuobEDuBSMUchnHp6kLX7USs0fbdin7lt3fTsWgJqJe++xIKQDbkZac7U2XS53YMU7NZVpOxaAmol6xWgV8etgW1AumRopcDbki+zKtIyV1qKxvEbka6WBQE1GvZBfX4kJtM/zUStzEQzioG7oADeKHayEIwHenuPe3szCoiahX/pl9AQBwS5we3iru7U3du4nd307HoCaia2pobcfnR22zvX82fbjI1ZArs49T/3CmGk1t7SJXIw0MaiK6pi+OlqGpzYJRIb5IGskjLaln43T+iB7mg9Z2K3bnVYldjiQwqInomjYfKAYA3JMYBZlMJnI15MpkMhlujbOtsf+6Y3McGhgGNRFd1ckyE45eMMJLIcPd09jtTdd2S0dQf3eqAi1mi8jVuD8GNRFd1Uf7iwAAN0/Uc+009UpCVCAitBo0tlnwwxmeUT1QDGoi6lFdUxs+ybHN9l6cPELkashdyGQypHW0qr85Xi5yNe6PQU1EPdp8sAQtZismhgcgkZPIqA/sW8zuOFmBtnaeUT0QDGoi6la7xYr/y7J1ez84O4aTyKhPpkcHIdRfjfqWduwrZPf3QLhEUK9btw4xMTHQaDRISkrCgQMHrnr91q1bMX78eGg0GkyePBlff/214zWz2YznnnsOkydPhq+vLyIiIrB48WKUlZUN9m0QScq/TlSgtK4Zw3xVuCM+QuxyyM3I5TLc0nFe+TfHOPt7IEQP6i1btiA9PR2rVq1CTk4O4uPjkZaWhsrK7ref27dvH+6991489NBDOHz4MBYsWIAFCxbg+PHjAICmpibk5OTgxRdfRE5ODj755BPk5eXhjjvuGMrbInJrgiDgf3YVAAB+ft0IaLy4Exn1nX2Z1rcnDWi3sPu7v2SCyCd8JyUlYebMmXjnnXcAAFarFVFRUXjyySfx/PPPX3H9okWL0NjYiC+//NLx3HXXXYeEhASsX7++259x8OBBJCYmoqioCNHR0desyWQyQavVwmg0IiAgoJ93RuS+dudXYckHB+DtpcC+529AkK9K7JLIDbVbrEj8UyZqGtvw8cNJmD0mROyS3JKoLeq2tjZkZ2cjNTXV8ZxcLkdqaiqysrK6fU9WVlaX6wEgLS2tx+sBwGg0QiaTITAwsNvXW1tbYTKZujyIPNn/7LS1pu9NjGZIU78pFXLc3LGlKGd/95+oQV1dXQ2LxQKdrutJPDqdDgZD92MaBoOhT9e3tLTgueeew7333ttj6zgjIwNardbxiIqK6sfdEEnDgXM12H+uBl4KGR6ZN1LscsjN3dox+/ubY+z+7i/Rx6gHk9lsxn/+539CEAS8++67PV63fPlyGI1Gx6OkpGQIqyRyHYIg4PVv8wAAP5sehXCtt8gVkbubNToYw3xVuNjYhr2FF8Uuxy2JGtQhISFQKBSoqOh6HFpFRQX0en2379Hr9b263h7SRUVF2LFjx1XHmtVqNQICAro8iDzR3oKLOHCuBiqlHE/dOEbsckgCvBRy/GSKrVX92ZFSkatxT6IGtUqlwvTp05GZmel4zmq1IjMzE8nJyd2+Jzk5ucv1ALBjx44u19tD+syZM/j3v/+N4ODgwbkBIgnp3Jq+PymarWlymjsTbMv7/nXcgOY27v3dV6J3faenp+P999/HX//6V5w6dQr/9V//hcbGRixduhQAsHjxYixfvtxx/dNPP43t27djzZo1OH36NH73u9/h0KFDeOKJJwDYQvpnP/sZDh06hI8//hgWiwUGgwEGgwFtbW2i3CORO/j6mAFHSurg7aXAr+azNU3OMy06CMODvNHYZkHm6Yprv4G6UIpdwKJFi1BVVYWVK1fCYDAgISEB27dvd0wYKy4uhlx+6f8nZs2ahU2bNuGFF17AihUrEBsbi23btiEuLg4AUFpais8//xwAkJCQ0OVn7dy5E/Pnzx+S+yJyJy1mC1ZvPwUAeDRlFEL9efgGOY9MJsOdCRFYt7MQnx0pw0+mcAOdvhB9HbUr4jpq8jT/u7sQGd+chi5AjZ3L5sNHJfr/w5PE5FfU4+b//h5eChkO/jYVgT5c9tdbond9E5G4KkwtePs727rpZ9PGM6RpUIzV+WO83h9mi4BvjnNL0b5gUBN5uJe+PImG1nbERwVi4dRIscshCVvQ8fuLs7/7hkFN5MF+OFOFL3PLIZcBLy+Ig1zOE7Jo8Py043CX/edqUG5sFrka98GgJvJQTW3t+O2ntsNsFifHIC5SK3JFJHWRgd5IjBkGQQA+P8ITDXuLQU3koV7dnofimiZEaDV45uaxYpdDHsLe/b01+wI4l7l3GNREHujHsxexYd95AMDqu6fAX+MlbkHkMX4aHw5vLwUKKhuQU1wrdjlugUFN5GGMTWY88/ejAIB7E6Mwb2yoyBWRJ/HXeOH2ji1FNx/guQq9waAm8iCCIGD5p7korWvGiGAfrLhtgtglkQe6Z6bthMIvc8tR32IWuRrXx6Am8iCbDhTj62MGKOUyvHXPVHZ5kyimjwjC6FBfNJst+OIoz6m+FgY1kYc4XFyL339+EgDwbNo4xEcFilsQeSyZTIZ7ZkYDALYcLBa5GtfHoCbyAFX1rfivj3LQZrEibZIOv5w3SuySyMPdNS0SXgoZjl4w4mSZSexyXBqDmkjiWswWPLLxEAymFowO9cXr/xEPmYwbm5C4QvzUuGmi7fClvx/ipLKrYVATSZjVKuCZvx/FkZI6aL298N7iGRyXJpexqKP7+5OcC2gx85zqnjCoiSRKEAS89NVJfHWsHF4KGf73gekYHeondllEDnPGhCAy0BumlnZ8lctJZT1hUBNJ1NvfFeDDvecBAK/+bAquGxUsbkFEl1HIZbgvydaq/mvWee5U1gMGNZEEvburEG/syAcArPrpRNw1dbjIFRF1756ZUVAp5ci9YMThkjqxy3FJDGoiCREEAet2FuCV7acBAM/cNBZLZ48UuSqingX7qXFHx6laf+3Y1pa6YlATSYTFKuD3X5zEa//KA2AL6SdvjBW5KqJre3BWDADgq9xyVJhaxC3GBTGoiSSgxWzB4x/nOA7a+O1tExjS5DbiIrVIjBmGdqvgmFdBlzCoidxcTWMb7v/zfmw/YYBKIcfb907FI9zQhNyM/ffsx/uLuP/3ZRjURG7sSEkd7nhnD7KLahGgUeL/HkrETzvG+4jcyY3jwzA61Bf1Le08VesyDGoiNyQIAv78w1n87N19uFDbjOhhPvjnf81CEpdgkZuSy2WOrW3/succ2tqtIlfkOhjURG6mprENj2zMxh+/OoV2q4DbJuvx5VNzEKvzF7s0ogFZMDUSYf5qGEwt+Ef2BbHLcRkMaiI3IQgC/pF9ATeu2YV/n6qASiHHS3dOwrr7piGA24KSBKiVCjyaMhoAsG5nAcwWtqoBBjWRWzhX3Yj7/7wfy7YeRW2TGeP1/vjkV7PwQHIMD9ggSbkvMRohfmqU1jXjkxy2qgEGNZFLq25oxR++OIm0//4e+wovQuMlx3O3jMcXT85BXKRW7PKInM5bpcCjHWPV7+ws4Fg1AKXYBRDRlYzNZvz5h7P4y55zaGqznSo0b2wo/nhnHKKDfUSujmhw3X9dNN774SxKaprxtwPFWNKxIYqnYlATuZBz1Y34677z+Ef2BTS0tgMApgzX4tm0cZgzJoTd3OQRfFRKPHVjLF7cdhxvZZ7B3dOHw0/tuXHluXdO5CJazBbsyqvC5oPF2JVX5Xh+rM4P6TeNQ9okHQOaPM49M6Pwlx/O4vzFJrz//Vn85qaxYpckGpnAc8WuYDKZoNVqYTQaERAQIHY5JEEtZgv2FVbjy6Pl+PZkhaP1LJMBN4wLw4OzY9iCJo/3VW45Ht+UA28vBTKfSUFEoLfYJYmCLWqiIdBuseK0oR57C6qxp6Aa+8/VdJkkE6HV4KfxEbgvKRojgn1FrJTIddw2WY+ZMUE4eL4Wf/r6FN65b5rYJYmCLepusEVNA9HWbsXZ6gbkVzTgeKkRR4rrcKzUiGazpct1+gANbonT46fx4ZgaFQS5nK1nosudKDPip2/vgVUA/vbIdUge7Xm77zGou8Ggpt5ot1hx/mIT8ivqkV9RjzMVDcirqMf56ka0W6/8Y+WvVmLmyGGYGxuCubEhGB3qx65tol54YdsxfPRjMUaH+uKrp+ZC46UQu6Qhxa5vomuwWAUUXWxEfkUDzlTUI7/S9s+zVY1o62HnJH+1ErE6P0wID0BCVCCmRgdiVIgfW81E/fDszePxrxMVKKxqxDvfFWBZ2jixSxpSbFF3gy1qz9XWbkV+RT2OlRqRe8GIY6V1yK9o6HHTBR+VArFhfojV+WOczh+xOj+M0/tDH6Bha5nIibYfL8djH+VAIZfh8ydmY1KE52z4w6DuBoPaM7RbrDhT2YBjF4zILa3DsQtGnCqv77aVrPGSY0yYH8aG+SNW54+xOj+M1fkjMtCbrWSiIfJfH2Xjm+MGjNX54fMn5nhMFzi7vskj2FvKJ8qMOFZqxPFSE06Vm9DaTUs5QKPE5OFaTI4MxJThWkwMD0DUMB8oGMhEovrjgjgcKqpFfkUDXv7qFF5aECd2SUOCLepusEXdP5WmFpwoM6Gktgmldc0orW1GVX0rWtqtaDVb0GK2QACgVsqh8VJAo1TAV61AgLcXtN5eCNB4IcBb2fHPK//dX6OEl6Ln7ekbW9tRWd+KSlMLyozNOFvViLNVjSisakBhVQPMlu4neMVFajuCWYspw7WIHubDbmsiF/V9fhUWf3AAAPDu/dNw6+RwkSsafGxRU78IgoDCqgbsPF2FnOJaHC2pQ5mxZdB/ro9K4QhwQQCazRa0mK1oamt37IndE623F+IiAxAXoUVcpBaTIgIQE+zLrmsiNzJvbCgenTcK//v9WTyz9ShGhvpivF7aDSq2qLvBFnX3rFYBP567iG9PVCDzdAVKapq7vC6TAbFhfhgZ4ouIQG9EBnpDF6CBj0oBtVIBjZccMhnQYraipSNgG1vbYWoxw9RshqmlveOfZpiauz5v37nrWry9FNAFqKHXajAyxA+jQ30xKtQXsWH+GB7kzZYykQS0W6xY8uEB7C24iOhhPtj2+GwM81WJXdagYVB3g0HdVX5FPT7JKcVnR0pR3qnVrFLIkTw6GLNGByMhKhBxkVr4DtLG+e0WKxpa2x0Bbmw2QwZAo7J1oXurFAjxU8FPrWQYE3mA2sY2/PSdPbhQ24z4qEBsejhp0P7+ERuDuhsMaqC13YKvj5VjY1YRDhfXOZ731yhxa5weqRN0mD0mRLJ/MIjI9RVU1uNn67NQ12TG3NgQvL94hiRngjOou+HJQV1a14yPfyzCloMluNjYBgBQymWYPy4MC6dF4obxYZL8g0BE7ulwcS3ue38/ms0WzI0NwXsPzIC3Slp/RzGou+FpQW21CthbWI2NWUXIPFUB++6X+gAN7k+KxqLEKIT5a8QtkoioB/sKq/HwXw+hqc2CxJHD8N4D0xHoI50xawZ1NzwlqI1NZvwj5wI+/rEIZ6sbHc/PGh2MxckjkDpBB+VVlkMREbmKQ+drsPTDg6hvbcfIEF/8ZckMjAr1E7ssp2BQd0PqQX3sghEf/ViEz46WosVs2/DDT63EwmmReOC6EYjV+YtcIRFR350qN+Hhvx5CaV0z/NRKvHxXHO5MiBS7rAFjUHdDikFd32LG18fKselACY6W1DmeH6/3x/3XjcBdUyPhx4lhROTmqupb8fjHOThwvgYAcGdCBF78yUSE+KlFrqz/GNTdkEpQt1us2Ft4Ef/MvoB/nTA4tsv0Ushwa1w4HkgegRkjgriciYgkpd1ixTs7C/BW5hlYBdu2wL+5aSzuS4qGWul+E80Y1N1w56BuMVuwt6Aa248bsONUBeqazI7XRof64u7pw/Ef06MQ6u++/3dJRNQbuRfqsOLTYzheagIADA/yxqMpo3H3tEj4qNynB5FB3Q13CmqrVcBpQz32FlRjb2E19p+tQbP50laaw3xV+OmUcCycNhxThmvZeiYij9JusWLLoRK8+e8zqKxvBWDbTviuqZFYOC0SkyNd/+9FlwjqdevW4bXXXoPBYEB8fDzefvttJCYm9nj91q1b8eKLL+L8+fOIjY3FK6+8gttuu83xuiAIWLVqFd5//33U1dVh9uzZePfddxEbG9urelw1qK1WAWXGZpwqr0fuhTocKalD7gUjjM3mLteFazVIm6THLXF6zBgRxJnbROTxmtss2HywGB/uPY/imibH86H+aqSMDUXK2FAkjw52ybFs0YN6y5YtWLx4MdavX4+kpCSsXbsWW7duRV5eHsLCwq64ft++fZg3bx4yMjLwk5/8BJs2bcIrr7yCnJwcxMXZjjx75ZVXkJGRgb/+9a8YOXIkXnzxRRw7dgwnT56ERnPt9cBiBXVbuxV1TW2oaWqDwdiCsroWlNU1o6S2yXYCVGVjl9aynY9KgaSRwzB7TAhmjwnBeL2/y/8fIhGRGCxWAT+cqcI/si/gu9OVVxzmowtQY1KE7XjbkSG+iAyynVsQrtWI1ugRPaiTkpIwc+ZMvPPOOwAAq9WKqKgoPPnkk3j++eevuH7RokVobGzEl19+6XjuuuuuQ0JCAtavXw9BEBAREYFnnnkGy5YtAwAYjUbodDps2LAB99xzzzVrclZQnygzYufpSrSYrR2nPFkc/2wxW9HcZkFDaztqm9pQ12Tu1cETXgoZRoX4YcpwLeKjApEQFYhxev+rHv9IRERXam234ND5WuzOr8LuvCrkVdT3eK1MBgzzUSHYT4XHrx8zpMu+RB1Nb2trQ3Z2NpYvX+54Ti6XIzU1FVlZWd2+JysrC+np6V2eS0tLw7Zt2wAA586dg8FgQGpqquN1rVaLpKQkZGVldRvUra2taG1tdfy70WgEYAvsgTiYV4pXvzjRp/fIZbbxk1B/NcK1GoRrvREeqMGIYNspUFFBPleEcnNjA5p7+DwiIurZ5DAVJodF4ok5kWhobUe+wYS8inrkGepxobYZZXXNKDe2wmyxoqqlCVU1QE1tCEwm5+w34e9/7R5QUYO6uroaFosFOp2uy/M6nQ6nT5/u9j0Gg6Hb6w0Gg+N1+3M9XXO5jIwM/P73v7/i+aioqN7dCBEReYxfrAV+4aTP6k3PrfvMTx9Ey5cv79JKt1qtqKmpQXBw8IDHek0mE6KiolBSUuJSE9MGG++b9+0JeN+874Hy9792y1zUoA4JCYFCoUBFRUWX5ysqKqDX67t9j16vv+r19n9WVFQgPDy8yzUJCQndfqZarYZa3XWmX2BgYF9u5ZoCAgI86je0He/bs/C+PQvve2iIOgNJpVJh+vTpyMzMdDxntVqRmZmJ5OTkbt+TnJzc5XoA2LFjh+P6kSNHQq/Xd7nGZDJh//79PX4mERGRqxK96zs9PR1LlizBjBkzkJiYiLVr16KxsRFLly4FACxevBiRkZHIyMgAADz99NNISUnBmjVrcPvtt2Pz5s04dOgQ3nvvPQCATCbDr3/9a/zxj39EbGysY3lWREQEFixYINZtEhER9YvoQb1o0SJUVVVh5cqVMBgMSEhIwPbt2x2TwYqLiyGXX2r4z5o1C5s2bcILL7yAFStWIDY2Ftu2bXOsoQaA//f//h8aGxvxy1/+EnV1dZgzZw62b9/eqzXUzqZWq7Fq1aorutaljvfN+/YEvG/e91AQfR01ERER9Yy7ZBAREbkwBjUREZELY1ATERG5MAY1ERGRC2NQO8m7776LKVOmOBbCJycn45tvvnG83tLSgscffxzBwcHw8/PD3XfffcXGLe7oWvc9f/58yGSyLo/HHntMxIqdb/Xq1Y5lgXZS/b476+6+pfh9/+53v7vinsaPH+94Xarf9bXuW4rftV1paSl+/vOfIzg4GN7e3pg8eTIOHTrkeF0QBKxcuRLh4eHw9vZGamoqzpw5M2j1MKidZPjw4Vi9ejWys7Nx6NAh3HDDDbjzzjtx4oTtUI7f/OY3+OKLL7B161bs3r0bZWVlWLhwochVD9y17hsAHnnkEZSXlzser776qogVO9fBgwfxv//7v5gyZUqX56X6fdv1dN+ANL/vSZMmdbmnPXv2OF6T8nd9tfsGpPld19bWYvbs2fDy8sI333yDkydPYs2aNQgKCnJc8+qrr+Ktt97C+vXrsX//fvj6+iItLQ0tLS2DU5RAgyYoKEj485//LNTV1QleXl7C1q1bHa+dOnVKACBkZWWJWOHgsN+3IAhCSkqK8PTTT4tb0CCpr68XYmNjhR07dnS5T6l/3z3dtyBI8/tetWqVEB8f3+1rUv6ur3bfgiDN71oQBOG5554T5syZ0+PrVqtV0Ov1wmuvveZ4rq6uTlCr1cLf/va3QamJLepBYLFYsHnzZjQ2NiI5ORnZ2dkwm81djt4cP348oqOjezzO0x1dft92H3/8MUJCQhAXF4fly5ejqalJxCqd5/HHH8ftt9/e5XsFIPnvu6f7tpPi933mzBlERERg1KhRuP/++1FcXAxA+t91T/dtJ8Xv+vPPP8eMGTPwH//xHwgLC8PUqVPx/vvvO16/1lHKg0H0ncmk5NixY0hOTkZLSwv8/Pzw6aefYuLEiThy5AhUKtUVB31c7ehNd9LTfQPAfffdhxEjRiAiIgK5ubl47rnnkJeXh08++UTkqgdm8+bNyMnJwcGDB694zWAwSPb7vtp9A9L8vpOSkrBhwwaMGzcO5eXl+P3vf4+5c+fi+PHjkv6ur3bf/v7+kvyuAeDs2bN49913kZ6ejhUrVuDgwYN46qmnoFKpsGTJkn4dpTxQDGonGjduHI4cOQKj0Yh//OMfWLJkCXbv3i12WYOup/ueOHEifvnLXzqumzx5MsLDw3HjjTeisLAQo0ePFrHq/ispKcHTTz+NHTt2iLItrVh6c99S/L5vvfVWx6+nTJmCpKQkjBgxAn//+9/h7e0tYmWD62r3/dBDD0nyuwZsB0PNmDEDf/rTnwAAU6dOxfHjx7F+/XosWbJElJrY9e1EKpUKY8aMwfTp05GRkYH4+Hi8+eab0Ov1aGtrQ11dXZfrr3acpzvp6b67k5SUBAAoKCgYyhKdKjs7G5WVlZg2bRqUSiWUSiV2796Nt956C0qlEjqdTpLf97Xu22KxXPEeKXzflwsMDMTYsWNRUFAg+T/bnXW+7+5I5bsODw939AjaTZgwwdHt3/ko5c4G8ztnUA8iq9WK1tZWTJ8+HV5eXl2O3szLy0NxcbEkj96033d3jhw5AgBdzgp3NzfeeCOOHTuGI0eOOB4zZszA/fff7/i1FL/va923QqG44j1S+L4v19DQgMLCQoSHh3vUn+3O990dqXzXs2fPRl5eXpfn8vPzMWLECAAiHaU8KFPUPNDzzz8v7N69Wzh37pyQm5srPP/884JMJhO+/fZbQRAE4bHHHhOio6OF7777Tjh06JCQnJwsJCcni1z1wF3tvgsKCoQ//OEPwqFDh4Rz584Jn332mTBq1Chh3rx5YpftdJfPgJXq9325zvct1e/7mWeeEXbt2iWcO3dO2Lt3r5CamiqEhIQIlZWVgiBI97u+2n1L9bsWBEE4cOCAoFQqhZdfflk4c+aM8PHHHws+Pj7CRx995Lhm9erVQmBgoPDZZ58Jubm5wp133imMHDlSaG5uHpSaGNRO8otf/EIYMWKEoFKphNDQUOHGG290hLQgCEJzc7Pwq1/9SggKChJ8fHyEu+66SygvLxexYue42n0XFxcL8+bNE4YNGyao1WphzJgxwrPPPisYjUaRq3a+y4Naqt/35Trft1S/70WLFgnh4eGCSqUSIiMjhUWLFgkFBQWO16X6XV/tvqX6Xdt98cUXQlxcnKBWq4Xx48cL7733XpfXrVar8OKLLwo6nU5Qq9XCjTfeKOTl5Q1aPTzmkoiIyIVxjJqIiMiFMaiJiIhcGIOaiIjIhTGoiYiIXBiDmoiIyIUxqImIiFwYg5qIiMiFMaiJiIhcGIOaiPotJiYGa9eu7fX158+fh0wmc+wLTUTXxqAmon47ePBgl+MOnWHDhg1XnO9M5Ml4HjUR9VtoaKjYJRBJHlvURB7kyy+/RGBgoOPs6CNHjkAmk+H55593XPPwww/j5z//OQBgz549mDt3Lry9vREVFYWnnnoKjY2Njmsv7/o+ffo05syZA41Gg4kTJ+Lf//43ZDIZtm3b1qWOs2fP4vrrr4ePjw/i4+ORlZUFANi1axeWLl0Ko9EImUwGmUyG3/3ud4PzH4PITTCoiTzI3LlzUV9fj8OHDwMAdu/ejZCQEOzatctxze7duzF//nwUFhbilltuwd13343c3Fxs2bIFe/bswRNPPNHtZ1ssFixYsAA+Pj7Yv38/3nvvPfz2t7/t9trf/va3WLZsGY4cOYKxY8fi3nvvRXt7O2bNmoW1a9ciICAA5eXlKC8vx7Jly5z+34HInTCoiTyIVqtFQkKCI5h37dqF3/zmNzh8+DAaGhpQWlqKgoICpKSkICMjA/fffz9+/etfIzY2FrNmzcJbb72FjRs3oqWl5YrP3rFjBwoLC7Fx40bEx8djzpw5ePnll7utY9myZbj99tsxduxY/P73v0dRUREKCgqgUqmg1Wohk8mg1+uh1+vh5+c3mP9JiFweg5rIw6SkpGDXrl0QBAE//PADFi5ciAkTJmDPnj3YvXs3IiIiEBsbi6NHj2LDhg3w8/NzPNLS0mC1WnHu3LkrPjcvLw9RUVHQ6/WO5xITE7utYcqUKY5fh4eHAwAqKyudfKdE0sDJZEQeZv78+fjggw9w9OhReHl5Yfz48Zg/fz527dqF2tpapKSkAAAaGhrw6KOP4qmnnrriM6KjowdUg5eXl+PXMpkMAGC1Wgf0mURSxaAm8jD2cer//u//doTy/PnzsXr1atTW1uKZZ54BAEybNg0nT57EmDFjevW548aNQ0lJCSoqKqDT6QDYlm/1lUqlckx2IyJ2fRN5nKCgIEyZMgUff/wx5s+fDwCYN28ecnJykJ+f7wjv5557Dvv27cMTTzyBI0eO4MyZM/jss896nEx20003YfTo0ViyZAlyc3Oxd+9evPDCCwAutZp7IyYmBg0NDcjMzER1dTWampoGdsNEbo5BTeSBUlJSYLFYHEE9bNgwTJw4EXq9HuPGjQNgG0fevXs38vPzMXfuXEydOhUrV65EREREt5+pUCiwbds2NDQ0YObMmXj44Ycds741Gk2va5s1axYee+wxLFq0CKGhoXj11VcHdrNEbk4mCIIgdhFEJE179+7FnDlzUFBQgNGjR4tdDpFbYlATkdN8+umn8PPzQ2xsLAoKCvD0008jKCgIe/bsEbs0IrfFyWRE5DT19fV47rnnUFxcjJCQEKSmpmLNmjVil0Xk1tiiJiIicmGcTEZEROTCGNREREQujEFNRETkwhjURERELoxBTURE5MIY1ERERC6MQU1EROTCGNREREQu7P8DOs0J3mIV3nEAAAAASUVORK5CYII=",
      "text/plain": [
       "<Figure size 500x500 with 1 Axes>"
      ]
     },
     "metadata": {},
     "output_type": "display_data"
    }
   ],
   "source": [
    "# Subset the data\n",
    "subset_data = df_chick_weights[df_chick_weights['Time'] == 2]\n",
    "\n",
    "# Repeat the plotting\n",
    "sns.displot(data=subset_data, x='weight', kind=\"kde\")\n",
    "plt.show();"
=======
    "block_annova"
>>>>>>> fc1f36cec5cfeebf73447eea0991b96831063aa0
   ]
  },
  {
   "cell_type": "markdown",
   "metadata": {},
   "source": [
    "# Addidtional / Random Work"
   ]
  },
  {
   "cell_type": "code",
<<<<<<< HEAD
   "execution_count": 23,
=======
   "execution_count": 74,
>>>>>>> fc1f36cec5cfeebf73447eea0991b96831063aa0
   "metadata": {},
   "outputs": [],
   "source": [
    "lst=[30, 57, 49, 21, 51, 26, 22, 77, 11]"
   ]
  },
  {
   "cell_type": "code",
   "execution_count": 32,
   "metadata": {},
   "outputs": [],
   "source": [
    "import itertools as itt"
   ]
  },
  {
   "cell_type": "code",
   "execution_count": 24,
   "metadata": {},
   "outputs": [],
   "source": [
    "result = []\n",
    "for i in range(2, len(lst)+1):\n",
    "  for _ in itt.combinations(lst,i):\n",
    "    if sum(_)==207:\n",
    "      result.append(_)"
   ]
  },
  {
   "cell_type": "code",
   "execution_count": 43,
   "metadata": {},
   "outputs": [
    {
     "data": {
      "text/plain": [
       "[(30, 49, 51, 77),\n",
       " (57, 51, 22, 77),\n",
       " (30, 57, 21, 22, 77),\n",
       " (30, 57, 21, 51, 26, 22)]"
      ]
     },
     "execution_count": 43,
     "metadata": {},
     "output_type": "execute_result"
    }
   ],
   "source": [
    "result"
   ]
  },
  {
   "cell_type": "code",
   "execution_count": 46,
   "metadata": {},
   "outputs": [],
   "source": [
    "lst=[30, 57, 49, 21, 51, 26, 22, 77, 11]\n",
    "import itertools as itt\n",
    "result = []\n",
    "for i in range(2, len(lst)+1):\n",
    "  for _ in itt.combinations(lst,i):\n",
    "    if sum(_)==207:\n",
    "      result.append(_)"
   ]
  },
  {
   "cell_type": "code",
   "execution_count": 48,
   "metadata": {},
   "outputs": [
    {
     "name": "stdout",
     "output_type": "stream",
     "text": [
      "[(30, 49, 51, 77), (57, 51, 22, 77), (30, 57, 21, 22, 77), (30, 57, 21, 51, 26, 22)]\n"
     ]
    }
   ],
   "source": [
    "lst=[30, 57, 49, 21, 51, 26, 22, 77, 11]\n",
    "import itertools as itt\n",
    "result = []\n",
    "for i in range(2, len(lst)+1):\n",
    "  for _ in itt.combinations(lst,i):\n",
    "    if sum(_)==207:\n",
    "      result.append(_)\n",
    "print(result)"
   ]
  },
  {
   "cell_type": "markdown",
   "metadata": {},
   "source": [
    "### Covariate adjustment in experimental design"
   ]
  },
  {
   "cell_type": "markdown",
   "metadata": {},
   "source": [
    "<b>Covariates:</b> Variables in datasets that affect experiment results but are not primary focus\n",
    "\n",
    "<li> Importance in reducing confounding\n",
    "<li> Impact on precision and validity of results\n",
    "<br>\n",
    "\n",
    "<b>Covariate adjustment with chick growth</b><br>\n",
    "Imagine studying in agricultural science the growth patterns of chicks under various dietary regimens. The data from this study sheds light on the intricate relationship between their respective diets and the consequent impact on their weight. This data includes weight measurements of chicks at different ages, allowing for an exploration of covariate adjustment. age serves as a covariate, potentially influencing the outcome variable: the weight of the chicks.\n",
    "\n",
    "DataFrames exp_chick_data, the experimental data, and cov_chick_data, the covariate data, have been loaded, along with the following libraries:\n",
    "\n"
   ]
  },
  {
   "cell_type": "code",
   "execution_count": 31,
   "metadata": {},
   "outputs": [],
   "source": [
    "import pandas as pd\n",
    "import numpy as np\n",
    "import statsmodels as sm #.formula.api import ols\n",
    "import seaborn as sns\n",
    "import matplotlib.pyplot as plt"
   ]
  },
  {
   "cell_type": "code",
   "execution_count": 27,
   "metadata": {},
   "outputs": [
    {
     "data": {
      "text/plain": [
       "(578, 4)"
      ]
     },
     "execution_count": 27,
     "metadata": {},
     "output_type": "execute_result"
    }
   ],
   "source": [
    "df_chick_weights.shape"
   ]
  },
  {
   "cell_type": "code",
   "execution_count": 25,
   "metadata": {},
   "outputs": [
    {
     "data": {
      "text/html": [
       "<div>\n",
       "<style scoped>\n",
       "    .dataframe tbody tr th:only-of-type {\n",
       "        vertical-align: middle;\n",
       "    }\n",
       "\n",
       "    .dataframe tbody tr th {\n",
       "        vertical-align: top;\n",
       "    }\n",
       "\n",
       "    .dataframe thead th {\n",
       "        text-align: right;\n",
       "    }\n",
       "</style>\n",
       "<table border=\"1\" class=\"dataframe\">\n",
       "  <thead>\n",
       "    <tr style=\"text-align: right;\">\n",
       "      <th></th>\n",
       "      <th>weight</th>\n",
       "      <th>Time</th>\n",
       "      <th>Chick</th>\n",
       "      <th>Diet</th>\n",
       "    </tr>\n",
       "  </thead>\n",
       "  <tbody>\n",
       "    <tr>\n",
       "      <th>0</th>\n",
       "      <td>42</td>\n",
       "      <td>0</td>\n",
       "      <td>1</td>\n",
       "      <td>1</td>\n",
       "    </tr>\n",
       "    <tr>\n",
       "      <th>1</th>\n",
       "      <td>51</td>\n",
       "      <td>2</td>\n",
       "      <td>1</td>\n",
       "      <td>1</td>\n",
       "    </tr>\n",
       "    <tr>\n",
       "      <th>2</th>\n",
       "      <td>59</td>\n",
       "      <td>4</td>\n",
       "      <td>1</td>\n",
       "      <td>1</td>\n",
       "    </tr>\n",
       "    <tr>\n",
       "      <th>3</th>\n",
       "      <td>64</td>\n",
       "      <td>6</td>\n",
       "      <td>1</td>\n",
       "      <td>1</td>\n",
       "    </tr>\n",
       "    <tr>\n",
       "      <th>4</th>\n",
       "      <td>76</td>\n",
       "      <td>8</td>\n",
       "      <td>1</td>\n",
       "      <td>1</td>\n",
       "    </tr>\n",
       "  </tbody>\n",
       "</table>\n",
       "</div>"
      ],
      "text/plain": [
       "   weight  Time  Chick  Diet\n",
       "0      42     0      1     1\n",
       "1      51     2      1     1\n",
       "2      59     4      1     1\n",
       "3      64     6      1     1\n",
       "4      76     8      1     1"
      ]
     },
     "execution_count": 25,
     "metadata": {},
     "output_type": "execute_result"
    }
   ],
   "source": [
    "df_chick_weights.head()"
   ]
  },
  {
   "cell_type": "code",
   "execution_count": 28,
   "metadata": {},
   "outputs": [],
   "source": [
    "exp_chick_data = df_chick_weights[['Chick', 'weight', 'Diet']]\n",
    "cov_chick_data = df_chick_weights[['Chick', 'Time']]"
   ]
  },
  {
   "cell_type": "code",
   "execution_count": 32,
   "metadata": {},
   "outputs": [
    {
     "name": "stdout",
     "output_type": "stream",
     "text": [
      "                            OLS Regression Results                            \n",
      "==============================================================================\n",
      "Dep. Variable:                 weight   R-squared:                       0.040\n",
      "Model:                            OLS   Adj. R-squared:                  0.039\n",
      "Method:                 Least Squares   F-statistic:                     140.9\n",
      "Date:                Sat, 06 Jul 2024   Prob (F-statistic):           1.12e-60\n",
      "Time:                        11:16:47   Log-Likelihood:                -38608.\n",
      "No. Observations:                6818   AIC:                         7.722e+04\n",
      "Df Residuals:                    6815   BIC:                         7.724e+04\n",
      "Df Model:                           2                                         \n",
      "Covariance Type:            nonrobust                                         \n",
      "==============================================================================\n",
      "                 coef    std err          t      P>|t|      [0.025      0.975]\n",
      "------------------------------------------------------------------------------\n",
      "Intercept     94.0678      2.275     41.342      0.000      89.607      98.528\n",
      "Diet          12.2022      0.729     16.747      0.000      10.774      13.631\n",
      "Time           0.1238      0.125      0.990      0.322      -0.121       0.369\n",
      "==============================================================================\n",
      "Omnibus:                      694.766   Durbin-Watson:                   0.055\n",
      "Prob(Omnibus):                  0.000   Jarque-Bera (JB):              922.241\n",
      "Skew:                           0.886   Prob(JB):                    5.47e-201\n",
      "Kurtosis:                       3.326   Cond. No.                         35.8\n",
      "==============================================================================\n",
      "\n",
      "Notes:\n",
      "[1] Standard Errors assume that the covariance matrix of the errors is correctly specified.\n"
     ]
    },
    {
     "data": {
      "image/png": "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",
      "text/plain": [
       "<Figure size 558.875x500 with 1 Axes>"
      ]
     },
     "metadata": {},
     "output_type": "display_data"
    }
   ],
   "source": [
    "# Join experimental and covariate data\n",
    "merged_chick_data = \\\n",
    "    pd.merge(\n",
    "        exp_chick_data,\n",
    "        cov_chick_data,\n",
    "        on='Chick'\n",
    "    )\n",
    "\n",
    "# Perform ANCOVA with Diet and Time as predictors\n",
    "model = \\\n",
    "    sm.formula.api.ols(\n",
    "        'weight ~ Diet + Time',\n",
    "        data=merged_chick_data\n",
    "    ).fit()\n",
    "\n",
    "# Print a summary of the model\n",
    "print(model.summary())\n",
    "\n",
    "# Visualize Diet effects with Time adjustment\n",
    "sns.lmplot(\n",
    "    x='Time',\n",
    "    y='weight',\n",
    "    hue='Diet',\n",
    "    data=merged_chick_data)\n",
    "plt.show()"
   ]
  },
  {
   "cell_type": "markdown",
   "metadata": {},
   "source": [
    "You've successfully merged the experimental and covariate data to create a comprehensive dataset, then adeptly performed an ANCOVA, incorporating both 'Diet' and 'Time' as predictors. The visualization further clarifies how diet influences weight over time. It looks like 'Time' might not be as meaningful since the lines are all close to parallel, and the large p-value in the summary also corresponds to the 'Time' coefficient!"
   ]
  },
  {
   "cell_type": "markdown",
   "metadata": {},
   "source": [
    "## Analyzing Experimental Data: Statistical Tests and Power"
   ]
  },
  {
   "cell_type": "markdown",
   "metadata": {},
   "source": [
    "### Choosing the right statistical test"
   ]
  },
  {
   "cell_type": "code",
   "execution_count": 50,
   "metadata": {},
   "outputs": [
    {
     "data": {
      "text/plain": [
       "'Min'"
      ]
     },
     "execution_count": 50,
     "metadata": {},
     "output_type": "execute_result"
    }
   ],
   "source": [
    "import operator as op\n",
    "my_list = [('Will', 23), ('Jane', 21), ('El', 24), ('Min', 101)]\n",
    "max(my_list, key=op.itemgetter(1))[0]"
   ]
  },
  {
   "cell_type": "code",
   "execution_count": 51,
   "metadata": {},
   "outputs": [
    {
     "name": "stdout",
     "output_type": "stream",
     "text": [
      "('Will', 23)\n",
      "('Jane', 21)\n",
      "('El', 24)\n",
      "('Min', 101)\n"
     ]
    }
   ],
   "source": [
    "for _ in my_list:\n",
    "  print(_)"
   ]
  }
 ],
 "metadata": {
  "kernelspec": {
   "display_name": "Python 3",
   "language": "python",
   "name": "python3"
  },
  "language_info": {
   "codemirror_mode": {
    "name": "ipython",
    "version": 3
   },
   "file_extension": ".py",
   "mimetype": "text/x-python",
   "name": "python",
   "nbconvert_exporter": "python",
   "pygments_lexer": "ipython3",
   "version": "3.10.11"
  }
 },
 "nbformat": 4,
 "nbformat_minor": 2
}
