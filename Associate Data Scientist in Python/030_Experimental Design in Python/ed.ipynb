{
 "cells": [
  {
   "cell_type": "markdown",
   "metadata": {},
   "source": [
    "# Experimental Design in Python"
   ]
  },
  {
   "cell_type": "markdown",
   "metadata": {},
   "source": [
    "## Experimental Design Preliminaries"
   ]
  },
  {
   "cell_type": "markdown",
   "metadata": {},
   "source": [
    "### Setting up experiments"
   ]
  },
  {
   "cell_type": "markdown",
   "metadata": {},
   "source": [
    "#### Non-random assignment of subjects\n",
    "An agricultural firm is conducting an experiment to measure how feeding sheep different types of grass affects their weight. They have asked for your help to properly set up the experiment. One of their managers has said you can perform the subject assignment by taking the top 250 rows from the DataFrame and that should be fine.\n",
    "\n",
    "Your task is to use your analytical skills to demonstrate why this might not be a good idea. Assign the subjects to two groups using non-random assignment (the first 250 rows) and observe the differences in descriptive statistics.\n",
    "\n",
    "You have received the DataFrame, weights which has a column containing the weight of the sheep and a unique id column.\n",
    "\n",
    "numpy and pandas have been imported as np and pd, respectively."
   ]
  },
  {
   "cell_type": "code",
   "execution_count": 65,
   "metadata": {},
   "outputs": [],
   "source": [
    "import numpy as np\n",
    "import pandas as pd"
   ]
  },
  {
   "cell_type": "code",
   "execution_count": 66,
   "metadata": {},
   "outputs": [
    {
     "data": {
      "text/html": [
       "<div>\n",
       "<style scoped>\n",
       "    .dataframe tbody tr th:only-of-type {\n",
       "        vertical-align: middle;\n",
       "    }\n",
       "\n",
       "    .dataframe tbody tr th {\n",
       "        vertical-align: top;\n",
       "    }\n",
       "\n",
       "    .dataframe thead th {\n",
       "        text-align: right;\n",
       "    }\n",
       "</style>\n",
       "<table border=\"1\" class=\"dataframe\">\n",
       "  <thead>\n",
       "    <tr style=\"text-align: right;\">\n",
       "      <th></th>\n",
       "      <th>weight</th>\n",
       "      <th>Time</th>\n",
       "      <th>Chick</th>\n",
       "      <th>Diet</th>\n",
       "    </tr>\n",
       "  </thead>\n",
       "  <tbody>\n",
       "    <tr>\n",
       "      <th>0</th>\n",
       "      <td>42</td>\n",
       "      <td>0</td>\n",
       "      <td>1</td>\n",
       "      <td>1</td>\n",
       "    </tr>\n",
       "    <tr>\n",
       "      <th>1</th>\n",
       "      <td>51</td>\n",
       "      <td>2</td>\n",
       "      <td>1</td>\n",
       "      <td>1</td>\n",
       "    </tr>\n",
       "    <tr>\n",
       "      <th>2</th>\n",
       "      <td>59</td>\n",
       "      <td>4</td>\n",
       "      <td>1</td>\n",
       "      <td>1</td>\n",
       "    </tr>\n",
       "    <tr>\n",
       "      <th>3</th>\n",
       "      <td>64</td>\n",
       "      <td>6</td>\n",
       "      <td>1</td>\n",
       "      <td>1</td>\n",
       "    </tr>\n",
       "    <tr>\n",
       "      <th>4</th>\n",
       "      <td>76</td>\n",
       "      <td>8</td>\n",
       "      <td>1</td>\n",
       "      <td>1</td>\n",
       "    </tr>\n",
       "  </tbody>\n",
       "</table>\n",
       "</div>"
      ],
      "text/plain": [
       "   weight  Time  Chick  Diet\n",
       "0      42     0      1     1\n",
       "1      51     2      1     1\n",
       "2      59     4      1     1\n",
       "3      64     6      1     1\n",
       "4      76     8      1     1"
      ]
     },
     "execution_count": 66,
     "metadata": {},
     "output_type": "execute_result"
    }
   ],
   "source": [
    "df_chick_weights = pd.read_csv(r'.\\data\\chick_weight.csv')\n",
    "df_chick_weights.head()"
   ]
  },
  {
   "cell_type": "code",
   "execution_count": 67,
   "metadata": {},
   "outputs": [
    {
     "name": "stdout",
     "output_type": "stream",
     "text": [
      "           group1      group2\n",
      "count  290.000000  289.000000\n",
      "mean   106.831034  137.145329\n",
      "std     61.521165   76.707912\n",
      "min     35.000000   39.000000\n",
      "25%     59.000000   69.000000\n",
      "50%     89.000000  126.000000\n",
      "75%    141.750000  186.000000\n",
      "max    331.000000  373.000000\n"
     ]
    }
   ],
   "source": [
    "# Non-random assignment\n",
    "group1_non_rand = df_chick_weights.loc[:289,['weight']]\n",
    "group2_non_rand = df_chick_weights.loc[289:,['weight']]\n",
    "\n",
    "# Compare descriptive statistics of groups\n",
    "compare_df_non_rand = \\\n",
    "    pd.concat(\n",
    "        [group1_non_rand['weight'].describe(),\n",
    "        group2_non_rand['weight'].describe()],\n",
    "        axis=1\n",
    "    )\n",
    "compare_df_non_rand.columns = ['group1', 'group2']\n",
    "\n",
    "# Print to assess\n",
    "print(compare_df_non_rand)"
   ]
  },
  {
   "cell_type": "markdown",
   "metadata": {},
   "source": [
    "#### Random assignment of subjects\n",
    "Having built trust from your last work with the agricultural firm, you have been given the task of properly setting up the experiment.\n",
    "\n",
    "Use your knowledge of best practice experimental design set up to assign the sheep to two even groups of 250 each."
   ]
  },
  {
   "cell_type": "code",
   "execution_count": 68,
   "metadata": {},
   "outputs": [
    {
     "name": "stdout",
     "output_type": "stream",
     "text": [
      "           group1      group2\n",
      "count  289.000000  289.000000\n",
      "mean   120.044983  123.591696\n",
      "std     70.089685   72.118725\n",
      "min     35.000000   39.000000\n",
      "25%     62.000000   63.000000\n",
      "50%    105.000000  103.000000\n",
      "75%    163.000000  164.000000\n",
      "max    373.000000  361.000000\n"
     ]
    }
   ],
   "source": [
    "# Randomly assign half\n",
    "group1_random = df_chick_weights.sample(\n",
    "    frac=0.5,\n",
    "    random_state=42,\n",
    "    replace=False\n",
    ")\n",
    "\n",
    "# Create second assignment\n",
    "group2_random = df_chick_weights.drop(\n",
    "    group1_random.index\n",
    ")\n",
    "\n",
    "# Compare assignments\n",
    "compare_df_random = pd.concat(\n",
    "    [group1_random['weight'].describe(),\n",
    "    group2_random['weight'].describe()],\n",
    "    axis=1\n",
    ")\n",
    "compare_df_random.columns = ['group1', 'group2']\n",
    "print(compare_df_random)"
   ]
  },
  {
   "cell_type": "markdown",
   "metadata": {},
   "source": [
    "### Experimental data setup"
   ]
  },
  {
   "cell_type": "markdown",
   "metadata": {},
   "source": [
    "#### Test"
   ]
  },
  {
   "cell_type": "code",
   "execution_count": 69,
   "metadata": {},
   "outputs": [
    {
     "data": {
      "text/html": [
       "<div>\n",
       "<style scoped>\n",
       "    .dataframe tbody tr th:only-of-type {\n",
       "        vertical-align: middle;\n",
       "    }\n",
       "\n",
       "    .dataframe tbody tr th {\n",
       "        vertical-align: top;\n",
       "    }\n",
       "\n",
       "    .dataframe thead th {\n",
       "        text-align: right;\n",
       "    }\n",
       "</style>\n",
       "<table border=\"1\" class=\"dataframe\">\n",
       "  <thead>\n",
       "    <tr style=\"text-align: right;\">\n",
       "      <th></th>\n",
       "      <th>weight</th>\n",
       "      <th>Time</th>\n",
       "      <th>Chick</th>\n",
       "      <th>Diet</th>\n",
       "    </tr>\n",
       "  </thead>\n",
       "  <tbody>\n",
       "    <tr>\n",
       "      <th>0</th>\n",
       "      <td>42</td>\n",
       "      <td>0</td>\n",
       "      <td>1</td>\n",
       "      <td>1</td>\n",
       "    </tr>\n",
       "    <tr>\n",
       "      <th>1</th>\n",
       "      <td>51</td>\n",
       "      <td>2</td>\n",
       "      <td>1</td>\n",
       "      <td>1</td>\n",
       "    </tr>\n",
       "    <tr>\n",
       "      <th>2</th>\n",
       "      <td>59</td>\n",
       "      <td>4</td>\n",
       "      <td>1</td>\n",
       "      <td>1</td>\n",
       "    </tr>\n",
       "    <tr>\n",
       "      <th>3</th>\n",
       "      <td>64</td>\n",
       "      <td>6</td>\n",
       "      <td>1</td>\n",
       "      <td>1</td>\n",
       "    </tr>\n",
       "    <tr>\n",
       "      <th>4</th>\n",
       "      <td>76</td>\n",
       "      <td>8</td>\n",
       "      <td>1</td>\n",
       "      <td>1</td>\n",
       "    </tr>\n",
       "  </tbody>\n",
       "</table>\n",
       "</div>"
      ],
      "text/plain": [
       "   weight  Time  Chick  Diet\n",
       "0      42     0      1     1\n",
       "1      51     2      1     1\n",
       "2      59     4      1     1\n",
       "3      64     6      1     1\n",
       "4      76     8      1     1"
      ]
     },
     "execution_count": 69,
     "metadata": {},
     "output_type": "execute_result"
    }
   ],
   "source": [
    "df_chick_weights.head()"
   ]
  },
  {
   "cell_type": "code",
   "execution_count": 70,
   "metadata": {},
   "outputs": [
    {
     "data": {
      "image/png": "[encoded data removed]",
      "text/plain": [
       "<Figure size 762.375x360 with 1 Axes>"
      ]
     },
     "metadata": {
      "needs_background": "light"
     },
     "output_type": "display_data"
    }
   ],
   "source": [
    "import seaborn as sns\n",
    "import matplotlib.pyplot as plt\n",
    "import warnings\n",
    "warnings.filterwarnings('ignore')\n",
    "\n",
    "sns.displot(  data=df_chick_weights,\n",
    "              x='weight',\n",
    "              hue='Diet',\n",
    "              kind='kde',\n",
    "              aspect=2\n",
    "          )\n",
    "plt.show();"
   ]
  },
  {
   "cell_type": "markdown",
   "metadata": {},
   "source": [
    "#### Blocking experimental data"
   ]
  },
  {
   "cell_type": "markdown",
   "metadata": {},
   "source": [
    "You are working with a manufacturing firm that wants to conduct some experiments on worker productivity. Their dataset only contains 100 rows, so it's important that experimental groups are balanced.\n",
    "\n",
    "This sounds like a great opportunity to use your knowledge of blocking to assist them. They have provided a productivity_subjects DataFrame. Split the provided dataset into two even groups of 50 entries each."
   ]
  },
  {
   "cell_type": "code",
   "execution_count": null,
   "metadata": {},
   "outputs": [],
   "source": []
  },
  {
   "cell_type": "code",
   "execution_count": null,
   "metadata": {},
   "outputs": [],
   "source": []
  },
  {
   "cell_type": "markdown",
   "metadata": {},
   "source": [
    "## Experimental Design Techniques"
   ]
  },
  {
   "cell_type": "markdown",
   "metadata": {},
   "source": [
    "### Factorial designs: principles and applications"
   ]
  },
  {
   "cell_type": "code",
   "execution_count": 71,
   "metadata": {},
   "outputs": [
    {
     "data": {
      "text/html": [
       "<div>\n",
       "<style scoped>\n",
       "    .dataframe tbody tr th:only-of-type {\n",
       "        vertical-align: middle;\n",
       "    }\n",
       "\n",
       "    .dataframe tbody tr th {\n",
       "        vertical-align: top;\n",
       "    }\n",
       "\n",
       "    .dataframe thead th {\n",
       "        text-align: right;\n",
       "    }\n",
       "</style>\n",
       "<table border=\"1\" class=\"dataframe\">\n",
       "  <thead>\n",
       "    <tr style=\"text-align: right;\">\n",
       "      <th></th>\n",
       "      <th>Messaging_Style</th>\n",
       "      <th>Time_of_Day</th>\n",
       "      <th>Click_Through_Rate</th>\n",
       "      <th>Conversions</th>\n",
       "    </tr>\n",
       "  </thead>\n",
       "  <tbody>\n",
       "    <tr>\n",
       "      <th>0</th>\n",
       "      <td>Casual</td>\n",
       "      <td>Morning</td>\n",
       "      <td>0.640465</td>\n",
       "      <td>500</td>\n",
       "    </tr>\n",
       "    <tr>\n",
       "      <th>1</th>\n",
       "      <td>Formal</td>\n",
       "      <td>Evening</td>\n",
       "      <td>0.698533</td>\n",
       "      <td>598</td>\n",
       "    </tr>\n",
       "    <tr>\n",
       "      <th>2</th>\n",
       "      <td>Casual</td>\n",
       "      <td>Morning</td>\n",
       "      <td>0.257834</td>\n",
       "      <td>234</td>\n",
       "    </tr>\n",
       "    <tr>\n",
       "      <th>3</th>\n",
       "      <td>Casual</td>\n",
       "      <td>Evening</td>\n",
       "      <td>0.922971</td>\n",
       "      <td>602</td>\n",
       "    </tr>\n",
       "    <tr>\n",
       "      <th>4</th>\n",
       "      <td>Casual</td>\n",
       "      <td>Morning</td>\n",
       "      <td>0.476893</td>\n",
       "      <td>314</td>\n",
       "    </tr>\n",
       "  </tbody>\n",
       "</table>\n",
       "</div>"
      ],
      "text/plain": [
       "  Messaging_Style Time_of_Day  Click_Through_Rate  Conversions\n",
       "0          Casual     Morning            0.640465          500\n",
       "1          Formal     Evening            0.698533          598\n",
       "2          Casual     Morning            0.257834          234\n",
       "3          Casual     Evening            0.922971          602\n",
       "4          Casual     Morning            0.476893          314"
      ]
     },
     "execution_count": 71,
     "metadata": {},
     "output_type": "execute_result"
    }
   ],
   "source": [
    "import pandas as pd\n",
    "marketing_data = pd.read_feather(r'./data/marketing_data.feather')\n",
    "marketing_data.head()"
   ]
  },
  {
   "cell_type": "code",
   "execution_count": 72,
   "metadata": {},
   "outputs": [
    {
     "name": "stdout",
     "output_type": "stream",
     "text": [
      "Time_of_Day         Evening     Morning\n",
      "Messaging_Style                        \n",
      "Casual           402.329004  401.133891\n",
      "Formal           432.913043  411.096000\n"
     ]
    }
   ],
   "source": [
    "marketing_pivot =\\\n",
    "  pd.pivot_table(\n",
    "    marketing_data,\n",
    "    values='Conversions',\n",
    "    index='Messaging_Style',\n",
    "    columns='Time_of_Day',\n",
    "    aggfunc='mean'\n",
    ")\n",
    "print(marketing_pivot)"
   ]
  },
  {
   "cell_type": "code",
   "execution_count": 73,
   "metadata": {},
   "outputs": [
    {
     "data": {
      "image/png": "[encoded data removed]",
      "text/plain": [
       "<Figure size 432x288 with 2 Axes>"
      ]
     },
     "metadata": {
      "needs_background": "light"
     },
     "output_type": "display_data"
    }
   ],
   "source": [
    "import seaborn as sns\n",
    "import matplotlib.pyplot as plt\n",
    "# Visualize interactions with a heatmap\n",
    "sns.heatmap(\n",
    "    marketing_pivot,\n",
    "    annot=True,\n",
    "    cmap='coolwarm',\n",
    "    fmt='g')\n",
    "\n",
    "plt.show()"
   ]
  },
  {
   "cell_type": "markdown",
   "metadata": {},
   "source": [
    "### Randomized block design: controlling variance"
   ]
  },
  {
   "cell_type": "code",
   "execution_count": 88,
   "metadata": {},
   "outputs": [
    {
     "data": {
      "text/html": [
       "<div>\n",
       "<style scoped>\n",
       "    .dataframe tbody tr th:only-of-type {\n",
       "        vertical-align: middle;\n",
       "    }\n",
       "\n",
       "    .dataframe tbody tr th {\n",
       "        vertical-align: top;\n",
       "    }\n",
       "\n",
       "    .dataframe thead th {\n",
       "        text-align: right;\n",
       "    }\n",
       "</style>\n",
       "<table border=\"1\" class=\"dataframe\">\n",
       "  <thead>\n",
       "    <tr style=\"text-align: right;\">\n",
       "      <th></th>\n",
       "      <th>Athlete_ID</th>\n",
       "      <th>Training_Program</th>\n",
       "      <th>Diet_Type</th>\n",
       "      <th>Initial_Fitness</th>\n",
       "      <th>Performance_Inc</th>\n",
       "    </tr>\n",
       "  </thead>\n",
       "  <tbody>\n",
       "    <tr>\n",
       "      <th>0</th>\n",
       "      <td>1</td>\n",
       "      <td>Strength</td>\n",
       "      <td>Keto</td>\n",
       "      <td>Low</td>\n",
       "      <td>8.749524</td>\n",
       "    </tr>\n",
       "    <tr>\n",
       "      <th>1</th>\n",
       "      <td>2</td>\n",
       "      <td>HIIT</td>\n",
       "      <td>Plant-Based</td>\n",
       "      <td>High</td>\n",
       "      <td>9.452781</td>\n",
       "    </tr>\n",
       "    <tr>\n",
       "      <th>2</th>\n",
       "      <td>3</td>\n",
       "      <td>Strength</td>\n",
       "      <td>Plant-Based</td>\n",
       "      <td>Low</td>\n",
       "      <td>13.928506</td>\n",
       "    </tr>\n",
       "  </tbody>\n",
       "</table>\n",
       "</div>"
      ],
      "text/plain": [
       "   Athlete_ID Training_Program    Diet_Type Initial_Fitness  Performance_Inc\n",
       "0           1         Strength         Keto             Low         8.749524\n",
       "1           2             HIIT  Plant-Based            High         9.452781\n",
       "2           3         Strength  Plant-Based             Low        13.928506"
      ]
     },
     "execution_count": 88,
     "metadata": {},
     "output_type": "execute_result"
    }
   ],
   "source": [
    "import pandas as pd\n",
    "import numpy as np\n",
    "import seaborn as sns\n",
    "athletes = pd.read_csv(r'.\\data\\athletic_perf.csv')\n",
    "athletes.head(3)"
   ]
  },
  {
   "cell_type": "code",
   "execution_count": 80,
   "metadata": {},
   "outputs": [
    {
     "data": {
      "text/plain": [
       "array(['Low', 'High', 'Medium'], dtype=object)"
      ]
     },
     "execution_count": 80,
     "metadata": {},
     "output_type": "execute_result"
    }
   ],
   "source": [
    "athletes['Initial_Fitness'].unique()"
   ]
  },
  {
   "cell_type": "code",
   "execution_count": 77,
   "metadata": {},
   "outputs": [
    {
     "data": {
      "text/html": [
       "<div>\n",
       "<style scoped>\n",
       "    .dataframe tbody tr th:only-of-type {\n",
       "        vertical-align: middle;\n",
       "    }\n",
       "\n",
       "    .dataframe tbody tr th {\n",
       "        vertical-align: top;\n",
       "    }\n",
       "\n",
       "    .dataframe thead th {\n",
       "        text-align: right;\n",
       "    }\n",
       "</style>\n",
       "<table border=\"1\" class=\"dataframe\">\n",
       "  <thead>\n",
       "    <tr style=\"text-align: right;\">\n",
       "      <th></th>\n",
       "      <th></th>\n",
       "      <th>Athlete_ID</th>\n",
       "      <th>Training_Program</th>\n",
       "      <th>Diet_Type</th>\n",
       "      <th>Initial_Fitness</th>\n",
       "      <th>Performance_Inc</th>\n",
       "    </tr>\n",
       "    <tr>\n",
       "      <th>Initial_Fitness</th>\n",
       "      <th></th>\n",
       "      <th></th>\n",
       "      <th></th>\n",
       "      <th></th>\n",
       "      <th></th>\n",
       "      <th></th>\n",
       "    </tr>\n",
       "  </thead>\n",
       "  <tbody>\n",
       "    <tr>\n",
       "      <th rowspan=\"5\" valign=\"top\">High</th>\n",
       "      <th>273</th>\n",
       "      <td>274</td>\n",
       "      <td>Endurance</td>\n",
       "      <td>Plant-Based</td>\n",
       "      <td>High</td>\n",
       "      <td>7.334511</td>\n",
       "    </tr>\n",
       "    <tr>\n",
       "      <th>155</th>\n",
       "      <td>156</td>\n",
       "      <td>Strength</td>\n",
       "      <td>Keto</td>\n",
       "      <td>High</td>\n",
       "      <td>8.619201</td>\n",
       "    </tr>\n",
       "    <tr>\n",
       "      <th>274</th>\n",
       "      <td>275</td>\n",
       "      <td>HIIT</td>\n",
       "      <td>High-Protein</td>\n",
       "      <td>High</td>\n",
       "      <td>15.521524</td>\n",
       "    </tr>\n",
       "    <tr>\n",
       "      <th>265</th>\n",
       "      <td>266</td>\n",
       "      <td>Endurance</td>\n",
       "      <td>High-Protein</td>\n",
       "      <td>High</td>\n",
       "      <td>4.843569</td>\n",
       "    </tr>\n",
       "    <tr>\n",
       "      <th>1</th>\n",
       "      <td>2</td>\n",
       "      <td>HIIT</td>\n",
       "      <td>Plant-Based</td>\n",
       "      <td>High</td>\n",
       "      <td>9.452781</td>\n",
       "    </tr>\n",
       "    <tr>\n",
       "      <th>...</th>\n",
       "      <th>...</th>\n",
       "      <td>...</td>\n",
       "      <td>...</td>\n",
       "      <td>...</td>\n",
       "      <td>...</td>\n",
       "      <td>...</td>\n",
       "    </tr>\n",
       "    <tr>\n",
       "      <th rowspan=\"5\" valign=\"top\">Medium</th>\n",
       "      <th>88</th>\n",
       "      <td>89</td>\n",
       "      <td>Endurance</td>\n",
       "      <td>Plant-Based</td>\n",
       "      <td>Medium</td>\n",
       "      <td>11.306799</td>\n",
       "    </tr>\n",
       "    <tr>\n",
       "      <th>271</th>\n",
       "      <td>272</td>\n",
       "      <td>Endurance</td>\n",
       "      <td>Plant-Based</td>\n",
       "      <td>Medium</td>\n",
       "      <td>8.166908</td>\n",
       "    </tr>\n",
       "    <tr>\n",
       "      <th>9</th>\n",
       "      <td>10</td>\n",
       "      <td>Strength</td>\n",
       "      <td>Plant-Based</td>\n",
       "      <td>Medium</td>\n",
       "      <td>10.138011</td>\n",
       "    </tr>\n",
       "    <tr>\n",
       "      <th>175</th>\n",
       "      <td>176</td>\n",
       "      <td>HIIT</td>\n",
       "      <td>Plant-Based</td>\n",
       "      <td>Medium</td>\n",
       "      <td>8.689780</td>\n",
       "    </tr>\n",
       "    <tr>\n",
       "      <th>238</th>\n",
       "      <td>239</td>\n",
       "      <td>Strength</td>\n",
       "      <td>High-Protein</td>\n",
       "      <td>Medium</td>\n",
       "      <td>8.745379</td>\n",
       "    </tr>\n",
       "  </tbody>\n",
       "</table>\n",
       "<p>300 rows × 5 columns</p>\n",
       "</div>"
      ],
      "text/plain": [
       "                     Athlete_ID Training_Program     Diet_Type  \\\n",
       "Initial_Fitness                                                  \n",
       "High            273         274        Endurance   Plant-Based   \n",
       "                155         156         Strength          Keto   \n",
       "                274         275             HIIT  High-Protein   \n",
       "                265         266        Endurance  High-Protein   \n",
       "                1             2             HIIT   Plant-Based   \n",
       "...                         ...              ...           ...   \n",
       "Medium          88           89        Endurance   Plant-Based   \n",
       "                271         272        Endurance   Plant-Based   \n",
       "                9            10         Strength   Plant-Based   \n",
       "                175         176             HIIT   Plant-Based   \n",
       "                238         239         Strength  High-Protein   \n",
       "\n",
       "                    Initial_Fitness  Performance_Inc  \n",
       "Initial_Fitness                                       \n",
       "High            273            High         7.334511  \n",
       "                155            High         8.619201  \n",
       "                274            High        15.521524  \n",
       "                265            High         4.843569  \n",
       "                1              High         9.452781  \n",
       "...                             ...              ...  \n",
       "Medium          88           Medium        11.306799  \n",
       "                271          Medium         8.166908  \n",
       "                9            Medium        10.138011  \n",
       "                175          Medium         8.689780  \n",
       "                238          Medium         8.745379  \n",
       "\n",
       "[300 rows x 5 columns]"
      ]
     },
     "execution_count": 77,
     "metadata": {},
     "output_type": "execute_result"
    }
   ],
   "source": [
    "athletes.groupby(by='Initial_Fitness').apply(\n",
    "  lambda x: x.sample(frac=1)\n",
    ")"
   ]
  },
  {
   "cell_type": "code",
   "execution_count": 78,
   "metadata": {},
   "outputs": [
    {
     "data": {
      "text/html": [
       "<div>\n",
       "<style scoped>\n",
       "    .dataframe tbody tr th:only-of-type {\n",
       "        vertical-align: middle;\n",
       "    }\n",
       "\n",
       "    .dataframe tbody tr th {\n",
       "        vertical-align: top;\n",
       "    }\n",
       "\n",
       "    .dataframe thead th {\n",
       "        text-align: right;\n",
       "    }\n",
       "</style>\n",
       "<table border=\"1\" class=\"dataframe\">\n",
       "  <thead>\n",
       "    <tr style=\"text-align: right;\">\n",
       "      <th></th>\n",
       "      <th>Athlete_ID</th>\n",
       "      <th>Training_Program</th>\n",
       "      <th>Diet_Type</th>\n",
       "      <th>Initial_Fitness</th>\n",
       "      <th>Performance_Inc</th>\n",
       "    </tr>\n",
       "  </thead>\n",
       "  <tbody>\n",
       "    <tr>\n",
       "      <th>0</th>\n",
       "      <td>9</td>\n",
       "      <td>Strength</td>\n",
       "      <td>Keto</td>\n",
       "      <td>High</td>\n",
       "      <td>11.599382</td>\n",
       "    </tr>\n",
       "    <tr>\n",
       "      <th>1</th>\n",
       "      <td>72</td>\n",
       "      <td>Endurance</td>\n",
       "      <td>Keto</td>\n",
       "      <td>High</td>\n",
       "      <td>7.974764</td>\n",
       "    </tr>\n",
       "    <tr>\n",
       "      <th>2</th>\n",
       "      <td>262</td>\n",
       "      <td>Endurance</td>\n",
       "      <td>High-Protein</td>\n",
       "      <td>High</td>\n",
       "      <td>10.253586</td>\n",
       "    </tr>\n",
       "    <tr>\n",
       "      <th>3</th>\n",
       "      <td>220</td>\n",
       "      <td>HIIT</td>\n",
       "      <td>Keto</td>\n",
       "      <td>High</td>\n",
       "      <td>11.246799</td>\n",
       "    </tr>\n",
       "    <tr>\n",
       "      <th>4</th>\n",
       "      <td>131</td>\n",
       "      <td>Strength</td>\n",
       "      <td>Keto</td>\n",
       "      <td>High</td>\n",
       "      <td>12.660877</td>\n",
       "    </tr>\n",
       "    <tr>\n",
       "      <th>...</th>\n",
       "      <td>...</td>\n",
       "      <td>...</td>\n",
       "      <td>...</td>\n",
       "      <td>...</td>\n",
       "      <td>...</td>\n",
       "    </tr>\n",
       "    <tr>\n",
       "      <th>295</th>\n",
       "      <td>12</td>\n",
       "      <td>Strength</td>\n",
       "      <td>Keto</td>\n",
       "      <td>Medium</td>\n",
       "      <td>8.439313</td>\n",
       "    </tr>\n",
       "    <tr>\n",
       "      <th>296</th>\n",
       "      <td>158</td>\n",
       "      <td>HIIT</td>\n",
       "      <td>High-Protein</td>\n",
       "      <td>Medium</td>\n",
       "      <td>8.739175</td>\n",
       "    </tr>\n",
       "    <tr>\n",
       "      <th>297</th>\n",
       "      <td>121</td>\n",
       "      <td>HIIT</td>\n",
       "      <td>Keto</td>\n",
       "      <td>Medium</td>\n",
       "      <td>9.187451</td>\n",
       "    </tr>\n",
       "    <tr>\n",
       "      <th>298</th>\n",
       "      <td>288</td>\n",
       "      <td>Endurance</td>\n",
       "      <td>Plant-Based</td>\n",
       "      <td>Medium</td>\n",
       "      <td>10.265872</td>\n",
       "    </tr>\n",
       "    <tr>\n",
       "      <th>299</th>\n",
       "      <td>234</td>\n",
       "      <td>Endurance</td>\n",
       "      <td>Keto</td>\n",
       "      <td>Medium</td>\n",
       "      <td>8.985125</td>\n",
       "    </tr>\n",
       "  </tbody>\n",
       "</table>\n",
       "<p>300 rows × 5 columns</p>\n",
       "</div>"
      ],
      "text/plain": [
       "     Athlete_ID Training_Program     Diet_Type Initial_Fitness  \\\n",
       "0             9         Strength          Keto            High   \n",
       "1            72        Endurance          Keto            High   \n",
       "2           262        Endurance  High-Protein            High   \n",
       "3           220             HIIT          Keto            High   \n",
       "4           131         Strength          Keto            High   \n",
       "..          ...              ...           ...             ...   \n",
       "295          12         Strength          Keto          Medium   \n",
       "296         158             HIIT  High-Protein          Medium   \n",
       "297         121             HIIT          Keto          Medium   \n",
       "298         288        Endurance   Plant-Based          Medium   \n",
       "299         234        Endurance          Keto          Medium   \n",
       "\n",
       "     Performance_Inc  \n",
       "0          11.599382  \n",
       "1           7.974764  \n",
       "2          10.253586  \n",
       "3          11.246799  \n",
       "4          12.660877  \n",
       "..               ...  \n",
       "295         8.439313  \n",
       "296         8.739175  \n",
       "297         9.187451  \n",
       "298        10.265872  \n",
       "299         8.985125  \n",
       "\n",
       "[300 rows x 5 columns]"
      ]
     },
     "execution_count": 78,
     "metadata": {},
     "output_type": "execute_result"
    }
   ],
   "source": [
    "athletes.groupby(by='Initial_Fitness').apply(\n",
    "  lambda x: x.sample(frac=1)\n",
    ").reset_index(drop=True)"
   ]
  },
  {
   "cell_type": "code",
   "execution_count": 84,
   "metadata": {},
   "outputs": [],
   "source": [
    "blocks = athletes.groupby(by='Initial_Fitness').apply(\n",
    "  lambda x: x.sample(frac=1)\n",
    ").reset_index(drop=True)"
   ]
  },
  {
   "cell_type": "code",
   "execution_count": 85,
   "metadata": {},
   "outputs": [
    {
     "data": {
      "text/html": [
       "<div>\n",
       "<style scoped>\n",
       "    .dataframe tbody tr th:only-of-type {\n",
       "        vertical-align: middle;\n",
       "    }\n",
       "\n",
       "    .dataframe tbody tr th {\n",
       "        vertical-align: top;\n",
       "    }\n",
       "\n",
       "    .dataframe thead th {\n",
       "        text-align: right;\n",
       "    }\n",
       "</style>\n",
       "<table border=\"1\" class=\"dataframe\">\n",
       "  <thead>\n",
       "    <tr style=\"text-align: right;\">\n",
       "      <th></th>\n",
       "      <th>Athlete_ID</th>\n",
       "      <th>Training_Program</th>\n",
       "      <th>Diet_Type</th>\n",
       "      <th>Initial_Fitness</th>\n",
       "      <th>Performance_Inc</th>\n",
       "      <th>Treatment</th>\n",
       "    </tr>\n",
       "  </thead>\n",
       "  <tbody>\n",
       "    <tr>\n",
       "      <th>296</th>\n",
       "      <td>111</td>\n",
       "      <td>Strength</td>\n",
       "      <td>Plant-Based</td>\n",
       "      <td>Medium</td>\n",
       "      <td>9.974512</td>\n",
       "      <td>Test_2</td>\n",
       "    </tr>\n",
       "    <tr>\n",
       "      <th>29</th>\n",
       "      <td>245</td>\n",
       "      <td>HIIT</td>\n",
       "      <td>Keto</td>\n",
       "      <td>High</td>\n",
       "      <td>9.960221</td>\n",
       "      <td>Test_2</td>\n",
       "    </tr>\n",
       "    <tr>\n",
       "      <th>37</th>\n",
       "      <td>87</td>\n",
       "      <td>Strength</td>\n",
       "      <td>Keto</td>\n",
       "      <td>High</td>\n",
       "      <td>9.115135</td>\n",
       "      <td>Test_1</td>\n",
       "    </tr>\n",
       "    <tr>\n",
       "      <th>28</th>\n",
       "      <td>192</td>\n",
       "      <td>Endurance</td>\n",
       "      <td>High-Protein</td>\n",
       "      <td>High</td>\n",
       "      <td>12.930780</td>\n",
       "      <td>Test_3</td>\n",
       "    </tr>\n",
       "    <tr>\n",
       "      <th>54</th>\n",
       "      <td>4</td>\n",
       "      <td>Strength</td>\n",
       "      <td>Plant-Based</td>\n",
       "      <td>High</td>\n",
       "      <td>9.605557</td>\n",
       "      <td>Test_2</td>\n",
       "    </tr>\n",
       "    <tr>\n",
       "      <th>232</th>\n",
       "      <td>150</td>\n",
       "      <td>HIIT</td>\n",
       "      <td>Plant-Based</td>\n",
       "      <td>Medium</td>\n",
       "      <td>9.221424</td>\n",
       "      <td>Test_1</td>\n",
       "    </tr>\n",
       "  </tbody>\n",
       "</table>\n",
       "</div>"
      ],
      "text/plain": [
       "     Athlete_ID Training_Program     Diet_Type Initial_Fitness  \\\n",
       "296         111         Strength   Plant-Based          Medium   \n",
       "29          245             HIIT          Keto            High   \n",
       "37           87         Strength          Keto            High   \n",
       "28          192        Endurance  High-Protein            High   \n",
       "54            4         Strength   Plant-Based            High   \n",
       "232         150             HIIT   Plant-Based          Medium   \n",
       "\n",
       "     Performance_Inc Treatment  \n",
       "296         9.974512    Test_2  \n",
       "29          9.960221    Test_2  \n",
       "37          9.115135    Test_1  \n",
       "28         12.930780    Test_3  \n",
       "54          9.605557    Test_2  \n",
       "232         9.221424    Test_1  "
      ]
     },
     "execution_count": 85,
     "metadata": {},
     "output_type": "execute_result"
    }
   ],
   "source": [
    "blocks['Treatment'] = np.random.choice(\n",
    "  ['Test_1', 'Test_2', 'Test_3'],\n",
    "  size=len(blocks)\n",
    ")\n",
    "blocks.sample(6)"
   ]
  },
  {
   "cell_type": "code",
   "execution_count": 87,
   "metadata": {},
   "outputs": [
    {
     "data": {
      "text/plain": [
       "Initial_Fitness  Treatment\n",
       "High             Test_1       28\n",
       "                 Test_2       30\n",
       "                 Test_3       30\n",
       "Low              Test_1       36\n",
       "                 Test_2       43\n",
       "                 Test_3       34\n",
       "Medium           Test_1       30\n",
       "                 Test_2       35\n",
       "                 Test_3       34\n",
       "Name: count, dtype: int64"
      ]
     },
     "execution_count": 87,
     "metadata": {},
     "output_type": "execute_result"
    }
   ],
   "source": [
    "blocks[['Initial_Fitness', 'Treatment']].value_counts().sort_index()"
   ]
  },
  {
   "cell_type": "code",
   "execution_count": 99,
   "metadata": {},
   "outputs": [
    {
     "data": {
      "text/plain": [
       "<Axes: xlabel='Initial_Fitness', ylabel='Performance_Inc'>"
      ]
     },
     "execution_count": 99,
     "metadata": {},
     "output_type": "execute_result"
    },
    {
     "data": {
      "image/png": "[encoded data removed]",
      "text/plain": [
       "<Figure size 432x288 with 1 Axes>"
      ]
     },
     "metadata": {
      "needs_background": "light"
     },
     "output_type": "display_data"
    }
   ],
   "source": [
    "sns.boxplot(\n",
    "  data=blocks\n",
    "  , x='Initial_Fitness'\n",
    "  , y='Performance_Inc'\n",
    "  , notch=True\n",
    "  , medianprops={'color':'r'}\n",
    "  , order=['Low', 'Medium', 'High']\n",
    ")"
   ]
  },
  {
   "cell_type": "code",
   "execution_count": 100,
   "metadata": {},
   "outputs": [
    {
     "data": {
      "text/plain": [
       "<Axes: xlabel='Initial_Fitness', ylabel='Performance_Inc'>"
      ]
     },
     "execution_count": 100,
     "metadata": {},
     "output_type": "execute_result"
    },
    {
     "data": {
      "image/png": "[encoded data removed]",
      "text/plain": [
       "<Figure size 432x288 with 1 Axes>"
      ]
     },
     "metadata": {
      "needs_background": "light"
     },
     "output_type": "display_data"
    }
   ],
   "source": [
    "sns.boxplot(\n",
    "  data=blocks\n",
    "  , x='Initial_Fitness'\n",
    "  , y='Performance_Inc'\n",
    "  , hue='Treatment'\n",
    "  , notch=True\n",
    "  , medianprops={'color':'r', 'linewidth':2}\n",
    "  , order=['Low', 'Medium', 'High']\n",
    ")"
   ]
  },
  {
   "cell_type": "code",
   "execution_count": 102,
   "metadata": {},
   "outputs": [
    {
     "data": {
      "text/plain": [
       "Initial_Fitness\n",
       "High      (1.3104076015588069, 0.27510250309578405)\n",
       "Low       (2.5710477159639975, 0.08104395027407534)\n",
       "Medium     (0.5677613756937963, 0.5686843306459846)\n",
       "dtype: object"
      ]
     },
     "execution_count": 102,
     "metadata": {},
     "output_type": "execute_result"
    }
   ],
   "source": [
    "# Perform the within blocks ANOVA, first grouping by block\n",
    "import scipy.stats as scst\n",
    "block_annova = blocks.groupby('Initial_Fitness').apply(\n",
    "  lambda x: scst.f_oneway(\n",
    "    x[x['Treatment']=='Test_1']['Performance_Inc']\n",
    "    , x[x['Treatment']=='Test_2']['Performance_Inc']\n",
    "    , x[x['Treatment']=='Test_3']['Performance_Inc']\n",
    "  )\n",
    ")\n",
    "block_annova"
   ]
  },
  {
   "cell_type": "markdown",
   "metadata": {},
   "source": [
    "# Addidtional / Random Work"
   ]
  },
  {
   "cell_type": "code",
   "execution_count": 74,
   "metadata": {},
   "outputs": [],
   "source": [
    "lst=[30, 57, 49, 21, 51, 26, 22, 77, 11]"
   ]
  },
  {
   "cell_type": "code",
   "execution_count": 32,
   "metadata": {},
   "outputs": [],
   "source": [
    "import itertools as itt"
   ]
  },
  {
   "cell_type": "code",
   "execution_count": 42,
   "metadata": {},
   "outputs": [],
   "source": [
    "result = []\n",
    "for i in range(2, len(lst)+1):\n",
    "  for _ in itt.combinations(lst,i):\n",
    "    if sum(_)==207:\n",
    "      result.append(_)"
   ]
  },
  {
   "cell_type": "code",
   "execution_count": 43,
   "metadata": {},
   "outputs": [
    {
     "data": {
      "text/plain": [
       "[(30, 49, 51, 77),\n",
       " (57, 51, 22, 77),\n",
       " (30, 57, 21, 22, 77),\n",
       " (30, 57, 21, 51, 26, 22)]"
      ]
     },
     "execution_count": 43,
     "metadata": {},
     "output_type": "execute_result"
    }
   ],
   "source": [
    "result"
   ]
  },
  {
   "cell_type": "code",
   "execution_count": 46,
   "metadata": {},
   "outputs": [],
   "source": [
    "lst=[30, 57, 49, 21, 51, 26, 22, 77, 11]\n",
    "import itertools as itt\n",
    "result = []\n",
    "for i in range(2, len(lst)+1):\n",
    "  for _ in itt.combinations(lst,i):\n",
    "    if sum(_)==207:\n",
    "      result.append(_)"
   ]
  },
  {
   "cell_type": "code",
   "execution_count": 48,
   "metadata": {},
   "outputs": [
    {
     "name": "stdout",
     "output_type": "stream",
     "text": [
      "[(30, 49, 51, 77), (57, 51, 22, 77), (30, 57, 21, 22, 77), (30, 57, 21, 51, 26, 22)]\n"
     ]
    }
   ],
   "source": [
    "lst=[30, 57, 49, 21, 51, 26, 22, 77, 11]\n",
    "import itertools as itt\n",
    "result = []\n",
    "for i in range(2, len(lst)+1):\n",
    "  for _ in itt.combinations(lst,i):\n",
    "    if sum(_)==207:\n",
    "      result.append(_)\n",
    "print(result)"
   ]
  },
  {
   "cell_type": "code",
   "execution_count": 50,
   "metadata": {},
   "outputs": [
    {
     "data": {
      "text/plain": [
       "'Min'"
      ]
     },
     "execution_count": 50,
     "metadata": {},
     "output_type": "execute_result"
    }
   ],
   "source": [
    "import operator as op\n",
    "my_list = [('Will', 23), ('Jane', 21), ('El', 24), ('Min', 101)]\n",
    "max(my_list, key=op.itemgetter(1))[0]"
   ]
  },
  {
   "cell_type": "code",
   "execution_count": 51,
   "metadata": {},
   "outputs": [
    {
     "name": "stdout",
     "output_type": "stream",
     "text": [
      "('Will', 23)\n",
      "('Jane', 21)\n",
      "('El', 24)\n",
      "('Min', 101)\n"
     ]
    }
   ],
   "source": [
    "for _ in my_list:\n",
    "  print(_)"
   ]
  }
 ],
 "metadata": {
  "kernelspec": {
   "display_name": "Python 3",
   "language": "python",
   "name": "python3"
  },
  "language_info": {
   "codemirror_mode": {
    "name": "ipython",
    "version": 3
   },
   "file_extension": ".py",
   "mimetype": "text/x-python",
   "name": "python",
   "nbconvert_exporter": "python",
   "pygments_lexer": "ipython3",
   "version": "3.10.11"
  }
 },
 "nbformat": 4,
 "nbformat_minor": 2
}
