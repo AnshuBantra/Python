{
 "cells": [
  {
   "cell_type": "markdown",
   "metadata": {},
   "source": [
    "# Hypothesis Testing in Python"
   ]
  },
  {
   "cell_type": "markdown",
   "metadata": {},
   "source": [
    "## Hypothesis Testing Fundamentals"
   ]
  },
  {
   "cell_type": "markdown",
   "metadata": {},
   "source": [
    "### Hypothesis Tests and Z-Scores"
   ]
  },
  {
   "cell_type": "code",
   "execution_count": 2,
   "metadata": {},
   "outputs": [
    {
     "data": {
      "text/html": [
       "<div>\n",
       "<style scoped>\n",
       "    .dataframe tbody tr th:only-of-type {\n",
       "        vertical-align: middle;\n",
       "    }\n",
       "\n",
       "    .dataframe tbody tr th {\n",
       "        vertical-align: top;\n",
       "    }\n",
       "\n",
       "    .dataframe thead th {\n",
       "        text-align: right;\n",
       "    }\n",
       "</style>\n",
       "<table border=\"1\" class=\"dataframe\">\n",
       "  <thead>\n",
       "    <tr style=\"text-align: right;\">\n",
       "      <th></th>\n",
       "      <th>respondent</th>\n",
       "      <th>main_branch</th>\n",
       "      <th>hobbyist</th>\n",
       "      <th>age</th>\n",
       "      <th>age_1st_code</th>\n",
       "      <th>age_first_code_cut</th>\n",
       "      <th>comp_freq</th>\n",
       "      <th>comp_total</th>\n",
       "      <th>converted_comp</th>\n",
       "      <th>country</th>\n",
       "      <th>...</th>\n",
       "      <th>survey_length</th>\n",
       "      <th>trans</th>\n",
       "      <th>undergrad_major</th>\n",
       "      <th>webframe_desire_next_year</th>\n",
       "      <th>webframe_worked_with</th>\n",
       "      <th>welcome_change</th>\n",
       "      <th>work_week_hrs</th>\n",
       "      <th>years_code</th>\n",
       "      <th>years_code_pro</th>\n",
       "      <th>age_cat</th>\n",
       "    </tr>\n",
       "  </thead>\n",
       "  <tbody>\n",
       "    <tr>\n",
       "      <th>0</th>\n",
       "      <td>36.0</td>\n",
       "      <td>I am not primarily a developer, but I write co...</td>\n",
       "      <td>Yes</td>\n",
       "      <td>34.0</td>\n",
       "      <td>30.0</td>\n",
       "      <td>adult</td>\n",
       "      <td>Yearly</td>\n",
       "      <td>60000.0</td>\n",
       "      <td>77556.0</td>\n",
       "      <td>United Kingdom</td>\n",
       "      <td>...</td>\n",
       "      <td>Appropriate in length</td>\n",
       "      <td>No</td>\n",
       "      <td>Computer science, computer engineering, or sof...</td>\n",
       "      <td>Express;React.js</td>\n",
       "      <td>Express;React.js</td>\n",
       "      <td>Just as welcome now as I felt last year</td>\n",
       "      <td>40.0</td>\n",
       "      <td>4.0</td>\n",
       "      <td>3.0</td>\n",
       "      <td>At least 30</td>\n",
       "    </tr>\n",
       "    <tr>\n",
       "      <th>1</th>\n",
       "      <td>47.0</td>\n",
       "      <td>I am a developer by profession</td>\n",
       "      <td>Yes</td>\n",
       "      <td>53.0</td>\n",
       "      <td>10.0</td>\n",
       "      <td>child</td>\n",
       "      <td>Yearly</td>\n",
       "      <td>58000.0</td>\n",
       "      <td>74970.0</td>\n",
       "      <td>United Kingdom</td>\n",
       "      <td>...</td>\n",
       "      <td>Appropriate in length</td>\n",
       "      <td>No</td>\n",
       "      <td>A natural science (such as biology, chemistry,...</td>\n",
       "      <td>Flask;Spring</td>\n",
       "      <td>Flask;Spring</td>\n",
       "      <td>Just as welcome now as I felt last year</td>\n",
       "      <td>40.0</td>\n",
       "      <td>43.0</td>\n",
       "      <td>28.0</td>\n",
       "      <td>At least 30</td>\n",
       "    </tr>\n",
       "    <tr>\n",
       "      <th>2</th>\n",
       "      <td>69.0</td>\n",
       "      <td>I am a developer by profession</td>\n",
       "      <td>Yes</td>\n",
       "      <td>25.0</td>\n",
       "      <td>12.0</td>\n",
       "      <td>child</td>\n",
       "      <td>Yearly</td>\n",
       "      <td>550000.0</td>\n",
       "      <td>594539.0</td>\n",
       "      <td>France</td>\n",
       "      <td>...</td>\n",
       "      <td>Too short</td>\n",
       "      <td>No</td>\n",
       "      <td>Computer science, computer engineering, or sof...</td>\n",
       "      <td>Django;Flask</td>\n",
       "      <td>Django;Flask</td>\n",
       "      <td>Just as welcome now as I felt last year</td>\n",
       "      <td>40.0</td>\n",
       "      <td>13.0</td>\n",
       "      <td>3.0</td>\n",
       "      <td>Under 30</td>\n",
       "    </tr>\n",
       "  </tbody>\n",
       "</table>\n",
       "<p>3 rows × 63 columns</p>\n",
       "</div>"
      ],
      "text/plain": [
       "   respondent                                        main_branch hobbyist  \\\n",
       "0        36.0  I am not primarily a developer, but I write co...      Yes   \n",
       "1        47.0                     I am a developer by profession      Yes   \n",
       "2        69.0                     I am a developer by profession      Yes   \n",
       "\n",
       "    age  age_1st_code age_first_code_cut comp_freq  comp_total  \\\n",
       "0  34.0          30.0              adult    Yearly     60000.0   \n",
       "1  53.0          10.0              child    Yearly     58000.0   \n",
       "2  25.0          12.0              child    Yearly    550000.0   \n",
       "\n",
       "   converted_comp         country  ...          survey_length trans  \\\n",
       "0         77556.0  United Kingdom  ...  Appropriate in length    No   \n",
       "1         74970.0  United Kingdom  ...  Appropriate in length    No   \n",
       "2        594539.0          France  ...              Too short    No   \n",
       "\n",
       "                                     undergrad_major  \\\n",
       "0  Computer science, computer engineering, or sof...   \n",
       "1  A natural science (such as biology, chemistry,...   \n",
       "2  Computer science, computer engineering, or sof...   \n",
       "\n",
       "  webframe_desire_next_year webframe_worked_with  \\\n",
       "0          Express;React.js     Express;React.js   \n",
       "1              Flask;Spring         Flask;Spring   \n",
       "2              Django;Flask         Django;Flask   \n",
       "\n",
       "                            welcome_change work_week_hrs years_code  \\\n",
       "0  Just as welcome now as I felt last year          40.0        4.0   \n",
       "1  Just as welcome now as I felt last year          40.0       43.0   \n",
       "2  Just as welcome now as I felt last year          40.0       13.0   \n",
       "\n",
       "  years_code_pro      age_cat  \n",
       "0            3.0  At least 30  \n",
       "1           28.0  At least 30  \n",
       "2            3.0     Under 30  \n",
       "\n",
       "[3 rows x 63 columns]"
      ]
     },
     "execution_count": 2,
     "metadata": {},
     "output_type": "execute_result"
    }
   ],
   "source": [
    "import pandas as pd\n",
    "stack_overflow = pd.read_feather(r'./data/stack_overflow.feather')\n",
    "stack_overflow.head(3)"
   ]
  },
  {
   "attachments": {
    "image.png": {
     "image/png": "[encoded data removed]"
    }
   },
   "cell_type": "markdown",
   "metadata": {},
   "source": [
    "![image.png](attachment:image.png)"
   ]
  },
  {
   "cell_type": "code",
   "execution_count": 16,
   "metadata": {},
   "outputs": [
    {
     "name": "stdout",
     "output_type": "stream",
     "text": [
      "Calculated mean of compensation 119,574.72\n"
     ]
    }
   ],
   "source": [
    "mean_comp_samp = stack_overflow['converted_comp'].mean()\n",
    "print(f'Calculated mean of compensation {mean_comp_samp:,.2f}')"
   ]
  },
  {
   "cell_type": "code",
   "execution_count": 10,
   "metadata": {},
   "outputs": [
    {
     "data": {
      "image/png": "[encoded data removed]",
      "text/plain": [
       "<Figure size 640x480 with 1 Axes>"
      ]
     },
     "metadata": {},
     "output_type": "display_data"
    }
   ],
   "source": [
    "# Generate a bootstrap distribution\n",
    "import numpy as np\n",
    "import matplotlib.pyplot as plt\n",
    "so_boot_distn = [np.mean(stack_overflow.sample(frac=1, replace=True)['converted_comp']) for _ in range(5000)]\n",
    "plt.hist(so_boot_distn, bins=50)\n",
    "plt.show()"
   ]
  },
  {
   "cell_type": "code",
   "execution_count": 18,
   "metadata": {},
   "outputs": [
    {
     "name": "stdout",
     "output_type": "stream",
     "text": [
      "5579.19651759144\n"
     ]
    }
   ],
   "source": [
    "# Standard Error\n",
    "std_error = np.std(so_boot_distn, ddof=1)\n",
    "print(std_error)"
   ]
  },
  {
   "cell_type": "markdown",
   "metadata": {},
   "source": [
    "#### Z Score\n",
    "\n",
    "$$z = {sample stat - hypoth.param.value \\over standard error}"
   ]
  },
  {
   "cell_type": "code",
   "execution_count": 19,
   "metadata": {},
   "outputs": [
    {
     "name": "stdout",
     "output_type": "stream",
     "text": [
      "1.716146285849591\n"
     ]
    }
   ],
   "source": [
    "# Z Score\n",
    "mean_comp_hyp = 110000\n",
    "z_score = (mean_comp_samp - mean_comp_hyp)/std_error\n",
    "print(z_score)"
   ]
  },
  {
   "cell_type": "code",
   "execution_count": 20,
   "metadata": {},
   "outputs": [
    {
     "data": {
      "text/html": [
       "<div>\n",
       "<style scoped>\n",
       "    .dataframe tbody tr th:only-of-type {\n",
       "        vertical-align: middle;\n",
       "    }\n",
       "\n",
       "    .dataframe tbody tr th {\n",
       "        vertical-align: top;\n",
       "    }\n",
       "\n",
       "    .dataframe thead th {\n",
       "        text-align: right;\n",
       "    }\n",
       "</style>\n",
       "<table border=\"1\" class=\"dataframe\">\n",
       "  <thead>\n",
       "    <tr style=\"text-align: right;\">\n",
       "      <th></th>\n",
       "      <th>id</th>\n",
       "      <th>country</th>\n",
       "      <th>managed_by</th>\n",
       "      <th>fulfill_via</th>\n",
       "      <th>vendor_inco_term</th>\n",
       "      <th>shipment_mode</th>\n",
       "      <th>late_delivery</th>\n",
       "      <th>late</th>\n",
       "      <th>product_group</th>\n",
       "      <th>sub_classification</th>\n",
       "      <th>...</th>\n",
       "      <th>line_item_quantity</th>\n",
       "      <th>line_item_value</th>\n",
       "      <th>pack_price</th>\n",
       "      <th>unit_price</th>\n",
       "      <th>manufacturing_site</th>\n",
       "      <th>first_line_designation</th>\n",
       "      <th>weight_kilograms</th>\n",
       "      <th>freight_cost_usd</th>\n",
       "      <th>freight_cost_groups</th>\n",
       "      <th>line_item_insurance_usd</th>\n",
       "    </tr>\n",
       "  </thead>\n",
       "  <tbody>\n",
       "    <tr>\n",
       "      <th>0</th>\n",
       "      <td>36203.0</td>\n",
       "      <td>Nigeria</td>\n",
       "      <td>PMO - US</td>\n",
       "      <td>Direct Drop</td>\n",
       "      <td>EXW</td>\n",
       "      <td>Air</td>\n",
       "      <td>1.0</td>\n",
       "      <td>Yes</td>\n",
       "      <td>HRDT</td>\n",
       "      <td>HIV test</td>\n",
       "      <td>...</td>\n",
       "      <td>2996.0</td>\n",
       "      <td>266644.0</td>\n",
       "      <td>89.0</td>\n",
       "      <td>0.89</td>\n",
       "      <td>Alere Medical Co., Ltd.</td>\n",
       "      <td>Yes</td>\n",
       "      <td>1426.0</td>\n",
       "      <td>33279.83</td>\n",
       "      <td>expensive</td>\n",
       "      <td>373.83</td>\n",
       "    </tr>\n",
       "    <tr>\n",
       "      <th>1</th>\n",
       "      <td>30998.0</td>\n",
       "      <td>Botswana</td>\n",
       "      <td>PMO - US</td>\n",
       "      <td>Direct Drop</td>\n",
       "      <td>EXW</td>\n",
       "      <td>Air</td>\n",
       "      <td>0.0</td>\n",
       "      <td>No</td>\n",
       "      <td>HRDT</td>\n",
       "      <td>HIV test</td>\n",
       "      <td>...</td>\n",
       "      <td>25.0</td>\n",
       "      <td>800.0</td>\n",
       "      <td>32.0</td>\n",
       "      <td>1.60</td>\n",
       "      <td>Trinity Biotech, Plc</td>\n",
       "      <td>Yes</td>\n",
       "      <td>10.0</td>\n",
       "      <td>559.89</td>\n",
       "      <td>reasonable</td>\n",
       "      <td>1.72</td>\n",
       "    </tr>\n",
       "    <tr>\n",
       "      <th>2</th>\n",
       "      <td>69871.0</td>\n",
       "      <td>Vietnam</td>\n",
       "      <td>PMO - US</td>\n",
       "      <td>Direct Drop</td>\n",
       "      <td>EXW</td>\n",
       "      <td>Air</td>\n",
       "      <td>0.0</td>\n",
       "      <td>No</td>\n",
       "      <td>ARV</td>\n",
       "      <td>Adult</td>\n",
       "      <td>...</td>\n",
       "      <td>22925.0</td>\n",
       "      <td>110040.0</td>\n",
       "      <td>4.8</td>\n",
       "      <td>0.08</td>\n",
       "      <td>Hetero Unit III Hyderabad IN</td>\n",
       "      <td>Yes</td>\n",
       "      <td>3723.0</td>\n",
       "      <td>19056.13</td>\n",
       "      <td>expensive</td>\n",
       "      <td>181.57</td>\n",
       "    </tr>\n",
       "  </tbody>\n",
       "</table>\n",
       "<p>3 rows × 27 columns</p>\n",
       "</div>"
      ],
      "text/plain": [
       "        id   country managed_by  fulfill_via vendor_inco_term shipment_mode  \\\n",
       "0  36203.0   Nigeria   PMO - US  Direct Drop              EXW           Air   \n",
       "1  30998.0  Botswana   PMO - US  Direct Drop              EXW           Air   \n",
       "2  69871.0   Vietnam   PMO - US  Direct Drop              EXW           Air   \n",
       "\n",
       "   late_delivery late product_group sub_classification  ...  \\\n",
       "0            1.0  Yes          HRDT           HIV test  ...   \n",
       "1            0.0   No          HRDT           HIV test  ...   \n",
       "2            0.0   No           ARV              Adult  ...   \n",
       "\n",
       "  line_item_quantity line_item_value pack_price unit_price  \\\n",
       "0             2996.0        266644.0       89.0       0.89   \n",
       "1               25.0           800.0       32.0       1.60   \n",
       "2            22925.0        110040.0        4.8       0.08   \n",
       "\n",
       "             manufacturing_site first_line_designation  weight_kilograms  \\\n",
       "0       Alere Medical Co., Ltd.                    Yes            1426.0   \n",
       "1          Trinity Biotech, Plc                    Yes              10.0   \n",
       "2  Hetero Unit III Hyderabad IN                    Yes            3723.0   \n",
       "\n",
       "   freight_cost_usd  freight_cost_groups  line_item_insurance_usd  \n",
       "0          33279.83            expensive                   373.83  \n",
       "1            559.89           reasonable                     1.72  \n",
       "2          19056.13            expensive                   181.57  \n",
       "\n",
       "[3 rows x 27 columns]"
      ]
     },
     "execution_count": 20,
     "metadata": {},
     "output_type": "execute_result"
    }
   ],
   "source": [
    "late_shipments = pd.read_feather(r'./data/late_shipments.feather')\n",
    "late_shipments.head(3)"
   ]
  },
  {
   "cell_type": "code",
   "execution_count": 22,
   "metadata": {},
   "outputs": [
    {
     "name": "stdout",
     "output_type": "stream",
     "text": [
      "6.1\n"
     ]
    }
   ],
   "source": [
    "# Calculate the proportion of late shipments\n",
    "late_prop_samp = (late_shipments['late']=='Yes').mean()\n",
    "\n",
    "# Print the results\n",
    "print(late_prop_samp*100)"
   ]
  },
  {
   "cell_type": "code",
   "execution_count": 28,
   "metadata": {},
   "outputs": [
    {
     "name": "stdout",
     "output_type": "stream",
     "text": [
      "0.007535049738051567\n"
     ]
    }
   ],
   "source": [
    "late_shipments_boot_distn = [np.mean(late_shipments.sample(frac=1, replace=True)['late_delivery']) for _ in range(5000)]\n",
    "late_prop_hyp = 0.06\n",
    "std_error = np.std(late_shipments_boot_distn, ddof=1)\n",
    "print(std_error)"
   ]
  },
  {
   "cell_type": "code",
   "execution_count": 29,
   "metadata": {},
   "outputs": [
    {
     "name": "stdout",
     "output_type": "stream",
     "text": [
      "0.1327131252963147\n"
     ]
    }
   ],
   "source": [
    "z_score = (late_prop_samp - late_prop_hyp) / std_error\n",
    "print(z_score)"
   ]
  },
  {
   "cell_type": "markdown",
   "metadata": {},
   "source": [
    "### p_values"
   ]
  },
  {
   "cell_type": "code",
   "execution_count": 76,
   "metadata": {},
   "outputs": [
    {
     "data": {
      "text/plain": [
       "'f-ac-eb-oo-kf-ac'"
      ]
     },
     "execution_count": 76,
     "metadata": {},
     "output_type": "execute_result"
    }
   ],
   "source": [
    "val = 'facebookfac'\n",
    "dashes = []\n",
    "n=2\n",
    "hyp=0\n",
    "for _ in val[::-1]:\n",
    "    if hyp==n:\n",
    "        dashes.extend(['-',_])\n",
    "        hyp=1\n",
    "    else:\n",
    "        dashes.append(_)\n",
    "        hyp += 1\n",
    "''.join(dashes[::-1])\n"
   ]
  },
  {
   "cell_type": "code",
   "execution_count": 92,
   "metadata": {},
   "outputs": [
    {
     "name": "stdout",
     "output_type": "stream",
     "text": [
      "rep-ap\n"
     ]
    }
   ],
   "source": [
    "def divide_string(string, parts):\n",
    "    substrings = [string[::-1][i:i + parts] for i in range(0, len(string), parts)]\n",
    "\n",
    "    if len(substrings) > parts:\n",
    "        substrings[-2] += substrings[-1]\n",
    "        substrings.pop()\n",
    "\n",
    "    return '-'.join(substrings)\n",
    "\n",
    "string = \"paper\"\n",
    "parts = 3\n",
    "\n",
    "result = divide_string(string, parts)\n",
    "print(result)"
   ]
  },
  {
   "cell_type": "code",
   "execution_count": 79,
   "metadata": {},
   "outputs": [
    {
     "data": {
      "text/plain": [
       "11"
      ]
     },
     "execution_count": 79,
     "metadata": {},
     "output_type": "execute_result"
    }
   ],
   "source": [
    "len(string)"
   ]
  },
  {
   "cell_type": "code",
   "execution_count": 121,
   "metadata": {},
   "outputs": [
    {
     "data": {
      "text/plain": [
       "'co-mputer-comput-ercomp'"
      ]
     },
     "execution_count": 121,
     "metadata": {},
     "output_type": "execute_result"
    }
   ],
   "source": [
    "import textwrap as tw\n",
    "string='computercomputercomp'\n",
    "N=6\n",
    "lst = '-'.join([_[::-1] for _ in tw.wrap(string[::-1], N)[::-1]])\n"
   ]
  },
  {
   "cell_type": "code",
   "execution_count": 107,
   "metadata": {},
   "outputs": [
    {
     "data": {
      "text/plain": [
       "'......'"
      ]
     },
     "execution_count": 107,
     "metadata": {},
     "output_type": "execute_result"
    }
   ],
   "source": [
    "f'{\".\"*N}'"
   ]
  },
  {
   "cell_type": "code",
   "execution_count": 138,
   "metadata": {},
   "outputs": [
    {
     "data": {
      "text/plain": [
       "[[3, 1],\n",
       " [3, 2, 1],\n",
       " [3, 3, 1, 3],\n",
       " [3, 3, 1, 12],\n",
       " [4, 4, 1],\n",
       " [4, 5],\n",
       " [12, 0, 3, 1],\n",
       " [12, 0, 4, 1],\n",
       " [12, 1]]"
      ]
     },
     "execution_count": 138,
     "metadata": {},
     "output_type": "execute_result"
    }
   ],
   "source": [
    "lst = ['12.0.4.1', '3.3.1.12', '12.0.3.1', '3.1', '12.1', '4.5', '4.4.1', '3.3.1.3', '3.2.1']\n",
    "result=[]\n",
    "for number in lst:\n",
    "    int_parts = [int(part) for part in str(number).split('.')]\n",
    "    result.append(int_parts)\n",
    "sorted(result)"
   ]
  },
  {
   "cell_type": "code",
   "execution_count": 157,
   "metadata": {},
   "outputs": [
    {
     "name": "stdout",
     "output_type": "stream",
     "text": [
      "['3.1', '3.2.1', '3.3.1.3', '3.3.1.12', '4.4.1', '4.5', '12.0.3.1', '12.0.4.1', '12.1']\n"
     ]
    }
   ],
   "source": [
    "# version_strings = [ 12.0.4.1, 3.3.1.12, 12.0.3.1, 3.1, 12.1, 4.5, 4.4.1, 3.3.1.3, 3.2.1]\n",
    "\n",
    "# Function to convert version string to a list of integers\n",
    "def version_key(version):\n",
    "    return [int(part) for part in str(version).split('.') if part]\n",
    "\n",
    "# Sort the list using the custom key function\n",
    "sorted_versions = sorted(lst, key=version_key)\n",
    "\n",
    "# Output the sorted list\n",
    "print(sorted_versions)"
   ]
  }
 ],
 "metadata": {
  "kernelspec": {
   "display_name": "Python 3",
   "language": "python",
   "name": "python3"
  },
  "language_info": {
   "codemirror_mode": {
    "name": "ipython",
    "version": 3
   },
   "file_extension": ".py",
   "mimetype": "text/x-python",
   "name": "python",
   "nbconvert_exporter": "python",
   "pygments_lexer": "ipython3",
   "version": "3.11.5"
  }
 },
 "nbformat": 4,
 "nbformat_minor": 2
}
