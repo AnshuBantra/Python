{
 "cells": [
  {
   "cell_type": "code",
   "execution_count": 3,
   "id": "bee182e3",
   "metadata": {},
   "outputs": [],
   "source": [
    "#I will take two number and add them up 5+5+5"
   ]
  },
  {
   "cell_type": "code",
   "execution_count": 4,
   "id": "f8e3c954",
   "metadata": {},
   "outputs": [
    {
     "data": {
      "text/plain": [
       "10"
      ]
     },
     "execution_count": 4,
     "metadata": {},
     "output_type": "execute_result"
    }
   ],
   "source": [
    "5+5"
   ]
  },
  {
   "cell_type": "code",
   "execution_count": 5,
   "id": "f5a4df74",
   "metadata": {},
   "outputs": [
    {
     "data": {
      "text/plain": [
       "44031891132512211"
      ]
     },
     "execution_count": 5,
     "metadata": {},
     "output_type": "execute_result"
    }
   ],
   "source": [
    "48978798789*898999"
   ]
  },
  {
   "cell_type": "code",
   "execution_count": 6,
   "id": "07144e01",
   "metadata": {},
   "outputs": [
    {
     "data": {
      "text/plain": [
       "'This is Intro to Python'"
      ]
     },
     "execution_count": 6,
     "metadata": {},
     "output_type": "execute_result"
    }
   ],
   "source": [
    "'This is Intro to Python'"
   ]
  },
  {
   "cell_type": "code",
   "execution_count": 7,
   "id": "86499d27",
   "metadata": {},
   "outputs": [
    {
     "data": {
      "text/plain": [
       "48978798789"
      ]
     },
     "execution_count": 7,
     "metadata": {},
     "output_type": "execute_result"
    }
   ],
   "source": [
    "48978798789"
   ]
  },
  {
   "cell_type": "code",
   "execution_count": 8,
   "id": "de139999",
   "metadata": {},
   "outputs": [],
   "source": [
    "a_complex_number = 48978798789"
   ]
  },
  {
   "cell_type": "code",
   "execution_count": 9,
   "id": "9b80ccab",
   "metadata": {},
   "outputs": [
    {
     "data": {
      "text/plain": [
       "48978798789"
      ]
     },
     "execution_count": 9,
     "metadata": {},
     "output_type": "execute_result"
    }
   ],
   "source": [
    "a_complex_number"
   ]
  },
  {
   "cell_type": "code",
   "execution_count": 10,
   "id": "6a199a44",
   "metadata": {},
   "outputs": [],
   "source": [
    "session_detail = 'This is Intro to Python'"
   ]
  },
  {
   "cell_type": "code",
   "execution_count": 11,
   "id": "01d09dc7",
   "metadata": {},
   "outputs": [
    {
     "data": {
      "text/plain": [
       "'This is Intro to Python'"
      ]
     },
     "execution_count": 11,
     "metadata": {},
     "output_type": "execute_result"
    }
   ],
   "source": [
    "session_detail"
   ]
  },
  {
   "cell_type": "code",
   "execution_count": 12,
   "id": "c5bcabf6",
   "metadata": {},
   "outputs": [],
   "source": [
    "#Booleans"
   ]
  },
  {
   "cell_type": "code",
   "execution_count": 13,
   "id": "fbd83049",
   "metadata": {},
   "outputs": [],
   "source": [
    "age = 99\n",
    "special_case = age > 100"
   ]
  },
  {
   "cell_type": "code",
   "execution_count": 14,
   "id": "3ba6dca7",
   "metadata": {},
   "outputs": [
    {
     "data": {
      "text/plain": [
       "99"
      ]
     },
     "execution_count": 14,
     "metadata": {},
     "output_type": "execute_result"
    }
   ],
   "source": [
    "age"
   ]
  },
  {
   "cell_type": "code",
   "execution_count": 15,
   "id": "500d0ec0",
   "metadata": {},
   "outputs": [
    {
     "data": {
      "text/plain": [
       "False"
      ]
     },
     "execution_count": 15,
     "metadata": {},
     "output_type": "execute_result"
    }
   ],
   "source": [
    "special_case"
   ]
  },
  {
   "cell_type": "code",
   "execution_count": 16,
   "id": "126aca19",
   "metadata": {},
   "outputs": [],
   "source": [
    "# Special category is assigned to people over 100 years of age\n",
    "special_case = age > 100"
   ]
  },
  {
   "cell_type": "code",
   "execution_count": 17,
   "id": "fd896920",
   "metadata": {},
   "outputs": [],
   "source": [
    "emp_1 = 'John'\n",
    "emp_2 = 'Mick'\n",
    "emp_3 = 'Joe'"
   ]
  },
  {
   "cell_type": "code",
   "execution_count": 18,
   "id": "03a84cb9",
   "metadata": {},
   "outputs": [],
   "source": [
    "#List\n",
    "emp_names = 'Joe', 'Sally', 'Lily', 'John', 'Mick'"
   ]
  },
  {
   "cell_type": "code",
   "execution_count": 19,
   "id": "ade82558",
   "metadata": {},
   "outputs": [
    {
     "data": {
      "text/plain": [
       "('Joe', 'Sally', 'Lily', 'John', 'Mick')"
      ]
     },
     "execution_count": 19,
     "metadata": {},
     "output_type": "execute_result"
    }
   ],
   "source": [
    "emp_names"
   ]
  },
  {
   "cell_type": "code",
   "execution_count": 20,
   "id": "90c34a1f",
   "metadata": {},
   "outputs": [],
   "source": [
    "emp_names_lst = ['Joe', 'Sally', 'Lily', 'John', 'Mick']"
   ]
  },
  {
   "cell_type": "code",
   "execution_count": 21,
   "id": "6f54ce70",
   "metadata": {},
   "outputs": [
    {
     "data": {
      "text/plain": [
       "['Joe', 'Sally', 'Lily', 'John', 'Mick']"
      ]
     },
     "execution_count": 21,
     "metadata": {},
     "output_type": "execute_result"
    }
   ],
   "source": [
    "emp_names_lst"
   ]
  },
  {
   "cell_type": "code",
   "execution_count": 22,
   "id": "0178ba62",
   "metadata": {},
   "outputs": [
    {
     "data": {
      "text/plain": [
       "'Joe'"
      ]
     },
     "execution_count": 22,
     "metadata": {},
     "output_type": "execute_result"
    }
   ],
   "source": [
    "emp_names_lst[0]"
   ]
  },
  {
   "cell_type": "code",
   "execution_count": 23,
   "id": "f5e548b4",
   "metadata": {},
   "outputs": [],
   "source": [
    "# LIST []\n",
    "# TUPLE ()"
   ]
  },
  {
   "cell_type": "code",
   "execution_count": 24,
   "id": "e7a7059b",
   "metadata": {},
   "outputs": [],
   "source": [
    "#Dictionary\n",
    "numbers = {1:'One', 2:'Two', 3:'Three', 4:'Four'}"
   ]
  },
  {
   "cell_type": "code",
   "execution_count": 25,
   "id": "4a880d05",
   "metadata": {},
   "outputs": [],
   "source": [
    "words = {'One':1, 'Two':2, 'Three':3\n",
    "        }"
   ]
  },
  {
   "cell_type": "code",
   "execution_count": 27,
   "id": "9234ce4f",
   "metadata": {},
   "outputs": [
    {
     "data": {
      "text/plain": [
       "'Four'"
      ]
     },
     "execution_count": 27,
     "metadata": {},
     "output_type": "execute_result"
    }
   ],
   "source": [
    "numbers[4]"
   ]
  },
  {
   "cell_type": "code",
   "execution_count": 28,
   "id": "a17d801f",
   "metadata": {},
   "outputs": [
    {
     "ename": "KeyError",
     "evalue": "2",
     "output_type": "error",
     "traceback": [
      "\u001b[1;31m---------------------------------------------------------------------------\u001b[0m",
      "\u001b[1;31mKeyError\u001b[0m                                  Traceback (most recent call last)",
      "Cell \u001b[1;32mIn [28], line 1\u001b[0m\n\u001b[1;32m----> 1\u001b[0m \u001b[43mwords\u001b[49m\u001b[43m[\u001b[49m\u001b[38;5;241;43m2\u001b[39;49m\u001b[43m]\u001b[49m\n",
      "\u001b[1;31mKeyError\u001b[0m: 2"
     ]
    }
   ],
   "source": [
    "words[2]"
   ]
  },
  {
   "cell_type": "code",
   "execution_count": 29,
   "id": "78b13fe8",
   "metadata": {},
   "outputs": [
    {
     "data": {
      "text/plain": [
       "3"
      ]
     },
     "execution_count": 29,
     "metadata": {},
     "output_type": "execute_result"
    }
   ],
   "source": [
    "words['Three']"
   ]
  },
  {
   "cell_type": "code",
   "execution_count": 30,
   "id": "644ef496",
   "metadata": {},
   "outputs": [],
   "source": [
    "#Conditional Statements"
   ]
  },
  {
   "cell_type": "code",
   "execution_count": 31,
   "id": "5e8fc407",
   "metadata": {},
   "outputs": [],
   "source": [
    "# Code which based on age tells us, if we are eligible for a drivers license"
   ]
  },
  {
   "cell_type": "code",
   "execution_count": 32,
   "id": "188e0af8",
   "metadata": {},
   "outputs": [],
   "source": [
    "age = 12\n",
    "if age >= 18:\n",
    "    print('You are eligibile for a D.L.')"
   ]
  },
  {
   "cell_type": "code",
   "execution_count": 33,
   "id": "5ab39a33",
   "metadata": {},
   "outputs": [
    {
     "name": "stdout",
     "output_type": "stream",
     "text": [
      "You are eligibile for a D.L.\n"
     ]
    }
   ],
   "source": [
    "age = 18\n",
    "if age >= 18:\n",
    "    print('You are eligibile for a D.L.')"
   ]
  },
  {
   "cell_type": "code",
   "execution_count": 37,
   "id": "ab1e3081",
   "metadata": {},
   "outputs": [
    {
     "name": "stdout",
     "output_type": "stream",
     "text": [
      "You are not eligibile for a D.L.\n"
     ]
    }
   ],
   "source": [
    "age = 15\n",
    "if age >= 18:\n",
    "    print('You are eligibile for a D.L.')\n",
    "else:\n",
    "    print('You are not eligibile for a D.L.')"
   ]
  },
  {
   "cell_type": "code",
   "execution_count": 40,
   "id": "f12ae79e",
   "metadata": {
    "code_folding": []
   },
   "outputs": [
    {
     "name": "stdout",
     "output_type": "stream",
     "text": [
      "You are eligibile for a D.L.\n"
     ]
    }
   ],
   "source": [
    "# Multiple Conditions\n",
    "# If 16 you can get a lerners, if you are 18 you can get L\n",
    "age = 18\n",
    "if age >= 18:\n",
    "    print('You are eligibile for a D.L.')\n",
    "elif age >= 16:\n",
    "    print('You are eligibile for a Learner.')\n",
    "else:\n",
    "    print('You are not eligibile for a D.L.')"
   ]
  },
  {
   "cell_type": "code",
   "execution_count": 42,
   "id": "a628f3a4",
   "metadata": {},
   "outputs": [
    {
     "name": "stdout",
     "output_type": "stream",
     "text": [
      "You are not eligibile for a D.L.\n"
     ]
    }
   ],
   "source": [
    "# Multiple Conditions\n",
    "# Age   = 18 > DL, 16 L Nothing\n",
    "# Grade >= 50 > DL NOthing\n",
    "age = 24\n",
    "grade = 45\n",
    "if age >= 18 and grade >= 50:\n",
    "    print('You are eligibile for a D.L.')\n",
    "elif age >= 16 and grade >= 50:\n",
    "    print('You are eligibile for a Learner.')\n",
    "else:\n",
    "    print('You are not eligibile for a D.L.')"
   ]
  },
  {
   "cell_type": "code",
   "execution_count": 44,
   "id": "4fad9b94",
   "metadata": {},
   "outputs": [
    {
     "name": "stdout",
     "output_type": "stream",
     "text": [
      "You are eligibile for a D.L.\n",
      "----------------------------\n",
      "----------------------------\n"
     ]
    }
   ],
   "source": [
    "age = 24\n",
    "grade = 60\n",
    "if age >= 18 and grade >= 50:\n",
    "    print('You are eligibile for a D.L.')\n",
    "    print('----------------------------')\n",
    "    print('----------------------------')\n",
    "elif age >= 16 and grade >= 50:\n",
    "    print('You are eligibile for a Learner.')\n",
    "else:\n",
    "    print('You are not eligibile for a D.L.')"
   ]
  },
  {
   "cell_type": "code",
   "execution_count": 45,
   "id": "b31e2fba",
   "metadata": {},
   "outputs": [],
   "source": [
    "#Loop"
   ]
  },
  {
   "cell_type": "code",
   "execution_count": 46,
   "id": "507da6e9",
   "metadata": {},
   "outputs": [
    {
     "data": {
      "text/plain": [
       "['Joe', 'Sally', 'Lily', 'John', 'Mick']"
      ]
     },
     "execution_count": 46,
     "metadata": {},
     "output_type": "execute_result"
    }
   ],
   "source": [
    "emp_names_lst"
   ]
  },
  {
   "cell_type": "code",
   "execution_count": 47,
   "id": "13c3921f",
   "metadata": {},
   "outputs": [
    {
     "name": "stdout",
     "output_type": "stream",
     "text": [
      "Joe\n"
     ]
    }
   ],
   "source": [
    "print(emp_names_lst[0])"
   ]
  },
  {
   "cell_type": "code",
   "execution_count": 48,
   "id": "9c485deb",
   "metadata": {},
   "outputs": [
    {
     "name": "stdout",
     "output_type": "stream",
     "text": [
      "John\n"
     ]
    }
   ],
   "source": [
    "print(emp_names_lst[3])"
   ]
  },
  {
   "cell_type": "code",
   "execution_count": 49,
   "id": "76a41f7b",
   "metadata": {},
   "outputs": [],
   "source": [
    "# for value in iterable:"
   ]
  },
  {
   "cell_type": "code",
   "execution_count": 50,
   "id": "ae9ffa2f",
   "metadata": {},
   "outputs": [
    {
     "name": "stdout",
     "output_type": "stream",
     "text": [
      "Joe\n",
      "Sally\n",
      "Lily\n",
      "John\n",
      "Mick\n"
     ]
    }
   ],
   "source": [
    "for name in emp_names_lst:\n",
    "    print(name)"
   ]
  },
  {
   "cell_type": "code",
   "execution_count": 51,
   "id": "89b55959",
   "metadata": {},
   "outputs": [
    {
     "name": "stdout",
     "output_type": "stream",
     "text": [
      "Age of the person is 24 Hence special case for them is False\n"
     ]
    }
   ],
   "source": [
    "#Print\n",
    "print('Age of the person is', age, 'Hence special case for them is', special_case)"
   ]
  },
  {
   "cell_type": "code",
   "execution_count": 52,
   "id": "3a9bef0d",
   "metadata": {},
   "outputs": [],
   "source": [
    "#Function\n",
    "def say_hello():\n",
    "    print('Hello all')"
   ]
  },
  {
   "cell_type": "code",
   "execution_count": 53,
   "id": "3cff25bc",
   "metadata": {},
   "outputs": [
    {
     "name": "stdout",
     "output_type": "stream",
     "text": [
      "Hello all\n"
     ]
    }
   ],
   "source": [
    "say_hello()"
   ]
  },
  {
   "cell_type": "code",
   "execution_count": 54,
   "id": "7dfd7e22",
   "metadata": {},
   "outputs": [
    {
     "name": "stdout",
     "output_type": "stream",
     "text": [
      "Hello all\n"
     ]
    }
   ],
   "source": [
    "say_hello()"
   ]
  },
  {
   "cell_type": "code",
   "execution_count": 55,
   "id": "d21a1366",
   "metadata": {},
   "outputs": [],
   "source": [
    "def sum_two_numbers(num1, num2):\n",
    "    print( num1+num2)"
   ]
  },
  {
   "cell_type": "code",
   "execution_count": 56,
   "id": "73110c50",
   "metadata": {},
   "outputs": [
    {
     "name": "stdout",
     "output_type": "stream",
     "text": [
      "8\n"
     ]
    }
   ],
   "source": [
    "sum_two_numbers(4,4)"
   ]
  },
  {
   "cell_type": "code",
   "execution_count": 57,
   "id": "e94827f3",
   "metadata": {},
   "outputs": [
    {
     "name": "stdout",
     "output_type": "stream",
     "text": [
      "5\n"
     ]
    }
   ],
   "source": [
    "sum_two_numbers(2,3)"
   ]
  },
  {
   "cell_type": "code",
   "execution_count": 58,
   "id": "861728f3",
   "metadata": {},
   "outputs": [],
   "source": [
    "def sum_two_numbers_return(num1, num2):\n",
    "    return num1+num2"
   ]
  },
  {
   "cell_type": "code",
   "execution_count": 59,
   "id": "115b4b41",
   "metadata": {},
   "outputs": [
    {
     "data": {
      "text/plain": [
       "5"
      ]
     },
     "execution_count": 59,
     "metadata": {},
     "output_type": "execute_result"
    }
   ],
   "source": [
    "sum_two_numbers_return(2,3)"
   ]
  },
  {
   "cell_type": "code",
   "execution_count": 60,
   "id": "86089317",
   "metadata": {},
   "outputs": [
    {
     "name": "stdout",
     "output_type": "stream",
     "text": [
      "9\n"
     ]
    }
   ],
   "source": [
    "var1 = sum_two_numbers(4,5)"
   ]
  },
  {
   "cell_type": "code",
   "execution_count": 61,
   "id": "7afc7e4e",
   "metadata": {},
   "outputs": [],
   "source": [
    "var1"
   ]
  },
  {
   "cell_type": "code",
   "execution_count": 62,
   "id": "c5a38b6a",
   "metadata": {},
   "outputs": [],
   "source": [
    "var2 = sum_two_numbers_return(4,5)"
   ]
  },
  {
   "cell_type": "code",
   "execution_count": 63,
   "id": "b4a6ec03",
   "metadata": {},
   "outputs": [
    {
     "data": {
      "text/plain": [
       "9"
      ]
     },
     "execution_count": 63,
     "metadata": {},
     "output_type": "execute_result"
    }
   ],
   "source": [
    "var2"
   ]
  },
  {
   "cell_type": "code",
   "execution_count": 64,
   "id": "102e448b",
   "metadata": {},
   "outputs": [],
   "source": [
    "import pandas as pd"
   ]
  },
  {
   "cell_type": "code",
   "execution_count": 78,
   "id": "5a1db3ac",
   "metadata": {},
   "outputs": [],
   "source": [
    "path = r'C:\\\\Users\\\\1270816\\\\Downloads\\\\listings.csv'"
   ]
  },
  {
   "cell_type": "code",
   "execution_count": 75,
   "id": "e80e61ab",
   "metadata": {},
   "outputs": [],
   "source": [
    "path = r\"C:\\Users\\1270816\\Downloads\\test.csv.txt\""
   ]
  },
  {
   "cell_type": "code",
   "execution_count": 81,
   "id": "597309cf",
   "metadata": {},
   "outputs": [],
   "source": [
    "path = \"C:\\\\Users\\\\1270816\\\\Downloads\\\\listings - Copy.csv\""
   ]
  },
  {
   "cell_type": "code",
   "execution_count": 83,
   "id": "14627130",
   "metadata": {},
   "outputs": [],
   "source": [
    "df = pd.read_csv(path)"
   ]
  },
  {
   "cell_type": "code",
   "execution_count": 84,
   "id": "18b415b3",
   "metadata": {},
   "outputs": [
    {
     "data": {
      "text/plain": [
       "(22100, 75)"
      ]
     },
     "execution_count": 84,
     "metadata": {},
     "output_type": "execute_result"
    }
   ],
   "source": [
    "df.shape"
   ]
  },
  {
   "cell_type": "code",
   "execution_count": null,
   "id": "89d99cbe",
   "metadata": {},
   "outputs": [],
   "source": []
  }
 ],
 "metadata": {
  "kernelspec": {
   "display_name": "Python 3 (ipykernel)",
   "language": "python",
   "name": "python3"
  },
  "language_info": {
   "codemirror_mode": {
    "name": "ipython",
    "version": 3
   },
   "file_extension": ".py",
   "mimetype": "text/x-python",
   "name": "python",
   "nbconvert_exporter": "python",
   "pygments_lexer": "ipython3",
   "version": "3.9.15"
  }
 },
 "nbformat": 4,
 "nbformat_minor": 5
}
