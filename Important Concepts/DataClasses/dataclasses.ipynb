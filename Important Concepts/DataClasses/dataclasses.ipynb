{
 "cells": [
  {
   "cell_type": "markdown",
   "metadata": {},
   "source": [
    "# Reduce Boilerplate with Dataclasses\n",
    "https://www.youtube.com/watch?v=2hWR06BVSg8"
   ]
  },
  {
   "cell_type": "code",
   "execution_count": 1,
   "metadata": {},
   "outputs": [],
   "source": [
    "import dataclasses as dc\n",
    "import enum"
   ]
  },
  {
   "cell_type": "code",
   "execution_count": 3,
   "metadata": {},
   "outputs": [],
   "source": [
    "class Gender(enum.Enum):\n",
    "    MALE = enum.auto()\n",
    "    FEMALE = enum.auto()\n",
    "    USER_SPECIFIED = enum.auto()"
   ]
  },
  {
   "cell_type": "code",
   "execution_count": 7,
   "metadata": {},
   "outputs": [],
   "source": [
    "@dc.dataclass()\n",
    "class Profile:\n",
    "    name: str\n",
    "    age: int\n",
    "    gender: Gender = Gender.USER_SPECIFIED\n",
    "    jobs: list[str] = dc.field(default_factory=list)"
   ]
  },
  {
   "cell_type": "code",
   "execution_count": null,
   "metadata": {},
   "outputs": [
    {
     "name": "stdout",
     "output_type": "stream",
     "text": [
      "Profile(name='Anshu', age=48, gender=<Gender.USER_SPECIFIED: 3>, jobs=[])\n"
     ]
    }
   ],
   "source": [
    "profile = Profile('Anshu', 48)\n",
    "print(profile)"
   ]
  }
 ],
 "metadata": {
  "kernelspec": {
   "display_name": "env",
   "language": "python",
   "name": "python3"
  },
  "language_info": {
   "codemirror_mode": {
    "name": "ipython",
    "version": 3
   },
   "file_extension": ".py",
   "mimetype": "text/x-python",
   "name": "python",
   "nbconvert_exporter": "python",
   "pygments_lexer": "ipython3",
   "version": "3.13.0"
  }
 },
 "nbformat": 4,
 "nbformat_minor": 2
}
