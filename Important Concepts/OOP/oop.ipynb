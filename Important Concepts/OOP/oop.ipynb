{
 "cells": [
  {
   "cell_type": "code",
   "execution_count": 23,
   "metadata": {},
   "outputs": [],
   "source": [
    "# youtube.com/watch?v=rLyYb7BFgQI"
   ]
  },
  {
   "cell_type": "code",
   "execution_count": 1,
   "metadata": {},
   "outputs": [],
   "source": [
    "class Microwave:\n",
    "  ..."
   ]
  },
  {
   "cell_type": "code",
   "execution_count": 2,
   "metadata": {},
   "outputs": [
    {
     "name": "stdout",
     "output_type": "stream",
     "text": [
      "<__main__.Microwave object at 0x000002494A9EBF80>\n"
     ]
    }
   ],
   "source": [
    "smeg: Microwave = Microwave()\n",
    "print(smeg)"
   ]
  },
  {
   "cell_type": "code",
   "execution_count": 19,
   "metadata": {},
   "outputs": [],
   "source": [
    "class Microwave:\n",
    "  def __init__(self, brand: str, power_rating: str) -> None:\n",
    "    self.brand = brand.upper()\n",
    "    self.power_rating = power_rating.upper()\n",
    "    self.turned_on = False\n",
    "  \n",
    "  def turn_on(self) -> None:\n",
    "    if self.turned_on:\n",
    "      print(f'Microwave ({self.brand}) is already turned on.')\n",
    "    else:\n",
    "      self.turned_on = True\n",
    "      print(f'Microwave ({self.brand}) is now turned on.')\n",
    "\n",
    "  def turn_off(self) -> None:\n",
    "    if self.turned_on:\n",
    "      self.turned_on = False\n",
    "      print(f'Microwave ({self.brand}) is now turned off.')\n",
    "    else:\n",
    "      print(f'Microwave ({self.brand}) is already turned off.')\n",
    "  \n",
    "  def run(self, seconds: str) -> None:\n",
    "    if self.turned_on:\n",
    "      print(f'Running ({self.brand}) for {seconds} seconds.')\n",
    "    else:\n",
    "      print(f'Microwave ({self.brand}), needs to be turned on first.')\n",
    "  \n",
    "  def __add__(self, other) -> str:\n",
    "    return f'{self.brand}+{other.brand}'\n",
    "  \n",
    "  def __str__(self) -> str:\n",
    "    return f'{self.brand} (Rating:{self.power_rating})'\n",
    "\n",
    "  def __repr__(self) -> str:\n",
    "    return f'Microwave (brand=\"{self.brand}\"), (power_rating=\"{self.power_rating}\")'"
   ]
  },
  {
   "cell_type": "code",
   "execution_count": 20,
   "metadata": {},
   "outputs": [
    {
     "name": "stdout",
     "output_type": "stream",
     "text": [
      "SMEG (Rating:B)\n",
      "SMEG\n",
      "B\n",
      "Microwave (SMEG), needs to be turned on first.\n",
      "Microwave (SMEG) is now turned on.\n",
      "Running (SMEG) for 30 seconds.\n",
      "Microwave (SMEG) is already turned on.\n",
      "Microwave (SMEG) is now turned off.\n",
      "Microwave (SMEG) is already turned off.\n",
      "Microwave (SMEG), needs to be turned on first.\n"
     ]
    }
   ],
   "source": [
    "smeg: Microwave = Microwave('SMEG', 'B')\n",
    "print(smeg)\n",
    "print(smeg.brand)\n",
    "print(smeg.power_rating)\n",
    "\n",
    "smeg.run(30)\n",
    "smeg.turn_on()\n",
    "smeg.run(30)\n",
    "smeg.turn_on()\n",
    "smeg.turn_off()\n",
    "smeg.turn_off()\n",
    "smeg.run(30)"
   ]
  },
  {
   "cell_type": "code",
   "execution_count": 21,
   "metadata": {},
   "outputs": [
    {
     "name": "stdout",
     "output_type": "stream",
     "text": [
      "SMEG+BOSCH\n"
     ]
    }
   ],
   "source": [
    "bosch: Microwave = Microwave('bosch', 'C')\n",
    "print(smeg+bosch)"
   ]
  },
  {
   "cell_type": "code",
   "execution_count": 22,
   "metadata": {},
   "outputs": [
    {
     "name": "stdout",
     "output_type": "stream",
     "text": [
      "SMEG (Rating:B)\n",
      "Microwave (brand=\"SMEG\"), (power_rating=\"B\")\n"
     ]
    }
   ],
   "source": [
    "print(smeg)\n",
    "print(repr(smeg))"
   ]
  },
  {
   "cell_type": "code",
   "execution_count": null,
   "metadata": {},
   "outputs": [],
   "source": []
  }
 ],
 "metadata": {
  "kernelspec": {
   "display_name": "env",
   "language": "python",
   "name": "python3"
  },
  "language_info": {
   "codemirror_mode": {
    "name": "ipython",
    "version": 3
   },
   "file_extension": ".py",
   "mimetype": "text/x-python",
   "name": "python",
   "nbconvert_exporter": "python",
   "pygments_lexer": "ipython3",
   "version": "3.12.6"
  }
 },
 "nbformat": 4,
 "nbformat_minor": 2
}
